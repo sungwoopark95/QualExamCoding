{
 "cells": [
  {
   "cell_type": "markdown",
   "id": "2682ff7b",
   "metadata": {},
   "source": [
    "## 주의: jupyter로는 scanf나 cin 안 됨"
   ]
  },
  {
   "cell_type": "markdown",
   "id": "1c18c3ea",
   "metadata": {},
   "source": [
    "# 1. Basic (input가능: scanf사용)"
   ]
  },
  {
   "cell_type": "markdown",
   "id": "16fed171",
   "metadata": {},
   "source": [
    "### 1) 가이드라인에 따라 프로그램 P1을 작성\n",
    "1. P1을 실행하면 “Enter any natural number:”라는 문구가 출력\n",
    "2. 사용자로부터 임의의 자연수를 입력받음\n",
    "3. 이 자연수가 3으로 나누어 떨어지면 1을 출력하고, 나누어 떨어지지 않으면 0을 출력"
   ]
  },
  {
   "cell_type": "code",
   "execution_count": 1,
   "id": "141aad06",
   "metadata": {},
   "outputs": [
    {
     "name": "stdout",
     "output_type": "stream",
     "text": [
      "Enter any natural number:ans:0"
     ]
    }
   ],
   "source": [
    "// gcc input_P1.c -o input_P1\n",
    "\n",
    "#include <stdio.h>\n",
    "\n",
    "int main(void){\n",
    "    int num;\n",
    "    int ans;\n",
    "\n",
    "    printf(\"Enter any natural number:\");\n",
    "    // scanf로 input받아서 사용하기\n",
    "    scanf(\"%d\", &num);\n",
    "\n",
    "    if (num % 3 == 0)\n",
    "        ans = 1;\n",
    "    else\n",
    "        ans = 0;\n",
    "    printf(\"ans:%d\\n\", ans);\n",
    "\n",
    "}"
   ]
  },
  {
   "cell_type": "markdown",
   "id": "f8257c27",
   "metadata": {},
   "source": [
    "### 2) \n",
    "1. P2를 실행하면 “Enter any alphabet:”이라는 문구가 출력된다.\n",
    "2. 사용자로부터 임의의 영어 알파벳 한 개(소문자, 대문자 모두 포함)를 입력받는다.\n",
    "3. 해당 알파벳으로부터 대문자 A까지 내림차순으로 모든 character(알파벳 아닌 글자도 포함)를 출력한다. 내림차순의 기준은 ASCII 코드표 순서이다.\n"
   ]
  },
  {
   "cell_type": "code",
   "execution_count": 4,
   "id": "3e851bc5",
   "metadata": {},
   "outputs": [
    {
     "name": "stdout",
     "output_type": "stream",
     "text": [
      "Enter any alphabet:\n"
     ]
    }
   ],
   "source": [
    "#include <stdio.h>\n",
    "#include <stdlib.h>\n",
    "\n",
    "int main(void){\n",
    "    char letter;\n",
    "\n",
    "    printf(\"Enter any alphabet:\");\n",
    "    // char은 %c로 받고 string은 %s로 받아야 함\n",
    "    scanf(\"%c\", &letter);\n",
    "\n",
    "    // C에서는 ASCII code보려면 (int)'chr'로 해야함\n",
    "    // A (65)까지 출력하기\n",
    "    for(int i = (int)letter; i >= 65; i--)\n",
    "        printf(\"%c\", (char)i);\n",
    "    \n",
    "    // 최종엔 줄바꿈해서 마무리\n",
    "    printf(\"\\n\");\n",
    "\n",
    "    return 0;\n",
    "}"
   ]
  },
  {
   "cell_type": "markdown",
   "id": "b45ce852",
   "metadata": {},
   "source": [
    "### 3) Fibonacci sequence\n",
    "함수 옆에 바로 input 받을 때 사용함: argc, char*argv[]"
   ]
  },
  {
   "cell_type": "code",
   "execution_count": 6,
   "id": "17c0335e",
   "metadata": {},
   "outputs": [
    {
     "name": "stdout",
     "output_type": "stream",
     "text": [
      "No argument provided.\n"
     ]
    }
   ],
   "source": [
    "#include <stdio.h>\n",
    "#include <stdlib.h> //for atoi()\n",
    "// fibonacci sequence = f(n) = f(n-1) + f(n-2)\n",
    "int f(int n); //함수 선언\n",
    "\n",
    "// 함수 옆에 바로 input 받을 때 사용함\n",
    "int main(int argc, char* argv[]){\n",
    "    if (argc > 1) { //argv[1]부터 받은 input이 시작됨\n",
    "        int n = atoi(argv[1]); //문자열로 받은 걸 정수로 변환\n",
    "        printf(\"%d\\n\", f(n));\n",
    "    }\n",
    "    else {\n",
    "        printf(\"No argument provided.\\n\");\n",
    "    }\n",
    "    return 0;\n",
    "}\n",
    "\n",
    "int f(int n){\n",
    "    if(n == 1 || n == 0)\n",
    "        return 1;\n",
    "    return f(n-1) + f(n-2); //recursive function\n",
    "}"
   ]
  },
  {
   "cell_type": "markdown",
   "id": "72664b2f",
   "metadata": {},
   "source": [
    "# 2. String처리 (4진수 변환) + 동적메모리할당"
   ]
  },
  {
   "cell_type": "markdown",
   "id": "4c530207",
   "metadata": {},
   "source": [
    "### 4) 임의의 자연수를 argument로 입력 받아 4진수로 변환하고, 변환된 4진수를 Return하는 base_four 함수"
   ]
  },
  {
   "cell_type": "code",
   "execution_count": null,
   "id": "c748d170",
   "metadata": {},
   "outputs": [],
   "source": [
    "#include <stdio.h>\n",
    "#include <stdlib.h>\n",
    "#include <string.h>\n",
    "\n",
    "void reverseString(char* str);\n",
    "\n",
    "int main(int argc, char* argv[]){\n",
    "    int m;\n",
    "    int remainder;\n",
    "    int size=2; //초기 크기 할당 (최소 크기 char+null = 2)\n",
    "    char* bit = (char*) malloc(size * sizeof(char)); //char 동적할당으로 string만들기\n",
    "    int idx = 0;\n",
    "\n",
    "    if (argc > 1){\n",
    "        int n = atoi(argv[1]); //input받은 문자열 정수로 변환\n",
    "        m = n;\n",
    "        while (m >= 4){\n",
    "            // 마지막 위치에 왔는지 확인 (문자열은 0에서 시작하기 때문)\n",
    "            // idx는 현재까지 저장된 bit 문자의 개수\n",
    "            if(idx == size-1){\n",
    "                size *= 2;\n",
    "                // bit가 새로운 메모리 주소 가르킴\n",
    "                bit = realloc(bit, size); //realloc은 할당된 메모리의 크기 재조정할 때 사용\n",
    "            }\n",
    "            remainder = m % 4;\n",
    "            bit[idx] = '0'+remainder; // ASCII 코드를 이용하여 숫자를 문자로 변환\n",
    "            m =  m / 4;\n",
    "            idx++;\n",
    "        }\n",
    "        bit[idx] = '0'+m;\n",
    "        bit[idx+1] = '\\0'; //문자열 종료\n",
    "    }\n",
    "\n",
    "    reverseString(bit); //문자열인 bit 뒤집기\n",
    "    printf(\"%s\\n\", bit);\n",
    "\n",
    "    free(bit); //동적으로 할당된 메모리 해제\n",
    "    return 0;\n",
    "}\n",
    "\n",
    "void reverseString(char* str) {\n",
    "    int length = strlen(str);\n",
    "    for (int i = 0; i < length/2; i++){\n",
    "        char temp = str[i];\n",
    "        str[i] = str[length -1 -i];\n",
    "        str[length -1 -i] = temp;\n",
    "    }\n",
    "}"
   ]
  },
  {
   "cell_type": "markdown",
   "id": "b57a6c5d",
   "metadata": {},
   "source": [
    "output을 string으로 print하는 것이 아닌 int인 숫자로 print하기"
   ]
  },
  {
   "cell_type": "code",
   "execution_count": null,
   "id": "9ef6a525",
   "metadata": {},
   "outputs": [],
   "source": [
    "#include <stdio.h>\n",
    "#include <stdlib.h>\n",
    "#include <string.h>\n",
    "\n",
    "void reverseString(char* str);\n",
    "int strToint(char* str);\n",
    "\n",
    "int main(int argc, char* argv[]){\n",
    "    int m;\n",
    "    int remainder;\n",
    "    int size = 2;\n",
    "    char* bit = (char*) malloc(size * sizeof(char));\n",
    "    int idx = 0;\n",
    "\n",
    "    if (argc > 1) {\n",
    "        int n = atoi(argv[1]);\n",
    "        m = n;\n",
    "        while (m >= 4) {\n",
    "            if (idx == size - 1) {\n",
    "                size *= 2;\n",
    "                bit = realloc(bit, size);\n",
    "            }\n",
    "            remainder = m % 4;\n",
    "            bit[idx] = '0' + remainder; // ASCII 문자로 변환\n",
    "            m /= 4;\n",
    "            idx++;\n",
    "        }\n",
    "        bit[idx] = '0' + m; // 마지막 수 처리 (문자열로 넣기)\n",
    "        bit[idx + 1] = '\\0'; // 문자열 종료\n",
    "    }\n",
    "\n",
    "    reverseString(bit); //문자열 뒤집기\n",
    "    int num = strToint(bit); //문자열 숫자로 변환\n",
    "    printf(\"%d\\n\", num); //숫자 출력\n",
    "\n",
    "    free(bit); //메모리 해제\n",
    "    return 0;\n",
    "}\n",
    "\n",
    "void reverseString(char* str) {\n",
    "    int length = strlen(str);\n",
    "    for (int i = 0; i < length/2; i++){\n",
    "        char temp = str[i];\n",
    "        str[i] = str[length - 1 - i];\n",
    "        str[length - 1 - i] = temp;\n",
    "    }\n",
    "}\n",
    "\n",
    "int strToint(char* str) {\n",
    "//     /*\n",
    "//     자세히 설명하자면, 문자열 \"1234\"에는 실제로 문자 '1', '2', '3', '4'가 들어있습니다. 각 문자는 ASCII 코드 값에 해당하는 정수로 표현될 수 있습니다. 예를 들면, ASCII에서 '0'은 48에 해당합니다. 따라서, '1'은 49, '2'는 50이 됩니다.\n",
    "\n",
    "//     그렇기 때문에 '1' - '0' 연산을 수행하면, 49(ASCII '1'의 값) - 48(ASCII '0'의 값) = 1의 결과가 나옵니다. 이런 원리로 각 문자를 해당하는 10진수 정수로 변환합니다.\n",
    "\n",
    "//     strToBase4 함수의 동작 원리를 살펴보면:\n",
    "\n",
    "//     문자열 \"1234\"를 순회하면서 각 문자를 순차적으로 방문합니다.\n",
    "//     base4 변수는 초기에 0으로 설정되어 있습니다.\n",
    "//     첫 번째 순회에서 '1'을 처리할 때, base4 = 0 * 10 + (49 - 48) = 1로 설정됩니다.\n",
    "//     두 번째 순회에서 '2'를 처리할 때, base4 = 1 * 10 + (50 - 48) = 12로 설정됩니다.\n",
    "//     세 번째와 네 번째 순회도 마찬가지 방식으로 동작하므로, 함수의 마지막에 base4 값은 1234가 됩니다.\n",
    "//     */\n",
    "    int num = 0;\n",
    "    for (int i = 0; i < strlen(str); i++) {\n",
    "        num = num * 10 + (str[i] - '0');\n",
    "    }\n",
    "    return num;\n",
    "}"
   ]
  },
  {
   "cell_type": "markdown",
   "id": "2cd5fdc2",
   "metadata": {},
   "source": [
    "# 3. String"
   ]
  },
  {
   "cell_type": "markdown",
   "id": "a026009f",
   "metadata": {},
   "source": [
    "### 1) string array\n",
    "0 이상 3 이하의 4개의 정수 i, j, k, l을 입력 받아 string array의 i번째 element의 0번째 character, j번째 element의 1번째 character, k번째 element의 2번째 character, l번째 element의 3번째 character를 출력하는 함수"
   ]
  },
  {
   "cell_type": "code",
   "execution_count": null,
   "id": "54d13c43",
   "metadata": {},
   "outputs": [],
   "source": [
    "#include <stdio.h>\n",
    "#include <stdlib.h>\n",
    "\n",
    "int main(int argc, char* argv[]){\n",
    "\n",
    "// 입력받은 input이 4개보다 적을때 경고메시지\n",
    "  if (argc < 4){\n",
    "    printf(\"Please input at least 4 integers\\n\");\n",
    "  }\n",
    "\n",
    "  int i = atoi(argv[1]);\n",
    "  int j = atoi(argv[2]);\n",
    "  int k = atoi(argv[3]);\n",
    "  int l = atoi(argv[4]);\n",
    "\n",
    "  char *alphabet[] = {\"ABCD\", \"EFGH\", \"IJKL\", \"MNOP\"};  \n",
    "\n",
    "  char a, b, c, d;\n",
    "    \n",
    "  /* Write your code here */\n",
    "  a = alphabet[i][0];\n",
    "  b = alphabet[j][1];\n",
    "  c = alphabet[k][2];\n",
    "  d = alphabet[l][3];\n",
    "\n",
    "  /*do not modify below*/\n",
    "\n",
    "  printf(\"%c%c%c%c\\n\", a,b,c,d);\n",
    "  return 0;\n",
    "}"
   ]
  },
  {
   "cell_type": "code",
   "execution_count": null,
   "id": "2158375e",
   "metadata": {},
   "outputs": [],
   "source": []
  }
 ],
 "metadata": {
  "kernelspec": {
   "display_name": "C",
   "language": "c",
   "name": "c"
  },
  "language_info": {
   "file_extension": ".c",
   "mimetype": "text/plain",
   "name": "c"
  }
 },
 "nbformat": 4,
 "nbformat_minor": 5
}
