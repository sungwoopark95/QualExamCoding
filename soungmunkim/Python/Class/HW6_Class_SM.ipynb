{
 "cells": [
  {
   "cell_type": "markdown",
   "id": "882bf438",
   "metadata": {},
   "source": [
    "### 1) 국가명(name), 인구 수(population), 면적(area)을 인자(parameter)로 받는 Country 클래스를 구현\n",
    "1. __init__메소드를 사용하여 3개의 인자(name, population, area)를 가진 Country 클래스를 정의\n",
    "2. Country 클래스의 메소드인 is_larger를 정의: 첫번째 국가가 두번째 국가에비해 더 큰 면적을 지녔을때에만 True를 반환\n",
    "3. Country 클래스의 메소드인 population_density를 정의: 국가의 인구 밀도 (면적 당 인구 수)를 반환하는 메소드\n"
   ]
  },
  {
   "cell_type": "code",
   "execution_count": 4,
   "id": "3e909e14",
   "metadata": {},
   "outputs": [],
   "source": [
    "class Country:\n",
    "    def __init__(self, name:str, population:int, area:int) -> None:\n",
    "        self.name = name\n",
    "        self.population = population\n",
    "        self.area = area\n",
    "    def is_larger(self, other):\n",
    "        if self.area > other.area:\n",
    "            return True\n",
    "        else:\n",
    "            return False\n",
    "    def population_density(self):\n",
    "        self.population_density = self.population / self.area\n",
    "        return self.population_density\n",
    "        "
   ]
  },
  {
   "cell_type": "code",
   "execution_count": 5,
   "id": "538dacc3",
   "metadata": {},
   "outputs": [
    {
     "data": {
      "text/plain": [
       "'Canada'"
      ]
     },
     "execution_count": 5,
     "metadata": {},
     "output_type": "execute_result"
    }
   ],
   "source": [
    "canada = Country('Canada', 34482779, 9984670)\n",
    "canada.name"
   ]
  },
  {
   "cell_type": "code",
   "execution_count": 6,
   "id": "349cfd97",
   "metadata": {},
   "outputs": [
    {
     "data": {
      "text/plain": [
       "34482779"
      ]
     },
     "execution_count": 6,
     "metadata": {},
     "output_type": "execute_result"
    }
   ],
   "source": [
    "canada.population"
   ]
  },
  {
   "cell_type": "code",
   "execution_count": 7,
   "id": "49a89ce8",
   "metadata": {},
   "outputs": [
    {
     "data": {
      "text/plain": [
       "9984670"
      ]
     },
     "execution_count": 7,
     "metadata": {},
     "output_type": "execute_result"
    }
   ],
   "source": [
    "canada.area"
   ]
  },
  {
   "cell_type": "code",
   "execution_count": 10,
   "id": "82821ff7",
   "metadata": {},
   "outputs": [
    {
     "data": {
      "text/plain": [
       "True"
      ]
     },
     "execution_count": 10,
     "metadata": {},
     "output_type": "execute_result"
    }
   ],
   "source": [
    "canada = Country('Canada', 34482779, 9984670)\n",
    "usa = Country('United States of America', 313914040, 9826675)\n",
    "canada.is_larger(usa)"
   ]
  },
  {
   "cell_type": "code",
   "execution_count": 11,
   "id": "00ffb725",
   "metadata": {},
   "outputs": [
    {
     "data": {
      "text/plain": [
       "3.4535722262227995"
      ]
     },
     "execution_count": 11,
     "metadata": {},
     "output_type": "execute_result"
    }
   ],
   "source": [
    "canada.population_density()"
   ]
  },
  {
   "cell_type": "markdown",
   "id": "ce461ebb",
   "metadata": {},
   "source": [
    "### 2) 대륙명(name), 국가 리스트(countries)를 인자로 받는 Continent 클래스를 구현\n",
    "1. Continent 클래스는 위에서 구현한 Country 클래스를 사용 (countries는 Country class의 객체들로 이루어진 list)\n",
    "2. 2개의 인자(name, countries)를 가진 Country 클래스를 정의\n",
    "3. total_poulation 메소드는 대륙에 속한 국가들의 인구의 합을 반환\n"
   ]
  },
  {
   "cell_type": "code",
   "execution_count": 13,
   "id": "30fa1ae9",
   "metadata": {},
   "outputs": [],
   "source": [
    "#from P1 import Country # Do Not Modify\n",
    "class Continent(Country):\n",
    "    def __init__(self, name: str, countries: list) -> None:\n",
    "        self.name = name\n",
    "        self.countries = countries\n",
    "    def total_population(self):\n",
    "        ans = 0\n",
    "        for country in self.countries:\n",
    "            ans += country.population\n",
    "        return ans"
   ]
  },
  {
   "cell_type": "code",
   "execution_count": 16,
   "id": "91c449c3",
   "metadata": {},
   "outputs": [
    {
     "data": {
      "text/plain": [
       "'North America'"
      ]
     },
     "execution_count": 16,
     "metadata": {},
     "output_type": "execute_result"
    }
   ],
   "source": [
    "# from P1 import Country\n",
    "# from P2 import Continent\n",
    "\n",
    "canada =Country('Canada', 34482779, 9984670)\n",
    "usa = Country('United States of America', 313914040, 9826675) \n",
    "mexico = Country('Mexico', 112336538, 1943950)\n",
    "countries = [canada, usa, mexico]\n",
    "north_america = Continent('North America', countries)\n",
    "north_america.name"
   ]
  },
  {
   "cell_type": "code",
   "execution_count": 17,
   "id": "92f5d4c6",
   "metadata": {},
   "outputs": [
    {
     "data": {
      "text/plain": [
       "460733357"
      ]
     },
     "execution_count": 17,
     "metadata": {},
     "output_type": "execute_result"
    }
   ],
   "source": [
    "north_america.total_population()"
   ]
  },
  {
   "cell_type": "markdown",
   "id": "31ec47e5",
   "metadata": {},
   "source": [
    "### 3) LineSegment 클래스의 method인 slope method와 length method를 구현\n",
    "1. Point 클래스는 x좌표와 y좌표를 입력받음\n",
    "2. LineSegment 클래스는 2개의 Point를 입력받음 (시작점, 끝점)"
   ]
  },
  {
   "cell_type": "code",
   "execution_count": 18,
   "id": "bd59b1b9",
   "metadata": {},
   "outputs": [],
   "source": [
    "class Point:\n",
    "    def __init__(self, x: int, y: int) -> None:\n",
    "        self.x = x\n",
    "        self.y = y\n",
    "class LineSegment:\n",
    "    def __init__(self, point1: Point, point2: Point) -> None:\n",
    "        \"\"\"(LineSegment,Point,Point)->NoneType\n",
    "        A new LineSegment connecting point1 to point2 >>> p1=Point(1,3)\n",
    "        >>> p2=Point(3,2)\n",
    "        >>> segment=LineSegment(p1,p2)\n",
    "        >>> segment.startpoint==p1\n",
    "        True\n",
    "        >>> segment.endpoint==p2\n",
    "        True\n",
    "        \"\"\"\n",
    "        self.startpoint = point1\n",
    "        self.endpoint = point2\n",
    "        \n",
    "    def slope(self):\n",
    "        slope = (self.endpoint.y - self.startpoint.y) / (self.endpoint.x - self.startpoint.x)\n",
    "        return slope\n",
    "    \n",
    "    def length(self):\n",
    "        import math\n",
    "        length = math.sqrt((self.endpoint.x-self.startpoint.x)**2 + (self.endpoint.y-self.startpoint.y)**2)\n",
    "        return length\n",
    "        "
   ]
  },
  {
   "cell_type": "code",
   "execution_count": 19,
   "id": "4cea1db7",
   "metadata": {},
   "outputs": [
    {
     "data": {
      "text/plain": [
       "0.5"
      ]
     },
     "execution_count": 19,
     "metadata": {},
     "output_type": "execute_result"
    }
   ],
   "source": [
    "segment = LineSegment(Point(1,1), Point(3,2))\n",
    "segment.slope()"
   ]
  },
  {
   "cell_type": "code",
   "execution_count": 20,
   "id": "ce91071f",
   "metadata": {},
   "outputs": [
    {
     "data": {
      "text/plain": [
       "2.23606797749979"
      ]
     },
     "execution_count": 20,
     "metadata": {},
     "output_type": "execute_result"
    }
   ],
   "source": [
    "segment.length()"
   ]
  },
  {
   "cell_type": "markdown",
   "id": "25d912b2",
   "metadata": {},
   "source": [
    "### 4) 기본 계산기처럼 동작을 하는 Calculator 클래스를 구현"
   ]
  },
  {
   "cell_type": "code",
   "execution_count": 33,
   "id": "b1fd0651",
   "metadata": {},
   "outputs": [],
   "source": [
    "class Calculator:\n",
    "    def __init__(self):\n",
    "        # 숫자 기록\n",
    "        self.num = '0'\n",
    "        self.is_num = True\n",
    "        self.op = '+'\n",
    "        self.result = 0\n",
    "    \n",
    "    def digit(self, num):\n",
    "        # 연속으로 숫자 누르면 123 이렇게 저장되어야 해서\n",
    "        self.num += str(num)\n",
    "        self.is_num = True\n",
    "    \n",
    "    def plus(self):\n",
    "        # 기호 전에 숫자라면 해당 기호 반영해서 계산하기 \n",
    "        if self.is_num == True:\n",
    "            if self.op == '+':\n",
    "                self.result += int(self.num)\n",
    "            else:\n",
    "                self.result -= int(self.num)\n",
    "            # 반영 후 다시 숫자 reset\n",
    "            self.num = '0'\n",
    "        self.op = '+'\n",
    "        self.is_num = False\n",
    "    \n",
    "    def minus(self):\n",
    "        if self.is_num == True:\n",
    "            if self.op == '-':\n",
    "                self.result -= int(self.num)\n",
    "            else:\n",
    "                self.result += int(self.num)\n",
    "            # 반영 후 다시 숫자 reset\n",
    "            self.num = '0'\n",
    "        self.op = '-'\n",
    "        self.is_num = False\n",
    "    \n",
    "    def clear(self):\n",
    "        self.num = '0'\n",
    "        self.is_num = True\n",
    "        self.op = '+'\n",
    "        self.result = 0\n",
    "    \n",
    "    def equal(self):\n",
    "        if self.op == '+':\n",
    "            self.result += int(self.num)\n",
    "        else:\n",
    "            self.result -= int(self.num)\n",
    "        return self.result"
   ]
  },
  {
   "cell_type": "code",
   "execution_count": 34,
   "id": "9ad3457d",
   "metadata": {},
   "outputs": [
    {
     "data": {
      "text/plain": [
       "-200"
      ]
     },
     "execution_count": 34,
     "metadata": {},
     "output_type": "execute_result"
    }
   ],
   "source": [
    "c = Calculator() \n",
    "c.digit(1) \n",
    "c.digit(2) #12, self.is_num=True, self.op= +', self.result=0\n",
    "c.plus() # self.result = 12, self.num='0', self.op='+', self.is_num=False\n",
    "c.minus() # 전에 기호였기 때문에 패스, self.op='-', self.is_num=False, self.result=12\n",
    "c.digit(3) \n",
    "c.digit(1) \n",
    "c.digit(2) #312, self.is_num=True, self.op='-', self.result=12\n",
    "#기호누를 때 이전 마지막 기호가 반영됨 (마치 -300처럼 숫자 앞에 기호가 붙는 느낌)\n",
    "c.plus() # self.result=-300, self.is_num=False, self.num='0', self.op='-'\n",
    "c.minus() # self.result=-300, self.is_num=False, self.op='-'\n",
    "c.minus() # self.result=-300, self.is_num=False, self.op='-'\n",
    "c.plus() # self.result=-300, self.is_num=False, self.op='+'\n",
    "c.digit(0) \n",
    "c.digit(0) \n",
    "c.digit(1) \n",
    "c.digit(0) \n",
    "c.digit(0) #100, self.is_num=True, self.op='+', self.result=-300\n",
    "c.equal() # self.op='+', self.result=-200"
   ]
  },
  {
   "cell_type": "code",
   "execution_count": 36,
   "id": "b7344f81",
   "metadata": {},
   "outputs": [
    {
     "data": {
      "text/plain": [
       "0"
      ]
     },
     "execution_count": 36,
     "metadata": {},
     "output_type": "execute_result"
    }
   ],
   "source": [
    "c = Calculator() \n",
    "c.equal()"
   ]
  },
  {
   "cell_type": "markdown",
   "id": "8db32b08",
   "metadata": {},
   "source": [
    "## 5) Excel Spreadsheet 구현하기"
   ]
  },
  {
   "cell_type": "markdown",
   "id": "30ee350b",
   "metadata": {},
   "source": [
    "<img src=\"/Users/soungmunkim/Desktop/Coding/QualExamCoding/soungmunkim/Computing_Foundation_HWs/JupyterNotebook/스크린샷 2023-08-16 오후 11.48.39.png\">"
   ]
  },
  {
   "cell_type": "markdown",
   "id": "315230a4",
   "metadata": {},
   "source": [
    "<img src=\"/Users/soungmunkim/Desktop/Coding/QualExamCoding/soungmunkim/Computing_Foundation_HWs/JupyterNotebook/screenshots/스크린샷 2023-08-16 오후 11.48.52.png\">"
   ]
  },
  {
   "cell_type": "code",
   "execution_count": 2,
   "id": "9b65f427",
   "metadata": {},
   "outputs": [],
   "source": [
    "class Spreadsheet:\n",
    "    def __init__(self):\n",
    "        self.index = {'A':0, 'B':1, 'C':2, 'D':3, 'E':4, 'F':5, 'G':6, 'H':7, 'I':8, 'J':9}\n",
    "        self.matrix = [[None for _ in range(10)] for _ in range(10)]\n",
    "        \n",
    "        \"\"\"\n",
    "        self.matrix_ = []\n",
    "        for _ in range(10):\n",
    "            self.row = []\n",
    "            for _ in range(10):\n",
    "                self.row.append(None)\n",
    "            self.matrix_.append(self.row)\n",
    "        \"\"\"\n",
    "        \n",
    "    def __str__(self):\n",
    "        # 각 셀의 최대 너비를 찾습니다.\n",
    "        max_width = 0\n",
    "        for row in self.matrix:\n",
    "            for cell in row:\n",
    "                # 현재 셀의 너비를 계산합니다.\n",
    "                if cell is not None:\n",
    "                    cell_width = len(str(cell))\n",
    "                    # 현재 셀의 너비가 지금까지 찾은 최대 너비보다 크다면 업데이트합니다.\n",
    "                    if cell_width > max_width:\n",
    "                        max_width = cell_width\n",
    "\n",
    "        # 테이블 초기화\n",
    "        table = \"\"\n",
    "        \n",
    "        for i in range(len(self.matrix)):\n",
    "            for j in range(len(self.matrix[i])):\n",
    "                if self.matrix[i][j] == None:  # None일 때 빈칸 + , 로 print\n",
    "                    table += ' ' * max_width + \" , \"\n",
    "                else:  # value가 있다면 string 처리해서 , 붙이기 (가운데 정렬하기 center()) \n",
    "                    # 오른쪽으로 정렬하고 싶으면 rjust()\n",
    "                    table += str(self.matrix[i][j]).ljust(max_width) + \" , \"\n",
    "            table += \"\\n\"  # row 끝나면 다음 col로 넘어가기\n",
    "        return table\n",
    "    \n",
    "    def set_value(self, idx: str, value):\n",
    "        if isinstance(idx, str):\n",
    "            # A1 처럼 2 char이 들어온 게 아니라면 error\n",
    "            if len(idx) != 2:\n",
    "                raise IndexError(\"Invalid Index\")\n",
    "        \n",
    "        \n",
    "            # column: 알파벳, row: 정수\n",
    "            j, i = idx\n",
    "            i = int(i)\n",
    "            \n",
    "            # 들어온 알파벳이 index dictionary에 없다면 error\n",
    "            if j not in self.index:\n",
    "                raise IndexError(\"Invalid Index\")\n",
    "            else:\n",
    "                # 해당 알파벳 key의 value 가져오기\n",
    "                j_idx = self.index.get(j)\n",
    "            # 들어온 정수가 0-9가 아니라면 error (들어오는 정수가 1-10이니까)\n",
    "            if i-1 < 0 and i-1 > 9:\n",
    "                raise IndexError(\"Invalid Index\")\n",
    "            \n",
    "            # int, bool, string일 때 해당 index에 value 넣기\n",
    "            if (isinstance(value, str) or isinstance(value, int) or isinstance(value, bool)):\n",
    "                self.matrix[i-1][j_idx] = value\n",
    "            else:\n",
    "                raise TypeError(\"Value must be string, boolen, or interger.\")\n",
    "        else:\n",
    "            # index가 string이 아니라면 error\n",
    "            raise TypeError('Index only accepts string.')\n",
    "        \n",
    "    def get_value(self, idx:str):\n",
    "            if isinstance(idx, str):\n",
    "                # A1 처럼 2 char이 들어온 게 아니라면 error\n",
    "                if len(idx) != 2:\n",
    "                    raise IndexError(\"Invalid Index\")\n",
    "            \n",
    "                # column: 알파벳, row: 정수\n",
    "                j, i = idx\n",
    "                i = int(i)\n",
    "                \n",
    "                # 들어온 알파벳이 index dictionary에 없다면 error\n",
    "                if j not in self.index:\n",
    "                    raise IndexError(\"Invalid Index\")\n",
    "                else:\n",
    "                    j_idx = self.index.get(j)\n",
    "                # 들어온 정수가 0-9가 아니라면 error (들어오는 정수가 1-10이니까)\n",
    "                if i-1 < 0 and i-1 > 9:\n",
    "                    raise IndexError(\"Invalid Index\")\n",
    "            else:\n",
    "                # index가 string이 아니라면 error\n",
    "                raise TypeError('Index only accepts string.')\n",
    "            \n",
    "            return self.matrix[i-1][j_idx]"
   ]
  },
  {
   "cell_type": "code",
   "execution_count": 3,
   "id": "5c78ea1a",
   "metadata": {},
   "outputs": [],
   "source": [
    "sheet1 = Spreadsheet()"
   ]
  },
  {
   "cell_type": "code",
   "execution_count": 4,
   "id": "e3bed482",
   "metadata": {},
   "outputs": [
    {
     "name": "stdout",
     "output_type": "stream",
     "text": [
      "      ,       , True  ,       ,       ,       ,       ,       ,       ,       , \n",
      "      ,       ,       ,       ,       ,       ,       ,       ,       ,       , \n",
      "5     ,       ,       ,       ,       ,       ,       ,       ,       ,       , \n",
      "      ,       ,       ,       ,       ,       ,       ,       ,       ,       , \n",
      "      ,       ,       ,       ,       , hello ,       ,       ,       ,       , \n",
      "      ,       ,       ,       ,       ,       ,       ,       ,       ,       , \n",
      "      ,       ,       ,       ,       ,       ,       ,       ,       ,       , \n",
      "      ,       ,       ,       ,       ,       ,       ,       ,       ,       , \n",
      "      ,       ,       ,       ,       ,       ,       ,       ,       ,       , \n",
      "      ,       ,       ,       ,       ,       ,       ,       ,       ,       , \n",
      "\n"
     ]
    }
   ],
   "source": [
    "sheet1 = Spreadsheet()\n",
    "sheet1.set_value(\"A3\", 5)\n",
    "sheet1.set_value(\"C1\", True)\n",
    "sheet1.set_value(\"F5\", 'hello')\n",
    "print(sheet1)"
   ]
  },
  {
   "cell_type": "code",
   "execution_count": 5,
   "id": "76236083",
   "metadata": {},
   "outputs": [
    {
     "name": "stdout",
     "output_type": "stream",
     "text": [
      "      ,       , world ,       ,       ,       ,       ,       ,       ,       , \n",
      "      ,       ,       ,       ,       ,       ,       ,       ,       ,       , \n",
      "5     ,       ,       ,       ,       ,       ,       ,       ,       ,       , \n",
      "      ,       ,       ,       ,       ,       ,       ,       ,       ,       , \n",
      "      ,       ,       ,       ,       , hello ,       ,       ,       ,       , \n",
      "      ,       ,       ,       ,       ,       ,       ,       ,       ,       , \n",
      "      ,       ,       ,       ,       ,       ,       ,       ,       ,       , \n",
      "      ,       ,       ,       ,       ,       ,       ,       ,       ,       , \n",
      "      ,       ,       ,       ,       ,       ,       ,       ,       ,       , \n",
      "      ,       ,       ,       ,       ,       ,       ,       ,       ,       , \n",
      "\n"
     ]
    }
   ],
   "source": [
    "sheet1.set_value(\"C1\", \"world\")\n",
    "print(sheet1)"
   ]
  },
  {
   "cell_type": "code",
   "execution_count": 6,
   "id": "ff8d5057",
   "metadata": {},
   "outputs": [
    {
     "data": {
      "text/plain": [
       "'world'"
      ]
     },
     "execution_count": 6,
     "metadata": {},
     "output_type": "execute_result"
    }
   ],
   "source": [
    "sheet1.get_value(\"C1\")"
   ]
  },
  {
   "cell_type": "code",
   "execution_count": 7,
   "id": "2ae4fdd8",
   "metadata": {},
   "outputs": [
    {
     "name": "stdout",
     "output_type": "stream",
     "text": [
      "Invalid index\n"
     ]
    }
   ],
   "source": [
    "try:\n",
    "    sheet1.get_value(\"A4C\")\n",
    "except IndexError:\n",
    "    print(\"Invalid index\")\n"
   ]
  },
  {
   "cell_type": "code",
   "execution_count": 8,
   "id": "4c88c157",
   "metadata": {},
   "outputs": [],
   "source": [
    "sheet2 = Spreadsheet()\n",
    "sheet2.get_value(\"A3\")"
   ]
  },
  {
   "cell_type": "markdown",
   "id": "e9664268",
   "metadata": {},
   "source": [
    "#### 5-1) 저장 가능한 spreadsheet"
   ]
  },
  {
   "cell_type": "markdown",
   "id": "e92b998b",
   "metadata": {},
   "source": [
    "<img src=\"/Users/soungmunkim/Desktop/Coding/QualExamCoding/soungmunkim/Computing_Foundation_HWs/JupyterNotebook/screenshots/스크린샷 2023-08-17 오후 2.02.16.png\">"
   ]
  },
  {
   "cell_type": "code",
   "execution_count": 9,
   "id": "3d8c15d2",
   "metadata": {},
   "outputs": [],
   "source": [
    "class PermanentSpreadsheet(Spreadsheet):\n",
    "    def export_sheet(self, filename):\n",
    "        # filename이 문자열이 아닌 경우 TypeError를 발생시킵니다.\n",
    "        if not isinstance(filename, str):\n",
    "            raise TypeError(\"filename must be a string\")\n",
    "        \n",
    "        # 파일을 쓰기 모드로 열고 스프레드시트의 모든 셀 값을 저장합니다.\n",
    "        with open(filename, 'w') as file:\n",
    "            # 10x10 크기의 스프레드시트를 순회합니다.\n",
    "            for i in range(10):\n",
    "                for j in range(10):\n",
    "                    cell_value = self.matrix[i][j]\n",
    "                    # 셀 값이 None이 아니면 (즉, 어떤 값이 저장되어 있다면) 해당 셀의 값을 파일에 저장합니다.\n",
    "                    if cell_value is not None:\n",
    "                        # 셀의 인덱스 (예: A1, B2 등)와 값을 ':'로 구분하여 파일에 씁니다.\n",
    "                        file.write(f\"{chr(65 + j)}{i+1}:{cell_value}\\n\")\n",
    "\n",
    "    def import_sheet(self, filename):\n",
    "        # filename이 문자열이 아닌 경우 TypeError를 발생시킵니다.\n",
    "        if not isinstance(filename, str):\n",
    "            raise TypeError(\"filename must be a string\")\n",
    "        \n",
    "        # 스프레드시트의 모든 셀을 None으로 초기화합니다.\n",
    "        self.matrix = [[None for _ in range(10)] for _ in range(10)]\n",
    "        \n",
    "        # 파일을 읽기 모드로 열어 저장된 값을 불러옵니다.\n",
    "        with open(filename, 'r') as file:\n",
    "            for line in file:\n",
    "                # 각 줄에서 셀의 인덱스와 값을 ':'로 구분하여 추출합니다.\n",
    "                cell_index, cell_value = line.strip().split(\":\")\n",
    "                # 추출한 셀의 인덱스와 값을 스프레드시트에 설정합니다.\n",
    "                self.set_value(cell_index, cell_value)\n"
   ]
  },
  {
   "cell_type": "code",
   "execution_count": 10,
   "id": "98c93c94",
   "metadata": {},
   "outputs": [
    {
     "name": "stdout",
     "output_type": "stream",
     "text": [
      "5    ,      ,      ,      ,      ,      ,      ,      ,      ,      , \n",
      "     , True ,      ,      ,      ,      ,      ,      ,      ,      , \n",
      "     ,      , True ,      ,      ,      ,      ,      ,      ,      , \n",
      "     ,      ,      ,      ,      ,      ,      ,      ,      ,      , \n",
      "     ,      ,      ,      ,      ,      ,      ,      ,      ,      , \n",
      "     ,      ,      ,      ,      ,      ,      ,      ,      ,      , \n",
      "     ,      ,      ,      ,      ,      ,      ,      ,      ,      , \n",
      "     ,      ,      ,      ,      ,      ,      ,      ,      ,      , \n",
      "     ,      ,      ,      ,      ,      ,      ,      ,      ,      , \n",
      "     ,      ,      ,      ,      ,      ,      ,      ,      ,      , \n",
      "\n"
     ]
    }
   ],
   "source": [
    "sheet = PermanentSpreadsheet()\n",
    "sheet.set_value(\"A1\", 5)\n",
    "sheet.set_value(\"B2\", True)\n",
    "sheet.set_value(\"C3\", True)\n",
    "print(sheet)"
   ]
  },
  {
   "cell_type": "code",
   "execution_count": 11,
   "id": "81ae765a",
   "metadata": {},
   "outputs": [],
   "source": [
    "sheet.export_sheet(\"sheet.dump\")"
   ]
  },
  {
   "cell_type": "code",
   "execution_count": 12,
   "id": "64023736",
   "metadata": {},
   "outputs": [
    {
     "name": "stdout",
     "output_type": "stream",
     "text": [
      "5    ,      ,      ,      ,      ,      ,      ,      ,      ,      , \n",
      "     , True ,      ,      ,      ,      ,      ,      ,      ,      , \n",
      "     ,      , True ,      ,      ,      ,      ,      ,      ,      , \n",
      "     ,      ,      ,      ,      ,      ,      ,      ,      ,      , \n",
      "     ,      ,      ,      ,      ,      ,      ,      ,      ,      , \n",
      "     ,      ,      ,      ,      ,      ,      ,      ,      ,      , \n",
      "     ,      ,      ,      ,      ,      ,      ,      ,      ,      , \n",
      "     ,      ,      ,      ,      ,      ,      ,      ,      ,      , \n",
      "     ,      ,      ,      ,      ,      ,      ,      ,      ,      , \n",
      "     ,      ,      ,      ,      ,      ,      ,      ,      ,      , \n",
      "\n"
     ]
    }
   ],
   "source": [
    "sheet = PermanentSpreadsheet()\n",
    "sheet.import_sheet(\"sheet.dump\")\n",
    "print(sheet)"
   ]
  },
  {
   "cell_type": "markdown",
   "id": "3b572e67",
   "metadata": {},
   "source": [
    "#### 5-3) 고급 spreadsheet (lambda function 넣기)"
   ]
  },
  {
   "cell_type": "markdown",
   "id": "fbfd61eb",
   "metadata": {},
   "source": [
    "<img src=\"/Users/soungmunkim/Desktop/Coding/QualExamCoding/soungmunkim/Computing_Foundation_HWs/JupyterNotebook/screenshots/스크린샷 2023-08-17 오후 2.46.17.png\">"
   ]
  },
  {
   "cell_type": "code",
   "execution_count": 20,
   "id": "310ec761",
   "metadata": {},
   "outputs": [],
   "source": [
    "class SmartSpreadsheet(Spreadsheet):\n",
    "    \"\"\"\n",
    "    SmartSpreadsheet는 Spreadsheet의 자식 클래스입니다. \n",
    "    SmartSpreadsheet는 한 셀에서 다른 셀에 람다 함수를 적용할 수 있는 메서드를 가지고 있습니다.\n",
    "    Spreadsheet 클래스와 달리 set_function 함수가 추가되었습니다.\n",
    "    \"\"\"\n",
    "    # 람다 함수의 종속성을 처리하는 데 필요한 정보를 저장하기 위한 글로벌 변수\n",
    "    operand = []\n",
    "\n",
    "    def set_function(self, idx, function, operand_idx):\n",
    "        \"\"\"\n",
    "        idx 셀에 operand_idx 셀의 값을 function(람다 함수)에 적용한 결과를 설정합니다.\n",
    "        또한, 이 함수, 피연산자 및 인덱스 정보를 operand에 저장합니다.\n",
    "        \"\"\"\n",
    "        # idx 셀에 operand_idx 셀의 값을 function에 적용한 결과를 설정합니다.\n",
    "        self.set_value(idx, function(self.get_value(operand_idx)))\n",
    "        \n",
    "        # function, operand 및 idx를 operand에 저장합니다.\n",
    "        # 단, 동일한 정보가 이미 저장되어 있지 않은 경우에만 저장합니다.\n",
    "        if [operand_idx, function, idx] not in SmartSpreadsheet.operand:\n",
    "            SmartSpreadsheet.operand.append([operand_idx, function, idx])\n",
    "        \n",
    "    def set_value(self, idx, value):\n",
    "        \"\"\"\n",
    "        idx 셀에 주어진 값을 설정하는 메서드입니다.\n",
    "        또한, idx 셀의 값이 변경된 경우 이 셀에 종속된 다른 셀의 값을 업데이트합니다.\n",
    "        \"\"\"\n",
    "        # 주어진 값을 idx 셀에 설정합니다.\n",
    "        super().set_value(idx, value)\n",
    "        \n",
    "        # operand에 저장된 모든 종속성 정보를 확인하여 필요한 경우 값을 업데이트합니다.\n",
    "        for i in range(len(SmartSpreadsheet.operand)):\n",
    "            # 현재 종속성 정보의 피연산자 인덱스가 idx와 일치하는지 확인합니다.\n",
    "            if SmartSpreadsheet.operand[i][0] == idx:\n",
    "                # 일치하는 경우 해당 종속성 정보를 사용하여 값을 업데이트합니다.\n",
    "                self.set_function(SmartSpreadsheet.operand[i][2], SmartSpreadsheet.operand[i][1], SmartSpreadsheet.operand[i][0])\n"
   ]
  },
  {
   "cell_type": "code",
   "execution_count": 21,
   "id": "72ff1ccf",
   "metadata": {},
   "outputs": [
    {
     "name": "stdout",
     "output_type": "stream",
     "text": [
      "5     , True  , cat   ,       ,       ,       ,       ,       ,       ,       , \n",
      "6     , -1    , cat?  ,       ,       ,       ,       ,       ,       ,       , \n",
      "      ,       , cat?! ,       ,       ,       ,       ,       ,       ,       , \n",
      "      ,       ,       ,       ,       ,       ,       ,       ,       ,       , \n",
      "      ,       ,       ,       ,       ,       ,       ,       ,       ,       , \n",
      "      ,       ,       ,       ,       ,       ,       ,       ,       ,       , \n",
      "      ,       ,       ,       ,       ,       ,       ,       ,       ,       , \n",
      "      ,       ,       ,       ,       ,       ,       ,       ,       ,       , \n",
      "      ,       ,       ,       ,       ,       ,       ,       ,       ,       , \n",
      "      ,       ,       ,       ,       ,       ,       ,       ,       ,       , \n",
      "\n"
     ]
    }
   ],
   "source": [
    "sheet = SmartSpreadsheet()\n",
    "sheet.set_value('A1', 5)\n",
    "sheet.set_value('B1', True)\n",
    "sheet.set_value('C1', 'cat')\n",
    "sheet.set_function('A2', lambda x: x+1, \"A1\")\n",
    "sheet.set_function('B2', lambda x: -1 if x else 1, \"B1\")\n",
    "sheet.set_function('C2', lambda x: x+\"?\", \"C1\")\n",
    "sheet.set_function('C3', lambda x: x+\"!\", \"C2\")\n",
    "sheet.get_value(\"C3\")\n",
    "print(sheet)"
   ]
  },
  {
   "cell_type": "code",
   "execution_count": 25,
   "id": "d87838d2",
   "metadata": {},
   "outputs": [
    {
     "name": "stdout",
     "output_type": "stream",
     "text": [
      "4      , False  , dog    ,        ,        ,        ,        ,        ,        ,        , \n",
      "5      , 1      , human  ,        ,        ,        ,        ,        ,        ,        , \n",
      "       ,        , human! ,        ,        ,        ,        ,        ,        ,        , \n",
      "       ,        ,        ,        ,        ,        ,        ,        ,        ,        , \n",
      "       ,        ,        ,        ,        ,        ,        ,        ,        ,        , \n",
      "       ,        ,        ,        ,        ,        ,        ,        ,        ,        , \n",
      "       ,        ,        ,        ,        ,        ,        ,        ,        ,        , \n",
      "       ,        ,        ,        ,        ,        ,        ,        ,        ,        , \n",
      "       ,        ,        ,        ,        ,        ,        ,        ,        ,        , \n",
      "       ,        ,        ,        ,        ,        ,        ,        ,        ,        , \n",
      "\n"
     ]
    }
   ],
   "source": [
    "sheet.set_value('A1', 4)\n",
    "sheet.set_value('B1', False)\n",
    "sheet.set_value('C1', 'dog')\n",
    "sheet.set_value('C2', 'human')\n",
    "print(sheet)"
   ]
  }
 ],
 "metadata": {
  "kernelspec": {
   "display_name": "Python 3 (ipykernel)",
   "language": "python",
   "name": "python3"
  },
  "language_info": {
   "codemirror_mode": {
    "name": "ipython",
    "version": 3
   },
   "file_extension": ".py",
   "mimetype": "text/x-python",
   "name": "python",
   "nbconvert_exporter": "python",
   "pygments_lexer": "ipython3",
   "version": "3.10.2"
  }
 },
 "nbformat": 4,
 "nbformat_minor": 5
}
