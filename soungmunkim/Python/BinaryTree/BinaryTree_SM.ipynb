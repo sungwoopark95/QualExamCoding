{
 "cells": [
  {
   "cell_type": "markdown",
   "id": "f46b8afa",
   "metadata": {},
   "source": [
    "## 450. Delete Node in a BST\n"
   ]
  },
  {
   "cell_type": "markdown",
   "id": "4586bcd6",
   "metadata": {},
   "source": [
    "<img src=\"/Users/soungmunkim/Desktop/Coding/QualExamCoding/soungmunkim/Python/BinaryTree/z_img/z_BSTdelete.png\">"
   ]
  },
  {
   "cell_type": "code",
   "execution_count": null,
   "id": "d2afade3",
   "metadata": {},
   "outputs": [],
   "source": [
    "class Node:\n",
    "    # constructor: 키 값을 인수로 받아 Node 객체를 초기화합니다.\n",
    "    def __init__ (self, key):\n",
    "        self.key = key      # 현재 객체의 key에 인수로 받은 key 값을 할당\n",
    "        self.parent = None  # 부모 노드를 NULL로 초기화\n",
    "        self.left = None    # 왼쪽 자식 노드를 NULL로 초기화\n",
    "        self.right = None   # 오른쪽 자식 노드를 NULL로 초기화\n",
    "        \n",
    "class \n",
    "        \n",
    "    "
   ]
  },
  {
   "cell_type": "markdown",
   "id": "3ce1e077",
   "metadata": {},
   "source": [
    "## 98. Validate BST"
   ]
  },
  {
   "cell_type": "code",
   "execution_count": 1,
   "id": "6ffaf6e1",
   "metadata": {},
   "outputs": [],
   "source": [
    "import sys\n",
    "\n",
    "# TreeNode 클래스를 정의합니다.\n",
    "class TreeNode:\n",
    "    # 초기화 함수로 노드 값을 설정하고 왼쪽, 오른쪽 자식 노드를 초기화합니다.\n",
    "    def __init__(self, val=0, left=None, right=None):\n",
    "        self.val = val       # 노드의 값을 저장하는 변수\n",
    "        self.left = left     # 왼쪽 자식 노드를 가리키는 포인터\n",
    "        self.right = right   # 오른쪽 자식 노드를 가리키는 포인터\n",
    "\n",
    "# 숫자 리스트를 이진 트리로 변환하는 함수\n",
    "def list_to_btree(nums: list) -> TreeNode:\n",
    "    if not nums:\n",
    "        return None\n",
    "\n",
    "    # 노드들을 저장할 큐를 생성합니다.\n",
    "    queue = []\n",
    "    \n",
    "    # 루트 노드를 생성하고 큐에 추가합니다.\n",
    "    root = TreeNode(nums[0])\n",
    "    queue.append(root)\n",
    "    \n",
    "    # 노드들을 연결하기 위해 리스트를 순회합니다.\n",
    "    i = 1\n",
    "    while queue and i < len(nums):\n",
    "        # 현재 노드를 큐에서 꺼냅니다.\n",
    "        current = queue.pop(0)\n",
    "        \n",
    "        # 왼쪽 자식이 있다면, 연결하고 큐에 추가합니다.\n",
    "        if nums[i] is not None:\n",
    "            left_child = TreeNode(nums[i])\n",
    "            current.left = left_child\n",
    "            queue.append(left_child)\n",
    "        i += 1\n",
    "\n",
    "        # 오른쪽 자식이 있다면, 연결하고 큐에 추가합니다.\n",
    "        if i < len(nums) and nums[i] is not None:\n",
    "            right_child = TreeNode(nums[i])\n",
    "            current.right = right_child\n",
    "            queue.append(right_child)\n",
    "        i += 1\n",
    "\n",
    "    return root\n",
    "\n",
    "\"\"\"\n",
    "루트 노드는 아무런 제한 없이 어떤 값을 가질 수 있기 때문에, lower를 음의 무한대로, upper를 양의 무한대로 설정합니다.\n",
    "왼쪽 서브트리로 이동할 때는 현재 노드의 값(node.val)이 최대값(upper)이 되고, lower는 그대로 유지됩니다. \n",
    "    이는 왼쪽 서브트리의 모든 노드들이 현재 노드의 값보다 작아야 하기 때문입니다.\n",
    "오른쪽 서브트리로 이동할 때는 현재 노드의 값(node.val)이 최소값(lower)이 되고, upper는 그대로 유지됩니다. \n",
    "    이는 오른쪽 서브트리의 모든 노드들이 현재 노드의 값보다 커야 하기 때문입니다.\n",
    "\"\"\"\n",
    "def isValidBST(root: list):\n",
    "    # list를 Binary tree로 변환 (TreeNode)\n",
    "    tree = list_to_btree(root)\n",
    "    \n",
    "    # dfs로 돌면서 binary search tree인지 체크하기\n",
    "    lower = float(\"-inf\")\n",
    "    upper = float(\"inf\")\n",
    "    \n",
    "    def dfs_BT(node, lower, upper):\n",
    "        #tree가 없으니 BST라고 가정함\n",
    "        if node is None:\n",
    "            return True\n",
    "        # 현재 node값이 현재 최소값보다 작으면 (범위 밖에 있으면)\n",
    "        if node.val <= lower:\n",
    "            return False\n",
    "        # 현재 node값이 현재 최대값보다 크면 (범위 밖에 있으면)\n",
    "        elif node.val >= upper:\n",
    "            return False\n",
    "        \n",
    "        # right에서 upper는 얼마나 크든 상관 없지만 right node가 현재 노드보다 작으면 안되서 설정함\n",
    "        return (dfs_BT(node.right, node.val, upper) and dfs_BT(node.left, lower, node.val))\n",
    "    \n",
    "    return dfs_BT(tree, lower, upper)"
   ]
  },
  {
   "cell_type": "code",
   "execution_count": 2,
   "id": "e5cb8bf7",
   "metadata": {},
   "outputs": [
    {
     "data": {
      "text/plain": [
       "True"
      ]
     },
     "execution_count": 2,
     "metadata": {},
     "output_type": "execute_result"
    }
   ],
   "source": [
    "root = [2,1,3]\n",
    "isValidBST(root)"
   ]
  },
  {
   "cell_type": "code",
   "execution_count": 3,
   "id": "81a538c3",
   "metadata": {},
   "outputs": [
    {
     "data": {
      "text/plain": [
       "False"
      ]
     },
     "execution_count": 3,
     "metadata": {},
     "output_type": "execute_result"
    }
   ],
   "source": [
    "root = [5,1,4,None,None,3,6]\n",
    "isValidBST(root)"
   ]
  },
  {
   "cell_type": "code",
   "execution_count": null,
   "id": "094f0b5e",
   "metadata": {},
   "outputs": [],
   "source": []
  }
 ],
 "metadata": {
  "kernelspec": {
   "display_name": "base",
   "language": "python",
   "name": "python3"
  },
  "language_info": {
   "codemirror_mode": {
    "name": "ipython",
    "version": 3
   },
   "file_extension": ".py",
   "mimetype": "text/x-python",
   "name": "python",
   "nbconvert_exporter": "python",
   "pygments_lexer": "ipython3",
   "version": "3.10.2"
  }
 },
 "nbformat": 4,
 "nbformat_minor": 5
}
