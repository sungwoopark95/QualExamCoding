{
 "cells": [
  {
   "cell_type": "markdown",
   "id": "f46b8afa",
   "metadata": {},
   "source": [
    "## 530. Minimum Absolute Difference in BST\n",
    "\n"
   ]
  },
  {
   "cell_type": "markdown",
   "id": "19dd9fd7",
   "metadata": {},
   "source": [
    "<img src=\"/Users/soungmunkim/Desktop/Coding/QualExamCoding/soungmunkim/Python/BinaryTree/z_img/z_mimabsdiff.png\">"
   ]
  },
  {
   "cell_type": "code",
   "execution_count": 34,
   "id": "c00a972f",
   "metadata": {},
   "outputs": [],
   "source": [
    "class TreeNode:\n",
    "    def __init__(self, val=0, left=None, right=None):\n",
    "        self.val = val\n",
    "        self.left = left\n",
    "        self.right = right\n",
    "\n",
    "# TreeNode로 반환\n",
    "def list_to_bst(nums: list):\n",
    "    # None이 아닌 값을 필터링하여 새로운 리스트를 생성합니다.\n",
    "    filtered_nums = []\n",
    "    for x in nums:\n",
    "        if x is not None:\n",
    "            filtered_nums.append(x)\n",
    "\n",
    "    # 필터링된 리스트를 정렬합니다.\n",
    "    sorted_nums = sorted(filtered_nums)\n",
    "\n",
    "    # 정렬된 리스트를 다시 nums 변수에 할당합니다.\n",
    "    nums = sorted_nums\n",
    "    \n",
    "    # Base case\n",
    "    if not nums:\n",
    "        return None\n",
    "\n",
    "    # 중앙 값을 찾아 트리의 root로 설정\n",
    "    mid = len(nums) // 2\n",
    "    root = TreeNode(nums[mid])\n",
    "\n",
    "    # 재귀적으로 왼쪽과 오른쪽 하위 트리를 구성\n",
    "    root.left = list_to_bst(nums[:mid])\n",
    "    root.right = list_to_bst(nums[mid+1:])\n",
    "\n",
    "    return root\n",
    "\n",
    "# 구체적으로는 각 노드의 값과 해당 서브트리 내에서 가장 큰 노드 값 또는 가장 작은 노드 값 간의 차이를 계산\n",
    "# 이진 검색 트리 (BST)에서 최소 절대 차이 계산 함수\n",
    "def getMinimumDifference(root):\n",
    "    def inorder_traversal(node):\n",
    "        nonlocal prev, min_diff\n",
    "        if not node:\n",
    "            return\n",
    "        \n",
    "        # 중위 순회\n",
    "        inorder_traversal(node.left)\n",
    "        \n",
    "        if prev is not None:\n",
    "            min_diff = min(min_diff, abs(node.val - prev)) # max로 바꾸면 max abs diff\n",
    "        \n",
    "        prev = node.val\n",
    "        \n",
    "        inorder_traversal(node.right)\n",
    "    \n",
    "    prev = None  # 이전 노드의 값\n",
    "    min_diff = float('inf')  # 최소 절대 차이를 저장할 변수\n",
    "    \n",
    "    inorder_traversal(root)\n",
    "    \n",
    "    return min_diff"
   ]
  },
  {
   "cell_type": "code",
   "execution_count": 35,
   "id": "385d699d",
   "metadata": {},
   "outputs": [
    {
     "data": {
      "text/plain": [
       "1"
      ]
     },
     "execution_count": 35,
     "metadata": {},
     "output_type": "execute_result"
    }
   ],
   "source": [
    "root = [4,2,6,1,3]\n",
    "head = list_to_bst(root)\n",
    "getMinimumDifference(head)"
   ]
  },
  {
   "cell_type": "code",
   "execution_count": 36,
   "id": "46ed683c",
   "metadata": {},
   "outputs": [
    {
     "data": {
      "text/plain": [
       "1"
      ]
     },
     "execution_count": 36,
     "metadata": {},
     "output_type": "execute_result"
    }
   ],
   "source": [
    "root = [1,0,48,None,None,12,49]\n",
    "head1 = list_to_bst(root)\n",
    "getMinimumDifference(head1)"
   ]
  },
  {
   "cell_type": "markdown",
   "id": "119f555d",
   "metadata": {},
   "source": [
    "## 199. Binary Tree Right Side View\n",
    "\n"
   ]
  },
  {
   "cell_type": "markdown",
   "id": "61590f2e",
   "metadata": {},
   "source": [
    "<img src = \"/Users/soungmunkim/Desktop/Coding/QualExamCoding/soungmunkim/Python/BinaryTree/z_img/z_rightview.png\">"
   ]
  },
  {
   "cell_type": "code",
   "execution_count": 26,
   "id": "84f3ebdc",
   "metadata": {},
   "outputs": [],
   "source": [
    "# Definition for a  binary tree node\n",
    "class TreeNode:\n",
    "    def __init__(self, x):\n",
    "        self.val = x\n",
    "        self.left = None\n",
    "        self.right = None\n",
    "\n",
    "# 숫자 리스트를 이진 트리로 변환하는 함수\n",
    "def list_to_btree(nums: list) -> TreeNode:\n",
    "    if not nums:\n",
    "        return None\n",
    "\n",
    "    # 노드들을 저장할 큐를 생성합니다.\n",
    "    queue = []\n",
    "    \n",
    "    # 루트 노드를 생성하고 큐에 추가합니다.\n",
    "    root = TreeNode(nums[0])\n",
    "    queue.append(root)\n",
    "    \n",
    "    # 노드들을 연결하기 위해 리스트를 순회합니다.\n",
    "    i = 1\n",
    "    while queue and i < len(nums):\n",
    "        # 현재 노드를 큐에서 꺼냅니다.\n",
    "        current = queue.pop(0)\n",
    "        \n",
    "        # 왼쪽 자식이 있다면, 연결하고 큐에 추가합니다.\n",
    "        if nums[i] is not None:\n",
    "            left_child = TreeNode(nums[i])\n",
    "            current.left = left_child\n",
    "            queue.append(left_child)\n",
    "        i += 1\n",
    "\n",
    "        # 오른쪽 자식이 있다면, 연결하고 큐에 추가합니다.\n",
    "        if i < len(nums) and nums[i] is not None:\n",
    "            right_child = TreeNode(nums[i])\n",
    "            current.right = right_child\n",
    "            queue.append(right_child)\n",
    "        i += 1\n",
    "\n",
    "    return root\n",
    "\n",
    "def rightSideView(root:TreeNode):\n",
    "    if not root:\n",
    "        return []\n",
    "    q=[root] #root는 treenode이기 대문에 root노드 하나만 들어감 (초기화)\n",
    "    ans =[]\n",
    "    # queue가 빌때까지 둘기\n",
    "    while q:\n",
    "        for i in range(len(q)): #bfs로 돌기 right는 맨 마지막에 넣고 left부터 꺼내는 방식\n",
    "            a=q.pop(0)\n",
    "            if a.left:\n",
    "                q.append(a.left)\n",
    "            if a.right:\n",
    "                q.append(a.right) \n",
    "        # 왼쪽 먼저 넣고 왼쪽 먼저 빼는 방식이니까 맨 마지막 빼는 건 항상 right side 쪽\n",
    "        ans.append(a.val)\n",
    "    return ans\n",
    "    "
   ]
  },
  {
   "cell_type": "code",
   "execution_count": 28,
   "id": "9ad795e9",
   "metadata": {},
   "outputs": [
    {
     "data": {
      "text/plain": [
       "[1, 3, 4]"
      ]
     },
     "execution_count": 28,
     "metadata": {},
     "output_type": "execute_result"
    }
   ],
   "source": [
    "root = [1,2,3,None,5,None,4]\n",
    "tree = list_to_btree(root)\n",
    "rightSideView(tree)"
   ]
  },
  {
   "cell_type": "code",
   "execution_count": 29,
   "id": "d52b8f5a",
   "metadata": {},
   "outputs": [
    {
     "data": {
      "text/plain": [
       "[1, 3]"
      ]
     },
     "execution_count": 29,
     "metadata": {},
     "output_type": "execute_result"
    }
   ],
   "source": [
    "root = [1,None,3]\n",
    "tree1 = list_to_btree(root)\n",
    "rightSideView(tree1)"
   ]
  },
  {
   "cell_type": "code",
   "execution_count": 30,
   "id": "a8bd2c2b",
   "metadata": {},
   "outputs": [
    {
     "data": {
      "text/plain": [
       "[]"
      ]
     },
     "execution_count": 30,
     "metadata": {},
     "output_type": "execute_result"
    }
   ],
   "source": [
    "root = []\n",
    "tree2 = list_to_btree(root)\n",
    "rightSideView(tree2)"
   ]
  },
  {
   "cell_type": "markdown",
   "id": "9ddd96ca",
   "metadata": {},
   "source": [
    "## 112. Path Sum BinaryTree\n",
    "\n"
   ]
  },
  {
   "cell_type": "markdown",
   "id": "b401c1ba",
   "metadata": {},
   "source": [
    "<img src=\"/Users/soungmunkim/Desktop/Coding/QualExamCoding/soungmunkim/Python/BinaryTree/z_img/z_pathsum.png\">"
   ]
  },
  {
   "cell_type": "code",
   "execution_count": 19,
   "id": "c5a22a1e",
   "metadata": {},
   "outputs": [],
   "source": [
    "# Definition for a  binary tree node\n",
    "class TreeNode:\n",
    "    def __init__(self, x):\n",
    "        self.val = x\n",
    "        self.left = None\n",
    "        self.right = None\n",
    "\n",
    "# 숫자 리스트를 이진 트리로 변환하는 함수\n",
    "def list_to_btree(nums: list) -> TreeNode:\n",
    "    if not nums:\n",
    "        return None\n",
    "\n",
    "    # 노드들을 저장할 큐를 생성합니다.\n",
    "    queue = []\n",
    "    \n",
    "    # 루트 노드를 생성하고 큐에 추가합니다.\n",
    "    root = TreeNode(nums[0])\n",
    "    queue.append(root)\n",
    "    \n",
    "    # 노드들을 연결하기 위해 리스트를 순회합니다.\n",
    "    i = 1\n",
    "    while queue and i < len(nums):\n",
    "        # 현재 노드를 큐에서 꺼냅니다.\n",
    "        current = queue.pop(0)\n",
    "        \n",
    "        # 왼쪽 자식이 있다면, 연결하고 큐에 추가합니다.\n",
    "        if nums[i] is not None:\n",
    "            left_child = TreeNode(nums[i])\n",
    "            current.left = left_child\n",
    "            queue.append(left_child)\n",
    "        i += 1\n",
    "\n",
    "        # 오른쪽 자식이 있다면, 연결하고 큐에 추가합니다.\n",
    "        if i < len(nums) and nums[i] is not None:\n",
    "            right_child = TreeNode(nums[i])\n",
    "            current.right = right_child\n",
    "            queue.append(right_child)\n",
    "        i += 1\n",
    "\n",
    "    return root\n",
    "\n",
    "def hasPathSum(root, target_sum):\n",
    "    if not root:\n",
    "        return False\n",
    "\n",
    "    # 현재 노드가 leaf 노드이고 남은 합이 현재 노드의 값과 같다면\n",
    "    if not root.left and not root.right and root.val == target_sum:\n",
    "        return True\n",
    "\n",
    "    # 현재 노드의 값을 현재 남은 합에서 뺍니다.\n",
    "    target_sum -= root.val\n",
    "\n",
    "    # 왼쪽 서브트리나 오른쪽 서브트리 중 하나라도 합을 만족하는 경로가 있다면 True를 반환합니다.\n",
    "    return hasPathSum(root.left, target_sum) or hasPathSum(root.right, target_sum)\n",
    "\n"
   ]
  },
  {
   "cell_type": "code",
   "execution_count": 23,
   "id": "7e060739",
   "metadata": {},
   "outputs": [
    {
     "data": {
      "text/plain": [
       "True"
      ]
     },
     "execution_count": 23,
     "metadata": {},
     "output_type": "execute_result"
    }
   ],
   "source": [
    "root = [5,4,8,11,None,13,4,7,2,None,None,None,1]\n",
    "targetSum = 22\n",
    "head = list_to_btree(root)\n",
    "hasPathSum(head, targetSum)"
   ]
  },
  {
   "cell_type": "code",
   "execution_count": 24,
   "id": "a57f2162",
   "metadata": {},
   "outputs": [
    {
     "data": {
      "text/plain": [
       "False"
      ]
     },
     "execution_count": 24,
     "metadata": {},
     "output_type": "execute_result"
    }
   ],
   "source": [
    "root = [1,2,3]\n",
    "targetSum = 5\n",
    "head1 = list_to_btree(root)\n",
    "hasPathSum(head1, targetSum)"
   ]
  },
  {
   "cell_type": "code",
   "execution_count": 25,
   "id": "6ec69c05",
   "metadata": {},
   "outputs": [
    {
     "data": {
      "text/plain": [
       "False"
      ]
     },
     "execution_count": 25,
     "metadata": {},
     "output_type": "execute_result"
    }
   ],
   "source": [
    "root = []\n",
    "targetSum = 0\n",
    "head3 = list_to_btree(root)\n",
    "hasPathSum(head3, targetSum)"
   ]
  },
  {
   "cell_type": "markdown",
   "id": "79cfd0ad",
   "metadata": {},
   "source": [
    "## 104. Maximum Depth of Binary Tree\n"
   ]
  },
  {
   "cell_type": "markdown",
   "id": "4beddbbe",
   "metadata": {},
   "source": [
    "<img src=\"/Users/soungmunkim/Desktop/Coding/QualExamCoding/soungmunkim/Python/BinaryTree/z_img/z_maxdepth.png\">"
   ]
  },
  {
   "cell_type": "code",
   "execution_count": 16,
   "id": "1a3a3094",
   "metadata": {},
   "outputs": [],
   "source": [
    "class TreeNode:\n",
    "    def __init__(self, val=0, left=None, right=None):\n",
    "        self.val = val\n",
    "        self.left = left\n",
    "        self.right = right\n",
    "\n",
    "# 숫자 리스트를 이진 트리로 변환하는 함수\n",
    "def list_to_btree(nums: list) -> TreeNode:\n",
    "    if not nums:\n",
    "        return None\n",
    "\n",
    "    # 노드들을 저장할 큐를 생성합니다.\n",
    "    queue = []\n",
    "    \n",
    "    # 루트 노드를 생성하고 큐에 추가합니다.\n",
    "    root = TreeNode(nums[0])\n",
    "    queue.append(root)\n",
    "    \n",
    "    # 노드들을 연결하기 위해 리스트를 순회합니다.\n",
    "    i = 1\n",
    "    while queue and i < len(nums):\n",
    "        # 현재 노드를 큐에서 꺼냅니다.\n",
    "        current = queue.pop(0)\n",
    "        \n",
    "        # 왼쪽 자식이 있다면, 연결하고 큐에 추가합니다.\n",
    "        if nums[i] is not None:\n",
    "            left_child = TreeNode(nums[i])\n",
    "            current.left = left_child\n",
    "            queue.append(left_child)\n",
    "        i += 1\n",
    "\n",
    "        # 오른쪽 자식이 있다면, 연결하고 큐에 추가합니다.\n",
    "        if i < len(nums) and nums[i] is not None:\n",
    "            right_child = TreeNode(nums[i])\n",
    "            current.right = right_child\n",
    "            queue.append(right_child)\n",
    "        i += 1\n",
    "\n",
    "    return root\n",
    "\n",
    "# 이진 트리의 최대 깊이를 계산하는 함수\n",
    "def maxDepth(root: TreeNode) -> int:\n",
    "    level = 0  # 트리의 레벨을 저장하는 변수 초기화\n",
    "\n",
    "    if root is None:\n",
    "        return 0  # 루트 노드가 없으면 트리의 레벨은 0이므로 0 반환\n",
    "\n",
    "    q = [root]  # 큐를 사용하여 노드 순회를 위한 리스트 초기화\n",
    "\n",
    "    while q:\n",
    "        for i in range(len(q)):\n",
    "            root = q.pop(0)  # 큐에서 노드를 하나 꺼냄\n",
    "\n",
    "            if root.left is not None:\n",
    "                q.append(root.left)  # 현재 노드의 왼쪽 자식을 큐에 추가\n",
    "\n",
    "            if root.right is not None:\n",
    "                q.append(root.right)  # 현재 노드의 오른쪽 자식을 큐에 추가\n",
    "\n",
    "        level += 1  # 현재 레벨의 노드를 모두 처리하면 레벨 증가\n",
    "\n",
    "    return level  # 최대 깊이(레벨) 반환\n"
   ]
  },
  {
   "cell_type": "code",
   "execution_count": 17,
   "id": "2f95e844",
   "metadata": {},
   "outputs": [
    {
     "data": {
      "text/plain": [
       "3"
      ]
     },
     "execution_count": 17,
     "metadata": {},
     "output_type": "execute_result"
    }
   ],
   "source": [
    "root = [3, 9, 20, None, None, 15, 7]\n",
    "head = list_to_btree(root)\n",
    "maxDepth(head)"
   ]
  },
  {
   "cell_type": "code",
   "execution_count": 18,
   "id": "054b8079",
   "metadata": {},
   "outputs": [
    {
     "data": {
      "text/plain": [
       "2"
      ]
     },
     "execution_count": 18,
     "metadata": {},
     "output_type": "execute_result"
    }
   ],
   "source": [
    "root = [1,None,2]\n",
    "head1 = create_BST(root)\n",
    "maxDepth(head1)"
   ]
  },
  {
   "cell_type": "markdown",
   "id": "3af98433",
   "metadata": {},
   "source": [
    "## 701. Insert into a BST\n"
   ]
  },
  {
   "cell_type": "markdown",
   "id": "f8f1fae1",
   "metadata": {},
   "source": [
    "<img src=\"/Users/soungmunkim/Desktop/Coding/QualExamCoding/soungmunkim/Python/BinaryTree/z_img/z_BSTinsert.png\">"
   ]
  },
  {
   "cell_type": "code",
   "execution_count": 34,
   "id": "69a284d9",
   "metadata": {},
   "outputs": [],
   "source": [
    "class TreeNode:\n",
    "    def __init__(self, key):\n",
    "        self.key = key          # 노드에 저장될 키 값\n",
    "        self.parent = None      # 부모 노드\n",
    "        self.left = None        # 왼쪽 자식 노드\n",
    "        self.right = None       # 오른쪽 자식 노드\n",
    "\n",
    "####################### List에서 BST 만들기 (Insert함수 이용) ####################\n",
    "def create_BST(input_list: list):\n",
    "    root = None                     # 초기 루트는 None\n",
    "    \n",
    "    for item in input_list:         # 입력 리스트의 각 항목에 대해\n",
    "        root = insert(root, item)   # 트리에 항목 삽입\n",
    "    return root                      # 루트 반환\n",
    "\n",
    "############################ insert 함수 구현 ########################\n",
    "def insert(root:TreeNode, key:int):\n",
    "    if key is None:           # 키 값이 None인 경우 그대로 루트 반환\n",
    "        return root\n",
    "\n",
    "    if not root:              # 루트가 없으면 새 노드 생성 후 반환\n",
    "        return TreeNode(key)\n",
    "\n",
    "    if key < root.key:     # 키 값이 현재 루트보다 작으면 왼쪽 서브트리로\n",
    "        # 왼쪽 자식이 없으면 새 노드를 왼쪽 자식으로\n",
    "        if root.left is None: \n",
    "            root.left = TreeNode(key)\n",
    "            root.left.parent = root \n",
    "            \n",
    "        # 왼쪽 자식이 있으면 재귀적으로 왼쪽 서브트리에 삽입 \n",
    "        else:                 \n",
    "            insert(root.left, key)\n",
    "            \n",
    "    # 키 값이 현재 루트보다 크거나 같으면 오른쪽 서브트리로      \n",
    "    else:                   \n",
    "        if root.right is None: # 오른쪽 자식이 없으면 새 노드를 오른쪽 자식으로\n",
    "            root.right = TreeNode(key)\n",
    "            root.right.parent = root\n",
    "            \n",
    "         # 오른쪽 자식이 있으면 재귀적으로 오른쪽 서브트리에 삽입\n",
    "        else:                 \n",
    "            insert(root.right, key)\n",
    "\n",
    "    return root              # 수정된 루트 반환\n",
    "\n",
    "################# 왼쪽에서 오른쪽 방향으로 BFS 형태로 프린트 하기 ##################\n",
    "def print_BST(node:TreeNode):\n",
    "    if not node:              # 노드가 없으면 빈 리스트 반환\n",
    "        return []\n",
    "\n",
    "    result = []\n",
    "    queue = [node]            # 초기 큐에 루트 노드 저장\n",
    "\n",
    "    while queue:              # 큐가 빌 때까지 반복\n",
    "        current = queue.pop(0) # 큐에서 노드 꺼내기\n",
    "     \n",
    "        result.append(current.key)  # 결과 리스트에 키 값 추가\n",
    "\n",
    "        if current.left:      # 왼쪽 자식이 있으면 큐에 추가\n",
    "            queue.append(current.left)\n",
    "        if current.right:     # 오른쪽 자식이 있으면 큐에 추가\n",
    "            queue.append(current.right)\n",
    "\n",
    "    return result             # 결과 리스트 반환\n",
    "\n",
    "def insertIntoBST(root:list, key:int):\n",
    "    tree = create_BST(root)\n",
    "    result = insert(tree, key)\n",
    "    \n",
    "    return print_BST(result)\n",
    "    "
   ]
  },
  {
   "cell_type": "code",
   "execution_count": 37,
   "id": "66d85ce2",
   "metadata": {},
   "outputs": [
    {
     "data": {
      "text/plain": [
       "[4, 2, 7, 1, 3, 5]"
      ]
     },
     "execution_count": 37,
     "metadata": {},
     "output_type": "execute_result"
    }
   ],
   "source": [
    "root = [4,2,7,1,3,None,None,None,None,None,None]\n",
    "val = 5\n",
    "insertIntoBST(root, val)"
   ]
  },
  {
   "cell_type": "code",
   "execution_count": 38,
   "id": "17677a4d",
   "metadata": {},
   "outputs": [
    {
     "data": {
      "text/plain": [
       "[4, 2, 7, 1, 3, 5]"
      ]
     },
     "execution_count": 38,
     "metadata": {},
     "output_type": "execute_result"
    }
   ],
   "source": [
    "root = [4,2,7,1,3]\n",
    "val = 5\n",
    "insertIntoBST(root, val)"
   ]
  },
  {
   "cell_type": "markdown",
   "id": "7926aec8",
   "metadata": {},
   "source": [
    "## 450. Delete Node in a BST\n"
   ]
  },
  {
   "cell_type": "markdown",
   "id": "4586bcd6",
   "metadata": {},
   "source": [
    "<img src=\"/Users/soungmunkim/Desktop/Coding/QualExamCoding/soungmunkim/Python/BinaryTree/z_img/z_BSTdelete.png\">"
   ]
  },
  {
   "cell_type": "code",
   "execution_count": 32,
   "id": "e786df0e",
   "metadata": {},
   "outputs": [],
   "source": [
    "class TreeNode:\n",
    "    def __init__(self, key):\n",
    "        self.key = key          # 노드에 저장될 키 값\n",
    "        self.parent = None      # 부모 노드\n",
    "        self.left = None        # 왼쪽 자식 노드\n",
    "        self.right = None       # 오른쪽 자식 노드\n",
    "\n",
    "####################### List에서 BST 만들기 (Insert함수 이용) ####################\n",
    "def create_BST(input_list: list):\n",
    "    root = None                     # 초기 루트는 None\n",
    "    \n",
    "    for item in input_list:         # 입력 리스트의 각 항목에 대해\n",
    "        root = insert(root, item)   # 트리에 항목 삽입\n",
    "    return root                      # 루트 반환\n",
    "\n",
    "############################ insert 함수 구현 ########################\n",
    "def insert(root:TreeNode, key:int):\n",
    "    if key is None:           # 키 값이 None인 경우 그대로 루트 반환\n",
    "        return root\n",
    "\n",
    "    if not root:              # 루트가 없으면 새 노드 생성 후 반환\n",
    "        return TreeNode(key)\n",
    "\n",
    "    if key < root.key:     # 키 값이 현재 루트보다 작으면 왼쪽 서브트리로\n",
    "        # 왼쪽 자식이 없으면 새 노드를 왼쪽 자식으로\n",
    "        if root.left is None: \n",
    "            root.left = TreeNode(key)\n",
    "            root.left.parent = root \n",
    "            \n",
    "        # 왼쪽 자식이 있으면 재귀적으로 왼쪽 서브트리에 삽입 \n",
    "        else:                 \n",
    "            insert(root.left, key)\n",
    "            \n",
    "    # 키 값이 현재 루트보다 크거나 같으면 오른쪽 서브트리로      \n",
    "    else:                   \n",
    "        if root.right is None: # 오른쪽 자식이 없으면 새 노드를 오른쪽 자식으로\n",
    "            root.right = TreeNode(key)\n",
    "            root.right.parent = root\n",
    "            \n",
    "         # 오른쪽 자식이 있으면 재귀적으로 오른쪽 서브트리에 삽입\n",
    "        else:                 \n",
    "            insert(root.right, key)\n",
    "\n",
    "    return root              # 수정된 루트 반환\n",
    "\n",
    "###########################(delete 위해) transplant 함수 구현 ########################\n",
    "def transplant(root:TreeNode, u:TreeNode, v:TreeNode): \n",
    "    if not u.parent:         # u가 루트이면\n",
    "        root = v             # 루트를 v로 교체\n",
    "        \n",
    "    elif u == u.parent.left: # u가 왼쪽 자식이면\n",
    "        u.parent.left = v    # 부모의 왼쪽 자식을 v로\n",
    "        \n",
    "    else:                    # u가 오른쪽 자식이면\n",
    "        u.parent.right = v   # 부모의 오른쪽 자식을 v로\n",
    "        \n",
    "    if v:\n",
    "        v.parent = u.parent  # v의 부모를 u의 부모로 설정\n",
    "    return root              # 수정된 루트 반환\n",
    "\n",
    "############################ delete 함수 구현 ########################\n",
    "def delete(root:TreeNode, key:TreeNode):\n",
    "    z = search(root, key)    # 삭제할 노드 검색\n",
    "    \n",
    "    # 해당 노드를 찾으면\n",
    "    if z:             \n",
    "        \n",
    "         # 왼쪽 자식이 없으면       \n",
    "        if not z.left:      \n",
    "            root = transplant(root, z, z.right)\n",
    "            \n",
    "        # 오른쪽 자식이 없으면\n",
    "        elif not z.right:    \n",
    "            root = transplant(root, z, z.left)\n",
    "            \n",
    "        # 두 자식이 모두 있으면 \n",
    "        else:                \n",
    "            y = minimum(z.right)\n",
    "            \n",
    "            if y.parent != z:\n",
    "                root = transplant(root, y, y.right)\n",
    "                y.right = z.right\n",
    "                y.right.parent = y\n",
    "                \n",
    "            root = transplant(root, z, y)\n",
    "            y.left = z.left\n",
    "            y.left.parent = y\n",
    "            \n",
    "    return root              # 수정된 루트 반환\n",
    "\n",
    "###################### (delete or get target 찾는) search 함수 구현 ########################\n",
    "def search(node:TreeNode, key:int):\n",
    "    while node and key != node.key:  # 노드가 존재하고 키 값이 일치하지 않으면\n",
    "        if key < node.key:     # 키 값이 현재 노드보다 작으면 왼쪽으로\n",
    "            node = node.left\n",
    "        else:                  # 그렇지 않으면 오른쪽으로\n",
    "            node = node.right\n",
    "    return node               # 노드 반환 (찾지 못하면 None)\n",
    "\n",
    "\n",
    "def minimum(node:TreeNode):\n",
    "    while node.left:          # 가장 왼쪽 노드를 찾기 위해 왼쪽으로 이동\n",
    "        node = node.left\n",
    "    return node               # 가장 작은 값을 가진 노드 반환\n",
    "\n",
    "\n",
    "################# 왼쪽에서 오른쪽 방향으로 BFS 형태로 프린트 하기 ##################\n",
    "# def print_BST(node:TreeNode):\n",
    "#     if not node:              # 노드가 없으면 빈 리스트 반환\n",
    "#         return []\n",
    "\n",
    "#     result = []\n",
    "#     queue = [node]            # 초기 큐에 루트 노드 저장\n",
    "\n",
    "#     while queue:              # 큐가 빌 때까지 반복\n",
    "#         current = queue.pop(0) # 큐에서 노드 꺼내기\n",
    "     \n",
    "#         result.append(current.key)  # 결과 리스트에 키 값 추가\n",
    "\n",
    "#         if current.left:      # 왼쪽 자식이 있으면 큐에 추가\n",
    "#             queue.append(current.left)\n",
    "#         if current.right:     # 오른쪽 자식이 있으면 큐에 추가\n",
    "#             queue.append(current.right)\n",
    "\n",
    "#     return result             # 결과 리스트 반환\n",
    "\n",
    "\n",
    "############ (None node Null로 프린트) 왼쪽에서 오른쪽 방향으로 BFS 형태로 프린트 하기 #################\n",
    "def print_BST(node:TreeNode):\n",
    "    if not node:              # 노드가 없으면 빈 리스트 반환\n",
    "        return []\n",
    "\n",
    "    result = []\n",
    "    queue = [node]            # 초기 큐에 루트 노드 저장\n",
    "\n",
    "    while queue:              # 큐가 빌 때까지 반복\n",
    "        current = queue.pop(0) # 큐에서 노드 꺼내기\n",
    "        \n",
    "        if current:\n",
    "            result.append(current.key)\n",
    "            # None인 자식도 큐에 추가하여 후에 'Null'로 표시할 수 있도록 함\n",
    "            queue.append(current.left)\n",
    "            queue.append(current.right)\n",
    "            \n",
    "        else:\n",
    "            result.append('Null')\n",
    "\n",
    "    # 마지막에 연속된 'Null' 제거\n",
    "    while result and result[-1] == 'Null':\n",
    "        result.pop()\n",
    "\n",
    "    return result             # 결과 리스트 반환\n",
    "\n",
    "\n",
    "################ in order는 sorted list 형태로 나옴 ############\n",
    "# def print_BST(node):\n",
    "#     result = []\n",
    "\n",
    "#     def inorder(n):\n",
    "#         if n:\n",
    "#             inorder(n.left)\n",
    "#             result.append(n.key)\n",
    "#             inorder(n.right)\n",
    "\n",
    "#     inorder(node)\n",
    "#     return result\n",
    "\n",
    "\n",
    "def deleteNode(root:list, key:int):\n",
    "    tree = create_BST(root)\n",
    "    result_tree = delete(tree, key)\n",
    "    \n",
    "    return print_BST(result_tree)\n",
    "    \n",
    "    "
   ]
  },
  {
   "cell_type": "code",
   "execution_count": 30,
   "id": "68e6c943",
   "metadata": {},
   "outputs": [
    {
     "data": {
      "text/plain": [
       "[5, 4, 6, 2, 'Null', 'Null', 7]"
      ]
     },
     "execution_count": 30,
     "metadata": {},
     "output_type": "execute_result"
    }
   ],
   "source": [
    "root = [5,3,6,2,4,None,7]\n",
    "key = 3\n",
    "deleteNode(root, key)"
   ]
  },
  {
   "cell_type": "code",
   "execution_count": 33,
   "id": "d918b2cb",
   "metadata": {},
   "outputs": [
    {
     "data": {
      "text/plain": [
       "[5, 3, 6, 2, 4, 'Null', 7]"
      ]
     },
     "execution_count": 33,
     "metadata": {},
     "output_type": "execute_result"
    }
   ],
   "source": [
    "root = [5,3,6,2,4,None,7]\n",
    "key = 0\n",
    "deleteNode(root,key)"
   ]
  },
  {
   "cell_type": "markdown",
   "id": "3ce1e077",
   "metadata": {},
   "source": [
    "## 98. Validate BST"
   ]
  },
  {
   "cell_type": "code",
   "execution_count": 1,
   "id": "6ffaf6e1",
   "metadata": {},
   "outputs": [],
   "source": [
    "import sys\n",
    "\n",
    "# TreeNode 클래스를 정의합니다.\n",
    "class TreeNode:\n",
    "    # 초기화 함수로 노드 값을 설정하고 왼쪽, 오른쪽 자식 노드를 초기화합니다.\n",
    "    def __init__(self, val=0, left=None, right=None):\n",
    "        self.val = val       # 노드의 값을 저장하는 변수\n",
    "        self.left = left     # 왼쪽 자식 노드를 가리키는 포인터\n",
    "        self.right = right   # 오른쪽 자식 노드를 가리키는 포인터\n",
    "\n",
    "# 숫자 리스트를 이진 트리로 변환하는 함수\n",
    "def list_to_btree(nums: list) -> TreeNode:\n",
    "    if not nums:\n",
    "        return None\n",
    "\n",
    "    # 노드들을 저장할 큐를 생성합니다.\n",
    "    queue = []\n",
    "    \n",
    "    # 루트 노드를 생성하고 큐에 추가합니다.\n",
    "    root = TreeNode(nums[0])\n",
    "    queue.append(root)\n",
    "    \n",
    "    # 노드들을 연결하기 위해 리스트를 순회합니다.\n",
    "    i = 1\n",
    "    while queue and i < len(nums):\n",
    "        # 현재 노드를 큐에서 꺼냅니다.\n",
    "        current = queue.pop(0)\n",
    "        \n",
    "        # 왼쪽 자식이 있다면, 연결하고 큐에 추가합니다.\n",
    "        if nums[i] is not None:\n",
    "            left_child = TreeNode(nums[i])\n",
    "            current.left = left_child\n",
    "            queue.append(left_child)\n",
    "        i += 1\n",
    "\n",
    "        # 오른쪽 자식이 있다면, 연결하고 큐에 추가합니다.\n",
    "        if i < len(nums) and nums[i] is not None:\n",
    "            right_child = TreeNode(nums[i])\n",
    "            current.right = right_child\n",
    "            queue.append(right_child)\n",
    "        i += 1\n",
    "\n",
    "    return root\n",
    "\n",
    "\"\"\"\n",
    "루트 노드는 아무런 제한 없이 어떤 값을 가질 수 있기 때문에, lower를 음의 무한대로, upper를 양의 무한대로 설정합니다.\n",
    "왼쪽 서브트리로 이동할 때는 현재 노드의 값(node.val)이 최대값(upper)이 되고, lower는 그대로 유지됩니다. \n",
    "    이는 왼쪽 서브트리의 모든 노드들이 현재 노드의 값보다 작아야 하기 때문입니다.\n",
    "오른쪽 서브트리로 이동할 때는 현재 노드의 값(node.val)이 최소값(lower)이 되고, upper는 그대로 유지됩니다. \n",
    "    이는 오른쪽 서브트리의 모든 노드들이 현재 노드의 값보다 커야 하기 때문입니다.\n",
    "\"\"\"\n",
    "def isValidBST(root: list):\n",
    "    # list를 Binary tree로 변환 (TreeNode)\n",
    "    tree = list_to_btree(root)\n",
    "    \n",
    "    # dfs로 돌면서 binary search tree인지 체크하기\n",
    "    lower = float(\"-inf\")\n",
    "    upper = float(\"inf\")\n",
    "    \n",
    "    def dfs_BT(node, lower, upper):\n",
    "        #tree가 없으니 BST라고 가정함\n",
    "        if node is None:\n",
    "            return True\n",
    "        # 현재 node값이 현재 최소값보다 작으면 (범위 밖에 있으면)\n",
    "        if node.val <= lower:\n",
    "            return False\n",
    "        # 현재 node값이 현재 최대값보다 크면 (범위 밖에 있으면)\n",
    "        elif node.val >= upper:\n",
    "            return False\n",
    "        \n",
    "        # right에서 upper는 얼마나 크든 상관 없지만 right node가 현재 노드보다 작으면 안되서 설정함\n",
    "        return (dfs_BT(node.right, node.val, upper) and dfs_BT(node.left, lower, node.val))\n",
    "    \n",
    "    return dfs_BT(tree, lower, upper)"
   ]
  },
  {
   "cell_type": "code",
   "execution_count": 2,
   "id": "e5cb8bf7",
   "metadata": {},
   "outputs": [
    {
     "data": {
      "text/plain": [
       "True"
      ]
     },
     "execution_count": 2,
     "metadata": {},
     "output_type": "execute_result"
    }
   ],
   "source": [
    "root = [2,1,3]\n",
    "isValidBST(root)"
   ]
  },
  {
   "cell_type": "code",
   "execution_count": 3,
   "id": "81a538c3",
   "metadata": {},
   "outputs": [
    {
     "data": {
      "text/plain": [
       "False"
      ]
     },
     "execution_count": 3,
     "metadata": {},
     "output_type": "execute_result"
    }
   ],
   "source": [
    "root = [5,1,4,None,None,3,6]\n",
    "isValidBST(root)"
   ]
  },
  {
   "cell_type": "code",
   "execution_count": null,
   "id": "094f0b5e",
   "metadata": {},
   "outputs": [],
   "source": []
  }
 ],
 "metadata": {
  "kernelspec": {
   "display_name": "base",
   "language": "python",
   "name": "python3"
  },
  "language_info": {
   "codemirror_mode": {
    "name": "ipython",
    "version": 3
   },
   "file_extension": ".py",
   "mimetype": "text/x-python",
   "name": "python",
   "nbconvert_exporter": "python",
   "pygments_lexer": "ipython3",
   "version": "3.10.2"
  }
 },
 "nbformat": 4,
 "nbformat_minor": 5
}
