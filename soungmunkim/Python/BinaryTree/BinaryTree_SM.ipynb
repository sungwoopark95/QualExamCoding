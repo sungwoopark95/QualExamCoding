{
 "cells": [
  {
   "cell_type": "markdown",
   "id": "f46b8afa",
   "metadata": {},
   "source": [
    "## 572. Subtree of Another tree\n",
    "\n"
   ]
  },
  {
   "cell_type": "markdown",
   "id": "ce1e6e2a",
   "metadata": {},
   "source": [
    "<img src=\"/Users/soungmunkim/Desktop/Coding/QualExamCoding/soungmunkim/Python/BinaryTree/z_img/스크린샷 2023-09-15 오후 9.05.24.png\">"
   ]
  },
  {
   "cell_type": "code",
   "execution_count": 37,
   "id": "b1623390",
   "metadata": {},
   "outputs": [],
   "source": [
    "from collections import deque\n",
    "# Definition for a  binary tree node\n",
    "class TreeNode:\n",
    "    def __init__(self, x):\n",
    "        self.val = x\n",
    "        self.left = None\n",
    "        self.right = None\n",
    "\n",
    "# 숫자 리스트를 이진 트리로 변환하는 함수\n",
    "def list_to_btree(nums: list) -> TreeNode:\n",
    "    if not nums:\n",
    "        return None\n",
    "\n",
    "    # 노드들을 저장할 큐를 생성합니다.\n",
    "    queue = []\n",
    "    \n",
    "    # 루트 노드를 생성하고 큐에 추가합니다.\n",
    "    root = TreeNode(nums[0])\n",
    "    queue.append(root)\n",
    "    \n",
    "    # 노드들을 연결하기 위해 리스트를 순회합니다.\n",
    "    i = 1\n",
    "    while queue and i < len(nums):\n",
    "        # 현재 노드를 큐에서 꺼냅니다.\n",
    "        current = queue.pop(0)\n",
    "        \n",
    "        # 왼쪽 자식이 있다면, 연결하고 큐에 추가합니다.\n",
    "        if nums[i] is not None:\n",
    "            left_child = TreeNode(nums[i])\n",
    "            current.left = left_child\n",
    "            queue.append(left_child)\n",
    "        i += 1\n",
    "\n",
    "        # 오른쪽 자식이 있다면, 연결하고 큐에 추가합니다.\n",
    "        if i < len(nums) and nums[i] is not None:\n",
    "            right_child = TreeNode(nums[i])\n",
    "            current.right = right_child\n",
    "            queue.append(right_child)\n",
    "        i += 1\n",
    "\n",
    "    return root\n",
    "\n",
    "def isSame(root1: TreeNode, subRoot: TreeNode):\n",
    "    subrootQ = [(subRoot, 0)]\n",
    "    rootQ = [(root1, 0)]\n",
    "\n",
    "    while rootQ and subrootQ:\n",
    "        sub_cur, sub_pos = subrootQ.pop(0)\n",
    "        root_cur, root_pos = rootQ.pop(0)\n",
    "        # print((sub_cur.val, root_cur.val))\n",
    "\n",
    "        if sub_pos != root_pos:\n",
    "            return False\n",
    "        if sub_cur.val != root_cur.val:\n",
    "            return False\n",
    "\n",
    "        if sub_cur.right:\n",
    "            subrootQ.append((sub_cur.right, 1))\n",
    "        if root_cur.right:\n",
    "            rootQ.append((root_cur.right,1))\n",
    "        if sub_cur.left:\n",
    "            subrootQ.append((sub_cur.left,2))\n",
    "        if root_cur.left:\n",
    "            rootQ.append((root_cur.left,2))\n",
    "        \n",
    "    if not rootQ and not subrootQ:\n",
    "        # print(\"here\")\n",
    "        return True\n",
    "    \n",
    "    return False\n",
    "\n",
    "def isSubtree(root: TreeNode, subRoot: TreeNode):\n",
    "    q = [root]\n",
    "\n",
    "    while q:\n",
    "        cur = q.pop(0)\n",
    "        if cur.val == subRoot.val:\n",
    "            if (isSame(cur, subRoot)):\n",
    "                return True\n",
    "        if cur.right:\n",
    "            q.append(cur.right)\n",
    "        if cur.left:\n",
    "            q.append(cur.left)\n",
    "        \n",
    "\n",
    "    return False\n",
    "            "
   ]
  },
  {
   "cell_type": "code",
   "execution_count": 38,
   "id": "b616a6a5",
   "metadata": {},
   "outputs": [
    {
     "data": {
      "text/plain": [
       "True"
      ]
     },
     "execution_count": 38,
     "metadata": {},
     "output_type": "execute_result"
    }
   ],
   "source": [
    "root = [3,4,5,1,2]\n",
    "subroot = [4,1,2]\n",
    "tree= list_to_btree(root)\n",
    "subtree = list_to_btree(subroot)\n",
    "isSubtree(tree, subtree)\n"
   ]
  },
  {
   "cell_type": "code",
   "execution_count": 39,
   "id": "11e7de66",
   "metadata": {},
   "outputs": [
    {
     "data": {
      "text/plain": [
       "False"
      ]
     },
     "execution_count": 39,
     "metadata": {},
     "output_type": "execute_result"
    }
   ],
   "source": [
    "root = [3,4,5,1,2,None, None, None,None,0]\n",
    "subroot = [4,1,2]\n",
    "tree = list_to_btree(root)\n",
    "subtree = list_to_btree(subroot)\n",
    "isSame(tree, subtree)"
   ]
  },
  {
   "cell_type": "markdown",
   "id": "dbd34117",
   "metadata": {},
   "source": [
    "아래는 틀린 코드! val이 같은지만 체크되어서 subtree가 같은지는 확인할 수 없음\n"
   ]
  },
  {
   "cell_type": "code",
   "execution_count": 33,
   "id": "0baaeade",
   "metadata": {},
   "outputs": [],
   "source": [
    "from collections import deque\n",
    "# Definition for a  binary tree node\n",
    "class TreeNode:\n",
    "    def __init__(self, x):\n",
    "        self.val = x\n",
    "        self.left = None\n",
    "        self.right = None\n",
    "\n",
    "# 숫자 리스트를 이진 트리로 변환하는 함수\n",
    "def list_to_btree(nums: list) -> TreeNode:\n",
    "    if not nums:\n",
    "        return None\n",
    "\n",
    "    # 노드들을 저장할 큐를 생성합니다.\n",
    "    queue = []\n",
    "    \n",
    "    # 루트 노드를 생성하고 큐에 추가합니다.\n",
    "    root = TreeNode(nums[0])\n",
    "    queue.append(root)\n",
    "    \n",
    "    # 노드들을 연결하기 위해 리스트를 순회합니다.\n",
    "    i = 1\n",
    "    while queue and i < len(nums):\n",
    "        # 현재 노드를 큐에서 꺼냅니다.\n",
    "        current = queue.pop(0)\n",
    "        \n",
    "        # 왼쪽 자식이 있다면, 연결하고 큐에 추가합니다.\n",
    "        if nums[i] is not None:\n",
    "            left_child = TreeNode(nums[i])\n",
    "            current.left = left_child\n",
    "            queue.append(left_child)\n",
    "        i += 1\n",
    "\n",
    "        # 오른쪽 자식이 있다면, 연결하고 큐에 추가합니다.\n",
    "        if i < len(nums) and nums[i] is not None:\n",
    "            right_child = TreeNode(nums[i])\n",
    "            current.right = right_child\n",
    "            queue.append(right_child)\n",
    "        i += 1\n",
    "\n",
    "    return root\n",
    "\n",
    "# binary tree root -> leaf 각 paths 찾아주는 함수 \n",
    "# bst에서도 사용 가능\n",
    "def findPaths(root, current_path, paths):\n",
    "    if not root:\n",
    "        return\n",
    "\n",
    "    # 현재 경로에 노드 값을 추가\n",
    "    current_path.append(root.val)\n",
    "\n",
    "    # 리프 노드에 도달하면 현재 경로를 결과에 추가\n",
    "    if not root.left and not root.right:\n",
    "        paths.append(list(current_path))\n",
    "    else:\n",
    "        findPaths(root.left, current_path, paths)\n",
    "        findPaths(root.right, current_path, paths)\n",
    "\n",
    "    # 백트래킹: 현재 노드를 방문을 마치고 부모 노드로 돌아가기 위해 경로에서 제거\n",
    "    current_path.pop()\n",
    "    \n",
    "def isSame(root: TreeNode, subroot: TreeNode):\n",
    "    paths = []\n",
    "    subpaths = []\n",
    "    findPaths(root, [], paths)\n",
    "    findPaths(subroot, [], subpaths)\n",
    "    # print(\"paths: \", paths)\n",
    "    # print(\"sub paths: \", subpaths)  \n",
    "    \n",
    "    # subtree의 root와 같은 index 찾기\n",
    "    sub = subpaths[0][0]\n",
    "    for i in range(len(paths)):\n",
    "        for j in range(len(paths[i])):\n",
    "            if paths[i][j] == sub:\n",
    "                idx = j\n",
    "    \n",
    "    # subtree root가 있어야할 index 부터 paths 다시 만들기\n",
    "    now_path = []\n",
    "    for i in range(len(paths)):\n",
    "        p = []\n",
    "        for j in range(idx, len(paths[i])):\n",
    "            p.append(paths[i][j])\n",
    "        now_path.append(p)\n",
    "    # print(now_path)\n",
    "                \n",
    "    # 비교할 path 다시 만들기 (sub root 포함한 path만)\n",
    "    check_lst = []\n",
    "    for i in range(len(now_path)):\n",
    "        if now_path[i][0] == subpaths[1][0]:\n",
    "            check_lst.append(now_path[i])\n",
    "    \n",
    "    # subtree path와 다 같으면 true\n",
    "    for i in range(len(check_lst)):\n",
    "        # print(check_lst[i], subpaths[i])\n",
    "        if check_lst[i] != subpaths[i]:\n",
    "            return False\n",
    "    return True\n",
    "\n",
    "def isSubtree(root: list, subroot: list):\n",
    "    tree = list_to_btree(root)\n",
    "    subtree = list_to_btree(subroot)\n",
    "    \n",
    "    isSame(tree, subtree)\n",
    "    \n",
    "    ans = isSame(tree, subtree)\n",
    "    \n",
    "    return ans\n",
    "    "
   ]
  },
  {
   "cell_type": "code",
   "execution_count": 27,
   "id": "781d5e1f",
   "metadata": {},
   "outputs": [
    {
     "data": {
      "text/plain": [
       "True"
      ]
     },
     "execution_count": 27,
     "metadata": {},
     "output_type": "execute_result"
    }
   ],
   "source": [
    "root = [3,4,5,1,2]\n",
    "subroot = [4,1,2]\n",
    "\n",
    "isSubtree(root, subroot)\n"
   ]
  },
  {
   "cell_type": "code",
   "execution_count": 28,
   "id": "634dbb83",
   "metadata": {},
   "outputs": [
    {
     "data": {
      "text/plain": [
       "False"
      ]
     },
     "execution_count": 28,
     "metadata": {},
     "output_type": "execute_result"
    }
   ],
   "source": [
    "root = [3,4,5,1,2,None, None, None,None,0]\n",
    "subroot = [4,1,2]\n",
    "tree = list_to_btree(root)\n",
    "subtree = list_to_btree(subroot)\n",
    "isSame(tree, subtree)"
   ]
  },
  {
   "cell_type": "markdown",
   "id": "b8650065",
   "metadata": {},
   "source": [
    "## 1302. Deepest Leaves Sum\n",
    "\n"
   ]
  },
  {
   "cell_type": "code",
   "execution_count": null,
   "id": "ae000901",
   "metadata": {},
   "outputs": [],
   "source": [
    "\"\"\"\n",
    "[제일 깊은 leaves의 합 구하기]\n",
    "\"\"\""
   ]
  },
  {
   "cell_type": "markdown",
   "id": "444228a2",
   "metadata": {},
   "source": [
    "<img src=\"/Users/soungmunkim/Desktop/Coding/QualExamCoding/soungmunkim/Python/BinaryTree/z_img/스크린샷 2023-09-13 오후 11.02.37.png\">"
   ]
  },
  {
   "cell_type": "code",
   "execution_count": 39,
   "id": "3a5260df",
   "metadata": {},
   "outputs": [],
   "source": [
    "from collections import deque\n",
    "# Definition for a  binary tree node\n",
    "class TreeNode:\n",
    "    def __init__(self, x):\n",
    "        self.val = x\n",
    "        self.left = None\n",
    "        self.right = None\n",
    "\n",
    "# 숫자 리스트를 이진 트리로 변환하는 함수\n",
    "def list_to_btree(nums: list) -> TreeNode:\n",
    "    if not nums:\n",
    "        return None\n",
    "\n",
    "    # 노드들을 저장할 큐를 생성합니다.\n",
    "    queue = []\n",
    "    \n",
    "    # 루트 노드를 생성하고 큐에 추가합니다.\n",
    "    root = TreeNode(nums[0])\n",
    "    queue.append(root)\n",
    "    \n",
    "    # 노드들을 연결하기 위해 리스트를 순회합니다.\n",
    "    i = 1\n",
    "    while queue and i < len(nums):\n",
    "        # 현재 노드를 큐에서 꺼냅니다.\n",
    "        current = queue.pop(0)\n",
    "        \n",
    "        # 왼쪽 자식이 있다면, 연결하고 큐에 추가합니다.\n",
    "        if nums[i] is not None:\n",
    "            left_child = TreeNode(nums[i])\n",
    "            current.left = left_child\n",
    "            queue.append(left_child)\n",
    "        i += 1\n",
    "\n",
    "        # 오른쪽 자식이 있다면, 연결하고 큐에 추가합니다.\n",
    "        if i < len(nums) and nums[i] is not None:\n",
    "            right_child = TreeNode(nums[i])\n",
    "            current.right = right_child\n",
    "            queue.append(right_child)\n",
    "        i += 1\n",
    "\n",
    "    return root\n",
    "\n",
    "# binary tree root -> leaf 각 paths 찾아주는 함수 \n",
    "# bst에서도 사용 가능\n",
    "def findPaths(root, current_path, paths):\n",
    "    if not root:\n",
    "        return\n",
    "\n",
    "    # 현재 경로에 노드 값을 추가\n",
    "    current_path.append(root.val)\n",
    "\n",
    "    # 리프 노드에 도달하면 현재 경로를 결과에 추가\n",
    "    if not root.left and not root.right:\n",
    "        paths.append(list(current_path))\n",
    "    else:\n",
    "        findPaths(root.left, current_path, paths)\n",
    "        findPaths(root.right, current_path, paths)\n",
    "\n",
    "    # 백트래킹: 현재 노드를 방문을 마치고 부모 노드로 돌아가기 위해 경로에서 제거\n",
    "    current_path.pop()\n",
    "\n",
    "def deepestLeavesSum(root:TreeNode):\n",
    "    # find all binary tree paths\n",
    "    paths = []\n",
    "    \n",
    "    findPaths(root, [], paths)\n",
    "    print(\"paths: \", paths)\n",
    "    \n",
    "    # max length가 먼지 첮기\n",
    "    max_path = -1\n",
    "    for i in range(len(paths)):\n",
    "        if len(paths[i]) > max_path:\n",
    "            max_path = len(paths[i])\n",
    "            \n",
    "    # max length 중 마지막 요소들만 sum에 더하기\n",
    "    sum = 0\n",
    "    for i in range(len(paths)):\n",
    "        if len(paths[i]) == max_path:\n",
    "            sum += paths[i][-1]\n",
    "    \n",
    "    return sum\n",
    "    \n",
    "   "
   ]
  },
  {
   "cell_type": "code",
   "execution_count": 40,
   "id": "389207fb",
   "metadata": {},
   "outputs": [
    {
     "name": "stdout",
     "output_type": "stream",
     "text": [
      "paths:  [[1, 2, 4, 7], [1, 2, 5], [1, 3, 6, 8]]\n"
     ]
    },
    {
     "data": {
      "text/plain": [
       "15"
      ]
     },
     "execution_count": 40,
     "metadata": {},
     "output_type": "execute_result"
    }
   ],
   "source": [
    "root = [1,2,3,4,5,None,6,7,None,None,None,None,8]\n",
    "tree = list_to_btree(root)\n",
    "deepestLeavesSum(tree)"
   ]
  },
  {
   "cell_type": "code",
   "execution_count": 41,
   "id": "6942132d",
   "metadata": {},
   "outputs": [
    {
     "name": "stdout",
     "output_type": "stream",
     "text": [
      "paths:  [[6, 7, 2, 9], [6, 7, 7, 1], [6, 7, 7, 4], [6, 8, 1], [6, 8, 3, 5]]\n"
     ]
    },
    {
     "data": {
      "text/plain": [
       "19"
      ]
     },
     "execution_count": 41,
     "metadata": {},
     "output_type": "execute_result"
    }
   ],
   "source": [
    "root = [6,7,8,2,7,1,3,9,None,1,4,None,None,None,5]\n",
    "tree = list_to_btree(root)\n",
    "deepestLeavesSum(tree)"
   ]
  },
  {
   "cell_type": "markdown",
   "id": "fffeb176",
   "metadata": {},
   "source": [
    "## 662. Maximum Width of Binary Tree\n",
    "\n"
   ]
  },
  {
   "cell_type": "markdown",
   "id": "96567c91",
   "metadata": {},
   "source": [
    "<img src=\"/Users/soungmunkim/Desktop/Coding/QualExamCoding/soungmunkim/Python/BinaryTree/z_img/스크린샷 2023-09-13 오후 8.42.14.png\">"
   ]
  },
  {
   "cell_type": "code",
   "execution_count": null,
   "id": "34b65a92",
   "metadata": {},
   "outputs": [],
   "source": [
    "\"\"\"\n",
    "[rightmost와 leftmost (non null)포함 사이 node 개수가 최대인 것 찾기]\n",
    "Given the root of a binary tree, \n",
    "    return the maximum width of the given tree.\n",
    "\n",
    "The maximum width of a tree is the maximum width among all levels.\n",
    "\n",
    "The width of one level is defined as the length between the end-nodes \n",
    "    (the leftmost and rightmost non-null nodes), \n",
    "    where the null nodes between the end-nodes that \n",
    "    would be present in a complete binary tree extending down to that \n",
    "    level are also counted into the length calculation.\n",
    "\"\"\""
   ]
  },
  {
   "cell_type": "code",
   "execution_count": 21,
   "id": "13f311b7",
   "metadata": {},
   "outputs": [],
   "source": [
    "# TreeNode 클래스를 정의합니다.\n",
    "class TreeNode:\n",
    "    # 초기화 함수로 노드 값을 설정하고 왼쪽, 오른쪽 자식 노드를 초기화합니다.\n",
    "    def __init__(self, val=0, left=None, right=None):\n",
    "        self.val = val       # 노드의 값을 저장하는 변수\n",
    "        self.left = left     # 왼쪽 자식 노드를 가리키는 포인터\n",
    "        self.right = right   # 오른쪽 자식 노드를 가리키는 포인터\n",
    "\n",
    "############## 완벽한 list 형태 (꽉 찬 형태)가 아니어도 binary tree로 구현 가능 ####################\n",
    "# 숫자 리스트를 이진 트리로 변환하는 함수\n",
    "def list_to_btree(nums: list) -> TreeNode:\n",
    "    if not nums:\n",
    "        return None\n",
    "\n",
    "    # 노드들을 저장할 큐를 생성합니다.\n",
    "    queue = []\n",
    "    \n",
    "    # 루트 노드를 생성하고 큐에 추가합니다.\n",
    "    root = TreeNode(nums[0])\n",
    "    queue.append(root)\n",
    "    \n",
    "    # 노드들을 연결하기 위해 리스트를 순회합니다.\n",
    "    i = 1\n",
    "    while queue and i < len(nums):\n",
    "        # 현재 노드를 큐에서 꺼냅니다.\n",
    "        current = queue.pop(0)\n",
    "        \n",
    "        # 왼쪽 자식이 있다면, 연결하고 큐에 추가합니다.\n",
    "        if nums[i] is not None:\n",
    "            left_child = TreeNode(nums[i])\n",
    "            current.left = left_child\n",
    "            queue.append(left_child)\n",
    "        i += 1\n",
    "\n",
    "        # 오른쪽 자식이 있다면, 연결하고 큐에 추가합니다.\n",
    "        if i < len(nums) and nums[i] is not None:\n",
    "            right_child = TreeNode(nums[i])\n",
    "            current.right = right_child\n",
    "            queue.append(right_child)\n",
    "        i += 1\n",
    "\n",
    "    return root\n"
   ]
  },
  {
   "cell_type": "markdown",
   "id": "5aa1d6a9",
   "metadata": {},
   "source": [
    "            1 (ID:0)\n",
    "         /           \\\n",
    "(ID:0)  2              3 (ID: 1)\n",
    "       / \\              \\\n",
    "(ID:0)4   5(ID:1) (ID:2) 7 (ID:3)\n",
    "현재 노드의 ID * 2 와 현재 노드의 ID * 2 + 1은 \n",
    "전형적인 이진 트리(Binary Tree)에서 배열을 사용하여 트리를 구현할 때 사용되는 인덱싱 방식"
   ]
  },
  {
   "cell_type": "code",
   "execution_count": 42,
   "id": "6ec1006f",
   "metadata": {},
   "outputs": [],
   "source": [
    "def widthOfBinaryTree(root: TreeNode) -> int:\n",
    "    # 트리의 루트가 없으면, 최대 너비는 0입니다.\n",
    "    if not root:\n",
    "        return 0\n",
    "    \n",
    "    # 큐를 초기화합니다. 각 원소는 (노드, ID)의 튜플 형태입니다.\n",
    "    queue = deque([(root, 0)])\n",
    "    max_width = 0\n",
    "    \n",
    "    while queue:\n",
    "        level_length = len(queue)\n",
    "        _, first_id = queue[0] # 현재 레벨의 첫 번째 노드의 ID\n",
    "        \n",
    "        # 현재 레벨의 모든 노드를 처리합니다.\n",
    "        for _ in range(level_length):\n",
    "            node, curr_id = queue.popleft()\n",
    "            \n",
    "            # 왼쪽 자식 노드가 있으면, 큐에 추가하고 ID는 현재 노드의 ID * 2로 설정합니다.\n",
    "            if node.left:\n",
    "                queue.append((node.left, curr_id * 2))\n",
    "            # 오른쪽 자식 노드가 있으면, 큐에 추가하고 ID는 현재 노드의 ID * 2 + 1로 설정합니다.\n",
    "            if node.right:\n",
    "                queue.append((node.right, curr_id * 2 + 1))\n",
    "        \n",
    "        # 현재 레벨의 너비를 계산하고, 최대 너비를 업데이트합니다.\n",
    "        max_width = max(max_width, curr_id - first_id + 1)\n",
    "    \n",
    "    return max_width\n",
    "        "
   ]
  },
  {
   "cell_type": "code",
   "execution_count": 43,
   "id": "8418f97f",
   "metadata": {},
   "outputs": [
    {
     "data": {
      "text/plain": [
       "4"
      ]
     },
     "execution_count": 43,
     "metadata": {},
     "output_type": "execute_result"
    }
   ],
   "source": [
    "root = [1,3,2,5,3,None,9]\n",
    "tree = list_to_btree(root)\n",
    "widthOfBinaryTree(tree)"
   ]
  },
  {
   "cell_type": "code",
   "execution_count": 44,
   "id": "e8710cea",
   "metadata": {},
   "outputs": [
    {
     "data": {
      "text/plain": [
       "7"
      ]
     },
     "execution_count": 44,
     "metadata": {},
     "output_type": "execute_result"
    }
   ],
   "source": [
    "root = [1,3,2,5,None,None,9,6,None,7]\n",
    "tree = list_to_btree(root)\n",
    "widthOfBinaryTree(tree)"
   ]
  },
  {
   "cell_type": "code",
   "execution_count": 45,
   "id": "4e359bb5",
   "metadata": {},
   "outputs": [
    {
     "data": {
      "text/plain": [
       "2"
      ]
     },
     "execution_count": 45,
     "metadata": {},
     "output_type": "execute_result"
    }
   ],
   "source": [
    "root = [1,3,2,5]\n",
    "tree = list_to_btree(root)\n",
    "widthOfBinaryTree(tree)"
   ]
  },
  {
   "cell_type": "markdown",
   "id": "39053044",
   "metadata": {},
   "source": [
    "## 501. Find Mode in BST\n",
    "\n"
   ]
  },
  {
   "cell_type": "code",
   "execution_count": null,
   "id": "2a370bbe",
   "metadata": {},
   "outputs": [],
   "source": [
    "\"\"\"\n",
    "해당 bst는 left subtree는 해당 root와 key 값이 작거나 같고\n",
    "right subtree도 해당 root와 key 값이 크거나 같다.\n",
    "\n",
    "이럴때, node key의 빈도가 most frequently인 node key를 list로 반환하는 문제\n",
    "\n",
    "Given the root of a binary search tree (BST) with duplicates, \n",
    "return all the mode(s) (i.e., the most frequently occurred element) in it.\n",
    "\n",
    "If the tree has more than one mode, return them in any order.\n",
    "\"\"\""
   ]
  },
  {
   "cell_type": "code",
   "execution_count": 52,
   "id": "fda42f04",
   "metadata": {},
   "outputs": [],
   "source": [
    "from typing import List\n",
    "\n",
    "class TreeNode:\n",
    "    # 초기화 함수로 노드 값을 설정하고 왼쪽, 오른쪽 자식 노드를 초기화합니다.\n",
    "    def __init__(self, val=0, left=None, right=None):\n",
    "        self.val = val       # 노드의 값을 저장하는 변수\n",
    "        self.left = left     # 왼쪽 자식 노드를 가리키는 포인터\n",
    "        self.right = right   # 오른쪽 자식 노드를 가리키는 포인터\n",
    "\n",
    "# 숫자 리스트를 이진 트리로 변환하는 함수\n",
    "def list_to_btree(nums: list):\n",
    "    if not nums:\n",
    "        return None\n",
    "\n",
    "    # 노드들을 저장할 큐를 생성합니다.\n",
    "    queue = []\n",
    "    \n",
    "    # 루트 노드를 생성하고 큐에 추가합니다.\n",
    "    root = TreeNode(nums[0])\n",
    "    queue.append(root)\n",
    "    \n",
    "    # 노드들을 연결하기 위해 리스트를 순회합니다.\n",
    "    i = 1\n",
    "    while queue and i < len(nums):\n",
    "        # 현재 노드를 큐에서 꺼냅니다.\n",
    "        current = queue.pop(0)\n",
    "        \n",
    "        # 왼쪽 자식이 있다면, 연결하고 큐에 추가합니다.\n",
    "        if nums[i] is not None:\n",
    "            left_child = TreeNode(nums[i])\n",
    "            current.left = left_child\n",
    "            queue.append(left_child)\n",
    "        i += 1\n",
    "\n",
    "        # 오른쪽 자식이 있다면, 연결하고 큐에 추가합니다.\n",
    "        if i < len(nums) and nums[i] is not None:\n",
    "            right_child = TreeNode(nums[i])\n",
    "            current.right = right_child\n",
    "            queue.append(right_child)\n",
    "        i += 1\n",
    "\n",
    "    return root\n",
    "\n",
    "def findMode(root: TreeNode) -> List[int]:\n",
    "        if not root:\n",
    "            return None\n",
    "\n",
    "        # bfs로 tree돌기 (graph처럼 생각하기)\n",
    "        q = [root]\n",
    "        cnt = dict() # node key 별로 빈도수 저장할 dict\n",
    "    \n",
    "        while q:\n",
    "            cur = q.pop(0)\n",
    "            # 현재 key count 체크\n",
    "            if cur.val not in cnt:\n",
    "                cnt[cur.val] = 1\n",
    "            else:\n",
    "                cnt[cur.val] += 1\n",
    "\n",
    "            # 만약 다음 오른쪽 노드가 있으면 q에 넣기\n",
    "            if cur.right:\n",
    "                q.append(cur.right)\n",
    "            # 만약 다음 왼쪽 노드가 있으면 q에 넣기\n",
    "            if cur.left:\n",
    "                q.append(cur.left)\n",
    "\n",
    "        mode = -1\n",
    "        ans = []\n",
    "        # most frequent한 횟수 찾기\n",
    "        for val in cnt.values():\n",
    "            if val >= mode:\n",
    "                mode = val\n",
    "                \n",
    "        # 해당 횟수 갖은 key를 ans에 append하기\n",
    "        for key, val in cnt.items():\n",
    "            if val == mode:\n",
    "                ans.append(key)\n",
    "        return ans\n",
    "        \n",
    "\n",
    "            \n"
   ]
  },
  {
   "cell_type": "code",
   "execution_count": 53,
   "id": "034315cd",
   "metadata": {},
   "outputs": [
    {
     "data": {
      "text/plain": [
       "[2]"
      ]
     },
     "execution_count": 53,
     "metadata": {},
     "output_type": "execute_result"
    }
   ],
   "source": [
    "root = [1,None,2,2]\n",
    "tree = list_to_btree(root)\n",
    "findMode(tree)\n"
   ]
  },
  {
   "cell_type": "code",
   "execution_count": 54,
   "id": "9ece0f48",
   "metadata": {},
   "outputs": [
    {
     "data": {
      "text/plain": [
       "[0]"
      ]
     },
     "execution_count": 54,
     "metadata": {},
     "output_type": "execute_result"
    }
   ],
   "source": [
    "root = [0]\n",
    "tree1 = list_to_btree(root)\n",
    "findMode(tree1)"
   ]
  },
  {
   "cell_type": "markdown",
   "id": "2a367d41",
   "metadata": {},
   "source": [
    "## 235. Lowest Common Ancestor of a BST\n",
    "\n"
   ]
  },
  {
   "cell_type": "markdown",
   "id": "ef143f91",
   "metadata": {},
   "source": [
    "<img src=\"/Users/soungmunkim/Desktop/Coding/QualExamCoding/soungmunkim/Python/BinaryTree/z_img/z_lowestancesor.png\">"
   ]
  },
  {
   "cell_type": "code",
   "execution_count": null,
   "id": "dcb69535",
   "metadata": {},
   "outputs": [],
   "source": [
    "\"\"\"\n",
    "주어진 이진 탐색 트리(BST)에서 두 주어진 노드의 최소 공통 조상(LCA) 노드를 찾아라.\n",
    "\n",
    "\"최소 공통 조상은 두 노드 p와 q에 대하여 p와 q 모두를 후손으로 갖는 T의 가장 낮은 노드로 정의된다. \n",
    "(이때, 노드가 자신의 후손이 될 수 있음을 허용한다.)\"\n",
    "\"\"\""
   ]
  },
  {
   "cell_type": "code",
   "execution_count": 46,
   "id": "c6d0b591",
   "metadata": {},
   "outputs": [],
   "source": [
    "class TreeNode:\n",
    "    # 초기화 함수로 노드 값을 설정하고 왼쪽, 오른쪽 자식 노드를 초기화합니다.\n",
    "    def __init__(self, val=0, left=None, right=None):\n",
    "        self.val = val       # 노드의 값을 저장하는 변수\n",
    "        self.left = left     # 왼쪽 자식 노드를 가리키는 포인터\n",
    "        self.right = right   # 오른쪽 자식 노드를 가리키는 포인터\n",
    "\n",
    "# 숫자 리스트를 이진 트리로 변환하는 함수\n",
    "def list_to_btree(nums: list):\n",
    "    if not nums:\n",
    "        return None\n",
    "\n",
    "    # 노드들을 저장할 큐를 생성합니다.\n",
    "    queue = []\n",
    "    \n",
    "    # 루트 노드를 생성하고 큐에 추가합니다.\n",
    "    root = TreeNode(nums[0])\n",
    "    queue.append(root)\n",
    "    \n",
    "    # 노드들을 연결하기 위해 리스트를 순회합니다.\n",
    "    i = 1\n",
    "    while queue and i < len(nums):\n",
    "        # 현재 노드를 큐에서 꺼냅니다.\n",
    "        current = queue.pop(0)\n",
    "        \n",
    "        # 왼쪽 자식이 있다면, 연결하고 큐에 추가합니다.\n",
    "        if nums[i] is not None:\n",
    "            left_child = TreeNode(nums[i])\n",
    "            current.left = left_child\n",
    "            queue.append(left_child)\n",
    "        i += 1\n",
    "\n",
    "        # 오른쪽 자식이 있다면, 연결하고 큐에 추가합니다.\n",
    "        if i < len(nums) and nums[i] is not None:\n",
    "            right_child = TreeNode(nums[i])\n",
    "            current.right = right_child\n",
    "            queue.append(right_child)\n",
    "        i += 1\n",
    "\n",
    "    return root\n",
    "\n",
    "def lowestCommonAncestor(root:TreeNode, p: int, q: int) -> TreeNode:\n",
    "    # p, q 중에서 가장 큰 값을 largest, 가장 작은 값을 smallest에\n",
    "    smallest = min(p, q)\n",
    "    largest = max(p, q)\n",
    "    \n",
    "    while root:\n",
    "        # 가장 작은 값이 현재 노드 값보다 크면 right subtree로\n",
    "        if smallest > root.val:\n",
    "            root = root.right\n",
    "        # 가장 큰 값이 현재 노드 값보다 작으면 left subtree로\n",
    "        elif largest < root.val:\n",
    "            root = root.left\n",
    "        # 그렇지 않으면 \n",
    "        #(즉, smallest는 현재 노드의 값보다 작거나 같고 \n",
    "        # largest는 현재 노드의 값보다 크거나 같은 경우)\n",
    "        # LCA 임으로 해당 값 출력\n",
    "        else:\n",
    "            return root.val\n",
    "\n",
    "    \n",
    "        \n",
    "    \n",
    "    \n",
    "    "
   ]
  },
  {
   "cell_type": "code",
   "execution_count": 47,
   "id": "82fa8500",
   "metadata": {},
   "outputs": [
    {
     "data": {
      "text/plain": [
       "6"
      ]
     },
     "execution_count": 47,
     "metadata": {},
     "output_type": "execute_result"
    }
   ],
   "source": [
    "root = [6,2,8,0,4,7,9,None,None,3,5]\n",
    "p = 2\n",
    "q = 8\n",
    "tree = list_to_btree(root)\n",
    "lowestCommonAncestor(tree, p, q)"
   ]
  },
  {
   "cell_type": "code",
   "execution_count": 49,
   "id": "43944f8b",
   "metadata": {},
   "outputs": [
    {
     "data": {
      "text/plain": [
       "2"
      ]
     },
     "execution_count": 49,
     "metadata": {},
     "output_type": "execute_result"
    }
   ],
   "source": [
    "root = [6,2,8,0,4,7,9,None,None,3,5]\n",
    "p = 2\n",
    "q = 4\n",
    "tree1 = list_to_btree(root)\n",
    "lowestCommonAncestor(tree1, p, q)"
   ]
  },
  {
   "cell_type": "code",
   "execution_count": 50,
   "id": "4d132c57",
   "metadata": {},
   "outputs": [
    {
     "data": {
      "text/plain": [
       "2"
      ]
     },
     "execution_count": 50,
     "metadata": {},
     "output_type": "execute_result"
    }
   ],
   "source": [
    "root = [2,1]\n",
    "p = 2\n",
    "q = 1\n",
    "tree2 = list_to_btree(root)\n",
    "lowestCommonAncestor(tree2, p, q)"
   ]
  },
  {
   "cell_type": "markdown",
   "id": "109e3582",
   "metadata": {},
   "source": [
    "## 113. Path Sum 2\n",
    "\n"
   ]
  },
  {
   "cell_type": "markdown",
   "id": "de90dc4d",
   "metadata": {},
   "source": [
    "<img src=\"/Users/soungmunkim/Desktop/Coding/QualExamCoding/soungmunkim/Python/BinaryTree/z_img/z_pathsum2.png\">"
   ]
  },
  {
   "cell_type": "code",
   "execution_count": 41,
   "id": "40d3fccd",
   "metadata": {},
   "outputs": [],
   "source": [
    "from collections import deque\n",
    "# Definition for a  binary tree node\n",
    "class TreeNode:\n",
    "    def __init__(self, x):\n",
    "        self.val = x\n",
    "        self.left = None\n",
    "        self.right = None\n",
    "\n",
    "# 숫자 리스트를 이진 트리로 변환하는 함수\n",
    "def list_to_btree(nums: list) -> TreeNode:\n",
    "    if not nums:\n",
    "        return None\n",
    "\n",
    "    # 노드들을 저장할 큐를 생성합니다.\n",
    "    queue = []\n",
    "    \n",
    "    # 루트 노드를 생성하고 큐에 추가합니다.\n",
    "    root = TreeNode(nums[0])\n",
    "    queue.append(root)\n",
    "    \n",
    "    # 노드들을 연결하기 위해 리스트를 순회합니다.\n",
    "    i = 1\n",
    "    while queue and i < len(nums):\n",
    "        # 현재 노드를 큐에서 꺼냅니다.\n",
    "        current = queue.pop(0)\n",
    "        \n",
    "        # 왼쪽 자식이 있다면, 연결하고 큐에 추가합니다.\n",
    "        if nums[i] is not None:\n",
    "            left_child = TreeNode(nums[i])\n",
    "            current.left = left_child\n",
    "            queue.append(left_child)\n",
    "        i += 1\n",
    "\n",
    "        # 오른쪽 자식이 있다면, 연결하고 큐에 추가합니다.\n",
    "        if i < len(nums) and nums[i] is not None:\n",
    "            right_child = TreeNode(nums[i])\n",
    "            current.right = right_child\n",
    "            queue.append(right_child)\n",
    "        i += 1\n",
    "\n",
    "    return root\n",
    "\n",
    "# binary tree root -> leaf 각 paths 찾아주는 함수 \n",
    "# bst에서도 사용 가능\n",
    "def findPaths(root, current_path, paths):\n",
    "    if not root:\n",
    "        return\n",
    "\n",
    "    # 현재 경로에 노드 값을 추가\n",
    "    current_path.append(root.val)\n",
    "\n",
    "    # 리프 노드에 도달하면 현재 경로를 결과에 추가\n",
    "    if not root.left and not root.right:\n",
    "        paths.append(list(current_path))\n",
    "    else:\n",
    "        findPaths(root.left, current_path, paths)\n",
    "        findPaths(root.right, current_path, paths)\n",
    "\n",
    "    # 백트래킹: 현재 노드를 방문을 마치고 부모 노드로 돌아가기 위해 경로에서 제거\n",
    "    current_path.pop()\n",
    "\n",
    "def hasPathSum2(root, target_sum):\n",
    "    \n",
    "    # find all binary tree paths\n",
    "    paths = []\n",
    "    tree = list_to_btree(root)\n",
    "    findPaths(tree, [], paths)\n",
    "    \n",
    "    # 합이 target sum이 되는 pahts 찾기\n",
    "    ans = []\n",
    "    for path in paths:\n",
    "        if sum(path) == target_sum:\n",
    "            ans.append(path)\n",
    "\n",
    "    return ans\n",
    "        \n",
    "    "
   ]
  },
  {
   "cell_type": "code",
   "execution_count": 42,
   "id": "a3f8d62b",
   "metadata": {},
   "outputs": [
    {
     "data": {
      "text/plain": [
       "[[5, 4, 11, 2], [5, 8, 4, 5]]"
      ]
     },
     "execution_count": 42,
     "metadata": {},
     "output_type": "execute_result"
    }
   ],
   "source": [
    "root = [5,4,8,11,None,13,4,7,2,None,None,5,1]\n",
    "targetSum = 22\n",
    "hasPathSum2(root, targetSum)\n"
   ]
  },
  {
   "cell_type": "code",
   "execution_count": 43,
   "id": "d65e563d",
   "metadata": {},
   "outputs": [
    {
     "data": {
      "text/plain": [
       "[]"
      ]
     },
     "execution_count": 43,
     "metadata": {},
     "output_type": "execute_result"
    }
   ],
   "source": [
    "root = [1,2,3]\n",
    "targetSum = 5\n",
    "hasPathSum2(root, targetSum)"
   ]
  },
  {
   "cell_type": "markdown",
   "id": "b2a66376",
   "metadata": {},
   "source": [
    "## 530. Minimum Absolute Difference in BST\n",
    "\n"
   ]
  },
  {
   "cell_type": "markdown",
   "id": "19dd9fd7",
   "metadata": {},
   "source": [
    "<img src=\"/Users/soungmunkim/Desktop/Coding/QualExamCoding/soungmunkim/Python/BinaryTree/z_img/z_mimabsdiff.png\">"
   ]
  },
  {
   "cell_type": "code",
   "execution_count": 34,
   "id": "c00a972f",
   "metadata": {},
   "outputs": [],
   "source": [
    "class TreeNode:\n",
    "    def __init__(self, val=0, left=None, right=None):\n",
    "        self.val = val\n",
    "        self.left = left\n",
    "        self.right = right\n",
    "\n",
    "# TreeNode로 반환\n",
    "def list_to_bst(nums: list):\n",
    "    # None이 아닌 값을 필터링하여 새로운 리스트를 생성합니다.\n",
    "    filtered_nums = []\n",
    "    for x in nums:\n",
    "        if x is not None:\n",
    "            filtered_nums.append(x)\n",
    "\n",
    "    # 필터링된 리스트를 정렬합니다.\n",
    "    sorted_nums = sorted(filtered_nums)\n",
    "\n",
    "    # 정렬된 리스트를 다시 nums 변수에 할당합니다.\n",
    "    nums = sorted_nums\n",
    "    \n",
    "    # Base case\n",
    "    if not nums:\n",
    "        return None\n",
    "\n",
    "    # 중앙 값을 찾아 트리의 root로 설정\n",
    "    mid = len(nums) // 2\n",
    "    root = TreeNode(nums[mid])\n",
    "\n",
    "    # 재귀적으로 왼쪽과 오른쪽 하위 트리를 구성\n",
    "    root.left = list_to_bst(nums[:mid])\n",
    "    root.right = list_to_bst(nums[mid+1:])\n",
    "\n",
    "    return root\n",
    "\n",
    "# 구체적으로는 각 노드의 값과 해당 서브트리 내에서 가장 큰 노드 값 또는 가장 작은 노드 값 간의 차이를 계산\n",
    "# 이진 검색 트리 (BST)에서 최소 절대 차이 계산 함수\n",
    "def getMinimumDifference(root):\n",
    "    def inorder_traversal(node):\n",
    "        nonlocal prev, min_diff\n",
    "        if not node:\n",
    "            return\n",
    "        \n",
    "        # 중위 순회\n",
    "        inorder_traversal(node.left)\n",
    "        \n",
    "        if prev is not None:\n",
    "            min_diff = min(min_diff, abs(node.val - prev)) # max로 바꾸면 max abs diff\n",
    "        \n",
    "        prev = node.val\n",
    "        \n",
    "        inorder_traversal(node.right)\n",
    "    \n",
    "    prev = None  # 이전 노드의 값\n",
    "    min_diff = float('inf')  # 최소 절대 차이를 저장할 변수\n",
    "    \n",
    "    inorder_traversal(root)\n",
    "    \n",
    "    return min_diff"
   ]
  },
  {
   "cell_type": "code",
   "execution_count": 35,
   "id": "385d699d",
   "metadata": {},
   "outputs": [
    {
     "data": {
      "text/plain": [
       "1"
      ]
     },
     "execution_count": 35,
     "metadata": {},
     "output_type": "execute_result"
    }
   ],
   "source": [
    "root = [4,2,6,1,3]\n",
    "head = list_to_bst(root)\n",
    "getMinimumDifference(head)"
   ]
  },
  {
   "cell_type": "code",
   "execution_count": 36,
   "id": "46ed683c",
   "metadata": {},
   "outputs": [
    {
     "data": {
      "text/plain": [
       "1"
      ]
     },
     "execution_count": 36,
     "metadata": {},
     "output_type": "execute_result"
    }
   ],
   "source": [
    "root = [1,0,48,None,None,12,49]\n",
    "head1 = list_to_bst(root)\n",
    "getMinimumDifference(head1)"
   ]
  },
  {
   "cell_type": "markdown",
   "id": "119f555d",
   "metadata": {},
   "source": [
    "## 199. Binary Tree Right Side View\n",
    "\n"
   ]
  },
  {
   "cell_type": "markdown",
   "id": "61590f2e",
   "metadata": {},
   "source": [
    "<img src = \"/Users/soungmunkim/Desktop/Coding/QualExamCoding/soungmunkim/Python/BinaryTree/z_img/z_rightview.png\">"
   ]
  },
  {
   "cell_type": "code",
   "execution_count": 26,
   "id": "84f3ebdc",
   "metadata": {},
   "outputs": [],
   "source": [
    "# Definition for a  binary tree node\n",
    "class TreeNode:\n",
    "    def __init__(self, x):\n",
    "        self.val = x\n",
    "        self.left = None\n",
    "        self.right = None\n",
    "\n",
    "# 숫자 리스트를 이진 트리로 변환하는 함수\n",
    "def list_to_btree(nums: list) -> TreeNode:\n",
    "    if not nums:\n",
    "        return None\n",
    "\n",
    "    # 노드들을 저장할 큐를 생성합니다.\n",
    "    queue = []\n",
    "    \n",
    "    # 루트 노드를 생성하고 큐에 추가합니다.\n",
    "    root = TreeNode(nums[0])\n",
    "    queue.append(root)\n",
    "    \n",
    "    # 노드들을 연결하기 위해 리스트를 순회합니다.\n",
    "    i = 1\n",
    "    while queue and i < len(nums):\n",
    "        # 현재 노드를 큐에서 꺼냅니다.\n",
    "        current = queue.pop(0)\n",
    "        \n",
    "        # 왼쪽 자식이 있다면, 연결하고 큐에 추가합니다.\n",
    "        if nums[i] is not None:\n",
    "            left_child = TreeNode(nums[i])\n",
    "            current.left = left_child\n",
    "            queue.append(left_child)\n",
    "        i += 1\n",
    "\n",
    "        # 오른쪽 자식이 있다면, 연결하고 큐에 추가합니다.\n",
    "        if i < len(nums) and nums[i] is not None:\n",
    "            right_child = TreeNode(nums[i])\n",
    "            current.right = right_child\n",
    "            queue.append(right_child)\n",
    "        i += 1\n",
    "\n",
    "    return root\n",
    "\n",
    "def rightSideView(root:TreeNode):\n",
    "    if not root:\n",
    "        return []\n",
    "    q=[root] #root는 treenode이기 대문에 root노드 하나만 들어감 (초기화)\n",
    "    ans =[]\n",
    "    # queue가 빌때까지 둘기\n",
    "    while q:\n",
    "        for i in range(len(q)): #bfs로 돌기 right는 맨 마지막에 넣고 left부터 꺼내는 방식\n",
    "            a=q.pop(0)\n",
    "            if a.left:\n",
    "                q.append(a.left)\n",
    "            if a.right:\n",
    "                q.append(a.right) \n",
    "        # 왼쪽 먼저 넣고 왼쪽 먼저 빼는 방식이니까 맨 마지막 빼는 건 항상 right side 쪽\n",
    "        ans.append(a.val)\n",
    "    return ans\n",
    "    "
   ]
  },
  {
   "cell_type": "code",
   "execution_count": 28,
   "id": "9ad795e9",
   "metadata": {},
   "outputs": [
    {
     "data": {
      "text/plain": [
       "[1, 3, 4]"
      ]
     },
     "execution_count": 28,
     "metadata": {},
     "output_type": "execute_result"
    }
   ],
   "source": [
    "root = [1,2,3,None,5,None,4]\n",
    "tree = list_to_btree(root)\n",
    "rightSideView(tree)"
   ]
  },
  {
   "cell_type": "code",
   "execution_count": 29,
   "id": "d52b8f5a",
   "metadata": {},
   "outputs": [
    {
     "data": {
      "text/plain": [
       "[1, 3]"
      ]
     },
     "execution_count": 29,
     "metadata": {},
     "output_type": "execute_result"
    }
   ],
   "source": [
    "root = [1,None,3]\n",
    "tree1 = list_to_btree(root)\n",
    "rightSideView(tree1)"
   ]
  },
  {
   "cell_type": "code",
   "execution_count": 30,
   "id": "a8bd2c2b",
   "metadata": {},
   "outputs": [
    {
     "data": {
      "text/plain": [
       "[]"
      ]
     },
     "execution_count": 30,
     "metadata": {},
     "output_type": "execute_result"
    }
   ],
   "source": [
    "root = []\n",
    "tree2 = list_to_btree(root)\n",
    "rightSideView(tree2)"
   ]
  },
  {
   "cell_type": "markdown",
   "id": "9ddd96ca",
   "metadata": {},
   "source": [
    "## 112. Path Sum BinaryTree\n",
    "\n"
   ]
  },
  {
   "cell_type": "markdown",
   "id": "b401c1ba",
   "metadata": {},
   "source": [
    "<img src=\"/Users/soungmunkim/Desktop/Coding/QualExamCoding/soungmunkim/Python/BinaryTree/z_img/z_pathsum.png\">"
   ]
  },
  {
   "cell_type": "code",
   "execution_count": 19,
   "id": "c5a22a1e",
   "metadata": {},
   "outputs": [],
   "source": [
    "# Definition for a  binary tree node\n",
    "class TreeNode:\n",
    "    def __init__(self, x):\n",
    "        self.val = x\n",
    "        self.left = None\n",
    "        self.right = None\n",
    "\n",
    "# 숫자 리스트를 이진 트리로 변환하는 함수\n",
    "def list_to_btree(nums: list) -> TreeNode:\n",
    "    if not nums:\n",
    "        return None\n",
    "\n",
    "    # 노드들을 저장할 큐를 생성합니다.\n",
    "    queue = []\n",
    "    \n",
    "    # 루트 노드를 생성하고 큐에 추가합니다.\n",
    "    root = TreeNode(nums[0])\n",
    "    queue.append(root)\n",
    "    \n",
    "    # 노드들을 연결하기 위해 리스트를 순회합니다.\n",
    "    i = 1\n",
    "    while queue and i < len(nums):\n",
    "        # 현재 노드를 큐에서 꺼냅니다.\n",
    "        current = queue.pop(0)\n",
    "        \n",
    "        # 왼쪽 자식이 있다면, 연결하고 큐에 추가합니다.\n",
    "        if nums[i] is not None:\n",
    "            left_child = TreeNode(nums[i])\n",
    "            current.left = left_child\n",
    "            queue.append(left_child)\n",
    "        i += 1\n",
    "\n",
    "        # 오른쪽 자식이 있다면, 연결하고 큐에 추가합니다.\n",
    "        if i < len(nums) and nums[i] is not None:\n",
    "            right_child = TreeNode(nums[i])\n",
    "            current.right = right_child\n",
    "            queue.append(right_child)\n",
    "        i += 1\n",
    "\n",
    "    return root\n",
    "\n",
    "def hasPathSum(root, target_sum):\n",
    "    if not root:\n",
    "        return False\n",
    "\n",
    "    # 현재 노드가 leaf 노드이고 남은 합이 현재 노드의 값과 같다면\n",
    "    if not root.left and not root.right and root.val == target_sum:\n",
    "        return True\n",
    "\n",
    "    # 현재 노드의 값을 현재 남은 합에서 뺍니다.\n",
    "    target_sum -= root.val\n",
    "\n",
    "    # 왼쪽 서브트리나 오른쪽 서브트리 중 하나라도 합을 만족하는 경로가 있다면 True를 반환합니다.\n",
    "    return hasPathSum(root.left, target_sum) or hasPathSum(root.right, target_sum)\n",
    "\n"
   ]
  },
  {
   "cell_type": "code",
   "execution_count": 23,
   "id": "7e060739",
   "metadata": {},
   "outputs": [
    {
     "data": {
      "text/plain": [
       "True"
      ]
     },
     "execution_count": 23,
     "metadata": {},
     "output_type": "execute_result"
    }
   ],
   "source": [
    "root = [5,4,8,11,None,13,4,7,2,None,None,None,1]\n",
    "targetSum = 22\n",
    "head = list_to_btree(root)\n",
    "hasPathSum(head, targetSum)"
   ]
  },
  {
   "cell_type": "code",
   "execution_count": 24,
   "id": "a57f2162",
   "metadata": {},
   "outputs": [
    {
     "data": {
      "text/plain": [
       "False"
      ]
     },
     "execution_count": 24,
     "metadata": {},
     "output_type": "execute_result"
    }
   ],
   "source": [
    "root = [1,2,3]\n",
    "targetSum = 5\n",
    "head1 = list_to_btree(root)\n",
    "hasPathSum(head1, targetSum)"
   ]
  },
  {
   "cell_type": "code",
   "execution_count": 25,
   "id": "6ec69c05",
   "metadata": {},
   "outputs": [
    {
     "data": {
      "text/plain": [
       "False"
      ]
     },
     "execution_count": 25,
     "metadata": {},
     "output_type": "execute_result"
    }
   ],
   "source": [
    "root = []\n",
    "targetSum = 0\n",
    "head3 = list_to_btree(root)\n",
    "hasPathSum(head3, targetSum)"
   ]
  },
  {
   "cell_type": "markdown",
   "id": "79cfd0ad",
   "metadata": {},
   "source": [
    "## 104. Maximum Depth of Binary Tree\n"
   ]
  },
  {
   "cell_type": "markdown",
   "id": "4beddbbe",
   "metadata": {},
   "source": [
    "<img src=\"/Users/soungmunkim/Desktop/Coding/QualExamCoding/soungmunkim/Python/BinaryTree/z_img/z_maxdepth.png\">"
   ]
  },
  {
   "cell_type": "code",
   "execution_count": 16,
   "id": "1a3a3094",
   "metadata": {},
   "outputs": [],
   "source": [
    "class TreeNode:\n",
    "    def __init__(self, val=0, left=None, right=None):\n",
    "        self.val = val\n",
    "        self.left = left\n",
    "        self.right = right\n",
    "\n",
    "# 숫자 리스트를 이진 트리로 변환하는 함수\n",
    "def list_to_btree(nums: list) -> TreeNode:\n",
    "    if not nums:\n",
    "        return None\n",
    "\n",
    "    # 노드들을 저장할 큐를 생성합니다.\n",
    "    queue = []\n",
    "    \n",
    "    # 루트 노드를 생성하고 큐에 추가합니다.\n",
    "    root = TreeNode(nums[0])\n",
    "    queue.append(root)\n",
    "    \n",
    "    # 노드들을 연결하기 위해 리스트를 순회합니다.\n",
    "    i = 1\n",
    "    while queue and i < len(nums):\n",
    "        # 현재 노드를 큐에서 꺼냅니다.\n",
    "        current = queue.pop(0)\n",
    "        \n",
    "        # 왼쪽 자식이 있다면, 연결하고 큐에 추가합니다.\n",
    "        if nums[i] is not None:\n",
    "            left_child = TreeNode(nums[i])\n",
    "            current.left = left_child\n",
    "            queue.append(left_child)\n",
    "        i += 1\n",
    "\n",
    "        # 오른쪽 자식이 있다면, 연결하고 큐에 추가합니다.\n",
    "        if i < len(nums) and nums[i] is not None:\n",
    "            right_child = TreeNode(nums[i])\n",
    "            current.right = right_child\n",
    "            queue.append(right_child)\n",
    "        i += 1\n",
    "\n",
    "    return root\n",
    "\n",
    "# 이진 트리의 최대 깊이를 계산하는 함수\n",
    "def maxDepth(root: TreeNode) -> int:\n",
    "    level = 0  # 트리의 레벨을 저장하는 변수 초기화\n",
    "\n",
    "    if root is None:\n",
    "        return 0  # 루트 노드가 없으면 트리의 레벨은 0이므로 0 반환\n",
    "\n",
    "    q = [root]  # 큐를 사용하여 노드 순회를 위한 리스트 초기화\n",
    "\n",
    "    while q:\n",
    "        for i in range(len(q)):\n",
    "            root = q.pop(0)  # 큐에서 노드를 하나 꺼냄\n",
    "\n",
    "            if root.left is not None:\n",
    "                q.append(root.left)  # 현재 노드의 왼쪽 자식을 큐에 추가\n",
    "\n",
    "            if root.right is not None:\n",
    "                q.append(root.right)  # 현재 노드의 오른쪽 자식을 큐에 추가\n",
    "\n",
    "        level += 1  # 현재 레벨의 노드를 모두 처리하면 레벨 증가\n",
    "\n",
    "    return level  # 최대 깊이(레벨) 반환\n"
   ]
  },
  {
   "cell_type": "code",
   "execution_count": 17,
   "id": "2f95e844",
   "metadata": {},
   "outputs": [
    {
     "data": {
      "text/plain": [
       "3"
      ]
     },
     "execution_count": 17,
     "metadata": {},
     "output_type": "execute_result"
    }
   ],
   "source": [
    "root = [3, 9, 20, None, None, 15, 7]\n",
    "head = list_to_btree(root)\n",
    "maxDepth(head)"
   ]
  },
  {
   "cell_type": "code",
   "execution_count": 18,
   "id": "054b8079",
   "metadata": {},
   "outputs": [
    {
     "data": {
      "text/plain": [
       "2"
      ]
     },
     "execution_count": 18,
     "metadata": {},
     "output_type": "execute_result"
    }
   ],
   "source": [
    "root = [1,None,2]\n",
    "head1= list_to_btree(root)\n",
    "maxDepth(head1)"
   ]
  },
  {
   "cell_type": "markdown",
   "id": "3af98433",
   "metadata": {},
   "source": [
    "## 701. Insert into a BST\n"
   ]
  },
  {
   "cell_type": "markdown",
   "id": "f8f1fae1",
   "metadata": {},
   "source": [
    "<img src=\"/Users/soungmunkim/Desktop/Coding/QualExamCoding/soungmunkim/Python/BinaryTree/z_img/z_BSTinsert.png\">"
   ]
  },
  {
   "cell_type": "code",
   "execution_count": 34,
   "id": "69a284d9",
   "metadata": {},
   "outputs": [],
   "source": [
    "class TreeNode:\n",
    "    def __init__(self, key):\n",
    "        self.key = key          # 노드에 저장될 키 값\n",
    "        self.parent = None      # 부모 노드\n",
    "        self.left = None        # 왼쪽 자식 노드\n",
    "        self.right = None       # 오른쪽 자식 노드\n",
    "\n",
    "####################### List에서 BST 만들기 (Insert함수 이용) ####################\n",
    "def create_BST(input_list: list):\n",
    "    root = None                     # 초기 루트는 None\n",
    "    \n",
    "    for item in input_list:         # 입력 리스트의 각 항목에 대해\n",
    "        root = insert(root, item)   # 트리에 항목 삽입\n",
    "    return root                      # 루트 반환\n",
    "\n",
    "############################ insert 함수 구현 ########################\n",
    "def insert(root:TreeNode, key:int):\n",
    "    if key is None:           # 키 값이 None인 경우 그대로 루트 반환\n",
    "        return root\n",
    "\n",
    "    if not root:              # 루트가 없으면 새 노드 생성 후 반환\n",
    "        return TreeNode(key)\n",
    "\n",
    "    if key < root.key:     # 키 값이 현재 루트보다 작으면 왼쪽 서브트리로\n",
    "        # 왼쪽 자식이 없으면 새 노드를 왼쪽 자식으로\n",
    "        if root.left is None: \n",
    "            root.left = TreeNode(key)\n",
    "            root.left.parent = root \n",
    "            \n",
    "        # 왼쪽 자식이 있으면 재귀적으로 왼쪽 서브트리에 삽입 \n",
    "        else:                 \n",
    "            insert(root.left, key)\n",
    "            \n",
    "    # 키 값이 현재 루트보다 크거나 같으면 오른쪽 서브트리로      \n",
    "    else:                   \n",
    "        if root.right is None: # 오른쪽 자식이 없으면 새 노드를 오른쪽 자식으로\n",
    "            root.right = TreeNode(key)\n",
    "            root.right.parent = root\n",
    "            \n",
    "         # 오른쪽 자식이 있으면 재귀적으로 오른쪽 서브트리에 삽입\n",
    "        else:                 \n",
    "            insert(root.right, key)\n",
    "\n",
    "    return root              # 수정된 루트 반환\n",
    "\n",
    "################# 왼쪽에서 오른쪽 방향으로 BFS 형태로 프린트 하기 ##################\n",
    "def print_BST(node:TreeNode):\n",
    "    if not node:              # 노드가 없으면 빈 리스트 반환\n",
    "        return []\n",
    "\n",
    "    result = []\n",
    "    queue = [node]            # 초기 큐에 루트 노드 저장\n",
    "\n",
    "    while queue:              # 큐가 빌 때까지 반복\n",
    "        current = queue.pop(0) # 큐에서 노드 꺼내기\n",
    "     \n",
    "        result.append(current.key)  # 결과 리스트에 키 값 추가\n",
    "\n",
    "        if current.left:      # 왼쪽 자식이 있으면 큐에 추가\n",
    "            queue.append(current.left)\n",
    "        if current.right:     # 오른쪽 자식이 있으면 큐에 추가\n",
    "            queue.append(current.right)\n",
    "\n",
    "    return result             # 결과 리스트 반환\n",
    "\n",
    "def insertIntoBST(root:list, key:int):\n",
    "    tree = create_BST(root)\n",
    "    result = insert(tree, key)\n",
    "    \n",
    "    return print_BST(result)\n",
    "    "
   ]
  },
  {
   "cell_type": "code",
   "execution_count": 37,
   "id": "66d85ce2",
   "metadata": {},
   "outputs": [
    {
     "data": {
      "text/plain": [
       "[4, 2, 7, 1, 3, 5]"
      ]
     },
     "execution_count": 37,
     "metadata": {},
     "output_type": "execute_result"
    }
   ],
   "source": [
    "root = [4,2,7,1,3,None,None,None,None,None,None]\n",
    "val = 5\n",
    "insertIntoBST(root, val)"
   ]
  },
  {
   "cell_type": "code",
   "execution_count": 38,
   "id": "17677a4d",
   "metadata": {},
   "outputs": [
    {
     "data": {
      "text/plain": [
       "[4, 2, 7, 1, 3, 5]"
      ]
     },
     "execution_count": 38,
     "metadata": {},
     "output_type": "execute_result"
    }
   ],
   "source": [
    "root = [4,2,7,1,3]\n",
    "val = 5\n",
    "insertIntoBST(root, val)"
   ]
  },
  {
   "cell_type": "markdown",
   "id": "7926aec8",
   "metadata": {},
   "source": [
    "## 450. Delete Node in a BST\n"
   ]
  },
  {
   "cell_type": "markdown",
   "id": "4586bcd6",
   "metadata": {},
   "source": [
    "<img src=\"/Users/soungmunkim/Desktop/Coding/QualExamCoding/soungmunkim/Python/BinaryTree/z_img/z_BSTdelete.png\">"
   ]
  },
  {
   "cell_type": "code",
   "execution_count": 32,
   "id": "e786df0e",
   "metadata": {},
   "outputs": [],
   "source": [
    "class TreeNode:\n",
    "    def __init__(self, key):\n",
    "        self.key = key          # 노드에 저장될 키 값\n",
    "        self.parent = None      # 부모 노드\n",
    "        self.left = None        # 왼쪽 자식 노드\n",
    "        self.right = None       # 오른쪽 자식 노드\n",
    "\n",
    "####################### List에서 BST 만들기 (Insert함수 이용) ####################\n",
    "def create_BST(input_list: list):\n",
    "    root = None                     # 초기 루트는 None\n",
    "    \n",
    "    for item in input_list:         # 입력 리스트의 각 항목에 대해\n",
    "        root = insert(root, item)   # 트리에 항목 삽입\n",
    "    return root                      # 루트 반환\n",
    "\n",
    "############################ insert 함수 구현 ########################\n",
    "def insert(root:TreeNode, key:int):\n",
    "    if key is None:           # 키 값이 None인 경우 그대로 루트 반환\n",
    "        return root\n",
    "\n",
    "    if not root:              # 루트가 없으면 새 노드 생성 후 반환\n",
    "        return TreeNode(key)\n",
    "\n",
    "    if key < root.key:     # 키 값이 현재 루트보다 작으면 왼쪽 서브트리로\n",
    "        # 왼쪽 자식이 없으면 새 노드를 왼쪽 자식으로\n",
    "        if root.left is None: \n",
    "            root.left = TreeNode(key)\n",
    "            root.left.parent = root \n",
    "            \n",
    "        # 왼쪽 자식이 있으면 재귀적으로 왼쪽 서브트리에 삽입 \n",
    "        else:                 \n",
    "            insert(root.left, key)\n",
    "            \n",
    "    # 키 값이 현재 루트보다 크거나 같으면 오른쪽 서브트리로      \n",
    "    else:                   \n",
    "        if root.right is None: # 오른쪽 자식이 없으면 새 노드를 오른쪽 자식으로\n",
    "            root.right = TreeNode(key)\n",
    "            root.right.parent = root\n",
    "            \n",
    "         # 오른쪽 자식이 있으면 재귀적으로 오른쪽 서브트리에 삽입\n",
    "        else:                 \n",
    "            insert(root.right, key)\n",
    "\n",
    "    return root              # 수정된 루트 반환\n",
    "\n",
    "###########################(delete 위해) transplant 함수 구현 ########################\n",
    "def transplant(root:TreeNode, u:TreeNode, v:TreeNode): \n",
    "    if not u.parent:         # u가 루트이면\n",
    "        root = v             # 루트를 v로 교체\n",
    "        \n",
    "    elif u == u.parent.left: # u가 왼쪽 자식이면\n",
    "        u.parent.left = v    # 부모의 왼쪽 자식을 v로\n",
    "        \n",
    "    else:                    # u가 오른쪽 자식이면\n",
    "        u.parent.right = v   # 부모의 오른쪽 자식을 v로\n",
    "        \n",
    "    if v:\n",
    "        v.parent = u.parent  # v의 부모를 u의 부모로 설정\n",
    "    return root              # 수정된 루트 반환\n",
    "\n",
    "############################ delete 함수 구현 ########################\n",
    "def delete(root:TreeNode, key:TreeNode):\n",
    "    z = search(root, key)    # 삭제할 노드 검색\n",
    "    \n",
    "    # 해당 노드를 찾으면\n",
    "    if z:             \n",
    "        \n",
    "         # 왼쪽 자식이 없으면       \n",
    "        if not z.left:      \n",
    "            root = transplant(root, z, z.right)\n",
    "            \n",
    "        # 오른쪽 자식이 없으면\n",
    "        elif not z.right:    \n",
    "            root = transplant(root, z, z.left)\n",
    "            \n",
    "        # 두 자식이 모두 있으면 \n",
    "        else:                \n",
    "            y = minimum(z.right)\n",
    "            \n",
    "            if y.parent != z:\n",
    "                root = transplant(root, y, y.right)\n",
    "                y.right = z.right\n",
    "                y.right.parent = y\n",
    "                \n",
    "            root = transplant(root, z, y)\n",
    "            y.left = z.left\n",
    "            y.left.parent = y\n",
    "            \n",
    "    return root              # 수정된 루트 반환\n",
    "\n",
    "###################### (delete or get target 찾는) search 함수 구현 ########################\n",
    "def search(node:TreeNode, key:int):\n",
    "    while node and key != node.key:  # 노드가 존재하고 키 값이 일치하지 않으면\n",
    "        if key < node.key:     # 키 값이 현재 노드보다 작으면 왼쪽으로\n",
    "            node = node.left\n",
    "        else:                  # 그렇지 않으면 오른쪽으로\n",
    "            node = node.right\n",
    "    return node               # 노드 반환 (찾지 못하면 None)\n",
    "\n",
    "\n",
    "def minimum(node:TreeNode):\n",
    "    while node.left:          # 가장 왼쪽 노드를 찾기 위해 왼쪽으로 이동\n",
    "        node = node.left\n",
    "    return node               # 가장 작은 값을 가진 노드 반환\n",
    "\n",
    "\n",
    "################# 왼쪽에서 오른쪽 방향으로 BFS 형태로 프린트 하기 ##################\n",
    "# def print_BST(node:TreeNode):\n",
    "#     if not node:              # 노드가 없으면 빈 리스트 반환\n",
    "#         return []\n",
    "\n",
    "#     result = []\n",
    "#     queue = [node]            # 초기 큐에 루트 노드 저장\n",
    "\n",
    "#     while queue:              # 큐가 빌 때까지 반복\n",
    "#         current = queue.pop(0) # 큐에서 노드 꺼내기\n",
    "     \n",
    "#         result.append(current.key)  # 결과 리스트에 키 값 추가\n",
    "\n",
    "#         if current.left:      # 왼쪽 자식이 있으면 큐에 추가\n",
    "#             queue.append(current.left)\n",
    "#         if current.right:     # 오른쪽 자식이 있으면 큐에 추가\n",
    "#             queue.append(current.right)\n",
    "\n",
    "#     return result             # 결과 리스트 반환\n",
    "\n",
    "\n",
    "############ (None node Null로 프린트) 왼쪽에서 오른쪽 방향으로 BFS 형태로 프린트 하기 #################\n",
    "def print_BST(node:TreeNode):\n",
    "    if not node:              # 노드가 없으면 빈 리스트 반환\n",
    "        return []\n",
    "\n",
    "    result = []\n",
    "    queue = [node]            # 초기 큐에 루트 노드 저장\n",
    "\n",
    "    while queue:              # 큐가 빌 때까지 반복\n",
    "        current = queue.pop(0) # 큐에서 노드 꺼내기\n",
    "        \n",
    "        if current:\n",
    "            result.append(current.key)\n",
    "            # None인 자식도 큐에 추가하여 후에 'Null'로 표시할 수 있도록 함\n",
    "            queue.append(current.left)\n",
    "            queue.append(current.right)\n",
    "            \n",
    "        else:\n",
    "            result.append('Null')\n",
    "\n",
    "    # 마지막에 연속된 'Null' 제거\n",
    "    while result and result[-1] == 'Null':\n",
    "        result.pop()\n",
    "\n",
    "    return result             # 결과 리스트 반환\n",
    "\n",
    "\n",
    "################ in order는 sorted list 형태로 나옴 ############\n",
    "# def print_BST(node):\n",
    "#     result = []\n",
    "\n",
    "#     def inorder(n):\n",
    "#         if n:\n",
    "#             inorder(n.left)\n",
    "#             result.append(n.key)\n",
    "#             inorder(n.right)\n",
    "\n",
    "#     inorder(node)\n",
    "#     return result\n",
    "\n",
    "\n",
    "def deleteNode(root:list, key:int):\n",
    "    tree = create_BST(root)\n",
    "    result_tree = delete(tree, key)\n",
    "    \n",
    "    return print_BST(result_tree)\n",
    "    \n",
    "    "
   ]
  },
  {
   "cell_type": "code",
   "execution_count": 30,
   "id": "68e6c943",
   "metadata": {},
   "outputs": [
    {
     "data": {
      "text/plain": [
       "[5, 4, 6, 2, 'Null', 'Null', 7]"
      ]
     },
     "execution_count": 30,
     "metadata": {},
     "output_type": "execute_result"
    }
   ],
   "source": [
    "root = [5,3,6,2,4,None,7]\n",
    "key = 3\n",
    "deleteNode(root, key)"
   ]
  },
  {
   "cell_type": "code",
   "execution_count": 33,
   "id": "d918b2cb",
   "metadata": {},
   "outputs": [
    {
     "data": {
      "text/plain": [
       "[5, 3, 6, 2, 4, 'Null', 7]"
      ]
     },
     "execution_count": 33,
     "metadata": {},
     "output_type": "execute_result"
    }
   ],
   "source": [
    "root = [5,3,6,2,4,None,7]\n",
    "key = 0\n",
    "deleteNode(root,key)"
   ]
  },
  {
   "cell_type": "markdown",
   "id": "3ce1e077",
   "metadata": {},
   "source": [
    "## 98. Validate BST"
   ]
  },
  {
   "cell_type": "code",
   "execution_count": 1,
   "id": "6ffaf6e1",
   "metadata": {},
   "outputs": [],
   "source": [
    "import sys\n",
    "\n",
    "# TreeNode 클래스를 정의합니다.\n",
    "class TreeNode:\n",
    "    # 초기화 함수로 노드 값을 설정하고 왼쪽, 오른쪽 자식 노드를 초기화합니다.\n",
    "    def __init__(self, val=0, left=None, right=None):\n",
    "        self.val = val       # 노드의 값을 저장하는 변수\n",
    "        self.left = left     # 왼쪽 자식 노드를 가리키는 포인터\n",
    "        self.right = right   # 오른쪽 자식 노드를 가리키는 포인터\n",
    "\n",
    "# 숫자 리스트를 이진 트리로 변환하는 함수\n",
    "def list_to_btree(nums: list) -> TreeNode:\n",
    "    if not nums:\n",
    "        return None\n",
    "\n",
    "    # 노드들을 저장할 큐를 생성합니다.\n",
    "    queue = []\n",
    "    \n",
    "    # 루트 노드를 생성하고 큐에 추가합니다.\n",
    "    root = TreeNode(nums[0])\n",
    "    queue.append(root)\n",
    "    \n",
    "    # 노드들을 연결하기 위해 리스트를 순회합니다.\n",
    "    i = 1\n",
    "    while queue and i < len(nums):\n",
    "        # 현재 노드를 큐에서 꺼냅니다.\n",
    "        current = queue.pop(0)\n",
    "        \n",
    "        # 왼쪽 자식이 있다면, 연결하고 큐에 추가합니다.\n",
    "        if nums[i] is not None:\n",
    "            left_child = TreeNode(nums[i])\n",
    "            current.left = left_child\n",
    "            queue.append(left_child)\n",
    "        i += 1\n",
    "\n",
    "        # 오른쪽 자식이 있다면, 연결하고 큐에 추가합니다.\n",
    "        if i < len(nums) and nums[i] is not None:\n",
    "            right_child = TreeNode(nums[i])\n",
    "            current.right = right_child\n",
    "            queue.append(right_child)\n",
    "        i += 1\n",
    "\n",
    "    return root\n",
    "\n",
    "\"\"\"\n",
    "루트 노드는 아무런 제한 없이 어떤 값을 가질 수 있기 때문에, lower를 음의 무한대로, upper를 양의 무한대로 설정합니다.\n",
    "왼쪽 서브트리로 이동할 때는 현재 노드의 값(node.val)이 최대값(upper)이 되고, lower는 그대로 유지됩니다. \n",
    "    이는 왼쪽 서브트리의 모든 노드들이 현재 노드의 값보다 작아야 하기 때문입니다.\n",
    "오른쪽 서브트리로 이동할 때는 현재 노드의 값(node.val)이 최소값(lower)이 되고, upper는 그대로 유지됩니다. \n",
    "    이는 오른쪽 서브트리의 모든 노드들이 현재 노드의 값보다 커야 하기 때문입니다.\n",
    "\"\"\"\n",
    "def isValidBST(root: list):\n",
    "    # list를 Binary tree로 변환 (TreeNode)\n",
    "    tree = list_to_btree(root)\n",
    "    \n",
    "    # dfs로 돌면서 binary search tree인지 체크하기\n",
    "    lower = float(\"-inf\")\n",
    "    upper = float(\"inf\")\n",
    "    \n",
    "    def dfs_BT(node, lower, upper):\n",
    "        #tree가 없으니 BST라고 가정함\n",
    "        if node is None:\n",
    "            return True\n",
    "        # 현재 node값이 현재 최소값보다 작으면 (범위 밖에 있으면)\n",
    "        if node.val <= lower:\n",
    "            return False\n",
    "        # 현재 node값이 현재 최대값보다 크면 (범위 밖에 있으면)\n",
    "        elif node.val >= upper:\n",
    "            return False\n",
    "        \n",
    "        # right에서 upper는 얼마나 크든 상관 없지만 right node가 현재 노드보다 작으면 안되서 설정함\n",
    "        return (dfs_BT(node.right, node.val, upper) and dfs_BT(node.left, lower, node.val))\n",
    "    \n",
    "    return dfs_BT(tree, lower, upper)"
   ]
  },
  {
   "cell_type": "code",
   "execution_count": 2,
   "id": "e5cb8bf7",
   "metadata": {},
   "outputs": [
    {
     "data": {
      "text/plain": [
       "True"
      ]
     },
     "execution_count": 2,
     "metadata": {},
     "output_type": "execute_result"
    }
   ],
   "source": [
    "root = [2,1,3]\n",
    "isValidBST(root)"
   ]
  },
  {
   "cell_type": "code",
   "execution_count": 3,
   "id": "81a538c3",
   "metadata": {},
   "outputs": [
    {
     "data": {
      "text/plain": [
       "False"
      ]
     },
     "execution_count": 3,
     "metadata": {},
     "output_type": "execute_result"
    }
   ],
   "source": [
    "root = [5,1,4,None,None,3,6]\n",
    "isValidBST(root)"
   ]
  },
  {
   "cell_type": "code",
   "execution_count": null,
   "id": "094f0b5e",
   "metadata": {},
   "outputs": [],
   "source": []
  }
 ],
 "metadata": {
  "kernelspec": {
   "display_name": "base",
   "language": "python",
   "name": "python3"
  },
  "language_info": {
   "codemirror_mode": {
    "name": "ipython",
    "version": 3
   },
   "file_extension": ".py",
   "mimetype": "text/x-python",
   "name": "python",
   "nbconvert_exporter": "python",
   "pygments_lexer": "ipython3",
   "version": "3.10.2"
  }
 },
 "nbformat": 4,
 "nbformat_minor": 5
}
