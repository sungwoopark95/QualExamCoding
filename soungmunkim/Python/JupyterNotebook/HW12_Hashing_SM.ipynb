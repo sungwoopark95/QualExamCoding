{
 "cells": [
  {
   "cell_type": "markdown",
   "id": "5d5e3d99",
   "metadata": {},
   "source": [
    "## 1. Hashing"
   ]
  },
  {
   "cell_type": "markdown",
   "id": "2daaae98",
   "metadata": {},
   "source": [
    "### 1) 각 쌍의 합이 모두 k로 나눠지는 짝 만들기"
   ]
  },
  {
   "cell_type": "code",
   "execution_count": null,
   "id": "159536fb",
   "metadata": {},
   "outputs": [],
   "source": [
    "\"\"\"\n",
    "0 이상 정수로 이루어진 리스트 nums 와 0 이상 정수 k 를 입력으로 받는다. \n",
    "리스트의 원소를 둘씩 짝지으려고 하는데, 각각의 쌍의 합이 모두 k로 나누어지도록 짝을 지으려 한다. \n",
    "가능하면 True, 불가능하면 False 를 return 하는 함수를 구현하시오.\n",
    "(리스트의 길이는 2 이상 짝수이다)\n",
    "\n",
    "TestCase1)\n",
    ">>> P1([123, 36, 54, 28, 39, 28], 3)\n",
    "True\n",
    "\"\"\""
   ]
  },
  {
   "cell_type": "code",
   "execution_count": 19,
   "id": "7e398e78",
   "metadata": {},
   "outputs": [],
   "source": [
    "def P1(nums:list, k:int):\n",
    "    remainder_dct = {}\n",
    "    # 각 숫자를 k로 나눈 뒤 나머지 값을 저장하는 dict\n",
    "    for num in nums:\n",
    "        remainder = num % k\n",
    "        if remainder not in remainder_dct:\n",
    "            remainder_dct[remainder] = 1\n",
    "        else:\n",
    "            remainder_dct[remainder] += 1\n",
    "            \n",
    "    # 나머지 값이 0인 숫자가 홀수면 False \n",
    "    if remainder_dct.get(0) % 2 != 0:\n",
    "        return False\n",
    "    \n",
    "    # 나머지 값이 0인 숫자들은 서로 짝지으면 되서 dictionary에서 삭제\n",
    "    if 0 in remainder_dct:\n",
    "        del remainder_dct[0]\n",
    "    \n",
    "    # 나머지 개수들 확인해서 가능한 짝 찾기\n",
    "    for remainder, count in remainder_dct.items():\n",
    "        # 현재 나머지와 짝지어질 수 있는 다른 나머지가 없으면 \n",
    "        if k - remainder not in remainder_dct:\n",
    "            return False\n",
    "        # 현재 나머지 개수와 짝 지어질 수 있는 다른 나머지 개수가 다르면 (모두 짝 지을 수 없어서)\n",
    "        if remainder_dct[k - remainder] != count:\n",
    "            return False \n",
    "    \n",
    "    return True\n",
    "    "
   ]
  },
  {
   "cell_type": "code",
   "execution_count": 20,
   "id": "ea680875",
   "metadata": {},
   "outputs": [
    {
     "data": {
      "text/plain": [
       "False"
      ]
     },
     "execution_count": 20,
     "metadata": {},
     "output_type": "execute_result"
    }
   ],
   "source": [
    "P1([123, 36, 54, 28, 39, 28], 3)"
   ]
  },
  {
   "cell_type": "code",
   "execution_count": 21,
   "id": "75ef80bb",
   "metadata": {},
   "outputs": [
    {
     "data": {
      "text/plain": [
       "False"
      ]
     },
     "execution_count": 21,
     "metadata": {},
     "output_type": "execute_result"
    }
   ],
   "source": [
    "P1([123, 36, 54, 28, 39, 28], 3)"
   ]
  },
  {
   "cell_type": "code",
   "execution_count": 22,
   "id": "7729123c",
   "metadata": {},
   "outputs": [
    {
     "data": {
      "text/plain": [
       "True"
      ]
     },
     "execution_count": 22,
     "metadata": {},
     "output_type": "execute_result"
    }
   ],
   "source": [
    "P1([3,7,6,5,4,5], 5)"
   ]
  },
  {
   "cell_type": "markdown",
   "id": "a8280ec0",
   "metadata": {},
   "source": [
    "### 2) 0과 1의 개수가 같은 부분 list의 길이 반환"
   ]
  },
  {
   "cell_type": "code",
   "execution_count": null,
   "id": "ae8c479d",
   "metadata": {},
   "outputs": [],
   "source": [
    "\"\"\"\n",
    "0과 1로만 이루어진 리스트 nums를 입력으로 받는다. 0과 1의 개수가 같은 부분 리스트의 길이의 최대값을 return 하는 함수를 구현하시오. \n",
    "부분 리스트란, 𝑛𝑢𝑚𝑠[𝑖: 𝑗], 0 ≤ 𝑖 ≤ 𝑗 ≤ 𝑙𝑒𝑛(𝑛𝑢𝑚𝑠)와 같이 리스트의 연속된 일부분을 뜻한다. \n",
    "그러한 부분 리스트가 없으면 0 을 return 하면 된다.\n",
    "(리스트의 길이는 1 이상이다.)\n",
    "\n",
    "TestCase1)\n",
    "P2([1,1,0,1,0,1])\n",
    "4\n",
    "\"\"\""
   ]
  },
  {
   "cell_type": "code",
   "execution_count": 130,
   "id": "b57b2ca8",
   "metadata": {},
   "outputs": [],
   "source": [
    "def P2(nums:list):\n",
    "    # j로 끝을 확인하기 위해 -1를 뒤에 붙이기\n",
    "    nums.append(-1)\n",
    "    dct = {0:1, 1:0}\n",
    "    \n",
    "    j = 1\n",
    "    idx_lst = []\n",
    "    max_len = 0\n",
    "    cnt = 0\n",
    "        \n",
    "    for i in range(len(nums)-1):\n",
    "        # 1과 0이 교차되는 index 쌍 list에 저장\n",
    "        if dct.get(nums[i]) == nums[j]:\n",
    "            idx_lst.append((i, j))\n",
    "            \n",
    "        # 1과 0이 교차되지 않거나 num list가 끝나면   \n",
    "        elif dct.get(nums[i]) != nums[j] or nums[j] == -1: \n",
    "            \n",
    "            #만약 교차된 게 있다면 끝점 - 시작점으로 count 알기\n",
    "            if len(idx_lst) > 0:\n",
    "                cnt = idx_lst[-1][-1] - idx_lst[0][0]\n",
    "           \n",
    "            # 최대값 Update\n",
    "            max_len = max(max_len, cnt)\n",
    "            # count가 홀수일 경우 +1 해서 짝수로 (1,0같은 개수 = 짝수)\n",
    "            if max_len % 2 != 0:\n",
    "                max_len += 1\n",
    "                \n",
    "            idx_list = [] # 교차되는 지점 다시 reset\n",
    "        \n",
    "        j += 1\n",
    "    \n",
    "    return max_len\n",
    "            "
   ]
  },
  {
   "cell_type": "code",
   "execution_count": 134,
   "id": "25dc8f3d",
   "metadata": {},
   "outputs": [
    {
     "data": {
      "text/plain": [
       "4"
      ]
     },
     "execution_count": 134,
     "metadata": {},
     "output_type": "execute_result"
    }
   ],
   "source": [
    "P2([1,1,0,1,0,1])"
   ]
  },
  {
   "cell_type": "code",
   "execution_count": 135,
   "id": "a810e4dc",
   "metadata": {},
   "outputs": [
    {
     "data": {
      "text/plain": [
       "0"
      ]
     },
     "execution_count": 135,
     "metadata": {},
     "output_type": "execute_result"
    }
   ],
   "source": [
    "P2([1,1,1,1,1,1])"
   ]
  },
  {
   "cell_type": "code",
   "execution_count": 136,
   "id": "aef0af77",
   "metadata": {},
   "outputs": [
    {
     "data": {
      "text/plain": [
       "2"
      ]
     },
     "execution_count": 136,
     "metadata": {},
     "output_type": "execute_result"
    }
   ],
   "source": [
    "P2([1,1,0,1,1,1])"
   ]
  },
  {
   "cell_type": "code",
   "execution_count": 144,
   "id": "5946d007",
   "metadata": {},
   "outputs": [],
   "source": [
    "def P2_ans(nums: list):\n",
    "    # 첫번째 발견된 누적 개수를 저장하는 딕셔너리 (누적 개수: 인덱스)\n",
    "    first_cnt = dict()\n",
    "    \n",
    "    # 현재까지 1과 0의 차이를 누적한 개수 (1은 +1, 0은 -1로 카운트)\n",
    "    curr_cnt = 0\n",
    "    \n",
    "    # 0과 1의 개수가 같은 최대 부분 리스트의 길이\n",
    "    max_len = 0\n",
    "    \n",
    "    # 리스트의 모든 요소를 순회하면서\n",
    "    for i in range(len(nums)):\n",
    "        # 현재 값이 0이면 curr_cnt를 1 감소\n",
    "        if nums[i] == 0:\n",
    "            curr_cnt += -1\n",
    "        # 현재 값이 1이면 curr_cnt를 1 증가\n",
    "        else:\n",
    "            curr_cnt += 1\n",
    "        \n",
    "        # 만약 curr_cnt가 0이면, 이전부터 현재까지 0과 1의 개수가 같다는 의미\n",
    "        if curr_cnt == 0:\n",
    "            print(i)\n",
    "            max_len = i+1\n",
    "        else:\n",
    "            # curr_cnt 값이 이전에 발견되었으면, 그 위치부터 현재 위치까지 0과 1의 개수가 같다는 의미\n",
    "            if curr_cnt in first_cnt:\n",
    "                max_len = max(max_len, i - first_cnt[curr_cnt])\n",
    "            # 처음 발견된 curr_cnt 값이면 위치 정보 저장\n",
    "            else:\n",
    "                first_cnt[curr_cnt] = i\n",
    "    \n",
    "    return max_len\n"
   ]
  },
  {
   "cell_type": "markdown",
   "id": "13e186a9",
   "metadata": {},
   "source": [
    "### 3) 두 부분 List의 합이 같은 최대 길이 반환"
   ]
  },
  {
   "cell_type": "code",
   "execution_count": null,
   "id": "6f94af2f",
   "metadata": {},
   "outputs": [],
   "source": [
    "\"\"\"\n",
    "0 과 1 로만 이루어진 리스트 A, B 를 입력으로 받는다. \n",
    "다음 조건을 만족하는 부분 리스트 길이의 최대값을 return 하는 함수를 구현하시오. \n",
    "그러한 부분 리스트가 없으면 0 을 return 하면 된다.\n",
    "(A와 B는 길이가 1이상이고, 길이가 서로 같다.)\n",
    "조건: \n",
    "𝑠𝑢𝑚(𝐴[𝑖: 𝑗]) == 𝑠𝑢𝑚(𝐵[𝑖: 𝑗]), 0 ≤ 𝑖 ≤ 𝑗 ≤ 𝑙𝑒𝑛(𝐴)\n",
    "\n",
    "TestCase1)\n",
    ">>> A = [0,1,1,(0,1,0,1,1),1]\n",
    ">>> B = [0,0,0,(1,0,1,0,1),0]\n",
    ">>>>P3(A,B)\n",
    "5 \n",
    "\n",
    "\"\"\""
   ]
  },
  {
   "cell_type": "code",
   "execution_count": 146,
   "id": "88a5031f",
   "metadata": {},
   "outputs": [],
   "source": [
    "def P3(A, B):\n",
    "    # 누적 합 리스트를 계산\n",
    "    \"\"\"\n",
    "    각각의 리스트에 대한 누적 합을 저장합니다. \n",
    "    예를 들어, A = [1, 2, 3] 이면 cum_sum_A = [0, 1, 3, 6]이 됩니다.\n",
    "    \"\"\"\n",
    "    cum_sum_A = [0]\n",
    "    cum_sum_B = [0]\n",
    "    \n",
    "    for a, b in zip(A, B):\n",
    "        cum_sum_A.append(cum_sum_A[-1] + a)\n",
    "        cum_sum_B.append(cum_sum_B[-1] + b)\n",
    "\n",
    "    max_len = 0\n",
    "    \n",
    "    # 가능한 모든 시작점에 대하여\n",
    "    for i in range(len(A) + 1):\n",
    "        # 가능한 모든 종료점에 대하여\n",
    "        for j in range(i + 1, len(A) + 1):\n",
    "            # A와 B의 부분 리스트 합을 계산\n",
    "            \"\"\"\n",
    "            부분 리스트 A[i:j]의 합은 cum_sum_A[j] - cum_sum_A[i]와 같습니다.\n",
    "            \"\"\"\n",
    "            sum_A = cum_sum_A[j] - cum_sum_A[i]\n",
    "            sum_B = cum_sum_B[j] - cum_sum_B[i]\n",
    "            \n",
    "            # 만약 두 부분 리스트의 합이 같다면, 최대 길이 Update 해보기\n",
    "            if sum_A == sum_B:\n",
    "                max_len = max(max_len, j - i)\n",
    "\n",
    "    return max_len\n"
   ]
  },
  {
   "cell_type": "code",
   "execution_count": 147,
   "id": "7cb56881",
   "metadata": {},
   "outputs": [
    {
     "data": {
      "text/plain": [
       "5"
      ]
     },
     "execution_count": 147,
     "metadata": {},
     "output_type": "execute_result"
    }
   ],
   "source": [
    "A = [0,1,1,0,1,0,1,1,1]\n",
    "B = [0,0,0,1,0,1,0,1,0]\n",
    "P3(A,B)"
   ]
  },
  {
   "cell_type": "code",
   "execution_count": 149,
   "id": "62ad490e",
   "metadata": {},
   "outputs": [
    {
     "data": {
      "text/plain": [
       "2"
      ]
     },
     "execution_count": 149,
     "metadata": {},
     "output_type": "execute_result"
    }
   ],
   "source": [
    "A = [0,0,0,0,0,1]\n",
    "B = [1,1,1,1,1,0]\n",
    "P3(A,B)"
   ]
  },
  {
   "cell_type": "code",
   "execution_count": 150,
   "id": "fd8252ac",
   "metadata": {},
   "outputs": [
    {
     "data": {
      "text/plain": [
       "6"
      ]
     },
     "execution_count": 150,
     "metadata": {},
     "output_type": "execute_result"
    }
   ],
   "source": [
    "A = [0,0,0,0,0,1]\n",
    "B = [1,0,0,0,0,0]\n",
    "P3(A,B)"
   ]
  },
  {
   "cell_type": "code",
   "execution_count": 151,
   "id": "04dc2292",
   "metadata": {},
   "outputs": [],
   "source": [
    "def P3_withfunc(A, B):\n",
    "    \n",
    "    # 누적 합 구하는 함수\n",
    "    def get_cumulative_sum(nums):\n",
    "        cum_sum = [0]\n",
    "        total = 0\n",
    "        for num in nums:\n",
    "            total += num\n",
    "            cum_sum.append(total)\n",
    "        return cum_sum\n",
    "    # 누적합을 각 리스트 마다 만들기\n",
    "    cum_sum_A = get_cumulative_sum(A)\n",
    "    cum_sum_B = get_cumulative_sum(B)\n",
    "\n",
    "    max_len = 0\n",
    "    sum_diff = {}\n",
    "\n",
    "    # 각 위치에서의 누적 합의 차이를 저장하며 동일한 차이를 가진 위치를 찾는다.\n",
    "    for i in range(len(A) + 1):\n",
    "        diff = cum_sum_A[i] - cum_sum_B[i]\n",
    "        \n",
    "        # 만약 동일한 차이가 이전에 나타났다면\n",
    "        if diff in sum_diff:\n",
    "            # 현재 위치와 이전 위치의 차이를 길이로 계산\n",
    "            length = i - sum_diff[diff]\n",
    "            max_len = max(max_len, length)\n",
    "        else:\n",
    "            sum_diff[diff] = i\n",
    "\n",
    "    return max_len\n"
   ]
  },
  {
   "cell_type": "markdown",
   "id": "2973f68f",
   "metadata": {},
   "source": [
    "### 4) 연속적인 수 뽑기 (최대 개수)"
   ]
  },
  {
   "cell_type": "code",
   "execution_count": null,
   "id": "119153d1",
   "metadata": {},
   "outputs": [],
   "source": [
    "\"\"\"\n",
    "정수로 이루어진 리스트 nums 를 입력으로 받는다. \n",
    "여기서 몇 개의 수를 뽑는데, 뽑은 수들이 연속적이어야 한다 (순서는 상관없음). \n",
    "뽑을 수 있는 최대 개수를 return 하는 함수를 구현하시오. (리스트의 길이는 1 이상이다.)\n",
    "\n",
    "TestCase1)\n",
    ">>>P4([3, 6, 4, 64, 10, 29, 5, 9, 11])\n",
    "4\n",
    "설명:3,6,4,5를 뽑으면 연속된 4개의 정수가 된다. 뽑는 방법은 여러가지일 수 있고, 최대 개수만 return 하면 된다.\n",
    "\"\"\""
   ]
  },
  {
   "cell_type": "code",
   "execution_count": 164,
   "id": "eb05c72b",
   "metadata": {},
   "outputs": [],
   "source": [
    "def P4_ans(nums: list):\n",
    "    \n",
    "    max_len = 0\n",
    "    # 중복 숫자 제외\n",
    "    s = set(nums)\n",
    "    \n",
    "    for i in range(len(nums)):\n",
    "        # nums[i]가 연속된 숫자의 시작 숫자인지 확인\n",
    "        # 만약 nums[i]-1이 set에 없으면, nums[i]는 연속된 숫자의 시작일 것임\n",
    "        if nums[i] - 1 not in s:\n",
    "            end = nums[i]\n",
    "           \n",
    "            # nums[i]부터 시작하여 연속되는 숫자가 있는 동안 반복\n",
    "            # 즉, end는 연속된 숫자의 마지막 숫자의 다음 숫자를 가리키게 됨 \n",
    "            while end in s:\n",
    "                end += 1\n",
    "            # 현재 연속된 숫자의 길이를 계산하고, 이전까지의 최대 길이와 비교하여 더 큰 값을 저장\n",
    "            # 연속된 숫자니까 index 차이로 계산 안 해도 구할 수 있음\n",
    "            max_len = max(max_len, end - nums[i])\n",
    "\n",
    "    return max_len    \n",
    "    "
   ]
  },
  {
   "cell_type": "code",
   "execution_count": 165,
   "id": "1edd7c85",
   "metadata": {},
   "outputs": [
    {
     "data": {
      "text/plain": [
       "4"
      ]
     },
     "execution_count": 165,
     "metadata": {},
     "output_type": "execute_result"
    }
   ],
   "source": [
    "P4_ans([3, 6, 4, 64, 10, 29, 5, 9, 11])"
   ]
  },
  {
   "cell_type": "code",
   "execution_count": 166,
   "id": "b4ded02c",
   "metadata": {},
   "outputs": [
    {
     "data": {
      "text/plain": [
       "6"
      ]
     },
     "execution_count": 166,
     "metadata": {},
     "output_type": "execute_result"
    }
   ],
   "source": [
    "P4_ans([-3, 2, 0, 1, -2, -1])"
   ]
  },
  {
   "cell_type": "code",
   "execution_count": 168,
   "id": "cfd318ed",
   "metadata": {},
   "outputs": [
    {
     "data": {
      "text/plain": [
       "1"
      ]
     },
     "execution_count": 168,
     "metadata": {},
     "output_type": "execute_result"
    }
   ],
   "source": [
    "P4_ans([-1, 5, 2, -6, 8])"
   ]
  },
  {
   "cell_type": "code",
   "execution_count": null,
   "id": "0b3fd22a",
   "metadata": {},
   "outputs": [],
   "source": []
  }
 ],
 "metadata": {
  "kernelspec": {
   "display_name": "base",
   "language": "python",
   "name": "python3"
  },
  "language_info": {
   "codemirror_mode": {
    "name": "ipython",
    "version": 3
   },
   "file_extension": ".py",
   "mimetype": "text/x-python",
   "name": "python",
   "nbconvert_exporter": "python",
   "pygments_lexer": "ipython3",
   "version": "3.9.12"
  }
 },
 "nbformat": 4,
 "nbformat_minor": 5
}
