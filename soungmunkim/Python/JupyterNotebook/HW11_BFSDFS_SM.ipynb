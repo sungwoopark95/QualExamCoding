{
 "cells": [
  {
   "cell_type": "markdown",
   "id": "5d5e3d99",
   "metadata": {},
   "source": [
    "## 1. BFS"
   ]
  },
  {
   "cell_type": "markdown",
   "id": "2daaae98",
   "metadata": {},
   "source": [
    "### 1) Range Sum of BST (Binary Search Tree)"
   ]
  },
  {
   "cell_type": "code",
   "execution_count": null,
   "id": "159536fb",
   "metadata": {},
   "outputs": [],
   "source": [
    "\"\"\"\n",
    "Binary Search Tree에서 range[low, high]에 해당하는 BST의 모든 노드 값을 합산하여 반환하는 함수 작성\n",
    "• BST 의 각 Node 는 TreeNode class 로 정의되며, printTree() Method 를 호출하면 tree 의 각 노드의 값을 리스트로 만들어 Return 해준다.\n",
    "• Input 은 BST 의 Root Node 와 low, high 가 주어질 것이다.\n",
    "• 모든 node 의 값은 BST 안에서 유일하다.\n",
    "\n",
    "• create_linked_bst: 정수 List를 입력 받아 BST를 구성하고 root node를 반환. (BFT의 순서로 입력되어야 함 = 첫 element:root node 값)\n",
    "• child node의 경우는 해당 노드의 값 보다 크거나 작아야 하지만 grand children 부터는 이 조건에 구애를 받지 않는다. \n",
    "    10 \n",
    "    /\\  \n",
    "   5  15 \n",
    "  /\\  /\\\n",
    " 3  7 9 18\n",
    " \n",
    "TestCase1) 3,5,7이 해당 range 안에 있으므로 15가 return된다.\n",
    "9는 Range 안에 있으나 BST를 검색할 때 range 의 최대값 9 가 Root node 보다 작으므로 왼쪽 Subtree 만 검색하여 3,5,7 의 합만 Return 하여야 한다.\n",
    ">>> root = create_linked_bst([10,5,15,3,7, 9, 18]) \n",
    ">>> P1(root, 3, 9)\n",
    "15\n",
    "\n",
    "TestCase2) 3, 5, 7, 9, 10, 15 가 해당 range 안에 있으므로 49 가 return 된다. \n",
    "range 의 최대값 15 가 Root node 보다 크므로 왼쪽, 오른쪽 Subtree 를 모두 검색하여야 하고 9 는 합산시 포함되어야 한다.\n",
    ">>> root = create_linked_bst([10,5,15,3,7, 9, 18]) \n",
    ">>> P1(root, 3, 15)\n",
    "49\n",
    "\n",
    "TestCase3) 7,10,15가 해당 range 안에 있으므로 32가 return된다.\n",
    ">>> root = create_linked_bst([10,5,15,3,7,None,18]) \n",
    ">>> P1(root, 7, 15)\n",
    "32\n",
    "\"\"\""
   ]
  },
  {
   "cell_type": "code",
   "execution_count": 51,
   "id": "9fb001bb",
   "metadata": {},
   "outputs": [],
   "source": [
    "class TreeNode:\n",
    "    def __init__(self, val=0, left=None, right=None):\n",
    "        self.val = val\n",
    "        self.left = left\n",
    "        self.right = right\n",
    "\n",
    "    # list로 반환\n",
    "    def printTree(self):\n",
    "        # 결과를 저장할 리스트 초기화\n",
    "        result = list()\n",
    "        # 현재 레벨의 노드들을 저장\n",
    "        thislevel = [self]\n",
    "        \n",
    "        # 노드가 있는 동안 계속 반복\n",
    "        while thislevel:\n",
    "            nextlevel = list()\n",
    "            none_list = 1\n",
    "            \n",
    "            # 현재 레벨에 실제 노드가 있는지 확인\n",
    "            for n in thislevel:\n",
    "                if n != None:\n",
    "                    none_list = 0\n",
    "                    break\n",
    "            if none_list == 1:\n",
    "                return result\n",
    "            \n",
    "            # 현재 레벨의 노드들을 결과 리스트에 추가\n",
    "            for n in thislevel:\n",
    "                if n != None: \n",
    "                    result.append(n.val)\n",
    "                    nextlevel.append(n.left)\n",
    "                    nextlevel.append(n.right)\n",
    "                else:\n",
    "                    result.append(None)\n",
    "                    nextlevel.append(None)\n",
    "                    nextlevel.append(None)\n",
    "            \n",
    "            # 다음 레벨로 이동\n",
    "            thislevel = nextlevel\n",
    "            \n",
    "        return result\n",
    "\n",
    "# 리스트에서 이진 트리를 생성하는 함수\n",
    "from collections import deque\n",
    "\n",
    "# TreeNode로 반환\n",
    "def create_linked_bst(arr: list):\n",
    "    # 주어진 리스트가 비어있는 경우 None 반환\n",
    "    if len(arr) < 1: return None\n",
    "    \n",
    "    # 리스트의 요소를 순회하는 반복자 초기화\n",
    "    n = iter(arr)\n",
    "    \n",
    "    # 루트 노드 생성\n",
    "    tree = TreeNode(next(n))\n",
    "    \n",
    "    # 생성된 노드를 저장하는 큐 초기화\n",
    "    fringe = deque([tree])\n",
    "    \n",
    "    # 리스트의 모든 요소를 순회\n",
    "    while True:\n",
    "        # 큐에서 노드를 꺼내서 자식 노드를 추가\n",
    "        head = fringe.popleft()\n",
    "        \n",
    "        try:\n",
    "            l = next(n)\n",
    "            # 왼쪽 자식 노드를 생성 (값이 None인 경우에는 노드를 생성하지 않음)\n",
    "            head.left = TreeNode(l) if l != None else None\n",
    "            fringe.append(head.left)\n",
    "            \n",
    "            r = next(n)\n",
    "            # 오른쪽 자식 노드를 생성 (값이 None인 경우에는 노드를 생성하지 않음)\n",
    "            head.right = TreeNode(r) if r != None else None\n",
    "            fringe.append(head.right)\n",
    "        except StopIteration:\n",
    "            # 리스트의 모든 요소를 순회한 경우 루프 종료\n",
    "            break\n",
    "            \n",
    "    return tree\n"
   ]
  },
  {
   "cell_type": "code",
   "execution_count": 52,
   "id": "b26008e4",
   "metadata": {},
   "outputs": [],
   "source": [
    "def P1(root: TreeNode, low: int, high: int):\n",
    "    \t\n",
    "\tans = 0\n",
    "\tif root == None:\n",
    "\t\treturn 0\n",
    "\telse:\n",
    "\t\t# if root.val가 주어진 범위 안에 있을 때\n",
    "\t\tif low <= root.val <= high:\n",
    "\t\t\t# root value와 left, right subtree에서 범위 안에 있는 값 누적하여 합하기\n",
    "\t\t\tans += root.val + P1(root.left, low, high) + P1(root.right, low, high)\n",
    "\t\t\n",
    "\t\t# root.val가 low보다 작을 때\n",
    "\t\telif root.val < low:\n",
    "\t\t\t# right subtree에서 범위 내에 속하는 값들 합치기\n",
    "\t\t\tans += P1(root.right, low, high)\n",
    "\t\t# root.val가 high보다 클 때\n",
    "\t\telse:\n",
    "\t\t\t# left subtree에서 범위 내에 속하는 값들 합하기\n",
    "\t\t\tans += P1(root.left, low, high)\n",
    "\t\t\n",
    "\treturn ans\n",
    "    ##### End of your code #####"
   ]
  },
  {
   "cell_type": "code",
   "execution_count": 53,
   "id": "2785e757",
   "metadata": {},
   "outputs": [
    {
     "data": {
      "text/plain": [
       "15"
      ]
     },
     "execution_count": 53,
     "metadata": {},
     "output_type": "execute_result"
    }
   ],
   "source": [
    "root = create_linked_bst([10,5,15,3,7, 9, 18])\n",
    "P1(root, 3, 9)"
   ]
  },
  {
   "cell_type": "code",
   "execution_count": 54,
   "id": "895c272f",
   "metadata": {},
   "outputs": [
    {
     "data": {
      "text/plain": [
       "49"
      ]
     },
     "execution_count": 54,
     "metadata": {},
     "output_type": "execute_result"
    }
   ],
   "source": [
    "root = create_linked_bst([10,5,15,3,7, 9, 18])\n",
    "P1(root, 3, 15)"
   ]
  },
  {
   "cell_type": "code",
   "execution_count": 32,
   "id": "afd2f618",
   "metadata": {},
   "outputs": [
    {
     "data": {
      "text/plain": [
       "32"
      ]
     },
     "execution_count": 32,
     "metadata": {},
     "output_type": "execute_result"
    }
   ],
   "source": [
    "root = create_linked_bst([10,5,15,3,7,None,18])\n",
    "P1(root, 7, 15)"
   ]
  },
  {
   "cell_type": "code",
   "execution_count": 33,
   "id": "c8ff1956",
   "metadata": {},
   "outputs": [
    {
     "data": {
      "text/plain": [
       "23"
      ]
     },
     "execution_count": 33,
     "metadata": {},
     "output_type": "execute_result"
    }
   ],
   "source": [
    "\n",
    "root = create_linked_bst ([10,5,15,3,7,13,18,1,None,6]) \n",
    "P1(root, 6, 10)"
   ]
  },
  {
   "cell_type": "markdown",
   "id": "b4bf1fcd",
   "metadata": {},
   "source": [
    "### List to BST"
   ]
  },
  {
   "cell_type": "code",
   "execution_count": null,
   "id": "2d60a5e7",
   "metadata": {},
   "outputs": [],
   "source": [
    "class TreeNode:\n",
    "    def __init__(self, val=0, left=None, right=None):\n",
    "        self.val = val\n",
    "        self.left = left\n",
    "        self.right = right\n",
    "\n",
    "# TreeNode로 반환\n",
    "def list_to_bst(nums: list):\n",
    "    # 먼저 list 순서대로 정렬하기\n",
    "    nums = sorted(nums)\n",
    "    \n",
    "    # Base case\n",
    "    if not nums:\n",
    "        return None\n",
    "\n",
    "    # 중앙 값을 찾아 트리의 root로 설정\n",
    "    mid = len(nums) // 2\n",
    "    root = TreeNode(nums[mid])\n",
    "\n",
    "    # 재귀적으로 왼쪽과 오른쪽 하위 트리를 구성\n",
    "    root.left = list_to_bst(nums[:mid])\n",
    "    root.right = list_to_bst(nums[mid+1:])\n",
    "\n",
    "    return root\n"
   ]
  },
  {
   "cell_type": "markdown",
   "id": "666e79ef",
   "metadata": {},
   "source": [
    "#### BST to List (In-order Traversal로 품)"
   ]
  },
  {
   "cell_type": "code",
   "execution_count": null,
   "id": "32767422",
   "metadata": {},
   "outputs": [],
   "source": [
    "class TreeNode:\n",
    "    def __init__(self, val=0, left=None, right=None):\n",
    "        self.val = val\n",
    "        self.left = left\n",
    "        self.right = right\n",
    "\n",
    "def bst_to_list(root):\n",
    "    result = []\n",
    "\n",
    "    def in_order_traversal(node):\n",
    "        if not node:\n",
    "            return\n",
    "        in_order_traversal(node.left)\n",
    "        result.append(node.val)\n",
    "        in_order_traversal(node.right)\n",
    "\n",
    "    in_order_traversal(root)\n",
    "    return result\n"
   ]
  },
  {
   "cell_type": "markdown",
   "id": "d6c33a9f",
   "metadata": {},
   "source": [
    "### 2) Tree level 별로 nodes 저장하는 리스트 함수 (Binary Search Tree)"
   ]
  },
  {
   "cell_type": "code",
   "execution_count": null,
   "id": "5e5844ac",
   "metadata": {},
   "outputs": [],
   "source": [
    "\"\"\"\n",
    "[Tree level 별 nodes 저장]\n",
    "Binary tree 에 대하여 Bottom-up level order traversal 을 하고 return 하는 함수를 작성하시오. \n",
    "즉, Leaf 부터 Root 까지 각 level 에 대해, 왼쪽에서부터 오른쪽 순서로 저장되어야 한다.\n",
    "\n",
    "• 이중리스트 형태로 return해야 하며, 같은 Depth인 Node들의 값이 같은 List에 저장되어야 한다.\n",
    "• input 으로는 binary tree 의 root 가 주어진다.\n",
    "\n",
    "TestCase 1)\n",
    "     3 \n",
    "    /\\\n",
    "   9  20 \n",
    "      /\\\n",
    "     15 7\n",
    ">>> root = create_linked_bst ([3,9,20,None,None,15,7])\n",
    ">>> P2(root)\n",
    "[[15, 7], [9, 20], [3]]\n",
    "\"\"\""
   ]
  },
  {
   "cell_type": "code",
   "execution_count": 44,
   "id": "6d182220",
   "metadata": {},
   "outputs": [],
   "source": [
    "def P2(root:TreeNode):\n",
    "    \n",
    "    # 입력된 root가 없을 경우 빈 list 반환\n",
    "    if not root:\n",
    "        return []\n",
    "    \n",
    "    # 결과를 저장할 list와 BFS traversal을 위한 queue 초기화\n",
    "    # 각 노드의 자식을 알아야 traversal가 가능하기 때문에 root.val이 아닌 root로 넣어야 함\n",
    "    result, queue = [], [root]\n",
    "    \n",
    "    # queue에 node가 있을 동안 traversal\n",
    "    while queue:\n",
    "        cur_level = []\n",
    "        level_size = len(queue)\n",
    "        \n",
    "        # 현재 level의 nodes 돌면서 node value 저장\n",
    "        for node in range(level_size):\n",
    "            cur_node = queue.pop(0)\n",
    "            cur_level.append(cur_node.val)\n",
    "            \n",
    "            # 현재 노드에 left child node가 있으면 queue에 넣기\n",
    "            if cur_node.left:\n",
    "                queue.append(cur_node.left)\n",
    "            # 현재 노드에 right child node가 있으면 queue에 넣기\n",
    "            if cur_node.right:\n",
    "                queue.append(cur_node.right)\n",
    "        \n",
    "        # 각 level들 담기\n",
    "        result.append(cur_level)\n",
    "        \n",
    "    # leaf부터 root까지 왼쪽에서 오른쪽 순서이므로 reverse 필요\n",
    "    result.reverse()    \n",
    "    return result\n",
    "    "
   ]
  },
  {
   "cell_type": "code",
   "execution_count": 45,
   "id": "4da580ab",
   "metadata": {},
   "outputs": [
    {
     "data": {
      "text/plain": [
       "[[15, 7], [9, 20], [3]]"
      ]
     },
     "execution_count": 45,
     "metadata": {},
     "output_type": "execute_result"
    }
   ],
   "source": [
    "root = create_linked_bst ([3,9,20,None,None,15,7])\n",
    "P2(root)"
   ]
  },
  {
   "cell_type": "code",
   "execution_count": 46,
   "id": "0c8d26a4",
   "metadata": {},
   "outputs": [
    {
     "data": {
      "text/plain": [
       "[[3, 7, 18], [5, 15], [10]]"
      ]
     },
     "execution_count": 46,
     "metadata": {},
     "output_type": "execute_result"
    }
   ],
   "source": [
    "root = create_linked_bst([10,5,15,3,7,None,18])\n",
    "P2(root)"
   ]
  },
  {
   "cell_type": "code",
   "execution_count": 47,
   "id": "662851cd",
   "metadata": {},
   "outputs": [
    {
     "data": {
      "text/plain": [
       "[[2, 4, 7], [3, 6], [5]]"
      ]
     },
     "execution_count": 47,
     "metadata": {},
     "output_type": "execute_result"
    }
   ],
   "source": [
    "root = create_linked_bst([5,3,6,2,4,None,7]) \n",
    "P2(root)"
   ]
  },
  {
   "cell_type": "markdown",
   "id": "6e41efa2",
   "metadata": {},
   "source": [
    "### 3) Insert value into BST: Make full (Binary Search Tree)"
   ]
  },
  {
   "cell_type": "code",
   "execution_count": null,
   "id": "3dc651be",
   "metadata": {},
   "outputs": [],
   "source": [
    "\"\"\"\n",
    "Full BST 에서 1 개의 Node 만 비어 있는 BST 에 1 개의 값을 추가하여 Full BST 로 만들고, root node 를 return 하는 함수를 작성하여라.\n",
    "\n",
    "• Input 은 BST 의 root node 와 추가할 정수값이다.\n",
    "• Node 의 모든 값은 정수라고 가정한다.\n",
    "• 추가되는 값은 Input BST 에 존재하지 않는다고 가정한다.\n",
    " \n",
    "• Tree 를 새로 생성하는 방식으로의 구현은 인정하지 않는다. \n",
    "(ex. 원래 tree 의 값들을 받아 리스트로 만든 뒤 다음 값을 추가해서 create_linked_bst 를 사용하는 방식의 구현은 안됨)\n",
    "\n",
    ">>> root = create_linked_bst( [7,3,8,2,5,None,9])\n",
    ">>> fullBST = P3(root, 6)\n",
    ">>> print(fullBST .printTree())\n",
    "[6, 3, 8, 2, 5, 7, 9]\n",
    "\"\"\""
   ]
  },
  {
   "cell_type": "code",
   "execution_count": 59,
   "id": "ea3fb03a",
   "metadata": {},
   "outputs": [],
   "source": [
    "def inorder_traversal(node, result):\n",
    "    if not node:\n",
    "        return\n",
    "    inorder_traversal(node.left, result)\n",
    "    result.append(node.val)\n",
    "    inorder_traversal(node.right, result)\n",
    "\n",
    "def sorted_list_to_BST(nums):\n",
    "    if not nums:\n",
    "        return None\n",
    "    \n",
    "    mid = len(nums) // 2\n",
    "    \n",
    "    root = TreeNode(nums[mid])\n",
    "    root.left = sorted_list_to_BST(nums[:mid])\n",
    "    root.right = sorted_list_to_BST(nums[mid+1:])\n",
    "    \n",
    "    return root\n",
    "\n",
    "def convert_to_BST(root):\n",
    "    # 중위 순회를 통해 트리의 모든 값을 리스트에 저장\n",
    "    values = []\n",
    "    inorder_traversal(root, values)\n",
    "    values.sort()  # 리스트 정렬\n",
    "    \n",
    "    # 정렬된 리스트를 이용해 BST 구성\n",
    "    return sorted_list_to_BST(values)\n"
   ]
  },
  {
   "cell_type": "code",
   "execution_count": 63,
   "id": "2abe02a1",
   "metadata": {},
   "outputs": [],
   "source": [
    "class TreeNode:\n",
    "    def __init__(self, val=0, left=None, right=None):\n",
    "        self.val = val\n",
    "        self.left = left\n",
    "        self.right = right\n",
    "\n",
    "    # list로 반환\n",
    "    def printTree(self):\n",
    "        # 결과를 저장할 리스트 초기화\n",
    "        result = list()\n",
    "        # 현재 레벨의 노드들을 저장\n",
    "        thislevel = [self]\n",
    "        \n",
    "        # 노드가 있는 동안 계속 반복\n",
    "        while thislevel:\n",
    "            nextlevel = list()\n",
    "            none_list = 1\n",
    "            \n",
    "            # 현재 레벨에 실제 노드가 있는지 확인\n",
    "            for n in thislevel:\n",
    "                if n != None:\n",
    "                    none_list = 0\n",
    "                    break\n",
    "            if none_list == 1:\n",
    "                return result\n",
    "            \n",
    "            # 현재 레벨의 노드들을 결과 리스트에 추가\n",
    "            for n in thislevel:\n",
    "                if n != None: \n",
    "                    result.append(n.val)\n",
    "                    nextlevel.append(n.left)\n",
    "                    nextlevel.append(n.right)\n",
    "                else:\n",
    "                    result.append(None)\n",
    "                    nextlevel.append(None)\n",
    "                    nextlevel.append(None)\n",
    "            \n",
    "            # 다음 레벨로 이동\n",
    "            thislevel = nextlevel\n",
    "            \n",
    "        return result\n",
    "\n",
    "# 리스트에서 이진 트리를 생성하는 함수\n",
    "from collections import deque\n",
    "\n",
    "# TreeNode로 반환\n",
    "def create_linked_bst(arr: list):\n",
    "    # 주어진 리스트가 비어있는 경우 None 반환\n",
    "    if len(arr) < 1: return None\n",
    "    \n",
    "    # 리스트의 요소를 순회하는 반복자 초기화\n",
    "    n = iter(arr)\n",
    "    \n",
    "    # 루트 노드 생성\n",
    "    tree = TreeNode(next(n))\n",
    "    \n",
    "    # 생성된 노드를 저장하는 큐 초기화\n",
    "    fringe = deque([tree])\n",
    "    \n",
    "    # 리스트의 모든 요소를 순회\n",
    "    while True:\n",
    "        # 큐에서 노드를 꺼내서 자식 노드를 추가\n",
    "        head = fringe.popleft()\n",
    "        \n",
    "        try:\n",
    "            l = next(n)\n",
    "            # 왼쪽 자식 노드를 생성 (값이 None인 경우에는 노드를 생성하지 않음)\n",
    "            head.left = TreeNode(l) if l != None else None\n",
    "            fringe.append(head.left)\n",
    "            \n",
    "            r = next(n)\n",
    "            # 오른쪽 자식 노드를 생성 (값이 None인 경우에는 노드를 생성하지 않음)\n",
    "            head.right = TreeNode(r) if r != None else None\n",
    "            fringe.append(head.right)\n",
    "        except StopIteration:\n",
    "            # 리스트의 모든 요소를 순회한 경우 루프 종료\n",
    "            break\n",
    "            \n",
    "    return tree"
   ]
  },
  {
   "cell_type": "code",
   "execution_count": 66,
   "id": "30e63117",
   "metadata": {},
   "outputs": [],
   "source": [
    "# TreeNode로 반환됨\n",
    "def P3(root:TreeNode, val:int):\n",
    "    \n",
    "    \"\"\" \n",
    "    countNode 함수 (노드 개수 파악): \n",
    "    subtree의 left와 right child의 노드 개수 파악\n",
    "    어느 subtree에 값을 insert할지 결정할 때 쓰임\n",
    "    \"\"\"\n",
    "    def countNode(head):\n",
    "        # base case\n",
    "        if head is None:\n",
    "            return 0\n",
    "        return 1 + countNode(head.right) + countNode(head.left) # root + right subtree node 개수 + left subtree node 개수\n",
    "    \n",
    "    \"\"\"\n",
    "    help function:\n",
    "    주어진 subtree에 값을 insert하고, 새로운 subtree를 return 하는 recursive function\n",
    "    \"\"\"\n",
    "    def _insert(head, val):\n",
    "        # base case\n",
    "        if head is None:\n",
    "            # 새로운 val 값을 가진 TreeNode 생성하고 return함\n",
    "            return TreeNode(val)\n",
    "        # head가 None이 아니면 head의 left와 right subtree의 node 수를 세고 head 값을 root val로 둠\n",
    "        left_cnt = countNode(head.left) # 해당 node의 left subtree node 개수\n",
    "        right_cnt = countNode(head.right) # 해당 node의 right subtree node 개수\n",
    "        root_val = head.val # 해당 값을 root val로 둠\n",
    "        \n",
    "        \"\"\"\n",
    "        left나 right child 중 하나가 None 일 경우 \n",
    "        (left subtree가 없거나 right subtree가 없는 경우) -> 새 value를 적절한 위치에 insert하고 return함\n",
    "        \"\"\"\n",
    "        # left가 None 일 경우 (left subtree가 없는 경우)\n",
    "        if left_cnt == 0:\n",
    "            right_val = head.right.val # head의 right node의 val\n",
    "            # 만약 insert val이 head의 right node val보다 클 경우) head.left: 기존 root val / head: head.right val / head.right val: insert된 val \n",
    "            if val > right_val:\n",
    "                head.left = TreeNode(root_val)\n",
    "                head.val = right_val\n",
    "                head.right.val = val\n",
    "            # 만약 insert val이 root val 보다는 크고 head.right val보다는 작은 경우) head.left: 기존 root val / head: insert된 val\n",
    "            elif val > root_val:\n",
    "                head.left = TreeNode(root_val)\n",
    "                head.val = val\n",
    "            # 만약 insert val이 root val보다 작은 경우) head.left: insert된 val\n",
    "            else:\n",
    "                head.left = TreeNode(val)\n",
    "            \n",
    "            return head\n",
    "        \n",
    "        # right가 None 일 경우 (right subtree가 없는 경우)\n",
    "        elif right_cnt == 0:\n",
    "            left_val = head.left.val\n",
    "            if val > root_val:\n",
    "                head.right = TreeNode(val)\n",
    "            elif val > left_val:\n",
    "                head.right = TreeNode(root_val)\n",
    "                head.val = val\n",
    "            else:\n",
    "                head.right = TreeNode(root_val)\n",
    "                head.val = left_val\n",
    "                head.left.val = val\n",
    "                \n",
    "            return head\n",
    "        \"\"\"\n",
    "        left subtree에 더 많은 수의 노드가 있으면 (left subtree가 full BST라면),\n",
    "        right subtree에 값을 삽입해야 함\n",
    "        반대의 경우에는 반대로\n",
    "        \"\"\"\n",
    "        # left subtree가 full일 경우 \n",
    "        if left_cnt > right_cnt:\n",
    "            if val > root_val: # inset val이 root val보다 크면 -> 그냥 head.right에 넣기\n",
    "                head.right = _insert(head.right, val)\n",
    "            # left subtree가 full인데 val이 root val보다 작을 때 -> full에  값 넣어야 함\n",
    "            else:\n",
    "                # left subtree에서 가장 큰 값 찾기\n",
    "                parentOfLargest = head.left\n",
    "                largest = head.left\n",
    "                # 큰 값의 오른쪽이 없을때까지 반복 (가장 큰 값 찾을때까지)\n",
    "                while largest.right is not None:\n",
    "                    parentOfLargest = largest\n",
    "                    largest = largest.right\n",
    "                    \n",
    "                # 만약 val 이 left subtree에서 가장 큰 값보다 작은 경우 \n",
    "                # -> head: left subtree에서 가장 큰 값 / head.left: insert val/ head.right: 기존 root val \n",
    "                if val < largest.val:\n",
    "                    head.val = largest.val\n",
    "                    parentOfLargest.right = None\n",
    "                    head.left = _insert(head.left, val)\n",
    "                    head.right = _insert(head.right, root_val)\n",
    "                \n",
    "                # 만약 val이 left subtree에서 가장 큰 값보다 큰 경우\n",
    "                # -> head: insert val / head.right: 기존 root val \n",
    "                else:\n",
    "                    head.val = val\n",
    "                    head.right = _insert(head.right, root_val)\n",
    "        \n",
    "        # right subtree가 full인 경우 \n",
    "        else:\n",
    "            # val이 root 값보다 크다면 (left subtree에 값 넣어야 함) \n",
    "            # -> right subtree에서 가장 작은 value 찾기\n",
    "            if val > root_val:\n",
    "                parentOfSmallest = head.right\n",
    "                smallest = head.right\n",
    "                # 가장 작은 값 찾을때까지 반복\n",
    "                while smallest.left is not None:\n",
    "                    parentofSmallest = smallest\n",
    "                    smallest = smallest.left\n",
    "                \n",
    "                # 만약 val이 riught subtree에서 가장 작은 값보다 큰 경우\n",
    "                # -> head: right subtree에서 가장 작은 값 / head.left: 기존 root val / head.right: insert val   \n",
    "                if val > smallest.val:\n",
    "                    head.val = smallest.val\n",
    "                    parentOfSmallest.left = None\n",
    "                    head.right = _insert(head.right, val)\n",
    "                    head.left = _insert(head.left, root_val)\n",
    "                \n",
    "                # 만약 val이 right subtree에서 가장 작은 값보다 작은 경우\n",
    "                # -> head: insert val / head.left: 기존 root val\n",
    "                else:\n",
    "                    head.val = val\n",
    "                    head.left = _insert(head.left, root_val)\n",
    "            # right subtree가 full인데 val이 root 값보다 작다면 -> 그냥 left subtree에 넣기         \n",
    "            else:\n",
    "                head.left = _insert(head.left, val)\n",
    "        return head\n",
    "    \n",
    "    # 적절한 subtree에 값을 삽입하기 위해 recursively call 함\n",
    "    _insert(root, val)\n",
    "    return root\n",
    "\n",
    "                    \n",
    "        \n",
    "            "
   ]
  },
  {
   "cell_type": "code",
   "execution_count": 67,
   "id": "b61ed058",
   "metadata": {},
   "outputs": [
    {
     "name": "stdout",
     "output_type": "stream",
     "text": [
      "[6, 3, 8, 2, 5, 7, 9]\n"
     ]
    }
   ],
   "source": [
    "root = create_linked_bst( [7,3,8,2,5,None,9])\n",
    "fullBST = P3(root, 6)\n",
    "print(fullBST .printTree())"
   ]
  },
  {
   "cell_type": "code",
   "execution_count": 68,
   "id": "c26940d0",
   "metadata": {},
   "outputs": [
    {
     "name": "stdout",
     "output_type": "stream",
     "text": [
      "[7, 3, 9, 2, 5, 8, 10]\n"
     ]
    }
   ],
   "source": [
    "root = create_linked_bst( [7,3,8,2,5,None,9])\n",
    "fullBST = P3(root, 10)\n",
    "print(fullBST .printTree())"
   ]
  },
  {
   "cell_type": "code",
   "execution_count": 69,
   "id": "5e8e5062",
   "metadata": {},
   "outputs": [
    {
     "name": "stdout",
     "output_type": "stream",
     "text": [
      "[10, 5, 15, 3, 7, 12, 18, 1, 4, 6, 8, 11, 13, 16, 20]\n"
     ]
    }
   ],
   "source": [
    "root = create_linked_bst( [10,5,15,3,6,12,18,1,4,None,8,11,13,16,20])\n",
    "fullBST = P3(root, 7)\n",
    "print(fullBST .printTree())"
   ]
  },
  {
   "cell_type": "code",
   "execution_count": 70,
   "id": "b54d778b",
   "metadata": {},
   "outputs": [
    {
     "name": "stdout",
     "output_type": "stream",
     "text": [
      "[10, 5, 14, 3, 7, 12, 18, 1, 4, 6, 8, 11, 13, 15, 20]\n"
     ]
    }
   ],
   "source": [
    "root = create_linked_bst( [10,5,15,3,7,12,18,1,4,6,8,11,13,None,20]) \n",
    "fullBST = P3(root, 14)\n",
    "print(fullBST .printTree())"
   ]
  },
  {
   "cell_type": "code",
   "execution_count": 71,
   "id": "ac645210",
   "metadata": {},
   "outputs": [
    {
     "name": "stdout",
     "output_type": "stream",
     "text": [
      "[9, 5, 13, 3, 7, 11, 18, 1, 4, 6, 8, 10, 12, 15, 20]\n"
     ]
    }
   ],
   "source": [
    "root = create_linked_bst( [10,5,15,3,7,12,18,1,4,6,8,11,13,None,20]) \n",
    "fullBST = P3(root, 9)\n",
    "print(fullBST .printTree())"
   ]
  },
  {
   "cell_type": "markdown",
   "id": "44e8e72f",
   "metadata": {},
   "source": [
    "### 1) 방 안에 퍼지는 방귀 "
   ]
  },
  {
   "cell_type": "code",
   "execution_count": null,
   "id": "3dcefaea",
   "metadata": {},
   "outputs": [],
   "source": [
    "\"\"\"\n",
    "M x N 사이즈의 방 안에 뿡뿡이 몇 명이 방귀를 뀌었다. \n",
    "방귀는 1초가 지나면 인접한 공간 (위, 아래, 왼쪽, 오른쪽)으로 퍼진다. \n",
    "지독한 방귀이기에 한번 퍼지기 시작하면 사라지지 않는다. \n",
    "몇 초 만에 방 전체로 방귀가 퍼지는지 시간을 계산하여 return \n",
    "\n",
    "● M과 N은 1 이상 자연수이다.\n",
    "● 리스트는0또는1또는-1로되어있다.\n",
    "    ■ 0은방귀가퍼질수있는빈공간이다.\n",
    "    ■ 1은처음(0초일때)뿡뿡이들이방귀를뀐자리이다.최소한곳이상에방귀를 뀌었고, 방귀는 동시에 퍼진다.\n",
    "    ■ 방귀는위,아래,왼쪽,오른쪽으로퍼질수있고,대각선으로는퍼질수없다.\n",
    "    ■ 1초마다 퍼진다.\n",
    "    ■ -1은 벽이어서 방귀가 퍼질 수 없다.\n",
    "● 방전체,즉 0인 곳 모두로 방귀가 퍼질때까지 걸린 시간을 return 해야한다.\n",
    "    ■ 방 전체로 방귀가 퍼질 수 없으면 -1을 return한다.\n",
    "● 처음(0초)부터 방귀가 꽉 찬 상태면 0을 return한다.\n",
    "\n",
    "TestCase1) \n",
    ">>> P1([[-1, 1], \n",
    "        [1, -1]])\n",
    "0\n",
    "설명: 처음부터 방귀가 꽉 차 있으므로 0을 return\n",
    "TestCase2)\n",
    ">>> P1([[1, 0]]) \n",
    "1\n",
    "\"\"\""
   ]
  },
  {
   "cell_type": "code",
   "execution_count": 303,
   "id": "1ef9822e",
   "metadata": {},
   "outputs": [],
   "source": [
    "# 돌아가는 코드\n",
    "from collections import deque\n",
    "\n",
    "def P1(room):\n",
    "    # 방의 크기(행과 열)를 구합니다.\n",
    "    row = len(room)\n",
    "    col = len(room[0])\n",
    "\n",
    "    # 방향들: 오른쪽, 아래쪽, 왼쪽, 위쪽\n",
    "    directions = [(0, 1), (1, 0), (0, -1), (-1, 0)]\n",
    "\n",
    "    # 방 전체가 방귀로 꽉 차있는지 검사, 만약 꽉 차있으면 0을 반환합니다.\n",
    "    if all(val != 0 for r in room for val in r):\n",
    "        return 0\n",
    "\n",
    "    # BFS를 통해 방귀를 확산하는 함수\n",
    "    def bfs():\n",
    "        # 방귀가 처음 시작된 모든 위치를 queue에 넣습니다. (중요!)\n",
    "        q = deque([(i, j, 0) for i in range(row) for j in range(col) if room[i][j] == 1])\n",
    "\n",
    "        max_time = 0\n",
    "\n",
    "        # 큐가 빌 때까지 BFS 실행\n",
    "        while q:\n",
    "            i, j, t = q.popleft()\n",
    "            \n",
    "            # 현재 위치에서 네 방향을 검사합니다.\n",
    "            for dx, dy in directions:\n",
    "                ni, nj = i + dx, j + dy\n",
    "\n",
    "                # 새로운 위치가 방 내부에 있고 방귀가 아직 확산되지 않았다면\n",
    "                if 0 <= ni < row and 0 <= nj < col and room[ni][nj] == 0:\n",
    "                    room[ni][nj] = 1  # 방귀 확산\n",
    "                    q.append((ni, nj, t + 1))  # 새로운 위치와 시간을 큐에 추가\n",
    "                    max_time = max(max_time, t + 1)  # 최대 시간 업데이트\n",
    "\n",
    "        return max_time\n",
    "\n",
    "    # BFS를 수행하여 방귀 확산에 필요한 최대 시간을 얻습니다.\n",
    "    max_time = bfs()\n",
    "\n",
    "    # 방귀가 확산되지 않은 위치가 있으면 -1을 반환합니다.\n",
    "    for i in range(row):\n",
    "        for j in range(col):\n",
    "            if room[i][j] == 0:\n",
    "                return -1\n",
    "\n",
    "    return max_time\n"
   ]
  },
  {
   "cell_type": "code",
   "execution_count": 304,
   "id": "1007e917",
   "metadata": {},
   "outputs": [
    {
     "data": {
      "text/plain": [
       "0"
      ]
     },
     "execution_count": 304,
     "metadata": {},
     "output_type": "execute_result"
    }
   ],
   "source": [
    "P1([[-1, 1], [1, -1]])"
   ]
  },
  {
   "cell_type": "code",
   "execution_count": 305,
   "id": "c2af8855",
   "metadata": {},
   "outputs": [
    {
     "data": {
      "text/plain": [
       "1"
      ]
     },
     "execution_count": 305,
     "metadata": {},
     "output_type": "execute_result"
    }
   ],
   "source": [
    "P1([[1, 0]])"
   ]
  },
  {
   "cell_type": "code",
   "execution_count": 306,
   "metadata": {},
   "outputs": [
    {
     "data": {
      "text/plain": [
       "8"
      ]
     },
     "execution_count": 306,
     "metadata": {},
     "output_type": "execute_result"
    }
   ],
   "source": [
    "P1([\n",
    "    [0,0,0,0,0,0], \n",
    "    [0,0,0,0,0,0], \n",
    "    [0,0,0,0,0,0],\n",
    "    [0,0,0,0,0,1]\n",
    "    ])"
   ]
  },
  {
   "cell_type": "code",
   "execution_count": 307,
   "id": "1ccc5690",
   "metadata": {},
   "outputs": [
    {
     "data": {
      "text/plain": [
       "-1"
      ]
     },
     "execution_count": 307,
     "metadata": {},
     "output_type": "execute_result"
    }
   ],
   "source": [
    "P1([[ 0,-1,0,0,0,0], [-1, 0,0,0,0,0], [ 0, 0,0,0,0,0],\n",
    "[ 0, 0,0,0,0,1]])"
   ]
  },
  {
   "cell_type": "code",
   "execution_count": 310,
   "id": "034ad646",
   "metadata": {},
   "outputs": [
    {
     "data": {
      "text/plain": [
       "6"
      ]
     },
     "execution_count": 310,
     "metadata": {},
     "output_type": "execute_result"
    }
   ],
   "source": [
    "P1([[1,-1,0,0, 0,0], [0,-1,0,0, 0,0], [0, 0,0,0,-1,0],\n",
    "[0, 0,0,0,-1,1]])"
   ]
  },
  {
   "cell_type": "code",
   "execution_count": 311,
   "id": "46928da4",
   "metadata": {},
   "outputs": [
    {
     "data": {
      "text/plain": [
       "14"
      ]
     },
     "execution_count": 311,
     "metadata": {},
     "output_type": "execute_result"
    }
   ],
   "source": [
    "P1([[-1,1, 0, 0,0], [0,-1,-1,-1,0], [0,-1,-1,-1,0], [0,-1,-1,-1,0],\n",
    "[0, 0, 0, 0,0]])"
   ]
  },
  {
   "cell_type": "markdown",
   "id": "0a5f62b7",
   "metadata": {},
   "source": [
    "### 2) Social Media (연결 되어있는 node 수 구하기)"
   ]
  },
  {
   "cell_type": "code",
   "execution_count": null,
   "id": "8925c140",
   "metadata": {},
   "outputs": [],
   "source": [
    "\"\"\"\n",
    "어떤 소셜 미디어에는 1번부터 n번까지의 회원이 있고, 친구 관계를 tuple로 표현할 수 있다. \n",
    "예를 들어, (1, 2)라는 것은 1번과 2번이 서로 친구라는 것이다(쌍방향). \n",
    "즉, 친구 관계는 그래프로 나타낼 수 있다. \n",
    "이 때, 친구 관계로 이어진 모든 회원을 하나의 클러스터라고 하자. \n",
    "1번 회원이 속한 클러스터의 회원 수를 return하는 함수 P2를 구현하라.\n",
    "\n",
    "● 회원 수 n과 친구관계를 나타내는 tuple의 리스트 edges를 입력으로 받는다.\n",
    "● n은 1 이상 자연수이고, edges는 tuple로 이루어진 리스트이다.\n",
    "■ 리스트 원소의 개수는 0이상\n",
    "■ 각 tuple은 서로 다른 2개의 수(1이상n이하)로 이루어져있다. (똑같은tuple은 없다.)\n",
    "● 회원 수에는 1번도 포함시킨다.\n",
    "\n",
    "TestCase1)\n",
    ">>>P2(7, [(1, 2), (2,3), (1,5), (5, 2), (5, 6), (4, 7)])\n",
    "5\n",
    "\"\"\""
   ]
  },
  {
   "cell_type": "code",
   "execution_count": 431,
   "id": "d48e21e4",
   "metadata": {},
   "outputs": [],
   "source": [
    "from collections import deque\n",
    "import numpy as np\n",
    "\n",
    "def P2(n: int, graph: list):\n",
    "    max_cnt = 0\n",
    "    \n",
    "    def bfs(row: int):\n",
    "        # 현재 회원\n",
    "        cur_row = row\n",
    "        # max_cnt는 global 함수로\n",
    "        nonlocal max_cnt\n",
    "        # queue에 현재 회원(row)에서 모든 edge(col) 다 보면서 연결된 다른 회원 queue에 넣기\n",
    "        q = deque([(cur_row, col) for col in range(n) if adj_matrx[cur_row][col] == 1])\n",
    "        # print(f\" queue is {q}\")\n",
    "        nodes = set() # 회원 수를 알아야 하므로 unique 회원\n",
    "        \n",
    "        while q:\n",
    "            val, edge = q.popleft()\n",
    "\n",
    "            if (0 <= val < n) and (0 <= edge < n) and adj_matrx[val][edge] == 1:\n",
    "                # print(f\"(val, edge) is {(val, edge)}\")\n",
    "                adj_matrx[val][edge] = 0 # visit한 것 체크\n",
    "                nodes.add(val) # 회원 unique 한지\n",
    "                nodes.add(edge) # 회원 unique 한지\n",
    "                # 현재 노드와 연결되면 val, edge -> edge, val로 바뀌므로 순서 바꾸고 모든 회원 봐야하니 for loop돌기\n",
    "                for i in range(1,n):\n",
    "                    q.append((edge, val+i))\n",
    "                    q.append((edge, val-i))\n",
    "        # 가장 큰 cluster 회원 수 return\n",
    "        max_cnt = max(max_cnt, len(nodes))\n",
    "    \n",
    "    \n",
    "    # Adj matrix row, col만들기 위해 가장 큰 node val 찾기 (회원 수가 있어서 필요 없음)\n",
    "    # vals = []\n",
    "    # edges = []  \n",
    "    # node_idx = [] \n",
    "    # for node in graph:\n",
    "    #     val, edge = node\n",
    "    #     vals.append(val)\n",
    "    #     edges.append(edge)\n",
    "    #     # node 연결되 index 찾기\n",
    "    #     node_idx.append([val, edge])\n",
    "    \n",
    "    # adj matrix 0으로 구성하기 (회원수가 있어서 max로 볼 필요 없음)\n",
    "    # Row = max(vals)\n",
    "    # Col = max(edges) \n",
    "    # adj_len = max(Row, Col)\n",
    "    \n",
    "    # base case (node 1개만 있을 떄)\n",
    "    if n == 1:\n",
    "        return 1\n",
    "    \n",
    "    \"\"\"\n",
    "    adj matrix를 [회원 수 x 회원 수] 만큼 만들어서 서로 연결 되었으면 1 표시\n",
    "    \"\"\"\n",
    "    \n",
    "    adj_matrx = np.zeros([n, n])\n",
    "    \n",
    "    # node 연결된 위치에 1로 바꾸기 = adj matrix 완성\n",
    "    # node가 1부터 시작되는데 index는 0부터 시작이니까 -1하기\n",
    "    for idx in graph:\n",
    "        i, j = idx\n",
    "        adj_matrx[i-1][j-1] = 1\n",
    "    \n",
    "    # bfs 실행\n",
    "    # 한 회원이 연결된 회원들 동시에 queue에 넣어야 하므로 row만 돌기\n",
    "    for row in range(n):\n",
    "        bfs(row)\n",
    "    \n",
    "    return max_cnt"
   ]
  },
  {
   "cell_type": "code",
   "execution_count": 432,
   "id": "87119477",
   "metadata": {},
   "outputs": [
    {
     "data": {
      "text/plain": [
       "5"
      ]
     },
     "execution_count": 432,
     "metadata": {},
     "output_type": "execute_result"
    }
   ],
   "source": [
    "P2(7, [(1, 2), (2,3), (1,5), (5, 2), (5, 6), (4, 7)])"
   ]
  },
  {
   "cell_type": "code",
   "execution_count": 433,
   "id": "63d8ce63",
   "metadata": {},
   "outputs": [
    {
     "data": {
      "text/plain": [
       "1"
      ]
     },
     "execution_count": 433,
     "metadata": {},
     "output_type": "execute_result"
    }
   ],
   "source": [
    "P2(1, [])"
   ]
  },
  {
   "cell_type": "code",
   "execution_count": 434,
   "id": "bef95c27",
   "metadata": {},
   "outputs": [
    {
     "data": {
      "text/plain": [
       "2"
      ]
     },
     "execution_count": 434,
     "metadata": {},
     "output_type": "execute_result"
    }
   ],
   "source": [
    "P2(3, [(1,2)])"
   ]
  },
  {
   "cell_type": "code",
   "execution_count": 435,
   "id": "16dd9a9a",
   "metadata": {},
   "outputs": [
    {
     "data": {
      "text/plain": [
       "2"
      ]
     },
     "execution_count": 435,
     "metadata": {},
     "output_type": "execute_result"
    }
   ],
   "source": [
    "P2(4, [(1, 2), (2, 1)])"
   ]
  },
  {
   "cell_type": "markdown",
   "id": "9772b4c7",
   "metadata": {},
   "source": [
    "### 3) 글자 필터링 (대각선 가능한 섬 개수 느낌)"
   ]
  },
  {
   "cell_type": "code",
   "execution_count": null,
   "id": "c3ae9fb0",
   "metadata": {},
   "outputs": [],
   "source": [
    "\"\"\"\n",
    "필터링된 이미지 속에서 글자(알파벳)가 몇 개인지 알아보는 프로그램을 만들어 보고자 한다. \n",
    "해당 필터는 이미지에서 글자인 부분은 1, 글자가 아닌 부분은 0으로 바꾼다고 한다. \n",
    "한 개의 글자는 1이 상, 하, 좌, 우, 대각선으로 인접하여 서로 연결되어 있다. \n",
    "해당 필터를 적용 하여 만든 이미지가 입력으로 주어졌을 때, 입력 이미지 내의 글자의 개수를 return하는 함 수 P3를 구현하라.\n",
    "\n",
    "    ● 입력 값은 MxN 사이즈의 리스트이며 M, N은 1 이상 자연수이다. \n",
    "    ● 리스트에 숫자 0, 1외의 값은 없다.\n",
    "    ● 원본 이미지 속 글자는 알파벳 대문자로만 구성되어 있다\n",
    "\"\"\""
   ]
  },
  {
   "cell_type": "code",
   "execution_count": 445,
   "id": "405a3049",
   "metadata": {},
   "outputs": [],
   "source": [
    "from collections import deque\n",
    "def P3(matrix: list):\n",
    "    \n",
    "    Row = len(matrix)\n",
    "    Col = len(matrix[0])\n",
    "    \n",
    "    # 방향들: 오른쪽, 아래쪽, 왼쪽, 위쪽, 대각선 4방향\n",
    "    directions = [(0, 1), (1, 0), (0, -1), (-1, 0), (1,1), (-1,-1), (1,-1), (-1,1)]\n",
    "    \n",
    "    def bfs(row, col):\n",
    "        q = deque([(row, col)])\n",
    "        print(f\" queue is {q}\")\n",
    "        while q:\n",
    "            i, j = q.popleft()\n",
    "            \n",
    "            for dx, dy in directions:\n",
    "                ni, nj = i+dx, j+dy\n",
    "                \n",
    "                if (0 <= ni < Row) and (0 <= nj < Col) and matrix[ni][nj] == 1:\n",
    "                    matrix[ni][nj] = 0\n",
    "                    q.append((ni, nj))\n",
    "        return 1\n",
    "                \n",
    "                \n",
    "    ch = 0\n",
    "    for row in range(Row):\n",
    "        for col in range(Col):\n",
    "            if matrix[row][col] == 1:\n",
    "                ch += bfs(row, col)\n",
    "    return ch\n",
    "            "
   ]
  },
  {
   "cell_type": "code",
   "execution_count": 446,
   "id": "eade522d",
   "metadata": {},
   "outputs": [
    {
     "name": "stdout",
     "output_type": "stream",
     "text": [
      " queue is deque([(1, 3)])\n",
      " queue is deque([(1, 7)])\n",
      " queue is deque([(1, 13)])\n"
     ]
    },
    {
     "data": {
      "text/plain": [
       "3"
      ]
     },
     "execution_count": 446,
     "metadata": {},
     "output_type": "execute_result"
    }
   ],
   "source": [
    "P3([[0, 0, 0, 0, 0, 0, 0, 0, 0, 0, 0, 0, 0, 0, 0, 0, 0, 0, 0], \n",
    "    [0, 0, 0, 1, 0, 0, 0, 1, 0, 0, 0, 1, 0, 1, 1, 1, 1, 1, 0], \n",
    "    [0, 0, 1, 0, 1, 0, 0, 1, 1, 0, 0, 1, 0, 0, 0, 1, 0, 0, 0], \n",
    "    [0, 1, 0, 0, 0, 1, 0, 1, 0, 1, 0, 1, 0, 0, 0, 1, 0, 0, 0], \n",
    "    [0, 1, 1, 1, 1, 1, 0, 1, 0, 1, 0, 1, 0, 0, 0, 1, 0, 0, 0], \n",
    "    [0, 1, 0, 0, 0, 1, 0, 1, 0, 0, 1, 1, 0, 0, 0, 1, 0, 0, 0], \n",
    "    [0, 1, 0, 0, 0, 1, 0, 1, 0, 0, 0, 1, 0, 0, 0, 1, 0, 0, 0], \n",
    "    [0, 0, 0, 0, 0, 0, 0, 0, 0, 0, 0, 0, 0, 0, 0, 0, 0, 0, 0]])"
   ]
  },
  {
   "cell_type": "code",
   "execution_count": 447,
   "id": "31885a37",
   "metadata": {},
   "outputs": [
    {
     "name": "stdout",
     "output_type": "stream",
     "text": [
      " queue is deque([(1, 1)])\n"
     ]
    },
    {
     "data": {
      "text/plain": [
       "1"
      ]
     },
     "execution_count": 447,
     "metadata": {},
     "output_type": "execute_result"
    }
   ],
   "source": [
    "P3([[0, 0, 0, 0, 0], \n",
    "    [0, 1, 1, 0, 0], \n",
    "    [0, 1, 0, 1, 0], \n",
    "    [0, 1, 0, 1, 0], \n",
    "    [0, 1, 1, 0, 0],\n",
    "[0, 0, 0, 0, 0]])"
   ]
  },
  {
   "cell_type": "code",
   "execution_count": 448,
   "id": "4a6acb0f",
   "metadata": {},
   "outputs": [
    {
     "name": "stdout",
     "output_type": "stream",
     "text": [
      " queue is deque([(0, 1)])\n",
      " queue is deque([(0, 11)])\n",
      " queue is deque([(8, 1)])\n",
      " queue is deque([(8, 11)])\n"
     ]
    },
    {
     "data": {
      "text/plain": [
       "4"
      ]
     },
     "execution_count": 448,
     "metadata": {},
     "output_type": "execute_result"
    }
   ],
   "source": [
    "P3([[0, 1, 1, 0, 0, 0, 0, 0, 0, 0, 0, 1, 1, 0, 0, 0, 0, 0], \n",
    "    [0, 1, 1, 0, 0, 0, 0, 0, 0, 0, 1, 0, 0, 1, 0, 0, 0, 0], \n",
    "    [0, 1, 1, 0, 0, 0, 0, 0, 0, 1, 0, 0, 0, 0, 1, 0, 0, 0], \n",
    "    [0, 1, 1, 0, 0, 0, 0, 0, 0, 1, 0, 0, 0, 0, 1, 0, 0, 0], \n",
    "    [0, 1, 1, 0, 0, 0, 0, 0, 0, 1, 0, 0, 0, 0, 1, 0, 0, 0], \n",
    "    [0, 1, 1, 1, 1, 1, 0, 0, 0, 0, 1, 0, 0, 1, 0, 0, 0, 0], \n",
    "    [0, 1, 1, 1, 1, 1, 0, 0, 0, 0, 0, 1, 1, 0, 0, 0, 0, 0], \n",
    "    [0, 0, 0, 0, 0, 0, 0, 0, 0, 0, 0, 0, 0, 0, 0, 0, 0, 0], \n",
    "    [0, 1, 0, 0, 0, 0, 0, 1, 0, 0, 0, 1, 1, 1, 1, 1, 1, 0], \n",
    "    [0, 1, 1, 0, 0, 0, 1, 1, 0, 0, 0, 1, 0, 0, 0, 0, 0, 0], \n",
    "    [0, 0, 1, 1, 0, 1, 1, 0, 0, 0, 0, 1, 1, 1, 1, 1, 1, 0], \n",
    "    [0, 0, 1, 1, 0, 1, 1, 0, 0, 0, 0, 1, 0, 0, 0, 0, 0, 0], \n",
    "    [0, 0, 0, 1, 1, 1, 0, 0, 0, 0, 0, 1, 0, 0, 0, 0, 0, 0], \n",
    "    [0, 0, 0, 0, 1, 0, 0, 0, 0, 0, 0, 1, 1, 1, 1, 1, 1, 0], \n",
    "    [0, 0, 0, 0, 0, 0, 0, 0, 0, 0, 0, 0, 0, 0, 0, 0, 0, 0]])"
   ]
  },
  {
   "cell_type": "markdown",
   "id": "f480b69c",
   "metadata": {},
   "source": [
    "### 4) 섬의 개수"
   ]
  },
  {
   "cell_type": "code",
   "execution_count": null,
   "id": "97e2c9f2",
   "metadata": {},
   "outputs": [],
   "source": [
    "\"\"\"\n",
    "M x N 리스트인 world를 함수의 입력으로 받는다. \n",
    "리스트의 원소는 1 또는 0으로 이루어 져 있고, 1은 땅, 0은 물을 의미한다. \n",
    "이 때, 인접한 땅으로 연결되어 있고, 물로 둘러 싸여 있는 지역을 섬이라고 하자. \n",
    "섬의 개수를 return 하는 함수를 구현하라.\n",
    "\n",
    "    ● M과 N은 1이상 자연수이다.\n",
    "    ● 리스트 바깥은 물이라고 가정한다.\n",
    "    ● 인접해 있다는 것은 상,하,좌,우 네방향 중 한 곳에서 붙어있는 것이고,대각선 방향은 인접해 있는 것이 아니다.\n",
    "    ● 섬이 아닌 땅은 없다.\n",
    "\n",
    "예시1)\n",
    ">>> P5([[1,1,1,1,0], \n",
    "        [1,0,0,1,0], \n",
    "        [1,1,0,1,0],\n",
    "        [1,1,0,0,0]]) \n",
    "1\n",
    "\"\"\""
   ]
  },
  {
   "cell_type": "code",
   "execution_count": 454,
   "id": "a31fb6bd",
   "metadata": {},
   "outputs": [],
   "source": [
    "from collections import deque\n",
    "\n",
    "def P4(matrix: list):\n",
    "    \n",
    "    Row = len(matrix)\n",
    "    Col = len(matrix[0])\n",
    "    # 앞 뒤 양 옆\n",
    "    directions = [(0,1), (1,0), (0,-1), (-1,0)]\n",
    "    \n",
    "    def bfs(row, col):\n",
    "        q = deque([(row, col)])\n",
    "        \n",
    "        while q:\n",
    "            i, j = q.popleft()\n",
    "            # direction 별로 돌기\n",
    "            for dx, dy in directions:\n",
    "                ni, nj = i+dx, j+dy\n",
    "                # 섬이면 visit하고 주변 queue에 넣기\n",
    "                if (0 <= ni < Row) and (0 <= nj < Col) and matrix[ni][nj] == 1:\n",
    "                    matrix[ni][nj] = 0\n",
    "                    q.append((ni, nj))\n",
    "        return 1   # 한 bfs 다 끝나면 한 섬 다 돈 것\n",
    "    \n",
    "    tot = 0\n",
    "    for row in range(Row):\n",
    "        for col in range(Col):\n",
    "            if matrix[row][col] == 1:\n",
    "               tot += bfs(row, col)\n",
    "    \n",
    "    return tot"
   ]
  },
  {
   "cell_type": "code",
   "execution_count": 455,
   "id": "2dbe0b64",
   "metadata": {},
   "outputs": [
    {
     "data": {
      "text/plain": [
       "1"
      ]
     },
     "execution_count": 455,
     "metadata": {},
     "output_type": "execute_result"
    }
   ],
   "source": [
    "P4([[1,1,1,1,0], \n",
    "    [1,0,0,1,0], \n",
    "    [1,1,0,1,0],\n",
    "    [1,1,0,0,0]])"
   ]
  },
  {
   "cell_type": "code",
   "execution_count": 456,
   "id": "658dd123",
   "metadata": {},
   "outputs": [
    {
     "data": {
      "text/plain": [
       "3"
      ]
     },
     "execution_count": 456,
     "metadata": {},
     "output_type": "execute_result"
    }
   ],
   "source": [
    "P4([[1,1,0,0,0], \n",
    "    [1,1,0,0,0],\n",
    "    [0,0,1,1,0],\n",
    "    [0,0,0,0,1]])"
   ]
  },
  {
   "cell_type": "code",
   "execution_count": 458,
   "id": "55eac5c3",
   "metadata": {},
   "outputs": [
    {
     "data": {
      "text/plain": [
       "1"
      ]
     },
     "execution_count": 458,
     "metadata": {},
     "output_type": "execute_result"
    }
   ],
   "source": [
    "P4([[1,1,1,1,1], \n",
    "    [1,1,1,1,1], \n",
    "    [1,1,1,1,1],\n",
    "    [1,1,1,1,1]])"
   ]
  },
  {
   "cell_type": "code",
   "execution_count": 459,
   "id": "1ed79043",
   "metadata": {},
   "outputs": [
    {
     "data": {
      "text/plain": [
       "0"
      ]
     },
     "execution_count": 459,
     "metadata": {},
     "output_type": "execute_result"
    }
   ],
   "source": [
    "P4([[0,0,0,0,0], \n",
    "    [0,0,0,0,0],\n",
    "    [0,0,0,0,0],\n",
    "    [0,0,0,0,0]])"
   ]
  },
  {
   "cell_type": "code",
   "execution_count": 461,
   "id": "451372f8",
   "metadata": {},
   "outputs": [
    {
     "data": {
      "text/plain": [
       "4"
      ]
     },
     "execution_count": 461,
     "metadata": {},
     "output_type": "execute_result"
    }
   ],
   "source": [
    "P4([[1,0,0,0,1], \n",
    "    [1,1,0,0,0], \n",
    "    [0,0,0,1,1],\n",
    "    [0,1,0,1,0]])"
   ]
  },
  {
   "cell_type": "code",
   "execution_count": 462,
   "id": "f63dcf5a",
   "metadata": {},
   "outputs": [
    {
     "data": {
      "text/plain": [
       "2"
      ]
     },
     "execution_count": 462,
     "metadata": {},
     "output_type": "execute_result"
    }
   ],
   "source": [
    "P4([[1], \n",
    "    [0], \n",
    "    [1],\n",
    "    [1]])"
   ]
  },
  {
   "cell_type": "code",
   "execution_count": 463,
   "id": "d6053e3f",
   "metadata": {},
   "outputs": [
    {
     "data": {
      "text/plain": [
       "2"
      ]
     },
     "execution_count": 463,
     "metadata": {},
     "output_type": "execute_result"
    }
   ],
   "source": [
    "P4([[1,0,0,0,1]])"
   ]
  },
  {
   "cell_type": "code",
   "execution_count": null,
   "id": "5c2d85e5",
   "metadata": {},
   "outputs": [],
   "source": []
  }
 ],
 "metadata": {
  "kernelspec": {
   "display_name": "base",
   "language": "python",
   "name": "python3"
  },
  "language_info": {
   "codemirror_mode": {
    "name": "ipython",
    "version": 3
   },
   "file_extension": ".py",
   "mimetype": "text/x-python",
   "name": "python",
   "nbconvert_exporter": "python",
   "pygments_lexer": "ipython3",
   "version": "3.9.12"
  }
 },
 "nbformat": 4,
 "nbformat_minor": 5
}
