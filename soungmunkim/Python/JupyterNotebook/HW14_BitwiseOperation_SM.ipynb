{
 "cells": [
  {
   "cell_type": "markdown",
   "id": "82564dbd",
   "metadata": {},
   "source": [
    "### 1) 주어진 양의 정수 n을 이진수로 나타냈을 때 교차 비트로 이루어져 있는지를 확인하여 bool 값으로 return 하는 P1 함수"
   ]
  },
  {
   "cell_type": "code",
   "execution_count": 32,
   "id": "45273843",
   "metadata": {},
   "outputs": [],
   "source": [
    "def P1(n: int):\n",
    "    m = n\n",
    "    bit = \"\"\n",
    "    # bit로 변환하기\n",
    "    while m > 1:\n",
    "        remainder = m % 2\n",
    "        bit += str(remainder)\n",
    "        m = int(m/2)\n",
    "    bit += '1'\n",
    "    bit = bit[::-1]\n",
    "    \n",
    "    #해당 bit에서 교차피트가 아닐 경우 바로 false return하기\n",
    "    i=0\n",
    "    while i < len(bit)-1:\n",
    "        if bit[i]== bit[i+1]:\n",
    "            return False\n",
    "        i+=1\n",
    "    return True\n",
    "    "
   ]
  },
  {
   "cell_type": "code",
   "execution_count": 33,
   "id": "9e1c7ae4",
   "metadata": {},
   "outputs": [
    {
     "data": {
      "text/plain": [
       "False"
      ]
     },
     "execution_count": 33,
     "metadata": {},
     "output_type": "execute_result"
    }
   ],
   "source": [
    "P1(8)"
   ]
  },
  {
   "cell_type": "code",
   "execution_count": 34,
   "id": "ae274645",
   "metadata": {},
   "outputs": [
    {
     "data": {
      "text/plain": [
       "True"
      ]
     },
     "execution_count": 34,
     "metadata": {},
     "output_type": "execute_result"
    }
   ],
   "source": [
    "P1(10)"
   ]
  },
  {
   "cell_type": "code",
   "execution_count": 35,
   "id": "064c33d1",
   "metadata": {
    "scrolled": true
   },
   "outputs": [
    {
     "data": {
      "text/plain": [
       "False"
      ]
     },
     "execution_count": 35,
     "metadata": {},
     "output_type": "execute_result"
    }
   ],
   "source": [
    "P1(4294967295)"
   ]
  },
  {
   "cell_type": "markdown",
   "id": "dfb1693f",
   "metadata": {},
   "source": [
    "### 2) 0이상 정수 num을 입력으로 받는다.Num을 32bit로 나타낸 다음 (반드시 32bit로 나타내어야 한다. 앞자리 수가 비더라도 0으로 채워서 32자리를 맞춰야 함),bit를 거꾸로 뒤집었을 때의 값을 0 이상의 10 진수 정수로 return 하는 P2 함수"
   ]
  },
  {
   "cell_type": "code",
   "execution_count": 58,
   "id": "6a618d26",
   "metadata": {},
   "outputs": [],
   "source": [
    "def P2(n: int):\n",
    "    m = n\n",
    "    bit = \"\"\n",
    "    # bit로 변환하기\n",
    "    while m > 1:\n",
    "        remainder = m % 2\n",
    "        bit += str(remainder)\n",
    "        m = int(m/2)\n",
    "    bit += '1'\n",
    "    bit = bit[::-1]\n",
    "    \n",
    "    #32bits에 맞게 0채우기\n",
    "    bit32 = bit.zfill(32)\n",
    "\n",
    "    # 뒤집어서 계산하면 0번째가 2^32이기때문에 그냥 뒤집지 않고 계산하면 0번째가 2^0이됨\n",
    "    i = 0\n",
    "    ans = 0\n",
    "    while i<32:\n",
    "        ans += int(bit32[i])*2**(i)\n",
    "        i+=1\n",
    "    return ans"
   ]
  },
  {
   "cell_type": "code",
   "execution_count": 59,
   "id": "979d9fb8",
   "metadata": {},
   "outputs": [
    {
     "data": {
      "text/plain": [
       "964176192"
      ]
     },
     "execution_count": 59,
     "metadata": {},
     "output_type": "execute_result"
    }
   ],
   "source": [
    "P2(43261596)"
   ]
  },
  {
   "cell_type": "code",
   "execution_count": 60,
   "id": "16c47179",
   "metadata": {},
   "outputs": [
    {
     "data": {
      "text/plain": [
       "3221225471"
      ]
     },
     "execution_count": 60,
     "metadata": {},
     "output_type": "execute_result"
    }
   ],
   "source": [
    "P2(4294967293)"
   ]
  },
  {
   "cell_type": "code",
   "execution_count": 61,
   "id": "0e0fb07a",
   "metadata": {},
   "outputs": [
    {
     "data": {
      "text/plain": [
       "2830359264"
      ]
     },
     "execution_count": 61,
     "metadata": {},
     "output_type": "execute_result"
    }
   ],
   "source": [
    "P2(123456789)\n"
   ]
  },
  {
   "cell_type": "markdown",
   "id": "3ea75270",
   "metadata": {},
   "source": [
    "### 3) nums의 성분 중, 두 개의 정수는 한 개씩만 있고, 나머지 정수들은 두 개씩 있다. 한 개씩 있는 두 개의 정수를 set 으로 return 하는 P3 함수\n",
    "정수로 이루어진 리스트 nums"
   ]
  },
  {
   "cell_type": "code",
   "execution_count": 64,
   "id": "4c0a421b",
   "metadata": {},
   "outputs": [],
   "source": [
    "def P3(lst: list):\n",
    "    dic = {}\n",
    "    ans = []\n",
    "    for num in lst:\n",
    "        # 처음 만난 숫자 기록\n",
    "        if num not in dic:\n",
    "            dic[num] = 1\n",
    "            ans.append(num)\n",
    "        # 두번째 만난거면 list에서 지우기 (또 만난거면 패스)\n",
    "        else:\n",
    "            if num in ans:\n",
    "                ans.remove(num)\n",
    "            else:\n",
    "                continue\n",
    "    return set(ans)\n",
    "        "
   ]
  },
  {
   "cell_type": "code",
   "execution_count": 65,
   "id": "e60ec2df",
   "metadata": {},
   "outputs": [
    {
     "data": {
      "text/plain": [
       "{3, 5}"
      ]
     },
     "execution_count": 65,
     "metadata": {},
     "output_type": "execute_result"
    }
   ],
   "source": [
    "P3([1,2,1,3,2,5])"
   ]
  },
  {
   "cell_type": "code",
   "execution_count": 66,
   "id": "75abdd13",
   "metadata": {},
   "outputs": [
    {
     "data": {
      "text/plain": [
       "{-1, 0}"
      ]
     },
     "execution_count": 66,
     "metadata": {},
     "output_type": "execute_result"
    }
   ],
   "source": [
    "P3([-1,0])"
   ]
  },
  {
   "cell_type": "code",
   "execution_count": 67,
   "id": "82f5f5eb",
   "metadata": {},
   "outputs": [
    {
     "data": {
      "text/plain": [
       "{8, 9}"
      ]
     },
     "execution_count": 67,
     "metadata": {},
     "output_type": "execute_result"
    }
   ],
   "source": [
    "P3([1,2,3,4,5,6,7,8,9,1,2,3,4,5,6,7])"
   ]
  },
  {
   "cell_type": "markdown",
   "id": "1e83851b",
   "metadata": {},
   "source": [
    "### 4) bit 로 표현했을 때,‘1’의 개수를 return 하는 함수\n",
    "1. 0 이상 정수 num 을 입력으로 받음\n",
    "2. num 은 32bit 를 넘지 않음\n"
   ]
  },
  {
   "cell_type": "code",
   "execution_count": 80,
   "id": "a38e6b72",
   "metadata": {},
   "outputs": [],
   "source": [
    "def P4(num: int):\n",
    "    # bin()함수를 사용하면 bits 계산해줌 [2:]로 bits만 뽑기\n",
    "    bits = bin(num)[2:]\n",
    "    \n",
    "    # count()로 해당 숫자 세기\n",
    "    ans = bits.count('1')\n",
    "    \n",
    "    return ans"
   ]
  },
  {
   "cell_type": "code",
   "execution_count": 81,
   "id": "0a9cc9a4",
   "metadata": {},
   "outputs": [
    {
     "data": {
      "text/plain": [
       "1"
      ]
     },
     "execution_count": 81,
     "metadata": {},
     "output_type": "execute_result"
    }
   ],
   "source": [
    "P4(16)"
   ]
  },
  {
   "cell_type": "code",
   "execution_count": 82,
   "id": "e06fbf21",
   "metadata": {},
   "outputs": [
    {
     "data": {
      "text/plain": [
       "3"
      ]
     },
     "execution_count": 82,
     "metadata": {},
     "output_type": "execute_result"
    }
   ],
   "source": [
    "P4(7)"
   ]
  },
  {
   "cell_type": "code",
   "execution_count": 83,
   "id": "c98358bd",
   "metadata": {},
   "outputs": [
    {
     "data": {
      "text/plain": [
       "11"
      ]
     },
     "execution_count": 83,
     "metadata": {},
     "output_type": "execute_result"
    }
   ],
   "source": [
    "P4(1234567)"
   ]
  }
 ],
 "metadata": {
  "kernelspec": {
   "display_name": "Python 3 (ipykernel)",
   "language": "python",
   "name": "python3"
  },
  "language_info": {
   "codemirror_mode": {
    "name": "ipython",
    "version": 3
   },
   "file_extension": ".py",
   "mimetype": "text/x-python",
   "name": "python",
   "nbconvert_exporter": "python",
   "pygments_lexer": "ipython3",
   "version": "3.10.2"
  }
 },
 "nbformat": 4,
 "nbformat_minor": 5
}
