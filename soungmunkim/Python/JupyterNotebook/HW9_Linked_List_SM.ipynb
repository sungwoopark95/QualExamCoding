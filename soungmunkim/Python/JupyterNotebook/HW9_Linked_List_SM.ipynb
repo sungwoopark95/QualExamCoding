{
 "cells": [
  {
   "cell_type": "markdown",
   "id": "f46b8afa",
   "metadata": {},
   "source": [
    "## 1. Reversed Linked List"
   ]
  },
  {
   "cell_type": "markdown",
   "id": "c5c6dd61",
   "metadata": {},
   "source": [
    "### 1) Reversed singly linked list"
   ]
  },
  {
   "cell_type": "code",
   "execution_count": null,
   "id": "a4be7843",
   "metadata": {},
   "outputs": [],
   "source": [
    "\"\"\"\n",
    "주어진 Singly linked list를 뒤집는 함수를 작성하여라. \n",
    "함수의 Input은 Singly linked list의 첫번째 Node이 며, Return값은 순서가 뒤집힌 Singly linked list의 첫번째 Node이다.\n",
    "\n",
    "※ Linked list의 각 Node는 linked_list_helper.py 파일에 정의되어 있는 ListNode를 활용하면 된다.\n",
    "※ linked_list_helper.py 파일의 create_linked_list 함수와 print_linked_list 함수를 활용하여 아래와 같이 함 수의 동작을 확인할 수 있다.\n",
    "※ Space complexity는 O(1)이어야 합니다.\n",
    "\n",
    "TestCase1)\n",
    ">>> l1 = create_linked_list([4,2,1,3]) \n",
    ">>> print_linked_list(P3(l1),[]) \n",
    "[3,1,2,4]\n",
    "TestCase2)\n",
    ">>> l2 = create_linked_list([-1,5,0,2,3]) \n",
    ">>> print_linked_list(P3(l2),[]) \n",
    "[3,2,0,5,-1]\n",
    "\"\"\""
   ]
  },
  {
   "cell_type": "code",
   "execution_count": 7,
   "id": "50616ec8",
   "metadata": {},
   "outputs": [],
   "source": [
    "# Definition for Node of singly linked list.\n",
    "class ListNode:\n",
    "    def __init__(self, val=0, next=None):\n",
    "        self.val = val\n",
    "        self.next = next\n",
    "\n",
    "# Create a linked list from a list, then return head node\n",
    "def create_linked_list(l: list):\n",
    "    if len(l) == 0:\n",
    "        return None\n",
    "    \n",
    "    start = ListNode(l[0])\n",
    "    node = start\n",
    "    \n",
    "    for i in range(1, len(l)):\n",
    "        node_new = ListNode(l[i])\n",
    "        node.next = node_new\n",
    "        node = node_new\n",
    "    \n",
    "    return start\n",
    "\n",
    "# Print all values in the linked list\n",
    "def print_linked_list(n: ListNode, l: list):\n",
    "    if n is not None:\n",
    "        l.append(n.val)\n",
    "        print_linked_list(n.next, l)\n",
    "    else:\n",
    "        print(l)\n",
    "\n",
    "# Dummy node 없이 reverse 하는 방법\n",
    "def P3(head):\n",
    "    prev = None\n",
    "    cur = head\n",
    "    next = None\n",
    "    \n",
    "    while cur is not None:\n",
    "        next = cur.next\n",
    "        cur.next = prev\n",
    "        prev = cur\n",
    "        cur = next\n",
    "   \n",
    "    return prev\n"
   ]
  },
  {
   "cell_type": "code",
   "execution_count": 8,
   "id": "cdfda30a",
   "metadata": {},
   "outputs": [
    {
     "name": "stdout",
     "output_type": "stream",
     "text": [
      "[3, 1, 2, 4]\n"
     ]
    }
   ],
   "source": [
    "l1 = create_linked_list([4,2,1,3])\n",
    "print_linked_list(P3(l1),[])"
   ]
  },
  {
   "cell_type": "code",
   "execution_count": 9,
   "id": "0e63085e",
   "metadata": {},
   "outputs": [
    {
     "name": "stdout",
     "output_type": "stream",
     "text": [
      "[3, 2, 0, 5, -1]\n"
     ]
    }
   ],
   "source": [
    "l2 = create_linked_list([-1,5,0,2,3])\n",
    "print_linked_list(P3(l2),[])"
   ]
  },
  {
   "cell_type": "code",
   "execution_count": 13,
   "id": "d647dfb1",
   "metadata": {},
   "outputs": [],
   "source": [
    "# Definition for Node of singly linked list.\n",
    "class ListNode:\n",
    "    def __init__(self, val=0, next=None):\n",
    "        self.val = val\n",
    "        self.next = next\n",
    "\n",
    "# Create a linked list from a list, then return head node\n",
    "def create_linked_list(l: list):\n",
    "    if len(l) == 0:\n",
    "        return None\n",
    "    \n",
    "    start = ListNode(l[0])\n",
    "    node = start\n",
    "    \n",
    "    for i in range(1, len(l)):\n",
    "        node_new = ListNode(l[i])\n",
    "        node.next = node_new\n",
    "        node = node_new\n",
    "    \n",
    "    return start\n",
    "\n",
    "# Print all values in the linked list\n",
    "def print_linked_list(n: ListNode, l: list):\n",
    "    if n is not None:\n",
    "        l.append(n.val)\n",
    "        print_linked_list(n.next, l)\n",
    "    else:\n",
    "        print(l)\n",
    "\n",
    "# Dummy node 넣어서 reverse 하는 방법\n",
    "def P3(head):\n",
    "    dummy = ListNode()\n",
    "    \n",
    "    while head:\n",
    "        cur = head\n",
    "        head = head.next\n",
    "        \n",
    "        cur.next = dummy.next\n",
    "        dummy.next = cur\n",
    "        \n",
    "    return dummy.next"
   ]
  },
  {
   "cell_type": "markdown",
   "id": "3fc1588c",
   "metadata": {},
   "source": [
    "### 2) 두 Linked list 받고 두 숫자의 합을 linked list로 반환하는 함수"
   ]
  },
  {
   "cell_type": "code",
   "execution_count": null,
   "id": "9fc2c7c0",
   "metadata": {},
   "outputs": [],
   "source": [
    "\"\"\"\n",
    "0 이상의 십진수 정수를 나타내는 Linked list 두 개가 주어질 때, 두 숫자의 합을 나타내는 Linked list를 만 드는 함수를 작성하여라. \n",
    "Input으로는 각 Linked list의 첫번째 Node가 주어지며, Return값 역시 Linked list 의 첫번째 Node이다.\n",
    "\n",
    "예를 들어, 15와 30을 나타내는 Linked list, 즉 (1)->(5), (3)->(0)이 주어진다면, \n",
    "두 숫자의 합인 45를 나타 내는 Linked list (4)->(5)를 만들어 해당 Linked list의 첫번째 Node (head)를 반환하여야 한다.\n",
    "\n",
    "※ Linked list 형태를 유지하며 계산할 것 (주어진 Linked list를 list로 변환하여 각 원소를 더하고, 이를 다 시 Linked list로 만드는 등의 풀이는 허용하지 않음)\n",
    "※ Linked list의 각 Node는 linked_list_helper.py 파일에 정의되어 있는 ListNode를 활용하면 된다.\n",
    "※ linked_list_helper.py 파일의 create_linked_list 함수와 print_linked_list 함수를 활용하여 아래와 같이 함 수의 동작을 확인할 수 있다.\n",
    "\n",
    "TestCase1)\n",
    ">>> l1 = create_linked_list([1,1,1]) \n",
    ">>> l2 = create_linked_list([1,1,1]) \n",
    ">>> print_linked_list(P4(l1, l2),[]) \n",
    "[2,2,2]\n",
    "TestCase2)\n",
    ">>> l1 = create_linked_list([0]) \n",
    ">>> l2 = create_linked_list([0]) \n",
    ">>> print_linked_list(P4(l1, l2),[]) \n",
    "[0]\n",
    "\"\"\""
   ]
  },
  {
   "cell_type": "code",
   "execution_count": null,
   "id": "54d3fd74",
   "metadata": {},
   "outputs": [],
   "source": [
    "def P2_ans(lst1, lst2):\n",
    "    # linked list reverse 하는 함수\n",
    "    def reverseLinkedlist(node):\n",
    "        prev = None\n",
    "        cur = node\n",
    "        next = None\n",
    "        \n",
    "        while node:\n",
    "            next = cur.next\n",
    "            cur.next = prev\n",
    "            prev = cur\n",
    "            cur = next\n",
    "        return prev\n",
    "    # 더할 때 1의자리 부터 더하기 때문에 linked list를 먼저 뒤집고 시작 필요\n",
    "    num1, num2 = reverseLinkedlist(lst1), reverseLinkedlist(lst2)\n",
    "    carry = 0 # 올림 수\n",
    "    dummy = ListNode() # 결과 linked list의 시작 node\n",
    "    cur = dummy # 현재 노드 위치 추적\n",
    "    \n",
    "    # 둘 중 하나의 linked list가 남아있거나 또는 carry 값이 있는 동안 반복 \n",
    "    while carry or num1 or num2:\n",
    "            if num1:\n",
    "                # carry에 값 계속 더해준 후 10으로 나눠서 carry값 다시 업뎃하는 방식\n",
    "                carry += num1.val\n",
    "                num1 = num1.next # 다음 숫자로 update\n",
    "            if num2:\n",
    "                carry += num2.val\n",
    "                num2 = num2.next \n",
    "            # carry를 10으로 나눴을 때 몫 = carry, 나머지 = x로 저장\n",
    "            carry, x = divmod(carry, 10)\n",
    "            cur.next = ListNode(x) # 더미 다음에 결과 값 붙이기\n",
    "            cur = cur.next # 현재 노드 update (다음 결과 값 붙이기 위해)\n",
    "    "
   ]
  },
  {
   "cell_type": "markdown",
   "id": "23c1eb9b",
   "metadata": {},
   "source": [
    "#### Linked list를 그냥 list로 변환하는 함수"
   ]
  },
  {
   "cell_type": "code",
   "execution_count": null,
   "id": "e59847e7",
   "metadata": {},
   "outputs": [],
   "source": [
    "class ListNode:\n",
    "    def __init__(self, val=0, next=None):\n",
    "        self.val = val\n",
    "        self.next = next\n",
    "\n",
    "def linkiedListToList(head):\n",
    "    result = []\n",
    "    current = head\n",
    "    while current:\n",
    "        result.append(current.val)\n",
    "        current = current.next\n",
    "    return result"
   ]
  },
  {
   "cell_type": "markdown",
   "id": "ec1e50fc",
   "metadata": {},
   "source": [
    "#### List를 Linked list로 변환하는 함수"
   ]
  },
  {
   "cell_type": "code",
   "execution_count": null,
   "id": "83909544",
   "metadata": {},
   "outputs": [],
   "source": [
    "class ListNode:\n",
    "    def __init__(self, val=0, next=None):\n",
    "        self.val = val\n",
    "        self.next = next\n",
    "\n",
    "\n",
    "def listToLinkedList(lst: list):\n",
    "    if not lst:\n",
    "        return None\n",
    "\n",
    "    head = ListNode(lst[0])\n",
    "    current = head\n",
    "\n",
    "    for value in lst[1:]:\n",
    "        current.next = ListNode(value)\n",
    "        current = current.next\n",
    "\n",
    "    return head"
   ]
  }
 ],
 "metadata": {
  "kernelspec": {
   "display_name": "base",
   "language": "python",
   "name": "python3"
  },
  "language_info": {
   "codemirror_mode": {
    "name": "ipython",
    "version": 3
   },
   "file_extension": ".py",
   "mimetype": "text/x-python",
   "name": "python",
   "nbconvert_exporter": "python",
   "pygments_lexer": "ipython3",
   "version": "3.9.12"
  }
 },
 "nbformat": 4,
 "nbformat_minor": 5
}
