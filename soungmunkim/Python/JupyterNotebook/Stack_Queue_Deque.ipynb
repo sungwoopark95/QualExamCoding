{
 "cells": [
  {
   "cell_type": "markdown",
   "id": "5d5e3d99",
   "metadata": {},
   "source": [
    "## 1. Queue (앞에서 빼기)"
   ]
  },
  {
   "cell_type": "markdown",
   "id": "2daaae98",
   "metadata": {},
   "source": [
    "### 1) 유효한 괄호 찾기"
   ]
  },
  {
   "cell_type": "code",
   "execution_count": null,
   "id": "159536fb",
   "metadata": {},
   "outputs": [],
   "source": [
    "\"\"\"\n",
    "‘(‘, ‘)’, ‘{‘, ‘}’, ‘[‘, ‘]’으로 구성된 String을 Input으로 받고, \n",
    "이 String이 아래 규칙에 의해 유효한지를 판단하여 True/False를 return하는 함수를 작성하여라.\n",
    "\n",
    "<조건>\n",
    "(1) 괄호가 열렸다면 같은 타입의 괄호에 의해 닫혀야 한다.\n",
    "(2) 적절한 순서로 괄호가 배열되어야 한다. 안쪽에서 열린 괄호가 먼저 닫히고, 바깥쪽 괄호가 닫혀야 한다.\n",
    "\n",
    "TestCase2)\n",
    ">>> P1(‘()[]{}’) True\n",
    "TestCase3)\n",
    ">>> P1(‘([)]’) False\n",
    "\"\"\""
   ]
  },
  {
   "cell_type": "code",
   "execution_count": 2,
   "id": "b26008e4",
   "metadata": {},
   "outputs": [],
   "source": [
    "def P1(bracket:str):\n",
    "    dct = {'(':')', '{':'}', '[':']'}\n",
    "    \n",
    "    # 괄호 짝수가 안 맞으면\n",
    "    if len(bracket) % 2 != 0:\n",
    "        return False\n",
    "    \n",
    "    for i in range(0, len(bracket), 2):\n",
    "        # 같은 쌍의 괄호가 아닐 때\n",
    "        if bracket[i] in dct:\n",
    "            if bracket[i+1] != dct.get(bracket[i]):\n",
    "                return False\n",
    "        # 시작이 열린 괄호가 아닐 때\n",
    "        else:\n",
    "            return False\n",
    "    return True"
   ]
  },
  {
   "cell_type": "code",
   "execution_count": 4,
   "id": "36282e60",
   "metadata": {},
   "outputs": [
    {
     "data": {
      "text/plain": [
       "True"
      ]
     },
     "execution_count": 4,
     "metadata": {},
     "output_type": "execute_result"
    }
   ],
   "source": [
    "P1('()')"
   ]
  },
  {
   "cell_type": "code",
   "execution_count": 7,
   "id": "b36376ec",
   "metadata": {},
   "outputs": [
    {
     "data": {
      "text/plain": [
       "True"
      ]
     },
     "execution_count": 7,
     "metadata": {},
     "output_type": "execute_result"
    }
   ],
   "source": [
    "P1(\"()[]{}\")"
   ]
  },
  {
   "cell_type": "code",
   "execution_count": 8,
   "id": "03f69fe5",
   "metadata": {},
   "outputs": [
    {
     "data": {
      "text/plain": [
       "False"
      ]
     },
     "execution_count": 8,
     "metadata": {},
     "output_type": "execute_result"
    }
   ],
   "source": [
    "P1(\"([)]\")"
   ]
  },
  {
   "cell_type": "markdown",
   "id": "fd06fbe4",
   "metadata": {},
   "source": [
    "### Stack으로 푼 답"
   ]
  },
  {
   "cell_type": "code",
   "execution_count": null,
   "id": "4ebe8b6b",
   "metadata": {},
   "outputs": [],
   "source": [
    "def P1_ans(parentheses: str):\n",
    "    ##### Write your Code Here #####      \n",
    "    stack = []\n",
    "    m = {\n",
    "        ')': '(',\n",
    "        '}': '{',\n",
    "        ']': '['\n",
    "        }\n",
    "    for c in parentheses:\n",
    "        if c == '(' or c == '{' or c == '[':\n",
    "            stack.append(c)\n",
    "        else:\n",
    "            if stack.pop() != m[c]:\n",
    "                return False\n",
    "\n",
    "\n",
    "    return len(stack) == 0\n",
    "    ##### End of your code #####"
   ]
  },
  {
   "cell_type": "markdown",
   "id": "1145c42b",
   "metadata": {},
   "source": [
    "### 2)  Input으로 일별 주가(list)를 받고, 이득을 보기 위해 기다려야 하는 최소 일수(list)를 return하는 함수 (다시 풀기)"
   ]
  },
  {
   "cell_type": "code",
   "execution_count": null,
   "id": "2a9c9ba2",
   "metadata": {},
   "outputs": [],
   "source": [
    "\"\"\"\n",
    "날짜 10/7 10/8 10/9 10/10 10/11 10/12 10/13 10/14 \n",
    "주가 500  600  700   300   100   400   800   500 \n",
    "일수  1    1    4     2     1     1     0     0\n",
    "\n",
    "위의 표를 보면\n",
    "(1) 예지가 10/7에 주식을 산다면 1일 뒤인 10/8에 팔면 이득을 본다.\n",
    "(2) 예지가 10/9에 주식을 산다면 4일 뒤인 10/13에 팔면 이득을 본다.\n",
    "(3) 이득을 볼 수 없다면 0으로 작성하면 된다.\n",
    "\n",
    "위 설명을 참고하여 Input으로 일별 주가(list)를 받고, 이득을 보기 위해 기다려야 하는 최소 일수(list)를 return하는 함수를 작성하여라.\n",
    "\n",
    "TestCase1)\n",
    ">>> P2([500, 600, 700, 300, 100, 400, 800, 500]) \n",
    "[1, 1, 4, 2, 1, 1, 0, 0]\n",
    "\"\"\""
   ]
  },
  {
   "cell_type": "code",
   "execution_count": 37,
   "id": "e4b00019",
   "metadata": {},
   "outputs": [],
   "source": [
    "def P2(stock_price: list):        \n",
    "    ##### Write your Code Here #####\n",
    "    ans = []\n",
    "    store = []\n",
    "\n",
    "    cnt = 0\n",
    "    copy = stock_price[:]\n",
    "\n",
    "\n",
    "    while stock_price != []:\n",
    "        # 횟수가 마지막 index까지 도달했는데 해당 stock값이 이후에 값보다 크거나 같을때\n",
    "        # 현재 가격 이후에 오르는 가격이 없을 때 0 추가 + 현재 가격 끝났으니 빼기\n",
    "        if cnt == (len(copy) - len(store)) -1  and stock_price[0] >= stock_price[cnt]:\n",
    "            ans.append(0)\n",
    "            store.append(stock_price.pop(0))\n",
    "            cnt = 0 \n",
    "        \n",
    "        # 가격이 오른다면 올랐던 횟수 j를 결과에 추가하고 j 다시 reset 시킴 + 현재 가격 끝났으니 빼기\n",
    "        elif stock_price[0] < stock_price[cnt]:\n",
    "\n",
    "            ans.append(cnt)\n",
    "            store.append(stock_price.pop(0))        \n",
    "            cnt = 0\n",
    "\n",
    "        # 가격 오른 것 만날때까지 계속 횟수 +1\n",
    "        else:\n",
    "            cnt += 1\n",
    "                    \n",
    "    return ans\n"
   ]
  },
  {
   "cell_type": "code",
   "execution_count": 38,
   "id": "1dd97915",
   "metadata": {},
   "outputs": [
    {
     "data": {
      "text/plain": [
       "[1, 1, 4, 2, 1, 1, 0, 0]"
      ]
     },
     "execution_count": 38,
     "metadata": {},
     "output_type": "execute_result"
    }
   ],
   "source": [
    "P2([500, 600, 700, 300, 100, 400, 800, 500])"
   ]
  },
  {
   "cell_type": "markdown",
   "id": "72dc0b5d",
   "metadata": {},
   "source": [
    "### Stack으로 푼 답"
   ]
  },
  {
   "cell_type": "code",
   "execution_count": 39,
   "id": "67727a06",
   "metadata": {},
   "outputs": [],
   "source": [
    "def P2_ans(lst:list):\n",
    "    # input list길이만큼 0으로 다 채우기 \n",
    "    ans = [0] * len(lst)\n",
    "    stack = []\n",
    "    \n",
    "    # stack에 숫자가 들어있고 stack에 마지막에 들어간 \n",
    "    for i, p in enumerate(lst):\n",
    "        # 현재 값보다 작은 모든 값들에 대해 계속 검사 가능\n",
    "        while stack and lst[stack[-1]] < p:\n",
    "            cur = stack.pop() #stack에서 index 꺼내기\n",
    "            ans[cur] = i - cur # 결과 리스트에 기다려야 하는 일수 저장\n",
    "        stack.append(i)\n",
    "        \n",
    "\n",
    "    return ans"
   ]
  },
  {
   "cell_type": "code",
   "execution_count": 40,
   "id": "8e24b292",
   "metadata": {},
   "outputs": [
    {
     "data": {
      "text/plain": [
       "[1, 1, 4, 2, 1, 1, 0, 0]"
      ]
     },
     "execution_count": 40,
     "metadata": {},
     "output_type": "execute_result"
    }
   ],
   "source": [
    "P2_ans([500, 600, 700, 300, 100, 400, 800, 500])"
   ]
  },
  {
   "cell_type": "markdown",
   "id": "aadcf1eb",
   "metadata": {},
   "source": []
  }
 ],
 "metadata": {
  "kernelspec": {
   "display_name": "base",
   "language": "python",
   "name": "python3"
  },
  "language_info": {
   "codemirror_mode": {
    "name": "ipython",
    "version": 3
   },
   "file_extension": ".py",
   "mimetype": "text/x-python",
   "name": "python",
   "nbconvert_exporter": "python",
   "pygments_lexer": "ipython3",
   "version": "3.9.12"
  }
 },
 "nbformat": 4,
 "nbformat_minor": 5
}
