{
 "cells": [
  {
   "cell_type": "markdown",
   "id": "649953d3",
   "metadata": {},
   "source": [
    "## 2) 리스트 합치기 "
   ]
  },
  {
   "cell_type": "code",
   "execution_count": 31,
   "id": "ef725a39",
   "metadata": {},
   "outputs": [],
   "source": [
    "\"\"\"\n",
    "[list 합치기]\n",
    "list1 = [1, 2, 3]\n",
    "list2 = [1, [2, 3], [[4]]]\n",
    "list3 = [[[1], 3], [[4, 2], 5], 6, [[7]]]\n",
    "위와 같은 정수 nested list를 입력으로 받아 저장된 모든 정수를 합쳐서 반환하는 함수\n",
    "\n",
    ">>> list_accumulator(list1)\n",
    "6\n",
    ">>> list_accumulator(list2)\n",
    "10\n",
    "\"\"\"\n",
    "\n",
    "def sumList(lst:list):\n",
    "    sum = 0\n",
    "    while lst:\n",
    "        # print(lst)\n",
    "        size = len(lst)\n",
    "        for i in range(size):\n",
    "            nums = lst.pop(0)\n",
    "            # print(f\"nums: {nums}\")\n",
    "            # print(isinstance(nums, int))\n",
    "            \n",
    "            # nums가 int type이면 더하고 아니면 for loop 돌면서 list에 넣기\n",
    "            if isinstance(nums, int):\n",
    "                sum += nums\n",
    "            else:\n",
    "                for i in range(len(nums)):\n",
    "                    lst.append(nums[i])\n",
    "                \n",
    "    return sum"
   ]
  },
  {
   "cell_type": "code",
   "execution_count": 32,
   "id": "8ded06b5",
   "metadata": {},
   "outputs": [],
   "source": [
    "list1 = [1, 2, 3]\n",
    "list2 = [1, [2, 3], [[4]]]\n",
    "list3 = [[[1], 3], [[4, 2], 5], 6, [[7]]]"
   ]
  },
  {
   "cell_type": "code",
   "execution_count": 34,
   "id": "db32139f",
   "metadata": {},
   "outputs": [
    {
     "data": {
      "text/plain": [
       "10"
      ]
     },
     "execution_count": 34,
     "metadata": {},
     "output_type": "execute_result"
    }
   ],
   "source": [
    "sumList(list2)"
   ]
  },
  {
   "cell_type": "code",
   "execution_count": 33,
   "id": "7f88e444",
   "metadata": {},
   "outputs": [
    {
     "data": {
      "text/plain": [
       "28"
      ]
     },
     "execution_count": 33,
     "metadata": {},
     "output_type": "execute_result"
    }
   ],
   "source": [
    "sumList(list3)"
   ]
  },
  {
   "cell_type": "markdown",
   "id": "b8bbb702",
   "metadata": {},
   "source": [
    "## 3) 문자열 찾기"
   ]
  },
  {
   "cell_type": "code",
   "execution_count": 48,
   "id": "41f0d4a5",
   "metadata": {},
   "outputs": [],
   "source": [
    "\"\"\"\n",
    "[Find word]\n",
    "문장 내에서 단어의 등장 위치를 찾는 함수 find word 를 작성하라. \n",
    "문장에서 단어는 공백, 쉼표(,), 및 마침표 (.)로 구분된다. \n",
    "또한, 단어가 일치함을 확인할 때 대소문자는 구분하지 않는다. \n",
    "주어진 단어가 문장 내에서 몇번째 단어로 등장하는지 그 위치들을 구해 정수의 리스트로 반환한다 \n",
    "\"\"\"\n",
    "\n",
    "def find_word(s: str, word: str):\n",
    "    stc = s.split()\n",
    "    ans = []\n",
    "    # print(stc)\n",
    "    for i in range(len(stc)):\n",
    "        if stc[i].lower() == word.lower():\n",
    "            ans.append(i)\n",
    "    return ans"
   ]
  },
  {
   "cell_type": "code",
   "execution_count": 49,
   "id": "12a402f1",
   "metadata": {},
   "outputs": [
    {
     "name": "stdout",
     "output_type": "stream",
     "text": [
      "[1, 5]\n",
      "[1, 5]\n",
      "[0, 4, 8, 12]\n",
      "[]\n"
     ]
    }
   ],
   "source": [
    "s = \"Some feelings are shallow, some feelings are deep. Some make us smile, some make us weap.\"\n",
    "print(find_word(s, \"feelings\"))\n",
    "print(find_word(s, \"FeelinGs\"))\n",
    "print(find_word(s, \"some\"))\n",
    "print(find_word(s, \"python\"))"
   ]
  }
 ],
 "metadata": {
  "kernelspec": {
   "display_name": "base",
   "language": "python",
   "name": "python3"
  },
  "language_info": {
   "codemirror_mode": {
    "name": "ipython",
    "version": 3
   },
   "file_extension": ".py",
   "mimetype": "text/x-python",
   "name": "python",
   "nbconvert_exporter": "python",
   "pygments_lexer": "ipython3",
   "version": "3.9.12"
  }
 },
 "nbformat": 4,
 "nbformat_minor": 5
}
