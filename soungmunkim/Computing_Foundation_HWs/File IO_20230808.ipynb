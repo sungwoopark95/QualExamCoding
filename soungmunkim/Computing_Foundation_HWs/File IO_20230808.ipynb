{
 "cells": [
  {
   "cell_type": "markdown",
   "id": "23b85175",
   "metadata": {},
   "source": [
    "### 1) alkaline_metals.txt의 파일을 불러오고, list of lists 형태로 파일의 내용을 return하는 함수를 작성\n",
    "1. 각 Inner list는 각 행을 [원자이름, 원자번호, 원자량] 형태로 저장\n",
    "2. (1)에서 만든 모든 리스트를 원소로 갖는 list of lists가 P1 함수의 최종 return값"
   ]
  },
  {
   "cell_type": "code",
   "execution_count": 1,
   "id": "d41b3ada",
   "metadata": {},
   "outputs": [],
   "source": [
    "def P1(filename: str) -> list:\n",
    "    ans = []\n",
    "    \n",
    "    # with사용하여 따로 close 안 해도 자동적으로 파일 닫히게 하기\n",
    "    with open(filename, 'r') as file:\n",
    "        # 한 줄씩 읽기\n",
    "        line = file.readline()\n",
    "        while line:\n",
    "            # strip() 메소드를 사용하여 줄의 앞뒤 공백(즉, 줄 바꿈 문자나 스페이스 등)을 제거\n",
    "            # split(' ') 메소드를 사용하여 공백을 기준으로 문자열을 분리\n",
    "            ans.append(line.strip().split(' '))\n",
    "            line = file.readline() # 다음 줄을 새로운 line으로 할당\n",
    "    return ans"
   ]
  },
  {
   "cell_type": "code",
   "execution_count": 2,
   "id": "81d9c734",
   "metadata": {},
   "outputs": [
    {
     "data": {
      "text/plain": [
       "[['beryllium', '4', '9.012'],\n",
       " ['magnesium', '12', '24.305'],\n",
       " ['calcium', '20', '20.078'],\n",
       " ['strontium', '38', '87.62'],\n",
       " ['barium', '56', '137.327'],\n",
       " ['radium', '88', '226']]"
      ]
     },
     "execution_count": 2,
     "metadata": {},
     "output_type": "execute_result"
    }
   ],
   "source": [
    "P1('alkaline_metals.txt')"
   ]
  },
  {
   "cell_type": "markdown",
   "id": "03b3fb3a",
   "metadata": {},
   "source": [
    "### 2) 해당 파일을 읽어와 각 행을 반대 순서로 리스트에 저장하고 해당 리스트를 return하는 함수"
   ]
  },
  {
   "cell_type": "code",
   "execution_count": 9,
   "id": "715ff39d",
   "metadata": {},
   "outputs": [],
   "source": [
    "def P2(filename: str) -> list:\n",
    "    with open(filename, 'r') as file:\n",
    "        # 모든 행들 다 list에 저장\n",
    "        lines = file.readlines()\n",
    "        # 뒤집기\n",
    "        lines.reverse()\n",
    "    return lines"
   ]
  },
  {
   "cell_type": "code",
   "execution_count": 10,
   "id": "d362f103",
   "metadata": {},
   "outputs": [
    {
     "data": {
      "text/plain": [
       "['radium 88 226',\n",
       " 'barium 56 137.327\\n',\n",
       " 'strontium 38 87.62\\n',\n",
       " 'calcium 20 20.078\\n',\n",
       " 'magnesium 12 24.305\\n',\n",
       " 'beryllium 4 9.012\\n']"
      ]
     },
     "execution_count": 10,
     "metadata": {},
     "output_type": "execute_result"
    }
   ],
   "source": [
    "P2('alkaline_metals.txt')"
   ]
  },
  {
   "cell_type": "markdown",
   "id": "7aeb9675",
   "metadata": {},
   "source": [
    "### 3) 파일을 불러온 뒤 다음 조건에 맞는 list를 return하는 함수\n",
    "1. 각 행을 읽은 순서대로 하나의 list에 추가\n",
    "2. ‘#’나 ‘//’로 시작하는 행은 주석으로 취급하여 추가하지 않음"
   ]
  },
  {
   "cell_type": "code",
   "execution_count": 18,
   "id": "cde29f12",
   "metadata": {},
   "outputs": [],
   "source": [
    "def P3(filename: str) -> list:\n",
    "    with open(filename, 'r') as file:\n",
    "        # 각 line 읽기\n",
    "        line = file.readline()\n",
    "        ans = []\n",
    "        while line:\n",
    "            # line 첫 시작이 해당 조건이면 해당 line 읽고 continue하기\n",
    "            if line.startswith('#') or line.startswith('//'):\n",
    "                line = file.readline()\n",
    "                continue\n",
    "            \n",
    "            else:\n",
    "                ans.append(line)\n",
    "                line = file.readline()\n",
    "    return ans"
   ]
  },
  {
   "cell_type": "code",
   "execution_count": 27,
   "id": "710f8174",
   "metadata": {},
   "outputs": [],
   "source": [
    "def P3(filename: str) -> list:\n",
    "    with open(filename, 'r') as file:\n",
    "        ans = []\n",
    "        for line in file.readlines():\n",
    "            # line 첫 시작이 해당 조건이면 해당 line 읽고 continue하기\n",
    "            if line.startswith('#') or line.startswith('//'):\n",
    "                continue\n",
    "            else:\n",
    "                ans.append(line)\n",
    "    return ans"
   ]
  },
  {
   "cell_type": "code",
   "execution_count": 32,
   "id": "efe87594",
   "metadata": {},
   "outputs": [
    {
     "data": {
      "text/plain": [
       "['beryllium 4 9.012',\n",
       " 'magnesium 12 24.305',\n",
       " 'calcium 20 20.078 #Good for your health',\n",
       " 'strontium 38 87.62',\n",
       " 'barium 56 137.327 // It is heavy',\n",
       " 'radium 88 226']"
      ]
     },
     "execution_count": 32,
     "metadata": {},
     "output_type": "execute_result"
    }
   ],
   "source": [
    "P3('alkaline_metals2.txt')"
   ]
  },
  {
   "cell_type": "markdown",
   "id": "d1ff3885",
   "metadata": {},
   "source": [
    "### 4) 파일을 불러온 뒤 다음 조건에 맞는 list를 return하는 함수\n",
    "1. 각 행을 읽은 순서대로 하나의 list에 추가\n",
    "2. 단, ‘#’나 ‘//’ 뒤의 문자들은 주석으로 취급하여 추가하지 않음\n",
    "3. 각 행의 맨 앞과 맨 뒤, 즉 양 끝에 있는 white space 문자는 삭제"
   ]
  },
  {
   "cell_type": "code",
   "execution_count": 35,
   "id": "8c859e90",
   "metadata": {},
   "outputs": [],
   "source": [
    "def P4(filename: str) -> list:\n",
    "    ans = []\n",
    "    with open(filename) as file:\n",
    "        for line in file:\n",
    "            # 주석 부분 제거\n",
    "            if '#' in line:\n",
    "                #  문자열을 \"#\" 문자를 기준으로 분리하고, 그 결과로 생성된 리스트의 첫 번째 요소를 가져오는 것\n",
    "                # \"#\" 뒤에 오는 문장 제거\n",
    "                line = line.split('#')[0]\n",
    "            if '//' in line:\n",
    "                line = line.split('//')[0]\n",
    "            line = line.strip() # 양쪽 공백 제거\n",
    "\n",
    "            # 빈 line이 아니라면\n",
    "            if line:\n",
    "                ans.append(line)\n",
    "\n",
    "    return ans\n",
    "            "
   ]
  },
  {
   "cell_type": "code",
   "execution_count": 37,
   "id": "9d892c3e",
   "metadata": {},
   "outputs": [],
   "source": [
    "def P4_ans(filename: str) -> list:\n",
    "    ans = []\n",
    "    with open (filename,'r') as file: \n",
    "        for line in file.readlines():\n",
    "            # Skip any lines starting with '// or '#'\n",
    "            if line.startswith('//') or line.startswith('#'): \n",
    "                continue\n",
    "                \n",
    "            # Split by #, then retrieve only the first elemnet of the resulting list\n",
    "            line = line.split('#')[0]\n",
    "            # Split by //, then retrieve only the first elemnet of the resulting list \n",
    "            line = line_rmcmt.split('//')[0]\n",
    "            # Remove white spaces at both ends\n",
    "            out.append(line.strip())\n",
    "    return ans\n"
   ]
  },
  {
   "cell_type": "code",
   "execution_count": 38,
   "id": "cfcdccdc",
   "metadata": {},
   "outputs": [
    {
     "data": {
      "text/plain": [
       "['beryllium 4 9.012',\n",
       " 'magnesium 12 24.305',\n",
       " 'calcium 20 20.078',\n",
       " 'strontium 38 87.62',\n",
       " 'barium 56 137.327',\n",
       " 'radium 88 226']"
      ]
     },
     "execution_count": 38,
     "metadata": {},
     "output_type": "execute_result"
    }
   ],
   "source": [
    "P4('alkaline_metals2.txt')"
   ]
  },
  {
   "cell_type": "markdown",
   "id": "65cfacaa",
   "metadata": {},
   "source": [
    "### 5) 해당 파일에서 가장 긴 단어의 길이(int)를 return하는 함수\n",
    "1. 단어는 공백(‘ ’) 또는 개행문자(\\n)로 구분\n",
    "2. ‘‘,‘\\n’이외의whitespace문자는존재하지않는다.(ex.‘ ‘,‘ ‘,‘\\t’등)\n",
    "3. 파일에는 적어도 한 개의 단어가 있으며, 숫자는 존재하지 않음"
   ]
  },
  {
   "cell_type": "code",
   "execution_count": 43,
   "id": "7d72a6cf",
   "metadata": {},
   "outputs": [],
   "source": [
    "def P5(filename: str) -> int:\n",
    "    ans = 0\n",
    "    with open(filename, 'r') as file:\n",
    "        # 전체 text file 읽기\n",
    "        content = file.read()\n",
    "        # Split the whole text into the words \n",
    "        words = content.split()\n",
    "        # Find maximum word length\n",
    "        for word in words:\n",
    "            if len(word) > ans:\n",
    "                ans = len(word)\n",
    "    return ans"
   ]
  },
  {
   "cell_type": "code",
   "execution_count": 44,
   "id": "4933a322",
   "metadata": {},
   "outputs": [
    {
     "data": {
      "text/plain": [
       "9"
      ]
     },
     "execution_count": 44,
     "metadata": {},
     "output_type": "execute_result"
    }
   ],
   "source": [
    "P5('alkaline_metals.txt')"
   ]
  },
  {
   "cell_type": "markdown",
   "id": "232e781c",
   "metadata": {},
   "source": [
    "### 6) 주어진 파일과 다른 구분자를 갖는 텍스트 파일을 새롭게 생성하는 함수를 작성\n",
    "1. input 파일의 구분자는 공백문자이다. (‘ ‘)\n",
    "2. output 파일의 구분자는 콤마이다. (‘,’)\n",
    "3. output 파일의 구분자 (콤마) 앞, 뒤로 공백은 없다.\n",
    "4. input 파일에는 연속적인 공백문자는 등장하지 않는다.\n",
    "5. 함수의 return 값은 없다."
   ]
  },
  {
   "cell_type": "code",
   "execution_count": 45,
   "id": "6d133356",
   "metadata": {},
   "outputs": [],
   "source": [
    "def P6(input_filename: str, out_filename: str): \n",
    "    with open (input_filename, 'r') as input_filename, open (out_filename, 'w') as out_filename:\n",
    "        \n",
    "        #line마다 읽어서 공백 대신 ,로 바꾸기\n",
    "        line = input_filename.readline()\n",
    "        while line:\n",
    "            new_line = line.replace(' ', ',')\n",
    "            # 바꾼 line을 output에 쓰기\n",
    "            out_filename.write(new_line)\n",
    "            # 새로운 line 읽기\n",
    "            line = input_filename.readline()"
   ]
  },
  {
   "cell_type": "code",
   "execution_count": 46,
   "id": "86044f75",
   "metadata": {},
   "outputs": [],
   "source": [
    "P6('alkaline_metals.txt', 'output.txt')"
   ]
  },
  {
   "cell_type": "code",
   "execution_count": null,
   "id": "1288ac4c",
   "metadata": {},
   "outputs": [],
   "source": []
  }
 ],
 "metadata": {
  "kernelspec": {
   "display_name": "Python 3 (ipykernel)",
   "language": "python",
   "name": "python3"
  },
  "language_info": {
   "codemirror_mode": {
    "name": "ipython",
    "version": 3
   },
   "file_extension": ".py",
   "mimetype": "text/x-python",
   "name": "python",
   "nbconvert_exporter": "python",
   "pygments_lexer": "ipython3",
   "version": "3.10.2"
  }
 },
 "nbformat": 4,
 "nbformat_minor": 5
}
