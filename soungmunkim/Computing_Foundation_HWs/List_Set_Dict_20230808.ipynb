{
 "cells": [
  {
   "cell_type": "markdown",
   "id": "6b523843",
   "metadata": {},
   "source": [
    "# 1. List"
   ]
  },
  {
   "cell_type": "markdown",
   "id": "755cc7f1",
   "metadata": {},
   "source": [
    "### 1) 정수(int)로만 구성된 리스트를 입력으로 받고, 리스트의 메서드(method)를 활용하여 아래의 지시를 순서대로 따르는 함수 P1을 완성"
   ]
  },
  {
   "cell_type": "code",
   "execution_count": 26,
   "id": "13c740c8",
   "metadata": {},
   "outputs": [],
   "source": [
    "def P1(lst):\n",
    "    # 입력받은 list 오름차순으로 정렬\n",
    "    lst.sort()\n",
    "    # list에서 1234 제거\n",
    "    idx = lst.index(1234)\n",
    "    lst.pop(idx)\n",
    "    #[4321, 2222]를 추가하여 list 확장\n",
    "    add = [4321, 2222]\n",
    "    lst.extend(add)\n",
    "    # 1번 위치에 1111 추가\n",
    "    lst.insert(1, 1111)\n",
    "    \n",
    "    return lst\n",
    "   "
   ]
  },
  {
   "cell_type": "code",
   "execution_count": 27,
   "id": "3b0f7a7e",
   "metadata": {},
   "outputs": [
    {
     "data": {
      "text/plain": [
       "[1011, 1111, 3124, 4321, 2222]"
      ]
     },
     "execution_count": 27,
     "metadata": {},
     "output_type": "execute_result"
    }
   ],
   "source": [
    "P1([1234, 1011, 3124])"
   ]
  },
  {
   "cell_type": "code",
   "execution_count": 28,
   "id": "abdf75bb",
   "metadata": {},
   "outputs": [
    {
     "data": {
      "text/plain": [
       "[5555, 1111, 7777, 8888, 9876, 4321, 2222]"
      ]
     },
     "execution_count": 28,
     "metadata": {},
     "output_type": "execute_result"
    }
   ],
   "source": [
    "P1([7777, 5555, 8888, 1234, 9876])"
   ]
  },
  {
   "cell_type": "markdown",
   "id": "ce0e33b1",
   "metadata": {},
   "source": [
    "### 2) 세 개의 리스트를 입력으로 받고, 가장 길이가 긴 리스트의 길이를 리턴하는 함수 P2"
   ]
  },
  {
   "cell_type": "code",
   "execution_count": 29,
   "id": "600c6fb5",
   "metadata": {},
   "outputs": [],
   "source": [
    "def P2(lst1, lst2, lst3):\n",
    "    ans = max(len(lst1), len(lst2), len(lst3))\n",
    "    \n",
    "    return ans"
   ]
  },
  {
   "cell_type": "code",
   "execution_count": 30,
   "id": "c7600621",
   "metadata": {},
   "outputs": [
    {
     "data": {
      "text/plain": [
       "3"
      ]
     },
     "execution_count": 30,
     "metadata": {},
     "output_type": "execute_result"
    }
   ],
   "source": [
    "P2([1], [2, 3], [4, 5, 6])"
   ]
  },
  {
   "cell_type": "code",
   "execution_count": 31,
   "id": "2c02904e",
   "metadata": {},
   "outputs": [
    {
     "data": {
      "text/plain": [
       "4"
      ]
     },
     "execution_count": 31,
     "metadata": {},
     "output_type": "execute_result"
    }
   ],
   "source": [
    "P2([10, 11, 12, 13], ['a'], [1.11])"
   ]
  },
  {
   "cell_type": "markdown",
   "id": "3d17f7d0",
   "metadata": {},
   "source": [
    "### 3) 정수로 구성된 리스트를 입력으로 받고 리스트 안의 값이 음수이면 양수로, 양수이면 음수로 변경하여 리턴하는 함수 P3"
   ]
  },
  {
   "cell_type": "code",
   "execution_count": 35,
   "id": "e48037b1",
   "metadata": {},
   "outputs": [],
   "source": [
    "def P3(lst):\n",
    "    ans = []\n",
    "    for val in lst:\n",
    "        if val != 0:\n",
    "            ans.append(-val)\n",
    "        else:\n",
    "            ans.append(val)\n",
    "\n",
    "    return ans            "
   ]
  },
  {
   "cell_type": "code",
   "execution_count": 36,
   "id": "eebc0ebc",
   "metadata": {},
   "outputs": [
    {
     "data": {
      "text/plain": [
       "[1, -2]"
      ]
     },
     "execution_count": 36,
     "metadata": {},
     "output_type": "execute_result"
    }
   ],
   "source": [
    "P3([-1, 2])"
   ]
  },
  {
   "cell_type": "code",
   "execution_count": 38,
   "id": "202bdada",
   "metadata": {},
   "outputs": [
    {
     "data": {
      "text/plain": [
       "[-66, 0, 11]"
      ]
     },
     "execution_count": 38,
     "metadata": {},
     "output_type": "execute_result"
    }
   ],
   "source": [
    "P3([66, 0, -11])"
   ]
  },
  {
   "cell_type": "markdown",
   "id": "9d7cfa7f",
   "metadata": {},
   "source": [
    "### 4) 중첩 리스트(nested list)를 입력으로 받고, 아래 조건을 만족하는 리스트를 리턴하는 함수 P4"
   ]
  },
  {
   "cell_type": "code",
   "execution_count": 43,
   "id": "cc462fab",
   "metadata": {},
   "outputs": [],
   "source": [
    "def P4(nested_lst):\n",
    "    ans = []\n",
    "    for lst in nested_lst:\n",
    "        # 만약 대문자가 섞여있다면, lst[0].lower()로\n",
    "        ans.append(lst[0])\n",
    "    ans.sort()\n",
    "    \n",
    "    return ans"
   ]
  },
  {
   "cell_type": "code",
   "execution_count": 44,
   "id": "fc851f58",
   "metadata": {},
   "outputs": [
    {
     "data": {
      "text/plain": [
       "['apple', 'banana']"
      ]
     },
     "execution_count": 44,
     "metadata": {},
     "output_type": "execute_result"
    }
   ],
   "source": [
    "P4([['apple', 5], ['banana', 6]])"
   ]
  },
  {
   "cell_type": "code",
   "execution_count": 45,
   "id": "ad2daa82",
   "metadata": {},
   "outputs": [
    {
     "data": {
      "text/plain": [
       "['ace', 'cup', 'good', 'nice']"
      ]
     },
     "execution_count": 45,
     "metadata": {},
     "output_type": "execute_result"
    }
   ],
   "source": [
    "P4([['cup', 3], ['ace', 3], ['nice', 4], ['good', 4]])"
   ]
  },
  {
   "cell_type": "markdown",
   "id": "345fb4a5",
   "metadata": {},
   "source": [
    "### 5) 대문자가 처음으로 등장하는 index를 리턴하는 함수 P5"
   ]
  },
  {
   "cell_type": "code",
   "execution_count": 51,
   "id": "ccde4e6d",
   "metadata": {},
   "outputs": [],
   "source": [
    "def P5(lst):\n",
    "    idx = 0\n",
    "    while idx != len(lst):\n",
    "        if 65 <= ord(lst[idx]) and ord(lst[idx]) <= 90:\n",
    "            return idx\n",
    "        else:\n",
    "            idx += 1\n",
    "    return -1"
   ]
  },
  {
   "cell_type": "code",
   "execution_count": 52,
   "id": "0e5103eb",
   "metadata": {},
   "outputs": [
    {
     "data": {
      "text/plain": [
       "1"
      ]
     },
     "execution_count": 52,
     "metadata": {},
     "output_type": "execute_result"
    }
   ],
   "source": [
    "P5(['a', 'B', 'c', 'D'])"
   ]
  },
  {
   "cell_type": "code",
   "execution_count": 53,
   "id": "3b26cfa5",
   "metadata": {},
   "outputs": [
    {
     "data": {
      "text/plain": [
       "3"
      ]
     },
     "execution_count": 53,
     "metadata": {},
     "output_type": "execute_result"
    }
   ],
   "source": [
    "P5(['z', 'b', 'k', 'D', 'I', 'q'])"
   ]
  },
  {
   "cell_type": "code",
   "execution_count": 54,
   "id": "300fc86a",
   "metadata": {},
   "outputs": [
    {
     "data": {
      "text/plain": [
       "-1"
      ]
     },
     "execution_count": 54,
     "metadata": {},
     "output_type": "execute_result"
    }
   ],
   "source": [
    "P5(['a', 'b'])"
   ]
  },
  {
   "cell_type": "markdown",
   "id": "b2d4a2c9",
   "metadata": {},
   "source": [
    "### 6) 정수 2개를 입력으로 받고, 아래 조건을 만족하는 리스트를 리턴하는 함수 P6\n",
    "<조건>\n",
    "1. 입력은항상정수2개 \n",
    "2. 입력받은두정수중큰수부터시작하여작은수까지포함된리스트를리턴\n",
    "3. 리턴하는 리스트는 내림차순으로 정렬되어 있어야 함 \n",
    "4. 입력받는두정수가같은경우는해당정수가1번만포함된리스트를리턴"
   ]
  },
  {
   "cell_type": "code",
   "execution_count": 72,
   "id": "7302ea2a",
   "metadata": {},
   "outputs": [],
   "source": [
    "def P6(v1, v2):\n",
    "    ans = []\n",
    "    if v1 == v2:\n",
    "        ans.append(v1)\n",
    "    else: \n",
    "        # range(시작, 끝-1, step:-1)\n",
    "        for val in range(max(v1,v2), min(v1,v2)-1, -1):\n",
    "            ans.append(val)\n",
    "    return ans"
   ]
  },
  {
   "cell_type": "code",
   "execution_count": 73,
   "id": "aa12513f",
   "metadata": {},
   "outputs": [
    {
     "data": {
      "text/plain": [
       "[9, 8, 7, 6, 5, 4, 3]"
      ]
     },
     "execution_count": 73,
     "metadata": {},
     "output_type": "execute_result"
    }
   ],
   "source": [
    "P6(3, 9)"
   ]
  },
  {
   "cell_type": "code",
   "execution_count": 74,
   "id": "9d0e8160",
   "metadata": {},
   "outputs": [
    {
     "data": {
      "text/plain": [
       "[2, 1, 0, -1]"
      ]
     },
     "execution_count": 74,
     "metadata": {},
     "output_type": "execute_result"
    }
   ],
   "source": [
    "P6(2, -1)"
   ]
  },
  {
   "cell_type": "code",
   "execution_count": 75,
   "id": "47582ba1",
   "metadata": {},
   "outputs": [
    {
     "data": {
      "text/plain": [
       "[100]"
      ]
     },
     "execution_count": 75,
     "metadata": {},
     "output_type": "execute_result"
    }
   ],
   "source": [
    "P6(100, 100)"
   ]
  },
  {
   "cell_type": "markdown",
   "id": "5c51d1f8",
   "metadata": {},
   "source": [
    "### 7) 리스트를 입력으로 받고, 리스트의 각 원소에 1을 더한 후 리턴하는 함수 P7\n",
    "<조건> \n",
    "\n",
    "1.입력받는리스트자체는변경되어서는안됨 \n",
    "\n",
    "2.리스트는 숫자로만 구성됨"
   ]
  },
  {
   "cell_type": "code",
   "execution_count": 76,
   "id": "9f8e2682",
   "metadata": {},
   "outputs": [],
   "source": [
    "def P7(lst):\n",
    "    copy_lst = lst[:]\n",
    "    idx = 0\n",
    "    while idx != len(lst):\n",
    "        copy_lst[idx] += 1\n",
    "        idx += 1\n",
    "    return copy_lst"
   ]
  },
  {
   "cell_type": "code",
   "execution_count": 77,
   "id": "eb234437",
   "metadata": {},
   "outputs": [
    {
     "data": {
      "text/plain": [
       "[6, 5, 8, 4, 3, 4, 3, 7, 5, 3, 2, 8, 2, 4]"
      ]
     },
     "execution_count": 77,
     "metadata": {},
     "output_type": "execute_result"
    }
   ],
   "source": [
    "P7([5,4,7,3,2,3,2,6,4,2,1,7,1,3])"
   ]
  },
  {
   "cell_type": "code",
   "execution_count": 78,
   "id": "90f48c07",
   "metadata": {},
   "outputs": [
    {
     "data": {
      "text/plain": [
       "[1, 1, 1]"
      ]
     },
     "execution_count": 78,
     "metadata": {},
     "output_type": "execute_result"
    }
   ],
   "source": [
    "P7([0, 0, 0])"
   ]
  },
  {
   "cell_type": "markdown",
   "id": "0b14d5a2",
   "metadata": {},
   "source": [
    "### 8) 해당 리스트에서 음수만 제거하는 함수 P8"
   ]
  },
  {
   "cell_type": "code",
   "execution_count": 85,
   "id": "38ff784f",
   "metadata": {},
   "outputs": [],
   "source": [
    "def P8(lst):\n",
    "    idx = 0\n",
    "    copy = lst[:]\n",
    "    while idx != len(copy):\n",
    "        # 보존되는 copy로 negative index찾고 해당 값을 다른 list에서 지우기\n",
    "        if copy[idx] < 0:\n",
    "            lst.remove(copy[idx])\n",
    "        idx += 1\n",
    "    \n",
    "    return lst "
   ]
  },
  {
   "cell_type": "code",
   "execution_count": 86,
   "id": "375a2531",
   "metadata": {},
   "outputs": [
    {
     "data": {
      "text/plain": [
       "[1, 2, 3, 6, 1]"
      ]
     },
     "execution_count": 86,
     "metadata": {},
     "output_type": "execute_result"
    }
   ],
   "source": [
    "P8([1, 2, 3, -3, 6, -1, -3, 1])"
   ]
  },
  {
   "cell_type": "code",
   "execution_count": 87,
   "id": "e5bfd90d",
   "metadata": {},
   "outputs": [
    {
     "data": {
      "text/plain": [
       "[1, 2]"
      ]
     },
     "execution_count": 87,
     "metadata": {},
     "output_type": "execute_result"
    }
   ],
   "source": [
    "P8([-5, 1, -3, 2])"
   ]
  },
  {
   "cell_type": "code",
   "execution_count": 88,
   "id": "97685f0e",
   "metadata": {},
   "outputs": [
    {
     "data": {
      "text/plain": [
       "[]"
      ]
     },
     "execution_count": 88,
     "metadata": {},
     "output_type": "execute_result"
    }
   ],
   "source": [
    "P8([])"
   ]
  },
  {
   "cell_type": "markdown",
   "id": "a836ddc0",
   "metadata": {},
   "source": [
    "### 9) 안쪽 리스트 중 첫 리스트의 첫 원소와 마지막 리스트의 마지막 원소를 리턴하는 함수 P9"
   ]
  },
  {
   "cell_type": "code",
   "execution_count": 93,
   "id": "4d63873d",
   "metadata": {},
   "outputs": [],
   "source": [
    "def P9(nested_lst):\n",
    "    ans = []\n",
    "    ans.extend([nested_lst[0][0], nested_lst[-1][-1]])\n",
    "    return ans"
   ]
  },
  {
   "cell_type": "code",
   "execution_count": 94,
   "id": "972971fb",
   "metadata": {},
   "outputs": [
    {
     "data": {
      "text/plain": [
       "['km', 'stone']"
      ]
     },
     "execution_count": 94,
     "metadata": {},
     "output_type": "execute_result"
    }
   ],
   "source": [
    "P9([['km','miles','league'],['kg','pound','stone']])"
   ]
  },
  {
   "cell_type": "code",
   "execution_count": 95,
   "id": "ded418fa",
   "metadata": {},
   "outputs": [
    {
     "data": {
      "text/plain": [
       "[0, 6]"
      ]
     },
     "execution_count": 95,
     "metadata": {},
     "output_type": "execute_result"
    }
   ],
   "source": [
    "P9([[0,1,2,3],[4,5,6]])"
   ]
  },
  {
   "cell_type": "code",
   "execution_count": 96,
   "id": "91a8b633",
   "metadata": {},
   "outputs": [
    {
     "data": {
      "text/plain": [
       "[0, 1]"
      ]
     },
     "execution_count": 96,
     "metadata": {},
     "output_type": "execute_result"
    }
   ],
   "source": [
    "P9([[0,0,0],[1]])"
   ]
  },
  {
   "cell_type": "code",
   "execution_count": 97,
   "id": "37d5a5fb",
   "metadata": {},
   "outputs": [
    {
     "data": {
      "text/plain": [
       "[0, 1]"
      ]
     },
     "execution_count": 97,
     "metadata": {},
     "output_type": "execute_result"
    }
   ],
   "source": [
    "P9([[0],[1]])"
   ]
  },
  {
   "cell_type": "markdown",
   "id": "c939dc39",
   "metadata": {},
   "source": [
    "### 10)  두 리스트와 1과10사이의숫자가하나가주어졌을때,해당숫자에해당하는날에1번rat의무게가더 높았으면 True, 아니라면 False를 리턴하는 함수 P10"
   ]
  },
  {
   "cell_type": "code",
   "execution_count": 98,
   "id": "183cb997",
   "metadata": {},
   "outputs": [],
   "source": [
    "def P10(lst1, lst2, day):\n",
    "    idx = day-1\n",
    "    ans = True\n",
    "    if lst1[idx] < lst2[idx]:\n",
    "        ans = False\n",
    "    return ans"
   ]
  },
  {
   "cell_type": "code",
   "execution_count": 101,
   "id": "db47f2e1",
   "metadata": {},
   "outputs": [
    {
     "data": {
      "text/plain": [
       "False"
      ]
     },
     "execution_count": 101,
     "metadata": {},
     "output_type": "execute_result"
    }
   ],
   "source": [
    "rat_1=[5,6,7,6,7,8,10,9,8,10] \n",
    "rat_2=[7,8,6,7,8,10,9,8,10,11]\n",
    "P10(rat_1, rat_2, 1)"
   ]
  },
  {
   "cell_type": "code",
   "execution_count": 102,
   "id": "f342b820",
   "metadata": {},
   "outputs": [
    {
     "data": {
      "text/plain": [
       "False"
      ]
     },
     "execution_count": 102,
     "metadata": {},
     "output_type": "execute_result"
    }
   ],
   "source": [
    "P10(rat_1, rat_2, 5)"
   ]
  },
  {
   "cell_type": "code",
   "execution_count": 103,
   "id": "70080a91",
   "metadata": {},
   "outputs": [
    {
     "data": {
      "text/plain": [
       "True"
      ]
     },
     "execution_count": 103,
     "metadata": {},
     "output_type": "execute_result"
    }
   ],
   "source": [
    "P10(rat_1, rat_2, 3)"
   ]
  },
  {
   "cell_type": "markdown",
   "id": "88f6dff3",
   "metadata": {},
   "source": [
    "# 2. Set"
   ]
  },
  {
   "cell_type": "markdown",
   "id": "3f906093",
   "metadata": {},
   "source": [
    "### 1) 정수(int)로만 구성된 리스트를 변수(argument)로 받고, 그중 두 번 이상 반복되는 정수의 집합(set)을 리턴하는 함수"
   ]
  },
  {
   "cell_type": "code",
   "execution_count": 106,
   "id": "cad25ae4",
   "metadata": {},
   "outputs": [],
   "source": [
    "def P1(lst):\n",
    "    dic = {}\n",
    "    ans = []\n",
    "    # val count별로 dictionary에 넣기\n",
    "    for val in lst:\n",
    "        if val not in dic:\n",
    "            dic[val] = 1\n",
    "        else:\n",
    "            dic[val] += 1\n",
    "    # count가 2번 이상인 애들 뽑아서 list에 넣고 set으로 return하기\n",
    "    for k,v in dic.items():\n",
    "        if v > 1:\n",
    "            ans.append(k)\n",
    "    return set(ans)"
   ]
  },
  {
   "cell_type": "code",
   "execution_count": 107,
   "id": "1b9b7dbe",
   "metadata": {},
   "outputs": [
    {
     "data": {
      "text/plain": [
       "{1}"
      ]
     },
     "execution_count": 107,
     "metadata": {},
     "output_type": "execute_result"
    }
   ],
   "source": [
    "P1([1, 2, 3, 1])"
   ]
  },
  {
   "cell_type": "code",
   "execution_count": 108,
   "id": "d55052a6",
   "metadata": {},
   "outputs": [
    {
     "data": {
      "text/plain": [
       "{1, 3}"
      ]
     },
     "execution_count": 108,
     "metadata": {},
     "output_type": "execute_result"
    }
   ],
   "source": [
    "P1([1, 1, 2, 3, 3, 3])"
   ]
  },
  {
   "cell_type": "code",
   "execution_count": 109,
   "id": "41bf563e",
   "metadata": {},
   "outputs": [
    {
     "data": {
      "text/plain": [
       "set()"
      ]
     },
     "execution_count": 109,
     "metadata": {},
     "output_type": "execute_result"
    }
   ],
   "source": [
    "P1([1, 2, 3, 4, 5])"
   ]
  },
  {
   "cell_type": "code",
   "execution_count": 110,
   "id": "9603cc89",
   "metadata": {},
   "outputs": [
    {
     "data": {
      "text/plain": [
       "set()"
      ]
     },
     "execution_count": 110,
     "metadata": {},
     "output_type": "execute_result"
    }
   ],
   "source": [
    "P1([])"
   ]
  },
  {
   "cell_type": "markdown",
   "id": "af0380c2",
   "metadata": {},
   "source": [
    "### 2) 같은 인덱스를 갖는 원소끼리 짝지은 튜플(tuple)의 집합(set)을 리턴하는 함수"
   ]
  },
  {
   "cell_type": "code",
   "execution_count": 18,
   "id": "325422fc",
   "metadata": {},
   "outputs": [],
   "source": [
    "def P2(lst1, lst2):\n",
    "    ans = set()\n",
    "    for i in range(len(lst1)):\n",
    "        add = [lst1[i], lst2[i]]\n",
    "        ans.add(tuple(add))\n",
    "    return ans"
   ]
  },
  {
   "cell_type": "code",
   "execution_count": 19,
   "id": "2ee8a01d",
   "metadata": {},
   "outputs": [
    {
     "data": {
      "text/plain": [
       "{('purple', 'grape'), ('red', 'apple'), ('yellow', 'banana')}"
      ]
     },
     "execution_count": 19,
     "metadata": {},
     "output_type": "execute_result"
    }
   ],
   "source": [
    "P2(['red', 'yellow', 'purple'], ['apple', 'banana', 'grape'])"
   ]
  },
  {
   "cell_type": "code",
   "execution_count": 24,
   "id": "3aa50d74",
   "metadata": {},
   "outputs": [
    {
     "data": {
      "text/plain": [
       "{(1, 'computer'), (2, 'keyboard'), (3, 'mouse')}"
      ]
     },
     "execution_count": 24,
     "metadata": {},
     "output_type": "execute_result"
    }
   ],
   "source": [
    "P2([1, 2, 3], ['computer', 'keyboard', 'mouse'])"
   ]
  },
  {
   "cell_type": "code",
   "execution_count": 25,
   "id": "6d27fc69",
   "metadata": {},
   "outputs": [
    {
     "data": {
      "text/plain": [
       "set()"
      ]
     },
     "execution_count": 25,
     "metadata": {},
     "output_type": "execute_result"
    }
   ],
   "source": [
    "P2([], [])"
   ]
  },
  {
   "cell_type": "markdown",
   "id": "ac71f2fb",
   "metadata": {},
   "source": [
    "# 3. Dictionary"
   ]
  },
  {
   "cell_type": "markdown",
   "id": "c16cf63c",
   "metadata": {},
   "source": [
    "### 3) 포함된 “distinct values”의 수를 리턴하는 함수"
   ]
  },
  {
   "cell_type": "code",
   "execution_count": 28,
   "id": "23f43d3e",
   "metadata": {},
   "outputs": [],
   "source": [
    "def P3(dic):\n",
    "    unique = set(dic.values())\n",
    "    ans = len(unique)\n",
    "    return ans"
   ]
  },
  {
   "cell_type": "code",
   "execution_count": 29,
   "id": "1df70015",
   "metadata": {},
   "outputs": [
    {
     "data": {
      "text/plain": [
       "2"
      ]
     },
     "execution_count": 29,
     "metadata": {},
     "output_type": "execute_result"
    }
   ],
   "source": [
    "P3({'red': 1, 'green': 1, 'blue': 2})"
   ]
  },
  {
   "cell_type": "code",
   "execution_count": 30,
   "id": "68af14d2",
   "metadata": {},
   "outputs": [
    {
     "data": {
      "text/plain": [
       "3"
      ]
     },
     "execution_count": 30,
     "metadata": {},
     "output_type": "execute_result"
    }
   ],
   "source": [
    "P3({(1,2): 'a', 'g': 3, 1: True})"
   ]
  },
  {
   "cell_type": "code",
   "execution_count": 31,
   "id": "2d3abda1",
   "metadata": {},
   "outputs": [
    {
     "data": {
      "text/plain": [
       "0"
      ]
     },
     "execution_count": 31,
     "metadata": {},
     "output_type": "execute_result"
    }
   ],
   "source": [
    " P3(dict())"
   ]
  },
  {
   "cell_type": "code",
   "execution_count": 32,
   "id": "ef603066",
   "metadata": {},
   "outputs": [
    {
     "data": {
      "text/plain": [
       "1"
      ]
     },
     "execution_count": 32,
     "metadata": {},
     "output_type": "execute_result"
    }
   ],
   "source": [
    "P3({'a': True, 'b': True, 'c': True})"
   ]
  },
  {
   "cell_type": "markdown",
   "id": "faca85cc",
   "metadata": {},
   "source": [
    "### 4) 딕셔너리를 변수(argument)로 받아 탐지 가능성이 가장 큰 입자를 리턴하는 함수"
   ]
  },
  {
   "cell_type": "code",
   "execution_count": 33,
   "id": "7e2f394f",
   "metadata": {},
   "outputs": [],
   "source": [
    "def P4(dic):\n",
    "    max_val = max(dic.values())\n",
    "    for k,v in dic.items():\n",
    "        if v == max_val:\n",
    "            return k"
   ]
  },
  {
   "cell_type": "code",
   "execution_count": 34,
   "id": "e02eedb0",
   "metadata": {},
   "outputs": [
    {
     "data": {
      "text/plain": [
       "'neutron'"
      ]
     },
     "execution_count": 34,
     "metadata": {},
     "output_type": "execute_result"
    }
   ],
   "source": [
    "P4({'neutron': 0.55, 'proton': 0.21, 'meson': 0.03, 'muon': 0.07, 'neutrino': 0.14})"
   ]
  },
  {
   "cell_type": "code",
   "execution_count": 36,
   "id": "6c0d2dc4",
   "metadata": {},
   "outputs": [
    {
     "data": {
      "text/plain": [
       "'proton'"
      ]
     },
     "execution_count": 36,
     "metadata": {},
     "output_type": "execute_result"
    }
   ],
   "source": [
    "P4({'neutron': 0.11, 'proton': 0.21, 'meson': 0.05, 'muon': 0.09, 'neutrino': 0.12})"
   ]
  },
  {
   "cell_type": "markdown",
   "id": "4c94c764",
   "metadata": {},
   "source": [
    "### 5) 두 번 이상 나타나는 value를 리스트로 저장하여 리턴하는 함수"
   ]
  },
  {
   "cell_type": "code",
   "execution_count": 39,
   "id": "f141b312",
   "metadata": {},
   "outputs": [],
   "source": [
    "def P5(dic):\n",
    "    cnt = {}\n",
    "    ans = []\n",
    "    for val in dic.values():\n",
    "        if val not in cnt:\n",
    "            cnt[val] = 1\n",
    "        else:\n",
    "            cnt[val] += 1\n",
    "    for k,v in cnt.items():\n",
    "        if v > 1:\n",
    "            ans.append(k)\n",
    "    return ans "
   ]
  },
  {
   "cell_type": "code",
   "execution_count": 40,
   "id": "845d37ef",
   "metadata": {},
   "outputs": [
    {
     "data": {
      "text/plain": [
       "[1]"
      ]
     },
     "execution_count": 40,
     "metadata": {},
     "output_type": "execute_result"
    }
   ],
   "source": [
    "P5({'red': 1, 'green': 1, 'blue': 2})"
   ]
  },
  {
   "cell_type": "code",
   "execution_count": 42,
   "id": "ab7f6a2e",
   "metadata": {},
   "outputs": [
    {
     "data": {
      "text/plain": [
       "[]"
      ]
     },
     "execution_count": 42,
     "metadata": {},
     "output_type": "execute_result"
    }
   ],
   "source": [
    "P5({'r': 'a', 'g': 'b', 'b': 'c'})"
   ]
  },
  {
   "cell_type": "code",
   "execution_count": 43,
   "id": "9af769d0",
   "metadata": {},
   "outputs": [
    {
     "data": {
      "text/plain": [
       "[True, 2]"
      ]
     },
     "execution_count": 43,
     "metadata": {},
     "output_type": "execute_result"
    }
   ],
   "source": [
    "P5({'a': True, 'b': True, 'c': 2, 'd': 2})"
   ]
  },
  {
   "cell_type": "code",
   "execution_count": 44,
   "id": "9df924ed",
   "metadata": {},
   "outputs": [
    {
     "data": {
      "text/plain": [
       "[]"
      ]
     },
     "execution_count": 44,
     "metadata": {},
     "output_type": "execute_result"
    }
   ],
   "source": [
    "P5(dict())"
   ]
  },
  {
   "cell_type": "markdown",
   "id": "17047423",
   "metadata": {},
   "source": [
    "### 6) dct1과 dct2에 공통으로 포함된 key/value 쌍으로만 만든 새로운 딕셔너리를 리턴하는 함수"
   ]
  },
  {
   "cell_type": "code",
   "execution_count": 46,
   "id": "37c32665",
   "metadata": {},
   "outputs": [],
   "source": [
    "def P6(dic1, dic2):\n",
    "    ans = {}\n",
    "    for k,v in dic1.items():\n",
    "        if k in dic2:\n",
    "            if dic2.get(k) == dic1.get(k):\n",
    "                ans[k] = v\n",
    "    return ans\n",
    "            "
   ]
  },
  {
   "cell_type": "code",
   "execution_count": 47,
   "id": "01818627",
   "metadata": {},
   "outputs": [
    {
     "data": {
      "text/plain": [
       "{'a': 1, 'c': [1, 2]}"
      ]
     },
     "execution_count": 47,
     "metadata": {},
     "output_type": "execute_result"
    }
   ],
   "source": [
    "P6({'a': 1, 'b': True, 'c': [1,2]}, {'a': 1, 'b': 123, 'c': [1,2]})"
   ]
  },
  {
   "cell_type": "code",
   "execution_count": 48,
   "id": "f1605709",
   "metadata": {},
   "outputs": [
    {
     "data": {
      "text/plain": [
       "{}"
      ]
     },
     "execution_count": 48,
     "metadata": {},
     "output_type": "execute_result"
    }
   ],
   "source": [
    "P6({'a': 1, 'b': True }, {'c': 1, 'd': 123, 'e': [1,2]})"
   ]
  },
  {
   "cell_type": "code",
   "execution_count": 49,
   "id": "6af461e6",
   "metadata": {},
   "outputs": [
    {
     "data": {
      "text/plain": [
       "{}"
      ]
     },
     "execution_count": 49,
     "metadata": {},
     "output_type": "execute_result"
    }
   ],
   "source": [
    "P6({}, {'c': 1, 'd': 123, 'e': [1,2]})"
   ]
  },
  {
   "cell_type": "markdown",
   "id": "0c7ede96",
   "metadata": {},
   "source": [
    "### 7) “Dictionary of dictionaries”를 변수(argument)로 받아 “inner dictionaries”가 모두 같은 key 값을 가지면 1, 아니면 0을 리턴하는 함수\n",
    "\n",
    "<조건>\n",
    "1. 딕셔너리가 비어있는 경우는 없음\n",
    "2. 모든 value는 딕셔너리로 되어있음\n",
    "3. value의 value는 딕셔너리 형태가 아님"
   ]
  },
  {
   "cell_type": "code",
   "execution_count": 55,
   "id": "1b197d65",
   "metadata": {},
   "outputs": [],
   "source": [
    "def P7(dic):\n",
    "    key_lst = []\n",
    "    for sub_dic in dic.values():\n",
    "        key_lst.append(sub_dic.keys())\n",
    "        print('key list: ', key_lst)\n",
    "    check = key_lst[0]\n",
    "    for i in range(1, len(key_lst)):\n",
    "        ans = 1\n",
    "        if check != key_lst[i]:\n",
    "            print(check, key_lst[i])\n",
    "            ans = 0\n",
    "    return ans    "
   ]
  },
  {
   "cell_type": "code",
   "execution_count": 56,
   "id": "154df0ef",
   "metadata": {},
   "outputs": [
    {
     "name": "stdout",
     "output_type": "stream",
     "text": [
      "key list:  [dict_keys(['aa', 'ab'])]\n",
      "key list:  [dict_keys(['aa', 'ab']), dict_keys(['aa', 'ab'])]\n"
     ]
    },
    {
     "data": {
      "text/plain": [
       "1"
      ]
     },
     "execution_count": 56,
     "metadata": {},
     "output_type": "execute_result"
    }
   ],
   "source": [
    "P7({'a': {'aa':123, 'ab': [1,2]}, 'b': {'aa': 'bb', 'ab': 'cc'}})"
   ]
  },
  {
   "cell_type": "code",
   "execution_count": 57,
   "id": "23eee6a4",
   "metadata": {},
   "outputs": [
    {
     "name": "stdout",
     "output_type": "stream",
     "text": [
      "key list:  [dict_keys([1, 2])]\n",
      "key list:  [dict_keys([1, 2]), dict_keys([2, 3])]\n",
      "dict_keys([1, 2]) dict_keys([2, 3])\n"
     ]
    },
    {
     "data": {
      "text/plain": [
       "0"
      ]
     },
     "execution_count": 57,
     "metadata": {},
     "output_type": "execute_result"
    }
   ],
   "source": [
    "P7({'A': {1: 'a', 2: 'b'}, 'B': {2: 'c', 3: 'd'}})"
   ]
  },
  {
   "cell_type": "markdown",
   "id": "24a9877a",
   "metadata": {},
   "source": [
    "### 8) 딕셔너리 형태로 저장된 두 개의 sparse vector를 변수(arguments)로 받아 그들의 합을 새로운 딕셔너리로 저장하여 리턴하는 함수"
   ]
  },
  {
   "cell_type": "code",
   "execution_count": 75,
   "id": "b6cc12b7",
   "metadata": {},
   "outputs": [],
   "source": [
    "def P8(dic1, dic2):\n",
    "    ans = {}\n",
    "    for k,v in dic1.items():\n",
    "        if k in dic2:\n",
    "            # 더한 값 구하기\n",
    "            val = v+dic2.get(k)\n",
    "            del dic2[k]\n",
    "            # value가 0보다 크면 저장하기 (원소가 없으면 빼는 것)\n",
    "            if val > 0:\n",
    "                ans[k] = val\n",
    "        else:\n",
    "            ans[k] = v\n",
    "    if len(dic2.keys())!=0:\n",
    "        for k,v in dic2.items():\n",
    "            ans[k] = v\n",
    "    return ans\n",
    "                "
   ]
  },
  {
   "cell_type": "code",
   "execution_count": 76,
   "id": "54f1abd9",
   "metadata": {},
   "outputs": [
    {
     "data": {
      "text/plain": [
       "{0: 3, 6: 5, 5: 2, 7: 1}"
      ]
     },
     "execution_count": 76,
     "metadata": {},
     "output_type": "execute_result"
    }
   ],
   "source": [
    "P8({0: 1, 6: 3}, {0: 2, 5: 2, 6: 2, 7: 1})"
   ]
  },
  {
   "cell_type": "code",
   "execution_count": 77,
   "id": "cf5ecd4f",
   "metadata": {},
   "outputs": [
    {
     "data": {
      "text/plain": [
       "{6: 5, 5: 2, 7: 1}"
      ]
     },
     "execution_count": 77,
     "metadata": {},
     "output_type": "execute_result"
    }
   ],
   "source": [
    "P8 ({0: 1, 6: 3}, {0: -1, 5: 2, 6: 2, 7: 1})"
   ]
  },
  {
   "cell_type": "code",
   "execution_count": 78,
   "id": "acdb2906",
   "metadata": {},
   "outputs": [
    {
     "data": {
      "text/plain": [
       "{}"
      ]
     },
     "execution_count": 78,
     "metadata": {},
     "output_type": "execute_result"
    }
   ],
   "source": [
    "P8({0: 1, 6: -3}, {0: -1, 6: 3})"
   ]
  },
  {
   "cell_type": "markdown",
   "id": "2c58f5fc",
   "metadata": {},
   "source": [
    "### 9) 두 개의 sparse vector를 변수(arguments)로 받아 그들의 내적을 계산하여 리턴하는 함수"
   ]
  },
  {
   "cell_type": "code",
   "execution_count": 79,
   "id": "a86e5adc",
   "metadata": {},
   "outputs": [],
   "source": [
    "def P9(dic1, dic2):\n",
    "    ans = 0\n",
    "    for k,v in dic1.items():\n",
    "        if k in dic2:\n",
    "            ans += v * dic2.get(k)\n",
    "    return ans"
   ]
  },
  {
   "cell_type": "code",
   "execution_count": 80,
   "id": "a624d2fc",
   "metadata": {},
   "outputs": [
    {
     "data": {
      "text/plain": [
       "8"
      ]
     },
     "execution_count": 80,
     "metadata": {},
     "output_type": "execute_result"
    }
   ],
   "source": [
    "P9({0:1, 6:3}, {0:2, 5:2, 6:2, 7:1})"
   ]
  },
  {
   "cell_type": "code",
   "execution_count": 81,
   "id": "604294ae",
   "metadata": {},
   "outputs": [
    {
     "data": {
      "text/plain": [
       "0"
      ]
     },
     "execution_count": 81,
     "metadata": {},
     "output_type": "execute_result"
    }
   ],
   "source": [
    "P9({0:1, 6:3}, {1:-1, 2:2, 3:2, 4:1})"
   ]
  },
  {
   "cell_type": "markdown",
   "id": "42bc7513",
   "metadata": {},
   "source": [
    "### 10) 단어 집합(set)과 “Query word”를 변수(arguments)로 받아서 “Changed word”가 단어 집합 내의 단어와 하나라도 일치하면 True, 하나도 일치하지 않으면 False를 리턴하는 함수"
   ]
  },
  {
   "cell_type": "code",
   "execution_count": 140,
   "id": "7b6a7ae9",
   "metadata": {},
   "outputs": [],
   "source": [
    "def P10(words, word):\n",
    "    lst = []\n",
    "    for wrd in words:\n",
    "        if len(wrd) == len(word):\n",
    "            lst.append(wrd)\n",
    "    \n",
    "    i = 0\n",
    "    j = 0\n",
    "    cnt = 0\n",
    "    while j != len(lst):\n",
    "        # word 뽑기\n",
    "        w = lst[j]\n",
    "        \n",
    "        # chr 다르면 count +1 하기\n",
    "#         print('i: ', i)\n",
    "#         print('word: ', w, word)\n",
    "        if w[i] != word[i]:\n",
    "            cnt += 1\n",
    "        i+=1\n",
    "        \n",
    "        # chr마다 다 돌면 다른 단어로 넘어가기 (cnt, i reset하기)\n",
    "        # 만약 한 chr만 다르면 바로 true return하기\n",
    "        if i == len(lst[j]):\n",
    "            if cnt == 1:\n",
    "                return True\n",
    "            i=0\n",
    "            j+=1\n",
    "            cnt=0\n",
    "    return False         "
   ]
  },
  {
   "cell_type": "code",
   "execution_count": 141,
   "id": "566a0fa1",
   "metadata": {},
   "outputs": [
    {
     "data": {
      "text/plain": [
       "False"
      ]
     },
     "execution_count": 141,
     "metadata": {},
     "output_type": "execute_result"
    }
   ],
   "source": [
    " P10({\"data\", \"science\"}, \"data\")"
   ]
  },
  {
   "cell_type": "code",
   "execution_count": 142,
   "id": "514ebbe1",
   "metadata": {},
   "outputs": [
    {
     "data": {
      "text/plain": [
       "True"
      ]
     },
     "execution_count": 142,
     "metadata": {},
     "output_type": "execute_result"
    }
   ],
   "source": [
    "P10({\"data\", \"science\"}, \"daaa\")"
   ]
  },
  {
   "cell_type": "code",
   "execution_count": 143,
   "id": "260b9b35",
   "metadata": {},
   "outputs": [
    {
     "data": {
      "text/plain": [
       "False"
      ]
     },
     "execution_count": 143,
     "metadata": {},
     "output_type": "execute_result"
    }
   ],
   "source": [
    "P10({\"data\", \"science\"}, \"scienzz\")"
   ]
  },
  {
   "cell_type": "code",
   "execution_count": 144,
   "id": "6d5668cb",
   "metadata": {},
   "outputs": [
    {
     "data": {
      "text/plain": [
       "True"
      ]
     },
     "execution_count": 144,
     "metadata": {},
     "output_type": "execute_result"
    }
   ],
   "source": [
    "P10({\"data\", \"science\", \"scienze\"}, \"scienzz\")"
   ]
  }
 ],
 "metadata": {
  "kernelspec": {
   "display_name": "Python 3 (ipykernel)",
   "language": "python",
   "name": "python3"
  },
  "language_info": {
   "codemirror_mode": {
    "name": "ipython",
    "version": 3
   },
   "file_extension": ".py",
   "mimetype": "text/x-python",
   "name": "python",
   "nbconvert_exporter": "python",
   "pygments_lexer": "ipython3",
   "version": "3.10.2"
  }
 },
 "nbformat": 4,
 "nbformat_minor": 5
}
