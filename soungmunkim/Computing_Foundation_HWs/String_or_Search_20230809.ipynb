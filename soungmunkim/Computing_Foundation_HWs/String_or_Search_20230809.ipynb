{
 "cells": [
  {
   "cell_type": "markdown",
   "id": "b12dff3a",
   "metadata": {},
   "source": [
    "# 1. Factorization (중요)"
   ]
  },
  {
   "cell_type": "markdown",
   "id": "3de466d3",
   "metadata": {},
   "source": [
    "### 1) 자연수를 parameter로 받고, 해당 자연수가 2개의 소수의 곱으로 표현된다면 True, 아니라면 False를 반환하는 함수 P1"
   ]
  },
  {
   "cell_type": "code",
   "execution_count": 14,
   "id": "da7fad18",
   "metadata": {},
   "outputs": [],
   "source": [
    "def P1(val: int) -> bool:\n",
    "    i = 2\n",
    "    cnt = 0\n",
    "    quotient = val\n",
    "    while quotient > 1 and cnt < 2:\n",
    "        #나누기가 되는 숫자이고 count도 가능하면 \n",
    "        #몫을 나눠야 할 값으로 업뎃하고 카운트 +1\n",
    "        while quotient % i == 0 and cnt < 2:\n",
    "            quotient = quotient / i\n",
    "            cnt += 1\n",
    "        # 나누기가 안 되는 숫자면 다음 숫자로 넘기기\n",
    "        i += 1\n",
    "       \n",
    "    if quotient == 1 and cnt == 2:\n",
    "        return True\n",
    "    else:\n",
    "        return False"
   ]
  },
  {
   "cell_type": "code",
   "execution_count": 15,
   "id": "889afb21",
   "metadata": {},
   "outputs": [
    {
     "data": {
      "text/plain": [
       "True"
      ]
     },
     "execution_count": 15,
     "metadata": {},
     "output_type": "execute_result"
    }
   ],
   "source": [
    "P1(6)"
   ]
  },
  {
   "cell_type": "code",
   "execution_count": 16,
   "id": "5dd3ecca",
   "metadata": {},
   "outputs": [
    {
     "data": {
      "text/plain": [
       "True"
      ]
     },
     "execution_count": 16,
     "metadata": {},
     "output_type": "execute_result"
    }
   ],
   "source": [
    "P1(9)"
   ]
  },
  {
   "cell_type": "code",
   "execution_count": 17,
   "id": "2410ef27",
   "metadata": {},
   "outputs": [
    {
     "data": {
      "text/plain": [
       "False"
      ]
     },
     "execution_count": 17,
     "metadata": {},
     "output_type": "execute_result"
    }
   ],
   "source": [
    "P1(12)"
   ]
  },
  {
   "cell_type": "markdown",
   "id": "847073ee",
   "metadata": {},
   "source": [
    "# 2. String"
   ]
  },
  {
   "cell_type": "markdown",
   "id": "5c83e130",
   "metadata": {},
   "source": [
    "### 1) 숫자의 일부 자릿수를 영어로 바꾸는 변환기\n",
    "\n",
    "<숫자의 일부 자릿수를 영어로 바꾼 예시>\n",
    "\n",
    "1234 → “one23four” \n",
    "\n",
    "98765 → “9eight7six5”\n",
    "\n",
    "423 → “fourtwo3\n"
   ]
  },
  {
   "cell_type": "code",
   "execution_count": 29,
   "id": "05c45f86",
   "metadata": {},
   "outputs": [],
   "source": [
    "def P2(word: str) -> int:\n",
    "    dic = {'zero':'0', 'one':'1', 'two':'2', 'thre':'3',\n",
    "          'four':'4', 'five':'5', 'six':'6', 'seven':'7',\n",
    "          'eight':'8', 'nine':'9'}\n",
    "    not_num = \"\"\n",
    "    num = \"\"\n",
    "    for char in word:\n",
    "        if ord(char) >= 97:\n",
    "            not_num+=char\n",
    "            # 해당 숫자 있으면 바꿔주고 reset\n",
    "            if not_num in dic:\n",
    "                num+=dic.get(not_num)\n",
    "                not_num = \"\"\n",
    "        # 숫자면 그냥 넣기\n",
    "        else: num+=char\n",
    "     \n",
    "    ans = int(num)\n",
    "    \n",
    "    return ans\n",
    "            "
   ]
  },
  {
   "cell_type": "code",
   "execution_count": 30,
   "id": "0dde27f5",
   "metadata": {},
   "outputs": [
    {
     "data": {
      "text/plain": [
       "1234"
      ]
     },
     "execution_count": 30,
     "metadata": {},
     "output_type": "execute_result"
    }
   ],
   "source": [
    "P2(\"one23four\")"
   ]
  },
  {
   "cell_type": "code",
   "execution_count": 32,
   "id": "60c59f34",
   "metadata": {},
   "outputs": [
    {
     "data": {
      "text/plain": [
       "98765"
      ]
     },
     "execution_count": 32,
     "metadata": {},
     "output_type": "execute_result"
    }
   ],
   "source": [
    "P2(\"9eight7six5\")"
   ]
  },
  {
   "cell_type": "code",
   "execution_count": 33,
   "id": "2cb910d0",
   "metadata": {},
   "outputs": [
    {
     "data": {
      "text/plain": [
       "98765"
      ]
     },
     "execution_count": 33,
     "metadata": {},
     "output_type": "execute_result"
    }
   ],
   "source": [
    "P2(\"nineeight76five\")"
   ]
  },
  {
   "cell_type": "code",
   "execution_count": 34,
   "id": "c309018a",
   "metadata": {},
   "outputs": [
    {
     "data": {
      "text/plain": [
       "456"
      ]
     },
     "execution_count": 34,
     "metadata": {},
     "output_type": "execute_result"
    }
   ],
   "source": [
    "P2(\"456\")"
   ]
  },
  {
   "cell_type": "markdown",
   "id": "a2c5f1ba",
   "metadata": {},
   "source": [
    "### 2) 성별, 생년월일이 리스트로 주어졌을 때 주민등록번호 앞 7자리를 알맞게 형성하여 return하는 함수\n",
    "\n",
    "1. 6자리는 생년월일\n",
    "2. 7번째 자리는 태어난 년도와 성별에 따라 나뉨\n",
    "\n",
    "1800년대 남: 9, 여: 0\n",
    "\n",
    "1900년대 남: 1, 여: 2\n",
    "\n",
    "2000년대 남: 3, 여: 4"
   ]
  },
  {
   "cell_type": "code",
   "execution_count": 43,
   "id": "72d144e2",
   "metadata": {},
   "outputs": [],
   "source": [
    "def P3(lst: list) -> str:\n",
    "    \n",
    "    \n",
    "    if lst[0] == 'MALE':\n",
    "        dic = {'18':'9', '19':'1', '20':'3'}\n",
    "    else: \n",
    "        dic = {'18':'0', '19':'2', '20':'4'}\n",
    "    \n",
    "    key = str(lst[1])[:2]\n",
    "    yr = str(lst[1])[2:]\n",
    "    \n",
    "    for_sex = dic.get(key)\n",
    "    \n",
    "    m = str(lst[2])\n",
    "    d = str(lst[3])\n",
    "    if len(m)<2:\n",
    "        m = '0'+m\n",
    "    if len(d)<2:\n",
    "        d = '0'+d\n",
    "    \n",
    "    return yr+m+d+for_sex"
   ]
  },
  {
   "cell_type": "code",
   "execution_count": 44,
   "id": "8d78d9f2",
   "metadata": {},
   "outputs": [
    {
     "data": {
      "text/plain": [
       "'5602141'"
      ]
     },
     "execution_count": 44,
     "metadata": {},
     "output_type": "execute_result"
    }
   ],
   "source": [
    "P3(['MALE', 1956, 2, 14])"
   ]
  },
  {
   "cell_type": "code",
   "execution_count": 45,
   "id": "f2d1bfd8",
   "metadata": {},
   "outputs": [
    {
     "data": {
      "text/plain": [
       "'9610301'"
      ]
     },
     "execution_count": 45,
     "metadata": {},
     "output_type": "execute_result"
    }
   ],
   "source": [
    "P3(['MALE', 1996, 10, 30])"
   ]
  },
  {
   "cell_type": "code",
   "execution_count": 46,
   "id": "c04f9437",
   "metadata": {},
   "outputs": [
    {
     "data": {
      "text/plain": [
       "'0001024'"
      ]
     },
     "execution_count": 46,
     "metadata": {},
     "output_type": "execute_result"
    }
   ],
   "source": [
    "P3(['FEMALE', 2000, 1, 2])"
   ]
  },
  {
   "cell_type": "code",
   "execution_count": 47,
   "id": "dcbf56f8",
   "metadata": {},
   "outputs": [
    {
     "data": {
      "text/plain": [
       "'9903280'"
      ]
     },
     "execution_count": 47,
     "metadata": {},
     "output_type": "execute_result"
    }
   ],
   "source": [
    "P3(['FEMALE', 1899, 3, 28])"
   ]
  },
  {
   "cell_type": "markdown",
   "id": "0632a747",
   "metadata": {},
   "source": [
    "# 3. Search"
   ]
  },
  {
   "cell_type": "markdown",
   "id": "d04011ad",
   "metadata": {},
   "source": [
    "### 1. 정렬되어 있는 2차원 List가 주어졌을 때 찾고자 하는 목표 숫자가 List안에 있으면 좌표를 Tuple 형태로 반환하고, 없으면 (-1, -1)을 반환"
   ]
  },
  {
   "cell_type": "code",
   "execution_count": 62,
   "id": "e7ee4d5a",
   "metadata": {},
   "outputs": [],
   "source": [
    "def P4(matrix:list, target:int) -> tuple:\n",
    "    dic = {}\n",
    "    index1, index2 = -1, -1\n",
    "    \n",
    "    # 각 row마다 dic에 저장하기\n",
    "    for idx, lst in enumerate(matrix):\n",
    "        dic[idx] = lst\n",
    "    \n",
    "    # 해당 target이 해당 row에 있으면 index 뽑기\n",
    "    for k,v in dic.items():\n",
    "        if target in v:\n",
    "            index1 = k\n",
    "            index2 = v.index(target)\n",
    "            \n",
    "    return (index1, index2) "
   ]
  },
  {
   "cell_type": "code",
   "execution_count": 63,
   "id": "575493bd",
   "metadata": {},
   "outputs": [
    {
     "data": {
      "text/plain": [
       "(0, 1)"
      ]
     },
     "execution_count": 63,
     "metadata": {},
     "output_type": "execute_result"
    }
   ],
   "source": [
    "matrix = [[1,3,5,7],[10,11,16,20],[23,30,34,60]]\n",
    "target = 3\n",
    "P4(matrix, target)"
   ]
  },
  {
   "cell_type": "code",
   "execution_count": 64,
   "id": "db7abc85",
   "metadata": {},
   "outputs": [
    {
     "data": {
      "text/plain": [
       "(-1, -1)"
      ]
     },
     "execution_count": 64,
     "metadata": {},
     "output_type": "execute_result"
    }
   ],
   "source": [
    "matrix = [[1,3,5,7],[10,11,16,20],[23,30,34,60]] \n",
    "target = 65\n",
    "P4(matrix, target)"
   ]
  },
  {
   "cell_type": "code",
   "execution_count": 65,
   "id": "4df29491",
   "metadata": {},
   "outputs": [
    {
     "data": {
      "text/plain": [
       "(2, 0)"
      ]
     },
     "execution_count": 65,
     "metadata": {},
     "output_type": "execute_result"
    }
   ],
   "source": [
    "matrix = [[10,15,16,20,22],[26,29,35,36,37],[40,80,100,106,133]]\n",
    "target = 40\n",
    "P4(matrix, target)"
   ]
  }
 ],
 "metadata": {
  "kernelspec": {
   "display_name": "Python 3 (ipykernel)",
   "language": "python",
   "name": "python3"
  },
  "language_info": {
   "codemirror_mode": {
    "name": "ipython",
    "version": 3
   },
   "file_extension": ".py",
   "mimetype": "text/x-python",
   "name": "python",
   "nbconvert_exporter": "python",
   "pygments_lexer": "ipython3",
   "version": "3.10.2"
  }
 },
 "nbformat": 4,
 "nbformat_minor": 5
}
