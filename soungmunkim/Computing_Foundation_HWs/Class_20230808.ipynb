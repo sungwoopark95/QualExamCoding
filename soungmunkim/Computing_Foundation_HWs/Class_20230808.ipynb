{
 "cells": [
  {
   "cell_type": "markdown",
   "id": "882bf438",
   "metadata": {},
   "source": [
    "### 1) 국가명(name), 인구 수(population), 면적(area)을 인자(parameter)로 받는 Country 클래스를 구현\n",
    "1. __init__메소드를 사용하여 3개의 인자(name, population, area)를 가진 Country 클래스를 정의\n",
    "2. Country 클래스의 메소드인 is_larger를 정의: 첫번째 국가가 두번째 국가에비해 더 큰 면적을 지녔을때에만 True를 반환\n",
    "3. Country 클래스의 메소드인 population_density를 정의: 국가의 인구 밀도 (면적 당 인구 수)를 반환하는 메소드\n"
   ]
  },
  {
   "cell_type": "code",
   "execution_count": 4,
   "id": "3e909e14",
   "metadata": {},
   "outputs": [],
   "source": [
    "class Country:\n",
    "    def __init__(self, name:str, population:int, area:int) -> None:\n",
    "        self.name = name\n",
    "        self.population = population\n",
    "        self.area = area\n",
    "    def is_larger(self, other):\n",
    "        if self.area > other.area:\n",
    "            return True\n",
    "        else:\n",
    "            return False\n",
    "    def population_density(self):\n",
    "        self.population_density = self.population / self.area\n",
    "        return self.population_density\n",
    "        "
   ]
  },
  {
   "cell_type": "code",
   "execution_count": 5,
   "id": "538dacc3",
   "metadata": {},
   "outputs": [
    {
     "data": {
      "text/plain": [
       "'Canada'"
      ]
     },
     "execution_count": 5,
     "metadata": {},
     "output_type": "execute_result"
    }
   ],
   "source": [
    "canada = Country('Canada', 34482779, 9984670)\n",
    "canada.name"
   ]
  },
  {
   "cell_type": "code",
   "execution_count": 6,
   "id": "349cfd97",
   "metadata": {},
   "outputs": [
    {
     "data": {
      "text/plain": [
       "34482779"
      ]
     },
     "execution_count": 6,
     "metadata": {},
     "output_type": "execute_result"
    }
   ],
   "source": [
    "canada.population"
   ]
  },
  {
   "cell_type": "code",
   "execution_count": 7,
   "id": "49a89ce8",
   "metadata": {},
   "outputs": [
    {
     "data": {
      "text/plain": [
       "9984670"
      ]
     },
     "execution_count": 7,
     "metadata": {},
     "output_type": "execute_result"
    }
   ],
   "source": [
    "canada.area"
   ]
  },
  {
   "cell_type": "code",
   "execution_count": 10,
   "id": "82821ff7",
   "metadata": {},
   "outputs": [
    {
     "data": {
      "text/plain": [
       "True"
      ]
     },
     "execution_count": 10,
     "metadata": {},
     "output_type": "execute_result"
    }
   ],
   "source": [
    "canada = Country('Canada', 34482779, 9984670)\n",
    "usa = Country('United States of America', 313914040, 9826675)\n",
    "canada.is_larger(usa)"
   ]
  },
  {
   "cell_type": "code",
   "execution_count": 11,
   "id": "00ffb725",
   "metadata": {},
   "outputs": [
    {
     "data": {
      "text/plain": [
       "3.4535722262227995"
      ]
     },
     "execution_count": 11,
     "metadata": {},
     "output_type": "execute_result"
    }
   ],
   "source": [
    "canada.population_density()"
   ]
  },
  {
   "cell_type": "markdown",
   "id": "ce461ebb",
   "metadata": {},
   "source": [
    "### 2) 대륙명(name), 국가 리스트(countries)를 인자로 받는 Continent 클래스를 구현\n",
    "1. Continent 클래스는 위에서 구현한 Country 클래스를 사용 (countries는 Country class의 객체들로 이루어진 list)\n",
    "2. 2개의 인자(name, countries)를 가진 Country 클래스를 정의\n",
    "3. total_poulation 메소드는 대륙에 속한 국가들의 인구의 합을 반환\n"
   ]
  },
  {
   "cell_type": "code",
   "execution_count": 13,
   "id": "30fa1ae9",
   "metadata": {},
   "outputs": [],
   "source": [
    "#from P1 import Country # Do Not Modify\n",
    "class Continent(Country):\n",
    "    def __init__(self, name: str, countries: list) -> None:\n",
    "        self.name = name\n",
    "        self.countries = countries\n",
    "    def total_population(self):\n",
    "        ans = 0\n",
    "        for country in self.countries:\n",
    "            ans += country.population\n",
    "        return ans"
   ]
  },
  {
   "cell_type": "code",
   "execution_count": 16,
   "id": "91c449c3",
   "metadata": {},
   "outputs": [
    {
     "data": {
      "text/plain": [
       "'North America'"
      ]
     },
     "execution_count": 16,
     "metadata": {},
     "output_type": "execute_result"
    }
   ],
   "source": [
    "# from P1 import Country\n",
    "# from P2 import Continent\n",
    "\n",
    "canada =Country('Canada', 34482779, 9984670)\n",
    "usa = Country('United States of America', 313914040, 9826675) \n",
    "mexico = Country('Mexico', 112336538, 1943950)\n",
    "countries = [canada, usa, mexico]\n",
    "north_america = Continent('North America', countries)\n",
    "north_america.name"
   ]
  },
  {
   "cell_type": "code",
   "execution_count": 17,
   "id": "92f5d4c6",
   "metadata": {},
   "outputs": [
    {
     "data": {
      "text/plain": [
       "460733357"
      ]
     },
     "execution_count": 17,
     "metadata": {},
     "output_type": "execute_result"
    }
   ],
   "source": [
    "north_america.total_population()"
   ]
  },
  {
   "cell_type": "markdown",
   "id": "31ec47e5",
   "metadata": {},
   "source": [
    "### 3) LineSegment 클래스의 method인 slope method와 length method를 구현\n",
    "1. Point 클래스는 x좌표와 y좌표를 입력받음\n",
    "2. LineSegment 클래스는 2개의 Point를 입력받음 (시작점, 끝점)"
   ]
  },
  {
   "cell_type": "code",
   "execution_count": 18,
   "id": "bd59b1b9",
   "metadata": {},
   "outputs": [],
   "source": [
    "class Point:\n",
    "    def __init__(self, x: int, y: int) -> None:\n",
    "        self.x = x\n",
    "        self.y = y\n",
    "class LineSegment:\n",
    "    def __init__(self, point1: Point, point2: Point) -> None:\n",
    "        \"\"\"(LineSegment,Point,Point)->NoneType\n",
    "        A new LineSegment connecting point1 to point2 >>> p1=Point(1,3)\n",
    "        >>> p2=Point(3,2)\n",
    "        >>> segment=LineSegment(p1,p2)\n",
    "        >>> segment.startpoint==p1\n",
    "        True\n",
    "        >>> segment.endpoint==p2\n",
    "        True\n",
    "        \"\"\"\n",
    "        self.startpoint = point1\n",
    "        self.endpoint = point2\n",
    "        \n",
    "    def slope(self):\n",
    "        slope = (self.endpoint.y - self.startpoint.y) / (self.endpoint.x - self.startpoint.x)\n",
    "        return slope\n",
    "    \n",
    "    def length(self):\n",
    "        import math\n",
    "        length = math.sqrt((self.endpoint.x-self.startpoint.x)**2 + (self.endpoint.y-self.startpoint.y)**2)\n",
    "        return length\n",
    "        "
   ]
  },
  {
   "cell_type": "code",
   "execution_count": 19,
   "id": "4cea1db7",
   "metadata": {},
   "outputs": [
    {
     "data": {
      "text/plain": [
       "0.5"
      ]
     },
     "execution_count": 19,
     "metadata": {},
     "output_type": "execute_result"
    }
   ],
   "source": [
    "segment = LineSegment(Point(1,1), Point(3,2))\n",
    "segment.slope()"
   ]
  },
  {
   "cell_type": "code",
   "execution_count": 20,
   "id": "ce91071f",
   "metadata": {},
   "outputs": [
    {
     "data": {
      "text/plain": [
       "2.23606797749979"
      ]
     },
     "execution_count": 20,
     "metadata": {},
     "output_type": "execute_result"
    }
   ],
   "source": [
    "segment.length()"
   ]
  },
  {
   "cell_type": "markdown",
   "id": "25d912b2",
   "metadata": {},
   "source": [
    "### 4) 기본 계산기처럼 동작을 하는 Calculator 클래스를 구현"
   ]
  },
  {
   "cell_type": "code",
   "execution_count": 33,
   "id": "b1fd0651",
   "metadata": {},
   "outputs": [],
   "source": [
    "class Calculator:\n",
    "    def __init__(self):\n",
    "        # 숫자 기록\n",
    "        self.num = '0'\n",
    "        self.is_num = True\n",
    "        self.op = '+'\n",
    "        self.result = 0\n",
    "    \n",
    "    def digit(self, num):\n",
    "        # 연속으로 숫자 누르면 123 이렇게 저장되어야 해서\n",
    "        self.num += str(num)\n",
    "        self.is_num = True\n",
    "    \n",
    "    def plus(self):\n",
    "        # 기호 전에 숫자라면 해당 기호 반영해서 계산하기 \n",
    "        if self.is_num == True:\n",
    "            if self.op == '+':\n",
    "                self.result += int(self.num)\n",
    "            else:\n",
    "                self.result -= int(self.num)\n",
    "            # 반영 후 다시 숫자 reset\n",
    "            self.num = '0'\n",
    "        self.op = '+'\n",
    "        self.is_num = False\n",
    "    \n",
    "    def minus(self):\n",
    "        if self.is_num == True:\n",
    "            if self.op == '-':\n",
    "                self.result -= int(self.num)\n",
    "            else:\n",
    "                self.result += int(self.num)\n",
    "            # 반영 후 다시 숫자 reset\n",
    "            self.num = '0'\n",
    "        self.op = '-'\n",
    "        self.is_num = False\n",
    "    \n",
    "    def clear(self):\n",
    "        self.num = '0'\n",
    "        self.is_num = True\n",
    "        self.op = '+'\n",
    "        self.result = 0\n",
    "    \n",
    "    def equal(self):\n",
    "        if self.op == '+':\n",
    "            self.result += int(self.num)\n",
    "        else:\n",
    "            self.result -= int(self.num)\n",
    "        return self.result"
   ]
  },
  {
   "cell_type": "code",
   "execution_count": 34,
   "id": "9ad3457d",
   "metadata": {},
   "outputs": [
    {
     "data": {
      "text/plain": [
       "-200"
      ]
     },
     "execution_count": 34,
     "metadata": {},
     "output_type": "execute_result"
    }
   ],
   "source": [
    "c = Calculator() \n",
    "c.digit(1) \n",
    "c.digit(2) #12, self.is_num=True, self.op= +', self.result=0\n",
    "c.plus() # self.result = 12, self.num='0', self.op='+', self.is_num=False\n",
    "c.minus() # 전에 기호였기 때문에 패스, self.op='-', self.is_num=False, self.result=12\n",
    "c.digit(3) \n",
    "c.digit(1) \n",
    "c.digit(2) #312, self.is_num=True, self.op='-', self.result=12\n",
    "#기호누를 때 이전 마지막 기호가 반영됨 (마치 -300처럼 숫자 앞에 기호가 붙는 느낌)\n",
    "c.plus() # self.result=-300, self.is_num=False, self.num='0', self.op='-'\n",
    "c.minus() # self.result=-300, self.is_num=False, self.op='-'\n",
    "c.minus() # self.result=-300, self.is_num=False, self.op='-'\n",
    "c.plus() # self.result=-300, self.is_num=False, self.op='+'\n",
    "c.digit(0) \n",
    "c.digit(0) \n",
    "c.digit(1) \n",
    "c.digit(0) \n",
    "c.digit(0) #100, self.is_num=True, self.op='+', self.result=-300\n",
    "c.equal() # self.op='+', self.result=-200"
   ]
  },
  {
   "cell_type": "code",
   "execution_count": 36,
   "id": "b7344f81",
   "metadata": {},
   "outputs": [
    {
     "data": {
      "text/plain": [
       "0"
      ]
     },
     "execution_count": 36,
     "metadata": {},
     "output_type": "execute_result"
    }
   ],
   "source": [
    "c = Calculator() \n",
    "c.equal()"
   ]
  }
 ],
 "metadata": {
  "kernelspec": {
   "display_name": "Python 3 (ipykernel)",
   "language": "python",
   "name": "python3"
  },
  "language_info": {
   "codemirror_mode": {
    "name": "ipython",
    "version": 3
   },
   "file_extension": ".py",
   "mimetype": "text/x-python",
   "name": "python",
   "nbconvert_exporter": "python",
   "pygments_lexer": "ipython3",
   "version": "3.10.2"
  }
 },
 "nbformat": 4,
 "nbformat_minor": 5
}
