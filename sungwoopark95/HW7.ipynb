{
 "cells": [
  {
   "cell_type": "code",
   "execution_count": 1,
   "id": "0f3682cb",
   "metadata": {},
   "outputs": [],
   "source": [
    "from typing import List, Tuple, Dict, Set"
   ]
  },
  {
   "cell_type": "markdown",
   "id": "78058284",
   "metadata": {},
   "source": [
    "# P1\n",
    "\n",
    "자연수를 parameter로 받고, 해당 자연수가 2개의 소수의 곱으로 표현된다면 `True`, 아니라면 `False`를 반환하는 함수 `P1`를 작성하라. \n",
    "\n",
    "<조건> \n",
    "1. 유효하지 않은 input은 없다고 가정 \n",
    "2. 리턴 값은 bool 타입 \n",
    "\n",
    "예시1)  \n",
    "```py\n",
    ">>> P1(6) # 2 * 3 \n",
    "True \n",
    "```\n",
    "\n",
    "예시2)\n",
    "```py\n",
    ">>> P1(9) # 3 * 3 \n",
    "True \n",
    "```\n",
    "\n",
    "예시3) \n",
    "```py\n",
    ">>> P1(12) # 2 * 2 * 3 \n",
    "False\n",
    "```\n",
    "\n",
    "예시4) \n",
    "```py\n",
    ">>> P1(7) # 7 \n",
    "False \n",
    "```"
   ]
  },
  {
   "cell_type": "code",
   "execution_count": 2,
   "id": "e261ae72",
   "metadata": {},
   "outputs": [],
   "source": [
    "def P1(num:int):\n",
    "    def check_prime(num:int):\n",
    "        from math import sqrt\n",
    "        if num == 1:\n",
    "            return False\n",
    "        for i in range(2, int(sqrt(num))+1):\n",
    "            if num % i == 0:\n",
    "                return False\n",
    "        return True\n",
    "    \n",
    "    def get_primes(num:int):\n",
    "        return [i for i in range(1, num+1) if check_prime(i)]\n",
    "    \n",
    "    primes = get_primes(num)\n",
    "    for prime in primes:\n",
    "        if num / prime in primes:\n",
    "            return True\n",
    "    return False"
   ]
  },
  {
   "cell_type": "code",
   "execution_count": 3,
   "id": "d189242f",
   "metadata": {},
   "outputs": [
    {
     "data": {
      "text/plain": [
       "True"
      ]
     },
     "execution_count": 3,
     "metadata": {},
     "output_type": "execute_result"
    }
   ],
   "source": [
    "P1(6)"
   ]
  },
  {
   "cell_type": "code",
   "execution_count": 4,
   "id": "a8845b35",
   "metadata": {},
   "outputs": [
    {
     "data": {
      "text/plain": [
       "True"
      ]
     },
     "execution_count": 4,
     "metadata": {},
     "output_type": "execute_result"
    }
   ],
   "source": [
    "P1(9)"
   ]
  },
  {
   "cell_type": "code",
   "execution_count": 5,
   "id": "a176bb23",
   "metadata": {},
   "outputs": [
    {
     "data": {
      "text/plain": [
       "False"
      ]
     },
     "execution_count": 5,
     "metadata": {},
     "output_type": "execute_result"
    }
   ],
   "source": [
    "P1(12)"
   ]
  },
  {
   "cell_type": "code",
   "execution_count": 6,
   "id": "b2da20b7",
   "metadata": {},
   "outputs": [
    {
     "data": {
      "text/plain": [
       "False"
      ]
     },
     "execution_count": 6,
     "metadata": {},
     "output_type": "execute_result"
    }
   ],
   "source": [
    "P1(7)"
   ]
  },
  {
   "cell_type": "markdown",
   "id": "25d18338",
   "metadata": {},
   "source": [
    "# P2\n",
    "\n",
    "아래의 예시와 같이 숫자의 일부 자릿수를 영어로 바꾸는 변환기가 있다고 하자. \n",
    "\n",
    "<숫자의 일부 자릿수를 영어로 바꾼 예시> \n",
    "* 1234 → “one23four” \n",
    "* 98765 → “9eight7six5” \n",
    "* 423 → “fourtwo3 \n",
    "\n",
    "위와 같이 숫자의 일부 자릿수가 영어로 바뀌었거나 혹은 바뀌지 않고 숫자 그대로인 문자열(string) `s`를 parameter로 받고, 해당 string을 다시 숫자(int)로 변환하여 return하는 함수 `P2`를 완성하라. \n",
    "\n",
    "이때, string method를 사용하지 않고 구현해야 한다. \n",
    "\n",
    "(힌트: ASCII  코드를 통해 해당 문자가 숫자 문자(ex. ‘1’)인지 알파벳(ex. ‘a’)인지 구분할 수 있다.)  \n",
    "\n",
    "참고로 각 숫자에 대응하는 영단어는 다음과 같다. \n",
    "\n",
    "| 숫자 | 영단어 |\n",
    "|:---:|:----:|\n",
    "| 0 | zero |\n",
    "| 1 | one |\n",
    "| 2 | two |\n",
    "| 3 | three |\n",
    "| 4 | four |\n",
    "| 5 | five |\n",
    "| 6 | six |\n",
    "| 7 | seven |\n",
    "| 8 | eight |\n",
    "| 9 | nine |\n",
    "\n",
    "<조건> \n",
    "\n",
    "1. 입력 문자열 s 의 길이는 1 이상 50 이하이다. \n",
    "2. 입력 문자열 s 가 “zero” 혹은 “0”으로 시작하는 경우는 없다. \n",
    "3. 유효하지 않은 입력은 없다고 가정 \n",
    "4. string method를 사용하지 말 것! (ex. replace, find, index 등) \n",
    "\n",
    "예시1)  \n",
    "```py\n",
    ">>> P2(\"one23four\") \n",
    "1234 \n",
    "```\n",
    "\n",
    "예시2)  \n",
    "```py\n",
    ">>> P2(\"9eight7six5\")\n",
    "98765\n",
    "```\n",
    "\n",
    "예시3)  \n",
    "```py\n",
    ">>> P2(\"nineeight76five\") \n",
    "98765\n",
    "```\n",
    "\n",
    "예시4) \n",
    "```py\n",
    ">>> P2(\"456\") \n",
    "456 \n",
    "```"
   ]
  },
  {
   "cell_type": "code",
   "execution_count": 7,
   "id": "e75cd545",
   "metadata": {},
   "outputs": [],
   "source": [
    "def P2(s:str):\n",
    "    convert = {\n",
    "        \"zero\": '0', \"one\": '1', \"two\": '2', \"three\": '3', \"four\": '4', \"five\": '5', \n",
    "        \"six\": '6', \"seven\": '7', \"eight\": '8', \"nine\": '9', \"ten\": '10'\n",
    "    }\n",
    "    num_ascii = [i for i in range(ord('0'), ord('9')+1)]\n",
    "    char_ascii = [i for i in range(ord('a'), ord('z')+1)]\n",
    "    \n",
    "    ans = \"\"\n",
    "    key = \"\"\n",
    "    for c in s:\n",
    "        if ord(c) in num_ascii:\n",
    "            ans += c\n",
    "        elif ord(c) in char_ascii:\n",
    "            key += c\n",
    "            if key in convert.keys():\n",
    "                ans += convert[key]\n",
    "                key = \"\"\n",
    "    return int(ans)"
   ]
  },
  {
   "cell_type": "code",
   "execution_count": 8,
   "id": "cb4c06af",
   "metadata": {},
   "outputs": [
    {
     "data": {
      "text/plain": [
       "1234"
      ]
     },
     "execution_count": 8,
     "metadata": {},
     "output_type": "execute_result"
    }
   ],
   "source": [
    "P2(\"one23four\")"
   ]
  },
  {
   "cell_type": "code",
   "execution_count": 9,
   "id": "2a4a1ccf",
   "metadata": {},
   "outputs": [
    {
     "data": {
      "text/plain": [
       "98765"
      ]
     },
     "execution_count": 9,
     "metadata": {},
     "output_type": "execute_result"
    }
   ],
   "source": [
    "P2(\"9eight7six5\")"
   ]
  },
  {
   "cell_type": "code",
   "execution_count": 10,
   "id": "92d81ce6",
   "metadata": {},
   "outputs": [
    {
     "data": {
      "text/plain": [
       "98765"
      ]
     },
     "execution_count": 10,
     "metadata": {},
     "output_type": "execute_result"
    }
   ],
   "source": [
    "P2(\"nineeight76five\")"
   ]
  },
  {
   "cell_type": "code",
   "execution_count": 11,
   "id": "460c6d7e",
   "metadata": {},
   "outputs": [
    {
     "data": {
      "text/plain": [
       "456"
      ]
     },
     "execution_count": 11,
     "metadata": {},
     "output_type": "execute_result"
    }
   ],
   "source": [
    "P2(\"456\")"
   ]
  },
  {
   "cell_type": "markdown",
   "id": "4400c67f",
   "metadata": {},
   "source": [
    "# P3\n",
    "\n",
    "대한민국의 주민등록번호 13자리 중 앞 7자리는 다음 규칙에 의해 생성된다. \n",
    "\n",
    "앞의 6자리는 생년월일을 가리키고, 7번째 자리는 태어난 년도와 성별에 따라 나뉜다. \n",
    "\n",
    "1900년대 태생 남성은 1, 여성은 2, 2000년대 남성은 3, 여성은 4, 1800년대 남성은 9,  여성은 0을 부여한다. \n",
    "\n",
    "예를 들어 1956년 2월 14일 생 남성은 ‘5602141’로 표현된다. \n",
    "\n",
    "이와 같이 성별, 생년월일이 리스트로 주어졌을 때 주민등록번호 앞 7자리를 알맞게 형성하여 return하는 함수 `P3`를 완성하라. \n",
    "\n",
    "<조건> \n",
    "1. input parameter는 항상 `[str sex, int birth_year, int birth_month, int birth_day]` 꼴이라고 가정 \n",
    "2. 성별은 `‘MALE’` 혹은 `‘FEMALE’` 중 하나로 표현됨 \n",
    "3. input으로 타당하지 않은 날짜가 들어가지 않음 (ex. 2000-02-30 or 1999-13-12) \n",
    "4. return 타입은 string(문자열) \n",
    "\n",
    "예시1)\n",
    "```py\n",
    ">>> P3(['MALE', 1956, 2, 14]) \n",
    "‘5602141’ \n",
    "```\n",
    "\n",
    "예시2)  \n",
    "```py\n",
    ">>> P3(['MALE', 1996, 10, 30]) \n",
    "‘9610301’ \n",
    "```\n",
    "\n",
    "예시3) \n",
    "```py\n",
    ">>> P3(['FEMALE', 2000, 1, 2]) \n",
    "‘0001024’ \n",
    "```\n",
    "\n",
    "예시4) \n",
    "```py\n",
    ">>> P3(['FEMALE', 1899, 3, 28]) \n",
    "‘9903280’\n",
    "```"
   ]
  },
  {
   "cell_type": "code",
   "execution_count": 12,
   "id": "f52b5958",
   "metadata": {},
   "outputs": [],
   "source": [
    "def P3(info:list):\n",
    "    def tostr(num:int):\n",
    "        if num >= 10:\n",
    "            return str(num)\n",
    "        return '0'+str(num)\n",
    "    \n",
    "    last_digit = {\n",
    "        (18, 'MALE'): 9, (18, \"FEMALE\"): 0, (19, 'MALE'): 1, \n",
    "        (19, 'FEMALE'): 2, (20, 'MALE'): 3, (20, 'FEMALE'): 4\n",
    "    }\n",
    "    \n",
    "    gender, year, month, day = info\n",
    "    year_front, year_rear = year // 100, year % 100\n",
    "    \n",
    "    return tostr(year_rear) + tostr(month) + tostr(day) + str(last_digit[(year_front, gender)])"
   ]
  },
  {
   "cell_type": "code",
   "execution_count": 13,
   "id": "aa44c9e6",
   "metadata": {},
   "outputs": [
    {
     "data": {
      "text/plain": [
       "'5602141'"
      ]
     },
     "execution_count": 13,
     "metadata": {},
     "output_type": "execute_result"
    }
   ],
   "source": [
    "P3(['MALE', 1956, 2, 14])"
   ]
  },
  {
   "cell_type": "code",
   "execution_count": 14,
   "id": "e9185152",
   "metadata": {},
   "outputs": [
    {
     "data": {
      "text/plain": [
       "'9610301'"
      ]
     },
     "execution_count": 14,
     "metadata": {},
     "output_type": "execute_result"
    }
   ],
   "source": [
    "P3(['MALE', 1996, 10, 30])"
   ]
  },
  {
   "cell_type": "code",
   "execution_count": 15,
   "id": "001583a8",
   "metadata": {},
   "outputs": [
    {
     "data": {
      "text/plain": [
       "'0001024'"
      ]
     },
     "execution_count": 15,
     "metadata": {},
     "output_type": "execute_result"
    }
   ],
   "source": [
    "P3(['FEMALE', 2000, 1, 2])"
   ]
  },
  {
   "cell_type": "code",
   "execution_count": 16,
   "id": "e987b21c",
   "metadata": {},
   "outputs": [
    {
     "data": {
      "text/plain": [
       "'9903280'"
      ]
     },
     "execution_count": 16,
     "metadata": {},
     "output_type": "execute_result"
    }
   ],
   "source": [
    "P3(['FEMALE', 1899, 3, 28])"
   ]
  },
  {
   "cell_type": "markdown",
   "id": "2d608ede",
   "metadata": {},
   "source": [
    "# P4\n",
    "\n",
    "정렬되어 있는 2차원 List가 주어졌을 때 찾고자 하는 목표 숫자가 List안에 있으면 좌표를 Tuple 형태로 반환하고, 없으면 (-1, -1)을 반환하는 함수 `P4`를 작성하여라. \n",
    "\n",
    "* 2차원 List의 각 원소는 정수로 주어진다. \n",
    "* 2차원 List의 각 행은 왼쪽부터 오른쪽으로 정렬되어 있다. \n",
    "* 각 행의 첫번째 원소는 그 이전행의 마지막 원소보다 크다. \n",
    "* 입력으로 주어지는 2차원 List 안에 중복되는 값은 없다. \n",
    "* 2차원 List의 행, 열의 수는 100을 넘지 않는다. \n",
    "* 2차원 List의 모든 행은 같은 수의 원소를 갖는다. \n",
    "* 구현에 따라 작동 시간에 많은 차이가 발생할 수 있습니다. 최대한 효율적인 방식으로 문제를 해결해 보세요. \n",
    "\n",
    "예시1)  \n",
    "$$\n",
    "\\begin{matrix}\n",
    "1&3&5&7\\\\\n",
    "10&11&16&20\\\\\n",
    "23&30&34&60\n",
    "\\end{matrix}\n",
    "$$\n",
    "\n",
    "```py\n",
    ">>> matrix = [[1,3,5,7],[10,11,16,20],[23,30,34,60]] \n",
    ">>> target = 3 \n",
    ">>> P4(matrix, target) \n",
    "(0,1)\n",
    "```\n",
    "\n",
    "예시2)\n",
    "$$\n",
    "\\begin{matrix}\n",
    "1& \n",
    "3 &\n",
    "5 &\n",
    "7\\\\\n",
    "10& \n",
    "11 &\n",
    "16 &\n",
    "20\\\\\n",
    "23 &\n",
    "30 &\n",
    "34 &\n",
    "60\n",
    "\\end{matrix}\n",
    "$$\n",
    "```py\n",
    ">>> matrix = [[1,3,5,7],[10,11,16,20],[23,30,34,60]] \n",
    ">>> target = 65 \n",
    ">>> P4(matrix, target) \n",
    "(-1,-1)\n",
    "```\n",
    "\n",
    "예시3)\n",
    "$$\n",
    "\\begin{matrix}\n",
    "10 &\n",
    "15 &\n",
    "16 &\n",
    "20 &\n",
    "22\\\\\n",
    "26 &\n",
    "29 &\n",
    "35 &\n",
    "36 &\n",
    "37\\\\\n",
    "40 &\n",
    "80 &\n",
    "100 &\n",
    "106 &\n",
    "133\n",
    "\\end{matrix}\n",
    "$$\n",
    "```py\n",
    ">>> matrix = [[10,15,16,20,22],[26,29,35,36,37],[40,80,100,106,133]] \n",
    ">>> target = 40 \n",
    ">>> P4(matrix, target) \n",
    "(2,0)\n",
    "```"
   ]
  },
  {
   "cell_type": "code",
   "execution_count": 17,
   "id": "6efce5bc",
   "metadata": {},
   "outputs": [],
   "source": [
    "def P4(matrix:List[List], target:int):\n",
    "    x, y = -1, -1\n",
    "    for i, row in enumerate(matrix):\n",
    "        if target in row:\n",
    "            x = i\n",
    "            y = row.index(target)\n",
    "    return (x, y)"
   ]
  },
  {
   "cell_type": "code",
   "execution_count": 18,
   "id": "05d2cbc7",
   "metadata": {},
   "outputs": [
    {
     "name": "stdout",
     "output_type": "stream",
     "text": [
      "CPU times: user 15 µs, sys: 0 ns, total: 15 µs\n",
      "Wall time: 18.1 µs\n"
     ]
    },
    {
     "data": {
      "text/plain": [
       "(0, 1)"
      ]
     },
     "execution_count": 18,
     "metadata": {},
     "output_type": "execute_result"
    }
   ],
   "source": [
    "%%time\n",
    ">>> matrix = [[1,3,5,7],[10,11,16,20],[23,30,34,60]] \n",
    ">>> target = 3 \n",
    ">>> P4(matrix, target)"
   ]
  },
  {
   "cell_type": "code",
   "execution_count": 19,
   "id": "0e385b7e",
   "metadata": {},
   "outputs": [
    {
     "name": "stdout",
     "output_type": "stream",
     "text": [
      "CPU times: user 18 µs, sys: 0 ns, total: 18 µs\n",
      "Wall time: 21 µs\n"
     ]
    },
    {
     "data": {
      "text/plain": [
       "(-1, -1)"
      ]
     },
     "execution_count": 19,
     "metadata": {},
     "output_type": "execute_result"
    }
   ],
   "source": [
    "%%time\n",
    ">>> matrix = [[1,3,5,7],[10,11,16,20],[23,30,34,60]] \n",
    ">>> target = 65 \n",
    ">>> P4(matrix, target) "
   ]
  },
  {
   "cell_type": "code",
   "execution_count": 20,
   "id": "70e62233",
   "metadata": {},
   "outputs": [
    {
     "name": "stdout",
     "output_type": "stream",
     "text": [
      "CPU times: user 16 µs, sys: 0 ns, total: 16 µs\n",
      "Wall time: 18.1 µs\n"
     ]
    },
    {
     "data": {
      "text/plain": [
       "(2, 0)"
      ]
     },
     "execution_count": 20,
     "metadata": {},
     "output_type": "execute_result"
    }
   ],
   "source": [
    "%%time\n",
    ">>> matrix = [[10,15,16,20,22],[26,29,35,36,37],[40,80,100,106,133]] \n",
    ">>> target = 40 \n",
    ">>> P4(matrix, target)"
   ]
  },
  {
   "cell_type": "code",
   "execution_count": 21,
   "id": "185f5795",
   "metadata": {},
   "outputs": [
    {
     "name": "stdout",
     "output_type": "stream",
     "text": [
      "CPU times: user 5 µs, sys: 0 ns, total: 5 µs\n",
      "Wall time: 6.91 µs\n"
     ]
    },
    {
     "data": {
      "text/plain": [
       "(-1, -1)"
      ]
     },
     "execution_count": 21,
     "metadata": {},
     "output_type": "execute_result"
    }
   ],
   "source": [
    "%%time\n",
    "P4(matrix, 45)"
   ]
  },
  {
   "cell_type": "code",
   "execution_count": 22,
   "id": "f8e6f4ce",
   "metadata": {},
   "outputs": [],
   "source": [
    "def P4(matrix:List[List], target:int):\n",
    "    x, y = -1, -1\n",
    "    for i, row in enumerate(matrix):\n",
    "        if row[0] <= target <= row[-1]:\n",
    "            x = i\n",
    "            try:\n",
    "                y = row.index(target)\n",
    "            except:\n",
    "                x, y = -1, -1\n",
    "    return (x, y)"
   ]
  },
  {
   "cell_type": "code",
   "execution_count": 23,
   "id": "5f31e36e",
   "metadata": {},
   "outputs": [
    {
     "name": "stdout",
     "output_type": "stream",
     "text": [
      "CPU times: user 16 µs, sys: 0 ns, total: 16 µs\n",
      "Wall time: 16.9 µs\n"
     ]
    },
    {
     "data": {
      "text/plain": [
       "(0, 1)"
      ]
     },
     "execution_count": 23,
     "metadata": {},
     "output_type": "execute_result"
    }
   ],
   "source": [
    "%%time\n",
    ">>> matrix = [[1,3,5,7],[10,11,16,20],[23,30,34,60]] \n",
    ">>> target = 3 \n",
    ">>> P4(matrix, target)"
   ]
  },
  {
   "cell_type": "code",
   "execution_count": 24,
   "id": "edc78fbf",
   "metadata": {},
   "outputs": [
    {
     "name": "stdout",
     "output_type": "stream",
     "text": [
      "CPU times: user 16 µs, sys: 1 µs, total: 17 µs\n",
      "Wall time: 17.2 µs\n"
     ]
    },
    {
     "data": {
      "text/plain": [
       "(-1, -1)"
      ]
     },
     "execution_count": 24,
     "metadata": {},
     "output_type": "execute_result"
    }
   ],
   "source": [
    "%%time\n",
    ">>> matrix = [[1,3,5,7],[10,11,16,20],[23,30,34,60]] \n",
    ">>> target = 65 \n",
    ">>> P4(matrix, target) "
   ]
  },
  {
   "cell_type": "code",
   "execution_count": 25,
   "id": "84c8b96e",
   "metadata": {},
   "outputs": [
    {
     "name": "stdout",
     "output_type": "stream",
     "text": [
      "CPU times: user 16 µs, sys: 0 ns, total: 16 µs\n",
      "Wall time: 18.1 µs\n"
     ]
    },
    {
     "data": {
      "text/plain": [
       "(2, 0)"
      ]
     },
     "execution_count": 25,
     "metadata": {},
     "output_type": "execute_result"
    }
   ],
   "source": [
    "%%time\n",
    ">>> matrix = [[10,15,16,20,22],[26,29,35,36,37],[40,80,100,106,133]] \n",
    ">>> target = 40 \n",
    ">>> P4(matrix, target)"
   ]
  },
  {
   "cell_type": "code",
   "execution_count": 26,
   "id": "e7e1487c",
   "metadata": {},
   "outputs": [
    {
     "name": "stdout",
     "output_type": "stream",
     "text": [
      "CPU times: user 4 µs, sys: 0 ns, total: 4 µs\n",
      "Wall time: 5.96 µs\n"
     ]
    },
    {
     "data": {
      "text/plain": [
       "(-1, -1)"
      ]
     },
     "execution_count": 26,
     "metadata": {},
     "output_type": "execute_result"
    }
   ],
   "source": [
    "%%time\n",
    "P4(matrix, 45)"
   ]
  },
  {
   "cell_type": "code",
   "execution_count": null,
   "id": "85337730",
   "metadata": {},
   "outputs": [],
   "source": []
  }
 ],
 "metadata": {
  "kernelspec": {
   "display_name": "Python 3 (ipykernel)",
   "language": "python",
   "name": "python3"
  },
  "language_info": {
   "codemirror_mode": {
    "name": "ipython",
    "version": 3
   },
   "file_extension": ".py",
   "mimetype": "text/x-python",
   "name": "python",
   "nbconvert_exporter": "python",
   "pygments_lexer": "ipython3",
   "version": "3.10.12"
  }
 },
 "nbformat": 4,
 "nbformat_minor": 5
}
