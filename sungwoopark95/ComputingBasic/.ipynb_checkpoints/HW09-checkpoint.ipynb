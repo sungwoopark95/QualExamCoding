{
 "cells": [
  {
   "cell_type": "code",
   "execution_count": 1,
   "id": "900979b6",
   "metadata": {},
   "outputs": [],
   "source": [
    "from typing import List, Dict, Set, Tuple"
   ]
  },
  {
   "cell_type": "markdown",
   "id": "83bca499",
   "metadata": {},
   "source": [
    "# P1\n",
    "\n",
    "'(', ')', '{', '}', '[', ']'으로 구성된 String을 `Input`으로 받고, 이 String이 아래 규칙에 의해 유효한지를 판단하여 `True`/`False`를 return하는 함수를 작성하여라.\n",
    "\n",
    "1) 괄호가 열렸다면 같은 타입의 괄호에 의해 닫혀야 한다. \n",
    "2) 적절한 순서로 괄호가 배열되어야 한다. 안쪽에서 열린 괄호가 먼저 닫히고, 바깥쪽 괄호가 닫혀야 한다. \n",
    "\n",
    "예시1)\n",
    "```py\n",
    ">>> P1('()')  \n",
    "True\n",
    "```\n",
    "\n",
    "예시2)\n",
    "```py\n",
    ">>> P1('()[]{}')  \n",
    "True\n",
    "```\n",
    "\n",
    "예시3)\n",
    "```py\n",
    ">>> P1('([)]')  \n",
    "False \n",
    "설명: 안쪽에서 열린 '['가 닫히기 전에 '('가 먼저 닫혔으므로 유효하지 않다.\n",
    "```"
   ]
  },
  {
   "cell_type": "code",
   "execution_count": 2,
   "id": "b63d88f8",
   "metadata": {},
   "outputs": [],
   "source": [
    "# Stack을 활용하는 대표적인 문제\n",
    "# array 기반의 stack\n",
    "class Stack:\n",
    "    def __init__(self):\n",
    "        self.size = 0\n",
    "        self.stack = []\n",
    "    \n",
    "    def size(self):\n",
    "        return self.size\n",
    "    \n",
    "    def isEmpty(self):\n",
    "        return self.size == 0\n",
    "    \n",
    "    def push(self, item):\n",
    "        self.stack.append(item)\n",
    "        self.size += 1\n",
    "    \n",
    "    def pop(self):\n",
    "        if self.isEmpty():\n",
    "            return None\n",
    "        item = self.stack.pop(-1)\n",
    "        self.size -= 1\n",
    "        return item\n",
    "    \n",
    "    def top(self):\n",
    "        if self.isEmpty():\n",
    "            return None\n",
    "        return self.stack[-1]"
   ]
  },
  {
   "cell_type": "code",
   "execution_count": 3,
   "id": "3787256d",
   "metadata": {},
   "outputs": [],
   "source": [
    "class Node:\n",
    "    def __init__(self, data):\n",
    "        self.data = data\n",
    "        self.next = None\n",
    "\n",
    "class Stack:\n",
    "    def __init__(self):\n",
    "        self.size = 0\n",
    "        self.top_node = None  # 스택의 최상단 노드를 가리킴\n",
    "    \n",
    "    def size(self):\n",
    "        return self.size\n",
    "    \n",
    "    def isEmpty(self):\n",
    "        return self.size == 0\n",
    "    \n",
    "    def push(self, item):\n",
    "        new_node = Node(item)\n",
    "        # 새로운 노드를 스택의 최상단에 추가\n",
    "        new_node.next = self.top_node\n",
    "        self.top_node = new_node\n",
    "        self.size += 1\n",
    "    \n",
    "    def pop(self):\n",
    "        if self.isEmpty():\n",
    "            return None\n",
    "        # 스택의 최상단 노드를 제거하고 반환\n",
    "        item = self.top_node.data\n",
    "        self.top_node = self.top_node.next\n",
    "        self.size -= 1\n",
    "        return item\n",
    "    \n",
    "    def top(self):\n",
    "        if self.isEmpty():\n",
    "            return None\n",
    "        return self.top_node.data"
   ]
  },
  {
   "cell_type": "code",
   "execution_count": 4,
   "id": "2b3f0e8a",
   "metadata": {},
   "outputs": [],
   "source": [
    "## ({[]})는 True <- 즉, 여는 괄호를 stack에 넣고 닿는 괄호가 나왔을 때 서로 짝이 맞는지를 살펴보면 됨\n",
    "def P1(parantheses:str):\n",
    "    pair = {')': '(', '}': '{', ']': '['}\n",
    "    s = Stack()\n",
    "    for char in parantheses:\n",
    "        if char in ['(', '{', '[']:\n",
    "            s.push(char)\n",
    "        else:\n",
    "            if pair[char] != s.pop():\n",
    "                return False\n",
    "    return True"
   ]
  },
  {
   "cell_type": "code",
   "execution_count": 5,
   "id": "7bc0637d",
   "metadata": {},
   "outputs": [
    {
     "data": {
      "text/plain": [
       "True"
      ]
     },
     "execution_count": 5,
     "metadata": {},
     "output_type": "execute_result"
    }
   ],
   "source": [
    "P1('()')"
   ]
  },
  {
   "cell_type": "code",
   "execution_count": 6,
   "id": "988b6595",
   "metadata": {},
   "outputs": [
    {
     "data": {
      "text/plain": [
       "True"
      ]
     },
     "execution_count": 6,
     "metadata": {},
     "output_type": "execute_result"
    }
   ],
   "source": [
    "P1('()[]{}')"
   ]
  },
  {
   "cell_type": "code",
   "execution_count": 7,
   "id": "85fd4b19",
   "metadata": {},
   "outputs": [
    {
     "data": {
      "text/plain": [
       "False"
      ]
     },
     "execution_count": 7,
     "metadata": {},
     "output_type": "execute_result"
    }
   ],
   "source": [
    "P1('([)]')"
   ]
  },
  {
   "cell_type": "code",
   "execution_count": 8,
   "id": "d480f0f4",
   "metadata": {},
   "outputs": [
    {
     "data": {
      "text/plain": [
       "True"
      ]
     },
     "execution_count": 8,
     "metadata": {},
     "output_type": "execute_result"
    }
   ],
   "source": [
    "P1('({[]})')"
   ]
  },
  {
   "cell_type": "markdown",
   "id": "c807873c",
   "metadata": {},
   "source": [
    "# P2\n",
    "\n",
    "예지는 HS컴퓨팅이라는 주식에 단기투자를 통하여 수익을 내려고 한다. 아래 표는 HS컴퓨팅의 날짜 별 주가이다. 예지는 수익을 내기 위하여 걸리는 최소 며칠을 기다려야 하는지, 즉 최소 일수를 알고싶어 한다.\n",
    "\n",
    "| 날짜 | 주가 | 일수 |\n",
    "|:---:|:---:|:---:|\n",
    "|10/7 | 500|1|\n",
    "|10/8 | 600|1|\n",
    "|10/9 | 700|4|\n",
    "|10/10 | 300|2|\n",
    "|10/11 | 100|1|\n",
    "|10/12 | 400|1|\n",
    "|10/13 | 800|0|\n",
    "|10/14 | 500|0|\n",
    "\n",
    "위의 표를 보면 \n",
    "\n",
    "1) 예지가 10/7에 주식을 산다면 1일 뒤인 10/8에 팔면 이득을 본다. \n",
    "2) 예지가 10/9에 주식을 산다면 4일 뒤인 10/13에 팔면 이득을 본다. \n",
    "3) 이득을 볼 수 없다면 0으로 작성하면 된다. \n",
    "\n",
    "위 설명을 참고하여 `Input`으로 일별 주가(`list`)를 받고, 이득을 보기 위해 기다려야 하는 최소 일수(`list`)를 return하는 함수를 작성하여라.  \n",
    "※ Hint: Stack 구조를 활용하여 구현할 수 있다.\n",
    "\n",
    "예시)\n",
    "```py\n",
    ">>> P2([500, 600, 700, 300, 100, 400, 800, 500])  \n",
    "[1, 1, 4, 2, 1, 1, 0, 0] \n",
    "```"
   ]
  },
  {
   "cell_type": "code",
   "execution_count": 9,
   "id": "126fcb07",
   "metadata": {},
   "outputs": [],
   "source": [
    "def P2(stock_price:List[int]):\n",
    "    s = Stack()\n",
    "    ans = [0 for _ in range(len(stock_price))]\n",
    "    # 첫날의 index를 push\n",
    "    s.push(0)\n",
    "    for i in range(1, len(stock_price)):\n",
    "        # 현재 가격보다 싼 날을 모두 꺼낸 다음, 현재 날짜와의 차이를 비교하여 일수를 구함\n",
    "        while not s.isEmpty() and stock_price[s.top()] < stock_price[i]:\n",
    "            idx = s.pop()\n",
    "            ans[idx] = i - idx\n",
    "        # while을 빠져나왔을 때, stack에는 현재 날짜의 가격보다 비싼 날의 날짜만 남아있거나 혹은 비어있음\n",
    "        s.push(i) # 현재 날짜를 다시 push\n",
    "    return ans"
   ]
  },
  {
   "cell_type": "code",
   "execution_count": 10,
   "id": "7946c39d",
   "metadata": {},
   "outputs": [
    {
     "data": {
      "text/plain": [
       "[1, 1, 4, 2, 1, 1, 0, 0]"
      ]
     },
     "execution_count": 10,
     "metadata": {},
     "output_type": "execute_result"
    }
   ],
   "source": [
    "P2([500, 600, 700, 300, 100, 400, 800, 500])"
   ]
  },
  {
   "cell_type": "code",
   "execution_count": 11,
   "id": "bfdddd81",
   "metadata": {},
   "outputs": [
    {
     "data": {
      "text/plain": [
       "[1, 1, 0, 1, 0]"
      ]
     },
     "execution_count": 11,
     "metadata": {},
     "output_type": "execute_result"
    }
   ],
   "source": [
    "P2([1, 2, 3, 2, 3])"
   ]
  },
  {
   "cell_type": "code",
   "execution_count": 12,
   "id": "31bf9bf4",
   "metadata": {},
   "outputs": [
    {
     "name": "stdout",
     "output_type": "stream",
     "text": [
      "[1, 1, 1, 1, 0]\n",
      "[0, 0, 0, 0, 0]\n",
      "[1, 2, 1, 1, 0, 0]\n",
      "[1, 2, 1, 1, 2, 1, 1, 0]\n",
      "[0, 0, 0, 0, 0]\n"
     ]
    }
   ],
   "source": [
    "print(P2([100, 200, 300, 400, 500]))  # [1, 1, 1, 1, 0]\n",
    "print(P2([500, 400, 300, 200, 100]))  # [0, 0, 0, 0, 0]\n",
    "print(P2([100, 300, 200, 400, 500, 300]))  # [1, 2, 1, 1, 0, 0]\n",
    "print(P2([100, 200, 150, 250, 300, 200, 350, 400]))  # [1, 2, 1, 1, 2, 1, 1, 0]\n",
    "print(P2([300, 300, 300, 300, 300]))  # [0, 0, 0, 0, 0]"
   ]
  },
  {
   "cell_type": "markdown",
   "id": "42ef187e",
   "metadata": {},
   "source": [
    "# P3\n",
    "\n",
    "주어진 Singly linked list를 뒤집는 함수를 작성하여라. 함수의 Input은 Singly linked list의 첫번째 Node이며, Return값은 순서가 뒤집힌 Singly linked list의 첫번째 Node이다.  \n",
    "\n",
    "* Linked list의 각 Node는 `linked_list_helper.py` 파일에 정의되어 있는 `ListNode`를 활용하면 된다.  \n",
    "* `linked_list_helper.py` 파일의 `create_linked_list` 함수와 `print_linked_list` 함수를 활용하여 아래와 같이 함수의 동작을 확인할 수 있다.  \n",
    "* Space complexity는 `O(1)`이어야 합니다. \n",
    "\n",
    "예시) 새로운 `LinkedList` 생성, `list`객체 생성 등 추가 선언은 모두 0점 처리 \n",
    "\n",
    "예시1) \n",
    "```py\n",
    ">>> l1 = create_linked_list([4,2,1,3]) \n",
    ">>> print_linked_list(P3(l1),[]) \n",
    "[3,1,2,4] \n",
    "```\n",
    "\n",
    "예시2)  \n",
    "```py\n",
    ">>> l2 = create_linked_list([-1,5,0,2,3]) \n",
    ">>> print_linked_list(P3(l2),[]) \n",
    "[3,2,0,5,-1] \n",
    "```\n",
    "\n",
    "예시3)  \n",
    "```py\n",
    ">>> l3 = create_linked_list([]) \n",
    ">>> print_linked_list(P3(l3),[]) \n",
    "[] \n",
    "```"
   ]
  },
  {
   "cell_type": "code",
   "execution_count": 13,
   "id": "d6c01e23",
   "metadata": {},
   "outputs": [],
   "source": [
    "# Helper functions: DO NOT MODIFY!!\n",
    "\n",
    "# Definition for Node of singly linked list.\n",
    "class ListNode:\n",
    "    def __init__(self, val=0, next=None):\n",
    "        self.val = val\n",
    "        self.next = next\n",
    "\n",
    "# Create a linked list from a list, then return head node\n",
    "def create_linked_list(l: list) -> ListNode:\n",
    "    if len(l) == 0:\n",
    "        return None\n",
    "    \n",
    "    start = ListNode(l[0])\n",
    "    node = start\n",
    "    \n",
    "    for i in range(1, len(l)):\n",
    "        node_new = ListNode(l[i])\n",
    "        node.next = node_new\n",
    "        node = node_new\n",
    "    \n",
    "    return start\n",
    "\n",
    "# Print all values in the linked list\n",
    "def print_linked_list(n: ListNode, l: list) -> None:\n",
    "    if n is not None:\n",
    "        l.append(n.val)\n",
    "        print_linked_list(n.next, l)\n",
    "    else:\n",
    "        print(l)"
   ]
  },
  {
   "cell_type": "code",
   "execution_count": 14,
   "id": "4232b107",
   "metadata": {},
   "outputs": [],
   "source": [
    "def P3(head:ListNode):\n",
    "    # edge case\n",
    "    if head is None:\n",
    "        return None\n",
    "    \n",
    "    # reverse the linked list\n",
    "    prev = head\n",
    "    curr = head.next\n",
    "    head.next = None\n",
    "    while curr:\n",
    "        next = curr.next\n",
    "        curr.next = prev\n",
    "        prev = curr\n",
    "        curr = next\n",
    "    return prev # required!"
   ]
  },
  {
   "cell_type": "code",
   "execution_count": 15,
   "id": "b8db0906",
   "metadata": {},
   "outputs": [
    {
     "name": "stdout",
     "output_type": "stream",
     "text": [
      "[3, 1, 2, 4]\n"
     ]
    }
   ],
   "source": [
    "l1 = create_linked_list([4,2,1,3])\n",
    "print_linked_list(P3(l1),[])"
   ]
  },
  {
   "cell_type": "code",
   "execution_count": 16,
   "id": "2f0fe6a0",
   "metadata": {},
   "outputs": [
    {
     "name": "stdout",
     "output_type": "stream",
     "text": [
      "[3, 2, 0, 5, -1]\n"
     ]
    }
   ],
   "source": [
    "l2 = create_linked_list([-1,5,0,2,3])\n",
    "print_linked_list(P3(l2),[])"
   ]
  },
  {
   "cell_type": "code",
   "execution_count": 17,
   "id": "134aa87a",
   "metadata": {},
   "outputs": [
    {
     "name": "stdout",
     "output_type": "stream",
     "text": [
      "[]\n"
     ]
    }
   ],
   "source": [
    "l3 = create_linked_list([])\n",
    "print_linked_list(P3(l3),[])"
   ]
  },
  {
   "cell_type": "markdown",
   "id": "ee633e58",
   "metadata": {},
   "source": [
    "# P4\n",
    "\n",
    "0 이상의 십진수 정수를 나타내는 Linked list 두 개가 주어질 때, 두 숫자의 합을 나타내는 Linked list를 만드는 함수를 작성하여라. Input으로는 각 Linked list의 첫번째 Node가 주어지며, Return값 역시 Linked list의 첫번째 Node이다.\n",
    "\n",
    "예를 들어, 15와 30을 나타내는 Linked list, 즉 (1)->(5), (3)->(0)이 주어진다면, 두 숫자의 합인 45를 나타내는 Linked list (4)->(5)를 만들어 해당 Linked list의 첫번째 Node (head)를 반환하여야 한다.  \n",
    "\n",
    "* Linked list 형태를 유지하며 계산할 것 (주어진 Linked list를 list로 변환하여 각 원소를 더하고, 이를 다시 Linked list로 만드는 등의 풀이는 허용하지 않음) \n",
    "* Linked list의 각 Node는 `linked_list_helper.py` 파일에 정의되어 있는 `ListNode`를 활용하면 된다.  \n",
    "* `linked_list_helper.py` 파일의 `create_linked_list` 함수와 `print_linked_list` 함수를 활용하여 아래와 같이 함수의 동작을 확인할 수 있다.  \n",
    "\n",
    "예시1)\n",
    "```py\n",
    ">>> l1 = create_linked_list([1,1,1]) \n",
    ">>> l2 = create_linked_list([1,1,1]) \n",
    ">>> print_linked_list(P4(l1, l2),[]) \n",
    "[2,2,2]\n",
    "```\n",
    "\n",
    "예시2)\n",
    "```py\n",
    ">>> l1 = create_linked_list([0]) \n",
    ">>> l2 = create_linked_list([0]) \n",
    ">>> print_linked_list(P4(l1, l2),[]) \n",
    "[0] \n",
    "```\n",
    "\n",
    "예시3)  \n",
    "```py\n",
    ">>> l1 = create_linked_list([0]) \n",
    ">>> l2 = create_linked_list([1])\n",
    ">>> print_linked_list(P4(l1, l2),[]) \n",
    "[1] \n",
    "```\n",
    "\n",
    "예시4)  \n",
    "```py\n",
    ">>> l1 = create_linked_list([5,5,5]) \n",
    ">>> l2 = create_linked_list([5,5,5]) \n",
    ">>> print_linked_list(P4(l1, l2),[]) \n",
    "[1,1,1,0] \n",
    "```\n",
    "예시5)\n",
    "```py\n",
    ">>> l1 = create_linked_list([5,5,5]) \n",
    ">>> l2 = create_linked_list([5,5]) \n",
    ">>> print_linked_list(P4(l1, l2),[]) \n",
    "[6,1,0]\n",
    "```"
   ]
  },
  {
   "cell_type": "code",
   "execution_count": 18,
   "id": "47218775",
   "metadata": {},
   "outputs": [],
   "source": [
    "def P4(num1: ListNode, num2: ListNode):\n",
    "    # Linked List를 뒤집는 도우미 함수\n",
    "    def reverse_linked_list(head: ListNode):\n",
    "        # Linked List가 비어있는 경우, None을 반환\n",
    "        if head is None:\n",
    "            return None\n",
    "\n",
    "        # Linked List를 뒤집기 위한 초기 설정\n",
    "        prev = head\n",
    "        curr = head.next\n",
    "        head.next = None\n",
    "        # Linked List를 순회하며 노드의 연결을 뒤집음\n",
    "        while curr:\n",
    "            next = curr.next  # 다음 노드 저장\n",
    "            curr.next = prev  # 현재 노드의 연결을 뒤집음\n",
    "            prev = curr       # prev를 현재 노드로 이동\n",
    "            curr = next       # curr를 다음 노드로 이동\n",
    "        return prev  # 뒤집힌 Linked List의 헤드 반환\n",
    "    \n",
    "    # 합계를 저장할 변수 초기화\n",
    "    ans = 0\n",
    "    # 두 Linked List를 뒤집음\n",
    "    reverse_num1 = reverse_linked_list(num1)\n",
    "    reverse_num2 = reverse_linked_list(num2)\n",
    "    \n",
    "    # 10의 거듭제곱 값을 나타내는 변수 초기화\n",
    "    digit_power = 0\n",
    "    curr1, curr2 = reverse_num1, reverse_num2\n",
    "    # 두 Linked List를 순회하며 합계 계산\n",
    "    while curr1 or curr2:\n",
    "        # 한 Linked List가 더 짧으면 그 값은 0으로 간주\n",
    "        if not curr2:\n",
    "            curr2 = ListNode(0)\n",
    "        elif not curr1:\n",
    "            curr1 = ListNode(0)\n",
    "        # 현재 노드의 값과 10의 거듭제곱을 곱하여 합계에 더함\n",
    "        ans += (curr1.val + curr2.val) * (10 ** digit_power)\n",
    "        curr1 = curr1.next\n",
    "        curr2 = curr2.next\n",
    "        digit_power += 1  # 10의 거듭제곱 값을 증가\n",
    "    \n",
    "    # 합계를 Linked List로 변환\n",
    "    head = ListNode()\n",
    "    curr = head\n",
    "    while ans:\n",
    "        curr.val = ans % 10  # 가장 낮은 자릿수 추출\n",
    "        # 더 남은 자릿수가 있으면 새 노드 생성\n",
    "        if ans >= 10:\n",
    "            curr.next = ListNode()\n",
    "        else:\n",
    "            curr.next = None\n",
    "        curr = curr.next\n",
    "        ans = ans // 10  # 가장 낮은 자릿수 제거\n",
    "    \n",
    "    # 올바른 순서로 된 Linked List로 반환\n",
    "    return reverse_linked_list(head)"
   ]
  },
  {
   "cell_type": "code",
   "execution_count": 19,
   "id": "bf6694d1",
   "metadata": {},
   "outputs": [
    {
     "name": "stdout",
     "output_type": "stream",
     "text": [
      "[2, 2, 2]\n"
     ]
    }
   ],
   "source": [
    "l1 = create_linked_list([1,1,1])\n",
    "l2 = create_linked_list([1,1,1])\n",
    "print_linked_list(P4(l1, l2),[])"
   ]
  },
  {
   "cell_type": "code",
   "execution_count": 20,
   "id": "13526c06",
   "metadata": {},
   "outputs": [
    {
     "name": "stdout",
     "output_type": "stream",
     "text": [
      "[1]\n"
     ]
    }
   ],
   "source": [
    "l1 = create_linked_list([0]) \n",
    "l2 = create_linked_list([1])\n",
    "print_linked_list(P4(l1, l2),[])"
   ]
  },
  {
   "cell_type": "code",
   "execution_count": 21,
   "id": "b6ef3db1",
   "metadata": {},
   "outputs": [
    {
     "name": "stdout",
     "output_type": "stream",
     "text": [
      "[1, 1, 1, 0]\n"
     ]
    }
   ],
   "source": [
    "l1 = create_linked_list([5,5,5]) \n",
    "l2 = create_linked_list([5,5,5]) \n",
    "print_linked_list(P4(l1, l2),[])"
   ]
  },
  {
   "cell_type": "code",
   "execution_count": 22,
   "id": "5217830d",
   "metadata": {},
   "outputs": [
    {
     "name": "stdout",
     "output_type": "stream",
     "text": [
      "[6, 1, 0]\n"
     ]
    }
   ],
   "source": [
    "l1 = create_linked_list([5,5,5]) \n",
    "l2 = create_linked_list([5,5]) \n",
    "print_linked_list(P4(l1, l2),[])"
   ]
  },
  {
   "cell_type": "code",
   "execution_count": 23,
   "id": "dbd53fa8",
   "metadata": {},
   "outputs": [],
   "source": [
    "def append(head, data):\n",
    "    new_node = ListNode(data)\n",
    "    if head is None:\n",
    "        head = new_node\n",
    "    else:\n",
    "        curr = head\n",
    "        # 끝나는 지점 찾기 - 연결을 해야 하므로 맨 끝의 직전 노드를 찾아야 함\n",
    "        while curr.next:\n",
    "            curr = curr.next\n",
    "        curr.next = new_node"
   ]
  },
  {
   "cell_type": "code",
   "execution_count": 24,
   "id": "5be5c54b",
   "metadata": {},
   "outputs": [],
   "source": [
    "l1 = create_linked_list([1,1,1])"
   ]
  },
  {
   "cell_type": "code",
   "execution_count": 25,
   "id": "43b966e0",
   "metadata": {},
   "outputs": [
    {
     "name": "stdout",
     "output_type": "stream",
     "text": [
      "[1, 1, 1, 3]\n"
     ]
    }
   ],
   "source": [
    "append(l1, 3)\n",
    "print_linked_list(l1, [])"
   ]
  },
  {
   "cell_type": "code",
   "execution_count": 26,
   "id": "66ddbaef",
   "metadata": {},
   "outputs": [],
   "source": [
    "def insert(head, index, data):\n",
    "    new_node = ListNode(data)\n",
    "    curr = head\n",
    "    i = 0\n",
    "    while i < index-1:\n",
    "        curr = curr.next\n",
    "        i += 1\n",
    "    # 현재의 next node 복사\n",
    "    next_node = curr.next\n",
    "    \n",
    "    # 새로운 node를 현재 노드의 next로 추가\n",
    "    curr.next = new_node\n",
    "    \n",
    "    # 새로운 node의 next를 복사해둔 노드로 설정\n",
    "    new_node.next = next_node"
   ]
  },
  {
   "cell_type": "code",
   "execution_count": 27,
   "id": "b05a15b0",
   "metadata": {},
   "outputs": [
    {
     "name": "stdout",
     "output_type": "stream",
     "text": [
      "[1, 4, 1, 1, 3]\n"
     ]
    }
   ],
   "source": [
    "insert(l1, 1, 4)\n",
    "print_linked_list(l1, [])"
   ]
  },
  {
   "cell_type": "code",
   "execution_count": null,
   "id": "4f43552e",
   "metadata": {},
   "outputs": [],
   "source": []
  }
 ],
 "metadata": {
  "kernelspec": {
   "display_name": "Python 3 (ipykernel)",
   "language": "python",
   "name": "python3"
  },
  "language_info": {
   "codemirror_mode": {
    "name": "ipython",
    "version": 3
   },
   "file_extension": ".py",
   "mimetype": "text/x-python",
   "name": "python",
   "nbconvert_exporter": "python",
   "pygments_lexer": "ipython3",
   "version": "3.9.16"
  }
 },
 "nbformat": 4,
 "nbformat_minor": 5
}
