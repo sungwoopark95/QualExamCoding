{
 "cells": [
  {
   "cell_type": "code",
   "execution_count": 1,
   "id": "7c34dfe3",
   "metadata": {},
   "outputs": [],
   "source": [
    "from typing import List, Dict, Set, Tuple"
   ]
  },
  {
   "cell_type": "markdown",
   "id": "a1db20ad",
   "metadata": {},
   "source": [
    "# P1\n",
    "\n",
    "버블 정렬(bubble sort)은 인접한 두 원소의 순서가 바뀌어 있을 때 (앞의 원소가 뒤의 원소보다 클 때) 서로 swap하면서 정렬하는 알고리즘이다.\n",
    "\n",
    "<img src=\"./instruction-pdf.png\" width=\"75%\" height=\"75%\">\n",
    "\n",
    "정수로 이루어진 리스트(list)를 변수(argument)로 받아 버블 정렬할 때, swap이 일어나는 횟수를 리턴하는 함수를 작성하시오.\n",
    "\n",
    "예시1)\n",
    "```py\n",
    ">>> P1([5, 1, 4, 2, 8]) \n",
    "4\n",
    "```\n",
    "\n",
    "예시2)\n",
    "```py\n",
    ">>> P1([-1, -1, -1, -1, -1]) \n",
    "0\n",
    "```\n",
    "\n",
    "예시3)\n",
    "```py\n",
    ">>> P1([6, 5, 4, 3, 2, 1]) \n",
    "15\n",
    "```\n",
    "\n",
    "예시4) \n",
    "```py\n",
    ">>> P1([1, 5, 2, 3, 6, 6, 1, 2, 3, 4, 21, 1, 11, -1]) \n",
    "40\n",
    "```"
   ]
  },
  {
   "cell_type": "code",
   "execution_count": 2,
   "id": "be674e2d",
   "metadata": {},
   "outputs": [
    {
     "name": "stdout",
     "output_type": "stream",
     "text": [
      "[1, 2, 3, 4, 5, 6]\n"
     ]
    }
   ],
   "source": [
    "def bubble_sort(arr:List):\n",
    "    for i in range(len(arr)):\n",
    "        for j in range(len(arr)-i-1):\n",
    "            if arr[j] > arr[j+1]:\n",
    "                arr[j], arr[j+1] = arr[j+1], arr[j]\n",
    "\n",
    "arr = [6, 5, 4, 3, 2, 1]\n",
    "bubble_sort(arr)\n",
    "print(arr)"
   ]
  },
  {
   "cell_type": "code",
   "execution_count": 3,
   "id": "b830b58a",
   "metadata": {},
   "outputs": [],
   "source": [
    "def P1(arr:List):\n",
    "    total_swap = 0\n",
    "    for i in range(len(arr)):\n",
    "        for j in range(len(arr)-i-1):\n",
    "            if arr[j] > arr[j+1]:\n",
    "                total_swap += 1\n",
    "                arr[j], arr[j+1] = arr[j+1], arr[j]\n",
    "    return total_swap"
   ]
  },
  {
   "cell_type": "code",
   "execution_count": 4,
   "id": "b645b972",
   "metadata": {},
   "outputs": [
    {
     "data": {
      "text/plain": [
       "4"
      ]
     },
     "execution_count": 4,
     "metadata": {},
     "output_type": "execute_result"
    }
   ],
   "source": [
    "P1([5, 1, 4, 2, 8])"
   ]
  },
  {
   "cell_type": "code",
   "execution_count": 5,
   "id": "97856a34",
   "metadata": {},
   "outputs": [
    {
     "data": {
      "text/plain": [
       "0"
      ]
     },
     "execution_count": 5,
     "metadata": {},
     "output_type": "execute_result"
    }
   ],
   "source": [
    "P1([-1, -1, -1, -1, -1])"
   ]
  },
  {
   "cell_type": "code",
   "execution_count": 6,
   "id": "8979bd11",
   "metadata": {},
   "outputs": [
    {
     "data": {
      "text/plain": [
       "15"
      ]
     },
     "execution_count": 6,
     "metadata": {},
     "output_type": "execute_result"
    }
   ],
   "source": [
    "P1([6, 5, 4, 3, 2, 1])"
   ]
  },
  {
   "cell_type": "code",
   "execution_count": 7,
   "id": "7d239aef",
   "metadata": {},
   "outputs": [
    {
     "data": {
      "text/plain": [
       "40"
      ]
     },
     "execution_count": 7,
     "metadata": {},
     "output_type": "execute_result"
    }
   ],
   "source": [
    "P1([1, 5, 2, 3, 6, 6, 1, 2, 3, 4, 21, 1, 11, -1]) "
   ]
  },
  {
   "cell_type": "markdown",
   "id": "4d2395d6",
   "metadata": {},
   "source": [
    "# P2\n",
    "\n",
    "두 문자열(string) `Order`와 `S`가 있다. `Order`의 모든 문자는 중복이 없고 어떤 규칙에 의해 이미 정렬되어 있다. `S`를 다음 규칙에 따라 수정하여 `Correct_S`라는 새로운 문자열을 만들려고 한다.\n",
    "\n",
    "**규칙1>** 만약 `S`에 `Order`에 포함된 문자가 있으면 `Order`에서 사용된 규칙에 의해 우선 정렬되어야 한다.\n",
    "\n",
    "**규칙2>** `Order`에 없는 문자에 대해서는 원래 `S`의 순서를 따르며, 규칙 1에서 정렬된 문자열 뒤에 나타내야 한다.\n",
    "\n",
    "**규칙3>** `S`는 `Order`의 일부만 포함하거나 아예 포함하지 않는 경우, 중복된 경우도 있다.\n",
    "\n",
    "`Order`와 `S`를 변수(arguments)로 받아 `Correct_S`를 리턴하는 함수 `P2(Order, S)`를 작성하시오.\n",
    "\n",
    "예시1)\n",
    "```py\n",
    ">>> P2('cba', 'abcd')\n",
    "'cbad'\n",
    "```\n",
    "\n",
    "예시2)\n",
    "```py\n",
    ">>> P2('cba', 'xyhabcd')\n",
    "'cbaxyhd'\n",
    "```\n",
    "\n",
    "예시3)\n",
    "```py\n",
    ">>> P2('cbafg', 'xabcd')\n",
    "'cbaxd'\n",
    "```"
   ]
  },
  {
   "cell_type": "code",
   "execution_count": 8,
   "id": "3315e55e",
   "metadata": {},
   "outputs": [],
   "source": [
    "def P2(Order:str, S:str):\n",
    "    s_list = list(S)\n",
    "    to_sort = s_list[:]\n",
    "    in_order_idx = [-1 for _ in range(len(S))]\n",
    "    in_s_idx = [-1 for _ in range(len(S))]\n",
    "    for idx, c_order in enumerate(Order):\n",
    "        for jdx, c_s in enumerate(S):\n",
    "            if c_order == c_s:\n",
    "                in_order_idx[jdx] = idx\n",
    "                in_s_idx[jdx] = jdx\n",
    "                \n",
    "    ## order_idx에 따라서 S, in_s_idx 먼저 sort\n",
    "    for i in range(len(in_order_idx)):\n",
    "        for j in range(len(in_order_idx)-i-1):\n",
    "            if in_order_idx[j] > in_order_idx[j+1]:\n",
    "                in_order_idx[j], in_order_idx[j+1] = in_order_idx[j+1], in_order_idx[j]\n",
    "                in_s_idx[j], in_s_idx[j+1] = in_s_idx[j+1], in_s_idx[j]\n",
    "                \n",
    "    \n",
    "    correct_S = []\n",
    "    for order_idx, s_idx in zip(in_order_idx, in_s_idx):\n",
    "        if order_idx != -1:\n",
    "            char = s_list[s_idx]\n",
    "            to_sort.pop(s_idx)\n",
    "            correct_S.append(char)\n",
    "    \n",
    "    for item in to_sort:\n",
    "        correct_S.append(item)\n",
    "        \n",
    "    return ''.join(correct_S)"
   ]
  },
  {
   "cell_type": "code",
   "execution_count": 9,
   "id": "09bf7674",
   "metadata": {},
   "outputs": [
    {
     "data": {
      "text/plain": [
       "'cbaxd'"
      ]
     },
     "execution_count": 9,
     "metadata": {},
     "output_type": "execute_result"
    }
   ],
   "source": [
    "P2('cbafg', 'xabcd')"
   ]
  },
  {
   "cell_type": "code",
   "execution_count": 10,
   "id": "98ff8936",
   "metadata": {},
   "outputs": [
    {
     "name": "stdout",
     "output_type": "stream",
     "text": [
      "cbad\n",
      "cbaxyhd\n",
      "cbaxd\n"
     ]
    }
   ],
   "source": [
    "def P2(Order, S):\n",
    "    # Order에 있는 문자를 기준으로 정렬하되, Order에 없는 문자는 원래 순서를 유지하도록 정렬 함수를 정의합니다.\n",
    "    def custom_sort(char):\n",
    "        return (Order.index(char) if char in Order else len(Order), S.index(char))\n",
    "\n",
    "    # S의 문자들을 custom_sort 함수를 기준으로 정렬합니다.\n",
    "    Correct_S = ''.join(sorted(S, key=custom_sort))\n",
    "    \"\"\"\n",
    "    1. 먼저 Order.index를 기준으로 정렬한다. 이때, Order에 있지 않은 문자들은 len(Order)로 주어, 항상 Order에 있는 문자들보다 뒤에 오게 한다.\n",
    "    2. 이제 Order에 없는 문자들은 len(Order)로 index값이 모두 같으므로, 이제 S의 index로 \n",
    "    \"\"\"\n",
    "    return Correct_S\n",
    "\n",
    "# 예시 테스트\n",
    "print(P2('cba', 'abcd'))  # 'cbad'\n",
    "print(P2('cba', 'xyhabcd'))  # 'cbaxyhd'\n",
    "print(P2('cbafg', 'xabcd'))  # 'cbaxd'"
   ]
  },
  {
   "cell_type": "markdown",
   "id": "4c222693",
   "metadata": {},
   "source": [
    "# P3\n",
    "\n",
    "다음 조건을 만족하는 리스트(`list`)가 있다.\n",
    "\n",
    "1. 모든 원소는 알파벳 소문자로 된 문자열(string)이다. (공백 없음)\n",
    "2. 각 string의 길이는 1 이상 20 이하이다.\n",
    "\n",
    "이 리스트를 변수(argument)로 받아 다음 조건에 따라 정렬하여 리턴하는 함수를 작성하시오.\n",
    "\n",
    "1. 길이가 짧은 문자열이 앞에 있어야 한다.\n",
    "2. 길이가 같다면 사전 순서가 빠른 문자열이 앞에 있어야 한다.\n",
    "\n",
    "```py\n",
    ">>>P3(['solve', 'this', 'problem', 'or', 'you', 'will', 'get', 'f'])\n",
    "['f', 'or', 'get', 'you', 'this', 'will', 'solve', 'problem']\n",
    "\n",
    ">>>P3(['computing', 'class', 'is', 'so', 'funny', 'haha'])\n",
    "['is', 'so', 'haha', 'class', 'funny', 'computing']\n",
    "\n",
    ">>>P3(['making', 'homework', 'is', 'very', 'hard'])\n",
    "['is', 'hard', 'very', 'making', 'homework']\n",
    "```"
   ]
  },
  {
   "cell_type": "code",
   "execution_count": 11,
   "id": "a4beb247",
   "metadata": {},
   "outputs": [],
   "source": [
    "## key 활용하는 방법\n",
    "def P3_(arr:List):\n",
    "    return sorted(arr, key=lambda item: (len(item), item))"
   ]
  },
  {
   "cell_type": "code",
   "execution_count": 12,
   "id": "dd1f48d7",
   "metadata": {},
   "outputs": [
    {
     "name": "stdout",
     "output_type": "stream",
     "text": [
      "['f', 'or', 'get', 'you', 'this', 'will', 'solve', 'problem']\n",
      "['is', 'so', 'haha', 'class', 'funny', 'computing']\n",
      "['is', 'hard', 'very', 'making', 'homework']\n"
     ]
    }
   ],
   "source": [
    "print(P3_(['solve', 'this', 'problem', 'or', 'you', 'will', 'get', 'f']))\n",
    "print(P3_(['computing', 'class', 'is', 'so', 'funny', 'haha']))\n",
    "print(P3_(['making', 'homework', 'is', 'very', 'hard']))"
   ]
  },
  {
   "cell_type": "code",
   "execution_count": 13,
   "id": "d36fd7f4",
   "metadata": {},
   "outputs": [],
   "source": [
    "## key 활용하지 않는 방법\n",
    "def P3(arr:List):\n",
    "    len_list = [len(word) for word in arr]\n",
    "    \n",
    "    ## length 기준으로 우선 sorting - bubble sort\n",
    "    for i in range(len(len_list)):\n",
    "        for j in range(len(len_list)-i-1):\n",
    "            if len_list[j] > len_list[j+1]:\n",
    "                len_list[j], len_list[j+1] = len_list[j+1], len_list[j]\n",
    "                arr[j], arr[j+1] = arr[j+1], arr[j]\n",
    "    \n",
    "    ## length 같은 item들은 서로 붙어있음 - 다시 같은 length 가진 item에 대해서 sorting\n",
    "    for length in set(len_list):\n",
    "        indices = []\n",
    "        for idx, word in enumerate(arr):\n",
    "            if len(word) == length:\n",
    "                indices.append(idx)\n",
    "        for i in range(min(indices), max(indices)+1):\n",
    "            for j in range(min(indices), max(indices)-i):\n",
    "                if arr[j] > arr[j+1]:\n",
    "                    arr[j], arr[j+1] = arr[j+1], arr[j]\n",
    "                    \n",
    "    return arr"
   ]
  },
  {
   "cell_type": "code",
   "execution_count": 14,
   "id": "1b6460cd",
   "metadata": {},
   "outputs": [
    {
     "name": "stdout",
     "output_type": "stream",
     "text": [
      "['f', 'or', 'you', 'get', 'this', 'will', 'solve', 'problem']\n",
      "['is', 'so', 'haha', 'class', 'funny', 'computing']\n",
      "['is', 'very', 'hard', 'making', 'homework']\n"
     ]
    }
   ],
   "source": [
    "print(P3(['solve', 'this', 'problem', 'or', 'you', 'will', 'get', 'f']))\n",
    "print(P3(['computing', 'class', 'is', 'so', 'funny', 'haha']))\n",
    "print(P3(['making', 'homework', 'is', 'very', 'hard']))"
   ]
  },
  {
   "cell_type": "markdown",
   "id": "f51df55c",
   "metadata": {},
   "source": [
    "# P4\n",
    "\n",
    "<img src=\"./instruction-pdf-sort.png\" width=\"75%\" height=\"75%\">\n",
    "\n",
    "예시1) \n",
    "```py\n",
    ">>> P4([[1, 3, 0], [2, 5, 3], [3, 4, 1], [2, 0, 0]])\n",
    "[[1, 3, 0], [0, 1, 3], [0, 2, 5], [2, 3, 4]]\n",
    "```\n",
    "\n",
    "예시2) \n",
    "```py\n",
    ">>> P4([[1, 6, 2, 4, 6, 2, 4, 7, 0]])\n",
    "[[1, 6, 2, 4, 6, 2, 4, 7, 0]]\n",
    "```\n",
    "\n",
    "예시3) \n",
    "```py\n",
    ">>> P4([[1, 5, 20, -1, 3], [-1, 3, 20, 4, -1], [34, 3, 12, 5, -12], [4, 64, 612, 6, 10]])\n",
    "[[1, 5, -12, -1, 3],\n",
    " [-1, 3, 5, 4, -1],\n",
    " [34, 3, 6, 10, 20],\n",
    " [4, 64, 612, 12, 20]]\n",
    "```"
   ]
  },
  {
   "cell_type": "code",
   "execution_count": 15,
   "id": "f1ca566e",
   "metadata": {},
   "outputs": [],
   "source": [
    "def P4(arr:List[List]):\n",
    "    # 대각선에 있는 item들은 i-j가 서로 같음\n",
    "    # i-j = 0 -> [1, 5, 1], i-j = 1 -> [2, 4, 0]\n",
    "    # 대각선에 있는 item들끼리 묶어놓은 dict 만들기\n",
    "    diag = dict()\n",
    "    M, N = len(arr), len(arr[0]) # 행과 열\n",
    "    for i in range(M):\n",
    "        for j in range(N):\n",
    "            key = i-j\n",
    "            if key not in diag:\n",
    "                diag[key] = [arr[i][j]]\n",
    "            else:\n",
    "                diag[key].append(arr[i][j])\n",
    "    \n",
    "    # sort each value\n",
    "    for key in diag:\n",
    "        diag[key].sort()\n",
    "    \n",
    "    # reconstruct the matrix\n",
    "    ans = [[0 for _ in range(N)] for _ in range(M)]\n",
    "    for i in range(M):\n",
    "        for j in range(N):\n",
    "            key = i-j\n",
    "            ans[i][j] = diag[key].pop(0) # 어차피 정렬되어 있으므로 i-j가 같은 구역에 순서대로 끼워맞추기만 하면 됨\n",
    "    \n",
    "    return ans"
   ]
  },
  {
   "cell_type": "code",
   "execution_count": 16,
   "id": "166a86b7",
   "metadata": {},
   "outputs": [
    {
     "data": {
      "text/plain": [
       "[[1, 3, 0], [0, 1, 3], [0, 2, 5], [2, 3, 4]]"
      ]
     },
     "execution_count": 16,
     "metadata": {},
     "output_type": "execute_result"
    }
   ],
   "source": [
    "P4([[1, 3, 0], [2, 5, 3], [3, 4, 1], [2, 0, 0]])"
   ]
  },
  {
   "cell_type": "code",
   "execution_count": 17,
   "id": "d1b1a73f",
   "metadata": {},
   "outputs": [
    {
     "data": {
      "text/plain": [
       "[[1, 6, 2, 4, 6, 2, 4, 7, 0]]"
      ]
     },
     "execution_count": 17,
     "metadata": {},
     "output_type": "execute_result"
    }
   ],
   "source": [
    "P4([[1, 6, 2, 4, 6, 2, 4, 7, 0]])"
   ]
  },
  {
   "cell_type": "code",
   "execution_count": 18,
   "id": "a1f69246",
   "metadata": {},
   "outputs": [
    {
     "data": {
      "text/plain": [
       "[[1, 5, -12, -1, 3],\n",
       " [-1, 3, 5, 4, -1],\n",
       " [34, 3, 6, 10, 20],\n",
       " [4, 64, 612, 12, 20]]"
      ]
     },
     "execution_count": 18,
     "metadata": {},
     "output_type": "execute_result"
    }
   ],
   "source": [
    "P4([[1, 5, 20, -1, 3], [-1, 3, 20, 4, -1], [34, 3, 12, 5, -12], [4, 64, 612, 6, 10]])"
   ]
  },
  {
   "cell_type": "markdown",
   "id": "636acb4d",
   "metadata": {},
   "source": [
    "# P5\n",
    "\n",
    "<img src=\"./instruction-pdf-5.png\" width=\"75%\" height=\"75%\">\n",
    "\n",
    "예시1) \n",
    "```py\n",
    ">>> P5([1,1,1,6,0], [2,7,8,3,1])\n",
    "18\n",
    "```\n",
    "\n",
    "예시2)\n",
    "```py\n",
    ">>> P5([1,4,2,6,1,0], [3,5,1,2,4,1])\n",
    "21\n",
    "```\n",
    "\n",
    "예시3) \n",
    "```py\n",
    ">>> P5([1,0,1,0,1], [0,1,0,1,0])\n",
    "0\n",
    "```"
   ]
  },
  {
   "cell_type": "code",
   "execution_count": 19,
   "id": "257502f0",
   "metadata": {},
   "outputs": [],
   "source": [
    "## inner product를 최소화하는 방법 -> 하나의 vector는 ascending order, 다른 vector는 descending order로 정렬한 뒤 수행\n",
    "def P5(A:List[int], B:List[int]):\n",
    "    def inner_product(list1, list2):\n",
    "        val = 0\n",
    "        for item, jtem in zip(list1, list2):\n",
    "            val += (item * jtem)\n",
    "        return val\n",
    "    \n",
    "    # 한 번은 A를 ascending, B를 descending, 한 번은 B를 ascending, A를 descending -> 둘 중에 작은 값\n",
    "    candidate1 = inner_product(sorted(A), sorted(B, reverse=True))\n",
    "    candidate2 = inner_product(sorted(A, reverse=True), sorted(B))\n",
    "    return min(candidate1, candidate2)"
   ]
  },
  {
   "cell_type": "code",
   "execution_count": 20,
   "id": "ed2c16fe",
   "metadata": {},
   "outputs": [
    {
     "data": {
      "text/plain": [
       "18"
      ]
     },
     "execution_count": 20,
     "metadata": {},
     "output_type": "execute_result"
    }
   ],
   "source": [
    "P5([1,1,1,6,0], [2,7,8,3,1])"
   ]
  },
  {
   "cell_type": "code",
   "execution_count": 21,
   "id": "82e28908",
   "metadata": {},
   "outputs": [
    {
     "data": {
      "text/plain": [
       "21"
      ]
     },
     "execution_count": 21,
     "metadata": {},
     "output_type": "execute_result"
    }
   ],
   "source": [
    "P5([1,4,2,6,1,0], [3,5,1,2,4,1])"
   ]
  },
  {
   "cell_type": "code",
   "execution_count": 22,
   "id": "a9de81b2",
   "metadata": {},
   "outputs": [
    {
     "data": {
      "text/plain": [
       "0"
      ]
     },
     "execution_count": 22,
     "metadata": {},
     "output_type": "execute_result"
    }
   ],
   "source": [
    "P5([1,0,1,0,1], [0,1,0,1,0])"
   ]
  },
  {
   "cell_type": "code",
   "execution_count": null,
   "id": "b498db1f",
   "metadata": {},
   "outputs": [],
   "source": []
  }
 ],
 "metadata": {
  "kernelspec": {
   "display_name": "Python 3 (ipykernel)",
   "language": "python",
   "name": "python3"
  },
  "language_info": {
   "codemirror_mode": {
    "name": "ipython",
    "version": 3
   },
   "file_extension": ".py",
   "mimetype": "text/x-python",
   "name": "python",
   "nbconvert_exporter": "python",
   "pygments_lexer": "ipython3",
   "version": "3.9.16"
  }
 },
 "nbformat": 4,
 "nbformat_minor": 5
}
