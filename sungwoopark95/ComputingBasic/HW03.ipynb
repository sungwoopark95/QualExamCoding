{
 "cells": [
  {
   "cell_type": "markdown",
   "id": "5c1ce652",
   "metadata": {},
   "source": [
    "# HW3"
   ]
  },
  {
   "cell_type": "code",
   "execution_count": 1,
   "id": "00ddea9b",
   "metadata": {},
   "outputs": [],
   "source": [
    "def correct(answer, solution):\n",
    "    if answer == solution:\n",
    "        return \"Yes, it's corect.\"\n",
    "    return \"No, it's wrong.\""
   ]
  },
  {
   "cell_type": "markdown",
   "id": "84918300",
   "metadata": {},
   "source": [
    "## P1\n",
    "\n",
    "정수(int)로만 구성된 리스트를 입력으로 받고, 리스트의 메서드(method)를 활용하여 아래의 지시를 순서대로 따르는 함수 P1을 완성하세요. \n",
    "\n",
    "1. 입력으로 받은 리스트를 오름차순으로 정렬  \n",
    "2. 리스트에서 1234 제거 \n",
    "3. [4321, 2222]를 추가하여 리스트를 확장(extend) \n",
    "4. 1번 index 위치에 1111 추가 (주의: python의 index 규칙을 잘 확인할 것) \n",
    "\n",
    "<가정> \n",
    "\n",
    "1. 리스트는 정수로만 구성됨 \n",
    "2. 각 숫자들은 리스트 내에 한 번씩만 등장하여 숫자가 중복되는 경우는 없음 \n",
    "3. 입력되는 리스트에는 1234가 항상 존재 \n",
    "\n",
    "예시1) \n",
    "```\n",
    ">>> P1([1234, 1011, 3124])  \n",
    ">>> [1011, 1111, 3124, 4321, 2222]\n",
    "```\n",
    "\n",
    "예시2)\n",
    "```\n",
    ">>> P1([7777, 5555, 8888, 1234, 9876])  \n",
    ">>> [5555, 1111, 7777, 8888, 9876, 4321, 2222] \n",
    "```"
   ]
  },
  {
   "cell_type": "code",
   "execution_count": 2,
   "id": "faf27982",
   "metadata": {},
   "outputs": [
    {
     "name": "stdout",
     "output_type": "stream",
     "text": [
      "[1011, 1111, 3124, 4321, 2222]\n",
      "Is my answer correct : Yes, it's corect.\n",
      "[5555, 1111, 7777, 8888, 9876, 4321, 2222]\n",
      "Is my answer correct : Yes, it's corect.\n"
     ]
    }
   ],
   "source": [
    "from typing import List\n",
    "\n",
    "def P1(array:List[int]):\n",
    "    ## 오름차순 정렬\n",
    "    array.sort()\n",
    "    \n",
    "    ## 1234 제거\n",
    "    if 1234 in array:\n",
    "        array.remove(1234)\n",
    "        \n",
    "    ## [4321, 2222]를 추가하여 리스트 확장\n",
    "    array.extend([4321, 2222])\n",
    "    \n",
    "    ## 1번 index 위치에 1111 추가\n",
    "    array.insert(1, 1111)\n",
    "    \n",
    "    return array\n",
    "\n",
    "print(P1([1234, 1011, 3124]))\n",
    "print(f\"Is my answer correct : {correct(P1([1234, 1011, 3124]), [1011, 1111, 3124, 4321, 2222])}\")\n",
    "\n",
    "print(P1([7777, 5555, 8888, 1234, 9876]))\n",
    "print(f\"Is my answer correct : {correct(P1([7777, 5555, 8888, 1234, 9876]), [5555, 1111, 7777, 8888, 9876, 4321, 2222])}\")"
   ]
  },
  {
   "cell_type": "markdown",
   "id": "1fe5f1f0",
   "metadata": {},
   "source": [
    "## P2\n",
    "\n",
    "세 개의 리스트를 입력으로 받고, 가장 길이가 긴 리스트의 길이를 리턴하는 함수 P2를 작성하세요.  \n",
    "\n",
    "<조건> \n",
    "\n",
    "1. 항상 3개의 리스트가 입력으로 주어진다고 가정 \n",
    "\n",
    "예시1)\n",
    "```\n",
    ">>> P2([1], [2, 3], [4, 5, 6]) \n",
    ">>> 3\n",
    "```\n",
    "\n",
    "예시2)\n",
    "```\n",
    ">>> P2([10, 11, 12, 13], ['a'], [1.11]) \n",
    ">>> 4\n",
    "```"
   ]
  },
  {
   "cell_type": "code",
   "execution_count": 3,
   "id": "808370f7",
   "metadata": {},
   "outputs": [
    {
     "name": "stdout",
     "output_type": "stream",
     "text": [
      "3\n",
      "4\n"
     ]
    }
   ],
   "source": [
    "def P2(a:List, b:List, c:List):\n",
    "    maxlen = -1\n",
    "    for item in [a, b, c]:\n",
    "        if len(item) > maxlen:\n",
    "            maxlen = len(item)\n",
    "    return maxlen\n",
    "\n",
    "print(P2([1], [2, 3], [4, 5, 6]))\n",
    "print(P2([10, 11, 12, 13], ['a'], [1.11]))"
   ]
  },
  {
   "cell_type": "markdown",
   "id": "5818a7d5",
   "metadata": {},
   "source": [
    "## P3\n",
    "\n",
    "정수로 구성된 리스트를 입력으로 받고 리스트 안의 값이 음수이면 양수로, 양수이면 음수로 변경하여 리턴하는 함수 P3를 작성하세요.  \n",
    "\n",
    "<조건> \n",
    "\n",
    "1. 값이 0일 때는 변경 없음 \n",
    "2. 입력 받은 원본 리스트를 변경하지 말고, 새로운 리스트를 리턴하여야 함 \n",
    "\n",
    "예시1)  \n",
    "```\n",
    ">>> P3([-1, 2]) \n",
    ">>> [1, -2] \n",
    "```\n",
    "\n",
    "예시2)  \n",
    "```\n",
    ">>> P3([66, 0, -11]) \n",
    ">>> [-66, 0, 11] \n",
    "```"
   ]
  },
  {
   "cell_type": "code",
   "execution_count": 4,
   "id": "7c6fba5e",
   "metadata": {},
   "outputs": [
    {
     "name": "stdout",
     "output_type": "stream",
     "text": [
      "[1, -2]\n",
      "Is my answer correct : Yes, it's corect.\n",
      "[-66, 0, 11]\n",
      "Is my answer correct : Yes, it's corect.\n"
     ]
    }
   ],
   "source": [
    "def P3(array:List[int]):\n",
    "    answer = [0 for _ in range(len(array))]\n",
    "    for i, item in enumerate(array):\n",
    "        answer[i] = item * -1\n",
    "    return answer\n",
    "\n",
    "print(P3([-1, 2]))\n",
    "print(f\"Is my answer correct : {correct(P3([-1, 2]), [1, -2])}\")\n",
    "\n",
    "print(P3([66, 0, -11]))\n",
    "print(f\"Is my answer correct : {correct(P3([66, 0, -11]), [-66, 0, 11])}\")"
   ]
  },
  {
   "cell_type": "markdown",
   "id": "b5cf7a16",
   "metadata": {},
   "source": [
    "## P4\n",
    "\n",
    "중첩 리스트(nested list)를 입력으로 받고, 아래 조건을 만족하는 리스트를 리턴하는 함수 P4를 작성하세요.  \n",
    "\n",
    "<조건> \n",
    "\n",
    "1. 입력 리스트는 [[영단어, 글자수]] 꼴이며, 자세한 건 아래의 예시를 참고 \n",
    "2. 영단어는 알파벳 소문자로만 이루어져 있음 \n",
    "3. 입력 리스트에서 단어만 모아서 리스트로 리턴 \n",
    "4. 리스트는 알파벳 순으로 정렬되어 있어야함 \n",
    "\n",
    "예시1) \n",
    "```\n",
    ">>> P4([['apple', 5], ['banana', 6]]) \n",
    ">>> ['apple', 'banana']\n",
    "``` \n",
    "\n",
    "예시2)\n",
    "```\n",
    ">>> P4([['cup', 3], ['ace', 3], ['nice', 4], ['good', 4]])\n",
    ">>> ['ace', 'cup', 'good', 'nice']\n",
    "```"
   ]
  },
  {
   "cell_type": "code",
   "execution_count": 5,
   "id": "f769a893",
   "metadata": {},
   "outputs": [
    {
     "name": "stdout",
     "output_type": "stream",
     "text": [
      "['apple', 'banana']\n",
      "Is my answer correct : Yes, it's corect.\n",
      "['ace', 'cup', 'good', 'nice']\n",
      "Is my answer correct : Yes, it's corect.\n"
     ]
    }
   ],
   "source": [
    "def P4(array:List[List]):\n",
    "    answer = []\n",
    "    for subarray in array:\n",
    "        word, cnt = subarray\n",
    "        answer.append(word)\n",
    "    answer.sort()\n",
    "    return answer\n",
    "\n",
    "print(P4([['apple', 5], ['banana', 6]]))\n",
    "print(f\"Is my answer correct : {correct(P4([['apple', 5], ['banana', 6]]), ['apple', 'banana'])}\")\n",
    "\n",
    "print(P4([['cup', 3], ['ace', 3], ['nice', 4], ['good', 4]]))\n",
    "print(f\"Is my answer correct : {correct(P4([['cup', 3], ['ace', 3], ['nice', 4], ['good', 4]]), ['ace', 'cup', 'good', 'nice'])}\")"
   ]
  },
  {
   "cell_type": "markdown",
   "id": "479c0e43",
   "metadata": {},
   "source": [
    "## P5\n",
    "\n",
    "알파벳으로만 구성된 리스트를 입력으로 받고, 대문자가 처음으로 등장하는 index를 리턴하는 함수 P5을 작성하세요. (for loop을 통해서 해결 가능하지만, while loop을 활용하는 훈련을 해보는 것도 좋습니다. 어떻게 구현하여도 점수와 관계는 없습니다.) \n",
    "\n",
    "<조건> \n",
    "\n",
    "1. 입력 리스트는 알파벳 대문자 혹은 소문자로만 구성됨 \n",
    "2. 대문자가 존재하지 않는 경우는 -1을 리턴 \n",
    "\n",
    "예시1)  \n",
    "\n",
    "```\n",
    ">>> P5(['a', 'B', 'c', 'D'])\n",
    ">>> 1\n",
    "```\n",
    "\n",
    "예시2)\n",
    "```\n",
    ">>> P5(['z', 'b', 'k', 'D', 'I', 'q'])\n",
    ">>> 3\n",
    "```\n",
    "\n",
    "예시3)\n",
    "```\n",
    ">>> P5(['a', 'b'])\n",
    ">>> -1 \n",
    "```"
   ]
  },
  {
   "cell_type": "code",
   "execution_count": 6,
   "id": "c5c03e1c",
   "metadata": {},
   "outputs": [
    {
     "name": "stdout",
     "output_type": "stream",
     "text": [
      "1\n",
      "3\n",
      "-1\n"
     ]
    }
   ],
   "source": [
    "def P5(array:List[str]):\n",
    "    num_alphabets = ord('Z') - ord('A')\n",
    "    capitals = [chr(ord('A')+i) for i in range(num_alphabets)]\n",
    "    for idx, item in enumerate(array):\n",
    "        if item in capitals:\n",
    "            return idx\n",
    "    ## if the for loop ends, it means that there is no uppercase in the array\n",
    "    return -1\n",
    "\n",
    "print(P5(['a', 'B', 'c', 'D']))\n",
    "print(P5(['z', 'b', 'k', 'D', 'I', 'q']))\n",
    "print(P5(['a', 'b']))"
   ]
  },
  {
   "cell_type": "markdown",
   "id": "b65e4f4b",
   "metadata": {},
   "source": [
    "## P6\n",
    "\n",
    "정수 2개를 입력으로 받고, 아래 조건을 만족하는 리스트를 리턴하는 함수 P6를 작성하세요. \n",
    "\n",
    "<조건> \n",
    "\n",
    "1. 입력은 항상 정수 2개 \n",
    "2. 입력 받은 두 정수 중 큰 수부터 시작하여 작은 수까지 포함된 리스트를 리턴 \n",
    "3. 리턴하는 리스트는 내림차순으로 정렬되어 있어야 함 \n",
    "4. 입력 받는 두 정수가 같은 경우는 해당 정수가 1번만 포함된 리스트를 리턴 \n",
    "\n",
    "예시1)\n",
    "```\n",
    ">>> P6(3, 9)\n",
    ">>> [9, 8, 7, 6, 5, 4, 3]\n",
    "```\n",
    "\n",
    "예시2)\n",
    "```\n",
    ">>> P6(2, -1)\n",
    ">>> [2, 1, 0, -1]\n",
    "```\n",
    "\n",
    "예시3)\n",
    "```\n",
    ">>> P6(100, 100)\n",
    ">>> [100]\n",
    "```"
   ]
  },
  {
   "cell_type": "code",
   "execution_count": 7,
   "id": "ed0d67ca",
   "metadata": {},
   "outputs": [
    {
     "name": "stdout",
     "output_type": "stream",
     "text": [
      "[9, 8, 7, 6, 5, 4, 3]\n",
      "[2, 1, 0, -1]\n",
      "[100]\n"
     ]
    }
   ],
   "source": [
    "def P6(a:int, b:int):\n",
    "    large, small = max(a, b), min(a, b)\n",
    "    answer = [num for num in range(large, small-1, -1)]\n",
    "    return answer\n",
    "\n",
    "print(P6(3, 9))\n",
    "print(P6(2, -1))\n",
    "print(P6(100, 100))"
   ]
  },
  {
   "cell_type": "markdown",
   "id": "7062cbbd",
   "metadata": {},
   "source": [
    "## P7\n",
    "\n",
    "리스트를 입력으로 받고, 리스트의 각 원소에 1을 더한 후 리턴하는 함수 P7를 작성하세요.  \n",
    "\n",
    "<조건> \n",
    "\n",
    "1. 입력 받는 리스트 자체는 변경되어서는 안 됨 \n",
    "2. 리스트는 숫자로만 구성됨 \n",
    "\n",
    "예시1)\n",
    "```\n",
    ">>> P7([5, 4, 7, 3, 2, 3, 2, 6, 4, 2, 1, 7, 1, 3])\n",
    ">>> [6, 5, 8, 4, 3, 4, 3, 7, 5, 3, 2, 8, 2, 4] \n",
    "```\n",
    "\n",
    "예시2)\n",
    "```\n",
    ">>> P7([0, 0, 0])\n",
    ">>> [1, 1, 1]\n",
    "```"
   ]
  },
  {
   "cell_type": "code",
   "execution_count": 8,
   "id": "9645a547",
   "metadata": {},
   "outputs": [
    {
     "name": "stdout",
     "output_type": "stream",
     "text": [
      "[6, 5, 8, 4, 3, 4, 3, 7, 5, 3, 2, 8, 2, 4]\n",
      "[1, 1, 1]\n"
     ]
    }
   ],
   "source": [
    "def P7(array:List[int]):\n",
    "    ans = [item+1 for item in array]\n",
    "    return ans\n",
    "\n",
    "print(P7([5, 4, 7, 3, 2, 3, 2, 6, 4, 2, 1, 7, 1, 3]))\n",
    "print(P7([0, 0, 0]))"
   ]
  },
  {
   "cell_type": "markdown",
   "id": "50575d2f",
   "metadata": {},
   "source": [
    "## P8\n",
    "\n",
    "숫자로 구성된 리스트를 입력으로 받고, 해당 리스트에서 음수만 제거하는 함수 P8를 작성하세요. \n",
    "\n",
    "<조건> \n",
    "\n",
    "1. 입력으로는 숫자만 주어짐 \n",
    "\n",
    "예시1)\n",
    "```\n",
    ">>> P8([1, 2, 3, -3, 6, -1, -3, 1])\n",
    ">>> [1, 2, 3, 6, 1]\n",
    "```\n",
    "\n",
    "예시2)\n",
    "```\n",
    ">>> P8([-5, 1, -3, 2])\n",
    ">>> [1, 2]\n",
    "```"
   ]
  },
  {
   "cell_type": "code",
   "execution_count": 9,
   "id": "9f0ebecc",
   "metadata": {},
   "outputs": [
    {
     "name": "stdout",
     "output_type": "stream",
     "text": [
      "[1, 2, 3, 6, 1]\n",
      "[1, 2]\n"
     ]
    }
   ],
   "source": [
    "def P8(array:List[int]):\n",
    "    ans = [item for item in array if item >= 0]\n",
    "    return ans\n",
    "\n",
    "print(P8([1, 2, 3, -3, 6, -1, -3, 1]))\n",
    "print(P8([-5, 1, -3, 2]))"
   ]
  },
  {
   "cell_type": "markdown",
   "id": "349918e8",
   "metadata": {},
   "source": [
    "## P9\n",
    "\n",
    "중첩 리스트(nested list)를 입력으로 받고, 안쪽 리스트 중 첫 리스트의 첫 원소와 마지막 리스트의 마지막 원소를 리턴하는 함수 P9를 작성하세요.\n",
    "\n",
    "<조건> \n",
    "\n",
    "1. 바깥 리스트는 항상 2개의 리스트를 원소로 가짐 \n",
    "2. 안쪽 리스트들은 각각 최소 1개의 원소를 가짐 \n",
    "\n",
    "예시1)\n",
    "```\n",
    ">>> P9([['km','miles','league'],['kg','pound','stone']])\n",
    ">>> ['km','stone']\n",
    "```\n",
    "\n",
    "예시2)\n",
    "```\n",
    ">>> P9([[0,1,2,3],[4,5,6]])\n",
    ">>> [0,6]\n",
    "```\n",
    "\n",
    "예시3)\n",
    "```\n",
    ">>> P9([[0,0,0],[1]])\n",
    ">>> [0,1]\n",
    "```"
   ]
  },
  {
   "cell_type": "code",
   "execution_count": 10,
   "id": "8a862908",
   "metadata": {},
   "outputs": [],
   "source": [
    "def P9(array:List):\n",
    "    a, b = array\n",
    "    ans = [a[0], b[-1]]\n",
    "    return ans"
   ]
  },
  {
   "cell_type": "code",
   "execution_count": 11,
   "id": "dbc97927",
   "metadata": {},
   "outputs": [
    {
     "data": {
      "text/plain": [
       "['km', 'stone']"
      ]
     },
     "execution_count": 11,
     "metadata": {},
     "output_type": "execute_result"
    }
   ],
   "source": [
    "P9([['km','miles','league'],['kg','pound','stone']])"
   ]
  },
  {
   "cell_type": "code",
   "execution_count": 12,
   "id": "adaf6a23",
   "metadata": {},
   "outputs": [
    {
     "data": {
      "text/plain": [
       "[0, 6]"
      ]
     },
     "execution_count": 12,
     "metadata": {},
     "output_type": "execute_result"
    }
   ],
   "source": [
    "P9([[0,1,2,3],[4,5,6]])"
   ]
  },
  {
   "cell_type": "code",
   "execution_count": 13,
   "id": "f0f4c8c4",
   "metadata": {},
   "outputs": [
    {
     "data": {
      "text/plain": [
       "[0, 1]"
      ]
     },
     "execution_count": 13,
     "metadata": {},
     "output_type": "execute_result"
    }
   ],
   "source": [
    "P9([[0,0,0],[1]])"
   ]
  },
  {
   "cell_type": "markdown",
   "id": "a326f989",
   "metadata": {},
   "source": [
    "## P10\n",
    "\n",
    "rat_1, rat_2는 두 마리의 rat의 무게를 열흘 간 매일 측정하여 기록해놓은 리스트이다. 두 리스트와 1과 10 사이의 숫자가 하나가 주어졌을 때, 해당 숫자에 해당하는 날에 1번 rat의 무게가 더 높았으면 True, 아니라면 False를 리턴하는 함수 P10을 작성하세요.  \n",
    "\n",
    "<조건> \n",
    "\n",
    "1. 두 rat의 무게가 완전히 같아지는 날은 없음 \n",
    "\n",
    "<입력 리스트 예시> \n",
    "\n",
    "```py\n",
    "rat_1 = [5, 6, 7, 6, 7, 8, 10, 9, 8, 10]\n",
    "rat_2 = [7, 8, 6, 7, 8, 10, 9, 8, 10, 11]\n",
    "```\n",
    "\n",
    "예시1)\n",
    "```\n",
    ">>> P10(rat_1, rat_2, 1)\n",
    ">>> False\n",
    "```\n",
    "\n",
    "예시2)\n",
    "```\n",
    ">>> P10(rat_1, rat_2, 5)\n",
    ">>> False\n",
    "```\n",
    "\n",
    "예시3)\n",
    "```\n",
    ">>> P10(rat_1, rat_2, 3)\n",
    ">>> True\n",
    "```"
   ]
  },
  {
   "cell_type": "code",
   "execution_count": 14,
   "id": "353749f4",
   "metadata": {},
   "outputs": [],
   "source": [
    "def P10(rat_1:List, rat_2:List, day:int):\n",
    "    return rat_1[day-1] > rat_2[day-1]"
   ]
  },
  {
   "cell_type": "code",
   "execution_count": 15,
   "id": "9ffc73d2",
   "metadata": {},
   "outputs": [],
   "source": [
    "rat_1 = [5, 6, 7, 6, 7, 8, 10, 9, 8, 10]\n",
    "rat_2 = [7, 8, 6, 7, 8, 10, 9, 8, 10, 11]"
   ]
  },
  {
   "cell_type": "code",
   "execution_count": 16,
   "id": "b061f01e",
   "metadata": {},
   "outputs": [
    {
     "data": {
      "text/plain": [
       "False"
      ]
     },
     "execution_count": 16,
     "metadata": {},
     "output_type": "execute_result"
    }
   ],
   "source": [
    " P10(rat_1, rat_2, 1)"
   ]
  },
  {
   "cell_type": "code",
   "execution_count": 17,
   "id": "5e57db62",
   "metadata": {},
   "outputs": [
    {
     "data": {
      "text/plain": [
       "False"
      ]
     },
     "execution_count": 17,
     "metadata": {},
     "output_type": "execute_result"
    }
   ],
   "source": [
    "P10(rat_1, rat_2, 5)"
   ]
  },
  {
   "cell_type": "code",
   "execution_count": 18,
   "id": "dc5e6e27",
   "metadata": {},
   "outputs": [
    {
     "data": {
      "text/plain": [
       "True"
      ]
     },
     "execution_count": 18,
     "metadata": {},
     "output_type": "execute_result"
    }
   ],
   "source": [
    "P10(rat_1, rat_2, 3)"
   ]
  },
  {
   "cell_type": "code",
   "execution_count": null,
   "id": "376e7962",
   "metadata": {},
   "outputs": [],
   "source": []
  }
 ],
 "metadata": {
  "kernelspec": {
   "display_name": "Python 3 (ipykernel)",
   "language": "python",
   "name": "python3"
  },
  "language_info": {
   "codemirror_mode": {
    "name": "ipython",
    "version": 3
   },
   "file_extension": ".py",
   "mimetype": "text/x-python",
   "name": "python",
   "nbconvert_exporter": "python",
   "pygments_lexer": "ipython3",
   "version": "3.10.12"
  }
 },
 "nbformat": 4,
 "nbformat_minor": 5
}
