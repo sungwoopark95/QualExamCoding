{
 "cells": [
  {
   "cell_type": "code",
   "execution_count": 1,
   "id": "ff91f4f4",
   "metadata": {},
   "outputs": [],
   "source": [
    "from typing import List, Dict, Set, Tuple"
   ]
  },
  {
   "cell_type": "markdown",
   "id": "0ac54337",
   "metadata": {},
   "source": [
    "이번 과제는 hashing 에 대한 과제이다. 다음 모든 문제들은 time complexity $O(n)$으로 해결할 수 있다. 따라서 다음과 같이 두 부류로 test case 를 구성할 것이다. \n",
    "\n",
    "1) 입력 리스트의 원소의 개수가 적고, return 값만 맞으면 정답 \n",
    "2) 입력 리스트의 원소의 개수가 충분히 많은 (107 이상) 경우. 실행 시간이 특정 시간을 넘어가면 return 값에 상관없이 틀림 \n",
    "\n",
    "여기서 특정 시간은 $O(n)$으로 실행하는 시간보다는 충분히 크고, $O(n^2)$으로 실행하는 시간 보다는 충분히 작은 시간으로 설정할 것이다. $O(n\\log n)$으로 해결했을 경우, 정답을 보장할 수 없다. `set` 또는 `dictionary` 를 이용해서 $O(n)$으로 해결해보자."
   ]
  },
  {
   "cell_type": "markdown",
   "id": "97a9fe5a",
   "metadata": {},
   "source": [
    "# P1\n",
    "\n",
    "0 이상 정수로 이루어진 리스트 `nums`와 1 이상 정수 `k`를 입력으로 받는다. \n",
    "\n",
    "리스트의 원소를 둘씩 짝지으려고 하는데, 각각의 쌍의 합이 모두 `k`로 나누어지도록 짝을 지으려 한다. 가능하면 `True`, 불가능하면 `False`를 return 하는 함수를 구현하시오.\n",
    "\n",
    "(리스트의 길이는 2 이상 짝수이다) \n",
    "\n",
    "<img src=\"./instruction-pdf-hashing1.png\" width=\"75%\" height=\"75%\">"
   ]
  },
  {
   "cell_type": "code",
   "execution_count": 2,
   "id": "faca80c8",
   "metadata": {},
   "outputs": [],
   "source": [
    "def P1(nums:List[int], k:int):\n",
    "    # 임의의 수에 대해서 k로 나누었을 때 나머지는 0 ~ k-1이다.\n",
    "    # 따라서, k로 나누어 떨어지는 짝이 있을 가능성은 다음의 두 가지이다.\n",
    "    # 나머지가 0인 수가 짝수 개인 경우\n",
    "    # 나머지 i에 대해서, k-i의 나머지를 갖는 수가 존재하고 서로 짝이 맞는 경우\n",
    "    remain = dict()\n",
    "    for n in nums:\n",
    "        r = n % k\n",
    "        if r in remain:\n",
    "            remain[r].append(n)\n",
    "        else:\n",
    "            remain[r] = [n]\n",
    "\n",
    "    for key in remain:\n",
    "        if key == 0:\n",
    "            if len(remain[key]) % 2 != 0:\n",
    "                return False\n",
    "        else:\n",
    "            if (k-key) not in remain:\n",
    "                return False\n",
    "            elif len(remain[key]) != len(remain[k-key]):\n",
    "                return False\n",
    "    return True"
   ]
  },
  {
   "cell_type": "code",
   "execution_count": 3,
   "id": "9a5b2d9e",
   "metadata": {},
   "outputs": [
    {
     "data": {
      "text/plain": [
       "True"
      ]
     },
     "execution_count": 3,
     "metadata": {},
     "output_type": "execute_result"
    }
   ],
   "source": [
    "P1([3, 7, 6, 5, 4, 5], 5)"
   ]
  },
  {
   "cell_type": "code",
   "execution_count": 4,
   "id": "93b23b8c",
   "metadata": {},
   "outputs": [
    {
     "data": {
      "text/plain": [
       "False"
      ]
     },
     "execution_count": 4,
     "metadata": {},
     "output_type": "execute_result"
    }
   ],
   "source": [
    "P1([123, 36, 54, 28, 39, 28], 3)"
   ]
  },
  {
   "cell_type": "code",
   "execution_count": 5,
   "id": "6cf6a73d",
   "metadata": {},
   "outputs": [
    {
     "data": {
      "text/plain": [
       "True"
      ]
     },
     "execution_count": 5,
     "metadata": {},
     "output_type": "execute_result"
    }
   ],
   "source": [
    "P1([123, 36, 54, 28, 39, 28], 2)"
   ]
  },
  {
   "cell_type": "markdown",
   "id": "e1fb9ec6",
   "metadata": {},
   "source": [
    "# P2\n",
    "\n",
    "0과 1로만 이루어진 리스트 `nums`를 입력으로 받는다. 0과 1의 개수가 같은 부분 리스트의 길이의 최대값을 return하는 함수를 구현하시오. 부분 리스트란, $nums[i:j],\\ i\\le j\\le len(nums)$와 같이 리스트의 연속된 일부분을 뜻한다. 그러한 부분 리스트가 없으면 0을 return하면 된다.  (리스트의 길이는 1 이상이다.)\n",
    "\n",
    "<img src=\"./instruction-pdf-hashing2.png\" width=\"75%\" height=\"75%\">"
   ]
  },
  {
   "cell_type": "code",
   "execution_count": 6,
   "id": "b8181a51",
   "metadata": {},
   "outputs": [],
   "source": [
    "from collections import Counter\n",
    "\n",
    "def P2(nums:List):\n",
    "    ## O(n^2)로 푸는 방법\n",
    "    max_cnt = -1\n",
    "    for i in range(len(nums)-1):\n",
    "        itm_max = -1\n",
    "        for j in range(i, len(nums)):\n",
    "            slce = nums[i:j]\n",
    "            cnt_dict = Counter(slce)\n",
    "            if cnt_dict[1] == 0 or cnt_dict[0] == 0:\n",
    "                cnt = 0\n",
    "            elif cnt_dict[1] == cnt_dict[0]:\n",
    "                cnt = 2 * cnt_dict[1]\n",
    "            else:\n",
    "                cnt = 2 * min(cnt_dict[1], cnt_dict[0])\n",
    "            if itm_max < cnt:\n",
    "                itm_max = cnt\n",
    "        if max_cnt < itm_max:\n",
    "            max_cnt = itm_max\n",
    "    return max_cnt"
   ]
  },
  {
   "cell_type": "code",
   "execution_count": 7,
   "id": "c757aaf9",
   "metadata": {},
   "outputs": [
    {
     "data": {
      "text/plain": [
       "4"
      ]
     },
     "execution_count": 7,
     "metadata": {},
     "output_type": "execute_result"
    }
   ],
   "source": [
    "P2([1, 1, 0, 1, 0, 1])"
   ]
  },
  {
   "cell_type": "code",
   "execution_count": 8,
   "id": "63b3a591",
   "metadata": {},
   "outputs": [
    {
     "data": {
      "text/plain": [
       "0"
      ]
     },
     "execution_count": 8,
     "metadata": {},
     "output_type": "execute_result"
    }
   ],
   "source": [
    "P2([1, 1, 1, 1, 1, 1])"
   ]
  },
  {
   "cell_type": "code",
   "execution_count": 9,
   "id": "b0b59d92",
   "metadata": {
    "scrolled": true
   },
   "outputs": [
    {
     "data": {
      "text/plain": [
       "2"
      ]
     },
     "execution_count": 9,
     "metadata": {},
     "output_type": "execute_result"
    }
   ],
   "source": [
    "P2([1, 1, 0, 1, 1, 1])"
   ]
  },
  {
   "cell_type": "code",
   "execution_count": 10,
   "id": "ee08f635",
   "metadata": {},
   "outputs": [],
   "source": [
    "## O(n)으로 푸는 방법\n",
    "def P2(nums):\n",
    "    \"\"\"\n",
    "    1. 0을 -1로 변환하고, 1은 그대로 1로 두어 누적 합을 계산합니다.\n",
    "    2. 누적 합이 같은 두 지점 사이에는 0과 1의 개수가 동일하다는 것을 의미합니다. -> 그 사이에 존재하는 숫자들의 합이 0이기 때문\n",
    "    3. 따라서 누적 합이 0인 지점까지의 길이나 누적 합이 같은 두 지점 사이의 길이를 찾아 최대 길이를 계산합니다.\n",
    "    => cum_sum이 처음 나온 위치를 저장한 뒤, 해당 cum_sum이 다시 나올 때마다 처음 나온 위치와 현재 위치 사이의 길이를 계산하는 방법\n",
    "    \"\"\"\n",
    "    # 0을 -1로 변환\n",
    "    nums = [-1 if num == 0 else 1 for num in nums]\n",
    "    \n",
    "    # 누적 합과 해당 지점의 인덱스를 저장할 딕셔너리\n",
    "    sum_to_index = {0: -1}\n",
    "    max_len = 0\n",
    "    cum_sum = 0\n",
    "    \n",
    "    for i, num in enumerate(nums):\n",
    "        cum_sum += num\n",
    "        \n",
    "        # 누적 합이 이전에 나왔던 적이 있다면, 그 지점과 현재 지점 사이의 길이를 계산\n",
    "        if cum_sum in sum_to_index:\n",
    "            max_len = max(max_len, i - sum_to_index[cum_sum])\n",
    "        else:\n",
    "            sum_to_index[cum_sum] = i\n",
    "        print(f\"{i} - cum_sum : {cum_sum}, max_len : {max_len}\")\n",
    "    print(sum_to_index)\n",
    "    \n",
    "    return max_len"
   ]
  },
  {
   "cell_type": "code",
   "execution_count": 11,
   "id": "912f5d80",
   "metadata": {},
   "outputs": [
    {
     "name": "stdout",
     "output_type": "stream",
     "text": [
      "0 - cum_sum : 1, max_len : 0\n",
      "1 - cum_sum : 2, max_len : 0\n",
      "2 - cum_sum : 1, max_len : 2\n",
      "3 - cum_sum : 2, max_len : 2\n",
      "4 - cum_sum : 1, max_len : 4\n",
      "5 - cum_sum : 2, max_len : 4\n",
      "{0: -1, 1: 0, 2: 1}\n"
     ]
    },
    {
     "data": {
      "text/plain": [
       "4"
      ]
     },
     "execution_count": 11,
     "metadata": {},
     "output_type": "execute_result"
    }
   ],
   "source": [
    "P2([1, 1, 0, 1, 0, 1])"
   ]
  },
  {
   "cell_type": "code",
   "execution_count": 12,
   "id": "a87fd2d3",
   "metadata": {},
   "outputs": [
    {
     "name": "stdout",
     "output_type": "stream",
     "text": [
      "0 - cum_sum : 1, max_len : 0\n",
      "1 - cum_sum : 2, max_len : 0\n",
      "2 - cum_sum : 3, max_len : 0\n",
      "3 - cum_sum : 4, max_len : 0\n",
      "4 - cum_sum : 5, max_len : 0\n",
      "5 - cum_sum : 6, max_len : 0\n",
      "{0: -1, 1: 0, 2: 1, 3: 2, 4: 3, 5: 4, 6: 5}\n"
     ]
    },
    {
     "data": {
      "text/plain": [
       "0"
      ]
     },
     "execution_count": 12,
     "metadata": {},
     "output_type": "execute_result"
    }
   ],
   "source": [
    "P2([1, 1, 1, 1, 1, 1])"
   ]
  },
  {
   "cell_type": "code",
   "execution_count": 13,
   "id": "91bfae4d",
   "metadata": {
    "scrolled": true
   },
   "outputs": [
    {
     "name": "stdout",
     "output_type": "stream",
     "text": [
      "0 - cum_sum : 1, max_len : 0\n",
      "1 - cum_sum : 2, max_len : 0\n",
      "2 - cum_sum : 1, max_len : 2\n",
      "3 - cum_sum : 2, max_len : 2\n",
      "4 - cum_sum : 3, max_len : 2\n",
      "5 - cum_sum : 4, max_len : 2\n",
      "{0: -1, 1: 0, 2: 1, 3: 4, 4: 5}\n"
     ]
    },
    {
     "data": {
      "text/plain": [
       "2"
      ]
     },
     "execution_count": 13,
     "metadata": {},
     "output_type": "execute_result"
    }
   ],
   "source": [
    "P2([1, 1, 0, 1, 1, 1])"
   ]
  },
  {
   "cell_type": "code",
   "execution_count": null,
   "id": "cc711586",
   "metadata": {},
   "outputs": [],
   "source": []
  },
  {
   "cell_type": "markdown",
   "id": "832e9919",
   "metadata": {},
   "source": [
    "# P3\n",
    "\n",
    "0과 1로만 이루어진 리스트 `A`, `B`를 입력으로 받는다. 다음 조건을 만족하는 부분 리스트 길이의 최대값을 return하는 함수를 구현하시오. 그러한 부분 리스트가 없으면 0을 return하면 된다. (`A`와 `B`는 길이가 1 이상이고, 길이가 서로 같다.)\n",
    "\n",
    "* 조건: `sum(A[i:j]) == sum(B[i:j]) 0<=i<=j<=len(A)`\n",
    "\n",
    "<img src=\"./instruction-pdf-hashing3.png\" width=\"75%\" height=\"75%\">"
   ]
  },
  {
   "cell_type": "code",
   "execution_count": 14,
   "id": "a43b7772",
   "metadata": {},
   "outputs": [],
   "source": [
    "## O(n^2)으로 푸는 방법\n",
    "def P3(A:List, B:List):\n",
    "    length = len(A)\n",
    "    sum_dict_A = dict()\n",
    "    max_sum_A = 0\n",
    "    for i in range(length):\n",
    "        for j in range(i, length+1):\n",
    "            sublist = A[i:j]\n",
    "            if sum(sublist) in sum_dict_A:\n",
    "                sum_dict_A[sum(sublist)].append((i, j))\n",
    "            else:\n",
    "                sum_dict_A[sum(sublist)] = [(i, j)]\n",
    "            max_sum_A = max(max_sum_A, sum(sublist))\n",
    "    \n",
    "    sum_dict_B = dict()\n",
    "    max_sum_B = 0\n",
    "    for i in range(length):\n",
    "        for j in range(i, length+1):\n",
    "            sublist = B[i:j]\n",
    "            if sum(sublist) in sum_dict_B:\n",
    "                sum_dict_B[sum(sublist)].append((i, j))\n",
    "            else:\n",
    "                sum_dict_B[sum(sublist)] = [(i, j)]\n",
    "            max_sum_B = max(max_sum_B, sum(sublist))\n",
    "    \n",
    "    if max_sum_A > max_sum_B:\n",
    "        to_iterate = sum_dict_B\n",
    "        opposite = sum_dict_A\n",
    "    else:\n",
    "        to_iterate = sum_dict_A\n",
    "        opposite = sum_dict_B\n",
    "        \n",
    "    max_len = 0\n",
    "    max_pair = None\n",
    "    for key in to_iterate:\n",
    "        if key in opposite:\n",
    "            for pair in to_iterate[key]:\n",
    "                if pair in opposite[key]:\n",
    "#                     if max_len < pair[1] - pair[0]:\n",
    "#                         max_len = pair[1] - pair[0]\n",
    "#                         max_pair = pair\n",
    "                    max_len = max(max_len, pair[1] - pair[0])\n",
    "    print(max_pair)\n",
    "    return max_len"
   ]
  },
  {
   "cell_type": "code",
   "execution_count": 15,
   "id": "3137f150",
   "metadata": {},
   "outputs": [
    {
     "name": "stdout",
     "output_type": "stream",
     "text": [
      "None\n",
      "CPU times: user 106 µs, sys: 2 µs, total: 108 µs\n",
      "Wall time: 109 µs\n"
     ]
    },
    {
     "data": {
      "text/plain": [
       "5"
      ]
     },
     "execution_count": 15,
     "metadata": {},
     "output_type": "execute_result"
    }
   ],
   "source": [
    "%%time\n",
    "A = [0, 1, 1, 0, 1, 0, 1, 1, 1]\n",
    "B = [0, 0, 0, 1, 0, 1, 0, 1, 0]\n",
    "P3(A, B)"
   ]
  },
  {
   "cell_type": "code",
   "execution_count": 16,
   "id": "39592ec9",
   "metadata": {},
   "outputs": [
    {
     "name": "stdout",
     "output_type": "stream",
     "text": [
      "None\n",
      "CPU times: user 79 µs, sys: 6 µs, total: 85 µs\n",
      "Wall time: 83 µs\n"
     ]
    },
    {
     "data": {
      "text/plain": [
       "2"
      ]
     },
     "execution_count": 16,
     "metadata": {},
     "output_type": "execute_result"
    }
   ],
   "source": [
    "%%time\n",
    "A = [0, 0, 0, 0, 0, 1]\n",
    "B = [1, 1, 1, 1, 1, 0]\n",
    "P3(A, B)"
   ]
  },
  {
   "cell_type": "code",
   "execution_count": 17,
   "id": "0555821c",
   "metadata": {},
   "outputs": [
    {
     "name": "stdout",
     "output_type": "stream",
     "text": [
      "None\n",
      "CPU times: user 73 µs, sys: 4 µs, total: 77 µs\n",
      "Wall time: 75.8 µs\n"
     ]
    },
    {
     "data": {
      "text/plain": [
       "6"
      ]
     },
     "execution_count": 17,
     "metadata": {},
     "output_type": "execute_result"
    }
   ],
   "source": [
    "%%time\n",
    "A = [0, 0, 0, 0, 0, 1]\n",
    "B = [1, 0, 0, 0, 0, 0]\n",
    "P3(A, B)"
   ]
  },
  {
   "cell_type": "code",
   "execution_count": null,
   "id": "eb19f30a",
   "metadata": {},
   "outputs": [],
   "source": []
  },
  {
   "cell_type": "code",
   "execution_count": 18,
   "id": "323d313b",
   "metadata": {},
   "outputs": [],
   "source": [
    "# O(n)으로 푸는 방법 - P2와 같은 아이디어\n",
    "def P3(A, B):\n",
    "    \"\"\"\n",
    "    1. A와 B의 누적 합을 각각 계산합니다.\n",
    "    2. 두 리스트의 누적 합의 차이를 계산합니다.\n",
    "    3. 누적 합의 차이가 같은 두 지점 사이에는 sum(A[i:j]) == sum(B[i:j])라는 조건이 만족됩니다.\n",
    "    4. 따라서 누적 합의 차이가 0인 지점까지의 길이나 누적 합의 차이가 같은 두 지점 사이의 길이를 찾아 최대 길이를 계산합니다.\n",
    "    \"\"\"\n",
    "    # 누적 합의 차이와 해당 지점의 인덱스를 저장할 딕셔너리\n",
    "    diff_to_index = {0: -1}\n",
    "    max_len = 0\n",
    "    cum_diff = 0\n",
    "    \n",
    "    for i in range(len(A)):\n",
    "        cum_diff += A[i] - B[i]\n",
    "        \n",
    "        # 누적 합의 차이가 이전에 나왔던 적이 있다면, 그 지점과 현재 지점 사이의 길이를 계산\n",
    "        if cum_diff in diff_to_index:\n",
    "            max_len = max(max_len, i - diff_to_index[cum_diff])\n",
    "        else:\n",
    "            diff_to_index[cum_diff] = i\n",
    "    \n",
    "    return max_len"
   ]
  },
  {
   "cell_type": "code",
   "execution_count": 19,
   "id": "c4d2c14d",
   "metadata": {},
   "outputs": [
    {
     "name": "stdout",
     "output_type": "stream",
     "text": [
      "CPU times: user 18 µs, sys: 1 µs, total: 19 µs\n",
      "Wall time: 19.1 µs\n"
     ]
    },
    {
     "data": {
      "text/plain": [
       "5"
      ]
     },
     "execution_count": 19,
     "metadata": {},
     "output_type": "execute_result"
    }
   ],
   "source": [
    "%%time\n",
    "A = [0, 1, 1, 0, 1, 0, 1, 1, 1]\n",
    "B = [0, 0, 0, 1, 0, 1, 0, 1, 0]\n",
    "P3(A, B)"
   ]
  },
  {
   "cell_type": "markdown",
   "id": "95e74230",
   "metadata": {},
   "source": [
    "### Explained\n",
    "\n",
    "- `i = 0`\n",
    "    - `cum_diff = A[0] - B[0] = 0`\n",
    "    - `cum_diff`가 `diff_to_index`에 있으므로 길이 업데이트 \n",
    "    - `max_len = 1`\n",
    "\n",
    "- `i = 1`\n",
    "    - `cum_diff = cum_diff + (A[1] - B[1]) = 0 + 1 = 1`\n",
    "    - `cum_diff`가 처음 나왔으므로 `diff_to_index[cum_diff] = 1`\n",
    "\n",
    "- `i = 2`\n",
    "    - `cum_diff = cum_diff + (A[2] - B[2]) = 1 + 1 = 2`\n",
    "    - `cum_diff`가 처음 나왔으므로 `diff_to_index[cum_diff] = 2`\n",
    "    \n",
    "- `i = 3`\n",
    "    - `cum_diff = cum_diff + (A[3] - B[3]) = 2 - 1 = 1`\n",
    "    - `cum_diff`가 `diff_to_index`에 있으므로 길이 업데이트\n",
    "    - `max_len = 1, i - diff_to_index[cum_diff] = 3 - 1 = 2`\n",
    "    - `max_len = 2`\n",
    "\n",
    "- `i = 4`\n",
    "    - `cum_diff = cum_diff + (A[4] - B[4]) = 1 + 1 = 2`\n",
    "    - `cum_diff`가 `diff_to_index`에 있으므로 길이 업데이트\n",
    "    - `max_len = 2, i - diff_to_index[cum_diff] = 4 - 2 = 2`\n",
    "    - `max_len = 2`\n",
    "    \n",
    "- `i = 5`\n",
    "    - `cum_diff = cum_diff + (A[5] - B[5]) = 2 - 1 = 1`\n",
    "    - `cum_diff`가 `diff_to_index`에 있으므로 길이 업데이트\n",
    "    - `max_len = 2, i - diff_to_index[cum_diff] = 5 - 1 = 4`\n",
    "    - `max_len = 4`\n",
    "    \n",
    "- `i = 6`\n",
    "    - `cum_diff = cum_diff + (A[6] - B[6]) = 1 + 1 - 0 = 2`\n",
    "    - `cum_diff`가 `diff_to_index`에 있으므로 길이 업데이트\n",
    "    - `max_len = 4, i - diff_to_index[cum_diff] = 6 - 2 = 4`\n",
    "    - `max_len = 4`\n",
    "\n",
    "- `i = 7`\n",
    "    - `cum_diff = cum_diff + (A[7] - B[7]) = 2 + 1 - 1 = 2`\n",
    "    - `cum_diff`가 `diff_to_index`에 있으므로 길이 업데이트\n",
    "    - `max_len = 4, i - diff_to_index[cum_diff] = 7 - 2 = 5`\n",
    "    - `max_len = 5`\n",
    "\n",
    "- `i = 8`\n",
    "    - `cum_diff = cum_diff + (A[8] - B[8]) = 2 + 1 - 0 = 3`\n",
    "    - `cum_diff`가 처음 나왔으므로 `diff_to_index[cum_diff] = 8`\n",
    "    \n",
    "$\\therefore$ `max_len = 5`"
   ]
  },
  {
   "cell_type": "code",
   "execution_count": 20,
   "id": "a92090f0",
   "metadata": {},
   "outputs": [
    {
     "name": "stdout",
     "output_type": "stream",
     "text": [
      "CPU times: user 16 µs, sys: 1 µs, total: 17 µs\n",
      "Wall time: 17.9 µs\n"
     ]
    },
    {
     "data": {
      "text/plain": [
       "2"
      ]
     },
     "execution_count": 20,
     "metadata": {},
     "output_type": "execute_result"
    }
   ],
   "source": [
    "%%time\n",
    "A = [0, 0, 0, 0, 0, 1]\n",
    "B = [1, 1, 1, 1, 1, 0]\n",
    "P3(A, B)"
   ]
  },
  {
   "cell_type": "code",
   "execution_count": 21,
   "id": "56ccf158",
   "metadata": {},
   "outputs": [
    {
     "name": "stdout",
     "output_type": "stream",
     "text": [
      "CPU times: user 17 µs, sys: 0 ns, total: 17 µs\n",
      "Wall time: 19.1 µs\n"
     ]
    },
    {
     "data": {
      "text/plain": [
       "6"
      ]
     },
     "execution_count": 21,
     "metadata": {},
     "output_type": "execute_result"
    }
   ],
   "source": [
    "%%time\n",
    "A = [0, 0, 0, 0, 0, 1]\n",
    "B = [1, 0, 0, 0, 0, 0]\n",
    "P3(A, B)"
   ]
  },
  {
   "cell_type": "markdown",
   "id": "440cd171",
   "metadata": {},
   "source": [
    "# P4\n",
    "\n",
    "정수로 이루어진 리스트 `nums`를 입력으로 받는다. 여기서 몇 개의 수를 뽑는데, 뽑은 수들이 연속적이어야 한다 (순서는 상관없음). 뽑을 수 있는 최대 개수를 return하는 함수를 구현하시오. (리스트의 길이는 1 이상이다. 리스트 내 숫자는 중복되지 않는다.)\n",
    "\n",
    "```py\n",
    ">>> P4([3, 6, 4, 64, 10, 29, 5, 9, 11]) \n",
    "4\n",
    "```\n",
    "설명: 3, 6, 4, 5를 뽑으면 연속된 4개의 정수가 된다. 뽑는 방법은 여러가지일 수 있고, 최대 개수만 return 하면 된다. \n",
    "\n",
    "```py\n",
    ">>> P4([-1, 5, 2, -6, 8]) \n",
    "1 \n",
    "\n",
    ">>> P4([-3, 2, 0, 1, -2, -1]) \n",
    "6\n",
    "```"
   ]
  },
  {
   "cell_type": "code",
   "execution_count": 22,
   "id": "69898711",
   "metadata": {},
   "outputs": [],
   "source": [
    "def P4(nums:List[int]):\n",
    "    # sort the list first\n",
    "    nums.sort()\n",
    "    \n",
    "    # get the difference list\n",
    "    diffs = [nums[i+1] - nums[i] for i in range(len(nums)-1)]\n",
    "    \n",
    "    # count the number of consecutive numbers\n",
    "    cnt = 1\n",
    "    max_cnt = 1\n",
    "    for item in diffs:\n",
    "        if item == 1:\n",
    "            cnt += 1\n",
    "        else:\n",
    "            # 현재까지 나온 consecutive number의 개수를 저장해놓고, 1로 reset\n",
    "            max_cnt = max(max_cnt, cnt)\n",
    "            cnt = 1\n",
    "\n",
    "    # 여태 나온 consecutive number 가운데 최댓값\n",
    "    max_cnt = max(max_cnt, cnt)\n",
    "    return max_cnt"
   ]
  },
  {
   "cell_type": "code",
   "execution_count": 23,
   "id": "49826fe3",
   "metadata": {},
   "outputs": [
    {
     "name": "stdout",
     "output_type": "stream",
     "text": [
      "CPU times: user 7 µs, sys: 1 µs, total: 8 µs\n",
      "Wall time: 8.82 µs\n"
     ]
    },
    {
     "data": {
      "text/plain": [
       "4"
      ]
     },
     "execution_count": 23,
     "metadata": {},
     "output_type": "execute_result"
    }
   ],
   "source": [
    "%%time\n",
    "P4([3, 6, 4, 64, 10, 29, 5, 9, 11]) "
   ]
  },
  {
   "cell_type": "code",
   "execution_count": 24,
   "id": "e2eacc10",
   "metadata": {},
   "outputs": [
    {
     "name": "stdout",
     "output_type": "stream",
     "text": [
      "CPU times: user 6 µs, sys: 1 µs, total: 7 µs\n",
      "Wall time: 7.87 µs\n"
     ]
    },
    {
     "data": {
      "text/plain": [
       "1"
      ]
     },
     "execution_count": 24,
     "metadata": {},
     "output_type": "execute_result"
    }
   ],
   "source": [
    "%%time\n",
    "P4([-1, 5, 2, -6, 8]) "
   ]
  },
  {
   "cell_type": "code",
   "execution_count": 25,
   "id": "ef3ee734",
   "metadata": {},
   "outputs": [
    {
     "name": "stdout",
     "output_type": "stream",
     "text": [
      "CPU times: user 6 µs, sys: 1 µs, total: 7 µs\n",
      "Wall time: 8.11 µs\n"
     ]
    },
    {
     "data": {
      "text/plain": [
       "6"
      ]
     },
     "execution_count": 25,
     "metadata": {},
     "output_type": "execute_result"
    }
   ],
   "source": [
    "%%time\n",
    "P4([-3, 2, 0, 1, -2, -1]) "
   ]
  },
  {
   "cell_type": "code",
   "execution_count": 26,
   "id": "00592a0e",
   "metadata": {},
   "outputs": [],
   "source": [
    "def P4(nums: list) -> int:\n",
    "\n",
    "    ### Write code here ###\n",
    "    maxLen = 0\n",
    "    s = set(nums)\n",
    "    \n",
    "    for num in nums:\n",
    "        \n",
    "        if num - 1 not in s:\n",
    "            next = num\n",
    "\n",
    "            while next in s:\n",
    "                next += 1\n",
    "            \n",
    "            maxLen = max(maxLen, next - num)\n",
    "\n",
    "    return maxLen\n",
    "    ### End of your code ###  "
   ]
  },
  {
   "cell_type": "code",
   "execution_count": 27,
   "id": "624214fa",
   "metadata": {},
   "outputs": [
    {
     "name": "stdout",
     "output_type": "stream",
     "text": [
      "CPU times: user 5 µs, sys: 1 µs, total: 6 µs\n",
      "Wall time: 7.87 µs\n"
     ]
    },
    {
     "data": {
      "text/plain": [
       "4"
      ]
     },
     "execution_count": 27,
     "metadata": {},
     "output_type": "execute_result"
    }
   ],
   "source": [
    "%%time\n",
    "P4([3, 6, 4, 64, 10, 29, 5, 9, 11]) "
   ]
  },
  {
   "cell_type": "code",
   "execution_count": 28,
   "id": "1b3a3eb4",
   "metadata": {},
   "outputs": [
    {
     "name": "stdout",
     "output_type": "stream",
     "text": [
      "CPU times: user 6 µs, sys: 1 µs, total: 7 µs\n",
      "Wall time: 7.87 µs\n"
     ]
    },
    {
     "data": {
      "text/plain": [
       "1"
      ]
     },
     "execution_count": 28,
     "metadata": {},
     "output_type": "execute_result"
    }
   ],
   "source": [
    "%%time\n",
    "P4([-1, 5, 2, -6, 8]) "
   ]
  },
  {
   "cell_type": "code",
   "execution_count": 29,
   "id": "a536d907",
   "metadata": {},
   "outputs": [
    {
     "name": "stdout",
     "output_type": "stream",
     "text": [
      "CPU times: user 5 µs, sys: 1 µs, total: 6 µs\n",
      "Wall time: 7.87 µs\n"
     ]
    },
    {
     "data": {
      "text/plain": [
       "6"
      ]
     },
     "execution_count": 29,
     "metadata": {},
     "output_type": "execute_result"
    }
   ],
   "source": [
    "%%time\n",
    "P4([-3, 2, 0, 1, -2, -1]) "
   ]
  },
  {
   "cell_type": "code",
   "execution_count": null,
   "id": "36404595",
   "metadata": {},
   "outputs": [],
   "source": []
  }
 ],
 "metadata": {
  "kernelspec": {
   "display_name": "Python 3 (ipykernel)",
   "language": "python",
   "name": "python3"
  },
  "language_info": {
   "codemirror_mode": {
    "name": "ipython",
    "version": 3
   },
   "file_extension": ".py",
   "mimetype": "text/x-python",
   "name": "python",
   "nbconvert_exporter": "python",
   "pygments_lexer": "ipython3",
   "version": "3.9.16"
  }
 },
 "nbformat": 4,
 "nbformat_minor": 5
}
