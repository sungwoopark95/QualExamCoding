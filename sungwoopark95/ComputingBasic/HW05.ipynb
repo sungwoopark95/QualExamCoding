{
 "cells": [
  {
   "cell_type": "markdown",
   "id": "4d38e4c8",
   "metadata": {},
   "source": [
    "# P1\n",
    "\n",
    "주어진 alkaline_metals.txt의 파일을 불러오고, list of lists 형태로 파일의 내용을 return하는 함수를 작성하여라. \n",
    "\n",
    "단, 아래 조건을 만족한다.  \n",
    "\n",
    "(1) 각 Inner list는 각 행을 [원자이름, 원자번호, 원자량] 형태로 저장한다. \n",
    "\n",
    "(2) (1)에서 만든 모든 리스트를 원소로 갖는 list of lists가 P1 함수의 최종 return값이 된다.  "
   ]
  },
  {
   "cell_type": "code",
   "execution_count": 1,
   "id": "251856b2",
   "metadata": {},
   "outputs": [],
   "source": [
    "def P1(fname:str):\n",
    "    with open(fname, 'r') as f:\n",
    "        lines = f.readlines() # line들을 list 형태로 저장\n",
    "    for i, item in enumerate(lines):\n",
    "        lines[i] = item.strip().split(' ')\n",
    "    return lines"
   ]
  },
  {
   "cell_type": "code",
   "execution_count": 2,
   "id": "c5fd09b3",
   "metadata": {},
   "outputs": [
    {
     "data": {
      "text/plain": [
       "[['beryllium', '4', '9.012'],\n",
       " ['magnesium', '12', '24.305'],\n",
       " ['calcium', '20', '20.078'],\n",
       " ['strontium', '38', '87.62'],\n",
       " ['barium', '56', '137.327'],\n",
       " ['radium', '88', '226']]"
      ]
     },
     "execution_count": 2,
     "metadata": {},
     "output_type": "execute_result"
    }
   ],
   "source": [
    "P1('alkaline_metals.txt')"
   ]
  },
  {
   "cell_type": "markdown",
   "id": "fcd2fee4",
   "metadata": {},
   "source": [
    "# P2\n",
    "\n",
    "임의의 txt파일이 주어질 때, 해당 파일을 읽어와 각 행을 반대 순서로 리스트에 저장하고 해당 리스트를 return하는 함수를 작성하여라."
   ]
  },
  {
   "cell_type": "code",
   "execution_count": 3,
   "id": "a1c4936b",
   "metadata": {},
   "outputs": [],
   "source": [
    "def P2(fname:str):\n",
    "    with open(fname, 'r') as f:\n",
    "        lines = f.readlines()\n",
    "    lines.reverse()\n",
    "    return lines"
   ]
  },
  {
   "cell_type": "code",
   "execution_count": 4,
   "id": "9b7e1ae4",
   "metadata": {},
   "outputs": [
    {
     "data": {
      "text/plain": [
       "['radium 88 226',\n",
       " 'barium 56 137.327\\n',\n",
       " 'strontium 38 87.62\\n',\n",
       " 'calcium 20 20.078\\n',\n",
       " 'magnesium 12 24.305\\n',\n",
       " 'beryllium 4 9.012\\n']"
      ]
     },
     "execution_count": 4,
     "metadata": {},
     "output_type": "execute_result"
    }
   ],
   "source": [
    "P2('alkaline_metals.txt')"
   ]
  },
  {
   "cell_type": "markdown",
   "id": "75ee56a3",
   "metadata": {},
   "source": [
    "# P3\n",
    "임의의 txt파일이 주어질 때, 파일을 불러온 뒤 다음 조건에 맞는 list를 return하는 함수를 작성하여라. \n",
    "\n",
    "(1) 각 행을 읽은 순서대로 하나의 list에 추가한다. \n",
    "\n",
    "(2) 단, ‘#’나 ‘//’로 시작하는 행은 주석으로 취급하여 추가하지 않는다. "
   ]
  },
  {
   "cell_type": "code",
   "execution_count": 5,
   "id": "2f05cecf",
   "metadata": {},
   "outputs": [],
   "source": [
    "## startswith\n",
    "def P3(fname:str):\n",
    "    ans = []\n",
    "    with open(fname, 'r') as f:\n",
    "        line = f.readline()\n",
    "        while line:\n",
    "            if line.startswith('#') or line.startswith('//'):\n",
    "                line = f.readline()\n",
    "                continue\n",
    "            ans.append(line)\n",
    "            line = f.readline()\n",
    "    return ans"
   ]
  },
  {
   "cell_type": "code",
   "execution_count": 6,
   "id": "60f9189b",
   "metadata": {},
   "outputs": [
    {
     "data": {
      "text/plain": [
       "['beryllium 4 9.012\\n',\n",
       " 'magnesium 12 24.305\\n',\n",
       " 'calcium 20 20.078 #Good for your health\\n',\n",
       " 'strontium 38 87.62\\n',\n",
       " 'barium 56 137.327 // It is heavy\\n',\n",
       " 'radium 88 226']"
      ]
     },
     "execution_count": 6,
     "metadata": {},
     "output_type": "execute_result"
    }
   ],
   "source": [
    "P3('alkaline_metals2.txt')"
   ]
  },
  {
   "cell_type": "code",
   "execution_count": 7,
   "id": "230c8fb3",
   "metadata": {},
   "outputs": [],
   "source": [
    "## readlines\n",
    "def P3_2(fname:str):\n",
    "    with open(fname, 'r') as f:\n",
    "        lines = f.readlines()\n",
    "    ans = []\n",
    "    for line in lines:\n",
    "        if line[0] == '#' or line[:2] == '//':\n",
    "            continue\n",
    "        else:\n",
    "            ans.append(line)\n",
    "    return ans"
   ]
  },
  {
   "cell_type": "code",
   "execution_count": 8,
   "id": "bf0daf13",
   "metadata": {},
   "outputs": [
    {
     "data": {
      "text/plain": [
       "['beryllium 4 9.012\\n',\n",
       " 'magnesium 12 24.305\\n',\n",
       " 'calcium 20 20.078 #Good for your health\\n',\n",
       " 'strontium 38 87.62\\n',\n",
       " 'barium 56 137.327 // It is heavy\\n',\n",
       " 'radium 88 226']"
      ]
     },
     "execution_count": 8,
     "metadata": {},
     "output_type": "execute_result"
    }
   ],
   "source": [
    "P3_2('alkaline_metals2.txt')"
   ]
  },
  {
   "cell_type": "markdown",
   "id": "b72e8a3a",
   "metadata": {},
   "source": [
    "# P4\n",
    "\n",
    "임의의 txt파일이 주어질 때, 파일을 불러온 뒤 다음 조건에 맞는 list를 return하는 함수를 작성하여라. \n",
    "\n",
    "(1) 각 행을 읽은 순서대로 하나의 list에 추가한다. \n",
    "\n",
    "(2) 단, ‘#’나 ‘//’ 뒤의 문자들은 주석으로 취급하여 추가하지 않는다. \n",
    "\n",
    "(3) 각 행의 맨 앞과 맨 뒤, 즉 양 끝에 있는 white space 문자는 삭제한다.  주어진 alkaline_metals2.txt 파일을 활용한 예시는 다음과 같다. "
   ]
  },
  {
   "cell_type": "code",
   "execution_count": 9,
   "id": "e17d7423",
   "metadata": {},
   "outputs": [],
   "source": [
    "## readlines\n",
    "def P4(fname:str):\n",
    "    with open(fname, 'r') as f:\n",
    "        lines = f.readlines()\n",
    "    ans = []\n",
    "    for line in lines:\n",
    "        line = line.strip()\n",
    "        if '#' in line:\n",
    "            line = line.split('#')[0].strip()\n",
    "        if '//' in line:\n",
    "            line = line.split('//')[0].strip()\n",
    "        if len(line) > 0:\n",
    "            ans.append(line)\n",
    "    return ans"
   ]
  },
  {
   "cell_type": "code",
   "execution_count": 10,
   "id": "15d65fd5",
   "metadata": {},
   "outputs": [
    {
     "data": {
      "text/plain": [
       "['beryllium 4 9.012',\n",
       " 'magnesium 12 24.305',\n",
       " 'calcium 20 20.078',\n",
       " 'strontium 38 87.62',\n",
       " 'barium 56 137.327',\n",
       " 'radium 88 226']"
      ]
     },
     "execution_count": 10,
     "metadata": {},
     "output_type": "execute_result"
    }
   ],
   "source": [
    "P4('alkaline_metals2.txt')"
   ]
  },
  {
   "cell_type": "markdown",
   "id": "d74c6a7e",
   "metadata": {},
   "source": [
    "# P5\n",
    "\n",
    "임의의 txt 파일이 주어질 때, 해당 파일에서 가장 긴 단어의 길이(int)를 return하는 함수를 작성하여라.  \n",
    "\n",
    "※ 단어는 공백(‘ ’) 또는 개행문자(\\n)로 구분된다. \n",
    "\n",
    "※ ‘ ‘, ‘\\n’ 이외의 white space 문자는 존재하지 않는다. (ex. ‘ ‘, ‘ ‘, ‘\\t’ 등)  ※ 파일에는 적어도 한 개의 단어가 있으며, 숫자는 존재하지 않는다. (한글 혹은 영어만 존재함) "
   ]
  },
  {
   "cell_type": "code",
   "execution_count": 11,
   "id": "e21b6eb1",
   "metadata": {},
   "outputs": [],
   "source": [
    "def P5(fname:str):\n",
    "    with open(fname, 'r') as f:\n",
    "        lines = [line.strip() for line in f.readlines()]\n",
    "    maxlen = -1\n",
    "    for line in lines:\n",
    "        for item in line.split(' '):\n",
    "            if maxlen < len(item):\n",
    "                maxlen = len(item)\n",
    "    return maxlen"
   ]
  },
  {
   "cell_type": "code",
   "execution_count": 12,
   "id": "fdb5629d",
   "metadata": {},
   "outputs": [
    {
     "data": {
      "text/plain": [
       "9"
      ]
     },
     "execution_count": 12,
     "metadata": {},
     "output_type": "execute_result"
    }
   ],
   "source": [
    "P5('alkaline_metals.txt')"
   ]
  },
  {
   "cell_type": "markdown",
   "id": "8ee15aea",
   "metadata": {},
   "source": [
    "# P6\n",
    "\n",
    "임의의 txt 파일이 주어질 때, 주어진 파일과 다른 구분자를 갖는 텍스트 파일을 새롭게 생성하는 함수를 작성하여라. 단, 다음과 같은 조건을 만족한다. \n",
    "\n",
    "(1) input 파일의 구분자는 공백문자이다. (‘ ‘)  \n",
    "\n",
    "(2) output 파일의 구분자는 콤마이다. (‘,’) \n",
    "\n",
    "(3) output 파일의 구분자 (콤마) 앞, 뒤로 공백은 없다. \n",
    "\n",
    "(4) input 파일에는 연속적인 공백문자는 등장하지 않는다. (ex. ‘ ‘, ‘ ‘, ‘ ‘ 등) \n",
    "\n",
    "(5) 함수의 return 값은 없다.  \n",
    "\n",
    "주어진 alkaline_metals.txt를 input 파일로 활용한 output.txt 파일의 예시는 과제 폴더에 함께 첨부되어 있다. "
   ]
  },
  {
   "cell_type": "code",
   "execution_count": 15,
   "id": "de837bde",
   "metadata": {},
   "outputs": [],
   "source": [
    "def P6(in_fname:str, out_fname:str):\n",
    "    with open(in_fname, 'r') as infile:\n",
    "        lines = [line.strip() for line in infile.readlines()]\n",
    "    with open(out_fname, 'w') as outfile:\n",
    "        for line in lines:\n",
    "            outfile.write(','.join(line.split(' ')))\n",
    "            outfile.write('\\n')"
   ]
  },
  {
   "cell_type": "code",
   "execution_count": 16,
   "id": "e10a1e81",
   "metadata": {},
   "outputs": [],
   "source": [
    "P6('alkaline_metals.txt', 'output.txt')"
   ]
  },
  {
   "cell_type": "code",
   "execution_count": null,
   "id": "92f22963",
   "metadata": {},
   "outputs": [],
   "source": []
  }
 ],
 "metadata": {
  "kernelspec": {
   "display_name": "Python 3 (ipykernel)",
   "language": "python",
   "name": "python3"
  },
  "language_info": {
   "codemirror_mode": {
    "name": "ipython",
    "version": 3
   },
   "file_extension": ".py",
   "mimetype": "text/x-python",
   "name": "python",
   "nbconvert_exporter": "python",
   "pygments_lexer": "ipython3",
   "version": "3.10.12"
  }
 },
 "nbformat": 4,
 "nbformat_minor": 5
}
