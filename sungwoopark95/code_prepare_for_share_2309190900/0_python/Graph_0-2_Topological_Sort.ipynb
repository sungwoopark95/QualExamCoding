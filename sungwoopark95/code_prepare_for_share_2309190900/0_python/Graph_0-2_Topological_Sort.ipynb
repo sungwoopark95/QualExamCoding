{
 "cells": [
  {
   "cell_type": "markdown",
   "metadata": {},
   "source": [
    "# Topological Sort For DAG(Directed Acyclic Graph)"
   ]
  },
  {
   "cell_type": "markdown",
   "metadata": {},
   "source": [
    "> # Graph Class"
   ]
  },
  {
   "cell_type": "code",
   "execution_count": 15,
   "metadata": {},
   "outputs": [],
   "source": [
    "from collections import defaultdict\n",
    "\n",
    "class Graph:\n",
    "    def __init__(self, num_vertices):\n",
    "        self.graph = defaultdict(list) #찾는 키가 없어도 에러가 나지 않는 dictionary\n",
    "        self.num_vertices = num_vertices\n",
    "        self.time_stamp=0\n",
    "        self.time_start=[0]*num_vertices\n",
    "        self.time_end=[0]*num_vertices\n",
    "\n",
    "    def add_edge(self, u, v):\n",
    "        self.graph[u].append(v)\n",
    "\n",
    "    def topological_sort_util(self, v, visited, stack):\n",
    "        \n",
    "        visited[v] = True\n",
    "        self.time_stamp+=1\n",
    "        self.time_start[v]=self.time_stamp\n",
    "        print(f\"visit ({v})\")\n",
    "        for i in self.graph[v]:\n",
    "            if not visited[i]:\n",
    "                self.topological_sort_util(i, visited, stack)\n",
    "        stack.insert(0, v)\n",
    "        self.time_stamp+=1\n",
    "        self.time_end[v]=self.time_stamp\n",
    "\n",
    "        print(f\"{v} is inserted into stack. stack : {stack}\")\n",
    "\n",
    "    def topological_sort(self):\n",
    "        visited = [False]*self.num_vertices\n",
    "        stack = []\n",
    "        for i in range(self.num_vertices):\n",
    "        # for i in [3,1,4,5,0]:\n",
    "            if not visited[i]:\n",
    "                self.topological_sort_util(i, visited, stack)\n",
    "        return stack\n"
   ]
  },
  {
   "cell_type": "markdown",
   "metadata": {},
   "source": [
    "5 --> 0 <-- 4 --> 1 --> 2 <-- 3"
   ]
  },
  {
   "cell_type": "code",
   "execution_count": 16,
   "metadata": {},
   "outputs": [
    {
     "name": "stdout",
     "output_type": "stream",
     "text": [
      "Topological Sort:\n",
      "visit (0)\n",
      "0 is inserted into stack. stack : [0]\n",
      "visit (1)\n",
      "visit (2)\n",
      "2 is inserted into stack. stack : [2, 0]\n",
      "1 is inserted into stack. stack : [1, 2, 0]\n",
      "visit (3)\n",
      "3 is inserted into stack. stack : [3, 1, 2, 0]\n",
      "visit (4)\n",
      "4 is inserted into stack. stack : [4, 3, 1, 2, 0]\n",
      "visit (5)\n",
      "5 is inserted into stack. stack : [5, 4, 3, 1, 2, 0]\n",
      "[5, 4, 3, 1, 2, 0]\n",
      "\n",
      "[1, 3, 4, 7, 9, 11]\n",
      "[2, 6, 5, 8, 10, 12]\n"
     ]
    }
   ],
   "source": [
    "# Graph 클래스 인스턴스 생성\n",
    "g = Graph(6)\n",
    "\n",
    "# 에지 추가\n",
    "g.add_edge(5, 0)\n",
    "g.add_edge(4, 0)\n",
    "g.add_edge(4, 1)\n",
    "g.add_edge(1, 2)\n",
    "g.add_edge(3, 2)\n",
    "\n",
    "# 위상 정렬 실행 및 결과 출력\n",
    "print(\"Topological Sort:\")\n",
    "print(g.topological_sort())\n",
    "\n",
    "print()\n",
    "print(g.time_start)\n",
    "print(g.time_end)"
   ]
  },
  {
   "cell_type": "markdown",
   "metadata": {},
   "source": []
  }
 ],
 "metadata": {
  "kernelspec": {
   "display_name": "base",
   "language": "python",
   "name": "python3"
  },
  "language_info": {
   "codemirror_mode": {
    "name": "ipython",
    "version": 3
   },
   "file_extension": ".py",
   "mimetype": "text/x-python",
   "name": "python",
   "nbconvert_exporter": "python",
   "pygments_lexer": "ipython3",
   "version": "3.9.12"
  },
  "orig_nbformat": 4
 },
 "nbformat": 4,
 "nbformat_minor": 2
}
