{
 "cells": [
  {
   "cell_type": "markdown",
   "metadata": {},
   "source": [
    "# Bellman-Ford Algorithm\n",
    "> Graph Data Format\n",
    ">> Node = 0~N-1  \n",
    ">> Edge = (start_node, end_node, weight)"
   ]
  },
  {
   "cell_type": "code",
   "execution_count": 15,
   "metadata": {},
   "outputs": [
    {
     "name": "stdout",
     "output_type": "stream",
     "text": [
      "(0)->(0) distance=(0)\t(0)\n",
      "(0)->(1) distance=(3)\t(0)->(1)\n",
      "(0)->(2) distance=(inf)\t(-1) No path.\n"
     ]
    }
   ],
   "source": [
    "from typing import Tuple, List\n",
    "class Graph :\n",
    "    def __init__(self, N:int, M:int, edge : List[Tuple[int, int, int]]) :\n",
    "        self.num_vertex=N # vertices correspond to 0~N-1\n",
    "        self.num_edge=M\n",
    "        self.edge=edge #List[Tuple[int, int, int]]\n",
    "        self.dist=[] #to record distance\n",
    "        self.predecessor=[] #to record predecessor in the path\n",
    "\n",
    "    def initialize_single_source(self, source:int) :\n",
    "        self.dist=[float('inf')]*self.num_vertex #to record distance\n",
    "        self.predecessor=[None]*self.num_vertex #to record predecessor in the path\n",
    "        self.dist[source]=0#source point distance=0\n",
    "\n",
    "    # #function to map name int to idx int\n",
    "    # def idx(self, name:int):\n",
    "    #     return (name-1)\n",
    "\n",
    "    def relax(self, u:int, v:int, weight_from_u_to_v:int) :\n",
    "        if self.dist[v]>self.dist[u]+weight_from_u_to_v :\n",
    "            self.dist[v]=self.dist[u]+weight_from_u_to_v\n",
    "            self.predecessor[v]=u\n",
    "\n",
    "    def add_edge(self, edge : Tuple[int, int, int]) :\n",
    "        self.edge.append(edge)\n",
    "        self.num_edge+=1\n",
    "\n",
    "    def print_path(self, start:int, end:int) :\n",
    "        if start==end :\n",
    "            print(f'({start})', end=\"\")\n",
    "        elif self.predecessor[end]==None :\n",
    "            print(f'(-1) No path.', end=\"\")\n",
    "        else :\n",
    "            self.print_path(start, self.predecessor[end])\n",
    "            print(f'->({end})', end=\"\")        \n",
    "\n",
    "\n",
    "    def bellman_ford_alg(self, source:int) :\n",
    "        self.initialize_single_source(source)\n",
    "        for i in range(self.num_vertex-1) :\n",
    "            for (start, end, weight) in self.edge :\n",
    "                self.relax(start, end, weight)\n",
    "        for (start, end, weight) in self.edge :\n",
    "            if self.dist[end] > self.dist[start]+weight :\n",
    "                return -1\n",
    "        # for i in range(self.num_vertex) :\n",
    "        #     print(self.dist[i])\n",
    "        for i in range(self.num_vertex) :\n",
    "            print(f'({source})->({i}) distance=({self.dist[i]})\\t',end=\"\")\n",
    "            self.print_path(source, i)\n",
    "            print()\n",
    "\n",
    "\n",
    "#input은 index 시작이 1부터임\n",
    "input=\"\"\"3 4\n",
    "1 2 4\n",
    "1 3 3\n",
    "2 3 -1\n",
    "3 1 -2\"\"\"\n",
    "input=\"\"\"3 4\n",
    "1 2 4\n",
    "1 3 3\n",
    "2 3 -4\n",
    "3 1 -2\"\"\"\n",
    "input=\"\"\"3 2\n",
    "1 2 4\n",
    "1 2 3\"\"\"\n",
    "lines=input.splitlines()\n",
    "n, m = map(int, lines[0].split())\n",
    "edge=[]\n",
    "for i in range(1, m+1, 1) :\n",
    "    a, b, c = map(int, lines[i].split())\n",
    "    edge.append((a-1, b-1, c)) # 0-indexed로 바꾸어 다뤄주기\n",
    "graph=Graph(n, m, edge)\n",
    "graph.bellman_ford_alg(0)\n",
    "\n",
    "\n",
    "# #py파일용\n",
    "# if __name__ == \"__main__\":\n",
    "#     n, m = map(int, input().split())\n",
    "#     edge = []\n",
    "    \n",
    "#     for _ in range(m):\n",
    "#         # start, end, weight = map(int, input().split())\n",
    "#         # edge.append((start,end,weight))\n",
    "#         edge.append((map(int, input().split())))\n",
    "    \n",
    "#     graph=Graph(n, m, edge)\n",
    "#     graph.bellman_ford_alg(1)\n"
   ]
  },
  {
   "cell_type": "code",
   "execution_count": 7,
   "metadata": {},
   "outputs": [
    {
     "name": "stdout",
     "output_type": "stream",
     "text": [
      "['3 4', '1 2 4', '1 3 3', '2 3 -1', '3 1 -2']\n",
      "3 4\n",
      "3\n",
      "1\n",
      "-2\n"
     ]
    }
   ],
   "source": [
    "input=\"\"\"3 4\n",
    "1 2 4\n",
    "1 3 3\n",
    "2 3 -1\n",
    "3 1 -2\n",
    "\"\"\"\n",
    "lines=input.splitlines()\n",
    "print(lines)\n",
    "n, m = map(int, lines[0].split())\n",
    "print(n, m)\n",
    "\n",
    "\n",
    "a, b, c = map(int, lines[4].split())\n",
    "print(a)\n",
    "print(b)\n",
    "print(c)\n"
   ]
  },
  {
   "cell_type": "code",
   "execution_count": null,
   "metadata": {},
   "outputs": [],
   "source": []
  }
 ],
 "metadata": {
  "kernelspec": {
   "display_name": "base",
   "language": "python",
   "name": "python3"
  },
  "language_info": {
   "codemirror_mode": {
    "name": "ipython",
    "version": 3
   },
   "file_extension": ".py",
   "mimetype": "text/x-python",
   "name": "python",
   "nbconvert_exporter": "python",
   "pygments_lexer": "ipython3",
   "version": "3.9.12"
  },
  "orig_nbformat": 4
 },
 "nbformat": 4,
 "nbformat_minor": 2
}
