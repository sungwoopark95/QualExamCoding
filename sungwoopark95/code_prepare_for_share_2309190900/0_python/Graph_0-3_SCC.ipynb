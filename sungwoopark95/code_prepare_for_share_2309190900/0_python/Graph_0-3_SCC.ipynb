{
 "cells": [
  {
   "cell_type": "markdown",
   "metadata": {},
   "source": [
    "# Strongly Connected Component For Directed Graph"
   ]
  },
  {
   "cell_type": "code",
   "execution_count": 2,
   "metadata": {},
   "outputs": [
    {
     "name": "stdout",
     "output_type": "stream",
     "text": [
      "Strongly Connected Components:\n",
      "['b', 'c', 'a']\n",
      "['e', 'f', 'd']\n",
      "Strongly Connected Components:\n",
      "['b', 'e', 'a']\n",
      "['d', 'c']\n",
      "['f', 'g']\n",
      "['h']\n"
     ]
    }
   ],
   "source": [
    "from collections import defaultdict\n",
    "\n",
    "class Graph:\n",
    "    def __init__(self):\n",
    "        self.graph = defaultdict(list)\n",
    "\n",
    "    def add_edge(self, u, v):\n",
    "        self.graph[u].append(v)\n",
    "\n",
    "    def dfs(self, v, visited, stack):\n",
    "        visited[v] = True\n",
    "        for i in self.graph[v]:\n",
    "            if not visited[i]:\n",
    "                self.dfs(i, visited, stack)\n",
    "        stack.append(v) # stack은 toplogical sort의 역순으로 정리되게 됨\n",
    "\n",
    "    def get_inverse(self):\n",
    "        inverse_graph = Graph()\n",
    "        for u in self.graph:\n",
    "            for v in self.graph[u]:\n",
    "                inverse_graph.add_edge(v, u)\n",
    "        return inverse_graph\n",
    "\n",
    "    def find_scc(self):\n",
    "        stack = []\n",
    "        visited = {v: False for v in self.graph}\n",
    "        for v in self.graph:\n",
    "            if not visited[v]:\n",
    "                self.dfs(v, visited, stack)\n",
    "\n",
    "        inverse_graph = self.get_inverse()\n",
    "        visited = {v: False for v in self.graph}\n",
    "        scc_list = []\n",
    "\n",
    "        while stack: #dfs in reverse topological order\n",
    "            v = stack.pop() # 원래 그래프에서 제일 나중에 완료했던 node 순으로 출력됨\n",
    "            if not visited[v]:\n",
    "                scc = []\n",
    "                inverse_graph.dfs(v, visited, scc)\n",
    "                scc_list.append(scc)\n",
    "\n",
    "        return scc_list\n",
    "\n",
    "# 그래프 생성 및 간선 추가 예제\n",
    "g = Graph()\n",
    "g.add_edge('a', 'b')\n",
    "g.add_edge('b', 'c')\n",
    "g.add_edge('c', 'a')\n",
    "g.add_edge('b', 'd')\n",
    "g.add_edge('d', 'e')\n",
    "g.add_edge('e', 'f')\n",
    "g.add_edge('f', 'd')\n",
    "\n",
    "scc_result = g.find_scc()\n",
    "print(\"Strongly Connected Components:\")\n",
    "for component in scc_result:\n",
    "    print(component)\n",
    "\n",
    "\n",
    "# 그래프 생성 및 간선 추가 예제\n",
    "g = Graph()\n",
    "g.add_edge('a', 'b')\n",
    "g.add_edge('b', 'c')\n",
    "g.add_edge('c', 'd')\n",
    "g.add_edge('d', 'c')\n",
    "g.add_edge('e', 'a')\n",
    "g.add_edge('b', 'e')\n",
    "g.add_edge('b', 'f')\n",
    "g.add_edge('c', 'g')\n",
    "g.add_edge('d', 'h')\n",
    "g.add_edge('e', 'f')\n",
    "g.add_edge('f', 'g')\n",
    "g.add_edge('g', 'f')\n",
    "g.add_edge('g', 'h')\n",
    "g.add_edge('h', 'h')\n",
    "\n",
    "\n",
    "\n",
    "scc_result = g.find_scc()\n",
    "print(\"Strongly Connected Components:\")\n",
    "for component in scc_result:\n",
    "    print(component)\n"
   ]
  },
  {
   "cell_type": "code",
   "execution_count": null,
   "metadata": {},
   "outputs": [],
   "source": []
  }
 ],
 "metadata": {
  "kernelspec": {
   "display_name": "base",
   "language": "python",
   "name": "python3"
  },
  "language_info": {
   "codemirror_mode": {
    "name": "ipython",
    "version": 3
   },
   "file_extension": ".py",
   "mimetype": "text/x-python",
   "name": "python",
   "nbconvert_exporter": "python",
   "pygments_lexer": "ipython3",
   "version": "3.9.12"
  },
  "orig_nbformat": 4
 },
 "nbformat": 4,
 "nbformat_minor": 2
}
