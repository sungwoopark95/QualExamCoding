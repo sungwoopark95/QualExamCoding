{
 "cells": [
  {
   "cell_type": "markdown",
   "metadata": {},
   "source": [
    "# Kruskal's algorithm (Finding MST [Minimum Spanning Tree] )"
   ]
  },
  {
   "cell_type": "code",
   "execution_count": 6,
   "metadata": {},
   "outputs": [
    {
     "name": "stdout",
     "output_type": "stream",
     "text": [
      "Minimum Spanning Tree (MST):\n",
      "1 - 2 : 2\n",
      "2 - 5 : 2\n",
      "2 - 3 : 3\n",
      "3 - 4 : 3\n",
      "0 - 1 : 4\n"
     ]
    }
   ],
   "source": [
    "class Graph:\n",
    "    def __init__(self, vertices):\n",
    "        self.V = vertices\n",
    "        self.graph = []\n",
    "\n",
    "    def add_edge(self, u, v, w):\n",
    "        self.graph.append([u, v, w])\n",
    "\n",
    "# 같은 partition에 있는지 확인하기 위한 함수. parent 라는 list를 통해 관리한다. 타고타고 가서 찾는 recursive한 방식\n",
    "def find_parent(parent, i):\n",
    "    if parent[i] == i:\n",
    "        return i\n",
    "    return find_parent(parent, parent[i])\n",
    "\n",
    "def kruskal_mst(graph_input):\n",
    "    result = []\n",
    "\n",
    "    #weight의 오름차순으로 정렬\n",
    "    graph_input.graph = sorted(graph_input.graph, key=lambda item: item[2]) #\n",
    "\n",
    "    #각 node를 parent로 만들기\n",
    "    parent = [i for i in range(graph_input.V)]\n",
    "    num_edges = 0\n",
    "    i = 0\n",
    "\n",
    "    while num_edges < graph_input.V - 1:\n",
    "        u, v, w = graph_input.graph[i]\n",
    "        i += 1\n",
    "        x = find_parent(parent, u)\n",
    "        y = find_parent(parent, v)\n",
    "\n",
    "        if x != y:\n",
    "            result.append([u, v, w])\n",
    "            num_edges += 1\n",
    "            parent[x] = y\n",
    "\n",
    "    return result\n",
    "\n",
    "# 그래프 생성 및 간선 추가 예제\n",
    "g = Graph(6)\n",
    "g.add_edge(0, 1, 4)\n",
    "g.add_edge(0, 2, 4)\n",
    "g.add_edge(1, 2, 2)\n",
    "g.add_edge(1, 0, 4)\n",
    "g.add_edge(2, 0, 4)\n",
    "g.add_edge(2, 1, 2)\n",
    "g.add_edge(2, 3, 3)\n",
    "g.add_edge(2, 5, 2)\n",
    "g.add_edge(2, 4, 4)\n",
    "g.add_edge(3, 2, 3)\n",
    "g.add_edge(3, 4, 3)\n",
    "g.add_edge(4, 2, 4)\n",
    "g.add_edge(4, 3, 3)\n",
    "g.add_edge(5, 2, 2)\n",
    "g.add_edge(5, 4, 3)\n",
    "\n",
    "result = kruskal_mst(g)\n",
    "print(\"Minimum Spanning Tree (MST):\")\n",
    "for u, v, weight in result:\n",
    "    print(f\"{u} - {v} : {weight}\")\n"
   ]
  },
  {
   "cell_type": "code",
   "execution_count": null,
   "metadata": {},
   "outputs": [],
   "source": []
  }
 ],
 "metadata": {
  "kernelspec": {
   "display_name": "base",
   "language": "python",
   "name": "python3"
  },
  "language_info": {
   "codemirror_mode": {
    "name": "ipython",
    "version": 3
   },
   "file_extension": ".py",
   "mimetype": "text/x-python",
   "name": "python",
   "nbconvert_exporter": "python",
   "pygments_lexer": "ipython3",
   "version": "3.9.12"
  },
  "orig_nbformat": 4
 },
 "nbformat": 4,
 "nbformat_minor": 2
}
