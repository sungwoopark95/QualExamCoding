{
 "cells": [
  {
   "cell_type": "markdown",
   "metadata": {},
   "source": [
    "# APSP(All Pairs Shortest Paths) Algorithm"
   ]
  },
  {
   "cell_type": "markdown",
   "metadata": {},
   "source": [
    "> ## negative weight edge is okay\n",
    "> ## but negative cycle is not okay"
   ]
  },
  {
   "cell_type": "code",
   "execution_count": 20,
   "metadata": {},
   "outputs": [],
   "source": [
    "from typing import List\n",
    "INF=float('inf')\n",
    "\n",
    "\n",
    "def help_print(matrix:List[List]) :\n",
    "    for i in range(len(matrix[0])) :\n",
    "        for j in range(len(matrix[0])) :\n",
    "            print(f'{matrix[i][j]}\\t', end=\"\")\n",
    "        print(\"\")\n",
    "    print(\"\")"
   ]
  },
  {
   "cell_type": "markdown",
   "metadata": {},
   "source": [
    "<img src=\"image_APSP_image.png\" width=\"500\">"
   ]
  },
  {
   "cell_type": "markdown",
   "metadata": {},
   "source": [
    "> ## Naive approach(SLOW ASAP)"
   ]
  },
  {
   "cell_type": "code",
   "execution_count": 22,
   "metadata": {},
   "outputs": [
    {
     "name": "stdout",
     "output_type": "stream",
     "text": [
      "[INITIAL Weight]\n",
      "0\t3\t8\tinf\t\n",
      "inf\t0\t4\t11\t\n",
      "inf\tinf\t0\t7\t\n",
      "4\tinf\tinf\t0\t\n",
      "\n",
      "[INITIAL BEFORE]\n",
      "0\tinf\tinf\tinf\t\n",
      "inf\t0\tinf\tinf\t\n",
      "inf\tinf\t0\tinf\t\n",
      "inf\tinf\tinf\t0\t\n",
      "\n",
      "[INITIAL AFTER]\n",
      "inf\tinf\tinf\tinf\t\n",
      "inf\tinf\tinf\tinf\t\n",
      "inf\tinf\tinf\tinf\t\n",
      "inf\tinf\tinf\tinf\t\n",
      "\n",
      "[after (1) iteration]\n",
      "0\t3\t8\tinf\t\n",
      "inf\t0\t4\t11\t\n",
      "inf\tinf\t0\t7\t\n",
      "4\tinf\tinf\t0\t\n",
      "\n",
      "[after (2) iteration]\n",
      "0\t3\t7\t14\t\n",
      "15\t0\t4\t11\t\n",
      "11\tinf\t0\t7\t\n",
      "4\t7\t12\t0\t\n",
      "\n",
      "[after (3) iteration]\n",
      "0\t3\t7\t14\t\n",
      "15\t0\t4\t11\t\n",
      "11\t14\t0\t7\t\n",
      "4\t7\t11\t0\t\n",
      "\n"
     ]
    },
    {
     "data": {
      "text/plain": [
       "[[0, 3, 7, 14], [15, 0, 4, 11], [11, 14, 0, 7], [4, 7, 11, 0]]"
      ]
     },
     "execution_count": 22,
     "metadata": {},
     "output_type": "execute_result"
    }
   ],
   "source": [
    "def extend_shortest_paths(before:List[List], weight:List[List], after:List[List], num_vertex:int):\n",
    "    for i in range(num_vertex) :\n",
    "        for j in range(num_vertex) :\n",
    "            minimum=float('inf')\n",
    "            for k in range(num_vertex) :\n",
    "                candidate=before[i][k]+weight[k][j]\n",
    "                if candidate<minimum :\n",
    "                    minimum=candidate\n",
    "                    after[i][j]=minimum\n",
    "\n",
    "\n",
    "def slow_asap(weight, before, after, num_vertex) :\n",
    "    for i in range(num_vertex-1) :\n",
    "        extend_shortest_paths(before, weight, after, num_vertex)\n",
    "        before=[row[:] for row in after] #(caution) must be deep copy.\n",
    "        print(f\"[after ({i+1}) iteration]\")\n",
    "        help_print(after)\n",
    "    return after\n",
    "\n",
    "#example\n",
    "\n",
    "weight=[    [0, 3, 8, INF],\n",
    "            [INF, 0, 4, 11],\n",
    "            [INF, INF, 0, 7],\n",
    "            [4, INF, INF, 0]]\n",
    "\n",
    "# initialize L^(0)\n",
    "before = [[INF]*4 for _ in range(4)]\n",
    "for i in range(4):\n",
    "    before[i][i] = 0\n",
    "after=[[INF]*4 for _ in range(4)]\n",
    "\n",
    "print(\"[INITIAL Weight]\")\n",
    "help_print(weight)\n",
    "\n",
    "print(\"[INITIAL BEFORE]\")\n",
    "help_print(before)\n",
    "\n",
    "print(\"[INITIAL AFTER]\")\n",
    "help_print(after)\n",
    "\n",
    "slow_asap(weight, before, after, 4)"
   ]
  },
  {
   "cell_type": "markdown",
   "metadata": {},
   "source": [
    "> ## FASTER-APSP"
   ]
  },
  {
   "cell_type": "code",
   "execution_count": 42,
   "metadata": {},
   "outputs": [
    {
     "name": "stdout",
     "output_type": "stream",
     "text": [
      "[INITIAL Weight]\n",
      "0\t3\t8\tinf\t\n",
      "inf\t0\t4\t11\t\n",
      "inf\tinf\t0\t7\t\n",
      "4\tinf\tinf\t0\t\n",
      "\n",
      "After (1) while loop\n",
      "0\t3\t7\t14\t\n",
      "15\t0\t4\t11\t\n",
      "11\tinf\t0\t7\t\n",
      "4\t7\t12\t0\t\n",
      "\n",
      "After (2) while loop\n",
      "0\t3\t7\t14\t\n",
      "15\t0\t4\t11\t\n",
      "11\t14\t0\t7\t\n",
      "4\t7\t11\t0\t\n",
      "\n"
     ]
    },
    {
     "data": {
      "text/plain": [
       "[[0, 3, 7, 14], [15, 0, 4, 11], [11, 14, 0, 7], [4, 7, 11, 0]]"
      ]
     },
     "execution_count": 42,
     "metadata": {},
     "output_type": "execute_result"
    }
   ],
   "source": [
    "def faster_apsp(weight:List[List], num_vertex:int) :\n",
    "    L=[row[:] for row in weight] #deep copy\n",
    "    r=1\n",
    "    i=1\n",
    "    while r<num_vertex :\n",
    "        M = [[INF]*num_vertex for _ in range(num_vertex)]\n",
    "        extend_shortest_paths(L, L, M, num_vertex)\n",
    "        r*=2\n",
    "        L = [row[:] for row in M]\n",
    "        print(f'After ({i}) while loop')\n",
    "        help_print(L)\n",
    "        i+=1\n",
    "    return L\n",
    "\n",
    "\n",
    "#example\n",
    "\n",
    "weight=[    [0, 3, 8, INF],\n",
    "            [INF, 0, 4, 11],\n",
    "            [INF, INF, 0, 7],\n",
    "            [4, INF, INF, 0]]\n",
    "\n",
    "print(\"[INITIAL Weight]\")\n",
    "help_print(weight)\n",
    "\n",
    "faster_apsp(weight, 4)"
   ]
  },
  {
   "cell_type": "markdown",
   "metadata": {},
   "source": [
    "> ## Floyd-Warshall algorithm\n",
    ">> consider paths whose intermediate vertices are in {1~k}"
   ]
  },
  {
   "cell_type": "markdown",
   "metadata": {},
   "source": [
    ">> ### Floyd-Warshall Vanila version"
   ]
  },
  {
   "cell_type": "code",
   "execution_count": 30,
   "metadata": {},
   "outputs": [
    {
     "name": "stdout",
     "output_type": "stream",
     "text": [
      "[INITIAL Weight]\n",
      "0\t3\t8\tinf\t\n",
      "inf\t0\t4\t11\t\n",
      "inf\tinf\t0\t7\t\n",
      "4\tinf\tinf\t0\t\n",
      "\n",
      "After (1) iteration\n",
      "0\t3\t8\tinf\t\n",
      "inf\t0\t4\t11\t\n",
      "inf\tinf\t0\t7\t\n",
      "4\t7\t12\t0\t\n",
      "\n",
      "After (2) iteration\n",
      "0\t3\t7\t14\t\n",
      "inf\t0\t4\t11\t\n",
      "inf\tinf\t0\t7\t\n",
      "4\t7\t11\t0\t\n",
      "\n",
      "After (3) iteration\n",
      "0\t3\t7\t14\t\n",
      "inf\t0\t4\t11\t\n",
      "inf\tinf\t0\t7\t\n",
      "4\t7\t11\t0\t\n",
      "\n",
      "After (4) iteration\n",
      "0\t3\t7\t14\t\n",
      "15\t0\t4\t11\t\n",
      "11\t14\t0\t7\t\n",
      "4\t7\t11\t0\t\n",
      "\n"
     ]
    },
    {
     "data": {
      "text/plain": [
       "[[0, 3, 7, 14], [15, 0, 4, 11], [11, 14, 0, 7], [4, 7, 11, 0]]"
      ]
     },
     "execution_count": 30,
     "metadata": {},
     "output_type": "execute_result"
    }
   ],
   "source": [
    "def floyd_warshall(weight:List[List], num_vertex:int) :\n",
    "    D = [row[:] for row in weight]\n",
    "    new_D = [[None]*4 for _ in range(num_vertex)] ## new_D 없이 inplace로 수정해도 무방함 D[k][k]=0이기 때문에 걱정할 필요 없음(다음 셀에서 inplace로 구현함)\n",
    "    for k in range(num_vertex) :\n",
    "        for i in range(num_vertex) :\n",
    "            for j in range(num_vertex) :\n",
    "                cur_min=D[i][j]\n",
    "                if D[i][k]+D[k][j] < cur_min  :\n",
    "                    cur_min = D[i][k]+D[k][j]\n",
    "                new_D[i][j]=cur_min\n",
    "        D = [row[:] for row in new_D] #update for next iteration\n",
    "        print(f'After ({k+1}) iteration')\n",
    "        help_print(D)\n",
    "\n",
    "    return D\n",
    "\n",
    "#example\n",
    "\n",
    "weight=[    [0, 3, 8, INF],\n",
    "            [INF, 0, 4, 11],\n",
    "            [INF, INF, 0, 7],\n",
    "            [4, INF, INF, 0]]\n",
    "\n",
    "print(\"[INITIAL Weight]\")\n",
    "help_print(weight)\n",
    "\n",
    "floyd_warshall(weight, 4)"
   ]
  },
  {
   "cell_type": "markdown",
   "metadata": {},
   "source": [
    ">> ### Floyd-Warshall inplace version"
   ]
  },
  {
   "cell_type": "code",
   "execution_count": 32,
   "metadata": {},
   "outputs": [
    {
     "name": "stdout",
     "output_type": "stream",
     "text": [
      "[INITIAL Weight]\n",
      "0\t3\t8\tinf\t\n",
      "inf\t0\t4\t11\t\n",
      "inf\tinf\t0\t7\t\n",
      "4\tinf\tinf\t0\t\n",
      "\n",
      "After (1) iteration\n",
      "0\t3\t8\tinf\t\n",
      "inf\t0\t4\t11\t\n",
      "inf\tinf\t0\t7\t\n",
      "4\t7\t12\t0\t\n",
      "\n",
      "After (2) iteration\n",
      "0\t3\t7\t14\t\n",
      "inf\t0\t4\t11\t\n",
      "inf\tinf\t0\t7\t\n",
      "4\t7\t11\t0\t\n",
      "\n",
      "After (3) iteration\n",
      "0\t3\t7\t14\t\n",
      "inf\t0\t4\t11\t\n",
      "inf\tinf\t0\t7\t\n",
      "4\t7\t11\t0\t\n",
      "\n",
      "After (4) iteration\n",
      "0\t3\t7\t14\t\n",
      "15\t0\t4\t11\t\n",
      "11\t14\t0\t7\t\n",
      "4\t7\t11\t0\t\n",
      "\n"
     ]
    },
    {
     "data": {
      "text/plain": [
       "[[0, 3, 7, 14], [15, 0, 4, 11], [11, 14, 0, 7], [4, 7, 11, 0]]"
      ]
     },
     "execution_count": 32,
     "metadata": {},
     "output_type": "execute_result"
    }
   ],
   "source": [
    "def floyd_warshall_inplace(weight:List[List], num_vertex:int) :\n",
    "    D = [row[:] for row in weight]\n",
    "    for k in range(num_vertex) :\n",
    "        for i in range(num_vertex) :\n",
    "            for j in range(num_vertex) :\n",
    "                if D[i][k]+D[k][j] < D[i][j]  :\n",
    "                    D[i][j] = D[i][k]+D[k][j]\n",
    "        print(f'After ({k+1}) iteration')\n",
    "        help_print(D)\n",
    "\n",
    "    return D\n",
    "\n",
    "#example\n",
    "\n",
    "weight=[    [0, 3, 8, INF],\n",
    "            [INF, 0, 4, 11],\n",
    "            [INF, INF, 0, 7],\n",
    "            [4, INF, INF, 0]]\n",
    "\n",
    "print(\"[INITIAL Weight]\")\n",
    "help_print(weight)\n",
    "\n",
    "floyd_warshall_inplace(weight, 4)"
   ]
  },
  {
   "cell_type": "markdown",
   "metadata": {},
   "source": [
    ">> ### Floyd-Warshall FINAL"
   ]
  },
  {
   "cell_type": "code",
   "execution_count": 49,
   "metadata": {},
   "outputs": [
    {
     "name": "stdout",
     "output_type": "stream",
     "text": [
      "[INITIAL Weight]\n",
      "0\t3\t8\tinf\t\n",
      "inf\t0\t4\t11\t\n",
      "inf\tinf\t0\t7\t\n",
      "4\tinf\tinf\t0\t\n",
      "\n",
      "[INITIAL PI]\n",
      "inf\t0\t0\tinf\t\n",
      "inf\tinf\t1\t1\t\n",
      "inf\tinf\tinf\t2\t\n",
      "3\tinf\tinf\tinf\t\n",
      "\n",
      "After (1) iteration\n",
      "0\t3\t8\tinf\t\n",
      "inf\t0\t4\t11\t\n",
      "inf\tinf\t0\t7\t\n",
      "4\t7\t12\t0\t\n",
      "\n",
      "inf\t0\t0\tinf\t\n",
      "inf\tinf\t1\t1\t\n",
      "inf\tinf\tinf\t2\t\n",
      "3\t0\t0\tinf\t\n",
      "\n",
      "After (2) iteration\n",
      "0\t3\t7\t14\t\n",
      "inf\t0\t4\t11\t\n",
      "inf\tinf\t0\t7\t\n",
      "4\t7\t11\t0\t\n",
      "\n",
      "inf\t0\t1\t1\t\n",
      "inf\tinf\t1\t1\t\n",
      "inf\tinf\tinf\t2\t\n",
      "3\t0\t1\tinf\t\n",
      "\n",
      "After (3) iteration\n",
      "0\t3\t7\t14\t\n",
      "inf\t0\t4\t11\t\n",
      "inf\tinf\t0\t7\t\n",
      "4\t7\t11\t0\t\n",
      "\n",
      "inf\t0\t1\t1\t\n",
      "inf\tinf\t1\t1\t\n",
      "inf\tinf\tinf\t2\t\n",
      "3\t0\t1\tinf\t\n",
      "\n",
      "After (4) iteration\n",
      "0\t3\t7\t14\t\n",
      "15\t0\t4\t11\t\n",
      "11\t14\t0\t7\t\n",
      "4\t7\t11\t0\t\n",
      "\n",
      "inf\t0\t1\t1\t\n",
      "3\tinf\t1\t1\t\n",
      "3\t0\tinf\t2\t\n",
      "3\t0\t1\tinf\t\n",
      "\n",
      "[Final Shortest Distance Matrix]\n",
      "0\t3\t7\t14\t\n",
      "15\t0\t4\t11\t\n",
      "11\t14\t0\t7\t\n",
      "4\t7\t11\t0\t\n",
      "\n",
      "[Final PI matrix]\n",
      "inf\t0\t1\t1\t\n",
      "3\tinf\t1\t1\t\n",
      "3\t0\tinf\t2\t\n",
      "3\t0\t1\tinf\t\n",
      "\n",
      "Shortest Path From (2) To (1) : (2)->(3)->(0)->(1)\n"
     ]
    }
   ],
   "source": [
    "def floyd_warshall_final(weight:List[List], num_vertex:int) :\n",
    "    D = [row[:] for row in weight]\n",
    "    pi=[[INF]*num_vertex for _ in range(num_vertex)] #pi[i][j] : predecessor of j on the shortest path from i to j\n",
    "    for i in range(num_vertex) :\n",
    "        for j in range(num_vertex) :\n",
    "            if i!=j and weight[i][j]<INF :\n",
    "                pi[i][j]=i\n",
    "    print(\"[INITIAL PI]\")\n",
    "    help_print(pi)\n",
    "    for k in range(num_vertex) :\n",
    "        for i in range(num_vertex) :\n",
    "            for j in range(num_vertex) :\n",
    "                if D[i][k]+D[k][j] < D[i][j]  :\n",
    "                    D[i][j] = D[i][k]+D[k][j]\n",
    "                    pi[i][j]=pi[k][j]\n",
    "        print(f'After ({k+1}) iteration')\n",
    "        help_print(D)\n",
    "        help_print(pi)\n",
    "\n",
    "    return D, pi\n",
    "\n",
    "def print_all_pairs_shortest_path(pi:List[List], start:int, end:int) :\n",
    "    if start==end : print(f'({start})', end=\"\")\n",
    "    elif pi[start][end]==INF : print(f'no path')\n",
    "    else :\n",
    "        print_all_pairs_shortest_path(pi, start, pi[start][end])\n",
    "        print(f'->({end})', end='')\n",
    "\n",
    "#example\n",
    "\n",
    "weight=[    [0, 3, 8, INF],\n",
    "            [INF, 0, 4, 11],\n",
    "            [INF, INF, 0, 7],\n",
    "            [4, INF, INF, 0]]\n",
    "\n",
    "print(\"[INITIAL Weight]\")\n",
    "help_print(weight)\n",
    "\n",
    "D, pi = floyd_warshall_final(weight, 4)\n",
    "print(\"[Final Shortest Distance Matrix]\")\n",
    "help_print(D)\n",
    "\n",
    "print(\"[Final PI matrix]\")\n",
    "help_print(pi)\n",
    "\n",
    "#check path\n",
    "start=2\n",
    "end=1\n",
    "print(f\"Shortest Path From ({start}) To ({end}) : \", end=\"\")\n",
    "print_all_pairs_shortest_path(pi, start, end)\n",
    "print(\"\")\n"
   ]
  },
  {
   "cell_type": "markdown",
   "metadata": {},
   "source": [
    "> # HW07-3"
   ]
  },
  {
   "cell_type": "markdown",
   "metadata": {},
   "source": [
    "<img src=\"image_APSP_HW7.png\" width=\"500\">"
   ]
  },
  {
   "cell_type": "code",
   "execution_count": 50,
   "metadata": {},
   "outputs": [],
   "source": [
    "num_vertex=5\n",
    "weight=[[0,6,1,4,6],\n",
    "        [INF,0,INF,INF,INF],\n",
    "        [INF,INF,0,INF,1],\n",
    "        [INF,2,INF,0,4],\n",
    "        [INF,3,INF,INF,0]]\n"
   ]
  },
  {
   "cell_type": "code",
   "execution_count": 44,
   "metadata": {},
   "outputs": [
    {
     "name": "stdout",
     "output_type": "stream",
     "text": [
      "[INITIAL Weight]\n",
      "0\t6\t1\t4\t6\t\n",
      "inf\t0\tinf\tinf\tinf\t\n",
      "inf\tinf\t0\tinf\t1\t\n",
      "inf\t2\tinf\t0\t4\t\n",
      "inf\t3\tinf\tinf\t0\t\n",
      "\n",
      "[INITIAL BEFORE]\n",
      "0\tinf\tinf\tinf\tinf\t\n",
      "inf\t0\tinf\tinf\tinf\t\n",
      "inf\tinf\t0\tinf\tinf\t\n",
      "inf\tinf\tinf\t0\tinf\t\n",
      "inf\tinf\tinf\tinf\t0\t\n",
      "\n",
      "[INITIAL AFTER]\n",
      "inf\tinf\tinf\tinf\tinf\t\n",
      "inf\tinf\tinf\tinf\tinf\t\n",
      "inf\tinf\tinf\tinf\tinf\t\n",
      "inf\tinf\tinf\tinf\tinf\t\n",
      "inf\tinf\tinf\tinf\tinf\t\n",
      "\n",
      "[after (1) iteration]\n",
      "0\t6\t1\t4\t6\t\n",
      "inf\t0\tinf\tinf\tinf\t\n",
      "inf\tinf\t0\tinf\t1\t\n",
      "inf\t2\tinf\t0\t4\t\n",
      "inf\t3\tinf\tinf\t0\t\n",
      "\n",
      "[after (2) iteration]\n",
      "0\t6\t1\t4\t2\t\n",
      "inf\t0\tinf\tinf\tinf\t\n",
      "inf\t4\t0\tinf\t1\t\n",
      "inf\t2\tinf\t0\t4\t\n",
      "inf\t3\tinf\tinf\t0\t\n",
      "\n",
      "[after (3) iteration]\n",
      "0\t5\t1\t4\t2\t\n",
      "inf\t0\tinf\tinf\tinf\t\n",
      "inf\t4\t0\tinf\t1\t\n",
      "inf\t2\tinf\t0\t4\t\n",
      "inf\t3\tinf\tinf\t0\t\n",
      "\n",
      "[after (4) iteration]\n",
      "0\t5\t1\t4\t2\t\n",
      "inf\t0\tinf\tinf\tinf\t\n",
      "inf\t4\t0\tinf\t1\t\n",
      "inf\t2\tinf\t0\t4\t\n",
      "inf\t3\tinf\tinf\t0\t\n",
      "\n"
     ]
    },
    {
     "data": {
      "text/plain": [
       "[[0, 5, 1, 4, 2],\n",
       " [inf, 0, inf, inf, inf],\n",
       " [inf, 4, 0, inf, 1],\n",
       " [inf, 2, inf, 0, 4],\n",
       " [inf, 3, inf, inf, 0]]"
      ]
     },
     "execution_count": 44,
     "metadata": {},
     "output_type": "execute_result"
    }
   ],
   "source": [
    "#(c) extend-shortest-paths\n",
    "# initialize L^(0)\n",
    "before = [[INF]*num_vertex for _ in range(num_vertex)]\n",
    "for i in range(num_vertex):\n",
    "    before[i][i] = 0\n",
    "after=[[INF]*num_vertex for _ in range(num_vertex)]\n",
    "\n",
    "print(\"[INITIAL Weight]\")\n",
    "help_print(weight)\n",
    "\n",
    "print(\"[INITIAL BEFORE]\")\n",
    "help_print(before)\n",
    "\n",
    "print(\"[INITIAL AFTER]\")\n",
    "help_print(after)\n",
    "\n",
    "slow_asap(weight, before, after, num_vertex)"
   ]
  },
  {
   "cell_type": "code",
   "execution_count": 45,
   "metadata": {},
   "outputs": [
    {
     "name": "stdout",
     "output_type": "stream",
     "text": [
      "[INITIAL Weight]\n",
      "0\t6\t1\t4\t6\t\n",
      "inf\t0\tinf\tinf\tinf\t\n",
      "inf\tinf\t0\tinf\t1\t\n",
      "inf\t2\tinf\t0\t4\t\n",
      "inf\t3\tinf\tinf\t0\t\n",
      "\n",
      "After (1) while loop\n",
      "0\t6\t1\t4\t2\t\n",
      "inf\t0\tinf\tinf\tinf\t\n",
      "inf\t4\t0\tinf\t1\t\n",
      "inf\t2\tinf\t0\t4\t\n",
      "inf\t3\tinf\tinf\t0\t\n",
      "\n",
      "After (2) while loop\n",
      "0\t5\t1\t4\t2\t\n",
      "inf\t0\tinf\tinf\tinf\t\n",
      "inf\t4\t0\tinf\t1\t\n",
      "inf\t2\tinf\t0\t4\t\n",
      "inf\t3\tinf\tinf\t0\t\n",
      "\n",
      "After (3) while loop\n",
      "0\t5\t1\t4\t2\t\n",
      "inf\t0\tinf\tinf\tinf\t\n",
      "inf\t4\t0\tinf\t1\t\n",
      "inf\t2\tinf\t0\t4\t\n",
      "inf\t3\tinf\tinf\t0\t\n",
      "\n"
     ]
    },
    {
     "data": {
      "text/plain": [
       "[[0, 5, 1, 4, 2],\n",
       " [inf, 0, inf, inf, inf],\n",
       " [inf, 4, 0, inf, 1],\n",
       " [inf, 2, inf, 0, 4],\n",
       " [inf, 3, inf, inf, 0]]"
      ]
     },
     "execution_count": 45,
     "metadata": {},
     "output_type": "execute_result"
    }
   ],
   "source": [
    "#(d) extend-shortest-paths\n",
    "print(\"[INITIAL Weight]\")\n",
    "help_print(weight)\n",
    "\n",
    "faster_apsp(weight, num_vertex)"
   ]
  },
  {
   "cell_type": "code",
   "execution_count": 51,
   "metadata": {},
   "outputs": [
    {
     "name": "stdout",
     "output_type": "stream",
     "text": [
      "[INITIAL Weight]\n",
      "0\t6\t1\t4\t6\t\n",
      "inf\t0\tinf\tinf\tinf\t\n",
      "inf\tinf\t0\tinf\t1\t\n",
      "inf\t2\tinf\t0\t4\t\n",
      "inf\t3\tinf\tinf\t0\t\n",
      "\n",
      "[INITIAL PI]\n",
      "inf\t0\t0\t0\t0\t\n",
      "inf\tinf\tinf\tinf\tinf\t\n",
      "inf\tinf\tinf\tinf\t2\t\n",
      "inf\t3\tinf\tinf\t3\t\n",
      "inf\t4\tinf\tinf\tinf\t\n",
      "\n",
      "After (1) iteration\n",
      "0\t6\t1\t4\t6\t\n",
      "inf\t0\tinf\tinf\tinf\t\n",
      "inf\tinf\t0\tinf\t1\t\n",
      "inf\t2\tinf\t0\t4\t\n",
      "inf\t3\tinf\tinf\t0\t\n",
      "\n",
      "inf\t0\t0\t0\t0\t\n",
      "inf\tinf\tinf\tinf\tinf\t\n",
      "inf\tinf\tinf\tinf\t2\t\n",
      "inf\t3\tinf\tinf\t3\t\n",
      "inf\t4\tinf\tinf\tinf\t\n",
      "\n",
      "After (2) iteration\n",
      "0\t6\t1\t4\t6\t\n",
      "inf\t0\tinf\tinf\tinf\t\n",
      "inf\tinf\t0\tinf\t1\t\n",
      "inf\t2\tinf\t0\t4\t\n",
      "inf\t3\tinf\tinf\t0\t\n",
      "\n",
      "inf\t0\t0\t0\t0\t\n",
      "inf\tinf\tinf\tinf\tinf\t\n",
      "inf\tinf\tinf\tinf\t2\t\n",
      "inf\t3\tinf\tinf\t3\t\n",
      "inf\t4\tinf\tinf\tinf\t\n",
      "\n",
      "After (3) iteration\n",
      "0\t6\t1\t4\t2\t\n",
      "inf\t0\tinf\tinf\tinf\t\n",
      "inf\tinf\t0\tinf\t1\t\n",
      "inf\t2\tinf\t0\t4\t\n",
      "inf\t3\tinf\tinf\t0\t\n",
      "\n",
      "inf\t0\t0\t0\t2\t\n",
      "inf\tinf\tinf\tinf\tinf\t\n",
      "inf\tinf\tinf\tinf\t2\t\n",
      "inf\t3\tinf\tinf\t3\t\n",
      "inf\t4\tinf\tinf\tinf\t\n",
      "\n",
      "After (4) iteration\n",
      "0\t6\t1\t4\t2\t\n",
      "inf\t0\tinf\tinf\tinf\t\n",
      "inf\tinf\t0\tinf\t1\t\n",
      "inf\t2\tinf\t0\t4\t\n",
      "inf\t3\tinf\tinf\t0\t\n",
      "\n",
      "inf\t0\t0\t0\t2\t\n",
      "inf\tinf\tinf\tinf\tinf\t\n",
      "inf\tinf\tinf\tinf\t2\t\n",
      "inf\t3\tinf\tinf\t3\t\n",
      "inf\t4\tinf\tinf\tinf\t\n",
      "\n",
      "After (5) iteration\n",
      "0\t5\t1\t4\t2\t\n",
      "inf\t0\tinf\tinf\tinf\t\n",
      "inf\t4\t0\tinf\t1\t\n",
      "inf\t2\tinf\t0\t4\t\n",
      "inf\t3\tinf\tinf\t0\t\n",
      "\n",
      "inf\t4\t0\t0\t2\t\n",
      "inf\tinf\tinf\tinf\tinf\t\n",
      "inf\t4\tinf\tinf\t2\t\n",
      "inf\t3\tinf\tinf\t3\t\n",
      "inf\t4\tinf\tinf\tinf\t\n",
      "\n",
      "[Final Shortest Distance Matrix]\n",
      "0\t5\t1\t4\t2\t\n",
      "inf\t0\tinf\tinf\tinf\t\n",
      "inf\t4\t0\tinf\t1\t\n",
      "inf\t2\tinf\t0\t4\t\n",
      "inf\t3\tinf\tinf\t0\t\n",
      "\n",
      "[Final PI matrix]\n",
      "inf\t4\t0\t0\t2\t\n",
      "inf\tinf\tinf\tinf\tinf\t\n",
      "inf\t4\tinf\tinf\t2\t\n",
      "inf\t3\tinf\tinf\t3\t\n",
      "inf\t4\tinf\tinf\tinf\t\n",
      "\n",
      "Shortest Path From (2) To (1) : (2)->(4)->(1)\n"
     ]
    }
   ],
   "source": [
    "#(d) floyd=warshall\n",
    "print(\"[INITIAL Weight]\")\n",
    "help_print(weight)\n",
    "\n",
    "D, pi = floyd_warshall_final(weight, num_vertex)\n",
    "print(\"[Final Shortest Distance Matrix]\")\n",
    "help_print(D)\n",
    "\n",
    "print(\"[Final PI matrix]\")\n",
    "help_print(pi)\n",
    "\n",
    "#check path\n",
    "start=2\n",
    "end=1\n",
    "print(f\"Shortest Path From ({start}) To ({end}) : \", end=\"\")\n",
    "print_all_pairs_shortest_path(pi, start, end)\n",
    "print(\"\")\n"
   ]
  },
  {
   "cell_type": "code",
   "execution_count": null,
   "metadata": {},
   "outputs": [],
   "source": []
  }
 ],
 "metadata": {
  "kernelspec": {
   "display_name": "base",
   "language": "python",
   "name": "python3"
  },
  "language_info": {
   "codemirror_mode": {
    "name": "ipython",
    "version": 3
   },
   "file_extension": ".py",
   "mimetype": "text/x-python",
   "name": "python",
   "nbconvert_exporter": "python",
   "pygments_lexer": "ipython3",
   "version": "3.9.12"
  },
  "orig_nbformat": 4
 },
 "nbformat": 4,
 "nbformat_minor": 2
}
