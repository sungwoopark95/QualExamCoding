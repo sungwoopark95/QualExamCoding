{
 "cells": [
  {
   "cell_type": "code",
   "execution_count": 65,
   "id": "ae89d453",
   "metadata": {},
   "outputs": [],
   "source": [
    "from typing import Dict\n",
    "from collections import deque"
   ]
  },
  {
   "cell_type": "markdown",
   "id": "877dd204",
   "metadata": {},
   "source": [
    "# Graph Class\n",
    "> ## DFS-preorder"
   ]
  },
  {
   "cell_type": "code",
   "execution_count": 197,
   "id": "f6ac9f65",
   "metadata": {},
   "outputs": [],
   "source": [
    "class undi_graph() :\n",
    "    def __init__(self, V:list, E:list)->None:\n",
    "        self.V=V[:]\n",
    "        self.neighbor={}\n",
    "        for v in self.V:\n",
    "            self.neighbor[v]=[]\n",
    "        for (v, w) in E :\n",
    "            self.neighbor[v].append(w)\n",
    "            self.neighbor[w].append(v)\n",
    "\n",
    "    #dfs_preorder             \n",
    "    def dfs_preorder_help(self, visited:Dict[int, bool], v:int)->None :\n",
    "        if visited[v]==True :\n",
    "            return\n",
    "        visited[v]=True\n",
    "        print(f\"{v} \", end=\"\")\n",
    "        for w in self.neighbor[v] :\n",
    "            self.dfs_preorder_help(visited, w)\n",
    "    def dfs_preorder(self) :\n",
    "        if self.V :\n",
    "            visited={}\n",
    "            num_disjoint=0\n",
    "            for v in self.V :\n",
    "                visited[v]=False\n",
    "            for v in self.V :\n",
    "                if visited[v]==False :\n",
    "                    num_disjoint+=1\n",
    "                self.dfs_preorder_help(visited, v)\n",
    "            print(\"\")\n",
    "            print(f\"The number of disjoint graph is {num_disjoint}.\")\n",
    "\n",
    "    #dfs_postorder\n",
    "    def dfs_postorder_help(self, visited:Dict[int, bool], v:int)->None :\n",
    "        if visited[v]==True :\n",
    "            return\n",
    "        visited[v]=True\n",
    "        for w in self.neighbor[v] :\n",
    "            self.dfs_postorder_help(visited, w)\n",
    "        print(f\"{v} \", end=\"\")\n",
    "        \n",
    "    def dfs_postorder(self) :\n",
    "        if self.V :\n",
    "            visited={}\n",
    "            num_disjoint=0\n",
    "            for v in self.V :\n",
    "                visited[v]=False\n",
    "            for v in self.V :\n",
    "                if visited[v]==False :\n",
    "                    num_disjoint+=1\n",
    "                self.dfs_postorder_help(visited, v)\n",
    "            print(\"\")\n",
    "            print(f\"The number of disjoint graph is {num_disjoint}.\")\n",
    "            \n",
    "    #bfs        \n",
    "    def bfs(self) : \n",
    "        if self.V:\n",
    "            visited={}\n",
    "            num_disjoint=0\n",
    "            for v in self.V :\n",
    "                visited[v]=False\n",
    "            q=deque([])\n",
    "            for v in self.V :\n",
    "                if visited[v]==False:\n",
    "                    num_disjoint+=1\n",
    "                q.append(v)\n",
    "                while q :\n",
    "                    w=q.popleft()\n",
    "                    if visited[w]==False :\n",
    "                        visited[w]=True\n",
    "                        print(f\"{w} \", end=\"\")\n",
    "                        for x in self.neighbor[w] :\n",
    "                            q.append(x)\n",
    "            print(\"\")\n",
    "            print(f\"The number of disjoint graph is {num_disjoint}.\")\n",
    "            \n",
    "    #connectiveness by bfs\n",
    "    def is_connected(self, v:int, w:int)->bool :\n",
    "        if (self.V) and (v in self.V) and (w in self.V) :\n",
    "            visited={}\n",
    "            for t in self.V :\n",
    "                visited[t]=False\n",
    "            q=deque([])\n",
    "            q.append(v)\n",
    "            while q :\n",
    "                x = q.popleft()\n",
    "                if x==w : \n",
    "                    return True\n",
    "                if visited[x]==False :\n",
    "                    visited[x]=True\n",
    "                    print(f\"{x} \", end=\"\")\n",
    "                    for z in self.neighbor[x] :\n",
    "                        q.append(z)\n",
    "            print(\"\")\n",
    "            return False\n",
    "        else :\n",
    "            return False\n",
    "\n",
    "\n",
    "    #length detection by bfs\n",
    "    def length(self, v:int, w:int) -> int :\n",
    "        if (self.V) and (v in self.V) and (w in self.V) :\n",
    "            if v==w : return 0\n",
    "            visited={}\n",
    "            for x in self.V:\n",
    "                visited[x]=False\n",
    "            l=0\n",
    "            q=deque([])\n",
    "            q.append((v, l))\n",
    "            while q :\n",
    "                v_new, l_new = q.popleft()\n",
    "                if v_new==w : return l_new\n",
    "                visited[v_new]=True\n",
    "                for ne in self.neighbor[v_new] :\n",
    "                    if visited[ne]==False :\n",
    "                        q.append((ne, l_new+1))\n",
    "            return -1\n",
    "\n",
    "#     #length detection by dfs(최소 거리가 안 나올 수 있어서 사용하면 x)\n",
    "#     def help_length(self, visited:Dict[int, bool], v:int, w:int, l:int) -> int :\n",
    "#         if v==w :\n",
    "#             return l\n",
    "#         if visited[v]==True :\n",
    "#             return -1\n",
    "#         visited[v]=True\n",
    "#         for x in self.neighbor[v] :\n",
    "#             if visited[x]==False :\n",
    "#                 new_l=self.help_length(visited, x, w, l+1)\n",
    "#                 if new_l!=-1 :\n",
    "#                     return new_l\n",
    "#         return -1\n",
    "#     def length_btwn(self, v:int, w:int)->int :\n",
    "#         if (self.V) and (v in self.V) and (w in self.V) :\n",
    "#             visited={}\n",
    "#             for x in self.V:\n",
    "#                 visited[x]=False\n",
    "#             return self.help_length(visited, v, w, 0)\n",
    "#         else :\n",
    "#             return None\n",
    "\n",
    "    def has_cycle(self):\n",
    "        visited = set()\n",
    "        for v in self.V:\n",
    "            if v not in visited:\n",
    "                if self._has_cycle(v, visited, -1):\n",
    "                    return True\n",
    "        return False\n",
    "\n",
    "    def _has_cycle(self, v, visited, parent):\n",
    "        visited.add(v)\n",
    "        for w in self.neighbor[v]:\n",
    "            if w not in visited:\n",
    "                if self._has_cycle(w, visited, v):\n",
    "                    return True\n",
    "            elif parent != w:\n",
    "                return True\n",
    "        return False"
   ]
  },
  {
   "cell_type": "markdown",
   "id": "2bcdadd3",
   "metadata": {},
   "source": [
    "![graph_image](image_graph.png)"
   ]
  },
  {
   "cell_type": "code",
   "execution_count": 198,
   "id": "55b02b06",
   "metadata": {},
   "outputs": [
    {
     "data": {
      "text/plain": [
       "[0, 1, 2, 3, 4, 5, 6, 7, 8, 9]"
      ]
     },
     "metadata": {},
     "output_type": "display_data"
    },
    {
     "data": {
      "text/plain": [
       "{0: [1],\n",
       " 1: [0, 4, 5],\n",
       " 2: [3],\n",
       " 3: [2],\n",
       " 4: [1, 6],\n",
       " 5: [1, 6, 7],\n",
       " 6: [4, 5, 9],\n",
       " 7: [5, 8],\n",
       " 8: [7],\n",
       " 9: [6]}"
      ]
     },
     "metadata": {},
     "output_type": "display_data"
    }
   ],
   "source": [
    "V=list(range(10))\n",
    "E=[(0,1), (1,4), (1,5), (4,6), (5,6), (6,9), (5,7), (7,8), (2,3)]\n",
    "g = undi_graph(V, E)\n",
    "display(g.V)\n",
    "display(g.neighbor)"
   ]
  },
  {
   "cell_type": "code",
   "execution_count": 185,
   "id": "f822c6c1",
   "metadata": {},
   "outputs": [
    {
     "name": "stdout",
     "output_type": "stream",
     "text": [
      "0 1 4 6 5 7 8 9 2 3 \n",
      "The number of disjoint graph is 2.\n"
     ]
    }
   ],
   "source": [
    "g.dfs_preorder()"
   ]
  },
  {
   "cell_type": "code",
   "execution_count": 186,
   "id": "ae3827bd",
   "metadata": {},
   "outputs": [
    {
     "name": "stdout",
     "output_type": "stream",
     "text": [
      "8 7 5 9 6 4 1 0 3 2 \n",
      "The number of disjoint graph is 2.\n"
     ]
    }
   ],
   "source": [
    "g.dfs_postorder()"
   ]
  },
  {
   "cell_type": "code",
   "execution_count": 187,
   "id": "f224793e",
   "metadata": {},
   "outputs": [
    {
     "name": "stdout",
     "output_type": "stream",
     "text": [
      "0 1 4 5 6 7 9 8 2 3 \n",
      "The number of disjoint graph is 2.\n"
     ]
    }
   ],
   "source": [
    "g.bfs()"
   ]
  },
  {
   "cell_type": "code",
   "execution_count": 188,
   "id": "ce9b4e71",
   "metadata": {},
   "outputs": [
    {
     "name": "stdout",
     "output_type": "stream",
     "text": [
      "0 1 4 5 6 7 "
     ]
    },
    {
     "data": {
      "text/plain": [
       "True"
      ]
     },
     "execution_count": 188,
     "metadata": {},
     "output_type": "execute_result"
    }
   ],
   "source": [
    "g.is_connected(0,9)"
   ]
  },
  {
   "cell_type": "code",
   "execution_count": 189,
   "id": "cc349c35",
   "metadata": {},
   "outputs": [
    {
     "name": "stdout",
     "output_type": "stream",
     "text": [
      "5 1 6 7 0 4 "
     ]
    },
    {
     "data": {
      "text/plain": [
       "True"
      ]
     },
     "execution_count": 189,
     "metadata": {},
     "output_type": "execute_result"
    }
   ],
   "source": [
    "g.is_connected(5,9)"
   ]
  },
  {
   "cell_type": "code",
   "execution_count": 190,
   "id": "6160cd26",
   "metadata": {},
   "outputs": [
    {
     "name": "stdout",
     "output_type": "stream",
     "text": [
      "6 4 5 9 1 7 0 8 \n"
     ]
    },
    {
     "data": {
      "text/plain": [
       "False"
      ]
     },
     "execution_count": 190,
     "metadata": {},
     "output_type": "execute_result"
    }
   ],
   "source": [
    "g.is_connected(6,2)"
   ]
  },
  {
   "cell_type": "code",
   "execution_count": 191,
   "id": "a88cfaad",
   "metadata": {},
   "outputs": [
    {
     "data": {
      "text/plain": [
       "2"
      ]
     },
     "execution_count": 191,
     "metadata": {},
     "output_type": "execute_result"
    }
   ],
   "source": [
    "g.length(5, 9)"
   ]
  },
  {
   "cell_type": "code",
   "execution_count": 193,
   "id": "c98c1682",
   "metadata": {},
   "outputs": [
    {
     "data": {
      "text/plain": [
       "4"
      ]
     },
     "execution_count": 193,
     "metadata": {},
     "output_type": "execute_result"
    }
   ],
   "source": [
    "g.length(0, 9)"
   ]
  },
  {
   "cell_type": "code",
   "execution_count": 196,
   "id": "f610c8f1",
   "metadata": {},
   "outputs": [
    {
     "data": {
      "text/plain": [
       "-1"
      ]
     },
     "execution_count": 196,
     "metadata": {},
     "output_type": "execute_result"
    }
   ],
   "source": [
    "g.length(2, 5)"
   ]
  },
  {
   "cell_type": "code",
   "execution_count": 199,
   "id": "0c291444",
   "metadata": {},
   "outputs": [
    {
     "data": {
      "text/plain": [
       "True"
      ]
     },
     "execution_count": 199,
     "metadata": {},
     "output_type": "execute_result"
    }
   ],
   "source": [
    "g.has_cycle()"
   ]
  },
  {
   "cell_type": "code",
   "execution_count": 205,
   "id": "411d3f17",
   "metadata": {},
   "outputs": [
    {
     "data": {
      "text/plain": [
       "[0, 1, 2, 3]"
      ]
     },
     "metadata": {},
     "output_type": "display_data"
    },
    {
     "data": {
      "text/plain": [
       "{0: [1, 3], 1: [0], 2: [3], 3: [2, 0]}"
      ]
     },
     "metadata": {},
     "output_type": "display_data"
    }
   ],
   "source": [
    "V=list(range(4))\n",
    "E=[(0,1), (2,3),(0,3)]\n",
    "g = undi_graph(V, E)\n",
    "display(g.V)\n",
    "display(g.neighbor)"
   ]
  },
  {
   "cell_type": "code",
   "execution_count": 206,
   "id": "dbbfc33b",
   "metadata": {},
   "outputs": [
    {
     "data": {
      "text/plain": [
       "False"
      ]
     },
     "execution_count": 206,
     "metadata": {},
     "output_type": "execute_result"
    }
   ],
   "source": [
    "g.has_cycle()"
   ]
  },
  {
   "cell_type": "code",
   "execution_count": null,
   "id": "d18e6502",
   "metadata": {},
   "outputs": [],
   "source": []
  }
 ],
 "metadata": {
  "kernelspec": {
   "display_name": "Python 3 (ipykernel)",
   "language": "python",
   "name": "python3"
  },
  "language_info": {
   "codemirror_mode": {
    "name": "ipython",
    "version": 3
   },
   "file_extension": ".py",
   "mimetype": "text/x-python",
   "name": "python",
   "nbconvert_exporter": "python",
   "pygments_lexer": "ipython3",
   "version": "3.9.12"
  }
 },
 "nbformat": 4,
 "nbformat_minor": 5
}
