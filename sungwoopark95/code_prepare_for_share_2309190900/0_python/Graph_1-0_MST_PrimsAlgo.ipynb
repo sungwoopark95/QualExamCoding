{
 "cells": [
  {
   "cell_type": "markdown",
   "metadata": {},
   "source": [
    "# Prim's algorithm (Finding MST [Minimum Spanning Tree] )"
   ]
  },
  {
   "cell_type": "markdown",
   "metadata": {},
   "source": [
    "> # Min-Priority Queue for Prime's algorithm"
   ]
  },
  {
   "cell_type": "code",
   "execution_count": 1,
   "metadata": {},
   "outputs": [],
   "source": [
    "import heapq\n",
    "\n",
    "class PriorityQueue:\n",
    "    def __init__(self):\n",
    "        self._queue = []\n",
    "        self._entry_finder = {} #key : task, value : entry=[priority, self._counter, task]\n",
    "        self._REMOVED = '<removed-task>'\n",
    "        self._counter = 0\n",
    "\n",
    "    def add_task(self, task, priority=0):\n",
    "        ## remove the origin one\n",
    "        if task in self._entry_finder:\n",
    "            self.remove_task(task)\n",
    "        entry = [priority, self._counter, task] #counter는 priority가 같을 경우에 순서를 비교하기 위한 용도\n",
    "        self._counter += 1\n",
    "        self._entry_finder[task] = entry\n",
    "        heapq.heappush(self._queue, entry)\n",
    "\n",
    "    def remove_task(self, task):\n",
    "        entry = self._entry_finder.pop(task)\n",
    "        entry[-1] = self._REMOVED #heap 내에 있는 entry도 수정이 됨(alias이기 때문)\n",
    "\n",
    "    def pop_task(self):\n",
    "        while self._queue:\n",
    "            priority, count, task = heapq.heappop(self._queue)\n",
    "            if task is not self._REMOVED:\n",
    "                del self._entry_finder[task]\n",
    "                return task\n",
    "        raise KeyError('pop from an empty priority queue')"
   ]
  },
  {
   "cell_type": "markdown",
   "metadata": {},
   "source": [
    "> ## Prim's algorithm "
   ]
  },
  {
   "cell_type": "markdown",
   "metadata": {},
   "source": [
    ">> vertices : 0~(num_vertex-1)  \n",
    ">> adjacent : dict[vertex:int, List[Tuple[vertex:int, weight:float]]]  \n",
    ">> key : List[float] minimum weight of edges  \n",
    ">> pi : List[int]  pi[u] predecessor of u on the minimum weight path from source to u"
   ]
  },
  {
   "cell_type": "code",
   "execution_count": 43,
   "metadata": {},
   "outputs": [],
   "source": [
    "from typing import Dict, List, Tuple\n",
    "INF=float('inf')\n",
    "\n",
    "\n",
    "def mst_prim(num_vertex:int, adjacent:Dict[int, List[Tuple[int, float]]], source:int) :\n",
    "    key=[INF]*num_vertex #minimum weight of edges(update on the algorithm)\n",
    "    pi=[None]*num_vertex #predecessor on the minimum weight path from source to u \n",
    "    \n",
    "    key[source]=0\n",
    "    pq=PriorityQueue()\n",
    "    set_for_popped=set()\n",
    "    for u in range(num_vertex) :\n",
    "        pq.add_task(task=u, priority=key[u])\n",
    "    # while len(set_for_popped)<num_vertex :\n",
    "    while pq._entry_finder :\n",
    "        u=pq.pop_task()\n",
    "        print(f\"({num_to_char[u]}) is popped.\")\n",
    "        set_for_popped.add(u)\n",
    "        for (v, weight) in adjacent[u] :\n",
    "            if ((v not in set_for_popped) and weight < key[v]) :\n",
    "                pi[v]=u\n",
    "                key[v]=weight\n",
    "                pq.add_task(v, weight)\n",
    "    return key, pi\n",
    "    "
   ]
  },
  {
   "cell_type": "code",
   "execution_count": 46,
   "metadata": {},
   "outputs": [
    {
     "name": "stdout",
     "output_type": "stream",
     "text": [
      "(a) is popped.\n",
      "(b) is popped.\n",
      "(h) is popped.\n",
      "(g) is popped.\n",
      "(f) is popped.\n",
      "(c) is popped.\n",
      "(i) is popped.\n",
      "(d) is popped.\n",
      "(e) is popped.\n",
      "key is [0, 4, 4, 7, 9, 2, 1, 8, 2]\n",
      "pi is [None, 0, 5, 2, 3, 6, 7, 0, 2]\n",
      "Sum of Edges in MST : 37\n",
      "\n",
      "PI    :X   a   f   c   d   g   h   a   c   \n",
      "VERTEX:a   b   c   d   e   f   g   h   i   "
     ]
    }
   ],
   "source": [
    "#example\n",
    "num_vertex=9\n",
    "adjacent=dict()\n",
    "for i in range(num_vertex) :\n",
    "    adjacent[i]=[]\n",
    "input=\"\"\"a b 4\n",
    "b a 4\n",
    "a h 8\n",
    "h a 8\n",
    "b h 11\n",
    "h b 11\n",
    "b c 8\n",
    "c b 8\n",
    "c i 2\n",
    "i c 2\n",
    "h i 7\n",
    "i h 7\n",
    "h g 1\n",
    "g h 1\n",
    "g i 6\n",
    "i g 6\n",
    "g f 2\n",
    "f g 2\n",
    "c f 4\n",
    "f c 4\n",
    "c d 7\n",
    "d c 7\n",
    "d f 14\n",
    "f d 14\n",
    "d e 9\n",
    "e d 9\n",
    "f e 10\n",
    "e f 10\"\"\"\n",
    "\n",
    "lines=input.splitlines()\n",
    "\n",
    "\n",
    "\n",
    "# 문자를 숫자로 매핑하는 딕셔너리 생성 a~i -> 0~8\n",
    "char_to_num = {chr(97 + i): i for i in range(9)}\n",
    "\n",
    "# 숫자를 문자로 매핑하는 딕셔너리 생성\n",
    "num_to_char = {i: chr(97 + i) for i in range(9)}\n",
    "\n",
    "for i in range(len(lines)):\n",
    "    u_char, v_char = map(str, lines[i].split()[:2]) \n",
    "    weight = (int)(lines[i].split()[2])\n",
    "    u=char_to_num[u_char]\n",
    "    v=char_to_num[v_char]\n",
    "    adjacent[u].append((v, weight))\n",
    "\n",
    "key, pi = mst_prim(num_vertex, adjacent, 0)\n",
    "print(f\"key is {key}\")\n",
    "print(f\"pi is {pi}\")\n",
    "print(f\"Sum of Edges in MST : {sum(key)}\")\n",
    "print()\n",
    "print(\"PI    :\", end=\"\")\n",
    "for i in range(num_vertex) :\n",
    "    if pi[i]==None : print(\"X   \", end=\"\")\n",
    "    else:  print(f\"{num_to_char[pi[i]]}   \", end=\"\")\n",
    "print()\n",
    "print(\"VERTEX:\", end=\"\")\n",
    "for i in range(num_vertex) :\n",
    "    print(f\"{num_to_char[i]}   \", end=\"\")"
   ]
  },
  {
   "cell_type": "code",
   "execution_count": 47,
   "metadata": {},
   "outputs": [
    {
     "name": "stdout",
     "output_type": "stream",
     "text": [
      "Minimum Spanning Tree:\n",
      "(0, 'a')\n",
      "(2, 'b')\n",
      "(3, 'c')\n",
      "(1, 'd')\n"
     ]
    }
   ],
   "source": [
    "# bing chat's\n",
    "import heapq\n",
    "\n",
    "def prim(graph, start):\n",
    "    mst = []\n",
    "    visited = set()\n",
    "    edges = [(0, start)]\n",
    "    while edges:\n",
    "        weight, node = heapq.heappop(edges)\n",
    "        if node not in visited:\n",
    "            visited.add(node)\n",
    "            mst.append((weight, node))\n",
    "            for edge in graph[node]:\n",
    "                if edge[1] not in visited:\n",
    "                    heapq.heappush(edges, edge)\n",
    "    return mst\n",
    "\n",
    "# 예제 그래프\n",
    "graph = {\n",
    "    'a': [(2, 'b'), (3, 'c')],\n",
    "    'b': [(2, 'a'), (3, 'c'), (5, 'd')],\n",
    "    'c': [(3, 'a'), (3, 'b'), (1, 'd')],\n",
    "    'd': [(5, 'b'), (1, 'c')]\n",
    "}\n",
    "\n",
    "mst = prim(graph, 'a')\n",
    "print(\"Minimum Spanning Tree:\")\n",
    "for edge in mst:\n",
    "    print(edge)"
   ]
  }
 ],
 "metadata": {
  "kernelspec": {
   "display_name": "base",
   "language": "python",
   "name": "python3"
  },
  "language_info": {
   "codemirror_mode": {
    "name": "ipython",
    "version": 3
   },
   "file_extension": ".py",
   "mimetype": "text/x-python",
   "name": "python",
   "nbconvert_exporter": "python",
   "pygments_lexer": "ipython3",
   "version": "3.9.12"
  },
  "orig_nbformat": 4
 },
 "nbformat": 4,
 "nbformat_minor": 2
}
