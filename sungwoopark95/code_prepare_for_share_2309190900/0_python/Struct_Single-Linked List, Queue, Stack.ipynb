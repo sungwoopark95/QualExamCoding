{
 "cells": [
  {
   "cell_type": "markdown",
   "id": "656abd49",
   "metadata": {},
   "source": [
    "## <font color = 'red'>single linked list in python</font>"
   ]
  },
  {
   "cell_type": "code",
   "execution_count": null,
   "id": "f544e21f",
   "metadata": {},
   "outputs": [],
   "source": [
    "class LinkedNode():\n",
    "    def __init__(self, x) :\n",
    "        self.val=x\n",
    "        self.next=None\n",
    "\n",
    "class SLList():\n",
    "    def __init__(self) :\n",
    "        self.first=None\n",
    "        self.size=0\n",
    "    def addFirst(self, x) :\n",
    "        node=LinkedNode(x)\n",
    "        node.next=self.first\n",
    "        self.first=node\n",
    "        self.size+=1\n",
    "    def getFirsit(self) :\n",
    "        if self.first :\n",
    "            return self.first\n",
    "        else :\n",
    "            return None\n",
    "    def getSize(self) :\n",
    "        return self.size"
   ]
  },
  {
   "cell_type": "markdown",
   "id": "ff8f8df0",
   "metadata": {},
   "source": [
    "# <font color = 'red'> Queue </font>"
   ]
  },
  {
   "cell_type": "markdown",
   "id": "fe158f55",
   "metadata": {},
   "source": [
    "## Python에서 큐(Queue)를 사용하려면 queue 모듈을 사용할 수 있습니다. 이 모듈은 다양한 큐 구현을 제공합니다. 예를 들어, 일반적인 FIFO(First-In-First-Out) 큐를 사용하려면 queue.Queue 클래스를 사용할 수 있습니다. 다음은 queue.Queue 클래스의 사용 예제입니다.\n",
    "\n",
    "Python\n",
    "이 코드는 AI에서 생성됩니다. 신중하게 검토하고 사용하세요. 자세한 내용을 보려면 FAQ 방문.\n",
    "\n",
    "from queue import Queue\n",
    "\n",
    "# Create a new queue\n",
    "q = Queue()\n",
    "\n",
    "# Add items to the queue\n",
    "q.put(1)\n",
    "q.put(2)\n",
    "q.put(3)\n",
    "\n",
    "# Remove and return an item from the queue\n",
    "item = q.get()\n",
    "print(item)  # 1\n",
    "\n",
    "# Check if the queue is empty\n",
    "is_empty = q.empty()\n",
    "print(is_empty)  # False\n",
    "\n",
    "# Get the size of the queue\n",
    "size = q.qsize()\n",
    "print(size)  # 2\n",
    "이 코드는 queue.Queue 클래스를 사용하여 새로운 큐를 생성하고, put 메소드를 사용하여 큐에 항목을 추가합니다. get 메소드를 사용하여 큐에서 항목을 제거하고 반환합니다. empty 메소드를 사용하여 큐가 비어 있는지 확인하고, qsize 메소드를 사용하여 큐의 크기(항목 개수)를 구합니다.\n",
    "\n",
    "queue 모듈에는 다른 종류의 큐도 있습니다. 예를 들어, LIFO(Last-In-First-Out) 큐는 queue.LifoQueue 클래스로, 우선순위 큐는 queue.PriorityQueue 클래스로 구현되어 있습니다. 이들 클래스의 사용법은 queue.Queue와 유사합니다."
   ]
  },
  {
   "cell_type": "code",
   "execution_count": 1,
   "id": "94905786",
   "metadata": {},
   "outputs": [],
   "source": [
    "from queue import Queue\n",
    "q=Queue()"
   ]
  },
  {
   "cell_type": "code",
   "execution_count": 7,
   "id": "fbeac0cd",
   "metadata": {},
   "outputs": [
    {
     "name": "stdout",
     "output_type": "stream",
     "text": [
      "Help on class Queue in module queue:\n",
      "\n",
      "class Queue(builtins.object)\n",
      " |  Queue(maxsize=0)\n",
      " |  \n",
      " |  Create a queue object with a given maximum size.\n",
      " |  \n",
      " |  If maxsize is <= 0, the queue size is infinite.\n",
      " |  \n",
      " |  Methods defined here:\n",
      " |  \n",
      " |  __init__(self, maxsize=0)\n",
      " |      Initialize self.  See help(type(self)) for accurate signature.\n",
      " |  \n",
      " |  empty(self)\n",
      " |      Return True if the queue is empty, False otherwise (not reliable!).\n",
      " |      \n",
      " |      This method is likely to be removed at some point.  Use qsize() == 0\n",
      " |      as a direct substitute, but be aware that either approach risks a race\n",
      " |      condition where a queue can grow before the result of empty() or\n",
      " |      qsize() can be used.\n",
      " |      \n",
      " |      To create code that needs to wait for all queued tasks to be\n",
      " |      completed, the preferred technique is to use the join() method.\n",
      " |  \n",
      " |  full(self)\n",
      " |      Return True if the queue is full, False otherwise (not reliable!).\n",
      " |      \n",
      " |      This method is likely to be removed at some point.  Use qsize() >= n\n",
      " |      as a direct substitute, but be aware that either approach risks a race\n",
      " |      condition where a queue can shrink before the result of full() or\n",
      " |      qsize() can be used.\n",
      " |  \n",
      " |  get(self, block=True, timeout=None)\n",
      " |      Remove and return an item from the queue.\n",
      " |      \n",
      " |      If optional args 'block' is true and 'timeout' is None (the default),\n",
      " |      block if necessary until an item is available. If 'timeout' is\n",
      " |      a non-negative number, it blocks at most 'timeout' seconds and raises\n",
      " |      the Empty exception if no item was available within that time.\n",
      " |      Otherwise ('block' is false), return an item if one is immediately\n",
      " |      available, else raise the Empty exception ('timeout' is ignored\n",
      " |      in that case).\n",
      " |  \n",
      " |  get_nowait(self)\n",
      " |      Remove and return an item from the queue without blocking.\n",
      " |      \n",
      " |      Only get an item if one is immediately available. Otherwise\n",
      " |      raise the Empty exception.\n",
      " |  \n",
      " |  join(self)\n",
      " |      Blocks until all items in the Queue have been gotten and processed.\n",
      " |      \n",
      " |      The count of unfinished tasks goes up whenever an item is added to the\n",
      " |      queue. The count goes down whenever a consumer thread calls task_done()\n",
      " |      to indicate the item was retrieved and all work on it is complete.\n",
      " |      \n",
      " |      When the count of unfinished tasks drops to zero, join() unblocks.\n",
      " |  \n",
      " |  put(self, item, block=True, timeout=None)\n",
      " |      Put an item into the queue.\n",
      " |      \n",
      " |      If optional args 'block' is true and 'timeout' is None (the default),\n",
      " |      block if necessary until a free slot is available. If 'timeout' is\n",
      " |      a non-negative number, it blocks at most 'timeout' seconds and raises\n",
      " |      the Full exception if no free slot was available within that time.\n",
      " |      Otherwise ('block' is false), put an item on the queue if a free slot\n",
      " |      is immediately available, else raise the Full exception ('timeout'\n",
      " |      is ignored in that case).\n",
      " |  \n",
      " |  put_nowait(self, item)\n",
      " |      Put an item into the queue without blocking.\n",
      " |      \n",
      " |      Only enqueue the item if a free slot is immediately available.\n",
      " |      Otherwise raise the Full exception.\n",
      " |  \n",
      " |  qsize(self)\n",
      " |      Return the approximate size of the queue (not reliable!).\n",
      " |  \n",
      " |  task_done(self)\n",
      " |      Indicate that a formerly enqueued task is complete.\n",
      " |      \n",
      " |      Used by Queue consumer threads.  For each get() used to fetch a task,\n",
      " |      a subsequent call to task_done() tells the queue that the processing\n",
      " |      on the task is complete.\n",
      " |      \n",
      " |      If a join() is currently blocking, it will resume when all items\n",
      " |      have been processed (meaning that a task_done() call was received\n",
      " |      for every item that had been put() into the queue).\n",
      " |      \n",
      " |      Raises a ValueError if called more times than there were items\n",
      " |      placed in the queue.\n",
      " |  \n",
      " |  ----------------------------------------------------------------------\n",
      " |  Class methods defined here:\n",
      " |  \n",
      " |  __class_getitem__ = GenericAlias(...) from builtins.type\n",
      " |      Represent a PEP 585 generic type\n",
      " |      \n",
      " |      E.g. for t = list[int], t.__origin__ is list and t.__args__ is (int,).\n",
      " |  \n",
      " |  ----------------------------------------------------------------------\n",
      " |  Data descriptors defined here:\n",
      " |  \n",
      " |  __dict__\n",
      " |      dictionary for instance variables (if defined)\n",
      " |  \n",
      " |  __weakref__\n",
      " |      list of weak references to the object (if defined)\n",
      "\n"
     ]
    }
   ],
   "source": [
    "help(Queue)"
   ]
  },
  {
   "cell_type": "code",
   "execution_count": 2,
   "id": "ec981ba6",
   "metadata": {},
   "outputs": [],
   "source": [
    "# Add items to the queue\n",
    "q.put(6)\n",
    "q.put(3)\n",
    "q.put(9)\n"
   ]
  },
  {
   "cell_type": "code",
   "execution_count": 3,
   "id": "d9eaed17",
   "metadata": {},
   "outputs": [
    {
     "name": "stdout",
     "output_type": "stream",
     "text": [
      "6\n"
     ]
    }
   ],
   "source": [
    "# Remove and return an item from the queue\n",
    "item = q.get()\n",
    "print(item)  \n"
   ]
  },
  {
   "cell_type": "code",
   "execution_count": 4,
   "id": "b945ff00",
   "metadata": {},
   "outputs": [
    {
     "name": "stdout",
     "output_type": "stream",
     "text": [
      "3\n"
     ]
    }
   ],
   "source": [
    "# Remove and return an item from the queue\n",
    "item = q.get()\n",
    "print(item)  \n"
   ]
  },
  {
   "cell_type": "code",
   "execution_count": 5,
   "id": "233e6205",
   "metadata": {},
   "outputs": [
    {
     "name": "stdout",
     "output_type": "stream",
     "text": [
      "False\n"
     ]
    }
   ],
   "source": [
    "\n",
    "# Check if the queue is empty\n",
    "is_empty = q.empty()\n",
    "print(is_empty)  # False\n"
   ]
  },
  {
   "cell_type": "code",
   "execution_count": 6,
   "id": "fe75f6c9",
   "metadata": {},
   "outputs": [
    {
     "name": "stdout",
     "output_type": "stream",
     "text": [
      "1\n"
     ]
    }
   ],
   "source": [
    "# Get the size of the queue\n",
    "size = q.qsize()\n",
    "print(size)  # 2"
   ]
  },
  {
   "cell_type": "markdown",
   "id": "9c90856c",
   "metadata": {},
   "source": [
    "# <font color = 'red'> stack </font>"
   ]
  },
  {
   "cell_type": "markdown",
   "id": "4df0bb38",
   "metadata": {},
   "source": [
    "## Python에서 스택(Stack)을 사용하려면 리스트(List)를 사용할 수 있습니다. Python의 리스트는 스택의 동작을 지원하는 메소드를 제공합니다. 예를 들어, append 메소드를 사용하여 스택에 항목을 추가하고, pop 메소드를 사용하여 스택에서 항목을 제거하고 반환할 수 있습니다. 다음은 Python의 리스트를 사용하여 스택을 구현하는 예제입니다.\n",
    "\n",
    "Python\n",
    "이 코드는 AI에서 생성됩니다. 신중하게 검토하고 사용하세요. 자세한 내용을 보려면 FAQ 방문.\n",
    "\n",
    "# Create a new stack\n",
    "stack = []\n",
    "\n",
    "# Add items to the stack\n",
    "stack.append(1)\n",
    "stack.append(2)\n",
    "stack.append(3)\n",
    "\n",
    "# Remove and return an item from the stack\n",
    "item = stack.pop()\n",
    "print(item)  # 3\n",
    "\n",
    "# Check if the stack is empty\n",
    "is_empty = not bool(stack)\n",
    "print(is_empty)  # False\n",
    "\n",
    "# Get the size of the stack\n",
    "size = len(stack)\n",
    "print(size)  # 2\n",
    "이 코드는 새로운 스택을 생성하고, append 메소드를 사용하여 스택에 항목을 추가합니다. pop 메소드를 사용하여 스택에서 항목을 제거하고 반환합니다. not bool(stack)을 사용하여 스택이 비어 있는지 확인하고, len 함수를 사용하여 스택의 크기(항목 개수)를 구합니다.\n",
    "\n",
    "Python의 리스트는 스택의 동작을 지원하기 때문에, 별도의 스택 자료구조를 구현할 필요가 없습니다. 리스트의 append와 pop 메소드만으로도 스택의 기본적인 동작을 구현할 수 있습니다."
   ]
  }
 ],
 "metadata": {
  "kernelspec": {
   "display_name": "Python 3 (ipykernel)",
   "language": "python",
   "name": "python3"
  },
  "language_info": {
   "codemirror_mode": {
    "name": "ipython",
    "version": 3
   },
   "file_extension": ".py",
   "mimetype": "text/x-python",
   "name": "python",
   "nbconvert_exporter": "python",
   "pygments_lexer": "ipython3",
   "version": "3.9.12"
  }
 },
 "nbformat": 4,
 "nbformat_minor": 5
}
