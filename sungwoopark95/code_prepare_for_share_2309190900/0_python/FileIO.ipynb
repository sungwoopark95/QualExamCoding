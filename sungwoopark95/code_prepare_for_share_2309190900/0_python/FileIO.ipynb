{
 "cells": [
  {
   "cell_type": "code",
   "execution_count": 43,
   "id": "398e4ce6",
   "metadata": {},
   "outputs": [
    {
     "ename": "SyntaxError",
     "evalue": "invalid syntax (2566291004.py, line 1)",
     "output_type": "error",
     "traceback": [
      "\u001b[1;36m  Input \u001b[1;32mIn [43]\u001b[1;36m\u001b[0m\n\u001b[1;33m    import typing TextIO\u001b[0m\n\u001b[1;37m                  ^\u001b[0m\n\u001b[1;31mSyntaxError\u001b[0m\u001b[1;31m:\u001b[0m invalid syntax\n"
     ]
    }
   ],
   "source": [
    "import typing TextIO\n",
    "import os\n",
    "os.getcwd()\n",
    "# os.chdir(\"절대경로\")"
   ]
  },
  {
   "cell_type": "code",
   "execution_count": 7,
   "id": "cdfff2c1",
   "metadata": {},
   "outputs": [
    {
     "name": "stdout",
     "output_type": "stream",
     "text": [
      "First line of text\n",
      "Second line of text\n",
      "Third  line of text\n"
     ]
    }
   ],
   "source": [
    "file=open('file_example.txt', 'r')\n",
    "contents=file.read()\n",
    "file.close()\n",
    "print(contents)"
   ]
  },
  {
   "cell_type": "code",
   "execution_count": 16,
   "id": "0c2fec31",
   "metadata": {},
   "outputs": [
    {
     "name": "stdout",
     "output_type": "stream",
     "text": [
      "First line\n",
      " of text\n",
      "Second line\n"
     ]
    }
   ],
   "source": [
    "#글자수 지정하여 읽기\n",
    "with open('file_example.txt','r') as file:\n",
    "    for i in range(2):\n",
    "        contents=file.read(10*(i+1))\n",
    "        print(contents)\n"
   ]
  },
  {
   "cell_type": "code",
   "execution_count": 22,
   "id": "967057a4",
   "metadata": {},
   "outputs": [
    {
     "name": "stdout",
     "output_type": "stream",
     "text": [
      "['First line of text\\n', 'Second line of text\\n', 'Third  line of text']\n"
     ]
    },
    {
     "data": {
      "text/plain": [
       "list"
      ]
     },
     "execution_count": 22,
     "metadata": {},
     "output_type": "execute_result"
    }
   ],
   "source": [
    "with open('file_example.txt','r') as file:\n",
    "        contents=file.readlines()\n",
    "        print(contents)\n",
    "type(contents)"
   ]
  },
  {
   "cell_type": "code",
   "execution_count": 23,
   "id": "8fa490d5",
   "metadata": {},
   "outputs": [
    {
     "name": "stdout",
     "output_type": "stream",
     "text": [
      "Original lines:\n",
      "'First line of text\\n'\n",
      "'Second line of text\\n'\n",
      "'Third  line of text'\n",
      "\n",
      "Stripped lines:\n",
      "'First line of text'\n",
      "'Second line of text'\n",
      "'Third  line of text'\n"
     ]
    }
   ],
   "source": [
    "# Open the text file for reading\n",
    "with open('file_example.txt', 'r') as file:\n",
    "    # Read all lines from the file and store them in a list\n",
    "    lines = file.readlines()\n",
    "\n",
    "# Remove whitespace from each line using the strip() method\n",
    "stripped_lines = [line.strip() for line in lines]\n",
    "\n",
    "# Print the original lines and the stripped lines for comparison\n",
    "print(\"Original lines:\")\n",
    "for line in lines:\n",
    "    print(repr(line))  # repr() is used to show special characters like newline\n",
    "\n",
    "print(\"\\nStripped lines:\")\n",
    "for line in stripped_lines:\n",
    "    print(repr(line))\n",
    "\n",
    "# Now you can use the 'stripped_lines' list without extra whitespace"
   ]
  },
  {
   "cell_type": "code",
   "execution_count": 34,
   "id": "7d1488bf",
   "metadata": {},
   "outputs": [
    {
     "name": "stdout",
     "output_type": "stream",
     "text": [
      "'First line of text\\n'\n"
     ]
    }
   ],
   "source": [
    "with open('file_example.txt','r') as file:\n",
    "    line=file.readline()\n",
    "    print(repr(line))"
   ]
  },
  {
   "cell_type": "code",
   "execution_count": 33,
   "id": "8f798a73",
   "metadata": {},
   "outputs": [
    {
     "name": "stdout",
     "output_type": "stream",
     "text": [
      "'First line of text\\n'\n",
      "'Second line of text\\n'\n",
      "'Third  line of text'\n"
     ]
    }
   ],
   "source": [
    "with open('file_example.txt','r') as file:\n",
    "    for line in file:\n",
    "        print(repr(line))"
   ]
  },
  {
   "cell_type": "code",
   "execution_count": 29,
   "id": "d3f45cdd",
   "metadata": {},
   "outputs": [
    {
     "name": "stdout",
     "output_type": "stream",
     "text": [
      "First line of text\n",
      "\n"
     ]
    }
   ],
   "source": [
    "with open('file_example.txt','r') as file:\n",
    "    contents=file.readline()\n",
    "    print(contents)"
   ]
  },
  {
   "cell_type": "code",
   "execution_count": 35,
   "id": "7bf11884",
   "metadata": {
    "scrolled": true
   },
   "outputs": [
    {
     "name": "stdout",
     "output_type": "stream",
     "text": [
      "Coloured fox fur production, HOPEDALE, Labrador,, 1834-1925\n",
      "#Source: C. Elton (1942) \"Voles, Mice and Lemmings\", Oxford Univ. Press\n",
      "#Table 17, p.265--266\n",
      "22\n",
      "29\n",
      "2\n",
      "16\n",
      "12\n",
      "35\n",
      "8\n",
      "83\n",
      "166\n",
      "62\n",
      "77\n",
      "42\n",
      "54\n",
      "56\n",
      "5\n",
      "9\n",
      "78\n",
      "151\n",
      "27\n",
      "14\n",
      "71\n",
      "261\n",
      "22\n",
      "3\n",
      "16\n",
      "70\n",
      "7\n",
      "2\n",
      "26\n",
      "27\n",
      "35\n",
      "9\n",
      "11\n",
      "73\n",
      "39\n",
      "22\n",
      "41\n",
      "31\n",
      "60\n",
      "7\n",
      "28\n",
      "43\n",
      "17\n",
      "26\n",
      "35\n",
      "60\n",
      "75\n",
      "18\n",
      "58\n",
      "38\n",
      "28\n",
      "26\n",
      "29\n",
      "43\n",
      "16\n",
      "40\n",
      "25\n",
      "28\n",
      "12\n",
      "22\n",
      "13\n",
      "52\n",
      "90\n",
      "103\n",
      "15\n",
      "26\n",
      "29\n",
      "102\n",
      "31\n",
      "9\n",
      "33\n",
      "90\n",
      "95\n",
      "17\n",
      "35\n",
      "59\n",
      "115\n",
      "12\n",
      "26\n",
      "38\n",
      "202\n",
      "25\n",
      "83\n",
      "92\n",
      "58\n",
      "0\n",
      "19\n",
      "63\n",
      "108\n",
      "25\n",
      "38\n",
      "231\n"
     ]
    }
   ],
   "source": [
    "import urllib.request\n",
    "url=\"https://robjhyndman.com/tsdldata/ecology1/hopedale.dat\"\n",
    "with urllib.request.urlopen(url) as file:\n",
    "    for line in file:\n",
    "        line = line.strip()\n",
    "        line = line.decode(\"utf-8\")\n",
    "        print(line)"
   ]
  },
  {
   "cell_type": "code",
   "execution_count": 57,
   "id": "b8d9e575",
   "metadata": {},
   "outputs": [
    {
     "name": "stdout",
     "output_type": "stream",
     "text": [
      "\n",
      "['Inhoe', 'Jaewook', 'Peter'] ['2021-1111', '2021-2222', '2022-3333'] ['A+', 'A+', 'B+']\n"
     ]
    }
   ],
   "source": [
    "names, numbers, grades = [], [], []\n",
    "\n",
    "def skip_header(input_file):\n",
    "    line = input_file.readline() #읽고\n",
    "    while line.startswith('#'): #샵으로 시작하면\n",
    "        line=input_file.readline() #다음줄 읽어\n",
    "    return line #샵으로 시작안하면 return\n",
    "\n",
    "def process_file(input_file):\n",
    "    line = skip_header(input_file) #처음으로 샵이 아닌 자료\n",
    "    while line :\n",
    "        line=line.strip() #공백 지워주고,\n",
    "        if line != '-':\n",
    "            value = line.split() #['inhoe', '2022-1111', 'A+'']\n",
    "            names.append(value[0])\n",
    "            numbers.append(value[1])\n",
    "            grades.append(value[2])\n",
    "        line = input_file.readline() #다음줄 읽어\n",
    "    print(line)\n",
    "\n",
    "with open('file_grade.txt', 'r', encoding='utf-8') as students :\n",
    "    process_file(students)\n",
    "    \n",
    "with open('file_grade_rewrite.txt', 'w') as output_file :\n",
    "    for name in names :\n",
    "        output_file.write(name+'\\t\\t\\t')\n",
    "    output_file.write('\\n')\n",
    "    for number in numbers :\n",
    "        output_file.write(number+'\\t\\t\\t')\n",
    "    output_file.write('\\n')\n",
    "    for grade in grades :\n",
    "        output_file.write(grade+'\\t\\t\\t')\n",
    "    output_file.write('\\n')\n",
    "\n",
    "with open('file_grade_rewrite.txt.', 'a') as output_file:\n",
    "    output_file.write('This is the end of file.\\n')\n",
    "print(names, numbers, grades)"
   ]
  },
  {
   "cell_type": "code",
   "execution_count": null,
   "id": "a8df4ddd",
   "metadata": {},
   "outputs": [],
   "source": []
  }
 ],
 "metadata": {
  "kernelspec": {
   "display_name": "Python 3 (ipykernel)",
   "language": "python",
   "name": "python3"
  },
  "language_info": {
   "codemirror_mode": {
    "name": "ipython",
    "version": 3
   },
   "file_extension": ".py",
   "mimetype": "text/x-python",
   "name": "python",
   "nbconvert_exporter": "python",
   "pygments_lexer": "ipython3",
   "version": "3.9.12"
  }
 },
 "nbformat": 4,
 "nbformat_minor": 5
}
