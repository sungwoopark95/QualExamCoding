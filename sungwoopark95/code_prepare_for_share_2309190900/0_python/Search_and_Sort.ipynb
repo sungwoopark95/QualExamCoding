{
 "cells": [
  {
   "cell_type": "markdown",
   "id": "ec2fd55d",
   "metadata": {},
   "source": [
    "# Line Search"
   ]
  },
  {
   "cell_type": "code",
   "execution_count": 1,
   "id": "ada76454",
   "metadata": {},
   "outputs": [],
   "source": [
    "def linear_search_while(L:list, value)->int:\n",
    "    i=0\n",
    "    while i<len(L) and L[i]!=value: #끝까지 다 훑었거나 값을 찾으면 exit\n",
    "        i=i+1\n",
    "    if i==len(L) : #다 훑었을 경우라면\n",
    "        return -1\n",
    "    else: #값을 찾았다면\n",
    "        return i"
   ]
  },
  {
   "cell_type": "code",
   "execution_count": 3,
   "id": "5104e968",
   "metadata": {},
   "outputs": [],
   "source": [
    "def linear_search_sentinel(L:list, value)->int:\n",
    "    L.append(value) #Add the sentinel\n",
    "    i=0\n",
    "    while L[i]!=value: #This condition is enough\n",
    "        i=i+1\n",
    "    L.pop() #Remove the sentinel\n",
    "    if i==len(L):\n",
    "        return -1\n",
    "    else:\n",
    "        return i"
   ]
  },
  {
   "cell_type": "code",
   "execution_count": 4,
   "id": "96f2f3c4",
   "metadata": {},
   "outputs": [],
   "source": [
    "def linear_search_for(L:list, value)->int:\n",
    "    for i in range(len(L)) :\n",
    "        if L[i]==value:\n",
    "            return i\n",
    "    return -1"
   ]
  },
  {
   "cell_type": "code",
   "execution_count": 12,
   "id": "225a6a35",
   "metadata": {},
   "outputs": [
    {
     "name": "stdout",
     "output_type": "stream",
     "text": [
      "[10, 9, 8, 7, 6, 5, 4, 3, 2, 1]\n"
     ]
    },
    {
     "data": {
      "text/plain": [
       "6"
      ]
     },
     "execution_count": 12,
     "metadata": {},
     "output_type": "execute_result"
    }
   ],
   "source": [
    "list_ex=[(10-i) for i in range(10)]\n",
    "print(list_ex)\n",
    "list_ex.index(4)"
   ]
  },
  {
   "cell_type": "markdown",
   "id": "bea13a8c",
   "metadata": {},
   "source": [
    "# Time Complexity"
   ]
  },
  {
   "cell_type": "code",
   "execution_count": 10,
   "id": "5e59aaf1",
   "metadata": {},
   "outputs": [
    {
     "name": "stdout",
     "output_type": "stream",
     "text": [
      "3259.2738999999824\n"
     ]
    }
   ],
   "source": [
    "import time\n",
    "t_start=time.perf_counter()\n",
    "n=0\n",
    "for i in range(10000000) :\n",
    "    n+=(-1)**i\n",
    "t_end=time.perf_counter()\n",
    "print((t_end-t_start)*1000)"
   ]
  },
  {
   "cell_type": "markdown",
   "id": "ef3989fc",
   "metadata": {},
   "source": [
    "# Binary Search"
   ]
  },
  {
   "cell_type": "code",
   "execution_count": 13,
   "id": "c86f5379",
   "metadata": {},
   "outputs": [],
   "source": [
    "def binary_search(L:list, v) :\n",
    "    start=0\n",
    "    end=len(L)-1\n",
    "    while (start<=end) :\n",
    "        mid=(start+end)//2\n",
    "        if L[mid]<v :\n",
    "            start=mid+1\n",
    "        else :\n",
    "            end=mid-1\n",
    "    if start<len(L) and L[start]==v :\n",
    "        return start\n",
    "    else :\n",
    "        return -1"
   ]
  },
  {
   "cell_type": "markdown",
   "id": "b32494f0",
   "metadata": {},
   "source": [
    "# Selection Sort"
   ]
  },
  {
   "cell_type": "code",
   "execution_count": 17,
   "id": "4824a6b0",
   "metadata": {},
   "outputs": [],
   "source": [
    "def selection_sort(L) :\n",
    "    for i in range(len(L)) :\n",
    "        smallest=i\n",
    "        for j in range(i+1, len(L)) :\n",
    "            if L[j]<L[smallest] :\n",
    "                smallest=j\n",
    "        L[i], L[smallest] = L[smallest], L[i]"
   ]
  },
  {
   "cell_type": "code",
   "execution_count": 18,
   "id": "a75f865d",
   "metadata": {},
   "outputs": [
    {
     "name": "stdout",
     "output_type": "stream",
     "text": [
      "[37, 10, 22, 19, 20, 63, 17, 73, 79, 28]\n",
      "[10, 17, 19, 20, 22, 28, 37, 63, 73, 79]\n"
     ]
    }
   ],
   "source": [
    "import random\n",
    "l = [random.randint(0, 80) for _ in range(10)]\n",
    "print(l)\n",
    "selection_sort(l)\n",
    "print(l)"
   ]
  },
  {
   "cell_type": "markdown",
   "id": "0db8b895",
   "metadata": {},
   "source": [
    "# Insertion Sort"
   ]
  },
  {
   "cell_type": "code",
   "execution_count": 23,
   "id": "acd66343",
   "metadata": {},
   "outputs": [],
   "source": [
    "def insertion_sort(L) :\n",
    "    for i in range(1, len(L)) :\n",
    "        for j in range(i-1, -1, -1) :\n",
    "            if L[j]>L[j+1] :\n",
    "                L[j], L[j+1] = L[j+1], L[j]\n",
    "            else :\n",
    "                break"
   ]
  },
  {
   "cell_type": "code",
   "execution_count": 24,
   "id": "4cec34d5",
   "metadata": {},
   "outputs": [
    {
     "name": "stdout",
     "output_type": "stream",
     "text": [
      "[49, 53, 46, 2, 64, 12, 13, 6, 51, 52]\n",
      "[2, 6, 12, 13, 46, 49, 51, 52, 53, 64]\n"
     ]
    }
   ],
   "source": [
    "import random\n",
    "l = [random.randint(0, 80) for _ in range(10)]\n",
    "print(l)\n",
    "insertion_sort(l)\n",
    "print(l)"
   ]
  },
  {
   "cell_type": "markdown",
   "id": "3d2e3298",
   "metadata": {},
   "source": [
    "# Merge Sort"
   ]
  },
  {
   "cell_type": "code",
   "execution_count": 9,
   "id": "4c16d2f0",
   "metadata": {},
   "outputs": [],
   "source": [
    "def merge_sort(L, start, end) : \n",
    "    if start==end :\n",
    "        return None\n",
    "    mid = start + (end-start)//2\n",
    "    merge_sort(L,start, mid)\n",
    "    merge_sort(L,mid+1, end)\n",
    "    merge(L, start, mid, end)\n",
    "def merge(L, start, mid, end) :\n",
    "    sub1=L[start:mid+1]\n",
    "    sub2=L[mid+1:end+1]\n",
    "    k=start\n",
    "    i,j=0,0\n",
    "    while (i<len(sub1) and j<len(sub2)) :\n",
    "        if sub1[i]<=sub2[j] :\n",
    "            L[k]=sub1[i]\n",
    "            i+=1\n",
    "        else :\n",
    "            L[k]=sub2[j]\n",
    "            j+=1\n",
    "        k+=1\n",
    "    if i<len(sub1) :\n",
    "        L[k:end+1]=sub1[i:]\n",
    "    elif j<len(sub2):\n",
    "        L[k:end+1]=sub2[j:]"
   ]
  },
  {
   "cell_type": "code",
   "execution_count": 35,
   "id": "b081dc9c",
   "metadata": {},
   "outputs": [
    {
     "name": "stdout",
     "output_type": "stream",
     "text": [
      "[2, 55, 2, 16, 18, 25, 3, 49, 57, 36, 52, 23, 48, 23, 2, 26, 19, 29, 52, 78, 61, 41, 70, 79]\n",
      "[2, 2, 2, 3, 16, 18, 19, 23, 23, 25, 26, 29, 36, 41, 48, 49, 52, 52, 55, 57, 61, 70, 78, 79]\n"
     ]
    }
   ],
   "source": [
    "import random\n",
    "l = [random.randint(0, 80) for _ in range(24)]\n",
    "print(l)\n",
    "merge_sort(l, 0, len(l))\n",
    "print(l)"
   ]
  },
  {
   "cell_type": "markdown",
   "id": "d17d5660",
   "metadata": {},
   "source": [
    "# Test"
   ]
  },
  {
   "cell_type": "code",
   "execution_count": 1,
   "id": "9ece18cb",
   "metadata": {},
   "outputs": [],
   "source": [
    "def binary_search_nearest(L:list, v) :\n",
    "    start=0\n",
    "    end=len(L)-1\n",
    "    while (start<=end) :\n",
    "        mid=(start+end)//2\n",
    "        if L[mid]<v :\n",
    "            start=mid+1\n",
    "        else :\n",
    "            end=mid-1\n",
    "    if start<len(L) and L[start]<=v : #여기 바꿈\n",
    "        return start\n",
    "    else :\n",
    "        return -1"
   ]
  },
  {
   "cell_type": "code",
   "execution_count": 2,
   "id": "195a32fd",
   "metadata": {},
   "outputs": [
    {
     "name": "stdout",
     "output_type": "stream",
     "text": [
      "[0, 1, 2, 3, 4, 5, 6, 7, 8, 9]\n"
     ]
    },
    {
     "data": {
      "text/plain": [
       "-1"
      ]
     },
     "execution_count": 2,
     "metadata": {},
     "output_type": "execute_result"
    }
   ],
   "source": [
    "ex_list=[i for i in range(10)]\n",
    "print(ex_list)\n",
    "binary_search_nearest(ex_list, 5.5)"
   ]
  },
  {
   "cell_type": "code",
   "execution_count": 5,
   "id": "7d5fa60a",
   "metadata": {},
   "outputs": [
    {
     "data": {
      "text/plain": [
       "3"
      ]
     },
     "execution_count": 5,
     "metadata": {},
     "output_type": "execute_result"
    }
   ],
   "source": [
    "import math\n",
    "math.floor(3.3)"
   ]
  },
  {
   "cell_type": "code",
   "execution_count": 11,
   "id": "a8856317",
   "metadata": {},
   "outputs": [
    {
     "name": "stdout",
     "output_type": "stream",
     "text": [
      "i is 0, j is 1\n",
      "i is 1, j is 5\n",
      "i is 2, j is 2\n"
     ]
    },
    {
     "data": {
      "text/plain": [
       "[4, 0, 3]"
      ]
     },
     "execution_count": 11,
     "metadata": {},
     "output_type": "execute_result"
    }
   ],
   "source": [
    "def binary_search(L, v) :\n",
    "    start=0\n",
    "    end=len(L)-1\n",
    "    while (start<=end) :\n",
    "        mid=(start+end)//2\n",
    "        if L[mid]<v :\n",
    "            start=mid+1\n",
    "        else :#L[mid]>=v\n",
    "            end=mid-1\n",
    "    if start<len(L) and L[start]>=v :\n",
    "        return start\n",
    "    elif start >= len(L):\n",
    "        return len(L)\n",
    "spells = [5,1,3]\n",
    "potions = [1,2,3,4,5]\n",
    "\n",
    "def successfulPairs(spells, potions, success):\n",
    "    \"\"\"\n",
    "    :type spells: List[int]\n",
    "    :type potions: List[int]\n",
    "    :type success: int\n",
    "    :rtype: List[int]\n",
    "    \"\"\"\n",
    "    import math\n",
    "    n=len(potions)\n",
    "    for i in range(len(spells)):\n",
    "        j=binary_search(potions, success/spells[i])\n",
    "        print(f\"i is {i}, j is {j}\")\n",
    "        spells[i]=n-j\n",
    "    return spells\n",
    "successfulPairs(spells,potions,7)"
   ]
  },
  {
   "cell_type": "code",
   "execution_count": 10,
   "id": "faaca4fa",
   "metadata": {},
   "outputs": [
    {
     "data": {
      "text/plain": [
       "[1, 2, 3, 4, 5]"
      ]
     },
     "execution_count": 10,
     "metadata": {},
     "output_type": "execute_result"
    }
   ],
   "source": [
    "merge_sort(potions, 0, len(potions))\n",
    "potions"
   ]
  },
  {
   "cell_type": "code",
   "execution_count": null,
   "id": "e341ac20",
   "metadata": {},
   "outputs": [],
   "source": []
  }
 ],
 "metadata": {
  "kernelspec": {
   "display_name": "Python 3 (ipykernel)",
   "language": "python",
   "name": "python3"
  },
  "language_info": {
   "codemirror_mode": {
    "name": "ipython",
    "version": 3
   },
   "file_extension": ".py",
   "mimetype": "text/x-python",
   "name": "python",
   "nbconvert_exporter": "python",
   "pygments_lexer": "ipython3",
   "version": "3.9.12"
  }
 },
 "nbformat": 4,
 "nbformat_minor": 5
}
