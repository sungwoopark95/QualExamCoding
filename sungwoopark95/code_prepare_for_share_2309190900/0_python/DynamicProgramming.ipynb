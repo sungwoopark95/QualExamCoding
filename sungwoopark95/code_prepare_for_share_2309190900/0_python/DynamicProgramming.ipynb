{
 "cells": [
  {
   "cell_type": "markdown",
   "id": "d742ca96",
   "metadata": {},
   "source": [
    "# Dynamic Programming"
   ]
  },
  {
   "cell_type": "code",
   "execution_count": 3,
   "id": "b30b51e7",
   "metadata": {},
   "outputs": [
    {
     "name": "stdout",
     "output_type": "stream",
     "text": [
      "{1: 1, 2: 5, 3: 8, 4: 9, 5: 10, 6: 17, 7: 17, 8: 20, 9: 24, 10: 30}\n"
     ]
    }
   ],
   "source": [
    "price_list=[1, 5, 8, 9, 10, 17, 17, 20, 24, 30]\n",
    "price=dict()\n",
    "for i in range(10) :\n",
    "    price[i+1]=price_list[i]\n",
    "print(price)"
   ]
  },
  {
   "cell_type": "code",
   "execution_count": 17,
   "id": "3b465b6d",
   "metadata": {},
   "outputs": [
    {
     "name": "stdout",
     "output_type": "stream",
     "text": [
      "1 : 1\n",
      "2 : 5\n",
      "3 : 8\n",
      "4 : 10\n",
      "5 : 13\n",
      "6 : 17\n",
      "7 : 18\n",
      "8 : 22\n",
      "9 : 25\n",
      "10 : 30\n",
      "11 : 31\n",
      "12 : 35\n",
      "13 : 38\n",
      "14 : 40\n",
      "15 : 43\n",
      "16 : 47\n",
      "17 : 48\n",
      "18 : 52\n",
      "19 : 55\n",
      "20 : 60\n"
     ]
    }
   ],
   "source": [
    "def naive_dp(price, n) :\n",
    "    if n==0 : return 0\n",
    "    q=float('-inf')\n",
    "    for i in range(1, min(10,n)+1, 1) :\n",
    "        q=max(q, price[i]+naive_dp(price, n-i))\n",
    "    return q\n",
    "\n",
    "res=dict()\n",
    "for i in range(1, 21, 1):\n",
    "    res[i]=naive_dp(price, i)\n",
    "    \n",
    "for key, value in res.items():\n",
    "    print(f'{key} : {value}')"
   ]
  },
  {
   "cell_type": "code",
   "execution_count": 26,
   "id": "4b5d6986",
   "metadata": {},
   "outputs": [
    {
     "data": {
      "text/plain": [
       "52"
      ]
     },
     "execution_count": 26,
     "metadata": {},
     "output_type": "execute_result"
    }
   ],
   "source": [
    "def top_down_dp(price, n) :\n",
    "    r=[float('-inf')]*(n+1)\n",
    "    return memoize_top_down(price, n, r)\n",
    "def memoize_top_down(price, n, r) :\n",
    "    if r[n]>=0 : return r[n]\n",
    "    if n==0 : \n",
    "        q=0\n",
    "    else:\n",
    "        q=float('-inf')\n",
    "        for i in range(1, min(10,n)+1, 1) :\n",
    "            q=max(q, price[i]+memoize_top_down(price, n-i,r))\n",
    "    r[n]=q\n",
    "    return q\n",
    "\n",
    "top_down_dp(price, 18)"
   ]
  },
  {
   "cell_type": "code",
   "execution_count": 30,
   "id": "e34400d0",
   "metadata": {},
   "outputs": [
    {
     "data": {
      "text/plain": [
       "52"
      ]
     },
     "execution_count": 30,
     "metadata": {},
     "output_type": "execute_result"
    }
   ],
   "source": [
    "def bottom_up_dp(price, n) :\n",
    "    r=[float('-inf')]*(n+1)\n",
    "    r[0]=0\n",
    "    for i in range(1, n+1, 1) :\n",
    "        q=float('-inf')\n",
    "        for j in range(1, min(10,i)+1, 1) :\n",
    "            q=max(q, price[j]+r[i-j])\n",
    "        r[i]=q\n",
    "    return r[n]\n",
    "\n",
    "bottom_up_dp(price, 18)"
   ]
  },
  {
   "cell_type": "code",
   "execution_count": 40,
   "id": "314e639e",
   "metadata": {},
   "outputs": [
    {
     "name": "stdout",
     "output_type": "stream",
     "text": [
      "i=0, r[i]=0, s[i]=0\n",
      "i=1, r[i]=1, s[i]=1\n",
      "i=2, r[i]=5, s[i]=2\n",
      "i=3, r[i]=8, s[i]=3\n",
      "i=4, r[i]=10, s[i]=2\n",
      "i=5, r[i]=13, s[i]=2\n",
      "i=6, r[i]=17, s[i]=6\n",
      "i=7, r[i]=18, s[i]=1\n",
      "i=8, r[i]=22, s[i]=2\n",
      "i=9, r[i]=25, s[i]=3\n",
      "i=10, r[i]=30, s[i]=10\n",
      "i=11, r[i]=31, s[i]=1\n",
      "i=12, r[i]=35, s[i]=2\n",
      "i=13, r[i]=38, s[i]=3\n",
      "i=14, r[i]=40, s[i]=2\n",
      "i=15, r[i]=43, s[i]=2\n",
      "i=16, r[i]=47, s[i]=6\n",
      "i=17, r[i]=48, s[i]=1\n",
      "i=18, r[i]=52, s[i]=2\n",
      "i=19, r[i]=55, s[i]=3\n",
      "i=20, r[i]=60, s[i]=10\n",
      "------------------CHECK HOW TO CUT------------------\n",
      "i=1, r[i]=1, s[i]=1\n",
      "CUT :\t1-\t\n",
      "PRICE:\t1-\t\n",
      "i=2, r[i]=5, s[i]=2\n",
      "CUT :\t2-\t\n",
      "PRICE:\t5-\t\n",
      "i=3, r[i]=8, s[i]=3\n",
      "CUT :\t3-\t\n",
      "PRICE:\t8-\t\n",
      "i=4, r[i]=10, s[i]=2\n",
      "CUT :\t2-\t2-\t\n",
      "PRICE:\t5-\t5-\t\n",
      "i=5, r[i]=13, s[i]=2\n",
      "CUT :\t2-\t3-\t\n",
      "PRICE:\t5-\t8-\t\n",
      "i=6, r[i]=17, s[i]=6\n",
      "CUT :\t6-\t\n",
      "PRICE:\t17-\t\n",
      "i=7, r[i]=18, s[i]=1\n",
      "CUT :\t1-\t6-\t\n",
      "PRICE:\t1-\t17-\t\n",
      "i=8, r[i]=22, s[i]=2\n",
      "CUT :\t2-\t6-\t\n",
      "PRICE:\t5-\t17-\t\n",
      "i=9, r[i]=25, s[i]=3\n",
      "CUT :\t3-\t6-\t\n",
      "PRICE:\t8-\t17-\t\n",
      "i=10, r[i]=30, s[i]=10\n",
      "CUT :\t10-\t\n",
      "PRICE:\t30-\t\n",
      "i=11, r[i]=31, s[i]=1\n",
      "CUT :\t1-\t10-\t\n",
      "PRICE:\t1-\t30-\t\n",
      "i=12, r[i]=35, s[i]=2\n",
      "CUT :\t2-\t10-\t\n",
      "PRICE:\t5-\t30-\t\n",
      "i=13, r[i]=38, s[i]=3\n",
      "CUT :\t3-\t10-\t\n",
      "PRICE:\t8-\t30-\t\n",
      "i=14, r[i]=40, s[i]=2\n",
      "CUT :\t2-\t2-\t10-\t\n",
      "PRICE:\t5-\t5-\t30-\t\n",
      "i=15, r[i]=43, s[i]=2\n",
      "CUT :\t2-\t3-\t10-\t\n",
      "PRICE:\t5-\t8-\t30-\t\n",
      "i=16, r[i]=47, s[i]=6\n",
      "CUT :\t6-\t10-\t\n",
      "PRICE:\t17-\t30-\t\n",
      "i=17, r[i]=48, s[i]=1\n",
      "CUT :\t1-\t6-\t10-\t\n",
      "PRICE:\t1-\t17-\t30-\t\n",
      "i=18, r[i]=52, s[i]=2\n",
      "CUT :\t2-\t6-\t10-\t\n",
      "PRICE:\t5-\t17-\t30-\t\n",
      "i=19, r[i]=55, s[i]=3\n",
      "CUT :\t3-\t6-\t10-\t\n",
      "PRICE:\t8-\t17-\t30-\t\n",
      "i=20, r[i]=60, s[i]=10\n",
      "CUT :\t10-\t10-\t\n",
      "PRICE:\t30-\t30-\t\n"
     ]
    }
   ],
   "source": [
    "def bottom_up_dp(price, n) :\n",
    "    r=[float('-inf')]*(n+1)\n",
    "    cut_len=[0]*(n+1)\n",
    "    r[0]=0\n",
    "    for i in range(1, n+1, 1) :\n",
    "        q=float('-inf')\n",
    "        for j in range(1, min(10,i)+1, 1) :\n",
    "            new_val=max(q, price[j]+r[i-j])\n",
    "            if new_val > q :\n",
    "                q=new_val\n",
    "                cut_len[i]=j\n",
    "        r[i]=q\n",
    "    return r, cut_len\n",
    "\n",
    "r, s = bottom_up_dp(price, 20)\n",
    "for i in range(21) :\n",
    "    print(f'i={i}, r[i]={r[i]}, s[i]={s[i]}')\n",
    "\n",
    "\n",
    "print(\"------------------CHECK HOW TO CUT------------------\")\n",
    "\n",
    "for i in range(1, 21, 1):\n",
    "    length=i\n",
    "    print(f'i={length}, r[i]={r[length]}, s[i]={s[length]}')\n",
    "    \n",
    "    print(\"CUT :\\t\", end=\"\")\n",
    "    while length :\n",
    "        print(f'{s[length]}-\\t', end=\"\")\n",
    "        length-=s[length]\n",
    "    print(\"\")\n",
    "    \n",
    "    \n",
    "    length=i\n",
    "    print(\"PRICE:\\t\", end=\"\")\n",
    "    while length :\n",
    "        print(f'{price[s[length]]}-\\t', end=\"\")\n",
    "        length-=s[length]\n",
    "        \n",
    "    print(\"\")"
   ]
  },
  {
   "cell_type": "code",
   "execution_count": null,
   "id": "f4a0ac25",
   "metadata": {},
   "outputs": [],
   "source": []
  }
 ],
 "metadata": {
  "kernelspec": {
   "display_name": "Python 3 (ipykernel)",
   "language": "python",
   "name": "python3"
  },
  "language_info": {
   "codemirror_mode": {
    "name": "ipython",
    "version": 3
   },
   "file_extension": ".py",
   "mimetype": "text/x-python",
   "name": "python",
   "nbconvert_exporter": "python",
   "pygments_lexer": "ipython3",
   "version": "3.9.12"
  }
 },
 "nbformat": 4,
 "nbformat_minor": 5
}
