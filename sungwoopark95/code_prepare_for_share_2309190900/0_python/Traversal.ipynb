{
 "cells": [
  {
   "cell_type": "markdown",
   "id": "13eae65e",
   "metadata": {},
   "source": [
    "# <font color='red'>TreeNode</font>"
   ]
  },
  {
   "cell_type": "code",
   "execution_count": 1,
   "id": "2ffcd8a9",
   "metadata": {},
   "outputs": [],
   "source": [
    "\n",
    "\"\"\"\n",
    "TreeNode definition\n",
    "\"\"\"\n",
    "class TreeNode(object) :\n",
    "    def __init__(self, val=0, left=None, right=None) :\n",
    "        self.val = val\n",
    "        self.left = left\n",
    "        self.right = right\n"
   ]
  },
  {
   "cell_type": "markdown",
   "id": "ec90964a",
   "metadata": {},
   "source": [
    "> # <font color = 'blue'> List->Tree Function </font>"
   ]
  },
  {
   "cell_type": "code",
   "execution_count": 2,
   "id": "c1d4cde9",
   "metadata": {},
   "outputs": [],
   "source": [
    "'''\n",
    "list 앞에서부터 element를 꺼내어,\n",
    "new node를 생성하고\n",
    "생성한 node를 child로 붙여준다.(parent node는 아래 참조)\n",
    "붙여준 후 BFS traversal에 사용하는 que의 끝자락에 넣어준다.\n",
    "\n",
    "parent node는 que에서 pop하여 사용한다.\n",
    "(left, right 여부는 idx로 구분한다.)\n",
    "'''\n",
    "\n",
    "def list_to_tree(lst):\n",
    "    if lst==None : return None\n",
    "\n",
    "    q=[] ##queue for processing\n",
    "    val = lst.pop(0)\n",
    "    \n",
    "    root=TreeNode(val)\n",
    "    q.append(root)\n",
    "    idx = 0\n",
    "    while lst :\n",
    "        val = lst.pop(0)\n",
    "        new_node = TreeNode(val=val) #create a new node\n",
    "        if idx==0 : #if index requires new parents(left)\n",
    "            node = q.pop(0)\n",
    "            node.left=new_node\n",
    "        elif idx==1 : #if not enough children\n",
    "            node.right=new_node\n",
    "        idx=1-idx #update idx\n",
    "        q.append(new_node) #attach new node to queue\n",
    "    return root"
   ]
  },
  {
   "cell_type": "markdown",
   "id": "2bb61355",
   "metadata": {},
   "source": [
    "# <font color = 'red'> BFS(Breadth First Search) : FIFO(First In, First Out), Queue </font>"
   ]
  },
  {
   "cell_type": "code",
   "execution_count": 3,
   "id": "1f796877",
   "metadata": {},
   "outputs": [],
   "source": [
    "'''\n",
    "queue를 이용\n",
    "\n",
    "queue에서 pop된 node를 방문한다.\n",
    "child node들을 queue에 insert한다.\n",
    "'''\n",
    "\n",
    "def bfs(root) :\n",
    "    if root==None: return None\n",
    "    q=[] #queue for Traversal\n",
    "    q.append(root)\n",
    "    while q :\n",
    "        node = q.pop(0)\n",
    "        print(f\"{node.val}, \", end=\"\")\n",
    "        if node.left!=None : q.append(node.left)\n",
    "        if node.right!=None : q.append(node.right)\n",
    "    print(\"\")    "
   ]
  },
  {
   "cell_type": "code",
   "execution_count": 4,
   "id": "24814d91",
   "metadata": {},
   "outputs": [
    {
     "name": "stdout",
     "output_type": "stream",
     "text": [
      "1, 2, 3, 4, None, 6, 7, \n"
     ]
    }
   ],
   "source": [
    "#example\n",
    "tree = list_to_tree([1,2,3,4,None,6,7])\n",
    "bfs(tree)"
   ]
  },
  {
   "cell_type": "markdown",
   "id": "aeb6f45e",
   "metadata": {},
   "source": [
    "# <font color='red'> DFS(Depth First Search) : LIFO(Last In, First Out), Stack </font>"
   ]
  },
  {
   "cell_type": "code",
   "execution_count": 5,
   "id": "3ac96be0",
   "metadata": {},
   "outputs": [],
   "source": [
    "def dfs_preorder(root) :\n",
    "    if root==None : return None\n",
    "    val=root.val\n",
    "    print(f\"{val},\", end=\"\") #visit stamp\n",
    "    if root.left!=None :\n",
    "        dfs_preorder(root.left)\n",
    "    if root.right!=None :\n",
    "        dfs_preorder(root.right)\n",
    "        \n",
    "def dfs_inorder(root) :\n",
    "    if root==None : return None\n",
    "    val=root.val\n",
    "    if root.left!=None :\n",
    "        dfs_inorder(root.left)\n",
    "    print(f\"{val},\", end=\"\") #visit stamp\n",
    "    if root.right!=None :\n",
    "        dfs_inorder(root.right)\n",
    "        \n",
    "def dfs_postorder(root) :\n",
    "    if root==None : return None\n",
    "    val=root.val\n",
    "    if root.left!=None :\n",
    "        dfs_postorder(root.left)\n",
    "    if root.right!=None :\n",
    "        dfs_postorder(root.right)        \n",
    "    print(f\"{val},\", end=\"\") #visit stamp"
   ]
  },
  {
   "cell_type": "code",
   "execution_count": 6,
   "id": "431d62f1",
   "metadata": {},
   "outputs": [
    {
     "name": "stdout",
     "output_type": "stream",
     "text": [
      "\n",
      "<DFS_Pre-Order Starts>\n",
      "1,2,4,8,9,5,10,11,3,6,12,7,\n",
      "<DFS_in-Order Starts>\n",
      "8,4,9,2,10,5,11,1,12,6,3,7,\n",
      "<DFS_Post-Order Starts>\n",
      "8,9,4,10,11,5,2,12,6,7,3,1,"
     ]
    }
   ],
   "source": [
    "#example\n",
    "tree = list_to_tree([1,2,3,4,5,6,7,8,9,10,11,12])\n",
    "\n",
    "print(\"\\n<DFS_Pre-Order Starts>\")\n",
    "dfs_preorder(tree)\n",
    "\n",
    "print(\"\\n<DFS_in-Order Starts>\")\n",
    "dfs_inorder(tree)\n",
    "\n",
    "print(\"\\n<DFS_Post-Order Starts>\")\n",
    "dfs_postorder(tree)"
   ]
  },
  {
   "cell_type": "markdown",
   "id": "ef977930",
   "metadata": {},
   "source": [
    "> ## <font color='blue'> [BST(Binary Search Tree) -> List] by Traversal(DFS-inorder) </font>"
   ]
  },
  {
   "cell_type": "code",
   "execution_count": 7,
   "id": "113f0454",
   "metadata": {},
   "outputs": [],
   "source": [
    "'''\n",
    "Binary Tree는 좌측에 있는 값이 가장 작고 우측으로 갈수록 값이 커진다고 하자.\n",
    "Tree Node의 각 값을 작은 순서부터 차례대로 list에 담는 것은 DFS-inorder를 통해 가능\n",
    "'''\n",
    "def bst_to_list(root) :\n",
    "    if root==None: return None\n",
    "    lst=[]\n",
    "    \n",
    "    def dfs(root) :\n",
    "        if root==None: return None\n",
    "        if root.left!=None:\n",
    "            dfs(root.left)\n",
    "        lst.append(root.val)\n",
    "        if root.right!=None:\n",
    "            dfs(root.right)\n",
    "\n",
    "    dfs(root)\n",
    "    return lst"
   ]
  },
  {
   "cell_type": "code",
   "execution_count": 8,
   "id": "4652efcf",
   "metadata": {},
   "outputs": [
    {
     "data": {
      "text/plain": [
       "[1, 2, 3, 4, 5, 6, 7, 8, 9, 10, 11, 12]"
      ]
     },
     "execution_count": 8,
     "metadata": {},
     "output_type": "execute_result"
    }
   ],
   "source": [
    "#example\n",
    "tree = list_to_tree([8,4,11,2,6,10,12,1,3,5,7,9])\n",
    "bst_to_list(tree)"
   ]
  },
  {
   "cell_type": "markdown",
   "id": "b8bfec85",
   "metadata": {},
   "source": [
    "> ## <font color='blue'> [FileSize by DFS-postorder] </font>"
   ]
  },
  {
   "cell_type": "code",
   "execution_count": 18,
   "id": "2455b859",
   "metadata": {},
   "outputs": [],
   "source": [
    "def own_size(node: TreeNode) :\n",
    "    if node==None :\n",
    "        return 0\n",
    "    return node.val if node.val is not None else 0\n",
    "def cumulative_size(node : TreeNode) :\n",
    "    ans=0\n",
    "    if node==None :\n",
    "        return ans\n",
    "    if node.left!=None:\n",
    "        ans+=cumulative_size(node.left)\n",
    "    if node.right!=None:\n",
    "        ans+=cumulative_size(node.right)\n",
    "    ans+=own_size(node)\n",
    "    return ans   "
   ]
  },
  {
   "cell_type": "code",
   "execution_count": 19,
   "id": "c57ea03a",
   "metadata": {},
   "outputs": [
    {
     "data": {
      "text/plain": [
       "23"
      ]
     },
     "execution_count": 19,
     "metadata": {},
     "output_type": "execute_result"
    }
   ],
   "source": [
    "#example1\n",
    "tree = list_to_tree([1,2,3,4,None,6,7])\n",
    "cumulative_size(tree)"
   ]
  },
  {
   "cell_type": "code",
   "execution_count": 20,
   "id": "db29e81e",
   "metadata": {},
   "outputs": [
    {
     "data": {
      "text/plain": [
       "78"
      ]
     },
     "execution_count": 20,
     "metadata": {},
     "output_type": "execute_result"
    }
   ],
   "source": [
    "#example2\n",
    "tree = list_to_tree([8,4,11,2,6,10,12,1,3,5,7,9])\n",
    "cumulative_size(tree)"
   ]
  },
  {
   "cell_type": "code",
   "execution_count": 21,
   "id": "fa385e8c",
   "metadata": {},
   "outputs": [
    {
     "data": {
      "text/plain": [
       "78"
      ]
     },
     "execution_count": 21,
     "metadata": {},
     "output_type": "execute_result"
    }
   ],
   "source": [
    "sum([8,4,11,2,6,10,12,1,3,5,7,9])"
   ]
  },
  {
   "cell_type": "code",
   "execution_count": 38,
   "id": "a40437b3",
   "metadata": {},
   "outputs": [
    {
     "name": "stdout",
     "output_type": "stream",
     "text": [
      "\t node value is 1\n",
      "\t depth is 1\n",
      "\t\t result list is [1]\n",
      "\t node value is 2\n",
      "\t depth is 2\n",
      "\t node value is 3\n",
      "\t depth is 2\n",
      "\t\t result list is [1, 3]\n",
      "\t node value is 4\n",
      "\t depth is 3\n",
      "\t node value is None\n",
      "\t depth is 3\n",
      "\t node value is 6\n",
      "\t depth is 3\n",
      "\t node value is 7\n",
      "\t depth is 3\n",
      "\t\t\t result list is [1, 3, 7]\n"
     ]
    },
    {
     "data": {
      "text/plain": [
       "[1, 3, 7]"
      ]
     },
     "execution_count": 38,
     "metadata": {},
     "output_type": "execute_result"
    }
   ],
   "source": [
    "rtn=[]\n",
    "q=[]\n",
    "q.append((tree,1))\n",
    "while q :\n",
    "    \n",
    "    node, d = q.pop(0)\n",
    "    print(f\"\\t node value is {node.val}\")\n",
    "    print(f\"\\t depth is {d}\")\n",
    "    if node.left !=None : \n",
    "        q.append((node.left, d+1))\n",
    "    if node.right !=None : \n",
    "        q.append((node.right, d+1))\n",
    "    if (len(q)==0) :\n",
    "        rtn.append(node.val)\n",
    "        print(f\"\\t\\t\\t result list is {rtn}\")\n",
    "    elif (d<q[0][1]) :\n",
    "        rtn.append(node.val)\n",
    "        print(f\"\\t\\t result list is {rtn}\")\n",
    "#     for (node, depth) in q :\n",
    "#         print(f\"{depth}, \", end=\"\")\n",
    "#     print(\"\")\n",
    "#     print(f\"q is {q}\")\n",
    "rtn"
   ]
  }
 ],
 "metadata": {
  "kernelspec": {
   "display_name": "Python 3 (ipykernel)",
   "language": "python",
   "name": "python3"
  },
  "language_info": {
   "codemirror_mode": {
    "name": "ipython",
    "version": 3
   },
   "file_extension": ".py",
   "mimetype": "text/x-python",
   "name": "python",
   "nbconvert_exporter": "python",
   "pygments_lexer": "ipython3",
   "version": "3.9.12"
  }
 },
 "nbformat": 4,
 "nbformat_minor": 5
}
