{
 "cells": [
  {
   "cell_type": "code",
   "execution_count": 1,
   "id": "61718a5d",
   "metadata": {},
   "outputs": [],
   "source": [
    "from typing import List, Set, Dict"
   ]
  },
  {
   "cell_type": "markdown",
   "id": "4335ebae",
   "metadata": {},
   "source": [
    "# P1\n",
    "\n",
    "정수(int)로만 구성된 리스트를 변수(argument)로 받고, 그중 두 번 이상 반복되는 정수의 집합(set)을 리턴하는 함수를 작성하시오.\n",
    "\n",
    "예시1)\n",
    "```\n",
    ">>> P1([1, 2, 3, 1]) \n",
    "{1}\n",
    "```\n",
    "\n",
    "예시2) \n",
    "```\n",
    ">>> P1([1, 1, 2, 3, 3, 3]) \n",
    "{1, 3}\n",
    "```\n",
    "\n",
    "예시3)\n",
    "```\n",
    ">>> P1([1, 2, 3, 4, 5]) \n",
    "set()\n",
    "```"
   ]
  },
  {
   "cell_type": "code",
   "execution_count": 2,
   "id": "90f7e49f",
   "metadata": {},
   "outputs": [],
   "source": [
    "def P1(array:List):\n",
    "    benchmark = set(array)\n",
    "    for item in benchmark:\n",
    "        array.remove(item)\n",
    "    return set(array)"
   ]
  },
  {
   "cell_type": "code",
   "execution_count": 3,
   "id": "746d5fe1",
   "metadata": {},
   "outputs": [
    {
     "data": {
      "text/plain": [
       "{1}"
      ]
     },
     "execution_count": 3,
     "metadata": {},
     "output_type": "execute_result"
    }
   ],
   "source": [
    "P1([1, 2, 3, 1])"
   ]
  },
  {
   "cell_type": "code",
   "execution_count": 4,
   "id": "94475c76",
   "metadata": {},
   "outputs": [
    {
     "data": {
      "text/plain": [
       "{1, 3}"
      ]
     },
     "execution_count": 4,
     "metadata": {},
     "output_type": "execute_result"
    }
   ],
   "source": [
    "P1([1, 1, 2, 3, 3, 3])"
   ]
  },
  {
   "cell_type": "code",
   "execution_count": 5,
   "id": "946581ba",
   "metadata": {},
   "outputs": [
    {
     "data": {
      "text/plain": [
       "set()"
      ]
     },
     "execution_count": 5,
     "metadata": {},
     "output_type": "execute_result"
    }
   ],
   "source": [
    "P1([1, 2, 3, 4, 5]) "
   ]
  },
  {
   "cell_type": "markdown",
   "id": "b760b364",
   "metadata": {},
   "source": [
    "# P2\n",
    "\n",
    "길이가 같은 리스트 두 개를 변수(arguments)로 받고, 같은 인덱스를 갖는 원소끼리 짝지은 튜플(tuple)의 집합(set)을 리턴하는 함수를 작성하시오. \n",
    "\n",
    "<조건>\n",
    "\n",
    "1. 튜플은 (첫번째 리스트 원소, 두번째 리스트 원소) 순서로 만들어야 함\n",
    "\n",
    "예시1) \n",
    "```\n",
    ">>> P2(['red', 'yellow', 'purple'], ['apple', 'banana', 'grape'])\n",
    "{('red', 'apple'), ('yellow', 'banana'), ('purple', 'grape')}\n",
    "```\n",
    "\n",
    "예시2)\n",
    "```\n",
    ">>> P2([1, 2, 3], ['computer', 'keyboard', 'mouse'])\n",
    "{(1, 'computer'), (2, 'keyboard', (3, 'mouse')}\n",
    "```\n",
    "\n",
    "예시3)\n",
    "```\n",
    ">>> P2([], [])\n",
    "set()\n",
    "```"
   ]
  },
  {
   "cell_type": "code",
   "execution_count": 6,
   "id": "c58ae8e3",
   "metadata": {},
   "outputs": [],
   "source": [
    "def P2(a:List, b:List):\n",
    "    ans = set()\n",
    "    for item, jtem in zip(a, b):\n",
    "        ans.add((item, jtem))\n",
    "    return ans"
   ]
  },
  {
   "cell_type": "code",
   "execution_count": 7,
   "id": "46d7b5fe",
   "metadata": {},
   "outputs": [
    {
     "data": {
      "text/plain": [
       "{('purple', 'grape'), ('red', 'apple'), ('yellow', 'banana')}"
      ]
     },
     "execution_count": 7,
     "metadata": {},
     "output_type": "execute_result"
    }
   ],
   "source": [
    "P2(['red', 'yellow', 'purple'], ['apple', 'banana', 'grape'])"
   ]
  },
  {
   "cell_type": "code",
   "execution_count": 8,
   "id": "003d00a8",
   "metadata": {},
   "outputs": [
    {
     "data": {
      "text/plain": [
       "{(1, 'computer'), (2, 'keyboard'), (3, 'mouse')}"
      ]
     },
     "execution_count": 8,
     "metadata": {},
     "output_type": "execute_result"
    }
   ],
   "source": [
    "P2([1, 2, 3], ['computer', 'keyboard', 'mouse'])"
   ]
  },
  {
   "cell_type": "markdown",
   "id": "2551e073",
   "metadata": {},
   "source": [
    "# P3\n",
    "\n",
    "딕셔너리(dictionary)의 key는 unique함이 보장되지만, value는 그렇지 않다. \n",
    "하나의 딕셔너리를 변수(argument)로 받고, 그것에 포함된 “distinct values”의 수를 리턴하는 함수를 작성하시오.\n",
    "\n",
    "<조건>\n",
    "\n",
    "1. 모든 values는 “Hashable” 함\n",
    "\n",
    "예시1)\n",
    "```\n",
    ">>> P3({'red': 1, 'green': 1, 'blue': 2})\n",
    "2\n",
    "```\n",
    "\n",
    "예시2) \n",
    "```\n",
    ">>> P3({(1,2): 'a', 'g': 3, 1: True})\n",
    "3\n",
    "```\n",
    "\n",
    "예시3) \n",
    "```\n",
    ">>> P3(dict())\n",
    "0\n",
    "```\n",
    "\n",
    "예시4) \n",
    "```\n",
    ">>> P3({'a': True, 'b': True, 'c': True})\n",
    "1\n",
    "```"
   ]
  },
  {
   "cell_type": "code",
   "execution_count": 9,
   "id": "cb28548a",
   "metadata": {},
   "outputs": [],
   "source": [
    "def P3(dic:Dict):\n",
    "    return len(set(dic.values()))"
   ]
  },
  {
   "cell_type": "code",
   "execution_count": 10,
   "id": "b64df4f0",
   "metadata": {},
   "outputs": [
    {
     "data": {
      "text/plain": [
       "2"
      ]
     },
     "execution_count": 10,
     "metadata": {},
     "output_type": "execute_result"
    }
   ],
   "source": [
    "P3({'red': 1, 'green': 1, 'blue': 2})"
   ]
  },
  {
   "cell_type": "code",
   "execution_count": 11,
   "id": "2121151b",
   "metadata": {},
   "outputs": [
    {
     "data": {
      "text/plain": [
       "3"
      ]
     },
     "execution_count": 11,
     "metadata": {},
     "output_type": "execute_result"
    }
   ],
   "source": [
    "P3({(1,2): 'a', 'g': 3, 1: True})"
   ]
  },
  {
   "cell_type": "code",
   "execution_count": 12,
   "id": "bf53a935",
   "metadata": {},
   "outputs": [
    {
     "data": {
      "text/plain": [
       "0"
      ]
     },
     "execution_count": 12,
     "metadata": {},
     "output_type": "execute_result"
    }
   ],
   "source": [
    "P3(dict())"
   ]
  },
  {
   "cell_type": "code",
   "execution_count": 13,
   "id": "7dad6b8c",
   "metadata": {},
   "outputs": [
    {
     "data": {
      "text/plain": [
       "1"
      ]
     },
     "execution_count": 13,
     "metadata": {},
     "output_type": "execute_result"
    }
   ],
   "source": [
    "P3({'a': True, 'b': True, 'c': True})"
   ]
  },
  {
   "cell_type": "markdown",
   "id": "dbf6510d",
   "metadata": {},
   "source": [
    "# P4\n",
    "\n",
    "일련의 실험을 수행한 후, 특정 다섯 종류의 아원자 입자(subatomic particles)를 탐지할 확률을 {str: float} 딕셔너리 형태로 다음과 같이 저장했다.\n",
    "{'neutron': 0.55, ‘proton': 0.21, 'meson': 0.03, 'muon': 0.07, 'neutrino': 0.14}\n",
    "이러한 딕셔너리를 변수(argument)로 받아 탐지 가능성이 가장 큰 입자를 리턴하는 함수를 작성하시오. \n",
    "\n",
    "<조건>\n",
    "1. 입자가 발견될 확률이 같은 경우는 없음\n",
    "\n",
    "예시1) \n",
    "```\n",
    ">>> P4({'neutron': 0.55, 'proton': 0.21, 'meson': 0.03, 'muon': 0.07, 'neutrino': 0.14})\n",
    "'neutron'\n",
    "```\n",
    "\n",
    "예시2)\n",
    "```\n",
    ">>> P4({'neutron': 0.11, 'proton': 0.21, 'meson': 0.05, 'muon': 0.09, 'neutrino': 0.12})\n",
    "'proton'\n",
    "```"
   ]
  },
  {
   "cell_type": "code",
   "execution_count": 14,
   "id": "f61c5379",
   "metadata": {},
   "outputs": [],
   "source": [
    "def P4(particles:Dict[str, float]):\n",
    "    max_particle = \"\"\n",
    "    max_prob = 0.\n",
    "    for name, prob in particles.items():\n",
    "        if prob > max_prob:\n",
    "            max_prob = prob\n",
    "            max_particle = name\n",
    "    return max_particle"
   ]
  },
  {
   "cell_type": "code",
   "execution_count": 15,
   "id": "764be72f",
   "metadata": {},
   "outputs": [
    {
     "data": {
      "text/plain": [
       "'neutron'"
      ]
     },
     "execution_count": 15,
     "metadata": {},
     "output_type": "execute_result"
    }
   ],
   "source": [
    "P4({'neutron': 0.55, 'proton': 0.21, 'meson': 0.03, 'muon': 0.07, 'neutrino': 0.14})"
   ]
  },
  {
   "cell_type": "code",
   "execution_count": 16,
   "id": "5cf8dce6",
   "metadata": {},
   "outputs": [
    {
     "data": {
      "text/plain": [
       "'proton'"
      ]
     },
     "execution_count": 16,
     "metadata": {},
     "output_type": "execute_result"
    }
   ],
   "source": [
    "P4({'neutron': 0.11, 'proton': 0.21, 'meson': 0.05, 'muon': 0.09, 'neutrino': 0.12})"
   ]
  },
  {
   "cell_type": "markdown",
   "id": "ce8dba3c",
   "metadata": {},
   "source": [
    "# P5\n",
    "\n",
    "딕셔너리를 변수(argument)로 받아 두 번 이상 나타나는 value를 리스트로 저장하여 리턴하는 함수를 작성하시오. \n",
    "\n",
    "<조건>\n",
    "1. 리턴되는 리스트 요소들의 순서는 상관없음\n",
    "2. 1과 True가 동일하게 취급되는 문제는 고려하지 않음\n",
    "\n",
    "예시1) \n",
    "```\n",
    ">>> P5({'red': 1, 'green': 1, 'blue': 2})\n",
    "[1]\n",
    "```\n",
    "\n",
    "예시2)\n",
    "```\n",
    ">>> P5({'r': 'a', 'g': 'b', 'b': 'c'})\n",
    "[]\n",
    "```\n",
    "\n",
    "예시3) \n",
    "```\n",
    ">>> P5({'a': True, 'b': True, 'c': 2, 'd': 2})\n",
    "[True, 2]\n",
    "```\n",
    "\n",
    "예시4)\n",
    "```\n",
    ">>> P5(dict())\n",
    "[]\n",
    "```"
   ]
  },
  {
   "cell_type": "code",
   "execution_count": 17,
   "id": "f40a44de",
   "metadata": {},
   "outputs": [],
   "source": [
    "def P5(arg:Dict):\n",
    "    array = list(arg.values())\n",
    "    benchmark = set(array)\n",
    "    for item in benchmark:\n",
    "        array.remove(item)\n",
    "    return array"
   ]
  },
  {
   "cell_type": "code",
   "execution_count": 18,
   "id": "43d61d50",
   "metadata": {},
   "outputs": [
    {
     "data": {
      "text/plain": [
       "[1]"
      ]
     },
     "execution_count": 18,
     "metadata": {},
     "output_type": "execute_result"
    }
   ],
   "source": [
    "P5({'red': 1, 'green': 1, 'blue': 2})"
   ]
  },
  {
   "cell_type": "code",
   "execution_count": 19,
   "id": "c86a7590",
   "metadata": {},
   "outputs": [
    {
     "data": {
      "text/plain": [
       "[]"
      ]
     },
     "execution_count": 19,
     "metadata": {},
     "output_type": "execute_result"
    }
   ],
   "source": [
    "P5({'r': 'a', 'g': 'b', 'b': 'c'})"
   ]
  },
  {
   "cell_type": "code",
   "execution_count": 20,
   "id": "4f8bddf3",
   "metadata": {},
   "outputs": [
    {
     "data": {
      "text/plain": [
       "[True, 2]"
      ]
     },
     "execution_count": 20,
     "metadata": {},
     "output_type": "execute_result"
    }
   ],
   "source": [
    "P5({'a': True, 'b': True, 'c': 2, 'd': 2})"
   ]
  },
  {
   "cell_type": "code",
   "execution_count": 21,
   "id": "15ff07e6",
   "metadata": {},
   "outputs": [
    {
     "data": {
      "text/plain": [
       "[]"
      ]
     },
     "execution_count": 21,
     "metadata": {},
     "output_type": "execute_result"
    }
   ],
   "source": [
    "P5(dict())"
   ]
  },
  {
   "cell_type": "markdown",
   "id": "7ccc8e88",
   "metadata": {},
   "source": [
    "# P6\n",
    "\n",
    "두 개의 딕셔너리 dct1과 dct2를 변수(arguments)로 받아 dct1과 dct2에 공통으로 포함된 key/value 쌍으로만 만든 새로운 딕셔너리를 리턴하는 함수를 작성하시오.\n",
    "\n",
    "예시1)\n",
    "```\n",
    ">>> P6({'a': 1, 'b': True, 'c': [1,2]}, {'a': 1, 'b': 123, 'c': [1,2]})\n",
    "{'a': 1, 'c': [1, 2]}\n",
    "```\n",
    "\n",
    "예시2) \n",
    "```\n",
    ">>> P6({'a': 1, 'b': True }, {'c': 1, 'd': 123, 'e': [1,2]})\n",
    "{}\n",
    "```\n",
    "\n",
    "예시3) \n",
    "```\n",
    ">>> P6({}, {'c': 1, 'd': 123, 'e': [1,2]})\n",
    "{}\n",
    "```"
   ]
  },
  {
   "cell_type": "code",
   "execution_count": 22,
   "id": "df841bee",
   "metadata": {},
   "outputs": [],
   "source": [
    "def P6(dct1:Dict, dct2:Dict):\n",
    "    ans = dict()\n",
    "    for key, val in dct1.items():\n",
    "        if key in dct2.keys() and dct1[key] == dct2[key]:\n",
    "            ans[key] = val\n",
    "    return ans"
   ]
  },
  {
   "cell_type": "code",
   "execution_count": 23,
   "id": "12c0f601",
   "metadata": {},
   "outputs": [
    {
     "data": {
      "text/plain": [
       "{'a': 1, 'c': [1, 2]}"
      ]
     },
     "execution_count": 23,
     "metadata": {},
     "output_type": "execute_result"
    }
   ],
   "source": [
    "P6({'a': 1, 'b': True, 'c': [1,2]}, {'a': 1, 'b': 123, 'c': [1,2]})"
   ]
  },
  {
   "cell_type": "code",
   "execution_count": 24,
   "id": "b0af9fad",
   "metadata": {},
   "outputs": [
    {
     "data": {
      "text/plain": [
       "{}"
      ]
     },
     "execution_count": 24,
     "metadata": {},
     "output_type": "execute_result"
    }
   ],
   "source": [
    "P6({'a': 1, 'b': True }, {'c': 1, 'd': 123, 'e': [1,2]})"
   ]
  },
  {
   "cell_type": "code",
   "execution_count": 25,
   "id": "e9ec42ea",
   "metadata": {},
   "outputs": [
    {
     "data": {
      "text/plain": [
       "{}"
      ]
     },
     "execution_count": 25,
     "metadata": {},
     "output_type": "execute_result"
    }
   ],
   "source": [
    "P6({}, {'c': 1, 'd': 123, 'e': [1,2]})"
   ]
  },
  {
   "cell_type": "markdown",
   "id": "e138be71",
   "metadata": {},
   "source": [
    "# P7\n",
    "\n",
    "때때로 프로그래머들은 value가 딕셔너리로 이루어진 “Dictionary of dictionaries”를 간단한 데이터베이스로 이용한다. \n",
    "\n",
    "key가 문자열(string)이고 value가 딕셔너리 형태인 “Dictionary of dictionaries”를 다음과 같이 나타낼 수 있고, 이때 value는 “inner dictionary”라 한다.\n",
    "\n",
    "```py\n",
    "{ 'jgoodall' : {'surname' : 'Goodall',\n",
    "                'forename' : 'Jane',\n",
    "                'born' : 1934,\n",
    "                'died' : None,\n",
    "                'notes' : 'primate researcher',\n",
    "                'author' : ['In the Shadow of Man','The Chimpanzees of Gombe']},\n",
    "    'rfranklin' : {'surname' : 'Franklin',\n",
    "                'forename' : 'Rosalind',\n",
    "                'born' : 1920,\n",
    "                'died' : 1957,\n",
    "                'notes' : 'contributed to discovery of DNA'},\n",
    "    'rcarson' : {'surname' : 'Carson',\n",
    "                'forename' : 'Rachel',\n",
    "                'born' : 1907,\n",
    "                'died' : 1964,\n",
    "                'notes' : 'raised awareness of effects of DDT',\n",
    "                'author' : ['Silent Spring'] }\n",
    "```\n",
    "\n",
    "“Dictionary of dictionaries”를 변수(argument)로 받아 “inner dictionaries”가 모두 같은 key 값을 가지면 1, 아니면 0을 리턴하는 함수를 작성하시오.\n",
    "\n",
    "<조건>\n",
    "1. 딕셔너리가 비어있는 경우는 없음\n",
    "2. 모든 value는 딕셔너리로 되어있음\n",
    "3. value의 value는 딕셔너리 형태가 아님\n",
    "\n",
    "예시1)\n",
    "```\n",
    ">>> P7({'a': {'aa':123, 'ab': [1,2]}, 'b': {'aa': 'bb', 'ab': 'cc'}})\n",
    "1 (Explanation: 모든 value는 같은 key값, {'aa', 'ab'}를 갖는다.)\n",
    "```\n",
    "\n",
    "예시2) \n",
    "```\n",
    ">>> P7({'A': {1: 'a', 2: 'b'}, 'B': {2: 'c', 3: 'd'}})\n",
    "0\n",
    "```"
   ]
  },
  {
   "cell_type": "code",
   "execution_count": 26,
   "id": "595f7f89",
   "metadata": {},
   "outputs": [],
   "source": [
    "def P7(dct:Dict):\n",
    "    prev_keys = None\n",
    "    for i, key in enumerate(dct):\n",
    "        subdict = dct[key]\n",
    "        if i == 0:\n",
    "            prev_keys = subdict.keys()\n",
    "            continue\n",
    "        if prev_keys != subdict.keys():\n",
    "            return 0\n",
    "    return 1"
   ]
  },
  {
   "cell_type": "code",
   "execution_count": 27,
   "id": "11167a29",
   "metadata": {},
   "outputs": [
    {
     "data": {
      "text/plain": [
       "1"
      ]
     },
     "execution_count": 27,
     "metadata": {},
     "output_type": "execute_result"
    }
   ],
   "source": [
    "P7({'a': {'aa':123, 'ab': [1,2]}, 'b': {'aa': 'bb', 'ab': 'cc'}})"
   ]
  },
  {
   "cell_type": "code",
   "execution_count": 28,
   "id": "6328d14b",
   "metadata": {},
   "outputs": [
    {
     "data": {
      "text/plain": [
       "0"
      ]
     },
     "execution_count": 28,
     "metadata": {},
     "output_type": "execute_result"
    }
   ],
   "source": [
    "P7({'A': {1: 'a', 2: 'b'}, 'B': {2: 'c', 3: 'd'}})"
   ]
  },
  {
   "cell_type": "markdown",
   "id": "440f858a",
   "metadata": {},
   "source": [
    "# P8\n",
    "\n",
    "“Balanced color”는 red, green, blue 값을 합해서 1.0이 되는 것을 의미한다. Key가 ‘R’, ‘G’, ‘B’이고 각각의 value가 0과 1 사이인 딕셔너리를 변수(arguments)로 받아서 그 딕셔너리가 “Balanced color”를 의미하면 True, 아니면 False를 리턴하는 함수를 작성하시오.\n",
    "\n",
    "예시1)\n",
    "```\n",
    ">>> P8({'R': 0.2, 'G': 0.3, 'B': 0.5})\n",
    "True\n",
    "```\n",
    "\n",
    "예시2)\n",
    "```\n",
    ">>> P8({'R': 0.2, 'G': 0.3, 'B': 0.6})\n",
    "False\n",
    "```\n",
    "\n",
    "예시3)\n",
    "```\n",
    ">>> P8({'R': 0.1, 'G': 0.1, 'B': 0.1})\n",
    "False\n",
    "```"
   ]
  },
  {
   "cell_type": "code",
   "execution_count": 29,
   "id": "ba9fb9cb",
   "metadata": {},
   "outputs": [],
   "source": [
    "def P8(colors:Dict[str, float]):\n",
    "    if sum(colors.values()) == 1:\n",
    "        return True\n",
    "    return False"
   ]
  },
  {
   "cell_type": "code",
   "execution_count": 30,
   "id": "6fa07bdf",
   "metadata": {},
   "outputs": [
    {
     "data": {
      "text/plain": [
       "True"
      ]
     },
     "execution_count": 30,
     "metadata": {},
     "output_type": "execute_result"
    }
   ],
   "source": [
    "P8({'R': 0.2, 'G': 0.3, 'B': 0.5})"
   ]
  },
  {
   "cell_type": "code",
   "execution_count": 31,
   "id": "0706d5e4",
   "metadata": {},
   "outputs": [
    {
     "data": {
      "text/plain": [
       "False"
      ]
     },
     "execution_count": 31,
     "metadata": {},
     "output_type": "execute_result"
    }
   ],
   "source": [
    "P8({'R': 0.2, 'G': 0.3, 'B': 0.6})"
   ]
  },
  {
   "cell_type": "code",
   "execution_count": 32,
   "id": "d229b29a",
   "metadata": {},
   "outputs": [
    {
     "data": {
      "text/plain": [
       "False"
      ]
     },
     "execution_count": 32,
     "metadata": {},
     "output_type": "execute_result"
    }
   ],
   "source": [
    "P8({'R': 0.1, 'G': 0.1, 'B': 0.1})"
   ]
  },
  {
   "cell_type": "markdown",
   "id": "2a404fd9",
   "metadata": {},
   "source": [
    "# P9\n",
    "\n",
    "다음과 같이 대부분의 원소가 0으로 되어있는 벡터를 “Sparse vector”라 한다.\n",
    "\n",
    "`sparse_vector = [1, 0, 0, 0, 0, 0, 3, 0, 0, 0]`\n",
    "\n",
    "이때 벡터를 모든 0을 포함한 형태로 리스트에 저장하면 메모리가 낭비되기 때문에 딕셔너리를 이용하여 0이 아닌 원소만 나타내기도 한다. 위의 벡터는 딕셔너리를 사용하여 다음과 같이 나타낼 수 있다. `sparse_vector[0] = 1`, `sparse_vector[6] = 3` 을 딕셔너리로 표현한 것이다.\n",
    "\n",
    "`{0: 1, 6: 3}`\n",
    "\n",
    "두 벡터의 dot product는 corresponding elements의 products의 sum이다. 예를 들어 [1, 2, 3]과 [4, 5, 6]의 dot product는 4 + 10 + 18 = 32 이다. 두 “Sparse vectors”를 변수(arguments)로 받아 그들의 dot product를 계산하는 함수를 작성하시오.\n",
    "\n",
    "예시1) \n",
    "```\n",
    ">>> P9({0:1, 6:3}, {0:2, 5:2, 6:2, 7:1})\n",
    "8\n",
    "```\n",
    "\n",
    "예시2)\n",
    "``` \n",
    ">>> P9({0:1, 6:3}, {1:-1, 2:2, 3:2, 4:1})\n",
    "0\n",
    "```\n",
    "\n",
    "예시3)\n",
    "```\n",
    ">>> P9({0:1, 6:-3}, {0:-1, 6:3})\n",
    "-10\n",
    "```"
   ]
  },
  {
   "cell_type": "code",
   "execution_count": 33,
   "id": "4c33748c",
   "metadata": {},
   "outputs": [],
   "source": [
    "def P9(a:Dict, b:Dict):\n",
    "    dot = 0\n",
    "    for key in a:\n",
    "        if key in b:\n",
    "            dot += a[key] * b[key]\n",
    "    return dot"
   ]
  },
  {
   "cell_type": "code",
   "execution_count": 34,
   "id": "16da95c9",
   "metadata": {},
   "outputs": [
    {
     "data": {
      "text/plain": [
       "8"
      ]
     },
     "execution_count": 34,
     "metadata": {},
     "output_type": "execute_result"
    }
   ],
   "source": [
    "P9({0:1, 6:3}, {0:2, 5:2, 6:2, 7:1})"
   ]
  },
  {
   "cell_type": "code",
   "execution_count": 35,
   "id": "4c458b42",
   "metadata": {},
   "outputs": [
    {
     "data": {
      "text/plain": [
       "0"
      ]
     },
     "execution_count": 35,
     "metadata": {},
     "output_type": "execute_result"
    }
   ],
   "source": [
    "P9({0:1, 6:3}, {1:-1, 2:2, 3:2, 4:1})"
   ]
  },
  {
   "cell_type": "code",
   "execution_count": 36,
   "id": "28ba5cd0",
   "metadata": {},
   "outputs": [
    {
     "data": {
      "text/plain": [
       "-10"
      ]
     },
     "execution_count": 36,
     "metadata": {},
     "output_type": "execute_result"
    }
   ],
   "source": [
    "P9({0:1, 6:-3}, {0:-1, 6:3})"
   ]
  },
  {
   "cell_type": "markdown",
   "id": "97b02a86",
   "metadata": {},
   "source": [
    "# P10\n",
    "\n",
    "“Query word” 주어지면 character중 하나를 꼭 바꿔서 “Changed word”를 만들어야 한다.\n",
    "\n",
    "단어 집합(set)과 “Query word”를 변수(arguments)로 받아서 “Changed word”가 단어 집합 내의 단어와 하나라도 일치하면 True, 하나도 일치하지 않으면 False를 리턴하는 함수를 작성하시오.\n",
    "\n",
    "<조건>\n",
    "1. 모든 단어는 소문자 알파벳으로만 구성되고 띄어쓰기는 없음\n",
    "2. “Query word”의 character 단 하나만 바꿀 수 있음\n",
    "3. character를 바꿀 때 삭제는 할 수 없음\n",
    "\n",
    "예시1) \n",
    "```\n",
    ">>> P10({\"data\", \"science\"}, \"data\")\n",
    "False\n",
    "```\n",
    "\n",
    "예시2) \n",
    "```\n",
    ">>> P10({\"data\", \"science\"}, \"daaa\")\n",
    "True (Explanation: \"daaa\"의 a 하나를 바꾸면 \"data\"를 만들 수 있다.)\n",
    "```\n",
    "\n",
    "예시3)\n",
    "```\n",
    ">>> P10({\"data\", \"science\"}, \"scienzz\")\n",
    "False\n",
    "```\n",
    "\n",
    "예시4) \n",
    "```\n",
    ">>> P10({\"data\", \"science\", \"scienze\"}, \"scienzz\")\n",
    "True\n",
    "```"
   ]
  },
  {
   "cell_type": "code",
   "execution_count": 37,
   "id": "68213a82",
   "metadata": {},
   "outputs": [],
   "source": [
    "def P10(candidate:set, query:str):\n",
    "    for word in candidate:\n",
    "        if len(word) == len(query):\n",
    "            cnt = 0\n",
    "            for char1, char2 in zip(word, query):\n",
    "                if char1 == char2:\n",
    "                    cnt += 1\n",
    "            if cnt == len(word) - 1:\n",
    "                return True\n",
    "    return False"
   ]
  },
  {
   "cell_type": "code",
   "execution_count": 38,
   "id": "d0eeefb0",
   "metadata": {},
   "outputs": [
    {
     "data": {
      "text/plain": [
       "False"
      ]
     },
     "execution_count": 38,
     "metadata": {},
     "output_type": "execute_result"
    }
   ],
   "source": [
    "P10({\"data\", \"science\"}, \"data\")"
   ]
  },
  {
   "cell_type": "code",
   "execution_count": 39,
   "id": "818b2faa",
   "metadata": {},
   "outputs": [
    {
     "data": {
      "text/plain": [
       "True"
      ]
     },
     "execution_count": 39,
     "metadata": {},
     "output_type": "execute_result"
    }
   ],
   "source": [
    "P10({\"data\", \"science\"}, \"daaa\")"
   ]
  },
  {
   "cell_type": "code",
   "execution_count": 40,
   "id": "489c3a1e",
   "metadata": {},
   "outputs": [
    {
     "data": {
      "text/plain": [
       "False"
      ]
     },
     "execution_count": 40,
     "metadata": {},
     "output_type": "execute_result"
    }
   ],
   "source": [
    "P10({\"data\", \"science\"}, \"scienzz\")"
   ]
  },
  {
   "cell_type": "code",
   "execution_count": 41,
   "id": "f21122b3",
   "metadata": {},
   "outputs": [
    {
     "data": {
      "text/plain": [
       "True"
      ]
     },
     "execution_count": 41,
     "metadata": {},
     "output_type": "execute_result"
    }
   ],
   "source": [
    "P10({\"data\", \"science\", \"scienze\"}, \"scienzz\")"
   ]
  },
  {
   "cell_type": "code",
   "execution_count": null,
   "id": "fe795175",
   "metadata": {},
   "outputs": [],
   "source": []
  }
 ],
 "metadata": {
  "kernelspec": {
   "display_name": "Python 3 (ipykernel)",
   "language": "python",
   "name": "python3"
  },
  "language_info": {
   "codemirror_mode": {
    "name": "ipython",
    "version": 3
   },
   "file_extension": ".py",
   "mimetype": "text/x-python",
   "name": "python",
   "nbconvert_exporter": "python",
   "pygments_lexer": "ipython3",
   "version": "3.10.12"
  }
 },
 "nbformat": 4,
 "nbformat_minor": 5
}
