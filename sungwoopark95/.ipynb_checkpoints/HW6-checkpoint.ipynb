{
 "cells": [
  {
   "cell_type": "code",
   "execution_count": 1,
   "id": "d2cc2981",
   "metadata": {},
   "outputs": [],
   "source": [
    "from typing import List, Tuple, Dict, Set"
   ]
  },
  {
   "cell_type": "markdown",
   "id": "14aaff21",
   "metadata": {},
   "source": [
    "# P1\n",
    "\n",
    "국가명(`name`), 인구 수(`population`), 면적(`area`)을 인자(parameter)로 받는 `Country` 클래스를 구현 해 보아라."
   ]
  },
  {
   "cell_type": "markdown",
   "id": "c88f81d5",
   "metadata": {},
   "source": [
    "## (a)\n",
    "\n",
    "`__init__` 메소드를 사용하여 3개의 인자(`name`, `population`, `area`)를 가진 `Country` 클래스를 정의 해 보아라 \n",
    "\n",
    "* 다음은 파이썬 쉘에서 실행하였을 때의 예시이다. \n",
    "\n",
    "```py\n",
    ">>> from P1 import Country \n",
    "\n",
    ">>> canada = Country('Canada', 34482779, 9984670) \n",
    "\n",
    ">>> canada.name \n",
    "'Canada' \n",
    "\n",
    ">>> canada.population \n",
    "34482779 \n",
    "\n",
    ">>> canada.area \n",
    "9984670\n",
    "```"
   ]
  },
  {
   "cell_type": "code",
   "execution_count": 2,
   "id": "c192ee85",
   "metadata": {},
   "outputs": [],
   "source": [
    "class Country:\n",
    "    def __init__(self, name:str, population:int, area:int):\n",
    "        self.name = name\n",
    "        self.population = population\n",
    "        self.area = area"
   ]
  },
  {
   "cell_type": "code",
   "execution_count": 3,
   "id": "5f94f392",
   "metadata": {},
   "outputs": [],
   "source": [
    "canada = Country('Canada', 34482779, 9984670) "
   ]
  },
  {
   "cell_type": "code",
   "execution_count": 4,
   "id": "3306fadc",
   "metadata": {},
   "outputs": [
    {
     "name": "stdout",
     "output_type": "stream",
     "text": [
      "Canada\n",
      "34482779\n",
      "9984670\n"
     ]
    }
   ],
   "source": [
    "print(canada.name)\n",
    "print(canada.population)\n",
    "print(canada.area)"
   ]
  },
  {
   "cell_type": "markdown",
   "id": "8901ba1b",
   "metadata": {},
   "source": [
    "## (b)\n",
    "\n",
    "`Country` 클래스의 메소드인 `is_larger`를 정의해 보아라. \n",
    "\n",
    "* `is_larger` 메소드는 첫 번째 국가가 두 번째 국가에 비해 더 큰 면적을 지녔을 때에만 `True`를 반환하는 메소드이다. (면적이 같을 경우 `False` 반환) \n",
    "\n",
    "* 다음은 파이썬 쉘에서 실행하였을 때의 예시이다. \n",
    "\n",
    "```py\n",
    ">>> canada = Country('Canada', 34482779, 9984670) \n",
    ">>> usa = Country('United States of America', 313914040, 9826675) \n",
    ">>> canada.is_larger(usa) \n",
    "True\n",
    "```"
   ]
  },
  {
   "cell_type": "code",
   "execution_count": 5,
   "id": "88ffe78e",
   "metadata": {},
   "outputs": [],
   "source": [
    "class Country:\n",
    "    def __init__(self, name:str, population:int, area:int):\n",
    "        self.name = name\n",
    "        self.population = population\n",
    "        self.area = area\n",
    "    \n",
    "    def is_larger(self, c:Country):\n",
    "        return self.area > c.area"
   ]
  },
  {
   "cell_type": "code",
   "execution_count": 6,
   "id": "1cc3f49d",
   "metadata": {},
   "outputs": [
    {
     "data": {
      "text/plain": [
       "True"
      ]
     },
     "execution_count": 6,
     "metadata": {},
     "output_type": "execute_result"
    }
   ],
   "source": [
    "canada = Country('Canada', 34482779, 9984670)\n",
    "usa = Country('United States of America', 313914040, 9826675)\n",
    "canada.is_larger(usa)"
   ]
  },
  {
   "cell_type": "markdown",
   "id": "ed2a50ee",
   "metadata": {},
   "source": [
    "## (c)\n",
    "\n",
    "`Country` 클래스의 메소드인 `population_density`를 정의해 보아라. \n",
    "\n",
    "* `population_density` 메소드는 국가의 인구 밀도 (면적 당 인구 수)를 반환하는 메소드이다. (`area`가 0인 경우는 없다.) \n",
    "\n",
    "* 다음은 파이썬 쉘에서 실행하였을 때의 예시이다.\n",
    "\n",
    "```py\n",
    ">>> canada.population_density() \n",
    "3.4535722262227995\n",
    "```"
   ]
  },
  {
   "cell_type": "code",
   "execution_count": 7,
   "id": "7fbc042a",
   "metadata": {},
   "outputs": [],
   "source": [
    "class Country:\n",
    "    def __init__(self, name:str, population:int, area:int):\n",
    "        self.name = name\n",
    "        self.population = population\n",
    "        self.area = area\n",
    "    \n",
    "    def is_larger(self, c:Country):\n",
    "        return self.area > c.area\n",
    "    \n",
    "    def population_density(self):\n",
    "        return self.population / self.area"
   ]
  },
  {
   "cell_type": "code",
   "execution_count": 8,
   "id": "27527ed2",
   "metadata": {},
   "outputs": [
    {
     "data": {
      "text/plain": [
       "3.4535722262227995"
      ]
     },
     "execution_count": 8,
     "metadata": {},
     "output_type": "execute_result"
    }
   ],
   "source": [
    "canada = Country('Canada', 34482779, 9984670)\n",
    "canada.population_density()"
   ]
  },
  {
   "cell_type": "markdown",
   "id": "4f507efd",
   "metadata": {},
   "source": [
    "# P2\n",
    "\n",
    "대륙명(`name`), 국가 리스트(`countries`)를 인자로 받는 `Continent` 클래스를 구현해 보아라. `Continent` 클래스는 문제1에서 구현한 `Country` 클래스를 사용한다."
   ]
  },
  {
   "cell_type": "markdown",
   "id": "df664235",
   "metadata": {},
   "source": [
    "## (a)\n",
    "\n",
    "`__init__`메소드를 사용하여 2개의 인자(`name`, `countries`)를 가진 `Continent` 클래스를 정의해 보아라. \n",
    "\n",
    "* `countries`는 `Country` class의 객체들로 이루어진 list이다. \n",
    "* `countries` list가 비어있는 경우는 고려하지 않는다. \n",
    "* 다음은 파이썬 쉘에서 실행하였을 때의 예시이다. \n",
    "\n",
    "```py\n",
    ">>> from P1 import Country \n",
    ">>> from P2 import Continent \n",
    "\n",
    ">>> canada = Country('Canada', 34482779, 9984670)\n",
    ">>> usa = Country('United States of America', 313914040, 9826675)\n",
    ">>> mexico = Country('Mexico', 112336538, 1943950) \n",
    ">>> countries = [canada, usa, mexico] \n",
    ">>> north_america = Continent('North America', countries) \n",
    ">>> north_america.name \n",
    "'North America'\n",
    "```"
   ]
  },
  {
   "cell_type": "code",
   "execution_count": 9,
   "id": "c0cef26c",
   "metadata": {},
   "outputs": [],
   "source": [
    "class Continent:\n",
    "    def __init__(self, name:str, countries:List[Country]):\n",
    "        self.name = name\n",
    "        self.countries = countries"
   ]
  },
  {
   "cell_type": "code",
   "execution_count": 10,
   "id": "236baa4e",
   "metadata": {},
   "outputs": [
    {
     "data": {
      "text/plain": [
       "'North America'"
      ]
     },
     "execution_count": 10,
     "metadata": {},
     "output_type": "execute_result"
    }
   ],
   "source": [
    "canada = Country('Canada', 34482779, 9984670)\n",
    "usa = Country('United States of America', 313914040, 9826675)\n",
    "mexico = Country('Mexico', 112336538, 1943950) \n",
    "countries = [canada, usa, mexico] \n",
    "\n",
    "north_america = Continent('North America', countries) \n",
    "north_america.name "
   ]
  },
  {
   "cell_type": "markdown",
   "id": "93420a86",
   "metadata": {},
   "source": [
    "## (b)\n",
    "\n",
    "`Continent` 클래스의 메소드인 `total_population`을 구현하여라 \n",
    "\n",
    "* `total_poulation` 메소드는 대륙에 속한 국가들의 인구의 합을 반환하는 메소드이다.\n",
    "* 다음은 파이썬 쉘에서 실행하였을 때의 예시이다.\n",
    "\n",
    "```py\n",
    ">>> north_america.total_population() \n",
    "460733357\n",
    "```"
   ]
  },
  {
   "cell_type": "code",
   "execution_count": 11,
   "id": "700089bd",
   "metadata": {},
   "outputs": [],
   "source": [
    "class Continent:\n",
    "    def __init__(self, name:str, countries:List[Country]):\n",
    "        self.name = name\n",
    "        self.countries = countries\n",
    "        \n",
    "    def total_population(self):\n",
    "        return sum([country.population for country in self.countries])"
   ]
  },
  {
   "cell_type": "code",
   "execution_count": 12,
   "id": "a782b69b",
   "metadata": {},
   "outputs": [
    {
     "data": {
      "text/plain": [
       "460733357"
      ]
     },
     "execution_count": 12,
     "metadata": {},
     "output_type": "execute_result"
    }
   ],
   "source": [
    "north_america = Continent('North America', countries) \n",
    "north_america.total_population()"
   ]
  },
  {
   "cell_type": "markdown",
   "id": "b83b5f79",
   "metadata": {},
   "source": [
    "# P3\n",
    "\n",
    "`Point` 클래스는 다음과 같이 x좌표와 y좌표를 입력 받는다. \n",
    "\n",
    "```py\n",
    "class Point: \n",
    "    def __init__(self,x,y): \n",
    "        \"\"\" \n",
    "        (Point, int, int)->NoneType \n",
    "        >>> p=Point(1,3) \n",
    "        >>> p.x \n",
    "        1 \n",
    "        >>> p.y \n",
    "        3 \n",
    "        \"\"\" \n",
    "        self.x=x # x 좌표 \n",
    "        self.y=y # y 좌표 \n",
    "```\n",
    "\n",
    "`LineSegment` 클래스는 다음과 같이 2개의 `Point`를 입력 받는다. 첫 번째 `Point`는 선분의 시작점이며, 두 번째 `Point`는 선분의 끝점이다. \n",
    "\n",
    "* 동일한 `Point`를 입력 받는 경우는 제외하는 것으로 하여 이 경우를 고려하지 않아도 된다. \n",
    "\n",
    "```py\n",
    "class LineSegment: \n",
    "    def __init__(self,point1,point2): \n",
    "        \"\"\"(LineSegment,Point,Point) -> NoneType \n",
    "        A new LineSegment connecting point1 to point2 \n",
    "        >>> p1=Point(1,3) \n",
    "        >>> p2=Point(3,2) \n",
    "        >>> segment=LineSegment(p1,p2) \n",
    "        >>> segment.startpoint==p1 \n",
    "        True \n",
    "        >>> segment.endpoint==p2 \n",
    "        True \n",
    "        \"\"\" \n",
    "        self.startpoint=point1 \n",
    "        self.endpoint=point2 \n",
    "```"
   ]
  },
  {
   "cell_type": "markdown",
   "id": "834d3fcd",
   "metadata": {},
   "source": [
    "## (a)\n",
    "\n",
    "`LineSegment` 클래스의 메소드인 `slope` 메소드는 선분의 기울기를 반환하는 메소드이다. `slope` 메소드를 구현해 보아라. \n",
    "\n",
    "* 선분이 y축과 평행한 경우의 `slope`는 고려하지 않아도 된다."
   ]
  },
  {
   "cell_type": "markdown",
   "id": "3d400ce2",
   "metadata": {},
   "source": [
    "## (b)\n",
    "\n",
    "`LineSegment` 클래스의 메소드인 `length` 메소드는 선분의 길이를 반환하는 메소드이다. `length` 메소드를 구현해 보아라. \n",
    "\n",
    "* 다른 모듈 `import`가 가능하다.\n",
    "* 다음은 파이썬 쉘에서 실행하였을 때의 예시이다.\n",
    "\n",
    "```py\n",
    "from P3 import Point, LineSegment\n",
    "\n",
    ">>> segment = LineSegment(Point(1,1), Point(3,2))\n",
    ">>> segment.slope()\n",
    "0.5\n",
    "\n",
    ">>> segment.length()\n",
    "2.23606797749979\n",
    "```"
   ]
  },
  {
   "cell_type": "code",
   "execution_count": 13,
   "id": "eda7d6da",
   "metadata": {},
   "outputs": [],
   "source": [
    "class Point: \n",
    "    def __init__(self, x:int, y:int): \n",
    "        self.x = x\n",
    "        self.y = y\n",
    "        \n",
    "\n",
    "class LineSegment:\n",
    "    def __init__(self, point1:Point, point2:Point):\n",
    "        self.startpoint = point1\n",
    "        self.endpoint = point2\n",
    "        \n",
    "    def slope(self):\n",
    "        x_inc = self.endpoint.x - self.startpoint.x\n",
    "        y_inc = self.endpoint.y - self.startpoint.y\n",
    "        return y_inc / x_inc\n",
    "    \n",
    "    def length(self):\n",
    "        from math import sqrt\n",
    "        x_inc = self.endpoint.x - self.startpoint.x\n",
    "        y_inc = self.endpoint.y - self.startpoint.y\n",
    "        return sqrt((x_inc**2) + (y_inc**2))"
   ]
  },
  {
   "cell_type": "code",
   "execution_count": 14,
   "id": "38d9204c",
   "metadata": {},
   "outputs": [],
   "source": [
    "segment = LineSegment(Point(1,1), Point(3,2))"
   ]
  },
  {
   "cell_type": "code",
   "execution_count": 15,
   "id": "220f79f1",
   "metadata": {},
   "outputs": [
    {
     "data": {
      "text/plain": [
       "0.5"
      ]
     },
     "execution_count": 15,
     "metadata": {},
     "output_type": "execute_result"
    }
   ],
   "source": [
    "segment.slope()"
   ]
  },
  {
   "cell_type": "code",
   "execution_count": 16,
   "id": "4e264ad1",
   "metadata": {},
   "outputs": [
    {
     "data": {
      "text/plain": [
       "2.23606797749979"
      ]
     },
     "execution_count": 16,
     "metadata": {},
     "output_type": "execute_result"
    }
   ],
   "source": [
    "segment.length()"
   ]
  },
  {
   "cell_type": "markdown",
   "id": "ce9c3cc0",
   "metadata": {},
   "source": [
    "# P4\n",
    "\n",
    "윈도우에 있는 기본 계산기처럼 동작을 하는 `Calculator` 클래스를 구현해야 한다. 단, 기능이 제한 적이어서 몇 가지 버튼의 동작만 가능하다. 다음의 버튼을 구현할 것이다. \n",
    "\n",
    "아래에 나와있는 설명대로 Calculator 클래스를 구현하면 된다. 윈도우 계산기를 떠올리며 설명을 보자. 아래에 나와있지 않은 동작에 대한 것은 구현할 필요도 없고, test case에도 추가하지 않을 것이다. \n",
    "\n",
    "```py\n",
    "def __init__(self):\n",
    "```\n",
    "\n",
    "* 초기 상태는 ‘0’ 만 입력되어 있는 상태이다. \n",
    "* 필요한 변수를 정의해서 사용하면 된다. \n",
    "\n",
    "```py\n",
    "def digit(self, num): #계산기의 숫자 버튼\n",
    "```\n",
    "* parameter num 을 받는다. num 은 0 부터 9 까지의 정수. \n",
    "\n",
    "* 동작은 숫자 num 버튼을 한 번 클릭하는 것이다. 만약 연속으로 클릭하게 된다면 차례대로 숫자가 입력된다. 예를 들어, 3 -> 5 -> 1 을 클릭하면 ‘351’이라는 숫자가 입력되는 것이다. \n",
    "\n",
    "* 1 ~ 9 를 입력하기 전에 0 을 여러 번 클릭한 것은 0 을 한 번 클릭한 것과 같다. \n",
    "\n",
    "```py\n",
    "def plus(self): # 계산기의 + 버튼\n",
    "```\n",
    "\n",
    "* 동작은 계산기의 +버튼을 한 번 클릭하는 것이다. \n",
    "* 연속으로 + 버튼 혹은 - 버튼을 누른다면, 최종적으로 입력되는 버튼은 가장 마지막에 입력한 연산 버튼이다. \n",
    "\n",
    "```py\n",
    "def minus(self): # 계산기의 - 버튼\n",
    "```\n",
    "\n",
    "* 동작은 계산기의 - 버튼을 한 번 클릭하는 것이다.\n",
    "* 연속으로 + 버튼 혹은 - 버튼을 누른다면, 최종적으로 입력되는 버튼은 가장 마지막에 입력한 연산 버튼이다.\n",
    "* 숫자(digit)을 입력하기 전에 -버튼을 누른다면, 숫자가 음수가 된다. \n",
    "\n",
    "```py\n",
    "def clear(self): # 계산기의 C 버튼\n",
    "```\n",
    "* 동작은 계산기의 C 버튼을 한 번 클릭하는 것이다. \n",
    "* 클릭하면 초기상태 (0 만 입력된 상태)로 돌아간다. \n",
    "\n",
    "```py\n",
    "def equal(self): # 계산기의 = 버튼\n",
    "```\n",
    "\n",
    "* 계산기의 = 버튼을 한 번 클릭하는 것이다. \n",
    "* 현재까지의 입력을 바탕으로 연산 결과를 return 해야 한다. \n",
    "* 숫자만 입력된 상태에서 = 버튼을 클릭하면 해당 숫자를 return 한다. \n",
    "* 연산 버튼 다음에 바로 = 버튼을 입력하는 경우는 없다. \n",
    "* 추가 method 를 선언해 구현하는 것도 가능하다 \n",
    "* 각각의 test case 에서 = 버튼은 딱 한 번 마지막에 클릭을 한다. 그 때의 return 값으로 채점을 한다. \n",
    "\n",
    "예시 1\n",
    "```py\n",
    "c = Calculator() \n",
    "c.digit(1) \n",
    "c.digit(2) \n",
    "c.plus() \n",
    "c.minus() \n",
    "c.digit(3) \n",
    "c.digit(1) \n",
    "c.digit(2) \n",
    "c.plus() \n",
    "c.minus() \n",
    "c.minus() \n",
    "c.plus() \n",
    "c.digit(0) \n",
    "c.digit(0) \n",
    "c.digit(1) \n",
    "c.digit(0) \n",
    "c.digit(0) \n",
    "c.equal() \n",
    "-200\n",
    "```\n",
    "\n",
    "예시 2\n",
    "```py\n",
    "c = Calculator()\n",
    "c.clear() \n",
    "c.digit(9) \n",
    "c.plus() \n",
    "c.digit(1) \n",
    "c.digit(2) \n",
    "c.digit(5) \n",
    "c.minus() \n",
    "c.minus() \n",
    "c.digit(3) \n",
    "c.plus() \n",
    "c.clear() \n",
    "c.digit(5) \n",
    "c.digit(2) \n",
    "c.minus() \n",
    "c.digit(5) \n",
    "c.minus() \n",
    "c.plus() \n",
    "c.digit(2) \n",
    "c.equal()\n",
    "49\n",
    "```\n",
    "\n",
    "예시 3\n",
    "```py\n",
    "c = Calculator() \n",
    "c.equal() \n",
    "0\n",
    "```"
   ]
  },
  {
   "cell_type": "code",
   "execution_count": 34,
   "id": "850cbfba",
   "metadata": {},
   "outputs": [],
   "source": [
    "class Calculator:\n",
    "    def __init__(self):\n",
    "        self.num = \"\"\n",
    "        self.command = [\"+\"]\n",
    "    \n",
    "    def clear(self):\n",
    "        self.num = \"\"\n",
    "        self.command = [\"+\"]\n",
    "        \n",
    "    def digit(self, num):\n",
    "        self.num += str(num)\n",
    "    \n",
    "    def plus(self):\n",
    "        if len(self.num) > 0:\n",
    "            self.command.append(int(self.num))\n",
    "        else:\n",
    "            self.command.append(0)\n",
    "        \n",
    "        if self.command[-1] in [\"+\", \"-\"]:\n",
    "            self.command[-1] = \"+\"\n",
    "        else:\n",
    "            self.command.append(\"+\")\n",
    "        \n",
    "        self.num = \"\"\n",
    "        \n",
    "    def minus(self):\n",
    "        if len(self.num) > 0:\n",
    "            self.command.append(int(self.num))\n",
    "        else:\n",
    "            self.command.append(0)\n",
    "        \n",
    "        if self.command[-1] in [\"+\", \"-\"]:\n",
    "            self.command[-1] = \"-\"\n",
    "        else:\n",
    "            self.command.append(\"-\")\n",
    "        \n",
    "        self.num = \"\"    \n",
    "    \n",
    "    def equal(self):\n",
    "        if len(self.num) > 0:\n",
    "            self.command.append(int(self.num))\n",
    "        else:\n",
    "            self.command.append(0)\n",
    "        \n",
    "        ans = 0\n",
    "        for i in range(0, len(self.command), 2):\n",
    "            sublist = self.command[i:i+2]\n",
    "            sign, number = sublist\n",
    "            if sign == \"+\":\n",
    "                ans += number\n",
    "            else:\n",
    "                ans -= number\n",
    "        return ans"
   ]
  },
  {
   "cell_type": "code",
   "execution_count": 35,
   "id": "80578f3f",
   "metadata": {},
   "outputs": [
    {
     "data": {
      "text/plain": [
       "-200"
      ]
     },
     "execution_count": 35,
     "metadata": {},
     "output_type": "execute_result"
    }
   ],
   "source": [
    "c = Calculator() \n",
    "c.digit(1) \n",
    "c.digit(2) \n",
    "c.plus() \n",
    "c.minus() \n",
    "c.digit(3) \n",
    "c.digit(1) \n",
    "c.digit(2) \n",
    "c.plus() \n",
    "c.minus() \n",
    "c.minus() \n",
    "c.plus() \n",
    "c.digit(0) \n",
    "c.digit(0) \n",
    "c.digit(1) \n",
    "c.digit(0) \n",
    "c.digit(0) \n",
    "c.equal()"
   ]
  },
  {
   "cell_type": "code",
   "execution_count": 36,
   "id": "4206451e",
   "metadata": {},
   "outputs": [
    {
     "data": {
      "text/plain": [
       "49"
      ]
     },
     "execution_count": 36,
     "metadata": {},
     "output_type": "execute_result"
    }
   ],
   "source": [
    "c = Calculator()\n",
    "c.clear() \n",
    "c.digit(9) \n",
    "c.plus() \n",
    "c.digit(1) \n",
    "c.digit(2) \n",
    "c.digit(5) \n",
    "c.minus() \n",
    "c.minus() \n",
    "c.digit(3) \n",
    "c.plus() \n",
    "c.clear() \n",
    "c.digit(5) \n",
    "c.digit(2) \n",
    "c.minus() \n",
    "c.digit(5) \n",
    "c.minus() \n",
    "c.plus() \n",
    "c.digit(2) \n",
    "c.equal()"
   ]
  },
  {
   "cell_type": "code",
   "execution_count": 37,
   "id": "19c8fe6e",
   "metadata": {},
   "outputs": [
    {
     "ename": "ValueError",
     "evalue": "not enough values to unpack (expected 2, got 1)",
     "output_type": "error",
     "traceback": [
      "\u001b[0;31m---------------------------------------------------------------------------\u001b[0m",
      "\u001b[0;31mValueError\u001b[0m                                Traceback (most recent call last)",
      "Cell \u001b[0;32mIn[37], line 2\u001b[0m\n\u001b[1;32m      1\u001b[0m c \u001b[38;5;241m=\u001b[39m Calculator() \n\u001b[0;32m----> 2\u001b[0m \u001b[43mc\u001b[49m\u001b[38;5;241;43m.\u001b[39;49m\u001b[43mequal\u001b[49m\u001b[43m(\u001b[49m\u001b[43m)\u001b[49m\n",
      "Cell \u001b[0;32mIn[34], line 45\u001b[0m, in \u001b[0;36mCalculator.equal\u001b[0;34m(self)\u001b[0m\n\u001b[1;32m     43\u001b[0m \u001b[38;5;28;01mfor\u001b[39;00m i \u001b[38;5;129;01min\u001b[39;00m \u001b[38;5;28mrange\u001b[39m(\u001b[38;5;241m0\u001b[39m, \u001b[38;5;28mlen\u001b[39m(\u001b[38;5;28mself\u001b[39m\u001b[38;5;241m.\u001b[39mcommand), \u001b[38;5;241m2\u001b[39m):\n\u001b[1;32m     44\u001b[0m     sublist \u001b[38;5;241m=\u001b[39m \u001b[38;5;28mself\u001b[39m\u001b[38;5;241m.\u001b[39mcommand[i:i\u001b[38;5;241m+\u001b[39m\u001b[38;5;241m2\u001b[39m]\n\u001b[0;32m---> 45\u001b[0m     sign, number \u001b[38;5;241m=\u001b[39m sublist\n\u001b[1;32m     46\u001b[0m     \u001b[38;5;28;01mif\u001b[39;00m sign \u001b[38;5;241m==\u001b[39m \u001b[38;5;124m\"\u001b[39m\u001b[38;5;124m+\u001b[39m\u001b[38;5;124m\"\u001b[39m:\n\u001b[1;32m     47\u001b[0m         ans \u001b[38;5;241m+\u001b[39m\u001b[38;5;241m=\u001b[39m number\n",
      "\u001b[0;31mValueError\u001b[0m: not enough values to unpack (expected 2, got 1)"
     ]
    }
   ],
   "source": [
    "c = Calculator() \n",
    "c.equal() "
   ]
  },
  {
   "cell_type": "code",
   "execution_count": null,
   "id": "4abc97c5",
   "metadata": {},
   "outputs": [],
   "source": []
  }
 ],
 "metadata": {
  "kernelspec": {
   "display_name": "Python 3 (ipykernel)",
   "language": "python",
   "name": "python3"
  },
  "language_info": {
   "codemirror_mode": {
    "name": "ipython",
    "version": 3
   },
   "file_extension": ".py",
   "mimetype": "text/x-python",
   "name": "python",
   "nbconvert_exporter": "python",
   "pygments_lexer": "ipython3",
   "version": "3.10.12"
  }
 },
 "nbformat": 4,
 "nbformat_minor": 5
}
