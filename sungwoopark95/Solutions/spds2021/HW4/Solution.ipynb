{
 "cells": [
  {
   "cell_type": "markdown",
   "id": "2402d278",
   "metadata": {},
   "source": [
    "#  Node간 거리 확인\n",
    "\n",
    "강의 시간에 배운 breadth-first search 알고리즘을 활용하여 graph 사이의 두 node 간의 거리를 구하는 알고리즘을 구현하고자 한다. \n",
    "\n",
    "이를 위해 class `Graph`와 method `check_distance`를 구현하라. class 생성자 및 method 정의는 아래와 같다.\n",
    "\n",
    "* class `Graph(filename)`\n",
    "    - `filename` 파일에 적힌 edge 정보를 읽어와 undirected graph를 구성한다. \n",
    "    - `Graph`의 각 node를 표현하기 위해 0 이상의 정수가 한 개씩 ID로 배정 되며, `filename` 파일에는 graph의 모든 edge 정보가 적혀 있다.\n",
    "    - 예를 들어\n",
    "        <img src=\"./SPDS21_2_HW4-1.png\" width=\"75%\" height=\"75%\">\n",
    "    - 입력 파일에는 한 줄에 edge 한 개씩 `x,y` 형태로 기입되어 있다. 파일 안에는 edge가 중복 없이 기입되어 있다고 가정한다. 예를 들어 `0,1`이 파일 안에 두 번 나타나거나, `0,1`과 `1,0` 둘 다 파일에 기입되어 있는 경우는 없다고 가정해도 된다.\n",
    "    \n",
    "\n",
    "* `check_distance(x, y, max_distance)`\n",
    "    - `x`를 ID로 가지는 node와 `y`를 ID로 가지는 node 사이의 거리가 `max_distance`보다 작거나 같은지의 여부를 확인하여 반환한다. \n",
    "    - `x`에서 `y`로 가는 path가 없으면 `max_distance`값과 상관 없이 `False`를 반환한다. 아래는 실행 예시이다.\n",
    "    <img src=\"./SPDS21_2_HW4-2.png\" width=\"75%\" height=\"75%\">"
   ]
  },
  {
   "cell_type": "code",
   "execution_count": 1,
   "id": "98767846",
   "metadata": {},
   "outputs": [
    {
     "name": "stdout",
     "output_type": "stream",
     "text": [
      "['0,1', '1,4', '4,5', '1,6', '2,7', '3,7']\n"
     ]
    }
   ],
   "source": [
    "with open(\"./small.txt\", \"r\") as file:\n",
    "    x = [line.strip() for line in file.readlines()]\n",
    "    \n",
    "print(x)"
   ]
  },
  {
   "cell_type": "code",
   "execution_count": 2,
   "id": "673b6fca",
   "metadata": {},
   "outputs": [],
   "source": [
    "class Graph:\n",
    "    def __init__(self, filename):\n",
    "        # 파일로부터 그래프를 구성합니다.\n",
    "        self.adj = self.construct_graph(filename)\n",
    "    \n",
    "    def construct_graph(self, fname):\n",
    "        # 파일을 열어 각 줄을 읽어와서 엣지 리스트를 생성합니다.\n",
    "        with open(fname, \"r\") as f:\n",
    "            edges = [line.strip() for line in f.readlines()]\n",
    "        \n",
    "        # 인접 리스트를 저장할 딕셔너리를 초기화합니다.\n",
    "        adj = dict()\n",
    "        \n",
    "        # 각 엣지에 대해 인접 리스트를 구성합니다.\n",
    "        for edge in edges:\n",
    "            x, y = edge.split(',')\n",
    "            x, y = int(x), int(y)\n",
    "            \n",
    "            # x의 인접 리스트에 y를 추가합니다.\n",
    "            if x in adj:\n",
    "                adj[x].append(y)\n",
    "            else:\n",
    "                adj[x] = [y]\n",
    "            \n",
    "            # y의 인접 리스트에 x를 추가합니다.\n",
    "            if y in adj:\n",
    "                adj[y].append(x)\n",
    "            else:\n",
    "                adj[y] = [x]\n",
    "        \n",
    "        return adj\n",
    "    \n",
    "    def bfs(self, start):\n",
    "        # 시작 노드를 큐에 추가합니다.\n",
    "        queue = [start]\n",
    "        # 시작 노드를 방문한 노드 리스트에 추가합니다.\n",
    "        visited = [start]\n",
    "        # 시작 노드까지의 거리를 0으로 초기화합니다.\n",
    "        distance = {start: 0}\n",
    "\n",
    "        # 큐에 노드가 남아있는 동안 반복합니다.\n",
    "        while queue:\n",
    "            # 큐의 첫 번째 노드를 꺼냅니다.\n",
    "            curr = queue.pop(0)\n",
    "\n",
    "            # 현재 노드까지의 거리를 dist 변수에 저장합니다.\n",
    "            dist = distance[curr]\n",
    "\n",
    "            # 현재 노드와 연결된 이웃 노드들을 순회합니다.\n",
    "            for neighbor in self.adj[curr]:\n",
    "                # 만약 이웃 노드가 아직 방문되지 않았다면\n",
    "                if neighbor not in visited:\n",
    "                    # 해당 노드를 큐와 방문 리스트에 추가합니다.\n",
    "                    queue.append(neighbor)\n",
    "                    visited.append(neighbor)\n",
    "                    # 이웃 노드까지의 거리를 (현재 노드의 거리 + 1)로 설정합니다.\n",
    "                    distance[neighbor] = dist + 1        \n",
    "        return distance\n",
    "\n",
    "    \n",
    "    def check_distance(self, x, y, max_distance):\n",
    "        # x에서 시작하는 BFS를 통해 모든 노드까지의 거리를 계산합니다.\n",
    "        distance_dict = self.bfs(x)\n",
    "        \n",
    "        # y가 distance_dict에 없으면 False를 반환합니다.\n",
    "        if y not in distance_dict:\n",
    "            return False\n",
    "        \n",
    "        # y까지의 거리가 max_distance 이하이면 True를 반환합니다.\n",
    "        return distance_dict[y] <= max_distance"
   ]
  },
  {
   "cell_type": "code",
   "execution_count": 3,
   "id": "a2ca3feb",
   "metadata": {},
   "outputs": [
    {
     "name": "stdout",
     "output_type": "stream",
     "text": [
      "{0: [1], 1: [0, 4, 6], 4: [1, 5], 5: [4], 6: [1], 2: [7], 7: [2, 3], 3: [7]}\n"
     ]
    }
   ],
   "source": [
    "graph = Graph(\"small.txt\")\n",
    "print(graph.adj)"
   ]
  },
  {
   "cell_type": "code",
   "execution_count": 4,
   "id": "254a98a8",
   "metadata": {},
   "outputs": [
    {
     "data": {
      "text/plain": [
       "True"
      ]
     },
     "execution_count": 4,
     "metadata": {},
     "output_type": "execute_result"
    }
   ],
   "source": [
    "graph.check_distance(0, 1, 1)"
   ]
  },
  {
   "cell_type": "code",
   "execution_count": 5,
   "id": "09c747b4",
   "metadata": {},
   "outputs": [
    {
     "data": {
      "text/plain": [
       "True"
      ]
     },
     "execution_count": 5,
     "metadata": {},
     "output_type": "execute_result"
    }
   ],
   "source": [
    "graph.check_distance(0, 1, 2)"
   ]
  },
  {
   "cell_type": "code",
   "execution_count": 6,
   "id": "320c3483",
   "metadata": {},
   "outputs": [
    {
     "data": {
      "text/plain": [
       "False"
      ]
     },
     "execution_count": 6,
     "metadata": {},
     "output_type": "execute_result"
    }
   ],
   "source": [
    "graph.check_distance(0, 4, 1)"
   ]
  },
  {
   "cell_type": "code",
   "execution_count": 7,
   "id": "bad0d2a0",
   "metadata": {},
   "outputs": [
    {
     "data": {
      "text/plain": [
       "True"
      ]
     },
     "execution_count": 7,
     "metadata": {},
     "output_type": "execute_result"
    }
   ],
   "source": [
    "graph.check_distance(0, 4, 2)"
   ]
  },
  {
   "cell_type": "code",
   "execution_count": 8,
   "id": "9e49fb7a",
   "metadata": {},
   "outputs": [
    {
     "data": {
      "text/plain": [
       "False"
      ]
     },
     "execution_count": 8,
     "metadata": {},
     "output_type": "execute_result"
    }
   ],
   "source": [
    "graph.check_distance(0, 2, 1)"
   ]
  },
  {
   "cell_type": "code",
   "execution_count": 9,
   "id": "42b0f274",
   "metadata": {},
   "outputs": [
    {
     "data": {
      "text/plain": [
       "False"
      ]
     },
     "execution_count": 9,
     "metadata": {},
     "output_type": "execute_result"
    }
   ],
   "source": [
    "graph.check_distance(0, 2, 1000000)"
   ]
  },
  {
   "cell_type": "code",
   "execution_count": 10,
   "id": "bde44e99",
   "metadata": {},
   "outputs": [
    {
     "data": {
      "text/plain": [
       "{7: 0, 2: 1, 3: 1}"
      ]
     },
     "execution_count": 10,
     "metadata": {},
     "output_type": "execute_result"
    }
   ],
   "source": [
    "graph.bfs(7)"
   ]
  },
  {
   "cell_type": "code",
   "execution_count": null,
   "id": "aeb16619",
   "metadata": {},
   "outputs": [],
   "source": []
  }
 ],
 "metadata": {
  "kernelspec": {
   "display_name": "Python 3 (ipykernel)",
   "language": "python",
   "name": "python3"
  },
  "language_info": {
   "codemirror_mode": {
    "name": "ipython",
    "version": 3
   },
   "file_extension": ".py",
   "mimetype": "text/x-python",
   "name": "python",
   "nbconvert_exporter": "python",
   "pygments_lexer": "ipython3",
   "version": "3.10.12"
  }
 },
 "nbformat": 4,
 "nbformat_minor": 5
}
