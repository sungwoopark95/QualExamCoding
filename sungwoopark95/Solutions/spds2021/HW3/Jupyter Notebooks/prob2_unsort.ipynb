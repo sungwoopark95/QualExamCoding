{
 "cells": [
  {
   "cell_type": "code",
   "execution_count": 1,
   "id": "7653a2f0-1a3b-4138-bc68-f60ddf4b06fb",
   "metadata": {},
   "outputs": [],
   "source": [
    "# I have copied the class code\n",
    "def linear_search(l,e):\n",
    "    n = len(l)\n",
    "    idx = -1\n",
    "    for i in range(n):\n",
    "        if (l[i] == e):\n",
    "            idx = i\n",
    "    return idx\n",
    "\n",
    "def binary_search(l,e):\n",
    "    def bs(l,low,high,e):\n",
    "        if low > high:\n",
    "            return -1\n",
    "        i = int((low+high)/2)\n",
    "        if (l[i] == e):\n",
    "            return i\n",
    "        elif l[i] < e:\n",
    "            i = bs(l,i+1,high,e)\n",
    "        else:\n",
    "            i = bs(l, low, i-1,e)\n",
    "        return i\n",
    "    \n",
    "    # if l is not sorted sort l\n",
    "    if (sorted(l) != l):\n",
    "        l.sort()\n",
    "    return bs(l, 0, len(l) - 1, e)"
   ]
  },
  {
   "cell_type": "code",
   "execution_count": 2,
   "id": "6cbcbcc3-f0d9-4acd-a9b4-8b85fcb60c6c",
   "metadata": {},
   "outputs": [],
   "source": [
    "import random\n",
    "from time import perf_counter\n",
    "import numpy as np\n",
    "import pandas as pd"
   ]
  },
  {
   "cell_type": "code",
   "execution_count": 3,
   "id": "4b3ee181-fd37-466d-8a87-fb70cb9f6fae",
   "metadata": {},
   "outputs": [],
   "source": [
    "length = [1, 10, 100, 1000, 10000, 100000]"
   ]
  },
  {
   "cell_type": "code",
   "execution_count": 4,
   "id": "1196f9a1-3550-4e55-aff2-0d32f63582ba",
   "metadata": {},
   "outputs": [],
   "source": [
    "ls1 = []\n",
    "bs1 = []"
   ]
  },
  {
   "cell_type": "code",
   "execution_count": 5,
   "id": "1acf2414-96ec-486d-a80d-25a039be2997",
   "metadata": {},
   "outputs": [
    {
     "name": "stdout",
     "output_type": "stream",
     "text": [
      "1\n",
      "10\n",
      "100\n",
      "1000\n",
      "10000\n",
      "100000\n"
     ]
    }
   ],
   "source": [
    "for i in length:\n",
    "    print(i)\n",
    "    a = []\n",
    "    # create list of numbers\n",
    "    for j in range(i):\n",
    "        a.append(random.randint(0,999))\n",
    "    \n",
    "    average = []\n",
    "    for j in range(5):\n",
    "        t1 = perf_counter()\n",
    "        x = linear_search(a,random.randint(0,999))\n",
    "        t2 = perf_counter()\n",
    "        elapsed = t2 - t1\n",
    "        average.append(elapsed)\n",
    "    ls1.append(np.mean(average))"
   ]
  },
  {
   "cell_type": "code",
   "execution_count": 6,
   "id": "d853df61-f8a4-4d24-8878-d47bf8e132bd",
   "metadata": {},
   "outputs": [
    {
     "name": "stdout",
     "output_type": "stream",
     "text": [
      "1\n",
      "10\n",
      "100\n",
      "1000\n",
      "10000\n",
      "100000\n"
     ]
    }
   ],
   "source": [
    "for i in length:\n",
    "    print(i)\n",
    "    a = []\n",
    "    # create list of numbers\n",
    "    for j in range(i):\n",
    "        a.append(random.randint(0,999))\n",
    "    \n",
    "    average = []\n",
    "    for j in range(5):\n",
    "        num = random.randint(0,999)\n",
    "        t1 = perf_counter()\n",
    "        x = binary_search(a,num)\n",
    "        t2 = perf_counter()\n",
    "        elapsed = t2 - t1\n",
    "        average.append(elapsed)\n",
    "    bs1.append(np.mean(average))"
   ]
  },
  {
   "cell_type": "code",
   "execution_count": 7,
   "id": "ba24b43d-473f-4eaf-aabb-27b5df6ad1db",
   "metadata": {},
   "outputs": [],
   "source": [
    "df = pd.DataFrame(list(zip(length, ls1, bs1)),\n",
    "              columns=['Length','Linear', 'Binary'])"
   ]
  },
  {
   "cell_type": "code",
   "execution_count": 8,
   "id": "6df49a16-a039-4748-ac39-4590ac5ded8a",
   "metadata": {},
   "outputs": [
    {
     "data": {
      "text/html": [
       "<div>\n",
       "<style scoped>\n",
       "    .dataframe tbody tr th:only-of-type {\n",
       "        vertical-align: middle;\n",
       "    }\n",
       "\n",
       "    .dataframe tbody tr th {\n",
       "        vertical-align: top;\n",
       "    }\n",
       "\n",
       "    .dataframe thead th {\n",
       "        text-align: right;\n",
       "    }\n",
       "</style>\n",
       "<table border=\"1\" class=\"dataframe\">\n",
       "  <thead>\n",
       "    <tr style=\"text-align: right;\">\n",
       "      <th></th>\n",
       "      <th>Length</th>\n",
       "      <th>Linear</th>\n",
       "      <th>Binary</th>\n",
       "    </tr>\n",
       "  </thead>\n",
       "  <tbody>\n",
       "    <tr>\n",
       "      <th>0</th>\n",
       "      <td>1</td>\n",
       "      <td>0.000001</td>\n",
       "      <td>0.000002</td>\n",
       "    </tr>\n",
       "    <tr>\n",
       "      <th>1</th>\n",
       "      <td>10</td>\n",
       "      <td>0.000001</td>\n",
       "      <td>0.000002</td>\n",
       "    </tr>\n",
       "    <tr>\n",
       "      <th>2</th>\n",
       "      <td>100</td>\n",
       "      <td>0.000005</td>\n",
       "      <td>0.000005</td>\n",
       "    </tr>\n",
       "    <tr>\n",
       "      <th>3</th>\n",
       "      <td>1000</td>\n",
       "      <td>0.000045</td>\n",
       "      <td>0.000032</td>\n",
       "    </tr>\n",
       "    <tr>\n",
       "      <th>4</th>\n",
       "      <td>10000</td>\n",
       "      <td>0.000454</td>\n",
       "      <td>0.000360</td>\n",
       "    </tr>\n",
       "    <tr>\n",
       "      <th>5</th>\n",
       "      <td>100000</td>\n",
       "      <td>0.004707</td>\n",
       "      <td>0.004259</td>\n",
       "    </tr>\n",
       "  </tbody>\n",
       "</table>\n",
       "</div>"
      ],
      "text/plain": [
       "   Length    Linear    Binary\n",
       "0       1  0.000001  0.000002\n",
       "1      10  0.000001  0.000002\n",
       "2     100  0.000005  0.000005\n",
       "3    1000  0.000045  0.000032\n",
       "4   10000  0.000454  0.000360\n",
       "5  100000  0.004707  0.004259"
      ]
     },
     "execution_count": 8,
     "metadata": {},
     "output_type": "execute_result"
    }
   ],
   "source": [
    "df"
   ]
  },
  {
   "cell_type": "code",
   "execution_count": 9,
   "id": "88d7d956-4c4b-48ba-b759-2707bf797712",
   "metadata": {},
   "outputs": [],
   "source": [
    "df.to_csv(\"unsort.csv\")"
   ]
  }
 ],
 "metadata": {
  "kernelspec": {
   "display_name": "Python 3",
   "language": "python",
   "name": "python3"
  },
  "language_info": {
   "codemirror_mode": {
    "name": "ipython",
    "version": 3
   },
   "file_extension": ".py",
   "mimetype": "text/x-python",
   "name": "python",
   "nbconvert_exporter": "python",
   "pygments_lexer": "ipython3",
   "version": "3.8.8"
  }
 },
 "nbformat": 4,
 "nbformat_minor": 5
}
