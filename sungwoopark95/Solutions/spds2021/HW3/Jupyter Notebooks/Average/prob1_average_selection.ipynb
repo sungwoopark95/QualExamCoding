{
 "cells": [
  {
   "cell_type": "code",
   "execution_count": 1,
   "id": "a4999946-b0af-4a1b-bd72-4cbdbe2efec3",
   "metadata": {
    "id": "a4999946-b0af-4a1b-bd72-4cbdbe2efec3"
   },
   "outputs": [],
   "source": [
    "# I have copied the class code\n",
    "def bubble_sort(l):\n",
    "    def swap(i,j):\n",
    "        # first save the first element\n",
    "        t = l[i]\n",
    "        # save the second element to first \n",
    "        l[i] = l[j]\n",
    "        # save the first element to where the second element was\n",
    "        l[j] = t\n",
    "        return\n",
    "    n = len(l) - 1\n",
    "    for i in range(n,0,-1):\n",
    "        for j in range(i):\n",
    "            if (l[j] >= l[j+1]):\n",
    "                swap(j,j+1)\n",
    "    return l\n",
    "\n",
    "def insertion_sort(l):\n",
    "    n = len(l)\n",
    "    for j in range(1,n):\n",
    "        key = l[j]\n",
    "        i = j-1\n",
    "        while ((i>=0) and (key < l[i])):\n",
    "            l[i+1] = l[i]\n",
    "            i-=1\n",
    "        l[i+1] = key\n",
    "    return l\n",
    "\n",
    "def selection_sort(l):\n",
    "    def swap(i,j):\n",
    "        t=l[i]\n",
    "        l[i] = l[j]\n",
    "        l[j] = t\n",
    "        return\n",
    "    n = len(l)\n",
    "    for i in range(0, n-1):\n",
    "        s = i\n",
    "        swap_flag = False\n",
    "        for j in range(i+1, n):\n",
    "            if (l[s] >= l[j]):\n",
    "                s = j\n",
    "                swap_flag = True\n",
    "        swap(i,s) if swap_flag else None  \n",
    "    return l\n",
    "\n",
    "def merge_sort(left, right):\n",
    "    len_left, len_right = len(left), len(right)\n",
    "    i_left, i_right = 0,0\n",
    "    l=[]\n",
    "    while ((i_left < len_left) and (i_right < len_right)):\n",
    "        if (left[i_left] < right[i_right]):\n",
    "            l.append(left[i_left])\n",
    "            i_left +=1\n",
    "        else:\n",
    "            l.append(right[i_right])\n",
    "            i_right +=1\n",
    "    while (i_left < len_left):\n",
    "        l.append(left[i_left])\n",
    "        i_left +=1\n",
    "    while (i_right < len_right):\n",
    "        l.append(right[i_right])\n",
    "        i_right +=1\n",
    "    return l\n",
    "\n",
    "def partition(l, low, high):\n",
    "    def swap(i,j):\n",
    "        t = l[i]\n",
    "        l[i] = l[j]\n",
    "        l[j] = t\n",
    "        return\n",
    "    \n",
    "    p = l[low]\n",
    "    m = low\n",
    "    for j in range(low + 1, high + 1):\n",
    "        if (l[j] < p):\n",
    "            m+=1\n",
    "            swap(j,m)\n",
    "    swap(low, m)\n",
    "    return m\n",
    "\n",
    "def quick_sort(l):\n",
    "    def qs(l, low, high, n):\n",
    "        if (low < high):\n",
    "            pivot_idx = partition(l, low, high)\n",
    "            qs(l, low, pivot_idx - 1, n+1)\n",
    "            qs(l, pivot_idx + 1, high, n + 1)\n",
    "        return l\n",
    "    qs(l, 0 , len(l) - 1, 0)\n",
    "    return l\n",
    "\n",
    "\n",
    "def counting_sort(l,m):\n",
    "    c = [0] * (m + 1)\n",
    "    for i in l:\n",
    "        c[i] += 1\n",
    "    \n",
    "    for j in range(1, m + 1):\n",
    "        c[j] = c[j-1] + c[j]\n",
    "    \n",
    "    n = len(l)\n",
    "    t = [0] * n\n",
    "    for i in range(n-1,-1,-1):\n",
    "        j = l[i]\n",
    "        t[c[j] - 1] = j\n",
    "        c[j] = c[j] - 1\n",
    "    for i in range(0,n):\n",
    "        l[i] = t[i]\n",
    "    return l\n",
    "\n",
    "def convert(l):\n",
    "    new = []\n",
    "    for i in range(len(l)):\n",
    "        key = str(l[i])\n",
    "        while len(key) != 3:\n",
    "            key = '0' + key\n",
    "        new.append(key)\n",
    "    l = new.copy()\n",
    "    return l\n",
    "\n",
    "def radix_sort(l,d):\n",
    "    for r in range(0,d):\n",
    "        c = [0] * 10\n",
    "        m = d - r - 1\n",
    "        for i in l:\n",
    "            #key = int(str(i)[m])\n",
    "            # convert so that it will be all in format of three digit\n",
    "            keys = str(i)\n",
    "            while len(keys) != 3:\n",
    "                keys = '0' + keys\n",
    "            key = int(keys[m])\n",
    "            c[key] += 1\n",
    "        for j in range(1,10):\n",
    "            c[j] = c[j-1] + c[j]\n",
    "        n = len(l)\n",
    "        t = [0] * n\n",
    "        for i in range(n-1,-1,-1):\n",
    "            #key = int(str(l[i])[m])\n",
    "            # convert so that it will be all in format of three digit\n",
    "            keys = str(i)\n",
    "            while len(keys) != 3:\n",
    "                keys = '0' + keys\n",
    "            key = int(keys[m])\n",
    "            t[c[key] - 1] = l[i]\n",
    "            c[key] = c[key] - 1\n",
    "        for i in range(0,n):\n",
    "            l[i] = t[i]\n",
    "        return l"
   ]
  },
  {
   "cell_type": "code",
   "execution_count": 2,
   "id": "f0d9a0c4-6554-4f39-9a49-2876a39109f3",
   "metadata": {
    "id": "f0d9a0c4-6554-4f39-9a49-2876a39109f3"
   },
   "outputs": [],
   "source": [
    "import random\n",
    "from time import perf_counter\n",
    "import numpy as np\n",
    "import pandas as pd"
   ]
  },
  {
   "cell_type": "code",
   "execution_count": 3,
   "id": "8bfb2bf2-398a-4706-9d2f-834a74d440a8",
   "metadata": {
    "id": "8bfb2bf2-398a-4706-9d2f-834a74d440a8"
   },
   "outputs": [],
   "source": [
    "random.randint(0,999)\n",
    "random.randrange(0,999)\n",
    "t1 = perf_counter()\n",
    "t2 = perf_counter()\n",
    "elapsed = t2 - t1"
   ]
  },
  {
   "cell_type": "code",
   "execution_count": 4,
   "id": "638b02bd-16f1-4c97-8f87-a53e9586b1f3",
   "metadata": {
    "id": "638b02bd-16f1-4c97-8f87-a53e9586b1f3"
   },
   "outputs": [],
   "source": [
    "# average case\n",
    "b1 = []\n",
    "i1 = []\n",
    "s1 = []\n",
    "m1 = []\n",
    "q1 = []\n",
    "c1 = []\n",
    "r1 = []"
   ]
  },
  {
   "cell_type": "markdown",
   "id": "ac4d098a-6900-4819-8804-5879fb615671",
   "metadata": {
    "id": "ac4d098a-6900-4819-8804-5879fb615671"
   },
   "source": [
    "- Bubble Sort\n",
    "    - Best  = sorted\n",
    "    - Worst = reverse-sorted\n",
    "- Insertion Sort\n",
    "    - Best  = sorted\n",
    "    - Worst = reverse-sorted\n",
    "- Selection Sort\n",
    "    - Best = Sorted\n",
    "    - Worst = First is largest and the rest is in order\n",
    "- Merge Sort\n",
    "    - Best = Sorted\n",
    "    - Worst = \n",
    "- Quick Sort =\n",
    "    - Best = When Partition process always picks the middle element as pivot\n",
    "    - Worst = When Partition process always picks greatest or smallest element as pivot\n",
    "        - When the N elements are already in ascending order\n",
    "- Counting Sort\n",
    "    - Best = when all elements are same\n",
    "    - Worst = when data is skewed and range is large\n",
    "- Radix Sort\n",
    "    - Best = All elements have the same number of digits\n",
    "    - Worst = Only one element which has significantly large number of digits"
   ]
  },
  {
   "cell_type": "code",
   "execution_count": 5,
   "id": "c372466d-4c10-412d-998c-90893f57bd03",
   "metadata": {
    "id": "c372466d-4c10-412d-998c-90893f57bd03"
   },
   "outputs": [],
   "source": [
    "length = [1, 10, 100, 1000, 10000, 100000]"
   ]
  },
  {
   "cell_type": "markdown",
   "id": "867cf8e5-f2a5-4832-a35f-7c0490780bf2",
   "metadata": {
    "id": "867cf8e5-f2a5-4832-a35f-7c0490780bf2"
   },
   "source": [
    "### Average Case"
   ]
  },
  {
   "cell_type": "markdown",
   "id": "bc625ed2-c2a9-4094-a4ef-8f73893b87a3",
   "metadata": {
    "id": "bc625ed2-c2a9-4094-a4ef-8f73893b87a3"
   },
   "source": [
    "#### Select"
   ]
  },
  {
   "cell_type": "code",
   "execution_count": 6,
   "id": "032b0a0f-add5-49d8-9ec9-7e9b765f68f7",
   "metadata": {
    "colab": {
     "base_uri": "https://localhost:8080/"
    },
    "id": "032b0a0f-add5-49d8-9ec9-7e9b765f68f7",
    "outputId": "ef545a7f-1aaf-413a-9ecc-3ce6c10b6c05"
   },
   "outputs": [
    {
     "name": "stdout",
     "output_type": "stream",
     "text": [
      "1\n",
      "10\n",
      "100\n",
      "1000\n",
      "10000\n",
      "100000\n"
     ]
    }
   ],
   "source": [
    "for i in length:\n",
    "    print(i)\n",
    "    average = []\n",
    "    for k in range(5):\n",
    "        a = []\n",
    "        # create list of numbers\n",
    "        for j in range(i):\n",
    "            a.append(random.randint(0,999)) \n",
    "        t1 = perf_counter()\n",
    "        x = selection_sort(a)\n",
    "        t2 = perf_counter()\n",
    "        elapsed = t2 - t1\n",
    "        average.append(elapsed)\n",
    "    s1.append(np.mean(average))"
   ]
  },
  {
   "cell_type": "code",
   "execution_count": 7,
   "id": "66318a92-d103-4731-9902-b21019bca7aa",
   "metadata": {
    "id": "66318a92-d103-4731-9902-b21019bca7aa"
   },
   "outputs": [],
   "source": [
    "df = pd.DataFrame(list(zip(length, s1)),\n",
    "              columns=['Length','Select'])"
   ]
  },
  {
   "cell_type": "code",
   "execution_count": 8,
   "id": "2240df45-dde6-4908-ba14-6bd37ac7a8a3",
   "metadata": {
    "colab": {
     "base_uri": "https://localhost:8080/",
     "height": 235
    },
    "id": "2240df45-dde6-4908-ba14-6bd37ac7a8a3",
    "outputId": "a379bdf2-3533-4f70-aea4-9a714f421627"
   },
   "outputs": [
    {
     "data": {
      "text/html": [
       "<div>\n",
       "<style scoped>\n",
       "    .dataframe tbody tr th:only-of-type {\n",
       "        vertical-align: middle;\n",
       "    }\n",
       "\n",
       "    .dataframe tbody tr th {\n",
       "        vertical-align: top;\n",
       "    }\n",
       "\n",
       "    .dataframe thead th {\n",
       "        text-align: right;\n",
       "    }\n",
       "</style>\n",
       "<table border=\"1\" class=\"dataframe\">\n",
       "  <thead>\n",
       "    <tr style=\"text-align: right;\">\n",
       "      <th></th>\n",
       "      <th>Length</th>\n",
       "      <th>Select</th>\n",
       "    </tr>\n",
       "  </thead>\n",
       "  <tbody>\n",
       "    <tr>\n",
       "      <th>0</th>\n",
       "      <td>1</td>\n",
       "      <td>8.000000e-07</td>\n",
       "    </tr>\n",
       "    <tr>\n",
       "      <th>1</th>\n",
       "      <td>10</td>\n",
       "      <td>7.200000e-06</td>\n",
       "    </tr>\n",
       "    <tr>\n",
       "      <th>2</th>\n",
       "      <td>100</td>\n",
       "      <td>3.314000e-04</td>\n",
       "    </tr>\n",
       "    <tr>\n",
       "      <th>3</th>\n",
       "      <td>1000</td>\n",
       "      <td>3.351498e-02</td>\n",
       "    </tr>\n",
       "    <tr>\n",
       "      <th>4</th>\n",
       "      <td>10000</td>\n",
       "      <td>3.469137e+00</td>\n",
       "    </tr>\n",
       "    <tr>\n",
       "      <th>5</th>\n",
       "      <td>100000</td>\n",
       "      <td>3.453597e+02</td>\n",
       "    </tr>\n",
       "  </tbody>\n",
       "</table>\n",
       "</div>"
      ],
      "text/plain": [
       "   Length        Select\n",
       "0       1  8.000000e-07\n",
       "1      10  7.200000e-06\n",
       "2     100  3.314000e-04\n",
       "3    1000  3.351498e-02\n",
       "4   10000  3.469137e+00\n",
       "5  100000  3.453597e+02"
      ]
     },
     "execution_count": 8,
     "metadata": {},
     "output_type": "execute_result"
    }
   ],
   "source": [
    "df"
   ]
  },
  {
   "cell_type": "code",
   "execution_count": 9,
   "id": "d3adf154-2753-4455-b6b5-e8b40dbaa743",
   "metadata": {
    "id": "d3adf154-2753-4455-b6b5-e8b40dbaa743"
   },
   "outputs": [],
   "source": [
    "df.to_csv('average-s.csv')"
   ]
  }
 ],
 "metadata": {
  "colab": {
   "collapsed_sections": [],
   "name": "prob1_average selection.ipynb",
   "provenance": []
  },
  "kernelspec": {
   "display_name": "Python 3",
   "language": "python",
   "name": "python3"
  },
  "language_info": {
   "codemirror_mode": {
    "name": "ipython",
    "version": 3
   },
   "file_extension": ".py",
   "mimetype": "text/x-python",
   "name": "python",
   "nbconvert_exporter": "python",
   "pygments_lexer": "ipython3",
   "version": "3.8.8"
  }
 },
 "nbformat": 4,
 "nbformat_minor": 5
}
