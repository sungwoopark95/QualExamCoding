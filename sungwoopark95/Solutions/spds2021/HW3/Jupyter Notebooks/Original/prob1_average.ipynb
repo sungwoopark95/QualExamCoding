{
 "cells": [
  {
   "cell_type": "code",
   "execution_count": 30,
   "id": "a4999946-b0af-4a1b-bd72-4cbdbe2efec3",
   "metadata": {},
   "outputs": [],
   "source": [
    "# I have copied the class code\n",
    "def bubble_sort(l):\n",
    "    def swap(i,j):\n",
    "        # first save the first element\n",
    "        t = l[i]\n",
    "        # save the second element to first \n",
    "        l[i] = l[j]\n",
    "        # save the first element to where the second element was\n",
    "        l[j] = t\n",
    "        return\n",
    "    n = len(l) - 1\n",
    "    for i in range(n,0,-1):\n",
    "        for j in range(i):\n",
    "            if (l[j] >= l[j+1]):\n",
    "                swap(j,j+1)\n",
    "    return l\n",
    "\n",
    "def insertion_sort(l):\n",
    "    n = len(l)\n",
    "    for j in range(1,n):\n",
    "        key = l[j]\n",
    "        i = j-1\n",
    "        while ((i>=0) and (key < l[i])):\n",
    "            l[i+1] = l[i]\n",
    "            i-=1\n",
    "        l[i+1] = key\n",
    "    return l\n",
    "\n",
    "def selection_sort(l):\n",
    "    def swap(i,j):\n",
    "        t=l[i]\n",
    "        l[i] = l[j]\n",
    "        l[j] = t\n",
    "        return\n",
    "    n = len(l)\n",
    "    for i in range(0, n-1):\n",
    "        s = i\n",
    "        swap_flag = False\n",
    "        for j in range(i+1, n):\n",
    "            if (l[s] >= l[j]):\n",
    "                s = j\n",
    "                swap_flag = True\n",
    "        swap(i,s) if swap_flag else None  \n",
    "        return l\n",
    "\n",
    "def merge_sort(left, right):\n",
    "    len_left, len_right = len(left), len(right)\n",
    "    i_left, i_right = 0,0\n",
    "    l=[]\n",
    "    while ((i_left < len_left) and (i_right < len_right)):\n",
    "        if (left[i_left] < right[i_right]):\n",
    "            l.append(left[i_left])\n",
    "            i_left +=1\n",
    "        else:\n",
    "            l.append(right[i_right])\n",
    "            i_right +=1\n",
    "    while (i_left < len_left):\n",
    "        l.append(left[i_left])\n",
    "        i_left +=1\n",
    "    while (i_right < len_right):\n",
    "        l.append(right[i_right])\n",
    "        i_right +=1\n",
    "    return l\n",
    "\n",
    "def partition(l, low, high):\n",
    "    def swap(i,j):\n",
    "        t = l[i]\n",
    "        l[i] = l[j]\n",
    "        l[j] = t\n",
    "        return\n",
    "    \n",
    "    p = l[low]\n",
    "    m = low\n",
    "    for j in range(low + 1, high + 1):\n",
    "        if (l[j] < p):\n",
    "            m+=1\n",
    "            swap(j,m)\n",
    "    swap(low, m)\n",
    "    return m\n",
    "\n",
    "def quick_sort(l):\n",
    "    def qs(l, low, high, n):\n",
    "        if (low < high):\n",
    "            pivot_idx = partition(l, low, high)\n",
    "            qs(l, low, pivot_idx - 1, n+1)\n",
    "            qs(l, pivot_idx + 1, high, n + 1)\n",
    "        return l\n",
    "    qs(l, 0 , len(l) - 1, 0)\n",
    "    return l\n",
    "\n",
    "\n",
    "def counting_sort(l,m):\n",
    "    c = [0] * (m + 1)\n",
    "    for i in l:\n",
    "        c[i] += 1\n",
    "    \n",
    "    for j in range(1, m + 1):\n",
    "        c[j] = c[j-1] + c[j]\n",
    "    \n",
    "    n = len(l)\n",
    "    t = [0] * n\n",
    "    for i in range(n-1,-1,-1):\n",
    "        j = l[i]\n",
    "        t[c[j] - 1] = j\n",
    "        c[j] = c[j] - 1\n",
    "    for i in range(0,n):\n",
    "        l[i] = t[i]\n",
    "    return l\n",
    "\n",
    "def convert(l):\n",
    "    new = []\n",
    "    for i in range(len(l)):\n",
    "        key = str(l[i])\n",
    "        while len(key) != 3:\n",
    "            key = '0' + key\n",
    "        new.append(key)\n",
    "    l = new.copy()\n",
    "    return l\n",
    "\n",
    "def radix_sort(l,d):\n",
    "    for r in range(0,d):\n",
    "        c = [0] * 10\n",
    "        m = d - r - 1\n",
    "        for i in l:\n",
    "            #key = int(str(i)[m])\n",
    "            # convert so that it will be all in format of three digit\n",
    "            keys = str(i)\n",
    "            while len(keys) != 3:\n",
    "                keys = '0' + keys\n",
    "            key = int(keys[m])\n",
    "            c[key] += 1\n",
    "        for j in range(1,10):\n",
    "            c[j] = c[j-1] + c[j]\n",
    "        n = len(l)\n",
    "        t = [0] * n\n",
    "        for i in range(n-1,-1,-1):\n",
    "            #key = int(str(l[i])[m])\n",
    "            # convert so that it will be all in format of three digit\n",
    "            keys = str(i)\n",
    "            while len(keys) != 3:\n",
    "                keys = '0' + keys\n",
    "            key = int(keys[m])\n",
    "            t[c[key] - 1] = l[i]\n",
    "            c[key] = c[key] - 1\n",
    "        for i in range(0,n):\n",
    "            l[i] = t[i]\n",
    "        return l"
   ]
  },
  {
   "cell_type": "code",
   "execution_count": 1,
   "id": "f0d9a0c4-6554-4f39-9a49-2876a39109f3",
   "metadata": {},
   "outputs": [],
   "source": [
    "import random\n",
    "from time import perf_counter\n",
    "import numpy as np\n",
    "import pandas as pd"
   ]
  },
  {
   "cell_type": "code",
   "execution_count": 2,
   "id": "8bfb2bf2-398a-4706-9d2f-834a74d440a8",
   "metadata": {},
   "outputs": [],
   "source": [
    "random.randint(0,999)\n",
    "random.randrange(0,999)\n",
    "t1 = perf_counter()\n",
    "t2 = perf_counter()\n",
    "elapsed = t2 - t1"
   ]
  },
  {
   "cell_type": "code",
   "execution_count": 3,
   "id": "638b02bd-16f1-4c97-8f87-a53e9586b1f3",
   "metadata": {},
   "outputs": [],
   "source": [
    "# average case\n",
    "b1 = []\n",
    "i1 = []\n",
    "s1 = []\n",
    "m1 = []\n",
    "q1 = []\n",
    "c1 = []\n",
    "r1 = []"
   ]
  },
  {
   "cell_type": "markdown",
   "id": "ac4d098a-6900-4819-8804-5879fb615671",
   "metadata": {},
   "source": [
    "- Bubble Sort\n",
    "    - Best  = sorted\n",
    "    - Worst = reverse-sorted\n",
    "- Insertion Sort\n",
    "    - Best  = sorted\n",
    "    - Worst = reverse-sorted\n",
    "- Selection Sort\n",
    "    - Best = Sorted\n",
    "    - Worst = First is largest and the rest is in order\n",
    "- Merge Sort\n",
    "    - Best = Sorted\n",
    "    - Worst = \n",
    "- Quick Sort =\n",
    "    - Best = When Partition process always picks the middle element as pivot\n",
    "    - Worst = When Partition process always picks greatest or smallest element as pivot\n",
    "        - When the N elements are already in ascending order\n",
    "- Counting Sort\n",
    "    - Best = when all elements are same\n",
    "    - Worst = when data is skewed and range is large\n",
    "- Radix Sort\n",
    "    - Best = All elements have the same number of digits\n",
    "    - Worst = Only one element which has significantly large number of digits"
   ]
  },
  {
   "cell_type": "code",
   "execution_count": 4,
   "id": "c372466d-4c10-412d-998c-90893f57bd03",
   "metadata": {},
   "outputs": [],
   "source": [
    "length = [1, 10, 100, 1000, 10000, 100000]"
   ]
  },
  {
   "cell_type": "markdown",
   "id": "867cf8e5-f2a5-4832-a35f-7c0490780bf2",
   "metadata": {},
   "source": [
    "### Average Case"
   ]
  },
  {
   "cell_type": "markdown",
   "id": "7aa1ba57-7f14-49f2-b627-db0c7aee87eb",
   "metadata": {},
   "source": [
    "#### Bubble"
   ]
  },
  {
   "cell_type": "code",
   "execution_count": null,
   "id": "b76ed75c-c2e5-4338-a291-64b8d29e91fb",
   "metadata": {},
   "outputs": [],
   "source": [
    "for i in length:\n",
    "    print(i)\n",
    "    average = []\n",
    "    for k in range(3):\n",
    "        a = []\n",
    "        # create list of numbers\n",
    "        for j in range(i):\n",
    "            a.append(random.randint(0,999))\n",
    "        t1 = perf_counter()\n",
    "        x = bubble_sort(a)\n",
    "        t2 = perf_counter()\n",
    "        elapsed = t2 - t1\n",
    "        average.append(elapsed)\n",
    "    b1.append(np.mean(average))"
   ]
  },
  {
   "cell_type": "markdown",
   "id": "ea8544db-39fe-4ac5-ad0c-d2940486d475",
   "metadata": {},
   "source": [
    "#### Insert"
   ]
  },
  {
   "cell_type": "code",
   "execution_count": null,
   "id": "85c13480-fb1f-4f31-ae78-7da763018872",
   "metadata": {},
   "outputs": [],
   "source": [
    "for i in length:\n",
    "    print(i)\n",
    "    average = []\n",
    "    for k in range(3):\n",
    "        a = []\n",
    "        # create list of numbers\n",
    "        for j in range(i):\n",
    "            a.append(random.randint(0,999))\n",
    "        t1 = perf_counter()\n",
    "        x = insertion_sort(a)\n",
    "        t2 = perf_counter()\n",
    "        elapsed = t2 - t1\n",
    "        average.append(elapsed)\n",
    "    i1.append(np.mean(average))"
   ]
  },
  {
   "cell_type": "markdown",
   "id": "bc625ed2-c2a9-4094-a4ef-8f73893b87a3",
   "metadata": {},
   "source": [
    "#### Select"
   ]
  },
  {
   "cell_type": "code",
   "execution_count": null,
   "id": "032b0a0f-add5-49d8-9ec9-7e9b765f68f7",
   "metadata": {},
   "outputs": [],
   "source": [
    "for i in length:\n",
    "    print(i)\n",
    "    average = []\n",
    "    for k in range(3):\n",
    "        a = []\n",
    "        # create list of numbers\n",
    "        for j in range(i):\n",
    "            a.append(random.randint(0,999)) \n",
    "        t1 = perf_counter()\n",
    "        x = selection_sort(a)\n",
    "        t2 = perf_counter()\n",
    "        elapsed = t2 - t1\n",
    "        average.append(elapsed)\n",
    "    s1.append(np.mean(average))"
   ]
  },
  {
   "cell_type": "markdown",
   "id": "e25f2bb7-7f38-4f74-b3c0-ca88e9cba968",
   "metadata": {},
   "source": [
    "#### Merge"
   ]
  },
  {
   "cell_type": "code",
   "execution_count": null,
   "id": "7514d0fa-c2aa-407c-8cab-36f230c881ef",
   "metadata": {},
   "outputs": [],
   "source": [
    "for i in length:\n",
    "    print(i)\n",
    "    average = []\n",
    "    for k in range(3):\n",
    "        a = []\n",
    "        if i == 1:\n",
    "            left = [random.randint(0,999)]\n",
    "            right = []\n",
    "        else:\n",
    "            # create list of numbers\n",
    "            for j in range(i):\n",
    "                a.append(random.randint(0,999))\n",
    "            left = a[:(len(a)//2)]\n",
    "            right = a[(len(a)//2):]\n",
    "        t1 = perf_counter()\n",
    "        x = merge_sort(left, right)\n",
    "        t2 = perf_counter()\n",
    "        elapsed = t2 - t1\n",
    "        average.append(elapsed)\n",
    "    m1.append(np.mean(average))"
   ]
  },
  {
   "cell_type": "markdown",
   "id": "12ceabab-774e-4190-9fce-2ce5bba66f92",
   "metadata": {},
   "source": [
    "#### Quick"
   ]
  },
  {
   "cell_type": "code",
   "execution_count": null,
   "id": "06d28dd7-fe60-4895-8cff-cd92424c7b16",
   "metadata": {},
   "outputs": [],
   "source": [
    "for i in length:\n",
    "    print(i)\n",
    "    average = []\n",
    "    for k in range(3):\n",
    "        a = []\n",
    "        # create list of numbers\n",
    "        for j in range(i):\n",
    "            a.append(random.randint(0,999))\n",
    "        t1 = perf_counter()\n",
    "        x = quick_sort(a)\n",
    "        t2 = perf_counter()\n",
    "        elapsed = t2 - t1\n",
    "        average.append(elapsed)\n",
    "    q1.append(np.mean(average))"
   ]
  },
  {
   "cell_type": "markdown",
   "id": "3aa69390-2f7e-41e9-927f-2bf5eedb7367",
   "metadata": {},
   "source": [
    "#### Counting"
   ]
  },
  {
   "cell_type": "code",
   "execution_count": null,
   "id": "2f54193b-47d4-4bd2-8760-cd4f2ef13325",
   "metadata": {},
   "outputs": [],
   "source": [
    "for i in length:\n",
    "    print(i)\n",
    "    average = []\n",
    "    for k in range(3):\n",
    "        a = []\n",
    "        # create list of numbers\n",
    "        for j in range(i):\n",
    "            a.append(random.randint(0,999))\n",
    "        t1 = perf_counter()\n",
    "        x = counting_sort(a, 1000)\n",
    "        t2 = perf_counter()\n",
    "        elapsed = t2 - t1\n",
    "        average.append(elapsed)\n",
    "    c1.append(np.mean(average))"
   ]
  },
  {
   "cell_type": "markdown",
   "id": "ef278b11-bcb1-4b32-aed7-43b0c831fd0f",
   "metadata": {},
   "source": [
    "#### Radix"
   ]
  },
  {
   "cell_type": "code",
   "execution_count": 31,
   "id": "4651b399-5a3c-477f-beac-da0c48788561",
   "metadata": {},
   "outputs": [
    {
     "name": "stdout",
     "output_type": "stream",
     "text": [
      "1\n",
      "10\n",
      "100\n",
      "1000\n",
      "10000\n"
     ]
    },
    {
     "ename": "KeyboardInterrupt",
     "evalue": "",
     "output_type": "error",
     "traceback": [
      "\u001b[1;31m---------------------------------------------------------------------------\u001b[0m",
      "\u001b[1;31mKeyboardInterrupt\u001b[0m                         Traceback (most recent call last)",
      "\u001b[1;32m<ipython-input-31-f532ea3b96fe>\u001b[0m in \u001b[0;36m<module>\u001b[1;34m\u001b[0m\n\u001b[0;32m      8\u001b[0m             \u001b[0ma\u001b[0m\u001b[1;33m.\u001b[0m\u001b[0mappend\u001b[0m\u001b[1;33m(\u001b[0m\u001b[0mrandom\u001b[0m\u001b[1;33m.\u001b[0m\u001b[0mrandint\u001b[0m\u001b[1;33m(\u001b[0m\u001b[1;36m0\u001b[0m\u001b[1;33m,\u001b[0m\u001b[1;36m999\u001b[0m\u001b[1;33m)\u001b[0m\u001b[1;33m)\u001b[0m\u001b[1;33m\u001b[0m\u001b[1;33m\u001b[0m\u001b[0m\n\u001b[0;32m      9\u001b[0m         \u001b[0mt1\u001b[0m \u001b[1;33m=\u001b[0m \u001b[0mperf_counter\u001b[0m\u001b[1;33m(\u001b[0m\u001b[1;33m)\u001b[0m\u001b[1;33m\u001b[0m\u001b[1;33m\u001b[0m\u001b[0m\n\u001b[1;32m---> 10\u001b[1;33m         \u001b[0mx\u001b[0m \u001b[1;33m=\u001b[0m \u001b[0mradix_sort\u001b[0m\u001b[1;33m(\u001b[0m\u001b[0ma\u001b[0m\u001b[1;33m,\u001b[0m\u001b[1;36m3\u001b[0m\u001b[1;33m)\u001b[0m\u001b[1;33m\u001b[0m\u001b[1;33m\u001b[0m\u001b[0m\n\u001b[0m\u001b[0;32m     11\u001b[0m         \u001b[0mt2\u001b[0m \u001b[1;33m=\u001b[0m \u001b[0mperf_counter\u001b[0m\u001b[1;33m(\u001b[0m\u001b[1;33m)\u001b[0m\u001b[1;33m\u001b[0m\u001b[1;33m\u001b[0m\u001b[0m\n\u001b[0;32m     12\u001b[0m         \u001b[0melapsed\u001b[0m \u001b[1;33m=\u001b[0m \u001b[0mt2\u001b[0m \u001b[1;33m-\u001b[0m \u001b[0mt1\u001b[0m\u001b[1;33m\u001b[0m\u001b[1;33m\u001b[0m\u001b[0m\n",
      "\u001b[1;32m<ipython-input-30-790cd660b7f9>\u001b[0m in \u001b[0;36mradix_sort\u001b[1;34m(l, d)\u001b[0m\n\u001b[0;32m    139\u001b[0m             \u001b[0mkeys\u001b[0m \u001b[1;33m=\u001b[0m \u001b[0mstr\u001b[0m\u001b[1;33m(\u001b[0m\u001b[0mi\u001b[0m\u001b[1;33m)\u001b[0m\u001b[1;33m\u001b[0m\u001b[1;33m\u001b[0m\u001b[0m\n\u001b[0;32m    140\u001b[0m             \u001b[1;32mwhile\u001b[0m \u001b[0mlen\u001b[0m\u001b[1;33m(\u001b[0m\u001b[0mkeys\u001b[0m\u001b[1;33m)\u001b[0m \u001b[1;33m!=\u001b[0m \u001b[1;36m3\u001b[0m\u001b[1;33m:\u001b[0m\u001b[1;33m\u001b[0m\u001b[1;33m\u001b[0m\u001b[0m\n\u001b[1;32m--> 141\u001b[1;33m                 \u001b[0mkeys\u001b[0m \u001b[1;33m=\u001b[0m \u001b[1;34m'0'\u001b[0m \u001b[1;33m+\u001b[0m \u001b[0mkeys\u001b[0m\u001b[1;33m\u001b[0m\u001b[1;33m\u001b[0m\u001b[0m\n\u001b[0m\u001b[0;32m    142\u001b[0m             \u001b[0mkey\u001b[0m \u001b[1;33m=\u001b[0m \u001b[0mint\u001b[0m\u001b[1;33m(\u001b[0m\u001b[0mkeys\u001b[0m\u001b[1;33m[\u001b[0m\u001b[0mm\u001b[0m\u001b[1;33m]\u001b[0m\u001b[1;33m)\u001b[0m\u001b[1;33m\u001b[0m\u001b[1;33m\u001b[0m\u001b[0m\n\u001b[0;32m    143\u001b[0m             \u001b[0mt\u001b[0m\u001b[1;33m[\u001b[0m\u001b[0mc\u001b[0m\u001b[1;33m[\u001b[0m\u001b[0mkey\u001b[0m\u001b[1;33m]\u001b[0m \u001b[1;33m-\u001b[0m \u001b[1;36m1\u001b[0m\u001b[1;33m]\u001b[0m \u001b[1;33m=\u001b[0m \u001b[0ml\u001b[0m\u001b[1;33m[\u001b[0m\u001b[0mi\u001b[0m\u001b[1;33m]\u001b[0m\u001b[1;33m\u001b[0m\u001b[1;33m\u001b[0m\u001b[0m\n",
      "\u001b[1;31mKeyboardInterrupt\u001b[0m: "
     ]
    }
   ],
   "source": [
    "for i in length:\n",
    "    print(i)\n",
    "    average = []\n",
    "    for k in range(3):\n",
    "        a = []\n",
    "        # create list of numbers\n",
    "        for j in range(i):\n",
    "            a.append(random.randint(0,999))\n",
    "        t1 = perf_counter()\n",
    "        x = radix_sort(a,3)\n",
    "        t2 = perf_counter()\n",
    "        elapsed = t2 - t1\n",
    "        average.append(elapsed)\n",
    "    r1.append(np.mean(average))"
   ]
  },
  {
   "cell_type": "code",
   "execution_count": 22,
   "id": "66318a92-d103-4731-9902-b21019bca7aa",
   "metadata": {},
   "outputs": [
    {
     "ename": "AttributeError",
     "evalue": "module 'pandas' has no attribute 'Dataframe'",
     "output_type": "error",
     "traceback": [
      "\u001b[1;31m---------------------------------------------------------------------------\u001b[0m",
      "\u001b[1;31mAttributeError\u001b[0m                            Traceback (most recent call last)",
      "\u001b[1;32m<ipython-input-22-5e87f412cfeb>\u001b[0m in \u001b[0;36m<module>\u001b[1;34m\u001b[0m\n\u001b[1;32m----> 1\u001b[1;33m df = pd.Dataframe(\n\u001b[0m\u001b[0;32m      2\u001b[0m     {\n\u001b[0;32m      3\u001b[0m         \u001b[1;34m'Length'\u001b[0m\u001b[1;33m:\u001b[0m \u001b[0mlength\u001b[0m\u001b[1;33m,\u001b[0m\u001b[1;33m\u001b[0m\u001b[1;33m\u001b[0m\u001b[0m\n\u001b[0;32m      4\u001b[0m         \u001b[1;34m'Bubble'\u001b[0m\u001b[1;33m:\u001b[0m \u001b[0mb1\u001b[0m\u001b[1;33m,\u001b[0m\u001b[1;33m\u001b[0m\u001b[1;33m\u001b[0m\u001b[0m\n\u001b[0;32m      5\u001b[0m         \u001b[1;34m'Insert'\u001b[0m\u001b[1;33m:\u001b[0m \u001b[0mi1\u001b[0m\u001b[1;33m,\u001b[0m\u001b[1;33m\u001b[0m\u001b[1;33m\u001b[0m\u001b[0m\n",
      "\u001b[1;32m~\\anaconda3\\lib\\site-packages\\pandas\\__init__.py\u001b[0m in \u001b[0;36m__getattr__\u001b[1;34m(name)\u001b[0m\n\u001b[0;32m    242\u001b[0m         \u001b[1;32mreturn\u001b[0m \u001b[0m_SparseArray\u001b[0m\u001b[1;33m\u001b[0m\u001b[1;33m\u001b[0m\u001b[0m\n\u001b[0;32m    243\u001b[0m \u001b[1;33m\u001b[0m\u001b[0m\n\u001b[1;32m--> 244\u001b[1;33m     \u001b[1;32mraise\u001b[0m \u001b[0mAttributeError\u001b[0m\u001b[1;33m(\u001b[0m\u001b[1;34mf\"module 'pandas' has no attribute '{name}'\"\u001b[0m\u001b[1;33m)\u001b[0m\u001b[1;33m\u001b[0m\u001b[1;33m\u001b[0m\u001b[0m\n\u001b[0m\u001b[0;32m    245\u001b[0m \u001b[1;33m\u001b[0m\u001b[0m\n\u001b[0;32m    246\u001b[0m \u001b[1;33m\u001b[0m\u001b[0m\n",
      "\u001b[1;31mAttributeError\u001b[0m: module 'pandas' has no attribute 'Dataframe'"
     ]
    }
   ],
   "source": [
    "df = pd.DataFrame(list(zip(length, b1, i1,s1,m1,q1,c1,r1)),\n",
    "              columns=['Length','Linear', 'Binary','Select','Merge','Quick','Count','Radix'])"
   ]
  },
  {
   "cell_type": "code",
   "execution_count": null,
   "id": "2240df45-dde6-4908-ba14-6bd37ac7a8a3",
   "metadata": {},
   "outputs": [],
   "source": [
    "df"
   ]
  },
  {
   "cell_type": "code",
   "execution_count": null,
   "id": "d3adf154-2753-4455-b6b5-e8b40dbaa743",
   "metadata": {},
   "outputs": [],
   "source": [
    "df.to_csv('average.csv')"
   ]
  },
  {
   "cell_type": "code",
   "execution_count": 10,
   "id": "9bc49c39-0468-48d6-a183-ab1980665301",
   "metadata": {},
   "outputs": [],
   "source": []
  }
 ],
 "metadata": {
  "kernelspec": {
   "display_name": "Python 3",
   "language": "python",
   "name": "python3"
  },
  "language_info": {
   "codemirror_mode": {
    "name": "ipython",
    "version": 3
   },
   "file_extension": ".py",
   "mimetype": "text/x-python",
   "name": "python",
   "nbconvert_exporter": "python",
   "pygments_lexer": "ipython3",
   "version": "3.8.8"
  }
 },
 "nbformat": 4,
 "nbformat_minor": 5
}
