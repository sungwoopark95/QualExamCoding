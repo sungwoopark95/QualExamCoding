{
 "cells": [
  {
   "cell_type": "code",
   "execution_count": 1,
   "metadata": {
    "execution": {
     "iopub.execute_input": "2021-10-14T22:39:30.099437Z",
     "iopub.status.busy": "2021-10-14T22:39:30.098092Z",
     "iopub.status.idle": "2021-10-14T22:39:47.436352Z",
     "shell.execute_reply": "2021-10-14T22:39:47.434637Z"
    }
   },
   "outputs": [
    {
     "name": "stdout",
     "output_type": "stream",
     "text": [
      "Collecting pandas\r\n",
      "  Downloading pandas-1.3.3-cp38-cp38-manylinux_2_17_x86_64.manylinux2014_x86_64.whl (11.5 MB)\r\n",
      "\u001b[K     |████████████████████████████████| 11.5 MB 9.5 MB/s \r\n",
      "\u001b[?25hRequirement already satisfied: pytz>=2017.3 in /home/idies/miniconda3/lib/python3.8/site-packages (from pandas) (2021.1)\r\n",
      "Requirement already satisfied: numpy>=1.17.3 in /home/idies/miniconda3/lib/python3.8/site-packages (from pandas) (1.19.4)\r\n",
      "Requirement already satisfied: python-dateutil>=2.7.3 in /home/idies/miniconda3/lib/python3.8/site-packages (from pandas) (2.8.1)\r\n",
      "Requirement already satisfied: six>=1.5 in /home/idies/miniconda3/lib/python3.8/site-packages (from python-dateutil>=2.7.3->pandas) (1.15.0)\r\n",
      "Installing collected packages: pandas\r\n",
      "Successfully installed pandas-1.3.3\r\n"
     ]
    }
   ],
   "source": [
    "!pip install pandas"
   ]
  },
  {
   "cell_type": "code",
   "execution_count": 2,
   "metadata": {
    "execution": {
     "iopub.execute_input": "2021-10-14T22:39:47.449996Z",
     "iopub.status.busy": "2021-10-14T22:39:47.444033Z",
     "iopub.status.idle": "2021-10-14T22:39:47.495562Z",
     "shell.execute_reply": "2021-10-14T22:39:47.494237Z"
    },
    "executionInfo": {
     "elapsed": 512,
     "status": "ok",
     "timestamp": 1634212509253,
     "user": {
      "displayName": "­문정현 / 학생 / 데이터사이언스학과",
      "photoUrl": "https://lh3.googleusercontent.com/a/default-user=s64",
      "userId": "12935964920098229097"
     },
     "user_tz": -540
    },
    "id": "a4999946-b0af-4a1b-bd72-4cbdbe2efec3"
   },
   "outputs": [],
   "source": [
    "# I have copied the class code\n",
    "def bubble_sort(l):\n",
    "    def swap(i,j):\n",
    "        # first save the first element\n",
    "        t = l[i]\n",
    "        # save the second element to first \n",
    "        l[i] = l[j]\n",
    "        # save the first element to where the second element was\n",
    "        l[j] = t\n",
    "        return\n",
    "    n = len(l) - 1\n",
    "    for i in range(n,0,-1):\n",
    "        for j in range(i):\n",
    "            if (l[j] >= l[j+1]):\n",
    "                swap(j,j+1)\n",
    "    return l\n",
    "\n",
    "def insertion_sort(l):\n",
    "    n = len(l)\n",
    "    for j in range(1,n):\n",
    "        key = l[j]\n",
    "        i = j-1\n",
    "        while ((i>=0) and (key < l[i])):\n",
    "            l[i+1] = l[i]\n",
    "            i-=1\n",
    "        l[i+1] = key\n",
    "    return l\n",
    "\n",
    "def selection_sort(l):\n",
    "    def swap(i,j):\n",
    "        t=l[i]\n",
    "        l[i] = l[j]\n",
    "        l[j] = t\n",
    "        return\n",
    "    n = len(l)\n",
    "    for i in range(0, n-1):\n",
    "        s = i\n",
    "        swap_flag = False\n",
    "        for j in range(i+1, n):\n",
    "            if (l[s] >= l[j]):\n",
    "                s = j\n",
    "                swap_flag = True\n",
    "        swap(i,s) if swap_flag else None  \n",
    "        return l\n",
    "\n",
    "def merge_sort(left, right):\n",
    "    len_left, len_right = len(left), len(right)\n",
    "    i_left, i_right = 0,0\n",
    "    l=[]\n",
    "    while ((i_left < len_left) and (i_right < len_right)):\n",
    "        if (left[i_left] < right[i_right]):\n",
    "            l.append(left[i_left])\n",
    "            i_left +=1\n",
    "        else:\n",
    "            l.append(right[i_right])\n",
    "            i_right +=1\n",
    "    while (i_left < len_left):\n",
    "        l.append(left[i_left])\n",
    "        i_left +=1\n",
    "    while (i_right < len_right):\n",
    "        l.append(right[i_right])\n",
    "        i_right +=1\n",
    "    return l\n",
    "\n",
    "def partition(l, low, high):\n",
    "    def swap(i,j):\n",
    "        t = l[i]\n",
    "        l[i] = l[j]\n",
    "        l[j] = t\n",
    "        return\n",
    "    \n",
    "    p = l[low]\n",
    "    m = low\n",
    "    for j in range(low + 1, high + 1):\n",
    "        if (l[j] < p):\n",
    "            m+=1\n",
    "            swap(j,m)\n",
    "    swap(low, m)\n",
    "    return m\n",
    "\n",
    "def quick_sort(l):\n",
    "    def qs(l, low, high, n):\n",
    "        if (low < high):\n",
    "            pivot_idx = partition(l, low, high)\n",
    "            qs(l, low, pivot_idx - 1, n+1)\n",
    "            qs(l, pivot_idx + 1, high, n + 1)\n",
    "        return l\n",
    "    qs(l, 0 , len(l) - 1, 0)\n",
    "    return l\n",
    "\n",
    "\n",
    "def counting_sort(l,m):\n",
    "    c = [0] * (m + 1)\n",
    "    for i in l:\n",
    "        c[i] += 1\n",
    "    \n",
    "    for j in range(1, m + 1):\n",
    "        c[j] = c[j-1] + c[j]\n",
    "    \n",
    "    n = len(l)\n",
    "    t = [0] * n\n",
    "    for i in range(n-1,-1,-1):\n",
    "        j = l[i]\n",
    "        t[c[j] - 1] = j\n",
    "        c[j] = c[j] - 1\n",
    "    for i in range(0,n):\n",
    "        l[i] = t[i]\n",
    "    return l\n",
    "\n",
    "def convert(l):\n",
    "    new = []\n",
    "    for i in range(len(l)):\n",
    "        key = str(l[i])\n",
    "        while len(key) != 3:\n",
    "            key = '0' + key\n",
    "        new.append(key)\n",
    "    l = new.copy()\n",
    "    return l\n",
    "\n",
    "def radix_sort(l,d):\n",
    "    for r in range(0,d):\n",
    "        c = [0] * 10\n",
    "        m = d - r - 1\n",
    "        for i in l:\n",
    "            #key = int(str(i)[m])\n",
    "            # convert so that it will be all in format of three digit\n",
    "            keys = str(i)\n",
    "            while len(keys) != 3:\n",
    "                keys = '0' + keys\n",
    "            key = int(keys[m])\n",
    "            c[key] += 1\n",
    "        for j in range(1,10):\n",
    "            c[j] = c[j-1] + c[j]\n",
    "        n = len(l)\n",
    "        t = [0] * n\n",
    "        for i in range(n-1,-1,-1):\n",
    "            #key = int(str(l[i])[m])\n",
    "            # convert so that it will be all in format of three digit\n",
    "            keys = str(i)\n",
    "            while len(keys) != 3:\n",
    "                keys = '0' + keys\n",
    "            key = int(keys[m])\n",
    "            t[c[key] - 1] = l[i]\n",
    "            c[key] = c[key] - 1\n",
    "        for i in range(0,n):\n",
    "            l[i] = t[i]\n",
    "        return l"
   ]
  },
  {
   "cell_type": "code",
   "execution_count": 3,
   "metadata": {
    "execution": {
     "iopub.execute_input": "2021-10-14T22:39:47.504352Z",
     "iopub.status.busy": "2021-10-14T22:39:47.503084Z",
     "iopub.status.idle": "2021-10-14T22:39:48.306560Z",
     "shell.execute_reply": "2021-10-14T22:39:48.305285Z"
    },
    "executionInfo": {
     "elapsed": 13,
     "status": "ok",
     "timestamp": 1634212509254,
     "user": {
      "displayName": "­문정현 / 학생 / 데이터사이언스학과",
      "photoUrl": "https://lh3.googleusercontent.com/a/default-user=s64",
      "userId": "12935964920098229097"
     },
     "user_tz": -540
    },
    "id": "f0d9a0c4-6554-4f39-9a49-2876a39109f3"
   },
   "outputs": [],
   "source": [
    "import random\n",
    "from time import perf_counter\n",
    "import numpy as np\n",
    "import pandas as pd"
   ]
  },
  {
   "cell_type": "code",
   "execution_count": 4,
   "metadata": {
    "execution": {
     "iopub.execute_input": "2021-10-14T22:39:48.316974Z",
     "iopub.status.busy": "2021-10-14T22:39:48.315684Z",
     "iopub.status.idle": "2021-10-14T22:39:48.321712Z",
     "shell.execute_reply": "2021-10-14T22:39:48.320702Z"
    },
    "executionInfo": {
     "elapsed": 13,
     "status": "ok",
     "timestamp": 1634212509255,
     "user": {
      "displayName": "­문정현 / 학생 / 데이터사이언스학과",
      "photoUrl": "https://lh3.googleusercontent.com/a/default-user=s64",
      "userId": "12935964920098229097"
     },
     "user_tz": -540
    },
    "id": "8bfb2bf2-398a-4706-9d2f-834a74d440a8"
   },
   "outputs": [],
   "source": [
    "random.randint(0,999)\n",
    "random.randrange(0,999)\n",
    "t1 = perf_counter()\n",
    "t2 = perf_counter()\n",
    "elapsed = t2 - t1"
   ]
  },
  {
   "cell_type": "code",
   "execution_count": 5,
   "metadata": {
    "execution": {
     "iopub.execute_input": "2021-10-14T22:39:48.330568Z",
     "iopub.status.busy": "2021-10-14T22:39:48.329288Z",
     "iopub.status.idle": "2021-10-14T22:39:48.335371Z",
     "shell.execute_reply": "2021-10-14T22:39:48.334372Z"
    },
    "executionInfo": {
     "elapsed": 12,
     "status": "ok",
     "timestamp": 1634212509256,
     "user": {
      "displayName": "­문정현 / 학생 / 데이터사이언스학과",
      "photoUrl": "https://lh3.googleusercontent.com/a/default-user=s64",
      "userId": "12935964920098229097"
     },
     "user_tz": -540
    },
    "id": "638b02bd-16f1-4c97-8f87-a53e9586b1f3"
   },
   "outputs": [],
   "source": [
    "# average case\n",
    "b1 = []\n",
    "i1 = []\n",
    "s1 = []\n",
    "m1 = []\n",
    "q1 = []\n",
    "c1 = []\n",
    "r1 = []"
   ]
  },
  {
   "cell_type": "markdown",
   "metadata": {
    "id": "ac4d098a-6900-4819-8804-5879fb615671"
   },
   "source": [
    "- Bubble Sort\n",
    "    - Best  = sorted\n",
    "    - Worst = reverse-sorted\n",
    "- Insertion Sort\n",
    "    - Best  = sorted\n",
    "    - Worst = reverse-sorted\n",
    "- Selection Sort\n",
    "    - Best = Sorted\n",
    "    - Worst = First is largest and the rest is in order\n",
    "- Merge Sort\n",
    "    - Best = Sorted\n",
    "    - Worst = \n",
    "- Quick Sort =\n",
    "    - Best = When Partition process always picks the middle element as pivot\n",
    "    - Worst = When Partition process always picks greatest or smallest element as pivot\n",
    "        - When the N elements are already in ascending order\n",
    "- Counting Sort\n",
    "    - Best = when all elements are same\n",
    "    - Worst = when data is skewed and range is large\n",
    "- Radix Sort\n",
    "    - Best = All elements have the same number of digits\n",
    "    - Worst = Only one element which has significantly large number of digits"
   ]
  },
  {
   "cell_type": "code",
   "execution_count": 6,
   "metadata": {
    "execution": {
     "iopub.execute_input": "2021-10-14T22:39:48.344118Z",
     "iopub.status.busy": "2021-10-14T22:39:48.342855Z",
     "iopub.status.idle": "2021-10-14T22:39:48.348475Z",
     "shell.execute_reply": "2021-10-14T22:39:48.347455Z"
    },
    "executionInfo": {
     "elapsed": 13,
     "status": "ok",
     "timestamp": 1634212509257,
     "user": {
      "displayName": "­문정현 / 학생 / 데이터사이언스학과",
      "photoUrl": "https://lh3.googleusercontent.com/a/default-user=s64",
      "userId": "12935964920098229097"
     },
     "user_tz": -540
    },
    "id": "c372466d-4c10-412d-998c-90893f57bd03"
   },
   "outputs": [],
   "source": [
    "length = [1, 10, 100, 1000, 10000, 100000]"
   ]
  },
  {
   "cell_type": "markdown",
   "metadata": {
    "id": "867cf8e5-f2a5-4832-a35f-7c0490780bf2"
   },
   "source": [
    "### Average Case"
   ]
  },
  {
   "cell_type": "markdown",
   "metadata": {
    "id": "7aa1ba57-7f14-49f2-b627-db0c7aee87eb"
   },
   "source": [
    "#### Bubble"
   ]
  },
  {
   "cell_type": "code",
   "execution_count": 7,
   "metadata": {
    "colab": {
     "base_uri": "https://localhost:8080/"
    },
    "execution": {
     "iopub.execute_input": "2021-10-14T22:39:48.403249Z",
     "iopub.status.busy": "2021-10-14T22:39:48.376955Z",
     "iopub.status.idle": "2021-10-15T03:36:39.967066Z",
     "shell.execute_reply": "2021-10-15T03:36:39.968777Z"
    },
    "id": "b76ed75c-c2e5-4338-a291-64b8d29e91fb",
    "outputId": "dcd2001f-6781-409f-af8a-0b29193fbae5"
   },
   "outputs": [
    {
     "name": "stdout",
     "output_type": "stream",
     "text": [
      "1\n",
      "10\n",
      "100\n",
      "1000\n",
      "10000\n",
      "100000\n"
     ]
    }
   ],
   "source": [
    "for i in length:\n",
    "    print(i)\n",
    "    average = []\n",
    "    for k in range(5):\n",
    "        a = []\n",
    "        # create list of numbers\n",
    "        for j in range(i):\n",
    "            a.append(random.randint(0,999))\n",
    "        t1 = perf_counter()\n",
    "        x = bubble_sort(a)\n",
    "        t2 = perf_counter()\n",
    "        elapsed = t2 - t1\n",
    "        average.append(elapsed)\n",
    "    b1.append(np.mean(average))"
   ]
  },
  {
   "cell_type": "code",
   "execution_count": 8,
   "metadata": {
    "execution": {
     "iopub.execute_input": "2021-10-15T03:36:39.992506Z",
     "iopub.status.busy": "2021-10-15T03:36:39.991221Z",
     "iopub.status.idle": "2021-10-15T03:36:40.018755Z",
     "shell.execute_reply": "2021-10-15T03:36:40.019740Z"
    },
    "id": "66318a92-d103-4731-9902-b21019bca7aa"
   },
   "outputs": [],
   "source": [
    "df = pd.DataFrame(list(zip(length, b1)),\n",
    "              columns=['Length','Bubble'])"
   ]
  },
  {
   "cell_type": "code",
   "execution_count": 9,
   "metadata": {
    "execution": {
     "iopub.execute_input": "2021-10-15T03:36:40.075299Z",
     "iopub.status.busy": "2021-10-15T03:36:40.034568Z",
     "iopub.status.idle": "2021-10-15T03:36:40.100489Z",
     "shell.execute_reply": "2021-10-15T03:36:40.101727Z"
    },
    "id": "2240df45-dde6-4908-ba14-6bd37ac7a8a3"
   },
   "outputs": [
    {
     "data": {
      "text/html": [
       "<div>\n",
       "<style scoped>\n",
       "    .dataframe tbody tr th:only-of-type {\n",
       "        vertical-align: middle;\n",
       "    }\n",
       "\n",
       "    .dataframe tbody tr th {\n",
       "        vertical-align: top;\n",
       "    }\n",
       "\n",
       "    .dataframe thead th {\n",
       "        text-align: right;\n",
       "    }\n",
       "</style>\n",
       "<table border=\"1\" class=\"dataframe\">\n",
       "  <thead>\n",
       "    <tr style=\"text-align: right;\">\n",
       "      <th></th>\n",
       "      <th>Length</th>\n",
       "      <th>Bubble</th>\n",
       "    </tr>\n",
       "  </thead>\n",
       "  <tbody>\n",
       "    <tr>\n",
       "      <th>0</th>\n",
       "      <td>1</td>\n",
       "      <td>0.000003</td>\n",
       "    </tr>\n",
       "    <tr>\n",
       "      <th>1</th>\n",
       "      <td>10</td>\n",
       "      <td>0.000083</td>\n",
       "    </tr>\n",
       "    <tr>\n",
       "      <th>2</th>\n",
       "      <td>100</td>\n",
       "      <td>0.002070</td>\n",
       "    </tr>\n",
       "    <tr>\n",
       "      <th>3</th>\n",
       "      <td>1000</td>\n",
       "      <td>0.257890</td>\n",
       "    </tr>\n",
       "    <tr>\n",
       "      <th>4</th>\n",
       "      <td>10000</td>\n",
       "      <td>33.097893</td>\n",
       "    </tr>\n",
       "    <tr>\n",
       "      <th>5</th>\n",
       "      <td>100000</td>\n",
       "      <td>3528.736147</td>\n",
       "    </tr>\n",
       "  </tbody>\n",
       "</table>\n",
       "</div>"
      ],
      "text/plain": [
       "   Length       Bubble\n",
       "0       1     0.000003\n",
       "1      10     0.000083\n",
       "2     100     0.002070\n",
       "3    1000     0.257890\n",
       "4   10000    33.097893\n",
       "5  100000  3528.736147"
      ]
     },
     "execution_count": 1,
     "metadata": {},
     "output_type": "execute_result"
    }
   ],
   "source": [
    "df"
   ]
  },
  {
   "cell_type": "code",
   "execution_count": 10,
   "metadata": {
    "execution": {
     "iopub.execute_input": "2021-10-15T03:36:40.110341Z",
     "iopub.status.busy": "2021-10-15T03:36:40.109123Z",
     "iopub.status.idle": "2021-10-15T03:36:40.785585Z",
     "shell.execute_reply": "2021-10-15T03:36:40.784513Z"
    },
    "id": "d3adf154-2753-4455-b6b5-e8b40dbaa743"
   },
   "outputs": [],
   "source": [
    "df.to_csv('average-b.csv')"
   ]
  }
 ],
 "metadata": {
  "colab": {
   "collapsed_sections": [],
   "name": "prob1_average-bubble.ipynb",
   "provenance": []
  },
  "kernelspec": {
   "display_name": "Python 3.8 (py38)",
   "language": "python",
   "name": "py38"
  },
  "language_info": {
   "codemirror_mode": {
    "name": "ipython",
    "version": 3
   },
   "file_extension": ".py",
   "mimetype": "text/x-python",
   "name": "python",
   "nbconvert_exporter": "python",
   "pygments_lexer": "ipython3",
   "version": "3.8.5"
  }
 },
 "nbformat": 4,
 "nbformat_minor": 5
}
