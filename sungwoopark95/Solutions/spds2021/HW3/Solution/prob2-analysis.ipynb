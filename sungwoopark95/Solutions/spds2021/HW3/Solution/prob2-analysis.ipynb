{
 "cells": [
  {
   "cell_type": "markdown",
   "id": "a667491e-8385-4b76-964b-c4e6589ca40d",
   "metadata": {},
   "source": [
    "# Problem 2\n",
    "##### 학번: 2021-35791\n",
    "##### 서버: spds005\n",
    "##### 이름: 문정현"
   ]
  },
  {
   "cell_type": "markdown",
   "id": "41c65b65-350e-4736-88c1-037ebfdfff52",
   "metadata": {},
   "source": [
    "실습용 서버:  Google Colab"
   ]
  },
  {
   "cell_type": "markdown",
   "id": "ae8effb6-e507-4556-8169-32f349dcc603",
   "metadata": {},
   "source": [
    "## Analysis of Problem 2"
   ]
  },
  {
   "cell_type": "markdown",
   "id": "17525c79-b1fe-47f0-ae07-c3b43444e60e",
   "metadata": {},
   "source": [
    "Before going into the analysis, I will create a table formed by results of different csv files for sort and unsorted like that of problem 1.\n",
    "\n",
    "Like problem 1, I will create a table that illustrates complexity of the following searching algorithm\n",
    "\n",
    "| Searching Algorithms | Linear | Binary |\n",
    "|-----|-----|-----|\n",
    "| Sorted | $O(N)$ | $O(log_2 N)$ |\n",
    "| Unsorted | $O(N)$ | $O(N log_2 N)$ |\n",
    "\n",
    "In order to do this problem, for each length given, I have created a random number from 0 to 999 inclusive and run 5 different iteration and printed out the average. Because the binary search is assumed list to be sorted, I have made minor modification from the class code so that it will sort first before it goes to search"
   ]
  },
  {
   "cell_type": "code",
   "execution_count": 2,
   "id": "1df1b6a7-0d16-4421-9abe-bdb6672f3f70",
   "metadata": {},
   "outputs": [],
   "source": [
    "import numpy as np\n",
    "import pandas as pd\n",
    "import matplotlib.pyplot as plt"
   ]
  },
  {
   "cell_type": "code",
   "execution_count": 5,
   "id": "6deb690f-c14d-4fba-94d7-74e07f6f4c87",
   "metadata": {},
   "outputs": [],
   "source": [
    "df = pd.read_csv('dataset/sort.csv')\n",
    "df = df.drop(['Unnamed: 0'],axis = 1)\n",
    "\n",
    "sort = df.set_index('Length')\n",
    "# convert second to microsecond\n",
    "sort = sort * 1000000\n",
    "sort = sort.reset_index()\n",
    "sort = sort.apply(np.log10)\n",
    "sort = sort.set_index('Length')"
   ]
  },
  {
   "cell_type": "code",
   "execution_count": 4,
   "id": "e66dc8d7-7a4a-4f43-9fbd-5a78fc7bb972",
   "metadata": {},
   "outputs": [
    {
     "data": {
      "text/html": [
       "<div>\n",
       "<style scoped>\n",
       "    .dataframe tbody tr th:only-of-type {\n",
       "        vertical-align: middle;\n",
       "    }\n",
       "\n",
       "    .dataframe tbody tr th {\n",
       "        vertical-align: top;\n",
       "    }\n",
       "\n",
       "    .dataframe thead th {\n",
       "        text-align: right;\n",
       "    }\n",
       "</style>\n",
       "<table border=\"1\" class=\"dataframe\">\n",
       "  <thead>\n",
       "    <tr style=\"text-align: right;\">\n",
       "      <th></th>\n",
       "      <th>Linear</th>\n",
       "      <th>Binary</th>\n",
       "    </tr>\n",
       "    <tr>\n",
       "      <th>Length</th>\n",
       "      <th></th>\n",
       "      <th></th>\n",
       "    </tr>\n",
       "  </thead>\n",
       "  <tbody>\n",
       "    <tr>\n",
       "      <th>0.0</th>\n",
       "      <td>0.139879</td>\n",
       "      <td>0.240549</td>\n",
       "    </tr>\n",
       "    <tr>\n",
       "      <th>1.0</th>\n",
       "      <td>0.170262</td>\n",
       "      <td>0.387390</td>\n",
       "    </tr>\n",
       "    <tr>\n",
       "      <th>2.0</th>\n",
       "      <td>0.695482</td>\n",
       "      <td>0.668386</td>\n",
       "    </tr>\n",
       "    <tr>\n",
       "      <th>3.0</th>\n",
       "      <td>1.655906</td>\n",
       "      <td>1.502700</td>\n",
       "    </tr>\n",
       "    <tr>\n",
       "      <th>4.0</th>\n",
       "      <td>2.656960</td>\n",
       "      <td>2.556881</td>\n",
       "    </tr>\n",
       "    <tr>\n",
       "      <th>5.0</th>\n",
       "      <td>3.672709</td>\n",
       "      <td>3.629320</td>\n",
       "    </tr>\n",
       "  </tbody>\n",
       "</table>\n",
       "</div>"
      ],
      "text/plain": [
       "          Linear    Binary\n",
       "Length                    \n",
       "0.0     0.139879  0.240549\n",
       "1.0     0.170262  0.387390\n",
       "2.0     0.695482  0.668386\n",
       "3.0     1.655906  1.502700\n",
       "4.0     2.656960  2.556881\n",
       "5.0     3.672709  3.629320"
      ]
     },
     "execution_count": 4,
     "metadata": {},
     "output_type": "execute_result"
    }
   ],
   "source": [
    "df = pd.read_csv('dataset/unsort.csv')\n",
    "df = df.drop(['Unnamed: 0'],axis = 1)\n",
    "\n",
    "unsort = df.set_index('Length')\n",
    "# convert second to microsecond\n",
    "unsort = unsort * 1000000\n",
    "unsort = unsort.reset_index()\n",
    "unsort = unsort.apply(np.log10)\n",
    "unsort = unsort.set_index('Length')"
   ]
  },
  {
   "cell_type": "markdown",
   "id": "200a7e5e-3b07-4ff4-b243-a9da29ae1c4f",
   "metadata": {},
   "source": [
    "### Sort"
   ]
  },
  {
   "cell_type": "code",
   "execution_count": 6,
   "id": "3dd5582c-f025-485b-a9ff-759bee20b37c",
   "metadata": {},
   "outputs": [
    {
     "data": {
      "text/plain": [
       "Text(0.5, 1.0, 'Sort')"
      ]
     },
     "execution_count": 6,
     "metadata": {},
     "output_type": "execute_result"
    },
    {
     "data": {
      "image/png": "[encoded data removed]",
      "text/plain": [
       "<Figure size 576x288 with 1 Axes>"
      ]
     },
     "metadata": {
      "needs_background": "light"
     },
     "output_type": "display_data"
    }
   ],
   "source": [
    "fig, axs = plt.subplots(figsize=(8, 4))\n",
    "sort.plot(ax=axs)\n",
    "axs.set_ylabel(\"Time(micro-seconds)\")\n",
    "axs.set_xlabel(\"Size (10^exp)\")\n",
    "axs.set_title('Sort')"
   ]
  },
  {
   "cell_type": "markdown",
   "id": "08c58876-42b2-496d-986f-0e9e0d361e93",
   "metadata": {},
   "source": [
    "Like problem 1, I have also made the length to be of base 10. Ideally speaking, when only considering the time-complexity of different functions, it was expected to perform in the following manner:\n",
    "- $O(log_2 N)$ -> $O(N)$\n",
    "\n",
    "The equivalent order of above is Binary -> Linear.\n",
    "\n",
    "As expected, as the size of the array increases, the binary search will outperform linear search."
   ]
  },
  {
   "cell_type": "markdown",
   "id": "e1b820be-2b8a-4c8c-82be-3cadd25de29c",
   "metadata": {},
   "source": [
    "### Unsort"
   ]
  },
  {
   "cell_type": "code",
   "execution_count": 7,
   "id": "71788260-3b9d-48cd-abc4-e2d6957239b2",
   "metadata": {},
   "outputs": [
    {
     "data": {
      "text/plain": [
       "Text(0.5, 1.0, 'Unsort')"
      ]
     },
     "execution_count": 7,
     "metadata": {},
     "output_type": "execute_result"
    },
    {
     "data": {
      "image/png": "[encoded data removed]",
      "text/plain": [
       "<Figure size 576x288 with 1 Axes>"
      ]
     },
     "metadata": {
      "needs_background": "light"
     },
     "output_type": "display_data"
    }
   ],
   "source": [
    "fig, axs = plt.subplots(figsize=(8, 4))\n",
    "unsort.plot(ax=axs)\n",
    "axs.set_ylabel(\"Time(micro-seconds)\")\n",
    "axs.set_xlabel(\"Size (10^exp)\")\n",
    "axs.set_title('Unsort')"
   ]
  },
  {
   "cell_type": "markdown",
   "id": "9cc385f9-ce53-45d8-a048-d41458ec5eac",
   "metadata": {},
   "source": [
    "Like before, I have also made the length to be of base 10. Ideally speaking, when only considering the time-complexity of different functions, it was expected to perform in the following manner:\n",
    "- $O(Nlog_2 N)$ -> $O(N)$\n",
    "\n",
    "The equivalent order of above is Binary -> Linear.\n",
    "\n",
    "As expected binary search performed better than that of linear. This example really looked similar to that of the Merge and Insertion in the best case scenerio"
   ]
  }
 ],
 "metadata": {
  "kernelspec": {
   "display_name": "Python 3",
   "language": "python",
   "name": "python3"
  },
  "language_info": {
   "codemirror_mode": {
    "name": "ipython",
    "version": 3
   },
   "file_extension": ".py",
   "mimetype": "text/x-python",
   "name": "python",
   "nbconvert_exporter": "python",
   "pygments_lexer": "ipython3",
   "version": "3.8.8"
  }
 },
 "nbformat": 4,
 "nbformat_minor": 5
}
