{
 "cells": [
  {
   "cell_type": "markdown",
   "id": "6c2ddd5c-49f8-443e-8f19-a87c313455ed",
   "metadata": {},
   "source": [
    "# 문제 2: 리스트 합치기\n",
    "\n",
    "Python의 list는 다른 list를 원소로 가질 수 있으며, 이와 같은 list를 nested list라고 부른다. 아래는 정수\n",
    "원소를 가지는 nested list의 구성 예시이다. 위와 같은 정수 nested list를 입력으로 받아 저장된 모든 정수를 합쳐서 반환하는 함수 list accumulator를 작성하라. 실행 예시는 다음과 같다.\n",
    "\n",
    "A list of python may contain list within the list, and we acll this a nested list. Write a function list accumulater that takes the nested list of integers and returns sum of all values"
   ]
  },
  {
   "cell_type": "code",
   "execution_count": 44,
   "id": "027ae0f3-6d43-4f94-8dcf-25d17067a250",
   "metadata": {},
   "outputs": [],
   "source": [
    "def list_accumulator(n):\n",
    "    \"\"\" \n",
    "    list_accumulator 함수 구현\n",
    "    \n",
    "    The program takes list as input and output cumulative sum of a given list.\n",
    "    \n",
    "    For this problem, because we do not know how many nested list will be present, it is wise to break down the problem as recursive.\n",
    "    The base case will be adding value to total amount where for the recursive case, it will check if value is list and repeat the process.\n",
    "    After iteration, the function will return cumulative sum of a given list.\n",
    "    \"\"\"\n",
    "    \n",
    "    # Initialize the total amount\n",
    "    total = 0\n",
    "    \n",
    "    # Iterate through the list\n",
    "    for i in n:\n",
    "        # If the element is list, then go to recursive case by adding it to the total amount.\n",
    "        if isinstance(i,list):\n",
    "            total = total + list_accumulator(i)\n",
    "        else:\n",
    "            total = total + i\n",
    "    return total"
   ]
  },
  {
   "cell_type": "raw",
   "id": "3acc6845-37c0-4f14-be0b-7d0be3b4943c",
   "metadata": {},
   "source": [
    "list1 = [1,2,3]\n",
    "list2 = [1,[2,3],[[4]]]\n",
    "list3= [[[1],3],[[4,2],5],6,[[7]]]"
   ]
  },
  {
   "cell_type": "code",
   "execution_count": 45,
   "id": "33578bf4-dae2-4c06-9892-c1b9239d1c79",
   "metadata": {},
   "outputs": [
    {
     "name": "stdout",
     "output_type": "stream",
     "text": [
      "6\n",
      "10\n",
      "28\n"
     ]
    }
   ],
   "source": [
    "print(list_accumulator(list1))\n",
    "print(list_accumulator(list2))\n",
    "print(list_accumulator(list3))"
   ]
  }
 ],
 "metadata": {
  "kernelspec": {
   "display_name": "Python 3",
   "language": "python",
   "name": "python3"
  },
  "language_info": {
   "codemirror_mode": {
    "name": "ipython",
    "version": 3
   },
   "file_extension": ".py",
   "mimetype": "text/x-python",
   "name": "python",
   "nbconvert_exporter": "python",
   "pygments_lexer": "ipython3",
   "version": "3.8.8"
  }
 },
 "nbformat": 4,
 "nbformat_minor": 5
}
