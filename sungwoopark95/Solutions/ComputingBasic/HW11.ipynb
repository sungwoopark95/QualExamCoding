{
 "cells": [
  {
   "cell_type": "code",
   "execution_count": 1,
   "id": "098c63ec",
   "metadata": {},
   "outputs": [],
   "source": [
    "from typing import List, Dict, Set, Tuple"
   ]
  },
  {
   "cell_type": "markdown",
   "id": "28cbcb03",
   "metadata": {},
   "source": [
    "# P1  방 안에 퍼지는 방귀 \n",
    "\n",
    "`M x N` 사이즈의 방 안에 뿡뿡이 몇 명이 방귀를 뀌었다. 방귀는 1초가 지나면 인접한 공간 (위, 아래, 왼쪽, 오른쪽)으로 퍼진다. 지독한 방귀이기에 한번 퍼지기 시작하면 사라지지 않는다. 몇 초만에 방 전체로 방귀가 퍼지는지 시간을 계산하여 return하는 함수 P1을 구현해야 한다.\n",
    "\n",
    "* 방에 대한 정보로 `M x N` 리스트인 `rooms`를 함수의 파라미터로 받는다.  \n",
    "* `M`과 `N`은 1 이상 자연수이다.  \n",
    "* 리스트는 `0` 또는 `1` 또는 `-1`로 되어있다.  \n",
    "    - `0`은 방귀가 퍼질 수 있는 빈 공간이다.  \n",
    "    - `1`은 처음(0초일 때) 뿡뿡이들이 방귀를 뀐 자리이다. 최소 한 곳 이상에 방귀를  뀌었고, 방귀는 동시에 퍼진다.  \n",
    "    - 방귀는 위, 아래, 왼쪽, 오른쪽으로 퍼질 수 있고, 대각선으로는 퍼질 수 없다.  \n",
    "    - 1초마다 퍼진다.  \n",
    "    - `-1`은 벽이어서 방귀가 퍼질 수 없다.  \n",
    "* 방 전체, 즉 `0`인 곳 모두로 방귀가 퍼질 때까지 걸린 시간을 return해야 한다.  \n",
    "* 방 전체로 방귀가 퍼질 수 없으면 `-1`을 return한다.  \n",
    "* 처음(0초)부터 방귀가 꽉 찬 상태면 `0`을 return한다.  \n",
    "\n",
    "예시1)\n",
    "```py\n",
    ">>> P1([[-1, 1],  \n",
    "        [1, -1]])  \n",
    "0  \n",
    "```\n",
    "설명: 처음부터 방귀가 꽉 차 있으므로 0을 return  \n",
    "\n",
    "\n",
    "예시2)\n",
    "```py\n",
    ">>> P1([[1, 0]])  \n",
    "1\n",
    "```\n",
    "\n",
    "예시3)  \n",
    "```py\n",
    ">>> P1([[0,0,0,0,0,0],  \n",
    "        [0,0,0,0,0,0],  \n",
    "        [0,0,0,0,0,0],  \n",
    "        [0,0,0,0,0,1]])  \n",
    "8 \n",
    "```\n",
    "\n",
    "예시4)  \n",
    "```py\n",
    ">>>P1([[ 0,-1,0,0,0,0],  \n",
    "       [-1, 0,0,0,0,0],  \n",
    "       [ 0, 0,0,0,0,0],  \n",
    "       [ 0, 0,0,0,0,1]])  \n",
    "-1  \n",
    "```\n",
    "설명: 왼쪽 위 구석은 벽 때문에 방귀가 도달할 수 없으므로 -1을 return  \n",
    "\n",
    "예시5)\n",
    "```py\n",
    ">>>P1([[1,-1,0,0, 0,0],  \n",
    "       [0,-1,0,0, 0,0],  \n",
    "       [0, 0,0,0,-1,0],  \n",
    "       [0, 0,0,0,-1,1]])  \n",
    "6 \n",
    "```\n",
    "설명: 방귀는 동시에 퍼지기 시작한다.  \n",
    "\n",
    "예시6)  \n",
    "```py\n",
    ">>>P1([[-1,1, 0, 0,0],  \n",
    "       [0,-1,-1,-1,0],  \n",
    "       [0,-1,-1,-1,0],  \n",
    "       [0,-1,-1,-1,0],  \n",
    "       [0, 0, 0, 0,0]])  \n",
    "14 \n",
    "```"
   ]
  },
  {
   "cell_type": "code",
   "execution_count": 2,
   "id": "3777578e",
   "metadata": {},
   "outputs": [],
   "source": [
    "## 그래프에서의 BFS\n",
    "def P1(rooms:List[List[int]]):\n",
    "    \"\"\"\n",
    "    이 코드는 BFS를 사용하여 방의 각 위치에 도달하는 데 걸리는 최소 시간을 계산합니다. \n",
    "    시작 지점에서 방의 모든 위치로 퍼져나가는 데 걸리는 시간을 반환하며, 모든 위치로 퍼져나갈 수 없는 경우 -1을 반환합니다.\n",
    "    \"\"\"\n",
    "    M, N = len(rooms), len(rooms[0])  # 방의 크기를 M, N으로 저장\n",
    "    # 시작 지점 찾기\n",
    "    queue = []\n",
    "    for i in range(M):\n",
    "        for j in range(N):\n",
    "            if rooms[i][j] == 1:  # 시작 지점을 큐에 추가\n",
    "                queue.append((i, j, 1))\n",
    "                \n",
    "    # bfs 시작\n",
    "    visited = [[0 for _ in range(N)] for _ in range(M)]  # 방문 여부를 저장하는 2차원 리스트\n",
    "    directions = [(-1, 0), (1, 0), (0, -1), (0, 1)]  # 상하좌우 방향을 나타내는 리스트\n",
    "    while queue:\n",
    "        curr_x, curr_y, curr_val = queue.pop(0)\n",
    "\n",
    "        # 현재 위치가 벽이거나 이미 방문한 곳이거나 값이 1보다 크면 continue\n",
    "        if rooms[curr_x][curr_y] == -1 or rooms[curr_x][curr_y] > 1 or visited[curr_x][curr_y] == 1:\n",
    "            continue\n",
    "\n",
    "        # 현재 보고 있는 구역이 방문되지 않고, 그 값이 -1(벽)이거나 1보다 큰 값이 아닌 경우, 방귀가 이 구역에 도달한 시각을 채워넣음\n",
    "        rooms[curr_x][curr_y] = curr_val\n",
    "        visited[curr_x][curr_y] = 1\n",
    "        \n",
    "        # 상하좌우 방향으로 이동\n",
    "        for d in directions:\n",
    "            dx, dy = d\n",
    "            nx, ny = curr_x + dx, curr_y + dy\n",
    "            # 방의 범위를 벗어나면 continue\n",
    "            if nx < 0 or nx >= M or ny < 0 or ny >= N:\n",
    "                continue\n",
    "            \n",
    "            # 이 부분이 핵심 - 현재 point 주변 상하좌우까지 도달하는 시간은 1이므로, 앞으로 방문할 구역은 현재 값에 1을 더해줘서 enqueue\n",
    "            queue.append((nx, ny, curr_val+1))\n",
    "    \n",
    "    # 방의 상태 출력\n",
    "    for i in range(M):\n",
    "        print(rooms[i], end='\\n')\n",
    "    \n",
    "    time = -1\n",
    "    for i in range(M):\n",
    "        for j in range(N):\n",
    "            if rooms[i][j] == 0:\n",
    "                # 아직 다 돌지 못한 구역이 남아 있다면 전체로 다 퍼지지 않은 것\n",
    "                return -1\n",
    "            # 최대 시간 업데이트\n",
    "            time = max(time, rooms[i][j])\n",
    "            \n",
    "    return time - 1  # 시작 지점의 시간 1을 제외하고 반환"
   ]
  },
  {
   "cell_type": "code",
   "execution_count": 3,
   "id": "fd4dcc72",
   "metadata": {},
   "outputs": [
    {
     "name": "stdout",
     "output_type": "stream",
     "text": [
      "[9, 8, 7, 6, 5, 4]\n",
      "[8, 7, 6, 5, 4, 3]\n",
      "[7, 6, 5, 4, 3, 2]\n",
      "[6, 5, 4, 3, 2, 1]\n"
     ]
    },
    {
     "data": {
      "text/plain": [
       "8"
      ]
     },
     "execution_count": 3,
     "metadata": {},
     "output_type": "execute_result"
    }
   ],
   "source": [
    "P1([[0,0,0,0,0,0], \n",
    "    [0,0,0,0,0,0], \n",
    "    [0,0,0,0,0,0], \n",
    "    [0,0,0,0,0,1]])"
   ]
  },
  {
   "cell_type": "code",
   "execution_count": 4,
   "id": "e3e960b0",
   "metadata": {},
   "outputs": [
    {
     "name": "stdout",
     "output_type": "stream",
     "text": [
      "[0, -1, 7, 6, 5, 4]\n",
      "[-1, 7, 6, 5, 4, 3]\n",
      "[7, 6, 5, 4, 3, 2]\n",
      "[6, 5, 4, 3, 2, 1]\n"
     ]
    },
    {
     "data": {
      "text/plain": [
       "-1"
      ]
     },
     "execution_count": 4,
     "metadata": {},
     "output_type": "execute_result"
    }
   ],
   "source": [
    "P1([[ 0,-1,0,0,0,0], \n",
    "    [-1, 0,0,0,0,0], \n",
    "    [ 0, 0,0,0,0,0], \n",
    "    [ 0, 0,0,0,0,1]])"
   ]
  },
  {
   "cell_type": "code",
   "execution_count": 5,
   "id": "6880707a",
   "metadata": {},
   "outputs": [
    {
     "name": "stdout",
     "output_type": "stream",
     "text": [
      "[1, -1, 7, 6, 5, 4]\n",
      "[2, -1, 6, 5, 4, 3]\n",
      "[3, 4, 5, 6, -1, 2]\n",
      "[4, 5, 6, 7, -1, 1]\n"
     ]
    },
    {
     "data": {
      "text/plain": [
       "6"
      ]
     },
     "execution_count": 5,
     "metadata": {},
     "output_type": "execute_result"
    }
   ],
   "source": [
    "P1([[1,-1,0,0, 0,0], \n",
    "    [0,-1,0,0, 0,0], \n",
    "    [0, 0,0,0,-1,0], \n",
    "    [0, 0,0,0,-1,1]])"
   ]
  },
  {
   "cell_type": "code",
   "execution_count": 6,
   "id": "f9143fa7",
   "metadata": {},
   "outputs": [
    {
     "name": "stdout",
     "output_type": "stream",
     "text": [
      "[-1, 1, 2, 3, 4]\n",
      "[15, -1, -1, -1, 5]\n",
      "[14, -1, -1, -1, 6]\n",
      "[13, -1, -1, -1, 7]\n",
      "[12, 11, 10, 9, 8]\n"
     ]
    },
    {
     "data": {
      "text/plain": [
       "14"
      ]
     },
     "execution_count": 6,
     "metadata": {},
     "output_type": "execute_result"
    }
   ],
   "source": [
    "P1([[-1,1, 0, 0,0], \n",
    "    [0,-1,-1,-1,0], \n",
    "    [0,-1,-1,-1,0], \n",
    "    [0,-1,-1,-1,0], \n",
    "    [0, 0, 0, 0,0]]) "
   ]
  },
  {
   "cell_type": "markdown",
   "id": "635a0e53",
   "metadata": {},
   "source": [
    "# P2 소셜 미디어 \n",
    "\n",
    "어떤 소셜 미디어에는 1번부터 n번까지의 회원이 있고, 친구 관계를 `tuple`로 표현할 수 있다. 예를 들어, `(1, 2)`라는 것은 1번과 2번이 서로 친구라는 것이다(쌍방향). 즉, 친구 관계는 그래프로 나타낼 수 있다. 이때, 친구 관계로 이어진 모든 회원을 하나의 클러스터라고 하자. 1번 회원이 속한 클러스터의 회원 수를 return하는 함수 P2를 구현하라. \n",
    "\n",
    "* 회원 수 `n`과 친구 관계를 나타내는 `tuple`의 리스트 `edges`를 입력으로 받는다.  \n",
    "* `n`은 1 이상 자연수이고, `edges`는 `tuple`로 이루어진 리스트이다.\n",
    "    - 리스트 원소의 개수는 0 이상\n",
    "    - 각 tuple은 서로 다른 2개의 수(1 이상 n 이하)로 이루어져 있다. 똑같은 `tuple` 은 없다.\n",
    "* 회원 수에는 1번도 포함시킨다.\n",
    "\n",
    "예시1)\n",
    "```py\n",
    ">>>P2(7, [(1, 2), (2,3), (1,5), (5, 2), (5, 6), (4, 7)])  \n",
    "5\n",
    "```\n",
    "설명: 다음과 같이 1번 회원이 속한 클러스터에는 총 5명의 회원이 있다.\n",
    "\n",
    "<img src=\"./HW11_instruction-pdf-2.png\">\n",
    "\n",
    "예시2)  \n",
    "```py\n",
    ">>>P2(1, [])  \n",
    "1\n",
    "```\n",
    "\n",
    "예시3)  \n",
    "```py\n",
    ">>>P2(3, [(1,2)])  \n",
    "2  \n",
    "```\n",
    "\n",
    "예시4)  \n",
    "```py\n",
    ">>>P2(4, [(1, 2), (2, 1)])  \n",
    "2 \n",
    "```\n",
    "\n",
    "* 참고.  \n",
    "    - 그래프를 표현하는 방법에는 adjacency matrix와 adjacency list를 이용하는 방법이 대표적이다\n",
    "    - https://www.geeksforgeeks.org/graph-and-its-representations/"
   ]
  },
  {
   "cell_type": "code",
   "execution_count": 7,
   "id": "2fb080ee",
   "metadata": {},
   "outputs": [],
   "source": [
    "def P2(n:int, edges:List[Tuple[int]]):\n",
    "    \"\"\"\n",
    "    이 코드는 주어진 간선들을 통해 인접 리스트를 생성하고, BFS 탐색을 통해 노드 1과 연결된 노드들의 수를 반환합니다.\n",
    "    \"\"\"\n",
    "    \n",
    "    # 인접 리스트를 위한 딕셔너리 초기화\n",
    "    adj = dict()\n",
    "    # 주어진 간선들을 통해 인접 리스트 생성\n",
    "    for edge in edges:\n",
    "        key, val = edge\n",
    "        # 이미 key가 인접 리스트에 있으면, val을 해당 key의 리스트에 추가\n",
    "        if key in adj:\n",
    "            adj[key].append(val)\n",
    "        # key가 인접 리스트에 없으면, 새로운 리스트를 생성하고 val을 추가\n",
    "        else:\n",
    "            adj[key] = [val]\n",
    "    \n",
    "    # 생성된 인접 리스트 출력\n",
    "    print(adj)\n",
    "    # 인접 리스트가 비어있으면 1 반환 (노드 1만 존재)\n",
    "    if not adj:\n",
    "        return 1\n",
    "    \n",
    "    # BFS 탐색을 위한 큐 초기화 (1과 연결된 노드들로 시작)\n",
    "    queue = [val for val in adj[1]]\n",
    "    # 방문한 노드를 저장하기 위한 리스트 초기화\n",
    "    visited = [val for val in adj[1]]\n",
    "    # BFS 탐색 시작\n",
    "    while queue:\n",
    "        # 큐에서 노드 하나를 꺼냄\n",
    "        curr = queue.pop(0)\n",
    "        # 현재 노드가 인접 리스트에 있으면\n",
    "        if curr in adj:\n",
    "            # 현재 노드와 연결된 노드들을 확인\n",
    "            for val in adj[curr]:\n",
    "                # 아직 방문하지 않은 노드이며, 노드 1이 아닌 경우\n",
    "                if val not in visited and val != 1:\n",
    "                    # 방문 리스트에 추가\n",
    "                    visited.append(val)\n",
    "                    # 큐에 추가\n",
    "                    queue.append(val)\n",
    "    \n",
    "    # 방문한 노드의 수 + 1(노드 1)을 반환\n",
    "    return len(visited) + 1"
   ]
  },
  {
   "cell_type": "code",
   "execution_count": 8,
   "id": "54bfb979",
   "metadata": {
    "scrolled": true
   },
   "outputs": [
    {
     "name": "stdout",
     "output_type": "stream",
     "text": [
      "{1: [2, 5], 2: [3], 5: [2, 6], 4: [7]}\n"
     ]
    },
    {
     "data": {
      "text/plain": [
       "5"
      ]
     },
     "execution_count": 8,
     "metadata": {},
     "output_type": "execute_result"
    }
   ],
   "source": [
    "P2(7, [(1, 2), (2,3), (1,5), (5, 2), (5, 6), (4, 7)])"
   ]
  },
  {
   "cell_type": "code",
   "execution_count": 9,
   "id": "92e523d7",
   "metadata": {},
   "outputs": [
    {
     "name": "stdout",
     "output_type": "stream",
     "text": [
      "{1: [2]}\n"
     ]
    },
    {
     "data": {
      "text/plain": [
       "2"
      ]
     },
     "execution_count": 9,
     "metadata": {},
     "output_type": "execute_result"
    }
   ],
   "source": [
    "P2(3, [(1,2)])"
   ]
  },
  {
   "cell_type": "code",
   "execution_count": 10,
   "id": "554b4a2d",
   "metadata": {},
   "outputs": [
    {
     "name": "stdout",
     "output_type": "stream",
     "text": [
      "{1: [2], 2: [1]}\n"
     ]
    },
    {
     "data": {
      "text/plain": [
       "2"
      ]
     },
     "execution_count": 10,
     "metadata": {},
     "output_type": "execute_result"
    }
   ],
   "source": [
    "P2(4, [(1, 2), (2, 1)])"
   ]
  },
  {
   "cell_type": "code",
   "execution_count": 11,
   "id": "f6e864c5",
   "metadata": {},
   "outputs": [
    {
     "name": "stdout",
     "output_type": "stream",
     "text": [
      "{}\n"
     ]
    },
    {
     "data": {
      "text/plain": [
       "1"
      ]
     },
     "execution_count": 11,
     "metadata": {},
     "output_type": "execute_result"
    }
   ],
   "source": [
    "P2(1, [])"
   ]
  },
  {
   "cell_type": "markdown",
   "id": "702df069",
   "metadata": {},
   "source": [
    "# P3 글자 필터링 \n",
    "\n",
    "필터링된 이미지 속에서 글자(알파벳)가 몇 개인지 알아보는 프로그램을 만들어 보고자 한다. 해당 필터는 이미지에서 글자인 부분은 `1`, 글자가 아닌 부분은 `0`으로 바꾼다고 한다. 한 개의 글자는 `1`이 상, 하, 좌, 우, 대각선으로 인접하여 서로 연결되어 있다. 해당 필터를 적용 하여 만든 이미지가 입력으로 주어졌을 때, 입력 이미지 내의 글자의 개수를 return하는 함수 P3를 구현하라.  \n",
    "\n",
    "* 입력 값은 `M x N` 사이즈의 리스트이며 `M, N`은 1 이상 자연수이다.  \n",
    "* 리스트에 숫자 `0`, `1` 외의 값은 없다.  \n",
    "* 원본 이미지 속 글자는 알파벳 대문자로만 구성되어 있다.\n",
    "\n",
    "예시 1)\n",
    "```py\n",
    ">>> P3([[0, 0, 0, 0, 0, 0, 0, 0, 0, 0, 0, 0, 0, 0, 0, 0, 0, 0, 0],  \n",
    "        [0, 0, 0, 1, 0, 0, 0, 1, 0, 0, 0, 1, 0, 1, 1, 1, 1, 1, 0],  \n",
    "        [0, 0, 1, 0, 1, 0, 0, 1, 1, 0, 0, 1, 0, 0, 0, 1, 0, 0, 0],  \n",
    "        [0, 1, 0, 0, 0, 1, 0, 1, 0, 1, 0, 1, 0, 0, 0, 1, 0, 0, 0],  \n",
    "        [0, 1, 1, 1, 1, 1, 0, 1, 0, 1, 0, 1, 0, 0, 0, 1, 0, 0, 0],  \n",
    "        [0, 1, 0, 0, 0, 1, 0, 1, 0, 0, 1, 1, 0, 0, 0, 1, 0, 0, 0],  \n",
    "        [0, 1, 0, 0, 0, 1, 0, 1, 0, 0, 0, 1, 0, 0, 0, 1, 0, 0, 0],  \n",
    "        [0, 0, 0, 0, 0, 0, 0, 0, 0, 0, 0, 0, 0, 0, 0, 0, 0, 0, 0]])  \n",
    "3\n",
    "```\n",
    "설명: ANT 세 글자가 있으므로 3\n",
    "\n",
    "예시 2)\n",
    "```py\n",
    ">>> P3([[0, 0, 0, 0, 0],  \n",
    "        [0, 1, 1, 0, 0],  \n",
    "        [0, 1, 0, 1, 0],  \n",
    "        [0, 1, 0, 1, 0],  \n",
    "        [0, 1, 1, 0, 0],  \n",
    "        [0, 0, 0, 0, 0]])  \n",
    "1 \n",
    "```\n",
    "\n",
    "예시 3)\n",
    "```py\n",
    ">>> P3([[0, 1, 1, 0, 0, 0, 0, 0, 0, 0, 0, 1, 1, 0, 0, 0, 0, 0],  \n",
    "        [0, 1, 1, 0, 0, 0, 0, 0, 0, 0, 1, 0, 0, 1, 0, 0, 0, 0],  \n",
    "        [0, 1, 1, 0, 0, 0, 0, 0, 0, 1, 0, 0, 0, 0, 1, 0, 0, 0],  \n",
    "        [0, 1, 1, 0, 0, 0, 0, 0, 0, 1, 0, 0, 0, 0, 1, 0, 0, 0],  \n",
    "        [0, 1, 1, 0, 0, 0, 0, 0, 0, 1, 0, 0, 0, 0, 1, 0, 0, 0],  \n",
    "        [0, 1, 1, 1, 1, 1, 0, 0, 0, 0, 1, 0, 0, 1, 0, 0, 0, 0],  \n",
    "        [0, 1, 1, 1, 1, 1, 0, 0, 0, 0, 0, 1, 1, 0, 0, 0, 0, 0],  \n",
    "        [0, 0, 0, 0, 0, 0, 0, 0, 0, 0, 0, 0, 0, 0, 0, 0, 0, 0],  \n",
    "        [0, 1, 0, 0, 0, 0, 0, 1, 0, 0, 0, 1, 1, 1, 1, 1, 1, 0],  \n",
    "        [0, 1, 1, 0, 0, 0, 1, 1, 0, 0, 0, 1, 0, 0, 0, 0, 0, 0],  \n",
    "        [0, 0, 1, 1, 0, 1, 1, 0, 0, 0, 0, 1, 1, 1, 1, 1, 1, 0],  \n",
    "        [0, 0, 1, 1, 0, 1, 1, 0, 0, 0, 0, 1, 0, 0, 0, 0, 0, 0],  \n",
    "        [0, 0, 0, 1, 1, 1, 0, 0, 0, 0, 0, 1, 0, 0, 0, 0, 0, 0],  \n",
    "        [0, 0, 0, 0, 1, 0, 0, 0, 0, 0, 0, 1, 1, 1, 1, 1, 1, 0],  \n",
    "        [0, 0, 0, 0, 0, 0, 0, 0, 0, 0, 0, 0, 0, 0, 0, 0, 0, 0]])  \n",
    "4\n",
    "```"
   ]
  },
  {
   "cell_type": "code",
   "execution_count": 12,
   "id": "7136fc3d",
   "metadata": {},
   "outputs": [],
   "source": [
    "def P3(image:List[List[int]]):\n",
    "    def dfs(grid, visited, m, n, i, j):\n",
    "        if i < 0 or i >= m or j < 0 or j >= n or visited[i][j] == 1 or grid[i][j] == 0:\n",
    "            return\n",
    "        visited[i][j] = 1\n",
    "        dfs(grid, visited, m, n, i-1, j) # 상 \n",
    "        dfs(grid, visited, m, n, i+1, j) # 하\n",
    "        dfs(grid, visited, m, n, i, j-1) # 좌\n",
    "        dfs(grid, visited, m, n, i, j+1) # 우\n",
    "        dfs(grid, visited, m, n, i+1, j-1) # 우상단\n",
    "        dfs(grid, visited, m, n, i+1, j+1) # 우하단\n",
    "        dfs(grid, visited, m, n, i-1, j-1) # 좌상단\n",
    "        dfs(grid, visited, m, n, i-1, j+1) # 좌하단\n",
    "        \n",
    "    M, N = len(image), len(image[0])\n",
    "    cnt = 0\n",
    "    visited = [[0 for _ in range(N)] for _ in range(M)]\n",
    "    for i in range(M):\n",
    "        for j in range(N):\n",
    "            if image[i][j] == 1 and visited[i][j] == 0:\n",
    "                dfs(image, visited, M, N, i, j)\n",
    "                cnt += 1\n",
    "                \n",
    "    return cnt"
   ]
  },
  {
   "cell_type": "code",
   "execution_count": 13,
   "id": "1c37c0e7",
   "metadata": {},
   "outputs": [
    {
     "data": {
      "text/plain": [
       "3"
      ]
     },
     "execution_count": 13,
     "metadata": {},
     "output_type": "execute_result"
    }
   ],
   "source": [
    "P3([[0, 0, 0, 0, 0, 0, 0, 0, 0, 0, 0, 0, 0, 0, 0, 0, 0, 0, 0],  \n",
    "    [0, 0, 0, 1, 0, 0, 0, 1, 0, 0, 0, 1, 0, 1, 1, 1, 1, 1, 0],\n",
    "    [0, 0, 1, 0, 1, 0, 0, 1, 1, 0, 0, 1, 0, 0, 0, 1, 0, 0, 0],  \n",
    "    [0, 1, 0, 0, 0, 1, 0, 1, 0, 1, 0, 1, 0, 0, 0, 1, 0, 0, 0],  \n",
    "    [0, 1, 1, 1, 1, 1, 0, 1, 0, 1, 0, 1, 0, 0, 0, 1, 0, 0, 0],  \n",
    "    [0, 1, 0, 0, 0, 1, 0, 1, 0, 0, 1, 1, 0, 0, 0, 1, 0, 0, 0],  \n",
    "    [0, 1, 0, 0, 0, 1, 0, 1, 0, 0, 0, 1, 0, 0, 0, 1, 0, 0, 0],  \n",
    "    [0, 0, 0, 0, 0, 0, 0, 0, 0, 0, 0, 0, 0, 0, 0, 0, 0, 0, 0]])"
   ]
  },
  {
   "cell_type": "code",
   "execution_count": 14,
   "id": "5049dfb3",
   "metadata": {},
   "outputs": [
    {
     "data": {
      "text/plain": [
       "1"
      ]
     },
     "execution_count": 14,
     "metadata": {},
     "output_type": "execute_result"
    }
   ],
   "source": [
    "P3([[0, 0, 0, 0, 0],  \n",
    "    [0, 1, 1, 0, 0],  \n",
    "    [0, 1, 0, 1, 0],  \n",
    "    [0, 1, 0, 1, 0],  \n",
    "    [0, 1, 1, 0, 0],  \n",
    "    [0, 0, 0, 0, 0]])"
   ]
  },
  {
   "cell_type": "code",
   "execution_count": 15,
   "id": "d5a3d328",
   "metadata": {},
   "outputs": [
    {
     "data": {
      "text/plain": [
       "4"
      ]
     },
     "execution_count": 15,
     "metadata": {},
     "output_type": "execute_result"
    }
   ],
   "source": [
    "P3([[0, 1, 1, 0, 0, 0, 0, 0, 0, 0, 0, 1, 1, 0, 0, 0, 0, 0],  \n",
    "    [0, 1, 1, 0, 0, 0, 0, 0, 0, 0, 1, 0, 0, 1, 0, 0, 0, 0],  \n",
    "    [0, 1, 1, 0, 0, 0, 0, 0, 0, 1, 0, 0, 0, 0, 1, 0, 0, 0],  \n",
    "    [0, 1, 1, 0, 0, 0, 0, 0, 0, 1, 0, 0, 0, 0, 1, 0, 0, 0],  \n",
    "    [0, 1, 1, 0, 0, 0, 0, 0, 0, 1, 0, 0, 0, 0, 1, 0, 0, 0],  \n",
    "    [0, 1, 1, 1, 1, 1, 0, 0, 0, 0, 1, 0, 0, 1, 0, 0, 0, 0],  \n",
    "    [0, 1, 1, 1, 1, 1, 0, 0, 0, 0, 0, 1, 1, 0, 0, 0, 0, 0],  \n",
    "    [0, 0, 0, 0, 0, 0, 0, 0, 0, 0, 0, 0, 0, 0, 0, 0, 0, 0],  \n",
    "    [0, 1, 0, 0, 0, 0, 0, 1, 0, 0, 0, 1, 1, 1, 1, 1, 1, 0],  \n",
    "    [0, 1, 1, 0, 0, 0, 1, 1, 0, 0, 0, 1, 0, 0, 0, 0, 0, 0],  \n",
    "    [0, 0, 1, 1, 0, 1, 1, 0, 0, 0, 0, 1, 1, 1, 1, 1, 1, 0],  \n",
    "    [0, 0, 1, 1, 0, 1, 1, 0, 0, 0, 0, 1, 0, 0, 0, 0, 0, 0],  \n",
    "    [0, 0, 0, 1, 1, 1, 0, 0, 0, 0, 0, 1, 0, 0, 0, 0, 0, 0],  \n",
    "    [0, 0, 0, 0, 1, 0, 0, 0, 0, 0, 0, 1, 1, 1, 1, 1, 1, 0],  \n",
    "    [0, 0, 0, 0, 0, 0, 0, 0, 0, 0, 0, 0, 0, 0, 0, 0, 0, 0]])"
   ]
  },
  {
   "cell_type": "code",
   "execution_count": 16,
   "id": "e3c85fce",
   "metadata": {},
   "outputs": [],
   "source": [
    "## 가장 차지하는 영역이 넓은 단어의 크기를 구하는 방법\n",
    "def P3_(world:List[List[int]]):\n",
    "    def dfs(grid, visited, m, n, i, j):\n",
    "        area = 0\n",
    "        if i < 0 or i >= m or j < 0 or j >= n or visited[i][j] == 1 or grid[i][j] == 0:\n",
    "            return 0\n",
    "        visited[i][j] = 1\n",
    "        area += 1\n",
    "        area += dfs(grid, visited, m, n, i+1, j)\n",
    "        area += dfs(grid, visited, m, n, i-1, j)\n",
    "        area += dfs(grid, visited, m, n, i, j+1)\n",
    "        area += dfs(grid, visited, m, n, i, j-1)\n",
    "        area += dfs(grid, visited, m, n, i+1, j-1) # 우상단\n",
    "        area += dfs(grid, visited, m, n, i+1, j+1) # 우하단\n",
    "        area += dfs(grid, visited, m, n, i-1, j-1) # 좌상단\n",
    "        area += dfs(grid, visited, m, n, i-1, j+1) # 좌하단\n",
    "        return area\n",
    "        \n",
    "    M, N = len(world), len(world[0])\n",
    "    visited = [[0 for _ in range(N)] for _ in range(M)]\n",
    "    max_area = 0\n",
    "    for i in range(M):\n",
    "        for j in range(N):\n",
    "            if world[i][j] == 1 and visited[i][j] == 0:\n",
    "                area = dfs(world, visited, M, N, i, j)\n",
    "                max_area = max(max_area, area)\n",
    "                print(f\"Start point : ({i}, {j}) and the area of the letter : {area}\")\n",
    "    return max_area"
   ]
  },
  {
   "cell_type": "code",
   "execution_count": 17,
   "id": "25ef847a",
   "metadata": {},
   "outputs": [
    {
     "name": "stdout",
     "output_type": "stream",
     "text": [
      "Start point : (1, 3) and the area of the letter : 14\n",
      "Start point : (1, 7) and the area of the letter : 16\n",
      "Start point : (1, 13) and the area of the letter : 10\n"
     ]
    },
    {
     "data": {
      "text/plain": [
       "16"
      ]
     },
     "execution_count": 17,
     "metadata": {},
     "output_type": "execute_result"
    }
   ],
   "source": [
    "P3_([[0, 0, 0, 0, 0, 0, 0, 0, 0, 0, 0, 0, 0, 0, 0, 0, 0, 0, 0],  \n",
    "    [0, 0, 0, 1, 0, 0, 0, 1, 0, 0, 0, 1, 0, 1, 1, 1, 1, 1, 0],\n",
    "    [0, 0, 1, 0, 1, 0, 0, 1, 1, 0, 0, 1, 0, 0, 0, 1, 0, 0, 0],  \n",
    "    [0, 1, 0, 0, 0, 1, 0, 1, 0, 1, 0, 1, 0, 0, 0, 1, 0, 0, 0],  \n",
    "    [0, 1, 1, 1, 1, 1, 0, 1, 0, 1, 0, 1, 0, 0, 0, 1, 0, 0, 0],  \n",
    "    [0, 1, 0, 0, 0, 1, 0, 1, 0, 0, 1, 1, 0, 0, 0, 1, 0, 0, 0],  \n",
    "    [0, 1, 0, 0, 0, 1, 0, 1, 0, 0, 0, 1, 0, 0, 0, 1, 0, 0, 0],  \n",
    "    [0, 0, 0, 0, 0, 0, 0, 0, 0, 0, 0, 0, 0, 0, 0, 0, 0, 0, 0]])"
   ]
  },
  {
   "cell_type": "code",
   "execution_count": 18,
   "id": "c6ae5251",
   "metadata": {},
   "outputs": [
    {
     "name": "stdout",
     "output_type": "stream",
     "text": [
      "Start point : (1, 1) and the area of the letter : 8\n"
     ]
    },
    {
     "data": {
      "text/plain": [
       "8"
      ]
     },
     "execution_count": 18,
     "metadata": {},
     "output_type": "execute_result"
    }
   ],
   "source": [
    "P3_([[0, 0, 0, 0, 0],  \n",
    "    [0, 1, 1, 0, 0],  \n",
    "    [0, 1, 0, 1, 0],  \n",
    "    [0, 1, 0, 1, 0],  \n",
    "    [0, 1, 1, 0, 0],  \n",
    "    [0, 0, 0, 0, 0]])"
   ]
  },
  {
   "cell_type": "code",
   "execution_count": 19,
   "id": "4e2e9469",
   "metadata": {},
   "outputs": [
    {
     "name": "stdout",
     "output_type": "stream",
     "text": [
      "Start point : (0, 1) and the area of the letter : 20\n",
      "Start point : (0, 11) and the area of the letter : 14\n",
      "Start point : (8, 1) and the area of the letter : 18\n",
      "Start point : (8, 11) and the area of the letter : 21\n"
     ]
    },
    {
     "data": {
      "text/plain": [
       "21"
      ]
     },
     "execution_count": 19,
     "metadata": {},
     "output_type": "execute_result"
    }
   ],
   "source": [
    "P3_([[0, 1, 1, 0, 0, 0, 0, 0, 0, 0, 0, 1, 1, 0, 0, 0, 0, 0],  \n",
    "    [0, 1, 1, 0, 0, 0, 0, 0, 0, 0, 1, 0, 0, 1, 0, 0, 0, 0],  \n",
    "    [0, 1, 1, 0, 0, 0, 0, 0, 0, 1, 0, 0, 0, 0, 1, 0, 0, 0],  \n",
    "    [0, 1, 1, 0, 0, 0, 0, 0, 0, 1, 0, 0, 0, 0, 1, 0, 0, 0],  \n",
    "    [0, 1, 1, 0, 0, 0, 0, 0, 0, 1, 0, 0, 0, 0, 1, 0, 0, 0],  \n",
    "    [0, 1, 1, 1, 1, 1, 0, 0, 0, 0, 1, 0, 0, 1, 0, 0, 0, 0],  \n",
    "    [0, 1, 1, 1, 1, 1, 0, 0, 0, 0, 0, 1, 1, 0, 0, 0, 0, 0],  \n",
    "    [0, 0, 0, 0, 0, 0, 0, 0, 0, 0, 0, 0, 0, 0, 0, 0, 0, 0],  \n",
    "    [0, 1, 0, 0, 0, 0, 0, 1, 0, 0, 0, 1, 1, 1, 1, 1, 1, 0],  \n",
    "    [0, 1, 1, 0, 0, 0, 1, 1, 0, 0, 0, 1, 0, 0, 0, 0, 0, 0],  \n",
    "    [0, 0, 1, 1, 0, 1, 1, 0, 0, 0, 0, 1, 1, 1, 1, 1, 1, 0],  \n",
    "    [0, 0, 1, 1, 0, 1, 1, 0, 0, 0, 0, 1, 0, 0, 0, 0, 0, 0],  \n",
    "    [0, 0, 0, 1, 1, 1, 0, 0, 0, 0, 0, 1, 0, 0, 0, 0, 0, 0],  \n",
    "    [0, 0, 0, 0, 1, 0, 0, 0, 0, 0, 0, 1, 1, 1, 1, 1, 1, 0],  \n",
    "    [0, 0, 0, 0, 0, 0, 0, 0, 0, 0, 0, 0, 0, 0, 0, 0, 0, 0]])"
   ]
  },
  {
   "cell_type": "markdown",
   "id": "bb9cbb40",
   "metadata": {},
   "source": [
    "# P4 섬의 개수 \n",
    "\n",
    "`M x N` 리스트인 `world`를 함수의 입력으로 받는다. 리스트의 원소는 `1` 또는 `0`으로 이루어져 있고, `1`은 땅, `0`은 물을 의미한다. 이때, 인접한 땅으로 연결되어 있고, 물로 둘러싸여 있는 지역을 섬이라고 하자. 섬의 개수를 return하는 함수를 구현하라.\n",
    "\n",
    "* `M`과 `N`은 1이상 자연수이다.  \n",
    "* 리스트 바깥은 물이라고 가정한다.  \n",
    "* 인접해 있다는 것은 상, 하, 좌, 우 네 방향 중 한곳에서 붙어 있는 것이고, 대각선 방향은 인접해 있는 것이 아니다.  \n",
    "* 섬이 아닌 땅은 없다.  \n",
    "\n",
    "<img src=\"HW11_instruction-pdf-4-1.png\">\n",
    "\n",
    "<img src=\"HW11_instruction-pdf-4-2.png\">"
   ]
  },
  {
   "cell_type": "code",
   "execution_count": 20,
   "id": "0058da6a",
   "metadata": {},
   "outputs": [],
   "source": [
    "def P4(world:List[List[int]]):\n",
    "    \"\"\"\n",
    "    이 코드는 주어진 2차원 그리드에서 값이 1인 연결된 영역의 개수를 계산하는 함수입니다. \n",
    "    DFS를 사용하여 그리드의 각 위치를 방문하며 연결된 영역을 탐색합니다.\n",
    "    \"\"\"\n",
    "    # 깊이 우선 탐색 (DFS) 함수 정의\n",
    "    def dfs(grid, visited, m, n, i, j):\n",
    "        # 현재 위치가 그리드 범위를 벗어나거나 이미 방문한 곳이거나 값이 0이면 종료\n",
    "        if i < 0 or i >= m or j < 0 or j >= n or visited[i][j] == 1 or grid[i][j] == 0:\n",
    "            return\n",
    "        # 현재 위치를 방문한 것으로 표시\n",
    "        visited[i][j] = 1\n",
    "        # 상하좌우 방향으로 DFS 수행\n",
    "        dfs(grid, visited, m, n, i+1, j)\n",
    "        dfs(grid, visited, m, n, i-1, j)\n",
    "        dfs(grid, visited, m, n, i, j+1)\n",
    "        dfs(grid, visited, m, n, i, j-1)\n",
    "        \n",
    "    M, N = len(world), len(world[0])  # 그리드의 크기를 M, N으로 저장\n",
    "    area = 0  # 연결된 영역의 개수를 저장할 변수\n",
    "    visited = [[0 for _ in range(N)] for _ in range(M)]  # 방문 여부를 저장하는 2차원 리스트\n",
    "    for i in range(M):\n",
    "        for j in range(N):\n",
    "            # 현재 위치의 값이 1이고 아직 방문하지 않았다면\n",
    "            if world[i][j] == 1 and visited[i][j] == 0:\n",
    "                dfs(world, visited, M, N, i, j)  # DFS 수행\n",
    "                area += 1  # 연결된 영역의 개수 증가\n",
    "                \n",
    "    return area  # 연결된 영역의 개수 반환\n",
    "\n",
    "from collections import deque\n",
    "\n",
    "def P4(world:List[List[int]]):\n",
    "    \"\"\"\n",
    "    이 코드는 주어진 2차원 그리드에서 값이 1인 연결된 영역의 개수를 계산하는 함수입니다. \n",
    "    BFS를 사용하여 그리드의 각 위치를 방문하며 연결된 영역을 탐색합니다.\n",
    "    \"\"\"\n",
    "    # 너비 우선 탐색 (BFS) 함수 정의\n",
    "    def bfs(grid, visited, m, n, i, j):\n",
    "        queue = deque([(i, j)])\n",
    "        while queue:\n",
    "            x, y = queue.popleft()\n",
    "            for dx, dy in [(1, 0), (-1, 0), (0, 1), (0, -1)]:\n",
    "                nx, ny = x + dx, y + dy\n",
    "                if 0 <= nx < m and 0 <= ny < n and grid[nx][ny] == 1 and visited[nx][ny] == 0:\n",
    "                    visited[nx][ny] = 1\n",
    "                    queue.append((nx, ny))\n",
    "        \n",
    "    M, N = len(world), len(world[0])  # 그리드의 크기를 M, N으로 저장\n",
    "    area = 0  # 연결된 영역의 개수를 저장할 변수\n",
    "    visited = [[0 for _ in range(N)] for _ in range(M)]  # 방문 여부를 저장하는 2차원 리스트\n",
    "    for i in range(M):\n",
    "        for j in range(N):\n",
    "            # 현재 위치의 값이 1이고 아직 방문하지 않았다면\n",
    "            if world[i][j] == 1 and visited[i][j] == 0:\n",
    "                bfs(world, visited, M, N, i, j)  # BFS 수행\n",
    "                area += 1  # 연결된 영역의 개수 증가\n",
    "                \n",
    "    return area  # 연결된 영역의 개수 반환\n"
   ]
  },
  {
   "cell_type": "code",
   "execution_count": 21,
   "id": "d0ec3edf",
   "metadata": {},
   "outputs": [
    {
     "data": {
      "text/plain": [
       "1"
      ]
     },
     "execution_count": 21,
     "metadata": {},
     "output_type": "execute_result"
    }
   ],
   "source": [
    "P4([[1,1,1,1,0],  \n",
    "    [1,0,0,1,0],  \n",
    "    [1,1,0,1,0],  \n",
    "    [1,1,0,0,0]])"
   ]
  },
  {
   "cell_type": "code",
   "execution_count": 22,
   "id": "cc19ffec",
   "metadata": {},
   "outputs": [
    {
     "data": {
      "text/plain": [
       "3"
      ]
     },
     "execution_count": 22,
     "metadata": {},
     "output_type": "execute_result"
    }
   ],
   "source": [
    "P4([[1,1,0,0,0],\n",
    "    [1,1,0,0,0],\n",
    "    [0,0,1,1,0],\n",
    "    [0,0,0,0,1]])"
   ]
  },
  {
   "cell_type": "code",
   "execution_count": 23,
   "id": "7bde04a1",
   "metadata": {},
   "outputs": [
    {
     "data": {
      "text/plain": [
       "4"
      ]
     },
     "execution_count": 23,
     "metadata": {},
     "output_type": "execute_result"
    }
   ],
   "source": [
    "P4([[1,0,0,0,1],\n",
    "    [1,1,0,0,0],\n",
    "    [0,0,0,1,1],\n",
    "    [0,1,0,1,0]])"
   ]
  },
  {
   "cell_type": "code",
   "execution_count": 24,
   "id": "2c513cff",
   "metadata": {},
   "outputs": [
    {
     "data": {
      "text/plain": [
       "2"
      ]
     },
     "execution_count": 24,
     "metadata": {},
     "output_type": "execute_result"
    }
   ],
   "source": [
    "P4([[1],\n",
    "    [0],\n",
    "    [1],\n",
    "    [1]])"
   ]
  },
  {
   "cell_type": "code",
   "execution_count": 25,
   "id": "ba05730d",
   "metadata": {},
   "outputs": [
    {
     "data": {
      "text/plain": [
       "2"
      ]
     },
     "execution_count": 25,
     "metadata": {},
     "output_type": "execute_result"
    }
   ],
   "source": [
    "P4([[1,0,0,0,1]])"
   ]
  },
  {
   "cell_type": "code",
   "execution_count": 26,
   "id": "dfe3dd4e",
   "metadata": {},
   "outputs": [],
   "source": [
    "## Stack을 사용한 DFS\n",
    "def P4(world:List[List[int]]):\n",
    "    \"\"\"\n",
    "    이 코드는 주어진 2차원 그리드에서 값이 1인 연결된 영역의 개수를 계산하는 함수입니다. \n",
    "    스택을 사용한 DFS를 사용하여 그리드의 각 위치를 방문하며 연결된 영역을 탐색합니다.\n",
    "    \"\"\"\n",
    "    # 스택을 사용한 깊이 우선 탐색 (DFS) 함수 정의\n",
    "    def dfs(grid, visited, m, n, i, j):\n",
    "        stack = [(i, j)]\n",
    "        while stack:\n",
    "            x, y = stack.pop()\n",
    "            for dx, dy in [(1, 0), (-1, 0), (0, 1), (0, -1)]:\n",
    "                nx, ny = x + dx, y + dy\n",
    "                if 0 <= nx < m and 0 <= ny < n and grid[nx][ny] == 1 and visited[nx][ny] == 0:\n",
    "                    visited[nx][ny] = 1\n",
    "                    stack.append((nx, ny))\n",
    "        \n",
    "    M, N = len(world), len(world[0])  # 그리드의 크기를 M, N으로 저장\n",
    "    area = 0  # 연결된 영역의 개수를 저장할 변수\n",
    "    visited = [[0 for _ in range(N)] for _ in range(M)]  # 방문 여부를 저장하는 2차원 리스트\n",
    "    for i in range(M):\n",
    "        for j in range(N):\n",
    "            # 현재 위치의 값이 1이고 아직 방문하지 않았다면\n",
    "            if world[i][j] == 1 and visited[i][j] == 0:\n",
    "                dfs(world, visited, M, N, i, j)  # DFS 수행\n",
    "                area += 1  # 연결된 영역의 개수 증가\n",
    "                \n",
    "    return area  # 연결된 영역의 개수 반환"
   ]
  },
  {
   "cell_type": "code",
   "execution_count": 27,
   "id": "4c1126e7",
   "metadata": {},
   "outputs": [
    {
     "data": {
      "text/plain": [
       "1"
      ]
     },
     "execution_count": 27,
     "metadata": {},
     "output_type": "execute_result"
    }
   ],
   "source": [
    "P4([[1,1,1,1,0],  \n",
    "    [1,0,0,1,0],  \n",
    "    [1,1,0,1,0],  \n",
    "    [1,1,0,0,0]])"
   ]
  },
  {
   "cell_type": "code",
   "execution_count": 28,
   "id": "e7f2d300",
   "metadata": {},
   "outputs": [
    {
     "data": {
      "text/plain": [
       "3"
      ]
     },
     "execution_count": 28,
     "metadata": {},
     "output_type": "execute_result"
    }
   ],
   "source": [
    "P4([[1,1,0,0,0],\n",
    "    [1,1,0,0,0],\n",
    "    [0,0,1,1,0],\n",
    "    [0,0,0,0,1]])"
   ]
  },
  {
   "cell_type": "code",
   "execution_count": 29,
   "id": "87fbde77",
   "metadata": {},
   "outputs": [
    {
     "data": {
      "text/plain": [
       "4"
      ]
     },
     "execution_count": 29,
     "metadata": {},
     "output_type": "execute_result"
    }
   ],
   "source": [
    "P4([[1,0,0,0,1],\n",
    "    [1,1,0,0,0],\n",
    "    [0,0,0,1,1],\n",
    "    [0,1,0,1,0]])"
   ]
  },
  {
   "cell_type": "code",
   "execution_count": 30,
   "id": "2fa97e58",
   "metadata": {},
   "outputs": [
    {
     "data": {
      "text/plain": [
       "2"
      ]
     },
     "execution_count": 30,
     "metadata": {},
     "output_type": "execute_result"
    }
   ],
   "source": [
    "P4([[1],\n",
    "    [0],\n",
    "    [1],\n",
    "    [1]])"
   ]
  },
  {
   "cell_type": "code",
   "execution_count": 31,
   "id": "74fdc52a",
   "metadata": {
    "scrolled": true
   },
   "outputs": [
    {
     "data": {
      "text/plain": [
       "2"
      ]
     },
     "execution_count": 31,
     "metadata": {},
     "output_type": "execute_result"
    }
   ],
   "source": [
    "P4([[1,0,0,0,1]])"
   ]
  },
  {
   "cell_type": "code",
   "execution_count": 32,
   "id": "f7aed2c4",
   "metadata": {},
   "outputs": [],
   "source": [
    "## 가장 영역이 넓은 섬의 넓이를 구하는 방법\n",
    "def P5(world:List[List[int]]):\n",
    "    \"\"\"\n",
    "    이 코드는 주어진 2차원 그리드에서 값이 1인 연결된 영역(섬)의 넓이 중에서 가장 큰 넓이를 계산하는 함수입니다. \n",
    "    DFS를 사용하여 그리드의 각 위치를 방문하며 연결된 영역의 넓이를 계산합니다.\n",
    "    \"\"\"\n",
    "    # 깊이 우선 탐색 (DFS) 함수 정의\n",
    "    def dfs(grid, visited, m, n, i, j):\n",
    "        area = 0  # 현재 섬의 넓이를 저장할 변수\n",
    "        # 현재 위치가 그리드 범위를 벗어나거나 이미 방문한 곳이거나 값이 0이면 0 반환\n",
    "        if i < 0 or i >= m or j < 0 or j >= n or visited[i][j] == 1 or grid[i][j] == 0:\n",
    "            return 0\n",
    "        visited[i][j] = 1  # 현재 위치를 방문한 것으로 표시\n",
    "        area += 1  # 현재 위치의 넓이를 1 증가\n",
    "        # 상하좌우 방향으로 DFS 수행하며 해당 방향의 섬의 넓이를 현재 넓이에 더함\n",
    "        area += dfs(grid, visited, m, n, i+1, j)\n",
    "        area += dfs(grid, visited, m, n, i-1, j)\n",
    "        area += dfs(grid, visited, m, n, i, j+1)\n",
    "        area += dfs(grid, visited, m, n, i, j-1)\n",
    "        return area  # 현재 섬의 총 넓이 반환\n",
    "        \n",
    "    M, N = len(world), len(world[0])  # 그리드의 크기를 M, N으로 저장\n",
    "    visited = [[0 for _ in range(N)] for _ in range(M)]  # 방문 여부를 저장하는 2차원 리스트\n",
    "    max_area = 0  # 가장 큰 섬의 넓이를 저장할 변수\n",
    "    for i in range(M):\n",
    "        for j in range(N):\n",
    "            # 현재 위치의 값이 1이고 아직 방문하지 않았다면\n",
    "            if world[i][j] == 1 and visited[i][j] == 0:\n",
    "                area = dfs(world, visited, M, N, i, j)  # DFS 수행하여 해당 섬의 넓이를 계산\n",
    "                max_area = max(max_area, area)  # 최대 넓이 업데이트\n",
    "                print(f\"시작 지점 : ({i}, {j}) 그리고 해당 섬의 넓이 : {area}\")\n",
    "    return max_area  # 가장 큰 섬의 넓이 반환\n",
    "\n",
    "from collections import deque\n",
    "\n",
    "def P5(world:List[List[int]]):\n",
    "    \"\"\"\n",
    "    이 코드는 주어진 2차원 그리드에서 값이 1인 연결된 영역(섬)의 넓이 중에서 가장 큰 넓이를 계산하는 함수입니다. \n",
    "    BFS를 사용하여 그리드의 각 위치를 방문하며 연결된 영역의 넓이를 계산합니다.\n",
    "    \"\"\"\n",
    "    # 너비 우선 탐색 (BFS) 함수 정의\n",
    "    def bfs(grid, visited, m, n, i, j):\n",
    "        area = 0  # 현재 섬의 넓이를 저장할 변수\n",
    "        queue = deque([(i, j)])\n",
    "        while queue:\n",
    "            x, y = queue.popleft()\n",
    "            for dx, dy in [(1, 0), (-1, 0), (0, 1), (0, -1)]:\n",
    "                nx, ny = x + dx, y + dy\n",
    "                if 0 <= nx < m and 0 <= ny < n and grid[nx][ny] == 1 and visited[nx][ny] == 0:\n",
    "                    visited[nx][ny] = 1\n",
    "                    area += 1\n",
    "                    queue.append((nx, ny))\n",
    "        if area == 0:\n",
    "            # edge case - 1이 한 개만 존재하는 경우\n",
    "            return 1\n",
    "        return area\n",
    "        \n",
    "    M, N = len(world), len(world[0])  # 그리드의 크기를 M, N으로 저장\n",
    "    visited = [[0 for _ in range(N)] for _ in range(M)]  # 방문 여부를 저장하는 2차원 리스트\n",
    "    max_area = 0  # 가장 큰 섬의 넓이를 저장할 변수\n",
    "    for i in range(M):\n",
    "        for j in range(N):\n",
    "            # 현재 위치의 값이 1이고 아직 방문하지 않았다면\n",
    "            if world[i][j] == 1 and visited[i][j] == 0:\n",
    "                area = bfs(world, visited, M, N, i, j)  # BFS 수행하여 해당 섬의 넓이를 계산\n",
    "                max_area = max(max_area, area)  # 최대 넓이 업데이트\n",
    "                print(f\"시작 지점 : ({i}, {j}) 그리고 해당 섬의 넓이 : {area}\")\n",
    "    return max_area  # 가장 큰 섬의 넓이 반환\n"
   ]
  },
  {
   "cell_type": "code",
   "execution_count": 33,
   "id": "eb4ac009",
   "metadata": {},
   "outputs": [
    {
     "name": "stdout",
     "output_type": "stream",
     "text": [
      "시작 지점 : (0, 0) 그리고 해당 섬의 넓이 : 11\n"
     ]
    },
    {
     "data": {
      "text/plain": [
       "11"
      ]
     },
     "execution_count": 33,
     "metadata": {},
     "output_type": "execute_result"
    }
   ],
   "source": [
    "P5([[1,1,1,1,0],  \n",
    "    [1,0,0,1,0],  \n",
    "    [1,1,0,1,0],  \n",
    "    [1,1,0,0,0]])"
   ]
  },
  {
   "cell_type": "code",
   "execution_count": 34,
   "id": "0a21df78",
   "metadata": {},
   "outputs": [
    {
     "name": "stdout",
     "output_type": "stream",
     "text": [
      "시작 지점 : (0, 0) 그리고 해당 섬의 넓이 : 4\n",
      "시작 지점 : (2, 2) 그리고 해당 섬의 넓이 : 2\n",
      "시작 지점 : (3, 4) 그리고 해당 섬의 넓이 : 1\n"
     ]
    },
    {
     "data": {
      "text/plain": [
       "4"
      ]
     },
     "execution_count": 34,
     "metadata": {},
     "output_type": "execute_result"
    }
   ],
   "source": [
    "P5([[1,1,0,0,0],\n",
    "    [1,1,0,0,0],\n",
    "    [0,0,1,1,0],\n",
    "    [0,0,0,0,1]])"
   ]
  },
  {
   "cell_type": "code",
   "execution_count": 35,
   "id": "0b6a3cae",
   "metadata": {},
   "outputs": [
    {
     "name": "stdout",
     "output_type": "stream",
     "text": [
      "시작 지점 : (0, 0) 그리고 해당 섬의 넓이 : 3\n",
      "시작 지점 : (0, 4) 그리고 해당 섬의 넓이 : 1\n",
      "시작 지점 : (2, 3) 그리고 해당 섬의 넓이 : 3\n",
      "시작 지점 : (3, 1) 그리고 해당 섬의 넓이 : 1\n"
     ]
    },
    {
     "data": {
      "text/plain": [
       "3"
      ]
     },
     "execution_count": 35,
     "metadata": {},
     "output_type": "execute_result"
    }
   ],
   "source": [
    "P5([[1,0,0,0,1],\n",
    "    [1,1,0,0,0],\n",
    "    [0,0,0,1,1],\n",
    "    [0,1,0,1,0]])"
   ]
  },
  {
   "cell_type": "code",
   "execution_count": 36,
   "id": "a273ceb3",
   "metadata": {},
   "outputs": [
    {
     "name": "stdout",
     "output_type": "stream",
     "text": [
      "시작 지점 : (0, 0) 그리고 해당 섬의 넓이 : 1\n",
      "시작 지점 : (2, 0) 그리고 해당 섬의 넓이 : 2\n"
     ]
    },
    {
     "data": {
      "text/plain": [
       "2"
      ]
     },
     "execution_count": 36,
     "metadata": {},
     "output_type": "execute_result"
    }
   ],
   "source": [
    "P5([[1],\n",
    "    [0],\n",
    "    [1],\n",
    "    [1]])"
   ]
  },
  {
   "cell_type": "code",
   "execution_count": 37,
   "id": "886f359f",
   "metadata": {},
   "outputs": [],
   "source": [
    "def P5(world:List[List[int]]):\n",
    "    \"\"\"\n",
    "    이 코드는 주어진 2차원 그리드에서 값이 1인 연결된 영역(섬)의 넓이 중에서 가장 큰 넓이를 계산하는 함수입니다. \n",
    "    DFS를 사용하여 그리드의 각 위치를 방문하며 연결된 영역의 넓이를 계산합니다.\n",
    "    \"\"\"\n",
    "    # 너비 우선 탐색 (BFS) 함수 정의\n",
    "    def dfs(grid, visited, m, n, i, j):\n",
    "        area = 0 # 현재 섬의 넓이를 저장할 변수\n",
    "        stack = [(i, j)]\n",
    "        while stack:\n",
    "            x, y = stack.pop(-1)\n",
    "            for dx, dy in [(1, 0), (-1, 0), (0, 1), (0, -1)]:\n",
    "                nx, ny = x + dx, y + dy\n",
    "                if 0 <= nx < m and 0 <= ny < n and grid[nx][ny] == 1 and visited[nx][ny] == 0:\n",
    "                    visited[nx][ny] = 1\n",
    "                    area += 1\n",
    "                    stack.append((nx, ny))\n",
    "        if area == 0:\n",
    "            # edge case - 1이 한 개만 존재하는 경우\n",
    "            return 1\n",
    "        return area\n",
    "        \n",
    "    M, N = len(world), len(world[0])  # 그리드의 크기를 M, N으로 저장\n",
    "    visited = [[0 for _ in range(N)] for _ in range(M)]  # 방문 여부를 저장하는 2차원 리스트\n",
    "    max_area = 0  # 가장 큰 섬의 넓이를 저장할 변수\n",
    "    for i in range(M):\n",
    "        for j in range(N):\n",
    "            # 현재 위치의 값이 1이고 아직 방문하지 않았다면\n",
    "            if world[i][j] == 1 and visited[i][j] == 0:\n",
    "                area = dfs(world, visited, M, N, i, j)  # BFS 수행하여 해당 섬의 넓이를 계산\n",
    "                max_area = max(max_area, area)  # 최대 넓이 업데이트\n",
    "                print(f\"시작 지점 : ({i}, {j}) 그리고 해당 섬의 넓이 : {area}\")\n",
    "    return max_area  # 가장 큰 섬의 넓이 반환"
   ]
  },
  {
   "cell_type": "code",
   "execution_count": 38,
   "id": "d2328318",
   "metadata": {},
   "outputs": [
    {
     "name": "stdout",
     "output_type": "stream",
     "text": [
      "시작 지점 : (0, 0) 그리고 해당 섬의 넓이 : 11\n"
     ]
    },
    {
     "data": {
      "text/plain": [
       "11"
      ]
     },
     "execution_count": 38,
     "metadata": {},
     "output_type": "execute_result"
    }
   ],
   "source": [
    "P5([[1,1,1,1,0],  \n",
    "    [1,0,0,1,0],  \n",
    "    [1,1,0,1,0],  \n",
    "    [1,1,0,0,0]])"
   ]
  },
  {
   "cell_type": "code",
   "execution_count": 39,
   "id": "3caba59f",
   "metadata": {},
   "outputs": [
    {
     "name": "stdout",
     "output_type": "stream",
     "text": [
      "시작 지점 : (0, 0) 그리고 해당 섬의 넓이 : 4\n",
      "시작 지점 : (2, 2) 그리고 해당 섬의 넓이 : 2\n",
      "시작 지점 : (3, 4) 그리고 해당 섬의 넓이 : 1\n"
     ]
    },
    {
     "data": {
      "text/plain": [
       "4"
      ]
     },
     "execution_count": 39,
     "metadata": {},
     "output_type": "execute_result"
    }
   ],
   "source": [
    "P5([[1,1,0,0,0],\n",
    "    [1,1,0,0,0],\n",
    "    [0,0,1,1,0],\n",
    "    [0,0,0,0,1]])"
   ]
  },
  {
   "cell_type": "code",
   "execution_count": 40,
   "id": "125e1d07",
   "metadata": {},
   "outputs": [
    {
     "name": "stdout",
     "output_type": "stream",
     "text": [
      "시작 지점 : (0, 0) 그리고 해당 섬의 넓이 : 3\n",
      "시작 지점 : (0, 4) 그리고 해당 섬의 넓이 : 1\n",
      "시작 지점 : (2, 3) 그리고 해당 섬의 넓이 : 3\n",
      "시작 지점 : (3, 1) 그리고 해당 섬의 넓이 : 1\n"
     ]
    },
    {
     "data": {
      "text/plain": [
       "3"
      ]
     },
     "execution_count": 40,
     "metadata": {},
     "output_type": "execute_result"
    }
   ],
   "source": [
    "P5([[1,0,0,0,1],\n",
    "    [1,1,0,0,0],\n",
    "    [0,0,0,1,1],\n",
    "    [0,1,0,1,0]])"
   ]
  },
  {
   "cell_type": "code",
   "execution_count": 41,
   "id": "bb690cfe",
   "metadata": {},
   "outputs": [
    {
     "name": "stdout",
     "output_type": "stream",
     "text": [
      "시작 지점 : (0, 0) 그리고 해당 섬의 넓이 : 1\n",
      "시작 지점 : (2, 0) 그리고 해당 섬의 넓이 : 2\n"
     ]
    },
    {
     "data": {
      "text/plain": [
       "2"
      ]
     },
     "execution_count": 41,
     "metadata": {},
     "output_type": "execute_result"
    }
   ],
   "source": [
    "P5([[1],\n",
    "    [0],\n",
    "    [1],\n",
    "    [1]])"
   ]
  },
  {
   "cell_type": "code",
   "execution_count": null,
   "id": "d084b2ba",
   "metadata": {},
   "outputs": [],
   "source": []
  }
 ],
 "metadata": {
  "kernelspec": {
   "display_name": "Python 3 (ipykernel)",
   "language": "python",
   "name": "python3"
  },
  "language_info": {
   "codemirror_mode": {
    "name": "ipython",
    "version": 3
   },
   "file_extension": ".py",
   "mimetype": "text/x-python",
   "name": "python",
   "nbconvert_exporter": "python",
   "pygments_lexer": "ipython3",
   "version": "3.10.12"
  }
 },
 "nbformat": 4,
 "nbformat_minor": 5
}
