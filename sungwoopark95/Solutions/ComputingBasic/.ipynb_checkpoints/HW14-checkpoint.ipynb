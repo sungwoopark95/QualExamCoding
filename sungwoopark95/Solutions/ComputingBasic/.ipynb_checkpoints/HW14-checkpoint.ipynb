{
 "cells": [
  {
   "cell_type": "markdown",
   "id": "88ed59d2",
   "metadata": {},
   "source": [
    "# P1 \n",
    "\n",
    "주어진 양의 정수 `n`을 이진수로 나타냈을 때 교차 비트로 이루어져 있는지를 확인하여 `bool` 값으로 return하는 `P1` 함수를 구현하여라. \n",
    "\n",
    "교차 비트로 이루어져 있다면 `True`, 이루어져 있지 않다면 `False`를 return한다. \n",
    "\n",
    "* 교차 비트란 0101… 혹은 1010…으로 인접한 비트가 항상 다른 비트인 것을 의미한다. \n",
    "* 양 옆에 인접 비트가 없을 때는 `True`를 반환한다. (ex. 1) \n",
    "* 1과 0의 개수가 다르면서 교차인 경우(10101과 같은 경우)에도 교차 비트로 이루어진 것으로 판단하여 `True`를 반환한다.\n",
    "\n",
    "예시 1) \n",
    "```py\n",
    ">>> P1(8)  \n",
    "False \n",
    "설명: 8을 이진수로 나타내면 1000이기 때문에 교차 비트로 이루어져 있지 않아서 False를 return한다. \n",
    "```\n",
    "\n",
    "예시 2) \n",
    "```py\n",
    ">>> P1(10) \n",
    "True  \n",
    "설명: 10을 이진수로 나타내면 1010이기 때문에 교차 비트로 이루어져 있어 True를 return한다. \n",
    "```\n",
    "\n",
    "예시 3) \n",
    "```py\n",
    ">>> P1(1) \n",
    "True \n",
    "설명: 1을 이진수로 나타내면 1이기 때문에 인접 비트가 없으므로 True를 return한다. \n",
    "```\n",
    "\n",
    "예시 4) \n",
    "```py\n",
    ">>> P1(4294967295) \n",
    "False \n",
    "설명: 4294967295를 이진수로 나타내면 11111111111111111111111111111111이기 때문에 교차 비트로 이루어 있지 않아서 False를 return한다.\n",
    "```"
   ]
  },
  {
   "cell_type": "code",
   "execution_count": 1,
   "id": "390c61b1",
   "metadata": {},
   "outputs": [],
   "source": [
    "def P1(n:int):\n",
    "    def dec2bin(num:int):\n",
    "        container = []\n",
    "        while num > 1:\n",
    "            container.append(str(num % 2))\n",
    "            num = num // 2\n",
    "        container.append(str(num))\n",
    "        container.reverse()\n",
    "        return ''.join(container)\n",
    "    binary = dec2bin(n)\n",
    "    print(binary)\n",
    "    for i in range(len(binary)-1):\n",
    "        if binary[i] == binary[i+1]:\n",
    "            return False\n",
    "    return True"
   ]
  },
  {
   "cell_type": "code",
   "execution_count": 2,
   "id": "25586228",
   "metadata": {},
   "outputs": [
    {
     "name": "stdout",
     "output_type": "stream",
     "text": [
      "1000\n"
     ]
    },
    {
     "data": {
      "text/plain": [
       "False"
      ]
     },
     "execution_count": 2,
     "metadata": {},
     "output_type": "execute_result"
    }
   ],
   "source": [
    "P1(8)"
   ]
  },
  {
   "cell_type": "code",
   "execution_count": 3,
   "id": "1bdb93c1",
   "metadata": {},
   "outputs": [
    {
     "name": "stdout",
     "output_type": "stream",
     "text": [
      "1010\n"
     ]
    },
    {
     "data": {
      "text/plain": [
       "True"
      ]
     },
     "execution_count": 3,
     "metadata": {},
     "output_type": "execute_result"
    }
   ],
   "source": [
    "P1(10) "
   ]
  },
  {
   "cell_type": "code",
   "execution_count": 4,
   "id": "e543fe92",
   "metadata": {},
   "outputs": [
    {
     "name": "stdout",
     "output_type": "stream",
     "text": [
      "1\n"
     ]
    },
    {
     "data": {
      "text/plain": [
       "True"
      ]
     },
     "execution_count": 4,
     "metadata": {},
     "output_type": "execute_result"
    }
   ],
   "source": [
    "P1(1)"
   ]
  },
  {
   "cell_type": "code",
   "execution_count": 5,
   "id": "b1c48f20",
   "metadata": {},
   "outputs": [
    {
     "name": "stdout",
     "output_type": "stream",
     "text": [
      "11111111111111111111111111111111\n"
     ]
    },
    {
     "data": {
      "text/plain": [
       "False"
      ]
     },
     "execution_count": 5,
     "metadata": {},
     "output_type": "execute_result"
    }
   ],
   "source": [
    "P1(4294967295)"
   ]
  },
  {
   "cell_type": "markdown",
   "id": "61209851",
   "metadata": {},
   "source": [
    "# P2\n",
    "\n",
    "0 이상 정수 `num`을 입력으로 받는다. `num`을 32bit로 나타낸 다음 (반드시 32bit로 나타내어야 한다. 앞자리 수가 비더라도 `0`으로 채워서 32자리를 맞춰야 함), bit를 거꾸로 뒤집었을 때의 값을 0 이상의 10진수 정수로 return 하는 `P2` 함수를 구현하시오. \n",
    "\n",
    "예시 1) \n",
    "```py\n",
    ">>>P2(43261596) \n",
    "964176192 \n",
    "설명: 43261596은 32bit로 나타냈을 때, 00000010100101000001111010011100이고, 이것을 뒤집으면 00111001011110000010100101000000가 되고, 이 값은 964176192이다.\n",
    "```\n",
    "\n",
    "예시 2) \n",
    "```py\n",
    ">>> P2(4294967293) \n",
    "3221225471 \n",
    "설명: 4294967293은 32bit로 나타냈을 때, 11111111111111111111111111111101이고, 이것을 뒤집으면 10111111111111111111111111111111가 되고, 이 값은 3221225471이다.\n",
    "```\n",
    "\n",
    "예시 3)\n",
    "```py\n",
    ">>> P2(123456789) \n",
    "2830359264 \n",
    "설명: 123456789은 32bit로 나타냈을 때, 00000111010110111100110100010101이고, 이것을 뒤집으면 10101000101100111101101011100000가 되고, 이 값은 2830359264이다.\n",
    "```"
   ]
  },
  {
   "cell_type": "code",
   "execution_count": 18,
   "id": "f2195bf3",
   "metadata": {},
   "outputs": [],
   "source": [
    "def P2(n:int):\n",
    "    def bit32(num:int):\n",
    "        container = []\n",
    "        while num > 1:\n",
    "            container.append(str(num % 2))\n",
    "            num = num // 2\n",
    "        container.append(str(num))\n",
    "        container.reverse()\n",
    "        ans = ''.join(container)\n",
    "        if len(ans) < 32:\n",
    "            to_add = '0' * (32 - len(ans))\n",
    "            ans = to_add + ans\n",
    "        return ans\n",
    "    \n",
    "    def bin2dec(binary:str):\n",
    "        ans = 0\n",
    "        for i, c in enumerate(binary):\n",
    "            ans += (2**(len(binary)-i-1)) * int(c)\n",
    "        return ans\n",
    "    \n",
    "    target = bit32(n)[::-1]\n",
    "    return bin2dec(target)"
   ]
  },
  {
   "cell_type": "code",
   "execution_count": 19,
   "id": "805367e5",
   "metadata": {},
   "outputs": [
    {
     "name": "stdout",
     "output_type": "stream",
     "text": [
      "00000010100101000001111010011100 00111001011110000010100101000000\n"
     ]
    },
    {
     "data": {
      "text/plain": [
       "964176192"
      ]
     },
     "execution_count": 19,
     "metadata": {},
     "output_type": "execute_result"
    }
   ],
   "source": [
    "P2(43261596)"
   ]
  },
  {
   "cell_type": "code",
   "execution_count": null,
   "id": "4817302b",
   "metadata": {},
   "outputs": [],
   "source": []
  },
  {
   "cell_type": "markdown",
   "id": "265f7c4b",
   "metadata": {},
   "source": [
    "# P3\n",
    "\n",
    "정수로 이루어진 리스트 `nums`를 인자로 받는다. `nums`의 성분 중, 두 개의 정수는 한 개씩만 있고, 나머지 정수들은 두 개씩 있다. 한 개씩 있는 두 개의 정수를 `set`으로 return 하는 `P3` 함수를 구현하시오.\n",
    "\n",
    "구현 방법에는 여러 가지가 있을 수 있으나, bit operation을 이용해서 구현해보자. \n",
    "\n",
    "Time complexity $O(n)$, 입력으로 들어가는 `nums`를 제외한 space complexity $O(1)$에 구현할 수 있다. (채점은 구현에 상관없이 return 값으로만 채점할 것이다.) \n",
    "\n",
    "예시 1) \n",
    "```py\n",
    ">>> P3([1,2,1,3,2,5]) \n",
    "{3, 5} \n",
    "설명: 3과 5는 한 개씩 있고, 나머지 정수들은 두 개씩 있다. set으로 return하기 때문에 순서는 상관없다.\n",
    "```\n",
    "\n",
    "예시 2)\n",
    "```py\n",
    ">>> P3([-1,0]) \n",
    "{-1, 0}\n",
    "```\n",
    "\n",
    "예시 3) \n",
    "```py\n",
    ">>> P3([1,2,3,4,5,6,7,8,9,1,2,3,4,5,6,7]) \n",
    "{8, 9}\n",
    "```"
   ]
  },
  {
   "cell_type": "code",
   "execution_count": null,
   "id": "22553b0c",
   "metadata": {},
   "outputs": [],
   "source": []
  },
  {
   "cell_type": "markdown",
   "id": "d1fa9d4c",
   "metadata": {},
   "source": [
    "# P4\n",
    "\n",
    "0 이상 정수 `num`을 입력으로 받는다. bit로 표현했을 때, ‘1’의 개수를 return하는 함수를 구현하시오. (`num`은 32bit를 넘지 않는다.) \n",
    "\n",
    "예시 1) \n",
    "```py\n",
    ">>> P4(16)  \n",
    "1 \n",
    "```\n",
    "\n",
    "예시 2) \n",
    "```py\n",
    ">>> P4(7)  \n",
    "3\n",
    "```\n",
    "\n",
    "예시 3) \n",
    "```py\n",
    ">>> P4(1234567)  \n",
    "11\n",
    "```"
   ]
  },
  {
   "cell_type": "code",
   "execution_count": null,
   "id": "92438c3a",
   "metadata": {},
   "outputs": [],
   "source": []
  }
 ],
 "metadata": {
  "kernelspec": {
   "display_name": "Python 3 (ipykernel)",
   "language": "python",
   "name": "python3"
  },
  "language_info": {
   "codemirror_mode": {
    "name": "ipython",
    "version": 3
   },
   "file_extension": ".py",
   "mimetype": "text/x-python",
   "name": "python",
   "nbconvert_exporter": "python",
   "pygments_lexer": "ipython3",
   "version": "3.10.12"
  }
 },
 "nbformat": 4,
 "nbformat_minor": 5
}
