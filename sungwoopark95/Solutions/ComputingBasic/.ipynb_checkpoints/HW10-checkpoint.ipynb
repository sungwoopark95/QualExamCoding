{
 "cells": [
  {
   "cell_type": "code",
   "execution_count": 1,
   "id": "34142ad9",
   "metadata": {},
   "outputs": [],
   "source": [
    "from typing import List, Dict, Set, Tuple"
   ]
  },
  {
   "cell_type": "code",
   "execution_count": 2,
   "id": "71e19b11",
   "metadata": {},
   "outputs": [],
   "source": [
    "# Definition for TreeNode.\n",
    "class TreeNode:\n",
    "    def __init__(self, val=0, left=None, right=None):\n",
    "        self.val = val\n",
    "        self.left = left\n",
    "        self.right = right\n",
    "        \n",
    "    def printTree(self) -> list:\n",
    "        result = list()\n",
    "        thislevel = [self]\n",
    "        while thislevel:\n",
    "            nextlevel = list()\n",
    "            none_list=1\n",
    "            for n in thislevel:\n",
    "                if n !=None:\n",
    "                    none_list=0\n",
    "                    break\n",
    "            if none_list==1:\n",
    "                return result\n",
    "                        \n",
    "            for n in thislevel:\n",
    "                if n != None: \n",
    "                    result.append(n.val)\n",
    "                    nextlevel.append(n.left)\n",
    "                    nextlevel.append(n.right)\n",
    "                else:\n",
    "                    result.append(None)\n",
    "                    nextlevel.append(None)\n",
    "                    nextlevel.append(None)\n",
    "                    \n",
    "            thislevel = nextlevel\n",
    "        return result"
   ]
  },
  {
   "cell_type": "code",
   "execution_count": 3,
   "id": "60bef72b",
   "metadata": {},
   "outputs": [],
   "source": [
    "#Create a BST from a list, then return root node\n",
    "from collections import deque\n",
    "\n",
    "def create_linked_bst(arr: list) -> TreeNode:\n",
    "    if len(arr) < 1: \n",
    "        return None\n",
    "    n = iter(arr)\n",
    "    tree = TreeNode(next(n))\n",
    "    fringe = deque([tree])\n",
    "    \n",
    "    while True:\n",
    "        head = fringe.popleft()\n",
    "        try:\n",
    "            l = next(n)\n",
    "            head.left = TreeNode(l) if l != None else None\n",
    "            fringe.append(head.left)\n",
    "            r = next(n)\n",
    "            head.right = TreeNode(r) if r != None else None\n",
    "            fringe.append(head.right)\n",
    "        except StopIteration:\n",
    "            break\n",
    "    return tree"
   ]
  },
  {
   "cell_type": "markdown",
   "id": "e1b35f54",
   "metadata": {},
   "source": [
    "# P1. Range sum of BST \n",
    "\n",
    "Binary Search Tree에서 range `[low, high]`에 해당하는 BST의 모든 노드 값을 합산하여 반환하는 함수를 작성하여라. \n",
    "\n",
    "* BST의 각 Node는 `TreeNode` class로 정의되며, 이 정의는 `BST_Helper.py` 파일을 확인하면 된다. `printTree()` Method를 호출하면 tree의 각 노드의 값을 리스트로 만들어 Return해준다. \n",
    "\n",
    "* Input은 BST의 `Root` Node와 `low, high`가 주어질 것이다. \n",
    "\n",
    "* 모든 node의 값은 BST 안에서 유일하다. \n",
    "\n",
    "* 코드 구현 확인을 위하여 `BST_Helper.py` 파일 내부에 아래 함수가 구현되어 있다. \n",
    "    - `create_linked_bst`: 정수 `List`를 입력받아 BST를 구성하고 `root` node를 반환. 이때 정수 `List`는 첫 element를 `root` node의 값, 두번째는 `root` node의 왼쪽 값, 세번째는 `root` node의 오른쪽 값… 으로 Breadth first traversal의 순서로 입력되어야 한다.  또한 가지에 해당하는 값이 없을 경우 `None`을 입력한다. \n",
    "\n",
    "     - 예를 들어, 다음 `list`를 입력하면 `[10,5,15,3,7,None,18]` 아래와 같은 BST를 생성하고 `root` node를 return 한다.\n",
    "     ```\n",
    "         10 \n",
    "         / \\ \n",
    "        5  15 \n",
    "       / \\   \\ \n",
    "      3   7  18 \n",
    "     ```\n",
    "     \n",
    "* BST의 특성을 이용하지 않고 `List`의 값 중에서 범위를 체크하여 합산하는 방식으로 해결하는 것은 금지한다. 이를 위해 BST의 Child의 조건이 위배된 형태로 Input이 주어질 수 있다.  \n",
    "    - left node `y` of node `x` has value less than `x`’s value \n",
    "    - right node `y` of node `x` has value greater than `x`’s value\n",
    "    - 즉, child node의 경우는 해당 노드의 값보다 크거나 작아야 하지만 grand  children부터는 이 조건에 구애를 받지 않는다. 예를 들어 아래와 같은 형태의 BST도 Input으로 주어질 수 있다. 9는 10보다 작지만 오른쪽 Subtree에 위치한다.  이와 같은 Input이 주어질 때 계산방법은 아래 예시 1, 예시 2를 참고하라. \n",
    "\n",
    "```\n",
    "    10 \n",
    "   /   \\ \n",
    "  5    15 \n",
    " / \\   / \\ \n",
    "3   7 9  18\n",
    "```\n",
    "예시 1) 3, 5, 7 이 해당 range안에 있으므로 15가 return 된다. 9는 Range 안에 있으나 BST를 검색할 때 range의 최대값 9가 Root node보다 작으므로 왼쪽 Subtree만 검색하여 3,5,7의 합만 Return 하여야 한다.\n",
    "```py\n",
    ">>> root = create_linked_bst([10,5,15,3,7,9,18]) \n",
    ">>> P1(root, 3, 9) \n",
    "15\n",
    "```\n",
    "\n",
    "예시 2) 3, 5, 7, 9, 10, 15가 해당 range 안에 있으므로 49가 return된다. range의 최대값 15 가 Root node보다 크므로 왼쪽, 오른쪽 Subtree를 모두 검색하여야 하고 9는 합산시 포함되어야 한다.\n",
    "```py\n",
    ">>> root = create_linked_bst([10,5,15,3,7,9,18]) \n",
    ">>> P1(root, 3, 15) \n",
    "49\n",
    "```\n",
    "\n",
    "예시 3) 7, 10, 15가 해당 range 안에 있으므로 32가 return된다. \n",
    "```py\n",
    ">>> root = create_linked_bst([10,5,15,3,7,None,18]) \n",
    ">>> P1(root, 7, 15) \n",
    "32\n",
    "```\n",
    "\n",
    "예시 4) 6, 7, 10이 해당 range 안에 있으므로 23이 return된다. \n",
    "```\n",
    "     10 \n",
    "     / \\ \n",
    "    5  15 \n",
    "   / \\   \\ \n",
    "  3   7  18 \n",
    " /   /  \n",
    "1   6\n",
    "```\n",
    "```py\n",
    ">>> root = create_linked_bst ([10,5,15,3,7,13,18,1,None,6]) \n",
    ">>> P1(root, 6, 10) \n",
    "23 \n",
    "```"
   ]
  },
  {
   "cell_type": "markdown",
   "id": "a9262147",
   "metadata": {},
   "source": [
    "* Recursion 쓸 때 주의할 점 -> base case와 original function은 그 return type이 동일해야 한다!\n",
    "    - base case에서 nothing return $\\Leftrightarrow$ original function도 nothing return\n",
    "    - base case에서 return $\\Leftrightarrow$ original function도 같은 type return"
   ]
  },
  {
   "cell_type": "code",
   "execution_count": 4,
   "id": "0268d882",
   "metadata": {},
   "outputs": [],
   "source": [
    "def P1(root:TreeNode, low:int, high:int) -> int:\n",
    "    ans = 0\n",
    "    if root is None:\n",
    "        return 0\n",
    "    if low <= root.val <= high:\n",
    "        ans = root.val\n",
    "        print(ans)\n",
    "    if root.val >= low:\n",
    "        ans += P1(root.left, low, high)\n",
    "    if root.val <= high:\n",
    "        ans += P1(root.right, low, high)\n",
    "    return ans\n",
    "\n",
    "#     def dft(root:TreeNode):\n",
    "#         ans = 0\n",
    "#         if root is None:\n",
    "#             return 0\n",
    "#         if low <= root.val <= high:\n",
    "#             ans = root.val\n",
    "#         if root.val <= high:\n",
    "#             ans += dft(root.right)\n",
    "#         if root.val >= low:\n",
    "#             ans += dft(root.left)\n",
    "# #         print(ans)\n",
    "#         return ans\n",
    "\n",
    "#     return dft(root)"
   ]
  },
  {
   "cell_type": "code",
   "execution_count": 5,
   "id": "baf5aae1",
   "metadata": {},
   "outputs": [],
   "source": [
    "# 모든 값을 values라는 list에 받는 방법\n",
    "def P1(root:TreeNode, low:int, high:int) -> int:\n",
    "    values = [] # recursion과 무관한 값이므로 새로운 함수가 필요\n",
    "    \n",
    "#     def dft(root:TreeNode, result:list):\n",
    "#         if root is None:\n",
    "#             return result\n",
    "#         if low <= root.val <= high:\n",
    "#             result.append(root.val)\n",
    "#         if root.val >= low:\n",
    "#             dft(root.left, result)\n",
    "#         if root.val <= high:\n",
    "#             dft(root.right, result)\n",
    "#         return result\n",
    "\n",
    "    def dft(root:TreeNode):\n",
    "        if root is None:\n",
    "            return\n",
    "        if low <= root.val <= high:\n",
    "            values.append(root.val)\n",
    "        if root.val >= low:\n",
    "            dft(root.left)\n",
    "        if root.val <= high:\n",
    "            dft(root.right)\n",
    "    \n",
    "    dft(root)\n",
    "    \n",
    "    return sum(values)"
   ]
  },
  {
   "cell_type": "code",
   "execution_count": 6,
   "id": "dc118bfc",
   "metadata": {},
   "outputs": [],
   "source": [
    "root = create_linked_bst([10,5,15,3,7,9,18])"
   ]
  },
  {
   "cell_type": "code",
   "execution_count": 7,
   "id": "abadf942",
   "metadata": {},
   "outputs": [
    {
     "data": {
      "text/plain": [
       "15"
      ]
     },
     "execution_count": 7,
     "metadata": {},
     "output_type": "execute_result"
    }
   ],
   "source": [
    "P1(root, 3, 9)"
   ]
  },
  {
   "cell_type": "code",
   "execution_count": 8,
   "id": "4c9b28b3",
   "metadata": {},
   "outputs": [
    {
     "data": {
      "text/plain": [
       "49"
      ]
     },
     "execution_count": 8,
     "metadata": {},
     "output_type": "execute_result"
    }
   ],
   "source": [
    "P1(root, 3, 15)"
   ]
  },
  {
   "cell_type": "code",
   "execution_count": 9,
   "id": "5fe21f49",
   "metadata": {},
   "outputs": [
    {
     "data": {
      "text/plain": [
       "32"
      ]
     },
     "execution_count": 9,
     "metadata": {},
     "output_type": "execute_result"
    }
   ],
   "source": [
    "root = create_linked_bst([10,5,15,3,7,None,18])\n",
    "P1(root, 7, 15)"
   ]
  },
  {
   "cell_type": "code",
   "execution_count": 10,
   "id": "29697a2e",
   "metadata": {},
   "outputs": [
    {
     "data": {
      "text/plain": [
       "23"
      ]
     },
     "execution_count": 10,
     "metadata": {},
     "output_type": "execute_result"
    }
   ],
   "source": [
    "root = create_linked_bst ([10,5,15,3,7,13,18,1,None,6])\n",
    "P1(root, 6, 10)"
   ]
  },
  {
   "cell_type": "markdown",
   "id": "3397d4f8",
   "metadata": {},
   "source": [
    "# P2 Binary Tree Level Order Traversal \n",
    "\n",
    "Binary tree에 대하여 Bottom-up level order traversal을 하고 return하는 함수를 작성하시오. 즉, Leaf부터 Root까지 각 level에 대해, 왼쪽에서부터 오른쪽 순서로 저장되어야 한다. \n",
    "\n",
    "* 이중 리스트 형태로 return해야 하며, 같은 Depth인 Node들의 값이 같은 List에 저장되어야 한다. \n",
    "\n",
    "* input으로는 binary tree의 `root`가 주어진다. \n",
    "\n",
    "예시 1)\n",
    "```\n",
    "    3 \n",
    "   / \\ \n",
    "  9  20 \n",
    " /     \\ \n",
    "15      7 \n",
    "```\n",
    "```py\n",
    ">>> root = create_linked_bst ([3,9,20,None,None,15,7]) \n",
    ">>> P2(root) \n",
    "[[15, 7], [9, 20], [3]]\n",
    "```\n",
    "\n",
    "예시 2) \n",
    "```\n",
    "    10 \n",
    "   /  \\ \n",
    "  5   15 \n",
    " / \\    \\ \n",
    "3   7   18\n",
    "```\n",
    "```py\n",
    ">>> root = create_linked_bst([10,5,15,3,7,None,18]) \n",
    ">>> P2(root) \n",
    "[[3, 7, 18], [5, 15], [10]] \n",
    "```\n",
    "\n",
    "예시 3)\n",
    "```py\n",
    ">>> root = create_linked_bst([5,3,6,2,4,None,7]) \n",
    ">>> P2(root) \n",
    "[[2, 4, 7], [3, 6], [5]] \n",
    "```"
   ]
  },
  {
   "cell_type": "code",
   "execution_count": 11,
   "id": "7d5fb71e",
   "metadata": {},
   "outputs": [],
   "source": [
    "def P2(root:TreeNode) -> List[List[int]]:\n",
    "    def levelOrder(root:TreeNode) -> List[List[int]]:\n",
    "        visited = []\n",
    "        if not root:\n",
    "            return visited\n",
    "\n",
    "        level_dict = dict()\n",
    "        curNode = root\n",
    "        queue = [root]\n",
    "        level_dict[root] = 0\n",
    "        levels = [0]\n",
    "        while queue:\n",
    "            curNode = queue.pop(0)\n",
    "            if curNode.left:\n",
    "                level_dict[curNode.left] = level_dict[curNode] + 1\n",
    "                queue.append(curNode.left)\n",
    "                if level_dict[curNode.left] not in levels:\n",
    "                    levels.append(level_dict[curNode.left])\n",
    "            if curNode.right:\n",
    "                level_dict[curNode.right] = level_dict[curNode] + 1\n",
    "                queue.append(curNode.right)\n",
    "                if level_dict[curNode.right] not in levels:\n",
    "                    levels.append(level_dict[curNode.right])\n",
    "        \n",
    "        for level in sorted(levels, reverse=True):\n",
    "            level_list = []\n",
    "            for key in level_dict.keys():\n",
    "                if level_dict[key] == level:\n",
    "                    level_list.append(key.val)\n",
    "            visited.append(level_list)\n",
    "        \n",
    "        return visited\n",
    "\n",
    "    return levelOrder(root)"
   ]
  },
  {
   "cell_type": "code",
   "execution_count": 12,
   "id": "e1e2c80c",
   "metadata": {},
   "outputs": [
    {
     "data": {
      "text/plain": [
       "[[15, 7], [9, 20], [3]]"
      ]
     },
     "execution_count": 12,
     "metadata": {},
     "output_type": "execute_result"
    }
   ],
   "source": [
    "root = create_linked_bst ([3,9,20,None,None,15,7])\n",
    "P2(root)"
   ]
  },
  {
   "cell_type": "code",
   "execution_count": 13,
   "id": "aa178a31",
   "metadata": {},
   "outputs": [
    {
     "data": {
      "text/plain": [
       "[[3, 7, 18], [5, 15], [10]]"
      ]
     },
     "execution_count": 13,
     "metadata": {},
     "output_type": "execute_result"
    }
   ],
   "source": [
    "root = create_linked_bst([10,5,15,3,7,None,18]) \n",
    "P2(root)"
   ]
  },
  {
   "cell_type": "code",
   "execution_count": 14,
   "id": "0d5b4abf",
   "metadata": {},
   "outputs": [
    {
     "data": {
      "text/plain": [
       "[[2, 4, 7], [3, 6], [5]]"
      ]
     },
     "execution_count": 14,
     "metadata": {},
     "output_type": "execute_result"
    }
   ],
   "source": [
    "root = create_linked_bst([5,3,6,2,4,None,7]) \n",
    "P2(root) "
   ]
  },
  {
   "cell_type": "markdown",
   "id": "ca73e559",
   "metadata": {},
   "source": [
    "# P3. Insert value into BST : make full BST \n",
    "\n",
    "BST에서 모든 Depth의 모든 Node에 값이 있는 경우 Full BST라고 하자. 예를 들면 아래와 같은 BST를 지칭한다. \n",
    "\n",
    "<img src=\"./hw10_instruction-pdf-1.png\">\n",
    "\n",
    "Full BST에서 1개의 Node만 비어 있는 BST에 1개의 값을 추가하여 Full BST로 만들고, root node를 return하는 함수를 작성하여라. \n",
    "* Input은 BST의 `root` node와 추가할 정수값이다. \n",
    "* Node의 모든 값은 정수라고 가정한다. \n",
    "* 추가되는 값은 Input BST에 존재하지 않는다고 가정한다.\n",
    "* Tree를 새로 생성하는 방식으로의 구현은 인정하지 않는다. (ex. 원래 tree의 값들을 받아 리스트로 만든 뒤 다음 값을 추가해서 create_linked_bst 를 사용하는 방식의 구현은 안됨) \n",
    "\n",
    "예시 1) 왼쪽의 BST에 6을 넣을 경우 오른쪽과 같은 BST를 Return해야 한다. \n",
    "\n",
    "<img src=\"./hw10_instruction-pdf-2.png\">\n",
    "\n",
    "```py\n",
    ">>> root = create_linked_bst([7,3,8,2,5,None,9]) \n",
    ">>> fullBST = P3(root, 6) \n",
    ">>> print(fullBST.printTree()) \n",
    "[6, 3, 8, 2, 5, 7, 9]\n",
    "```\n",
    "예시 2) 왼쪽의 BST에 10을 넣을 경우 오른쪽과 같은 BST를 Return해야 한다. \n",
    "\n",
    "<img src=\"./hw10_instruction-pdf-6.png\">\n",
    "\n",
    "```py\n",
    ">>> root = create_linked_bst( [7,3,8,2,5,None,9]) \n",
    ">>> fullBST = P3(root, 10) \n",
    ">>> print(fullBST.printTree()) \n",
    "[7, 3, 9, 2, 5, 8, 10] \n",
    "```\n",
    "예시 3) 왼쪽의 BST에 7을 넣을 경우 오른쪽과 같은 BST를 Return해야 한다. \n",
    "<img src=\"./hw10_instruction-pdf-3.png\">\n",
    "```py\n",
    ">>> root = create_linked_bst([10,5,15,3,6,12,18,1,4,None,8,11,13,16,20])\n",
    ">>> fullBST = P3(root, 7) \n",
    ">>> print(fullBST.printTree()) \n",
    "[10, 5, 15, 3, 7, 12, 18, 1, 4, 6, 8, 11, 13, 16, 20] \n",
    "```\n",
    "\n",
    "예시 4) 왼쪽의 BST에 14를 넣을 경우 오른쪽과 같은 BST를 Return해야 한다. \n",
    "\n",
    "<img src=\"./hw10_instruction-pdf-4.png\">\n",
    "\n",
    "```py\n",
    ">>> root = create_linked_bst([10,5,15,3,7,12,18,1,4,6,8,11,13,None,20]) \n",
    ">>> fullBST = P3(root, 14) \n",
    ">>> print(fullBST.printTree()) \n",
    "[10, 5, 14, 3, 7, 12, 18, 1, 4, 6, 8, 11, 13, 15, 20] \n",
    "```\n",
    "예시 5) 왼쪽의 BST에 9를 넣을 경우 오른쪽과 같은 BST를 Return해야 한다. \n",
    "\n",
    "<img src=\"./hw10_instruction-pdf-5.png\">\n",
    "\n",
    "```py\n",
    ">>> root = create_linked_bst([10,5,15,3,7,12,18,1,4,6,8,11,13,None,20]) \n",
    ">>> fullBST = P3(root, 9) \n",
    ">>> print(fullBST.printTree()) \n",
    "[9, 5, 13, 3, 7, 11, 18, 1, 4, 6, 8, 10, 12, 15, 20]\n",
    "```"
   ]
  },
  {
   "cell_type": "code",
   "execution_count": 15,
   "id": "a57ddddc",
   "metadata": {},
   "outputs": [],
   "source": [
    "def P3(root: TreeNode, val: int) -> TreeNode:    \n",
    "    ##### Write your Code Here #####\n",
    "\n",
    "    def __balancedBST(nodes: list, start: int, end: int) -> TreeNode:\n",
    "        \"\"\"\n",
    "        1. 중앙 노드 선택: 주어진 정렬된 노드 리스트에서 중앙에 위치한 노드를 선택합니다. 이 노드가 현재 서브트리의 루트 노드가 됩니다. \n",
    "           중앙 노드는 (start + end) // 2로 계산됩니다.\n",
    "        2. 왼쪽 서브트리 생성: 중앙 노드의 왼쪽에 있는 노드들을 이용하여 왼쪽 서브트리를 생성합니다. \n",
    "           이를 위해 __balancedBST 함수를 재귀적으로 호출하며, start부터 mid-1까지의 노드들을 사용합니다.\n",
    "        3. 오른쪽 서브트리 생성: 중앙 노드의 오른쪽에 있는 노드들을 이용하여 오른쪽 서브트리를 생성합니다. \n",
    "           이를 위해 __balancedBST 함수를 재귀적으로 호출하며, mid+1부터 end까지의 노드들을 사용합니다.\n",
    "        4. 서브트리 연결: 중앙 노드의 left 포인터를 왼쪽 서브트리의 루트로, right 포인터를 오른쪽 서브트리의 루트로 설정합니다.\n",
    "        5. 루트 반환: 현재 서브트리의 루트 노드를 반환합니다.\n",
    "        이 원리를 기반으로, 함수는 주어진 정렬된 노드 리스트를 이용하여 균형잡힌 이진 탐색 트리를 생성합니다. 중앙 노드를 루트로 선택하는 것은 BST의 특성을 유지하기 위함입니다. 중앙 노드를 기준으로 왼쪽에는 더 작은 값들, 오른쪽에는 더 큰 값들이 위치하게 되므로, 이를 이용하여 재귀적으로 균형잡힌 BST를 구성하게 됩니다.\n",
    "        \"\"\"\n",
    "        if start > end:\n",
    "            return None\n",
    "\n",
    "        mid = (start + end) // 2\n",
    "        node = nodes[mid]\n",
    "\n",
    "        node.left = __balancedBST(nodes, start, mid-1)\n",
    "        node.right = __balancedBST(nodes, mid+1, end)\n",
    "\n",
    "        return node\n",
    "    \n",
    "    def __insertBST(root: TreeNode, val: int):\n",
    "        \"\"\"\n",
    "        1. 기본 케이스: 만약 현재 루트(root)가 None이면, 새로운 노드를 생성하고 그 값을 반환합니다.\n",
    "        2. 재귀 케이스: 현재 루트의 값이 삽입하려는 값보다 작다면, 오른쪽 서브트리에 값을 삽입해야 합니다. \n",
    "           그렇지 않다면 왼쪽 서브트리에 삽입합니다. 이를 위해 해당 서브트리의 루트를 대상으로 __insertBST 함수를 재귀적으로 호출합니다.\n",
    "        3. 마지막으로, 현재 루트를 반환합니다. 이는 현재 노드 아래의 서브트리에 변화가 있을 수 있기 때문입니다.\n",
    "        \"\"\"\n",
    "        if root == None:\n",
    "            return TreeNode(val)\n",
    "\n",
    "        else:\n",
    "            if root.val < val:\n",
    "                root.right = __insertBST(root.right, val)\n",
    "            else:\n",
    "                root.left = __insertBST(root.left, val)\n",
    "\n",
    "        return root\n",
    "\n",
    "    def __storeBST(root: TreeNode, nodes: list):\n",
    "        \"\"\"\n",
    "        이 함수는 주어진 BST의 모든 노드를 중위 순회 방식으로 방문하며, 노드들을 주어진 리스트(nodes)에 추가하는 재귀 함수입니다.\n",
    "        원리:\n",
    "        1. 중위 순회: BST의 중위 순회는 노드들을 오름차순으로 방문합니다. \n",
    "           따라서, __storeBST 함수는 먼저 왼쪽 서브트리를 방문, 그 다음 현재 노드를 리스트에 추가, \n",
    "           그리고 오른쪽 서브트리를 방문하는 순서로 작동합니다.\n",
    "        2. 이 방식으로, nodes 리스트는 BST의 모든 노드를 오름차순으로 포함하게 됩니다.\n",
    "        \"\"\"\n",
    "        if root == None:\n",
    "            return\n",
    "        __storeBST(root.left, nodes)\n",
    "        nodes.append(root)\n",
    "        __storeBST(root.right, nodes)\n",
    "\n",
    "    root = __insertBST(root, val)\n",
    "    nodes = []\n",
    "    __storeBST(root, nodes)\n",
    "    \n",
    "    n = len(nodes)\n",
    "    print([node.val for node in nodes])\n",
    "    return __balancedBST(nodes, 0, n-1)\n",
    "    ##### End of your code #####"
   ]
  },
  {
   "cell_type": "code",
   "execution_count": 16,
   "id": "b6ea5252",
   "metadata": {},
   "outputs": [
    {
     "name": "stdout",
     "output_type": "stream",
     "text": [
      "[2, 3, 5, 6, 7, 8, 9]\n",
      "[6, 3, 8, 2, 5, 7, 9]\n"
     ]
    }
   ],
   "source": [
    ">>> root = create_linked_bst([7,3,8,2,5,None,9]) \n",
    ">>> fullBST = P3(root, 6) \n",
    ">>> print(fullBST.printTree()) "
   ]
  },
  {
   "cell_type": "code",
   "execution_count": 17,
   "id": "085cd0cb",
   "metadata": {},
   "outputs": [
    {
     "name": "stdout",
     "output_type": "stream",
     "text": [
      "[1, 3, 4, 5, 6, 7, 8, 9, 10, 11, 12, 13, 15, 18, 20]\n",
      "[9, 5, 13, 3, 7, 11, 18, 1, 4, 6, 8, 10, 12, 15, 20]\n"
     ]
    }
   ],
   "source": [
    ">>> root = create_linked_bst([10,5,15,3,7,12,18,1,4,6,8,11,13,None,20]) \n",
    ">>> fullBST = P3(root, 9) \n",
    ">>> print(fullBST.printTree()) "
   ]
  },
  {
   "cell_type": "code",
   "execution_count": 18,
   "id": "de9d5bff",
   "metadata": {},
   "outputs": [
    {
     "data": {
      "text/plain": [
       "[9, 5, 13, 3, 7, 11, 18, 1, 4, 6, 8, 10, 12, 15, 20]"
      ]
     },
     "execution_count": 18,
     "metadata": {},
     "output_type": "execute_result"
    }
   ],
   "source": [
    "## BFS\n",
    "def BFS(root:TreeNode) -> List:\n",
    "    visited = []\n",
    "    queue = [root]\n",
    "    visited = []\n",
    "    while queue:\n",
    "        curr = queue.pop(0)\n",
    "        if curr not in visited:\n",
    "            visited.append(curr)\n",
    "        if curr.left:\n",
    "            queue.append(curr.left)\n",
    "        if curr.right:\n",
    "            queue.append(curr.right)\n",
    "    return [node.val for node in visited]\n",
    "\n",
    "BFS(fullBST)"
   ]
  },
  {
   "cell_type": "code",
   "execution_count": 28,
   "id": "86c0ba63",
   "metadata": {},
   "outputs": [
    {
     "name": "stdout",
     "output_type": "stream",
     "text": [
      "[9, 5, 3, 1, 4, 7, 6, 8, 13, 11, 10, 12, 18, 15, 20]\n"
     ]
    }
   ],
   "source": [
    "def PreOrder(root:TreeNode) -> List:\n",
    "    visited = []\n",
    "    stack = [root]\n",
    "    curr = root\n",
    "    while stack:\n",
    "        curr = stack.pop(-1)\n",
    "        if curr not in visited:\n",
    "            visited.append(curr)\n",
    "        if curr.right:\n",
    "            stack.append(curr.right)\n",
    "        if curr.left:\n",
    "            stack.append(curr.left)\n",
    "    return [node.val for node in visited]\n",
    "\n",
    "print(PreOrder(fullBST))"
   ]
  },
  {
   "cell_type": "code",
   "execution_count": 29,
   "id": "377cdb50",
   "metadata": {},
   "outputs": [
    {
     "name": "stdout",
     "output_type": "stream",
     "text": [
      "[9, 5, 3, 1, 4, 7, 6, 8, 13, 11, 10, 12, 18, 15, 20]\n",
      "[9, 5, 3, 1, 4, 7, 6, 8, 13, 11, 10, 12, 18, 15, 20]\n"
     ]
    }
   ],
   "source": [
    "def PreOrder(root:TreeNode) -> List:\n",
    "    visited = []\n",
    "    def dfs(root:TreeNode):\n",
    "        visited.append(root)\n",
    "        if root.left:\n",
    "            dfs(root.left)\n",
    "        if root.right:\n",
    "            dfs(root.right)\n",
    "    dfs(root)\n",
    "    return [node.val for node in visited]\n",
    "print(PreOrder(fullBST))\n",
    "\n",
    "def PreOrder(root:TreeNode) -> List:\n",
    "    visited = []\n",
    "    def dfs(root:TreeNode):\n",
    "        if root is None:\n",
    "            return\n",
    "        visited.append(root)\n",
    "        dfs(root.left)\n",
    "        dfs(root.right)\n",
    "    dfs(root)\n",
    "    return [node.val for node in visited]\n",
    "print(PreOrder(fullBST))"
   ]
  },
  {
   "cell_type": "code",
   "execution_count": 35,
   "id": "9a675a72",
   "metadata": {},
   "outputs": [
    {
     "name": "stdout",
     "output_type": "stream",
     "text": [
      "[1, 3, 4, 5, 6, 7, 8, 9, 10, 11, 12, 13, 15, 18, 20]\n",
      "[1, 3, 4, 5, 6, 7, 8, 9, 10, 11, 12, 13, 15, 18, 20]\n",
      "[1, 3, 4, 5, 6, 7, 8, 9, 10, 11, 12, 13, 15, 18, 20]\n"
     ]
    }
   ],
   "source": [
    "def InOrder(root:TreeNode) -> List:\n",
    "    visited = []\n",
    "    def dfs(root:TreeNode):\n",
    "        if root.left:\n",
    "            dfs(root.left)\n",
    "        visited.append(root)\n",
    "        if root.right:\n",
    "            dfs(root.right)\n",
    "    dfs(root)\n",
    "    return [node.val for node in visited]\n",
    "print(InOrder(fullBST))\n",
    "\n",
    "def InOrder(root:TreeNode) -> List:\n",
    "    visited = []\n",
    "    def dfs(root:TreeNode):\n",
    "        if root is None:\n",
    "            return\n",
    "        dfs(root.left)\n",
    "        visited.append(root)\n",
    "        dfs(root.right)\n",
    "    dfs(root)\n",
    "    return [node.val for node in visited]\n",
    "print(InOrder(fullBST))\n",
    "\n",
    "def InOrder(root:TreeNode) -> List:\n",
    "    visited = []\n",
    "    stack = []\n",
    "    curr = root\n",
    "    # 스택이 비어있지 않거나 현재 노드가 None이 아닌 동안 반복\n",
    "    while stack or curr:\n",
    "        # 현재 노드가 None이 아니면 스택에 추가하고 왼쪽 자식으로 이동\n",
    "        while curr:\n",
    "            stack.append(curr)\n",
    "            curr = curr.left\n",
    "        \n",
    "        # 스택의 마지막 요소를 꺼내서 방문 리스트에 추가\n",
    "        curr = stack.pop(-1)\n",
    "        visited.append(curr)\n",
    "        \n",
    "        # 오른쪽 자식으로 이동\n",
    "        curr = curr.right\n",
    "    return [node.val for node in visited]\n",
    "print(InOrder(fullBST))"
   ]
  },
  {
   "cell_type": "code",
   "execution_count": 36,
   "id": "c8262d30",
   "metadata": {},
   "outputs": [
    {
     "name": "stdout",
     "output_type": "stream",
     "text": [
      "[1, 4, 3, 6, 8, 7, 5, 10, 12, 11, 15, 20, 18, 13, 9]\n",
      "[1, 4, 3, 6, 8, 7, 5, 10, 12, 11, 15, 20, 18, 13, 9]\n",
      "[1, 4, 3, 6, 8, 7, 5, 10, 12, 11, 15, 20, 18, 13, 9]\n"
     ]
    }
   ],
   "source": [
    "def PostOrder(root:TreeNode) -> List:\n",
    "    visited = []\n",
    "    def dfs(root:TreeNode):\n",
    "        if root.left:\n",
    "            dfs(root.left)\n",
    "        if root.right:\n",
    "            dfs(root.right)\n",
    "        visited.append(root)\n",
    "    dfs(root)\n",
    "    return [node.val for node in visited]\n",
    "print(PostOrder(fullBST))\n",
    "\n",
    "def PostOrder(root:TreeNode) -> List:\n",
    "    visited = []\n",
    "    def dfs(root:TreeNode):\n",
    "        if root is None:\n",
    "            return\n",
    "        dfs(root.left)\n",
    "        dfs(root.right)\n",
    "        visited.append(root)\n",
    "    dfs(root)\n",
    "    return [node.val for node in visited]\n",
    "print(PostOrder(fullBST))\n",
    "\n",
    "def PostOrder(root:TreeNode) -> List:\n",
    "    visited = []\n",
    "    stack = [(root, False)]\n",
    "    while stack:\n",
    "        curr, visited_left = stack.pop()\n",
    "        if curr:\n",
    "            if visited_left:\n",
    "                visited.append(curr)\n",
    "            else:\n",
    "                stack.append((curr, True))\n",
    "                stack.append((curr.right, False))\n",
    "                stack.append((curr.left, False))\n",
    "    return [node.val for node in visited]\n",
    "print(PostOrder(fullBST))"
   ]
  },
  {
   "cell_type": "code",
   "execution_count": null,
   "id": "9be996ee",
   "metadata": {},
   "outputs": [],
   "source": []
  }
 ],
 "metadata": {
  "kernelspec": {
   "display_name": "Python 3 (ipykernel)",
   "language": "python",
   "name": "python3"
  },
  "language_info": {
   "codemirror_mode": {
    "name": "ipython",
    "version": 3
   },
   "file_extension": ".py",
   "mimetype": "text/x-python",
   "name": "python",
   "nbconvert_exporter": "python",
   "pygments_lexer": "ipython3",
   "version": "3.10.12"
  }
 },
 "nbformat": 4,
 "nbformat_minor": 5
}
