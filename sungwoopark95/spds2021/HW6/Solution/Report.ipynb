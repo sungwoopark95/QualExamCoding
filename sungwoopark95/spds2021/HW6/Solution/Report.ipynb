{
 "cells": [
  {
   "cell_type": "markdown",
   "id": "ce5f3f50-003e-4068-845c-3056606471cb",
   "metadata": {
    "id": "ce5f3f50-003e-4068-845c-3056606471cb"
   },
   "source": [
    "# HW6 Report\n",
    "\n",
    "## Jeong Hyun Moon\n",
    "\n",
    "## 2021-35791\n"
   ]
  },
  {
   "cell_type": "markdown",
   "id": "6148e9b2-f563-41a3-953b-4f4366844204",
   "metadata": {
    "id": "6148e9b2-f563-41a3-953b-4f4366844204"
   },
   "source": [
    "## Environment\n",
    "\n",
    "At first, I have planned on working on the server. However, when I try to run GPU, there were too many jobs queued and Slurm Partition was not able to get any resources. To double check, I have tried 0 (equivalent for CPU) but the CPU was able to get the space. After waiting for approximately an hour, I have ended up working on this assignment in the Google Colab GPU Server. I have broken up this problem into three separate python notebook and obtained the following results. In order to check whether the code is running as GPU, I have first printed the device, checked the model.parameters(), and outputs to see whether device and values are cpu or cuda:0. For all checkpoint-results, I have found out all of them used cuda:0.\n"
   ]
  },
  {
   "cell_type": "markdown",
   "id": "3c88d483-bed4-473e-9fc5-c5faf98315a0",
   "metadata": {
    "id": "3c88d483-bed4-473e-9fc5-c5faf98315a0"
   },
   "source": [
    "## Problem 1\n",
    "\n",
    "### Script As It Is\n",
    "\n",
    "In order to run the code in appropriate manner, I have started with Script as it is with including the running time. I have included time1 = time.time() in the very beginning of the code and time2 = time.time() at the end of the code. Subtracting the two times, I have obtained the total running time of entire script. Furthermore, I have included train_time = time.time() right after definition of running loss and train_time2 = time.time() right after else clause for when the for clause finish, it would proceed through the else statement marking end of training. Subtracting the two times, I have obtained the following results:\n",
    "\n",
    "- Epoch: 1/5.\n",
    "  - Training loss: 0.488\n",
    "  - Test loss: 0.423\n",
    "  - Test Accuracy: 0.840\n",
    "  - Time: 19.77926993370056\n",
    "\n",
    "- Epoch: 2/5.\n",
    "  - Training loss: 0.373\n",
    "  - Test loss: 0.396\n",
    "  - Test Accuracy: 0.854\n",
    "  - Time: 19.79761290550232\n",
    "\n",
    "- Epoch: 3/5.\n",
    "  - Training loss: 0.339\n",
    "  - Test loss: 0.373\n",
    "  - Test Accuracy: 0.866\n",
    "  - Time: 20.1186466217041\n",
    "\n",
    "- Epoch: 4/5.\n",
    "  - Training loss: 0.316\n",
    "  - Test loss: 0.361\n",
    "  - Test Accuracy: 0.872\n",
    "  - Time: 20.131465196609497\n",
    "\n",
    "- Epoch: 5/5.\n",
    "  - Training loss: 0.297\n",
    "  - Test loss: 0.371\n",
    "  - Test Accuracy: 0.867\n",
    "  - Time: 20.082324266433716\n",
    "\n",
    "- Total time: 118.79080986976624\n",
    "\n",
    "For each Epoch, it took roughly 20 seconds and having an accuracy of mid 80%. For next few trials, I have copied the current script and made adjustment based on what the assignment desired for.\n"
   ]
  },
  {
   "cell_type": "markdown",
   "id": "f71e1e12-893e-4c78-9b1b-26545bebf91a",
   "metadata": {
    "id": "f71e1e12-893e-4c78-9b1b-26545bebf91a"
   },
   "source": [
    "### Change In Batch Sizes\n",
    "\n",
    "The next step for the assignment was to analyze the changes in batch size. In order to do this, one would need to change the following lines of code:\n",
    "\n",
    "- trainloader = torch.utils.data.DataLoader(trainset, batch_size = 32, shuffle = True, num_workers=4)\n",
    "\n",
    "- testloader = torch.utils.data.DataLoader(testset, batch_size = 32, shuffle = True, num_workers=4)\n",
    "\n",
    "In order for this to work, I have changed the batch_size = 32 to batch_size = 16 and batch_size = 64. With these changes, I have obtained the following result for batch size of 16 to be as follows: \n",
    "\n",
    "- Epoch: 1/5.\n",
    "  - Training loss: 0.476\n",
    "  - Test loss: 0.448\n",
    "  - Test Accuracy: 0.837\n",
    "  - Time: 27.752448081970215\n",
    "\n",
    "- Epoch: 2/5.\n",
    "  - Training loss: 0.375\n",
    "  - Test loss: 0.404\n",
    "  - Test Accuracy: 0.855\n",
    "  - Time: 28.701561212539673\n",
    "\n",
    "- Epoch: 3/5.\n",
    "  - Training loss: 0.342\n",
    "  - Test loss: 0.390\n",
    "  - Test Accuracy: 0.860\n",
    "  - Time: 29.306257724761963\n",
    "\n",
    "- Epoch: 4/5.\n",
    "  - Training loss: 0.317\n",
    "  - Test loss: 0.367\n",
    "  - Test Accuracy: 0.868\n",
    "  - Time: 28.63768243789673\n",
    "\n",
    "- Epoch: 5/5.\n",
    "  - Training loss: 0.303\n",
    "  - Test loss: 0.361\n",
    "  - Test Accuracy: 0.874\n",
    "  - Time: 28.957837343215942\n",
    "\n",
    "- Total time: 163.80136346817017\n",
    "\n",
    "For the case of batch size of 64, I have obtained:\n",
    "\n",
    "- Epoch: 1/5.\n",
    "  - Training loss: 0.500\n",
    "  - Test loss: 0.440\n",
    "  - Test Accuracy: 0.843\n",
    "  - Time: 16.528880834579468\n",
    "\n",
    "- Epoch: 2/5.\n",
    "  - Training loss: 0.382\n",
    "  - Test loss: 0.427\n",
    "  - Test Accuracy: 0.849\n",
    "  - Time: 16.736101388931274\n",
    "\n",
    "- Epoch: 3/5.\n",
    "  - Training loss: 0.347\n",
    "  - Test loss: 0.371\n",
    "  - Test Accuracy: 0.863\n",
    "  - Time: 16.673275470733643\n",
    "\n",
    "- Epoch: 4/5.\n",
    "  - Training loss: 0.319\n",
    "  - Test loss: 0.355\n",
    "  - Test Accuracy: 0.873\n",
    "  - Time: 16.656588792800903\n",
    "\n",
    "- Epoch: 5/5.\n",
    "  - Training loss: 0.300\n",
    "  - Test loss: 0.363\n",
    "  - Test Accuracy: 0.867\n",
    "  - Time: 16.606858253479004\n",
    "\n",
    "- Total time: 97.05978083610535\n",
    "\n",
    "As one can see from the above result, as the batch size increases, the time to train and run the entire script decreases. For batch size of 16, it took about 29 seconds for training time, and for batch size of 64, the training took about 17 seconds. However, it appears as if changning the batch size does not seems to affect the test accuracy. Considering training loss and test loss, there appears to be no impact.\n"
   ]
  },
  {
   "cell_type": "markdown",
   "id": "8758f041-16ae-47bc-9618-516584845180",
   "metadata": {
    "id": "8758f041-16ae-47bc-9618-516584845180"
   },
   "source": [
    "### Change in lr\n",
    "\n",
    "For the Learning Rate, the change occurred in following line of code\n",
    "\n",
    "- optimizer = optim.Adam(model.parameters(), lr = 0.001)\n",
    "\n",
    "From above code, I have changed lr = 0.001 to be lr = 0.01 and lr = 0.0001. With the following changes, I have obtained the following result for lr = 0.01 to be as follows: \n",
    "\n",
    "- Epoch: 1/5.\n",
    "  - Training loss: 0.583\n",
    "  - Test loss: 0.535\n",
    "  - Test Accuracy: 0.817\n",
    "  - Time: 20.39034152030945\n",
    "  \n",
    "- Epoch: 2/5.\n",
    "  - Training loss: 0.503\n",
    "  - Test loss: 0.512\n",
    "  - Test Accuracy: 0.826\n",
    "  - Time: 20.72736096382141\n",
    "  \n",
    "- Epoch: 3/5.\n",
    "  - Training loss: 0.486\n",
    "  - Test loss: 0.509\n",
    "  - Test Accuracy: 0.835\n",
    "  - Time: 20.818732261657715\n",
    "  \n",
    "- Epoch: 4/5.\n",
    "  - Training loss: 0.473\n",
    "  - Test loss: 0.548\n",
    "  - Test Accuracy: 0.823\n",
    "  - Time: 20.53863549232483\n",
    "  \n",
    "- Epoch: 5/5.\n",
    "  - Training loss: 0.456\n",
    "  - Test loss: 0.510\n",
    "  - Test Accuracy: 0.834\n",
    "  - Time: 20.832820177078247\n",
    "  \n",
    "- Total time: 119.51724076271057\n",
    "\n",
    "For the case of lr = 0.0001, I have obtained:\n",
    "\n",
    "- Epoch: 1/5.\n",
    "  - Training loss: 0.651\n",
    "  - Test loss: 0.514\n",
    "  - Test Accuracy: 0.815\n",
    "  - Time: 20.479434728622437\n",
    "  \n",
    "- Epoch: 2/5.\n",
    "  - Training loss: 0.455\n",
    "  - Test loss: 0.460\n",
    "  - Test Accuracy: 0.835\n",
    "  - Time: 20.618394374847412\n",
    "\n",
    "- Epoch: 3/5.\n",
    "  - Training loss: 0.416\n",
    "  - Test loss: 0.441\n",
    "  - Test Accuracy: 0.841\n",
    "  - Time: 20.535950422286987\n",
    "\n",
    "- Epoch: 4/5.\n",
    "  - Training loss: 0.392\n",
    "  - Test loss: 0.419\n",
    "  - Test Accuracy: 0.848\n",
    "  - Time: 20.329606533050537\n",
    "\n",
    "- Epoch: 5/5.\n",
    "  - Training loss: 0.374\n",
    "  - Test loss: 0.409\n",
    "  - Test Accuracy: 0.853\n",
    "  - Time: 20.27568006515503\n",
    "\n",
    "- Total time: 118.01114583015442\n",
    "\n",
    "For the LR, it has quite unusual pattern. It appears that lr = 0.001 performs the best among 3, then 0.0001, and lastly 0.01. It appears for both changing in lr has impacted training loss and test loss where both losses increased in 0.01 and 0.0001 compared to lr = 0.001. In terms of time, the time to run was about the same for all three cases.\n"
   ]
  },
  {
   "cell_type": "markdown",
   "id": "660607ac-b8f4-403a-921b-4037652bf2ab",
   "metadata": {
    "id": "660607ac-b8f4-403a-921b-4037652bf2ab"
   },
   "source": [
    "### Change from Adam -> SGD\n",
    "\n",
    "For the last case of optimizer, the change occurred in following line:\n",
    "\n",
    "- optimizer = optim.Adam(model.parameters(), lr = 0.001)\n",
    "\n",
    "\n",
    "From above, optim.Adam changed to optim.SGD. With the change, I have obtained the result to be\n",
    "\n",
    "- Epoch: 1/5.\n",
    "  - Training loss: 1.355\n",
    "  - Test loss: 0.901\n",
    "  - Test Accuracy: 0.726\n",
    "  - Time: 19.296220779418945\n",
    "  \n",
    "- Epoch: 2/5.\n",
    "  - Training loss: 0.774\n",
    "  - Test loss: 0.716\n",
    "  - Test Accuracy: 0.756\n",
    "  - Time: 19.082611083984375\n",
    "  \n",
    "- Epoch: 3/5.\n",
    "  - Training loss: 0.661\n",
    "  - Test loss: 0.647\n",
    "  - Test Accuracy: 0.772\n",
    "  - Time: 19.03814721107483\n",
    "  \n",
    "- Epoch: 4/5.\n",
    "  - Training loss: 0.607\n",
    "  - Test loss: 0.608\n",
    "  - Test Accuracy: 0.780\n",
    "  - Time: 19.375463485717773\n",
    "  \n",
    "- Epoch: 5/5.\n",
    "  - Training loss: 0.572\n",
    "  - Test loss: 0.580\n",
    "  - Test Accuracy: 0.795\n",
    "  - Time: 19.402095079421997\n",
    "  \n",
    "- Total time: 112.22894525527954\n",
    "\n",
    "Changing from Adam to SGD has decreased the run time a little bit. However, both training and test loss increased with change to SGD, and test accuracy has decreased. \n"
   ]
  },
  {
   "cell_type": "markdown",
   "id": "2e0d0e2f-65ae-44ba-94bb-8b94067da29b",
   "metadata": {
    "id": "2e0d0e2f-65ae-44ba-94bb-8b94067da29b"
   },
   "source": [
    "## Problem 2\n",
    "\n",
    "### Analysis1\n",
    "\n",
    "For the result of the run of the general script, I have obtained following result:\n",
    "\n",
    "- Epoch: 1/5\n",
    "    - Training loss: 0.487\n",
    "    - Test loss: 0.430\n",
    "    - Test Accuracy: 0.841\n",
    "\n",
    "- Epoch: 2/5\n",
    "    - Training loss: 0.375\n",
    "    - Test loss: 0.388\n",
    "    - Test Accuracy: 0.860\n",
    "\n",
    "- Epoch: 3/5\n",
    "    - Training loss: 0.340\n",
    "    - Test loss: 0.384\n",
    "    - Test Accuracy: 0.864\n",
    "\n",
    "- Epoch: 4/5\n",
    "    - Training loss: 0.313\n",
    "    - Test loss: 0.370\n",
    "    - Test Accuracy: 0.869\n",
    "\n",
    "- Epoch: 5/5\n",
    "    - Training loss: 0.296\n",
    "    - Test loss: 0.353\n",
    "    - Test Accuracy: 0.877\n",
    "\n",
    "It is possible that I have misunderstood this question. Because nn.sequential does not have way to save intermediate outputs, I have first checked model[0].weight.gradient and model[0].bias.gradient to see how it looks. However, since the question asks for Linear to ReLU, I understood as if these are not used because these were only used for Linear layer. Then, I have checked rather there are any gradient equivalent for the ReLU or model[1], but there does not appear to be any. Then, I have played around with model.parameter()'s param and param.grad, but I found out that these are for the named parameters (weight and bias for the two models). As a result, I have found out that none of the above would work. As a result, I have decided to look from different perspective: saving the intermediate results for each step of the code. This was done using the below code right before ps\n",
    " "
   ]
  },
  {
   "cell_type": "code",
   "execution_count": null,
   "id": "8883f44c-bf02-4603-b3b8-4160681c3983",
   "metadata": {
    "id": "8883f44c-bf02-4603-b3b8-4160681c3983"
   },
   "outputs": [],
   "source": [
    "    output2 = model[0:1].forward(images)\n",
    "    output3 = model[0:2].forward(images)\n",
    "    output4 = model[0:3].forward(images)"
   ]
  },
  {
   "cell_type": "markdown",
   "id": "42e5c704-18d5-490f-9660-6e2cc9fd1f65",
   "metadata": {
    "id": "42e5c704-18d5-490f-9660-6e2cc9fd1f65"
   },
   "source": [
    "I have checked whether output and output4 is same, and it appeared as they give same result. To further check, I have seen if output2 and output3 have equivalentnon-zero value, and it turns out to be the same. Next step was to get gradient using the output2's (First linear output) result. Since there were many trained image, I have added this code: relu0.append(sum(sum(output2>0))). It will first sum up number of non-zero in inner array, and sum all to output array. After adding all of the array, this would save to relu0 for each epoch. At the end of the outer for loop, I have added the following line: outputs.append(sum(relu0)). The reason why I have done above step is related to gradient of ReLU. For ReLU, we have gradient of value 1 if the input(x) is bigger than 0, else 0. Since we have many input points, test2>0 would get all values that are positive meaning gradient will be 1. Summing up all, we would have total values. Because square of 1 is 1, I have not added square in this code to reduce the run time. I have saved it to prob2.csv, and using this csv, I will show the final result."
   ]
  },
  {
   "cell_type": "code",
   "execution_count": 1,
   "id": "e0169205-b1a3-4c19-8103-9058df35ca4e",
   "metadata": {
    "colab": {
     "base_uri": "https://localhost:8080/",
     "height": 466
    },
    "executionInfo": {
     "elapsed": 276,
     "status": "error",
     "timestamp": 1637380788172,
     "user": {
      "displayName": "­문정현 / 학생 / 데이터사이언스학과",
      "photoUrl": "https://lh3.googleusercontent.com/a/default-user=s64",
      "userId": "12935964920098229097"
     },
     "user_tz": -540
    },
    "id": "e0169205-b1a3-4c19-8103-9058df35ca4e",
    "outputId": "6e745046-e800-4faf-9863-73f1a66549f1"
   },
   "outputs": [
    {
     "data": {
      "text/plain": [
       "Text(0.5, 1.0, 'Squared Sum vs Epoch for Gradient of ReLU')"
      ]
     },
     "execution_count": 1,
     "metadata": {},
     "output_type": "execute_result"
    },
    {
     "data": {
      "image/png": "[encoded data removed]",
      "text/plain": [
       "<Figure size 432x288 with 1 Axes>"
      ]
     },
     "metadata": {
      "needs_background": "light"
     },
     "output_type": "display_data"
    }
   ],
   "source": [
    "import matplotlib.pyplot as plt\n",
    "import pandas as pd\n",
    "import numpy as np\n",
    "\n",
    "df = pd.read_csv('prob2.csv')\n",
    "df.drop(['Unnamed: 0'],axis = 1)\n",
    "epoch = df['Epoch']\n",
    "Squared_Sum = df['Squared_Sum']\n",
    "\n",
    "plt.plot(epoch, Squared_Sum)\n",
    "plt.xlabel('Epoch')\n",
    "plt.ylabel('Squared Sum')\n",
    "plt.title('Squared Sum vs Epoch for Gradient of ReLU')"
   ]
  },
  {
   "cell_type": "markdown",
   "id": "31572080-8fa4-4e19-b062-304645547568",
   "metadata": {
    "id": "31572080-8fa4-4e19-b062-304645547568"
   },
   "source": [
    "As can be seen from above graph and the value of Squared_Sum, we can see that as the epoch increases, there are decrease in squared sum. The way I interpret the graph is as the epoch increases, the model will learn more about the data. Looking from this perspective, this would allow the Linear to produce better result in this case it would be having value less than 0 (after Linear transformation occurs). We can also see from the graph that as the epoch increases the steepness of slope is also decreasing. This I think goes same from previous explanation since model learns and adjust every epoch making it less steep.\n"
   ]
  },
  {
   "cell_type": "markdown",
   "id": "0f92ace2-3a66-4f9b-adbc-4c9c41ccad01",
   "metadata": {},
   "source": [
    "## Analysis 2 (Different Approach - Maybe the class method)\n",
    "\n",
    "As I was reading through the Pytorch tools, it appeared as if the hook is one of the ways to save the gradient of the layers. As I was reading throught the hook, it appears as if the registering back hood and saving the gradient input for the ReLu would achieve the gradient squared sum as defined in the class (I may have misunderstood the hook). In order to do so, first, I have defined function for appending the gradient input to list a. After the model is defined, I have registered backward hook to ReLu. By doing so, everytime the model is performed, it would save the gradient value for ReLU to array. Inside the epoch for loop, I have emptied the list, so that the output for each epoch would be the same. Afterwards, I have initialized a variable called value to save the value for squared sum of Gradients. Then, I have iterated the array a in order to get squared sum of gradients per epoch. To be more detailed, it will first iterate through all the runs for the for loop performed in trainloader. Then, it would loop through the batches to obtain the squared sum of gradients for all sum. After for loop is complete, it would be saved in the outputs. I have demonstrated as in code below. Furthrmore, I have plotted the graph of the result afterwards. In the graph, it performed similar to before where as the epoch increases, there are decrease in squared sum of gradients, and the steepness gets less steep as the epoch increases. "
   ]
  },
  {
   "cell_type": "code",
   "execution_count": null,
   "id": "f694ef08-e9ec-46ce-9377-9c7b1ed48325",
   "metadata": {},
   "outputs": [],
   "source": [
    "a = []\n",
    "\n",
    "def hookFunc(module, gradInput, gradOutput):\n",
    "  a.append(gradInput)\n",
    "\n",
    "... # model definintion\n",
    "model[1].register_backward_hook(hookFunc)\n",
    "\n",
    "...\n",
    "\n",
    "# initialize the array for the graph\n",
    "outputs = []\n",
    "\n",
    "... epoch for loop\n",
    "  a = []\n",
    "    \n",
    "... else loop\n",
    "    ## Squared Sum of Gradient\n",
    "    value = 0\n",
    "    # First, go through all of the runs for for loop in trainloader\n",
    "    for i in range(len(a)): \n",
    "      # Then for each batch, add the square sum of gradients \n",
    "      for j in range(len(a[i][0])): \n",
    "        value = value + torch.sum(torch.square(a[i][0][j]))\n",
    "    # Save the gradient value\n",
    "    outputs.append(value)\n"
   ]
  },
  {
   "cell_type": "code",
   "execution_count": 2,
   "id": "8d0f46b5-59d6-49d1-9400-532b2fef6c60",
   "metadata": {},
   "outputs": [
    {
     "data": {
      "text/plain": [
       "Text(0.5, 1.0, 'Squared Sum vs Epoch for Gradient of ReLU')"
      ]
     },
     "execution_count": 2,
     "metadata": {},
     "output_type": "execute_result"
    },
    {
     "data": {
      "image/png": "[encoded data removed]",
      "text/plain": [
       "<Figure size 432x288 with 1 Axes>"
      ]
     },
     "metadata": {
      "needs_background": "light"
     },
     "output_type": "display_data"
    }
   ],
   "source": [
    "import matplotlib.pyplot as plt\n",
    "import pandas as pd\n",
    "import numpy as np\n",
    "\n",
    "df = pd.read_csv('prob2-2.csv')\n",
    "df.drop(['Unnamed: 0'],axis = 1)\n",
    "epoch = df['Epoch']\n",
    "Squared_Sum = df['Squared_Sum']\n",
    "\n",
    "plt.plot(epoch, Squared_Sum)\n",
    "plt.xlabel('Epoch')\n",
    "plt.ylabel('Squared Sum')\n",
    "plt.title('Squared Sum vs Epoch for Gradient of ReLU')"
   ]
  },
  {
   "cell_type": "markdown",
   "id": "49a2ba2b-1545-48cb-b913-a18d03bc9037",
   "metadata": {
    "id": "49a2ba2b-1545-48cb-b913-a18d03bc9037"
   },
   "source": [
    "## Problem 3\n",
    "\n",
    "### Analysis\n",
    "\n",
    "In lecture, we have learned that the place where the gradient resets lies in optimizer.zero_grad(). The following function will make the gradient to be zero. If the function is not called, the gradient will be accumulated throughtout the functions. Before making any changes, I have obtained the following result:\n",
    "\n",
    "- Epoch: 1/5\n",
    "  - Training loss: 0.486\n",
    "  - Test loss: 0.432\n",
    "  - Test Accuracy: 0.841\n",
    "  \n",
    "- Epoch: 2/5\n",
    "  - Training loss: 0.373\n",
    "  - Test loss: 0.400\n",
    "  - Test Accuracy: 0.853\n",
    "  \n",
    "- Epoch: 3/5\n",
    "  - Training loss: 0.336\n",
    "  - Test loss: 0.392\n",
    "  - Test Accuracy: 0.859\n",
    "  \n",
    "- Epoch: 4/5\n",
    "  - Training loss: 0.314\n",
    "  - Test loss: 0.427\n",
    "  - Test Accuracy: 0.851\n",
    "  \n",
    "- Epoch: 5/5 \n",
    "  - Training loss: 0.299\n",
    "  - Test loss: 0.365\n",
    "  - Test Accuracy: 0.871\n",
    "\n",
    "Running the code without optimizer.zero_grad, I have obtained the following result:\n",
    "\n",
    "- Epoch: 1/5\n",
    "  - Training loss: 2.315\n",
    "  - Test loss: 2.668\n",
    "  - Test Accuracy: 0.229\n",
    "  \n",
    "- Epoch: 2/5\n",
    "  - Training loss: 2.715\n",
    "  - Test loss: 2.805\n",
    "  - Test Accuracy: 0.195\n",
    "  \n",
    "- Epoch: 3/5\n",
    "  - Training loss: 2.899\n",
    "  - Test loss: 3.302\n",
    "  - Test Accuracy: 0.233\n",
    "  \n",
    "- Epoch: 4/5\n",
    "  - Training loss: 4.155\n",
    "  - Test loss: 3.258\n",
    "  - Test Accuracy: 0.178\n",
    "  \n",
    "- Epoch: 5/5\n",
    "  - Training loss: 2.956\n",
    "  - Test loss: 3.321\n",
    "  - Test Accuracy: 0.118\n",
    "\n",
    "Comparing the two, one with the optimizer.zero_grad (default) actually has performed much better. While one with optimizer.zero_grad has shown some type of pattern where increasing the epoch increase the test accuracy (for most epochs). On the other hand, one without the zero_grad appears to have decrease in test accuracy as the number of epoch increases.\n"
   ]
  }
 ],
 "metadata": {
  "colab": {
   "collapsed_sections": [
    "3c88d483-bed4-473e-9fc5-c5faf98315a0"
   ],
   "name": "Report.ipynb",
   "provenance": []
  },
  "kernelspec": {
   "display_name": "Python 3",
   "language": "python",
   "name": "python3"
  },
  "language_info": {
   "codemirror_mode": {
    "name": "ipython",
    "version": 3
   },
   "file_extension": ".py",
   "mimetype": "text/x-python",
   "name": "python",
   "nbconvert_exporter": "python",
   "pygments_lexer": "ipython3",
   "version": "3.8.8"
  }
 },
 "nbformat": 4,
 "nbformat_minor": 5
}
