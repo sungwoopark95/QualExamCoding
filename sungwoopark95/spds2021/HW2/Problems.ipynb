{
 "cells": [
  {
   "cell_type": "markdown",
   "id": "5e892355",
   "metadata": {},
   "source": [
    "# P1 스프레드시트 \n",
    "\n",
    "Microsoft Excel과 유사하게 데이터를 저장하고 읽을 수 있는 스프레드시트를 `class Spreadsheet`로 구현하라. `Spreadsheet`의 제약조건은 아래와 같다. \n",
    "\n",
    "* 스프레드시트는 10개의 row, 10개의 column으로 구성된다. Microsoft Excel과 유사하게 column은 알파벳(A, B, ..., J, 혹은 a, b, ..., j)으로, row는 정수(1, 2, 3, ..., 10)로 indexing한다. \n",
    "\n",
    "* 스프레드시트의 각 셀은 `int`, `bool`, `string`을 저장할 수 있다. 이때 `string`은 whitespace 문자(`\\n`, `\\t`, space 등)를 포함하지 않는다고 가정한다. \n",
    "\n",
    "* 생성자는 별도의 입력을 받지 않는다. \n",
    "\n",
    "* `Spreadsheet` object를 `print`할 경우, `Spreadsheet`에 저장된 내용이 출력되어야 한다. 이때 한 row 내의 element 사이는 comma(`,`) 한 개로 구분하고, row 사이는 개행(`\\n`) 한 개로 구분하도록 하여 출력한다. 출력을 보기 좋게 만들기 위해 임의로 whitespace를 추가하여도 된다(예시 참고). \n",
    "\n",
    "`Spreadsheet` class는 `set_value`, `get_value` method를 지원하며, 각각의 기능은 아래와 같다. \n",
    "\n",
    "* `set_value(idx, value)`\n",
    "    - `idx`가 가리키는 스프레드시트의 셀 한 개에 `value` 값을 입력한다. \n",
    "    - `idx`는 string object로, Microsoft Excel과 유사하게 알파벳 + 정수 조합으로 구성된다 (예: `‘A7’`). `value`는 int, bool, 혹은 string이다. \n",
    "    - 해당 셀에 값이 이미 있을 경우 이를 덮어쓴다. 올바르지 않은 값이 인자로 들어올 경우 적합한 `Python built-in exception`을 발생시켜야 한다. `idx`, `value`가 올바르지 않은 타입일 경우 `TypeError`를 발생시킨다. `idx` 값이 올바른 포맷이 아니거나 범위를 벗어날 경우(예: `‘A5C’`, `‘C0’`, `‘F150’`) `IndexError`를 발생시킨다. \n",
    "\n",
    "* `get_value(idx)`\n",
    "    - `idx`가 가리키는 스프레드시트의 셀 한 개에 저장된 값을 반환한다. 값을 입력하지 않은 셀을 참조할 경우 `None`을 반환한다. \n",
    "    - 올바르지 않은 `idx`가 입력될 경우 `set_value` method에서 설명한 바와 동일하게 `Exception`을 발생시킨다. \n",
    "\n",
    "입출력 예시는 아래와 같다. \n",
    "\n",
    "<img src=\"SPDS21-2_HW2-prob1.png\" width=\"75%\" height=\"75%\">"
   ]
  },
  {
   "cell_type": "code",
   "execution_count": 1,
   "id": "89def2ab",
   "metadata": {},
   "outputs": [],
   "source": [
    "class Spreadsheet:\n",
    "    def __init__(self):\n",
    "        self.numrows = 10\n",
    "        self.numcols = 10\n",
    "        self.data = [[None for _ in range(self.numcols)] for _ in range(self.numrows)]\n",
    "        self.possible_cols = [chr(ord(\"A\")+i) for i in range(self.numcols)]\n",
    "        self.possible_rows = [str(i) for i in range(1, self.numrows+1)]\n",
    "        \n",
    "    def _check_valid_index(self, idx):\n",
    "        str_col, str_row = idx[0], idx[1:]\n",
    "        if (str_col not in self.possible_cols) or (str_row not in self.possible_rows):\n",
    "            raise IndexError\n",
    "        col = ord(str_col) - ord('A')\n",
    "        row = int(str_row) - 1\n",
    "        return col, row\n",
    "    \n",
    "    def set_value(self, idx, value):\n",
    "        col, row = self._check_valid_index(idx)\n",
    "        self.data[row][col] = value\n",
    "    \n",
    "    def get_value(self, idx):\n",
    "        col, row = self._check_valid_index(idx)\n",
    "        return self.data[row][col]\n",
    "    \n",
    "    def _get_maxlen(self, col):\n",
    "        default_len = 5\n",
    "        maxlen = 0\n",
    "        for i in range(self.numrows):\n",
    "            cell = self.data[i][col]\n",
    "            maxlen = max(maxlen, len(str(cell)))\n",
    "        \n",
    "        if maxlen < default_len:\n",
    "            return default_len\n",
    "        return maxlen\n",
    "    \n",
    "    def _copy_data(self):\n",
    "        copy = [[None for _ in range(self.numcols)] for _ in range(self.numrows)]\n",
    "        for i in range(self.numrows):\n",
    "            for j in range(self.numcols):\n",
    "                copy[i][j] = self.data[i][j]\n",
    "        return copy\n",
    "    \n",
    "    def __str__(self):\n",
    "        # column별로 maxlen 받아옴\n",
    "        col_maxlens = [self._get_maxlen(col) for col in range(self.numcols)]\n",
    "        copy = self._copy_data()\n",
    "        for i in range(self.numrows):\n",
    "            for j in range(self.numcols):\n",
    "                if copy[i][j] is None:\n",
    "                    copy[i][j] = \" \" * col_maxlens[j]\n",
    "                else:\n",
    "                    item = copy[i][j]\n",
    "                    remaining = col_maxlens[j] - len(str(item))\n",
    "                    copy[i][j] = str(item) + (\" \" * remaining)\n",
    "        return \"\\n\".join([\" , \".join([item for item in row]) for row in copy])"
   ]
  },
  {
   "cell_type": "code",
   "execution_count": 2,
   "id": "c50fd05d",
   "metadata": {},
   "outputs": [],
   "source": [
    "sheet1 = Spreadsheet()"
   ]
  },
  {
   "cell_type": "code",
   "execution_count": 3,
   "id": "43497c27",
   "metadata": {},
   "outputs": [
    {
     "name": "stdout",
     "output_type": "stream",
     "text": [
      "      ,       ,       ,       ,       ,       ,       ,       ,       ,      \n",
      "      ,       ,       ,       ,       ,       ,       ,       ,       ,      \n",
      "      ,       ,       ,       ,       ,       ,       ,       ,       ,      \n",
      "      ,       ,       ,       ,       ,       ,       ,       ,       ,      \n",
      "      ,       ,       ,       ,       ,       ,       ,       ,       ,      \n",
      "      ,       ,       ,       ,       ,       ,       ,       ,       ,      \n",
      "      ,       ,       ,       ,       ,       ,       ,       ,       ,      \n",
      "      ,       ,       ,       ,       ,       ,       ,       ,       ,      \n",
      "      ,       ,       ,       ,       ,       ,       ,       ,       ,      \n",
      "      ,       ,       ,       ,       ,       ,       ,       ,       ,      \n"
     ]
    }
   ],
   "source": [
    "print(sheet1)"
   ]
  },
  {
   "cell_type": "code",
   "execution_count": 4,
   "id": "64eca1fc",
   "metadata": {},
   "outputs": [],
   "source": [
    "sheet1.set_value(\"A3\", 5)\n",
    "sheet1.set_value(\"C1\", True)\n",
    "sheet1.set_value(\"F5\", \"Hello\")"
   ]
  },
  {
   "cell_type": "code",
   "execution_count": 5,
   "id": "aab19b9f",
   "metadata": {},
   "outputs": [
    {
     "name": "stdout",
     "output_type": "stream",
     "text": [
      "      ,       , True  ,       ,       ,       ,       ,       ,       ,      \n",
      "      ,       ,       ,       ,       ,       ,       ,       ,       ,      \n",
      "5     ,       ,       ,       ,       ,       ,       ,       ,       ,      \n",
      "      ,       ,       ,       ,       ,       ,       ,       ,       ,      \n",
      "      ,       ,       ,       ,       , Hello ,       ,       ,       ,      \n",
      "      ,       ,       ,       ,       ,       ,       ,       ,       ,      \n",
      "      ,       ,       ,       ,       ,       ,       ,       ,       ,      \n",
      "      ,       ,       ,       ,       ,       ,       ,       ,       ,      \n",
      "      ,       ,       ,       ,       ,       ,       ,       ,       ,      \n",
      "      ,       ,       ,       ,       ,       ,       ,       ,       ,      \n"
     ]
    }
   ],
   "source": [
    "print(sheet1)"
   ]
  },
  {
   "cell_type": "code",
   "execution_count": 6,
   "id": "c623a40e",
   "metadata": {},
   "outputs": [
    {
     "name": "stdout",
     "output_type": "stream",
     "text": [
      "      ,       , world ,       ,       ,       ,       ,       ,       ,      \n",
      "      ,       ,       ,       ,       ,       ,       ,       ,       ,      \n",
      "5     ,       ,       ,       ,       ,       ,       ,       ,       ,      \n",
      "      ,       ,       ,       ,       ,       ,       ,       ,       ,      \n",
      "      ,       ,       ,       ,       , Hello ,       ,       ,       ,      \n",
      "      ,       ,       ,       ,       ,       ,       ,       ,       ,      \n",
      "      ,       ,       ,       ,       ,       ,       ,       ,       ,      \n",
      "      ,       ,       ,       ,       ,       ,       ,       ,       ,      \n",
      "      ,       ,       ,       ,       ,       ,       ,       ,       ,      \n",
      "      ,       ,       ,       ,       ,       ,       ,       ,       ,      \n",
      "CPU times: user 102 µs, sys: 1 µs, total: 103 µs\n",
      "Wall time: 105 µs\n"
     ]
    }
   ],
   "source": [
    "%%time\n",
    "sheet1.set_value(\"C1\", \"world\")\n",
    "print(sheet1)"
   ]
  },
  {
   "cell_type": "code",
   "execution_count": 7,
   "id": "bbad1dbe",
   "metadata": {},
   "outputs": [],
   "source": [
    "sheet1.get_value(\"J10\")"
   ]
  },
  {
   "cell_type": "code",
   "execution_count": 8,
   "id": "8c5bf858",
   "metadata": {},
   "outputs": [
    {
     "name": "stdout",
     "output_type": "stream",
     "text": [
      "Invalid index\n"
     ]
    }
   ],
   "source": [
    "try:\n",
    "    sheet1.get_value(\"A4C\")\n",
    "except IndexError:\n",
    "    print(\"Invalid index\")"
   ]
  },
  {
   "cell_type": "code",
   "execution_count": 9,
   "id": "610e0762",
   "metadata": {},
   "outputs": [],
   "source": [
    "sheet2 = Spreadsheet()\n",
    "sheet2.get_value(\"A3\")"
   ]
  },
  {
   "cell_type": "markdown",
   "id": "333108a3",
   "metadata": {},
   "source": [
    "# P2 저장 가능한 스프레드시트\n",
    "\n",
    "스프레드시트의 현재 상태를 파일에 저장하고, 추후 불러올 수 있도록 기능을 제공하는 `class PermanentSpreadsheet`를 구현하라. `PermanentSpreadsheet`는 `Spreadsheet`를 상속한 class로 구현한다. 추가로 구현해야 할 method는 아래와 같다.\n",
    "\n",
    "* `export_sheet(filename)`\n",
    "    - 현재 `PermanentSpreadsheet` object의 상태를 `filename` 파일에 저장한다. 포맷은 무관하다. 동일한 이름의 파일이 이미 있을 경우, 해당 파일을 덮어쓴다. `filename`은 string object이며, 다른 타입의 입력이 들어올 경우 `TypeError`를 생성한다. \n",
    "    \n",
    "* `import_sheet(filename)`\n",
    "    - 현재 `PermanentSpreadsheet` object에 저장된 내용을 모두 버리고, 이전에 `export_sheet` method로 `filename` 파일에 저장해 둔 `PermanentSpeadsheet`를 다시 불러온다. \n",
    "    \n",
    "두 method 모두 파일 처리와 관련하여 문제에서 정의하지 않은 에러를 처리할 필요는 없다. 예를 들어 invalid한 `filename`을 사용하는 경우, `import_sheet` 함수 실행 시 `filename` 파일이 없는 경우 등은 테스트하지 않는다. \n",
    "\n",
    "입출력 예시는 아래와 같다.\n",
    "\n",
    "<img src=\"SPDS21-2_HW2-prob2.png\" width=\"75%\" height=\"75%\">"
   ]
  },
  {
   "cell_type": "code",
   "execution_count": 10,
   "id": "42effadb",
   "metadata": {},
   "outputs": [],
   "source": [
    "class PermanentSpreadsheet(Spreadsheet):\n",
    "    def __init__(self):\n",
    "        super().__init__()\n",
    "    \n",
    "    def export_sheet(self, file_name):\n",
    "        with open(file_name, \"w\") as f:\n",
    "            for i in range(self.numrows):\n",
    "                for j in range(self.numcols):\n",
    "                    if self.data[i][j] is None:\n",
    "                        shape = str((i, j, None))\n",
    "                    else:\n",
    "                        if type(self.data[i][j]) == int:\n",
    "                            dtype = \"int\"\n",
    "                        elif type(self.data[i][j]) == bool:\n",
    "                            dtype = \"bool\"\n",
    "                        elif type(self.data[i][j]) == str:\n",
    "                            dtype = \"str\"\n",
    "                        shape = str((i, j, self.data[i][j], dtype))\n",
    "                    f.write(f\"{shape}\\n\")\n",
    "    \n",
    "    def import_sheet(self, file_name):\n",
    "        data = [[None for _ in range(self.numcols)] for _ in range(self.numrows)]\n",
    "        with open(file_name, \"r\") as f:\n",
    "            lines = f.readlines()\n",
    "        lines = [line.strip() for line in lines]\n",
    "        for line in lines:\n",
    "            shape = line[1:-1].split(', ')\n",
    "            i, j = int(shape[0]), int(shape[1])\n",
    "            if shape[2] == \"None\":\n",
    "                continue\n",
    "            else:\n",
    "                if shape[-1] == \"'int'\":\n",
    "                    data[i][j] = int(shape[2])\n",
    "                elif shape[-1] == \"'bool'\":\n",
    "                    if shape[2] == 'True':\n",
    "                        data[i][j] = True\n",
    "                    else:\n",
    "                        data[i][j] = False\n",
    "                elif shape[-1] == \"'str'\":\n",
    "                    data[i][j] = shape[2][1:-1]\n",
    "        self.data = data"
   ]
  },
  {
   "cell_type": "code",
   "execution_count": 11,
   "id": "c52a7710",
   "metadata": {},
   "outputs": [
    {
     "name": "stdout",
     "output_type": "stream",
     "text": [
      "      ,       , True  ,       ,       ,       ,       ,       ,       ,      \n",
      "      ,       ,       ,       ,       ,       ,       ,       ,       ,      \n",
      "5     ,       ,       ,       ,       ,       ,       ,       ,       ,      \n",
      "      ,       ,       ,       ,       ,       ,       ,       ,       ,      \n",
      "      ,       ,       ,       ,       , Hello ,       ,       ,       ,      \n",
      "      ,       ,       ,       ,       ,       ,       ,       ,       ,      \n",
      "      ,       ,       ,       ,       ,       ,       ,       ,       ,      \n",
      "      ,       ,       ,       ,       ,       ,       ,       ,       ,      \n",
      "      ,       ,       ,       ,       ,       ,       ,       ,       ,      \n",
      "      ,       ,       ,       ,       ,       ,       ,       ,       ,      \n"
     ]
    }
   ],
   "source": [
    "sheet = PermanentSpreadsheet()\n",
    "sheet.set_value(\"A3\", 5)\n",
    "sheet.set_value(\"C1\", True)\n",
    "sheet.set_value(\"F5\", \"Hello\")\n",
    "print(sheet)"
   ]
  },
  {
   "cell_type": "code",
   "execution_count": 12,
   "id": "c554e1d9",
   "metadata": {},
   "outputs": [
    {
     "name": "stdout",
     "output_type": "stream",
     "text": [
      "CPU times: user 656 µs, sys: 1.54 ms, total: 2.2 ms\n",
      "Wall time: 1.23 ms\n"
     ]
    }
   ],
   "source": [
    "%%time\n",
    "sheet.export_sheet(\"sheet1.dump\")"
   ]
  },
  {
   "cell_type": "code",
   "execution_count": 13,
   "id": "d5962b41",
   "metadata": {},
   "outputs": [
    {
     "name": "stdout",
     "output_type": "stream",
     "text": [
      "CPU times: user 607 µs, sys: 503 µs, total: 1.11 ms\n",
      "Wall time: 814 µs\n"
     ]
    }
   ],
   "source": [
    "%%time\n",
    "sheet.import_sheet(\"sheet1.dump\")"
   ]
  },
  {
   "cell_type": "code",
   "execution_count": 14,
   "id": "a6ae6bf6",
   "metadata": {},
   "outputs": [
    {
     "name": "stdout",
     "output_type": "stream",
     "text": [
      "      ,       , True  ,       ,       ,       ,       ,       ,       ,      \n",
      "      ,       ,       ,       ,       ,       ,       ,       ,       ,      \n",
      "5     ,       ,       ,       ,       ,       ,       ,       ,       ,      \n",
      "      ,       ,       ,       ,       ,       ,       ,       ,       ,      \n",
      "      ,       ,       ,       ,       , Hello ,       ,       ,       ,      \n",
      "      ,       ,       ,       ,       ,       ,       ,       ,       ,      \n",
      "      ,       ,       ,       ,       ,       ,       ,       ,       ,      \n",
      "      ,       ,       ,       ,       ,       ,       ,       ,       ,      \n",
      "      ,       ,       ,       ,       ,       ,       ,       ,       ,      \n",
      "      ,       ,       ,       ,       ,       ,       ,       ,       ,      \n"
     ]
    }
   ],
   "source": [
    "print(sheet)"
   ]
  },
  {
   "cell_type": "markdown",
   "id": "0ba1c752",
   "metadata": {},
   "source": [
    "# P3 고급 스프레드시트 \n",
    "\n",
    "다른 셀 한 개를 참조하는 `lambda` function을 특정 셀에 입력할 수 있도록 기능을 제공하는 class `SmartSpreadsheet`를 구현하라. `SmartSpreadsheet`는 `Spreadsheet`를 상속한 class로 구현한다. 추가로 구현해야할 method는 아래와 같다.\n",
    "\n",
    "* `set_function(idx, function, operand_idx)`\n",
    "    -  `idx`가 가리키는 스프레드시트의 셀 한 개에 함수 `function`을 입력한다. \n",
    "    - `function`은 입력 값 한 개를 받는 python `lambda` function이다. `operand_idx`는 `function`의 인자로 들어갈 셀의 index이다 (예: `‘B3’`). \n",
    "    - 함수 실행 이후 `get_value(idx)`를 실행하거나 `SmartSpreadsheet` object 자체를 `print`할 경우, `operand_idx` 셀 값을 `function`에 인자로 넣어 얻은 계산 결과를 `idx` 셀 값으로 사용한다. \n",
    "    \n",
    "함수 구현 시 아래와 같은 사항을 유의하여야 한다. \n",
    "\n",
    "* 셀 참조는 Microsoft Excel과 마찬가지로, 참조하는 셀의 값이 변하면 수식 계산 결과도 바뀌어야 한다. 즉 `operand_idx` 셀의 값을 바꾼 후 `idx` 셀의 값을 확인하면 바뀐 값을 반영한 계산 결과를 반환해야 한다. \n",
    "\n",
    "* `operand_idx` 셀도 다른 셀을 참조하는 셀일 수 있음을 유의하여야 한다. \n",
    "\n",
    "* 입력한 `lambda` function은 `int`, `bool`, 혹은 `string`을 입력으로 받아 `int`, `bool`, 혹은 `string`을 반환 하는 함수라고 가정한다. `lambda` function이 잘못된 타입의 인자/반환값을 사용하거나 `Exception`을 발생시키는 경우는 없다고 가정한다. \n",
    "\n",
    "* 순환 참조는 일어나지 않는다고 가정한다. 예를 들어 `A3`이 `A1`의 값을 참조하고 `A1`이 `A3`을 참조하는 경우는 없다고 가정한다. \n",
    "\n",
    "* 문제 2와 문제 3은 별개이다. `SmartSpreadsheet`에 대해 `import_sheet`, `export_sheet` method를 구현할 필요는 없다. \n",
    "\n",
    "입출력 예시는 아래와 같다. \n",
    "\n",
    "<img src=\"SPDS21-2_HW2-prob3.png\" width=\"75%\" height=\"75%\">"
   ]
  },
  {
   "cell_type": "code",
   "execution_count": 15,
   "id": "3b53741f",
   "metadata": {},
   "outputs": [],
   "source": [
    "class SmartSpreadsheet(Spreadsheet):\n",
    "    def __init__(self):\n",
    "        super().__init__()\n",
    "        self.operation_indices = dict()\n",
    "        self.operations = dict()\n",
    "        \n",
    "    def set_function(self, idx, function, operand_idx):\n",
    "        operand_col, operand_row = self._check_valid_index(operand_idx)\n",
    "        new_value = function(self.data[operand_row][operand_col])\n",
    "        new_col, new_row = self._check_valid_index(idx)\n",
    "        self.data[new_row][new_col] = new_value\n",
    "        \n",
    "        if operand_idx not in self.operation_indices:\n",
    "            self.operation_indices[(operand_row, operand_col)] = [(new_row, new_col)]\n",
    "            self.operations[(operand_row, operand_col)] = function\n",
    "        else:\n",
    "            self.operation_indices[(operand_row, operand_col)].append((new_row, new_col))\n",
    "        print(self.operations)\n",
    "    \n",
    "    def set_value(self, idx, value):\n",
    "        col, row = self._check_valid_index(idx)\n",
    "        self.data[row][col] = value\n",
    "        ## update the value\n",
    "        if (row, col) in self.operation_indices:\n",
    "            for indices in self.operation_indices[(row, col)]:\n",
    "                op_row, op_col = indices\n",
    "                func = self.operations[(row, col)]\n",
    "                self.data[op_row][op_col] = func(value)"
   ]
  },
  {
   "cell_type": "code",
   "execution_count": 16,
   "id": "9c03623c",
   "metadata": {},
   "outputs": [
    {
     "name": "stdout",
     "output_type": "stream",
     "text": [
      "5     , True  , cat   ,       ,       ,       ,       ,       ,       ,      \n",
      "      ,       ,       ,       ,       ,       ,       ,       ,       ,      \n",
      "      ,       ,       ,       ,       ,       ,       ,       ,       ,      \n",
      "      ,       ,       ,       ,       ,       ,       ,       ,       ,      \n",
      "      ,       ,       ,       ,       ,       ,       ,       ,       ,      \n",
      "      ,       ,       ,       ,       ,       ,       ,       ,       ,      \n",
      "      ,       ,       ,       ,       ,       ,       ,       ,       ,      \n",
      "      ,       ,       ,       ,       ,       ,       ,       ,       ,      \n",
      "      ,       ,       ,       ,       ,       ,       ,       ,       ,      \n",
      "      ,       ,       ,       ,       ,       ,       ,       ,       ,      \n"
     ]
    }
   ],
   "source": [
    "sheet = SmartSpreadsheet()\n",
    "sheet.set_value(\"A1\", 5)\n",
    "sheet.set_value(\"B1\", True)\n",
    "sheet.set_value(\"C1\", \"cat\")\n",
    "print(sheet)"
   ]
  },
  {
   "cell_type": "code",
   "execution_count": 17,
   "id": "6c771856",
   "metadata": {},
   "outputs": [
    {
     "name": "stdout",
     "output_type": "stream",
     "text": [
      "{(0, 0): <function <lambda> at 0x1047e5f30>}\n",
      "5     , True  , cat   ,       ,       ,       ,       ,       ,       ,      \n",
      "6     ,       ,       ,       ,       ,       ,       ,       ,       ,      \n",
      "      ,       ,       ,       ,       ,       ,       ,       ,       ,      \n",
      "      ,       ,       ,       ,       ,       ,       ,       ,       ,      \n",
      "      ,       ,       ,       ,       ,       ,       ,       ,       ,      \n",
      "      ,       ,       ,       ,       ,       ,       ,       ,       ,      \n",
      "      ,       ,       ,       ,       ,       ,       ,       ,       ,      \n",
      "      ,       ,       ,       ,       ,       ,       ,       ,       ,      \n",
      "      ,       ,       ,       ,       ,       ,       ,       ,       ,      \n",
      "      ,       ,       ,       ,       ,       ,       ,       ,       ,      \n"
     ]
    }
   ],
   "source": [
    "sheet.set_function(\"A2\", lambda x: x+1, \"A1\")\n",
    "print(sheet)"
   ]
  },
  {
   "cell_type": "code",
   "execution_count": 18,
   "id": "278866ff",
   "metadata": {},
   "outputs": [
    {
     "name": "stdout",
     "output_type": "stream",
     "text": [
      "{(0, 0): <function <lambda> at 0x1047e5f30>, (0, 1): <function <lambda> at 0x1047e6320>}\n",
      "5     , True  , cat   ,       ,       ,       ,       ,       ,       ,      \n",
      "6     , -1    ,       ,       ,       ,       ,       ,       ,       ,      \n",
      "      ,       ,       ,       ,       ,       ,       ,       ,       ,      \n",
      "      ,       ,       ,       ,       ,       ,       ,       ,       ,      \n",
      "      ,       ,       ,       ,       ,       ,       ,       ,       ,      \n",
      "      ,       ,       ,       ,       ,       ,       ,       ,       ,      \n",
      "      ,       ,       ,       ,       ,       ,       ,       ,       ,      \n",
      "      ,       ,       ,       ,       ,       ,       ,       ,       ,      \n",
      "      ,       ,       ,       ,       ,       ,       ,       ,       ,      \n",
      "      ,       ,       ,       ,       ,       ,       ,       ,       ,      \n"
     ]
    }
   ],
   "source": [
    "sheet.set_function(\"B2\", lambda x: -1 if x else 1, \"B1\")\n",
    "print(sheet)"
   ]
  },
  {
   "cell_type": "code",
   "execution_count": 19,
   "id": "0816aae1",
   "metadata": {},
   "outputs": [
    {
     "name": "stdout",
     "output_type": "stream",
     "text": [
      "{(0, 0): <function <lambda> at 0x1047e5f30>, (0, 1): <function <lambda> at 0x1047e6320>, (0, 2): <function <lambda> at 0x1047e4ca0>}\n",
      "5     , True  , cat   ,       ,       ,       ,       ,       ,       ,      \n",
      "6     , -1    , cat?  ,       ,       ,       ,       ,       ,       ,      \n",
      "      ,       ,       ,       ,       ,       ,       ,       ,       ,      \n",
      "      ,       ,       ,       ,       ,       ,       ,       ,       ,      \n",
      "      ,       ,       ,       ,       ,       ,       ,       ,       ,      \n",
      "      ,       ,       ,       ,       ,       ,       ,       ,       ,      \n",
      "      ,       ,       ,       ,       ,       ,       ,       ,       ,      \n",
      "      ,       ,       ,       ,       ,       ,       ,       ,       ,      \n",
      "      ,       ,       ,       ,       ,       ,       ,       ,       ,      \n",
      "      ,       ,       ,       ,       ,       ,       ,       ,       ,      \n"
     ]
    }
   ],
   "source": [
    "sheet.set_function(\"C2\", lambda x: x + '?', \"C1\")\n",
    "print(sheet)"
   ]
  },
  {
   "cell_type": "code",
   "execution_count": 20,
   "id": "eb918fe7",
   "metadata": {},
   "outputs": [
    {
     "name": "stdout",
     "output_type": "stream",
     "text": [
      "{(0, 0): <function <lambda> at 0x1047e5f30>, (0, 1): <function <lambda> at 0x1047e6320>, (0, 2): <function <lambda> at 0x1047e4ca0>, (1, 2): <function <lambda> at 0x1047e6710>}\n",
      "5     , True  , cat   ,       ,       ,       ,       ,       ,       ,      \n",
      "6     , -1    , cat?  ,       ,       ,       ,       ,       ,       ,      \n",
      "      ,       , cat?! ,       ,       ,       ,       ,       ,       ,      \n",
      "      ,       ,       ,       ,       ,       ,       ,       ,       ,      \n",
      "      ,       ,       ,       ,       ,       ,       ,       ,       ,      \n",
      "      ,       ,       ,       ,       ,       ,       ,       ,       ,      \n",
      "      ,       ,       ,       ,       ,       ,       ,       ,       ,      \n",
      "      ,       ,       ,       ,       ,       ,       ,       ,       ,      \n",
      "      ,       ,       ,       ,       ,       ,       ,       ,       ,      \n",
      "      ,       ,       ,       ,       ,       ,       ,       ,       ,      \n"
     ]
    }
   ],
   "source": [
    "sheet.set_function(\"C3\", lambda x: x + '!', \"C2\")\n",
    "print(sheet)"
   ]
  },
  {
   "cell_type": "code",
   "execution_count": 21,
   "id": "dc76f551",
   "metadata": {},
   "outputs": [
    {
     "name": "stdout",
     "output_type": "stream",
     "text": [
      "4     , True  , cat   ,       ,       ,       ,       ,       ,       ,      \n",
      "5     , -1    , cat?  ,       ,       ,       ,       ,       ,       ,      \n",
      "      ,       , cat?! ,       ,       ,       ,       ,       ,       ,      \n",
      "      ,       ,       ,       ,       ,       ,       ,       ,       ,      \n",
      "      ,       ,       ,       ,       ,       ,       ,       ,       ,      \n",
      "      ,       ,       ,       ,       ,       ,       ,       ,       ,      \n",
      "      ,       ,       ,       ,       ,       ,       ,       ,       ,      \n",
      "      ,       ,       ,       ,       ,       ,       ,       ,       ,      \n",
      "      ,       ,       ,       ,       ,       ,       ,       ,       ,      \n",
      "      ,       ,       ,       ,       ,       ,       ,       ,       ,      \n"
     ]
    }
   ],
   "source": [
    "sheet.set_value(\"A1\", 4)\n",
    "print(sheet)"
   ]
  },
  {
   "cell_type": "code",
   "execution_count": 22,
   "id": "9f047502",
   "metadata": {},
   "outputs": [
    {
     "name": "stdout",
     "output_type": "stream",
     "text": [
      "4     , False , cat   ,       ,       ,       ,       ,       ,       ,      \n",
      "5     , 1     , cat?  ,       ,       ,       ,       ,       ,       ,      \n",
      "      ,       , cat?! ,       ,       ,       ,       ,       ,       ,      \n",
      "      ,       ,       ,       ,       ,       ,       ,       ,       ,      \n",
      "      ,       ,       ,       ,       ,       ,       ,       ,       ,      \n",
      "      ,       ,       ,       ,       ,       ,       ,       ,       ,      \n",
      "      ,       ,       ,       ,       ,       ,       ,       ,       ,      \n",
      "      ,       ,       ,       ,       ,       ,       ,       ,       ,      \n",
      "      ,       ,       ,       ,       ,       ,       ,       ,       ,      \n",
      "      ,       ,       ,       ,       ,       ,       ,       ,       ,      \n"
     ]
    }
   ],
   "source": [
    "sheet.set_value(\"B1\", False)\n",
    "print(sheet)"
   ]
  },
  {
   "cell_type": "code",
   "execution_count": 23,
   "id": "1259c720",
   "metadata": {},
   "outputs": [
    {
     "name": "stdout",
     "output_type": "stream",
     "text": [
      "4     , False , dog   ,       ,       ,       ,       ,       ,       ,      \n",
      "5     , 1     , dog?  ,       ,       ,       ,       ,       ,       ,      \n",
      "      ,       , cat?! ,       ,       ,       ,       ,       ,       ,      \n",
      "      ,       ,       ,       ,       ,       ,       ,       ,       ,      \n",
      "      ,       ,       ,       ,       ,       ,       ,       ,       ,      \n",
      "      ,       ,       ,       ,       ,       ,       ,       ,       ,      \n",
      "      ,       ,       ,       ,       ,       ,       ,       ,       ,      \n",
      "      ,       ,       ,       ,       ,       ,       ,       ,       ,      \n",
      "      ,       ,       ,       ,       ,       ,       ,       ,       ,      \n",
      "      ,       ,       ,       ,       ,       ,       ,       ,       ,      \n"
     ]
    }
   ],
   "source": [
    "sheet.set_value(\"C1\", \"dog\")\n",
    "print(sheet)"
   ]
  },
  {
   "cell_type": "code",
   "execution_count": 24,
   "id": "9ab7a542",
   "metadata": {},
   "outputs": [
    {
     "name": "stdout",
     "output_type": "stream",
     "text": [
      "4     , False , dog    ,       ,       ,       ,       ,       ,       ,      \n",
      "5     , 1     , human  ,       ,       ,       ,       ,       ,       ,      \n",
      "      ,       , human! ,       ,       ,       ,       ,       ,       ,      \n",
      "      ,       ,        ,       ,       ,       ,       ,       ,       ,      \n",
      "      ,       ,        ,       ,       ,       ,       ,       ,       ,      \n",
      "      ,       ,        ,       ,       ,       ,       ,       ,       ,      \n",
      "      ,       ,        ,       ,       ,       ,       ,       ,       ,      \n",
      "      ,       ,        ,       ,       ,       ,       ,       ,       ,      \n",
      "      ,       ,        ,       ,       ,       ,       ,       ,       ,      \n",
      "      ,       ,        ,       ,       ,       ,       ,       ,       ,      \n"
     ]
    }
   ],
   "source": [
    "sheet.set_value(\"C2\", \"human\")\n",
    "print(sheet)"
   ]
  },
  {
   "cell_type": "code",
   "execution_count": null,
   "id": "ce2e715e",
   "metadata": {},
   "outputs": [],
   "source": []
  },
  {
   "cell_type": "code",
   "execution_count": null,
   "id": "adc95dc5",
   "metadata": {},
   "outputs": [],
   "source": []
  }
 ],
 "metadata": {
  "kernelspec": {
   "display_name": "Python 3 (ipykernel)",
   "language": "python",
   "name": "python3"
  },
  "language_info": {
   "codemirror_mode": {
    "name": "ipython",
    "version": 3
   },
   "file_extension": ".py",
   "mimetype": "text/x-python",
   "name": "python",
   "nbconvert_exporter": "python",
   "pygments_lexer": "ipython3",
   "version": "3.9.16"
  }
 },
 "nbformat": 4,
 "nbformat_minor": 5
}
