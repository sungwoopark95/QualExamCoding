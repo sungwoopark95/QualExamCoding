{
 "cells": [
  {
   "cell_type": "code",
   "execution_count": 1,
   "id": "02e46148",
   "metadata": {},
   "outputs": [],
   "source": [
    "from typing import List, Dict, Set, Tuple"
   ]
  },
  {
   "cell_type": "markdown",
   "id": "5eee452b",
   "metadata": {},
   "source": [
    "# P1. 소인수분해\n",
    "\n",
    "자연수 한 개를 입력으로 받아 이를 소인수분해한 결과를 반환하는 함수 `prime_factorizer`를 작성하라. \n",
    "\n",
    "소인수분해한 결과는 (소수, 지수)의 tuple을 담은 list로 반환하며, 리스트 내 tuple의 순서는 소수 크기의 오름차 순으로 정렬하여야 한다. \n",
    "\n",
    "실행 예시는 다음과 같다.\n",
    "\n",
    "<img src=\"SPDS21-2_HW1-prob1.png\" width=\"75%\" height=\"75%\">"
   ]
  },
  {
   "cell_type": "code",
   "execution_count": 2,
   "id": "1db04358",
   "metadata": {},
   "outputs": [],
   "source": [
    "def prime_factorizer(num:int):\n",
    "    def is_prime(x:int):\n",
    "        \"\"\"\n",
    "        function such that returns if x is a prime number or not.\n",
    "        \"\"\"\n",
    "        import math\n",
    "        if x == 1:\n",
    "            return False\n",
    "        \n",
    "        for i in range(2, int(math.sqrt(x))+1):\n",
    "            if x % i == 0:\n",
    "                return False\n",
    "        \n",
    "        return True\n",
    "    \n",
    "    def my_primes(x:int):\n",
    "        \"\"\"\n",
    "        function such that returns a list of all prime numbers less than or equal to the input.\n",
    "        \"\"\"\n",
    "        return [i for i in range(1, x+1) if is_prime(i)]\n",
    "    \n",
    "    ans = []\n",
    "    for prime in my_primes(num):\n",
    "        power = 0\n",
    "        while num % prime == 0:\n",
    "            power += 1\n",
    "            num = num // prime\n",
    "        if power > 0:\n",
    "            ans.append((prime, power))\n",
    "        if num == 1:\n",
    "            break\n",
    "\n",
    "    return ans"
   ]
  },
  {
   "cell_type": "code",
   "execution_count": 3,
   "id": "8d5e338c",
   "metadata": {},
   "outputs": [
    {
     "data": {
      "text/plain": [
       "[(2, 1)]"
      ]
     },
     "execution_count": 3,
     "metadata": {},
     "output_type": "execute_result"
    }
   ],
   "source": [
    "prime_factorizer(2)"
   ]
  },
  {
   "cell_type": "code",
   "execution_count": 4,
   "id": "c0e797ef",
   "metadata": {},
   "outputs": [
    {
     "data": {
      "text/plain": [
       "[(2, 3), (3, 1)]"
      ]
     },
     "execution_count": 4,
     "metadata": {},
     "output_type": "execute_result"
    }
   ],
   "source": [
    "prime_factorizer(24)"
   ]
  },
  {
   "cell_type": "code",
   "execution_count": 5,
   "id": "17bdc68c",
   "metadata": {},
   "outputs": [
    {
     "data": {
      "text/plain": [
       "[(2, 1), (3, 1), (5, 1)]"
      ]
     },
     "execution_count": 5,
     "metadata": {},
     "output_type": "execute_result"
    }
   ],
   "source": [
    "prime_factorizer(30)"
   ]
  },
  {
   "cell_type": "markdown",
   "id": "4db88a56",
   "metadata": {},
   "source": [
    "# P2. 리스트 합치기 \n",
    "\n",
    "`Python`의 list는 다른 list를 원소로 가질 수 있으며, 이와 같은 list를 nested list라고 부른다. 아래는 정수 원소를 가지는 nested list의 구성 예시이다. \n",
    "\n",
    "```py\n",
    "[1, 2, 3] \n",
    "[1, [2, 3], [[4]]] \n",
    "[[[1], 3], [[4, 2], 5], 6, [[7]]] \n",
    "```\n",
    "\n",
    "위와 같은 정수 nested list를 입력으로 받아 저장된 모든 정수를 합쳐서 반환하는 함수 `list_accumulator`를 작성하라. \n",
    "\n",
    "실행 예시는 다음과 같다. \n",
    "\n",
    "<img src=\"SPDS21-2_HW1-prob2.png\" width=\"75%\" height=\"75%\">"
   ]
  },
  {
   "cell_type": "code",
   "execution_count": 6,
   "id": "dfc05801",
   "metadata": {},
   "outputs": [],
   "source": [
    "def list_accumulator(arr:List):\n",
    "    def flatten(l):\n",
    "        values = []\n",
    "        def recursion(x):\n",
    "            if isinstance(x, int):\n",
    "                values.append(x)\n",
    "                return\n",
    "            for item in x:\n",
    "                recursion(item)\n",
    "        recursion(l)\n",
    "        return values\n",
    "    flattened = flatten(arr)\n",
    "    print(flattened)\n",
    "    return sum(flattened)"
   ]
  },
  {
   "cell_type": "code",
   "execution_count": 7,
   "id": "4dd2613b",
   "metadata": {},
   "outputs": [
    {
     "name": "stdout",
     "output_type": "stream",
     "text": [
      "[1, 2, 3]\n",
      "6\n",
      "[1, 2, 3, 4]\n",
      "10\n",
      "[1, 3, 4, 2, 5, 6, 7]\n",
      "28\n"
     ]
    }
   ],
   "source": [
    "list1 = [1, 2, 3]\n",
    "print(list_accumulator(list1))\n",
    "\n",
    "list2 = [1, [2, 3], [[4]]]\n",
    "print(list_accumulator(list2))\n",
    "\n",
    "list3 = [[[1], 3], [[4, 2], 5], 6, [[7]]]\n",
    "print(list_accumulator(list3))"
   ]
  },
  {
   "cell_type": "markdown",
   "id": "c57e7f33",
   "metadata": {},
   "source": [
    "# P3. 문자열 찾기 \n",
    "\n",
    "문장 내에서 단어의 등장 위치를 찾는 함수 `find_word`를 작성하라. 문장에서 단어는 공백, 쉼표(,), 및 마침표(.)로 구분된다. \n",
    "\n",
    "또한, 단어가 일치함을 확인할 때 대소문자는 구분하지 않는다. \n",
    "\n",
    "주어진 단어가 문장 내에서 몇 번째 단어로 등장하는지 그 위치들을 구해 정수의 리스트로 반환한다 (위치는 0부터 시작한다). \n",
    "\n",
    "<img src=\"SPDS21-2_HW1-prob3.png\">"
   ]
  },
  {
   "cell_type": "code",
   "execution_count": 8,
   "id": "f2e5309f",
   "metadata": {},
   "outputs": [],
   "source": [
    "def find_word(s:str, target:str):\n",
    "    split = []\n",
    "    i, j = 0, 0\n",
    "    while i < len(s) and j < len(s):\n",
    "        while s[j] != ' ' and s[j] != ',' and s[j] != '.':\n",
    "            j += 1\n",
    "        word = s[i:j]\n",
    "        split.append(word.lower())\n",
    "        if s[j] == ' ':\n",
    "            i = j+1\n",
    "        else:\n",
    "            i = j+2\n",
    "        j = i+1\n",
    "    print(split)\n",
    "    \n",
    "    ans = []\n",
    "    for i, item in enumerate(split):\n",
    "        if target.lower() == item:\n",
    "            ans.append(i)\n",
    "            \n",
    "    return ans"
   ]
  },
  {
   "cell_type": "code",
   "execution_count": 9,
   "id": "36ef7b55",
   "metadata": {},
   "outputs": [],
   "source": [
    "s = \"Some feelings are shallow, some feelings are deep. Some make us smile, some make us weep.\""
   ]
  },
  {
   "cell_type": "code",
   "execution_count": 10,
   "id": "16242448",
   "metadata": {},
   "outputs": [
    {
     "name": "stdout",
     "output_type": "stream",
     "text": [
      "['some', 'feelings', 'are', 'shallow', 'some', 'feelings', 'are', 'deep', 'some', 'make', 'us', 'smile', 'some', 'make', 'us', 'weep']\n"
     ]
    },
    {
     "data": {
      "text/plain": [
       "[1, 5]"
      ]
     },
     "execution_count": 10,
     "metadata": {},
     "output_type": "execute_result"
    }
   ],
   "source": [
    "find_word(s, \"feelings\")"
   ]
  },
  {
   "cell_type": "code",
   "execution_count": 11,
   "id": "ccff5f4c",
   "metadata": {},
   "outputs": [
    {
     "name": "stdout",
     "output_type": "stream",
     "text": [
      "['some', 'feelings', 'are', 'shallow', 'some', 'feelings', 'are', 'deep', 'some', 'make', 'us', 'smile', 'some', 'make', 'us', 'weep']\n"
     ]
    },
    {
     "data": {
      "text/plain": [
       "[1, 5]"
      ]
     },
     "execution_count": 11,
     "metadata": {},
     "output_type": "execute_result"
    }
   ],
   "source": [
    "find_word(s, \"FeelInGs\")"
   ]
  },
  {
   "cell_type": "code",
   "execution_count": 12,
   "id": "c3482706",
   "metadata": {},
   "outputs": [
    {
     "name": "stdout",
     "output_type": "stream",
     "text": [
      "['some', 'feelings', 'are', 'shallow', 'some', 'feelings', 'are', 'deep', 'some', 'make', 'us', 'smile', 'some', 'make', 'us', 'weep']\n"
     ]
    },
    {
     "data": {
      "text/plain": [
       "[0, 4, 8, 12]"
      ]
     },
     "execution_count": 12,
     "metadata": {},
     "output_type": "execute_result"
    }
   ],
   "source": [
    "find_word(s, \"some\")"
   ]
  },
  {
   "cell_type": "code",
   "execution_count": 13,
   "id": "d306c827",
   "metadata": {},
   "outputs": [
    {
     "name": "stdout",
     "output_type": "stream",
     "text": [
      "['some', 'feelings', 'are', 'shallow', 'some', 'feelings', 'are', 'deep', 'some', 'make', 'us', 'smile', 'some', 'make', 'us', 'weep']\n"
     ]
    },
    {
     "data": {
      "text/plain": [
       "[]"
      ]
     },
     "execution_count": 13,
     "metadata": {},
     "output_type": "execute_result"
    }
   ],
   "source": [
    "find_word(s, \"python\")"
   ]
  },
  {
   "cell_type": "code",
   "execution_count": null,
   "id": "5a0036bc",
   "metadata": {},
   "outputs": [],
   "source": []
  }
 ],
 "metadata": {
  "kernelspec": {
   "display_name": "Python 3 (ipykernel)",
   "language": "python",
   "name": "python3"
  },
  "language_info": {
   "codemirror_mode": {
    "name": "ipython",
    "version": 3
   },
   "file_extension": ".py",
   "mimetype": "text/x-python",
   "name": "python",
   "nbconvert_exporter": "python",
   "pygments_lexer": "ipython3",
   "version": "3.10.12"
  }
 },
 "nbformat": 4,
 "nbformat_minor": 5
}
