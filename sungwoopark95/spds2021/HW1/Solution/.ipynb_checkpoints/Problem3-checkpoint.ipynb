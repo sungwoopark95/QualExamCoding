{
 "cells": [
  {
   "cell_type": "markdown",
   "id": "21a379fc-547f-447f-ac34-bee686d63f5b",
   "metadata": {},
   "source": [
    "# 문제 3: 문자열 찾기\n",
    "문장 내에서 단어의 등장 위치를 찾는 함수 find word 를 작성하라. 문장에서 단어는 공백, 쉼표(,), 및 마침표\n",
    "(.)로 구분된다. 또한, 단어가 일치함을 확인할 때 대소문자는 구분하지 않는다. 주어진 단어가 문장 내에서\n",
    "몇번째 단어로 등장하는지 그 위치들을 구해 정수의 리스트로 반환한다 (위치는 0부터 시작한다).\n",
    "\n",
    "Write a function find_word that finds the position of a word in a sentence. Words in sentence is seperated by spaces and punctuatiions. Also, the input is not case-sensitive when we check if the word is in sentence. Print out the result when the word is in the sentence. "
   ]
  },
  {
   "cell_type": "code",
   "execution_count": 1,
   "id": "ca325f68-cc7b-49bf-bfb5-fedfa7a19372",
   "metadata": {},
   "outputs": [],
   "source": [
    "def find_word(s,word):\n",
    "    \"\"\"\n",
    "    find_word 함수 구현\n",
    "    The program takes in two inputs: sentence and word.\n",
    "    If the word is in the string, it will output list of word location.\n",
    "    \n",
    "    Program will first make both inputs into lowercase so that it will allow case sensitivity.\n",
    "    In terms of sentence, for we are given, sentence is divided by period,\n",
    "    comma, and spaces, delimiters will be replaced by spaces.\n",
    "    Then, sentence will be spliced into array by each word.\n",
    "    \n",
    "    Then, the program will run for loop to identify location of word in the sentence.\n",
    "    \"\"\"\n",
    "    \n",
    "    # Replace comma and period to be whitespace so that the only delimeter for split will be whitespace.\n",
    "    # Make both word and sentence to take care of case-sensitivity\n",
    "    # Split the sentence to be the list so that it will contain word by element/position\n",
    "    s = s.replace(\".\",\" \").replace(\",\",\" \").lower().split()\n",
    "    word = word.lower()\n",
    "    \n",
    "    # Intialize result\n",
    "    result =[]\n",
    "    # Initialize count variable to find the location of the word in sentence\n",
    "    count = 0\n",
    "\n",
    "    # Iterate through for loop to check the word in sentence\n",
    "    for i in s:\n",
    "        # if the word is in the for loop, add the element to the list\n",
    "        if i == word:\n",
    "            result.append(count)\n",
    "        count = count + 1\n",
    "  \n",
    "    return result"
   ]
  },
  {
   "cell_type": "code",
   "execution_count": 2,
   "id": "1c5ce82a-72fa-4738-b359-c4d3fd8c1a98",
   "metadata": {},
   "outputs": [],
   "source": [
    "s=\"Some feelings are shallow, some feelings are deep. Some make us smile, some make us weep.\""
   ]
  },
  {
   "cell_type": "code",
   "execution_count": 3,
   "id": "2c7155a7-6634-47b3-a54a-75583d7ae5af",
   "metadata": {},
   "outputs": [
    {
     "name": "stdout",
     "output_type": "stream",
     "text": [
      "[1, 5]\n",
      "[1, 5]\n",
      "[]\n",
      "[0, 4, 8, 12]\n",
      "[]\n"
     ]
    }
   ],
   "source": [
    "print(find_word(s,\"Feelings\"))\n",
    "print(find_word(s,\"FeeliNGs\"))\n",
    "print(find_word(s,\"som\"))\n",
    "print(find_word(s,\"somE\"))\n",
    "print(find_word(s,\"python\"))"
   ]
  }
 ],
 "metadata": {
  "kernelspec": {
   "display_name": "Python 3",
   "language": "python",
   "name": "python3"
  },
  "language_info": {
   "codemirror_mode": {
    "name": "ipython",
    "version": 3
   },
   "file_extension": ".py",
   "mimetype": "text/x-python",
   "name": "python",
   "nbconvert_exporter": "python",
   "pygments_lexer": "ipython3",
   "version": "3.8.8"
  }
 },
 "nbformat": 4,
 "nbformat_minor": 5
}
