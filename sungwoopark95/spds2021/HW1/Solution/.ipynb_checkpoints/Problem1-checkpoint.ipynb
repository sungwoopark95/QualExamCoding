{
 "cells": [
  {
   "cell_type": "markdown",
   "id": "963a28b9-ae9f-4d9d-b9b6-dfc184586a3a",
   "metadata": {},
   "source": [
    "# 문제 1: 소인수분해\n",
    "자연수 한 개를 입력으로 받아 이를 소인수분해한 결과를 반환하는 함수 prime factorizer를 작성하라. 소인\n",
    "수분해한 결과는 (소수, 지수)의 tuple을 담은 list로 반환하며, 리스트 내 tuple의 순서는 소수 크기의 오름차\n",
    "순으로 정렬하여야 한다. 실행 예시는 다음과 같다\n",
    "\n",
    "Write a function prime factorizer that takes a natural number as a input and returns the result of prime factorization of the input. Print the result as a list containing tuples of (base, exponent) and sort the tuples in the list of ascending order."
   ]
  },
  {
   "cell_type": "code",
   "execution_count": 1,
   "id": "5df462ea-7d2f-4973-b7ad-5627af456b85",
   "metadata": {},
   "outputs": [],
   "source": [
    "def prime_factorizer(n):\n",
    "    \"\"\" \n",
    "    prime_factorizer 함수 구현\n",
    "    \n",
    "    The program takes in a input: integer value.\n",
    "    Program will output tuples of base-exponent pair in form of list in ascending order.\n",
    "    \n",
    "    Program will find all prime factors of an input number n.\n",
    "    Then, the program will count number of occurrence of each prime.\n",
    "    Then, the program will return the result in the expected format.\n",
    "    \"\"\"\n",
    "    # Initialize the list, so that it will save all prime factors of the input\n",
    "    prime = []\n",
    "    # Set value of a number to be a smallest prime\n",
    "    x = 2\n",
    "    # Run while Loop until the value becomes 1\n",
    "    while n > 1:\n",
    "        # If module of a number is 0, it means number is factor\n",
    "        while n % x == 0:\n",
    "            prime.append(x)\n",
    "            n = n / x \n",
    "        x = x + 1\n",
    "    \n",
    "    # Initialize result\n",
    "    result = []\n",
    "    \n",
    "    # Run While loop if not empty  \n",
    "    if len(prime) > 0:\n",
    "        # Initialize value to be smallest prime\n",
    "        x = 2\n",
    "        # Run the while loop until the value is bigger than biggest prime number\n",
    "        while x <= max(prime):\n",
    "            # Count number of occurrence\n",
    "            val = prime.count(x)\n",
    "            # if the prime exist, append to result\n",
    "            if val > 0:\n",
    "                tup = (x, val)\n",
    "                result.append(tup)\n",
    "            x = x + 1\n",
    "        \n",
    "\n",
    "    return result"
   ]
  },
  {
   "cell_type": "code",
   "execution_count": 2,
   "id": "1db45295-5ef3-4bf8-af6e-acfd6b23753b",
   "metadata": {},
   "outputs": [
    {
     "name": "stdout",
     "output_type": "stream",
     "text": [
      "[]\n",
      "[(2, 1)]\n",
      "[(2, 3), (3, 1)]\n",
      "[(2, 1), (3, 1), (5, 1)]\n",
      "[(2, 3), (3, 1), (5, 1)]\n",
      "[(2, 3), (5, 3)]\n"
     ]
    }
   ],
   "source": [
    "print(prime_factorizer(1))\n",
    "print(prime_factorizer(2))\n",
    "print(prime_factorizer(24))\n",
    "print(prime_factorizer(30))\n",
    "print(prime_factorizer(120))\n",
    "print(prime_factorizer(1000))"
   ]
  },
  {
   "cell_type": "code",
   "execution_count": 3,
   "id": "10708a11-e9ac-487e-99ac-657bb699dd79",
   "metadata": {},
   "outputs": [
    {
     "name": "stdout",
     "output_type": "stream",
     "text": [
      "<class 'list'>\n",
      "<class 'list'>\n",
      "<class 'list'>\n",
      "<class 'list'>\n",
      "<class 'list'>\n",
      "<class 'list'>\n"
     ]
    }
   ],
   "source": [
    "print(type(prime_factorizer(1)))\n",
    "print(type(prime_factorizer(2)))\n",
    "print(type(prime_factorizer(24)))\n",
    "print(type(prime_factorizer(30)))\n",
    "print(type(prime_factorizer(120)))\n",
    "print(type(prime_factorizer(1000)))"
   ]
  },
  {
   "cell_type": "code",
   "execution_count": 4,
   "id": "cd5fd1dc-cb41-4154-a7b0-98add719c7eb",
   "metadata": {},
   "outputs": [
    {
     "name": "stdout",
     "output_type": "stream",
     "text": [
      "<class 'list'>\n",
      "<class 'tuple'>\n",
      "<class 'tuple'>\n",
      "<class 'tuple'>\n",
      "<class 'tuple'>\n",
      "<class 'tuple'>\n"
     ]
    }
   ],
   "source": [
    "print(type(prime_factorizer(1)))\n",
    "print(type(prime_factorizer(2)[0]))\n",
    "print(type(prime_factorizer(24)[0]))\n",
    "print(type(prime_factorizer(30)[0]))\n",
    "print(type(prime_factorizer(120)[0]))\n",
    "print(type(prime_factorizer(1000)[0]))"
   ]
  },
  {
   "cell_type": "code",
   "execution_count": 2,
   "id": "6928c6f4-e986-4726-bf37-81132f282330",
   "metadata": {},
   "outputs": [
    {
     "name": "stdout",
     "output_type": "stream",
     "text": [
      "[(3, 2), (11, 1), (101, 1)]\n"
     ]
    }
   ],
   "source": [
    "print(prime_factorizer(9999))"
   ]
  }
 ],
 "metadata": {
  "kernelspec": {
   "display_name": "Python 3",
   "language": "python",
   "name": "python3"
  },
  "language_info": {
   "codemirror_mode": {
    "name": "ipython",
    "version": 3
   },
   "file_extension": ".py",
   "mimetype": "text/x-python",
   "name": "python",
   "nbconvert_exporter": "python",
   "pygments_lexer": "ipython3",
   "version": "3.8.8"
  }
 },
 "nbformat": 4,
 "nbformat_minor": 5
}
