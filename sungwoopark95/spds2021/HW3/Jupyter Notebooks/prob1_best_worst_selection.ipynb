{
 "cells": [
  {
   "cell_type": "code",
   "execution_count": 2,
   "id": "a4999946-b0af-4a1b-bd72-4cbdbe2efec3",
   "metadata": {
    "id": "a4999946-b0af-4a1b-bd72-4cbdbe2efec3"
   },
   "outputs": [],
   "source": [
    "# I have copied the class code\n",
    "def bubble_sort(l):\n",
    "    def swap(i,j):\n",
    "        # first save the first element\n",
    "        t = l[i]\n",
    "        # save the second element to first \n",
    "        l[i] = l[j]\n",
    "        # save the first element to where the second element was\n",
    "        l[j] = t\n",
    "        return\n",
    "    n = len(l) - 1\n",
    "    for i in range(n,0,-1):\n",
    "        for j in range(i):\n",
    "            if (l[j] >= l[j+1]):\n",
    "                swap(j,j+1)\n",
    "    return l\n",
    "\n",
    "def insertion_sort(l):\n",
    "    n = len(l)\n",
    "    for j in range(1,n):\n",
    "        key = l[j]\n",
    "        i = j-1\n",
    "        while ((i>=0) and (key < l[i])):\n",
    "            l[i+1] = l[i]\n",
    "            i-=1\n",
    "        l[i+1] = key\n",
    "    return l\n",
    "\n",
    "def selection_sort(l):\n",
    "    def swap(i,j):\n",
    "        t=l[i]\n",
    "        l[i] = l[j]\n",
    "        l[j] = t\n",
    "        return\n",
    "    n = len(l)\n",
    "    for i in range(0, n-1):\n",
    "        s = i\n",
    "        swap_flag = False\n",
    "        for j in range(i+1, n):\n",
    "            if (l[s] >= l[j]):\n",
    "                s = j\n",
    "                swap_flag = True\n",
    "        swap(i,s) if swap_flag else None  \n",
    "    return l\n",
    "\n",
    "def merge_sort(left, right):\n",
    "    len_left, len_right = len(left), len(right)\n",
    "    i_left, i_right = 0,0\n",
    "    l=[]\n",
    "    while ((i_left < len_left) and (i_right < len_right)):\n",
    "        if (left[i_left] < right[i_right]):\n",
    "            l.append(left[i_left])\n",
    "            i_left +=1\n",
    "        else:\n",
    "            l.append(right[i_right])\n",
    "            i_right +=1\n",
    "    while (i_left < len_left):\n",
    "        l.append(left[i_left])\n",
    "        i_left +=1\n",
    "    while (i_right < len_right):\n",
    "        l.append(right[i_right])\n",
    "        i_right +=1\n",
    "    return l\n",
    "\n",
    "def partition(l, low, high):\n",
    "    def swap(i,j):\n",
    "        t = l[i]\n",
    "        l[i] = l[j]\n",
    "        l[j] = t\n",
    "        return\n",
    "    \n",
    "    p = l[low]\n",
    "    m = low\n",
    "    for j in range(low + 1, high + 1):\n",
    "        if (l[j] < p):\n",
    "            m+=1\n",
    "            swap(j,m)\n",
    "    swap(low, m)\n",
    "    return m\n",
    "\n",
    "def quick_sort(l):\n",
    "    def qs(l, low, high, n):\n",
    "        if (low < high):\n",
    "            pivot_idx = partition(l, low, high)\n",
    "            qs(l, low, pivot_idx - 1, n+1)\n",
    "            qs(l, pivot_idx + 1, high, n + 1)\n",
    "        return l\n",
    "    qs(l, 0 , len(l) - 1, 0)\n",
    "    return l\n",
    "\n",
    "\n",
    "def counting_sort(l,m):\n",
    "    c = [0] * (m + 1)\n",
    "    for i in l:\n",
    "        c[i] += 1\n",
    "    \n",
    "    for j in range(1, m + 1):\n",
    "        c[j] = c[j-1] + c[j]\n",
    "    \n",
    "    n = len(l)\n",
    "    t = [0] * n\n",
    "    for i in range(n-1,-1,-1):\n",
    "        j = l[i]\n",
    "        t[c[j] - 1] = j\n",
    "        c[j] = c[j] - 1\n",
    "    for i in range(0,n):\n",
    "        l[i] = t[i]\n",
    "    return l\n",
    "\n",
    "def convert(l):\n",
    "    new = []\n",
    "    for i in range(len(l)):\n",
    "        key = str(l[i])\n",
    "        while len(key) != 3:\n",
    "            key = '0' + key\n",
    "        new.append(key)\n",
    "    l = new.copy()\n",
    "    return l\n",
    "\n",
    "def radix_sort(l,d):\n",
    "    for r in range(0,d):\n",
    "        c = [0] * 10\n",
    "        m = d - r - 1\n",
    "        for i in l:\n",
    "            #key = int(str(i)[m])\n",
    "            # convert so that it will be all in format of three digit\n",
    "            keys = str(i)\n",
    "            while len(keys) != 3:\n",
    "                keys = '0' + keys\n",
    "            key = int(keys[m])\n",
    "            c[key] += 1\n",
    "        for j in range(1,10):\n",
    "            c[j] = c[j-1] + c[j]\n",
    "        n = len(l)\n",
    "        t = [0] * n\n",
    "        for i in range(n-1,-1,-1):\n",
    "            #key = int(str(l[i])[m])\n",
    "            # convert so that it will be all in format of three digit\n",
    "            keys = str(i)\n",
    "            while len(keys) != 3:\n",
    "                keys = '0' + keys\n",
    "            key = int(keys[m])\n",
    "            t[c[key] - 1] = l[i]\n",
    "            c[key] = c[key] - 1\n",
    "        for i in range(0,n):\n",
    "            l[i] = t[i]\n",
    "        return l"
   ]
  },
  {
   "cell_type": "code",
   "execution_count": 3,
   "id": "f0d9a0c4-6554-4f39-9a49-2876a39109f3",
   "metadata": {
    "id": "f0d9a0c4-6554-4f39-9a49-2876a39109f3"
   },
   "outputs": [],
   "source": [
    "import random\n",
    "from time import perf_counter\n",
    "import numpy as np\n",
    "import pandas as pd"
   ]
  },
  {
   "cell_type": "code",
   "execution_count": 4,
   "id": "8bfb2bf2-398a-4706-9d2f-834a74d440a8",
   "metadata": {
    "id": "8bfb2bf2-398a-4706-9d2f-834a74d440a8"
   },
   "outputs": [],
   "source": [
    "random.randint(0,999)\n",
    "random.randrange(0,999)\n",
    "t1 = perf_counter()\n",
    "t2 = perf_counter()\n",
    "elapsed = t2 - t1"
   ]
  },
  {
   "cell_type": "code",
   "execution_count": 5,
   "id": "638b02bd-16f1-4c97-8f87-a53e9586b1f3",
   "metadata": {
    "id": "638b02bd-16f1-4c97-8f87-a53e9586b1f3"
   },
   "outputs": [],
   "source": [
    "# worst case\n",
    "b1 = []\n",
    "i1 = []\n",
    "s1 = []\n",
    "m1 = []\n",
    "q1 = []\n",
    "c1 = []\n",
    "r1 = []"
   ]
  },
  {
   "cell_type": "markdown",
   "id": "ac4d098a-6900-4819-8804-5879fb615671",
   "metadata": {
    "id": "ac4d098a-6900-4819-8804-5879fb615671"
   },
   "source": [
    "- Bubble Sort\n",
    "    - Best  = sorted\n",
    "    - Worst = reverse-sorted\n",
    "- Insertion Sort\n",
    "    - Best  = sorted\n",
    "    - Worst = reverse-sorted\n",
    "- Selection Sort\n",
    "    - Best = Sorted\n",
    "    - Worst = First is largest and the rest is in order\n",
    "- Merge Sort\n",
    "    - Best = Sorted\n",
    "    - Worst = \n",
    "- Quick Sort =\n",
    "    - Best = When Partition process always picks the middle element as pivot\n",
    "    - Worst = When Partition process always picks greatest or smallest element as pivot\n",
    "        - When the N elements are already in ascending order\n",
    "- Counting Sort\n",
    "    - Best = when all elements are same\n",
    "    - Worst = when data is skewed and range is large\n",
    "- Radix Sort\n",
    "    - Best = All elements have the same number of digits\n",
    "    - Worst = Only one element which has significantly large number of digits"
   ]
  },
  {
   "cell_type": "code",
   "execution_count": 6,
   "id": "c372466d-4c10-412d-998c-90893f57bd03",
   "metadata": {
    "id": "c372466d-4c10-412d-998c-90893f57bd03"
   },
   "outputs": [],
   "source": [
    "length = [1, 10, 100, 1000, 10000, 100000]"
   ]
  },
  {
   "cell_type": "markdown",
   "id": "867cf8e5-f2a5-4832-a35f-7c0490780bf2",
   "metadata": {
    "id": "867cf8e5-f2a5-4832-a35f-7c0490780bf2"
   },
   "source": [
    "### Worst Case"
   ]
  },
  {
   "cell_type": "markdown",
   "id": "a3734aa9-5605-424a-b1c5-a1626dd32d0f",
   "metadata": {
    "id": "a3734aa9-5605-424a-b1c5-a1626dd32d0f"
   },
   "source": [
    "#### Select\n",
    "- First is largest and rest is sorted"
   ]
  },
  {
   "cell_type": "code",
   "execution_count": 7,
   "id": "1ddd6ae2-5f72-4c1a-bd0f-273338cbad74",
   "metadata": {
    "colab": {
     "base_uri": "https://localhost:8080/"
    },
    "id": "1ddd6ae2-5f72-4c1a-bd0f-273338cbad74",
    "outputId": "d5752435-769b-46d3-d2f5-41f177cdaf68"
   },
   "outputs": [
    {
     "name": "stdout",
     "output_type": "stream",
     "text": [
      "1\n",
      "10\n",
      "100\n",
      "1000\n",
      "10000\n",
      "100000\n"
     ]
    }
   ],
   "source": [
    "for i in length:\n",
    "    print(i)\n",
    "    a = []\n",
    "    # create list of numbers\n",
    "    for j in range(i):\n",
    "        a.append(random.randint(0,999))\n",
    "    # Sort array of random integer\n",
    "    a.sort()\n",
    "    a1 = a.copy()\n",
    "    a = [a[len(a) - 1]]\n",
    "    for i in range(len(a1) - 1):\n",
    "        a.append(a1[i])\n",
    "    t1 = perf_counter()\n",
    "    x = selection_sort(a)\n",
    "    t2 = perf_counter()\n",
    "    elapsed = t2 - t1\n",
    "    s1.append(elapsed)"
   ]
  },
  {
   "cell_type": "code",
   "execution_count": 15,
   "id": "GAvNSaLrkvE9",
   "metadata": {
    "id": "GAvNSaLrkvE9"
   },
   "outputs": [],
   "source": [
    "df = pd.DataFrame(list(zip(length, s1)),\n",
    "              columns=['Length','Select'])"
   ]
  },
  {
   "cell_type": "code",
   "execution_count": 16,
   "id": "Dga_ASoBkvHb",
   "metadata": {
    "colab": {
     "base_uri": "https://localhost:8080/",
     "height": 260
    },
    "id": "Dga_ASoBkvHb",
    "outputId": "cd181394-8e76-4b3d-bbc7-685273995bb2"
   },
   "outputs": [
    {
     "data": {
      "text/html": [
       "<div>\n",
       "<style scoped>\n",
       "    .dataframe tbody tr th:only-of-type {\n",
       "        vertical-align: middle;\n",
       "    }\n",
       "\n",
       "    .dataframe tbody tr th {\n",
       "        vertical-align: top;\n",
       "    }\n",
       "\n",
       "    .dataframe thead th {\n",
       "        text-align: right;\n",
       "    }\n",
       "</style>\n",
       "<table border=\"1\" class=\"dataframe\">\n",
       "  <thead>\n",
       "    <tr style=\"text-align: right;\">\n",
       "      <th></th>\n",
       "      <th>Length</th>\n",
       "      <th>Select</th>\n",
       "    </tr>\n",
       "  </thead>\n",
       "  <tbody>\n",
       "    <tr>\n",
       "      <th>0</th>\n",
       "      <td>1</td>\n",
       "      <td>0.000001</td>\n",
       "    </tr>\n",
       "    <tr>\n",
       "      <th>1</th>\n",
       "      <td>10</td>\n",
       "      <td>0.000008</td>\n",
       "    </tr>\n",
       "    <tr>\n",
       "      <th>2</th>\n",
       "      <td>100</td>\n",
       "      <td>0.000324</td>\n",
       "    </tr>\n",
       "    <tr>\n",
       "      <th>3</th>\n",
       "      <td>1000</td>\n",
       "      <td>0.034057</td>\n",
       "    </tr>\n",
       "    <tr>\n",
       "      <th>4</th>\n",
       "      <td>10000</td>\n",
       "      <td>3.492145</td>\n",
       "    </tr>\n",
       "    <tr>\n",
       "      <th>5</th>\n",
       "      <td>100000</td>\n",
       "      <td>349.366087</td>\n",
       "    </tr>\n",
       "  </tbody>\n",
       "</table>\n",
       "</div>"
      ],
      "text/plain": [
       "   Length      Select\n",
       "0       1    0.000001\n",
       "1      10    0.000008\n",
       "2     100    0.000324\n",
       "3    1000    0.034057\n",
       "4   10000    3.492145\n",
       "5  100000  349.366087"
      ]
     },
     "execution_count": 16,
     "metadata": {},
     "output_type": "execute_result"
    }
   ],
   "source": [
    "df"
   ]
  },
  {
   "cell_type": "code",
   "execution_count": 17,
   "id": "YtK7Tf85kvKa",
   "metadata": {
    "id": "YtK7Tf85kvKa"
   },
   "outputs": [],
   "source": [
    "df.to_csv('best-s.csv')"
   ]
  },
  {
   "cell_type": "code",
   "execution_count": 18,
   "id": "9_MtTD6Qazk7",
   "metadata": {
    "colab": {
     "base_uri": "https://localhost:8080/"
    },
    "id": "9_MtTD6Qazk7",
    "outputId": "882497cd-cba8-4e18-ceb0-d8b077881a67"
   },
   "outputs": [
    {
     "name": "stdout",
     "output_type": "stream",
     "text": [
      "1\n",
      "10\n",
      "100\n",
      "1000\n",
      "10000\n",
      "100000\n"
     ]
    }
   ],
   "source": [
    "s2 = []\n",
    "for i in length:\n",
    "    print(i)\n",
    "    a = []\n",
    "    # create list of numbers\n",
    "    for j in range(i):\n",
    "        a.append(random.randint(0,999))\n",
    "    # Sort array of random integer\n",
    "    a.sort(reverse=True)\n",
    "    t1 = perf_counter()\n",
    "    x = selection_sort(a)\n",
    "    t2 = perf_counter()\n",
    "    elapsed = t2 - t1\n",
    "    s2.append(elapsed)"
   ]
  },
  {
   "cell_type": "code",
   "execution_count": 19,
   "id": "AGxPsHhwa5rA",
   "metadata": {
    "colab": {
     "base_uri": "https://localhost:8080/",
     "height": 260
    },
    "id": "AGxPsHhwa5rA",
    "outputId": "53213258-0103-4cdd-db72-16c06a2c5860"
   },
   "outputs": [
    {
     "data": {
      "text/html": [
       "<div>\n",
       "<style scoped>\n",
       "    .dataframe tbody tr th:only-of-type {\n",
       "        vertical-align: middle;\n",
       "    }\n",
       "\n",
       "    .dataframe tbody tr th {\n",
       "        vertical-align: top;\n",
       "    }\n",
       "\n",
       "    .dataframe thead th {\n",
       "        text-align: right;\n",
       "    }\n",
       "</style>\n",
       "<table border=\"1\" class=\"dataframe\">\n",
       "  <thead>\n",
       "    <tr style=\"text-align: right;\">\n",
       "      <th></th>\n",
       "      <th>Length</th>\n",
       "      <th>Select</th>\n",
       "    </tr>\n",
       "  </thead>\n",
       "  <tbody>\n",
       "    <tr>\n",
       "      <th>0</th>\n",
       "      <td>1</td>\n",
       "      <td>0.001014</td>\n",
       "    </tr>\n",
       "    <tr>\n",
       "      <th>1</th>\n",
       "      <td>10</td>\n",
       "      <td>0.000009</td>\n",
       "    </tr>\n",
       "    <tr>\n",
       "      <th>2</th>\n",
       "      <td>100</td>\n",
       "      <td>0.000354</td>\n",
       "    </tr>\n",
       "    <tr>\n",
       "      <th>3</th>\n",
       "      <td>1000</td>\n",
       "      <td>0.038350</td>\n",
       "    </tr>\n",
       "    <tr>\n",
       "      <th>4</th>\n",
       "      <td>10000</td>\n",
       "      <td>3.806596</td>\n",
       "    </tr>\n",
       "    <tr>\n",
       "      <th>5</th>\n",
       "      <td>100000</td>\n",
       "      <td>384.613145</td>\n",
       "    </tr>\n",
       "  </tbody>\n",
       "</table>\n",
       "</div>"
      ],
      "text/plain": [
       "   Length      Select\n",
       "0       1    0.001014\n",
       "1      10    0.000009\n",
       "2     100    0.000354\n",
       "3    1000    0.038350\n",
       "4   10000    3.806596\n",
       "5  100000  384.613145"
      ]
     },
     "execution_count": 19,
     "metadata": {},
     "output_type": "execute_result"
    }
   ],
   "source": [
    "df2 = pd.DataFrame(list(zip(length, s2)),\n",
    "              columns=['Length','Select'])\n",
    "df2"
   ]
  },
  {
   "cell_type": "code",
   "execution_count": 20,
   "id": "AiG4kMMCa-dC",
   "metadata": {
    "id": "AiG4kMMCa-dC"
   },
   "outputs": [],
   "source": [
    "df.to_csv('worst-s.csv')"
   ]
  },
  {
   "cell_type": "code",
   "execution_count": null,
   "id": "02596cc6-06d7-481a-80b9-a35c7b85f880",
   "metadata": {},
   "outputs": [],
   "source": []
  }
 ],
 "metadata": {
  "colab": {
   "collapsed_sections": [],
   "name": "prob1_best/worst-selection.ipynb",
   "provenance": []
  },
  "kernelspec": {
   "display_name": "Python 3",
   "language": "python",
   "name": "python3"
  },
  "language_info": {
   "codemirror_mode": {
    "name": "ipython",
    "version": 3
   },
   "file_extension": ".py",
   "mimetype": "text/x-python",
   "name": "python",
   "nbconvert_exporter": "python",
   "pygments_lexer": "ipython3",
   "version": "3.8.8"
  }
 },
 "nbformat": 4,
 "nbformat_minor": 5
}
