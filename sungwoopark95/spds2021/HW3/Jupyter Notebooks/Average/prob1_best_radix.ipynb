{
  "nbformat": 4,
  "nbformat_minor": 5,
  "metadata": {
    "kernelspec": {
      "display_name": "Python 3",
      "language": "python",
      "name": "python3"
    },
    "language_info": {
      "codemirror_mode": {
        "name": "ipython",
        "version": 3
      },
      "file_extension": ".py",
      "mimetype": "text/x-python",
      "name": "python",
      "nbconvert_exporter": "python",
      "pygments_lexer": "ipython3",
      "version": "3.8.8"
    },
    "colab": {
      "name": "prob1_best-radix.ipynb",
      "provenance": [],
      "collapsed_sections": []
    }
  },
  "cells": [
    {
      "cell_type": "code",
      "metadata": {
        "id": "xgqWNkQ4OLeT"
      },
      "source": [
        "def radix_sort(l,d):\n",
        "  for r in range(0,d):\n",
        "    c = [0] * 10\n",
        "    m = d - r - 1\n",
        "    for i in l:\n",
        "      #key = int(str(i)[m])\n",
        "      # obtain length\n",
        "      length = len(str(i))\n",
        "      # if same, then not worry\n",
        "      if length == d:\n",
        "        key = int(str(i)[m])\n",
        "      else:\n",
        "        k = length - r - 1\n",
        "        # if k is negative means out of bounds so 0\n",
        "        if k < 0:\n",
        "          key = 0\n",
        "        else:\n",
        "          key = int(str(i)[k])\n",
        "      c[key] += 1\n",
        "    for j in range(1,10):\n",
        "      c[j] = c[j-1] + c[j]\n",
        "    n = len(l)\n",
        "    t = [0] * n\n",
        "    for i in range(n-1,-1,-1):\n",
        "      #key = int(str(l[i])[m])\n",
        "      length = len(str(l[i]))\n",
        "      if length == d:\n",
        "        key = int(str(l[i])[m])\n",
        "      else:\n",
        "        k = length - r - 1\n",
        "        # if k is negative means out of bounds so 0\n",
        "        if k < 0:\n",
        "          key = 0\n",
        "        else:\n",
        "          key = int(str(l[i])[k])\n",
        "      t[c[key] - 1] = l[i]\n",
        "      c[key] = c[key] - 1\n",
        "    for i in range(0,n):\n",
        "      l[i] = t[i]\n",
        "  return l"
      ],
      "id": "xgqWNkQ4OLeT",
      "execution_count": 10,
      "outputs": []
    },
    {
      "cell_type": "code",
      "metadata": {
        "id": "f0d9a0c4-6554-4f39-9a49-2876a39109f3"
      },
      "source": [
        "import random\n",
        "from time import perf_counter\n",
        "import numpy as np\n",
        "import pandas as pd"
      ],
      "id": "f0d9a0c4-6554-4f39-9a49-2876a39109f3",
      "execution_count": 11,
      "outputs": []
    },
    {
      "cell_type": "code",
      "metadata": {
        "id": "8bfb2bf2-398a-4706-9d2f-834a74d440a8"
      },
      "source": [
        "random.randint(0,999)\n",
        "random.randrange(0,999)\n",
        "t1 = perf_counter()\n",
        "t2 = perf_counter()\n",
        "elapsed = t2 - t1"
      ],
      "id": "8bfb2bf2-398a-4706-9d2f-834a74d440a8",
      "execution_count": 12,
      "outputs": []
    },
    {
      "cell_type": "code",
      "metadata": {
        "id": "638b02bd-16f1-4c97-8f87-a53e9586b1f3"
      },
      "source": [
        "# average case\n",
        "b1 = []\n",
        "i1 = []\n",
        "s1 = []\n",
        "m1 = []\n",
        "q1 = []\n",
        "c1 = []\n",
        "r1 = []"
      ],
      "id": "638b02bd-16f1-4c97-8f87-a53e9586b1f3",
      "execution_count": 13,
      "outputs": []
    },
    {
      "cell_type": "markdown",
      "metadata": {
        "id": "ac4d098a-6900-4819-8804-5879fb615671"
      },
      "source": [
        "- Bubble Sort\n",
        "    - Best  = sorted\n",
        "    - Worst = reverse-sorted\n",
        "- Insertion Sort\n",
        "    - Best  = sorted\n",
        "    - Worst = reverse-sorted\n",
        "- Selection Sort\n",
        "    - Best = Sorted\n",
        "    - Worst = First is largest and the rest is in order\n",
        "- Merge Sort\n",
        "    - Best = Sorted\n",
        "    - Worst = \n",
        "- Quick Sort =\n",
        "    - Best = When Partition process always picks the middle element as pivot\n",
        "    - Worst = When Partition process always picks greatest or smallest element as pivot\n",
        "        - When the N elements are already in ascending order\n",
        "- Counting Sort\n",
        "    - Best = when all elements are same\n",
        "    - Worst = when data is skewed and range is large\n",
        "- Radix Sort\n",
        "    - Best = All elements have the same number of digits\n",
        "    - Worst = Only one element which has significantly large number of digits"
      ],
      "id": "ac4d098a-6900-4819-8804-5879fb615671"
    },
    {
      "cell_type": "code",
      "metadata": {
        "id": "c372466d-4c10-412d-998c-90893f57bd03"
      },
      "source": [
        "length = [1, 10, 100, 1000, 10000, 100000]"
      ],
      "id": "c372466d-4c10-412d-998c-90893f57bd03",
      "execution_count": 14,
      "outputs": []
    },
    {
      "cell_type": "markdown",
      "metadata": {
        "id": "867cf8e5-f2a5-4832-a35f-7c0490780bf2"
      },
      "source": [
        "### Average Case"
      ],
      "id": "867cf8e5-f2a5-4832-a35f-7c0490780bf2"
    },
    {
      "cell_type": "markdown",
      "metadata": {
        "id": "ef278b11-bcb1-4b32-aed7-43b0c831fd0f"
      },
      "source": [
        "#### Radix"
      ],
      "id": "ef278b11-bcb1-4b32-aed7-43b0c831fd0f"
    },
    {
      "cell_type": "code",
      "metadata": {
        "id": "4651b399-5a3c-477f-beac-da0c48788561",
        "colab": {
          "base_uri": "https://localhost:8080/"
        },
        "outputId": "487d4e1a-4f8d-4d2a-b089-72bf222dcf0a"
      },
      "source": [
        "for i in length:\n",
        "    print(i)\n",
        "    a = [random.randint(0,999)] * i\n",
        "    t1 = perf_counter()\n",
        "    x = radix_sort(a,len(str(a[0])))\n",
        "    t2 = perf_counter()\n",
        "    elapsed = t2 - t1\n",
        "    r1.append(elapsed)"
      ],
      "id": "4651b399-5a3c-477f-beac-da0c48788561",
      "execution_count": 15,
      "outputs": [
        {
          "output_type": "stream",
          "name": "stdout",
          "text": [
            "1\n",
            "10\n",
            "100\n",
            "1000\n",
            "10000\n",
            "100000\n"
          ]
        }
      ]
    },
    {
      "cell_type": "code",
      "metadata": {
        "id": "66318a92-d103-4731-9902-b21019bca7aa"
      },
      "source": [
        "df = pd.DataFrame(list(zip(length,r1)),\n",
        "              columns=['Length','Radix'])"
      ],
      "id": "66318a92-d103-4731-9902-b21019bca7aa",
      "execution_count": 16,
      "outputs": []
    },
    {
      "cell_type": "code",
      "metadata": {
        "id": "2240df45-dde6-4908-ba14-6bd37ac7a8a3",
        "colab": {
          "base_uri": "https://localhost:8080/",
          "height": 260
        },
        "outputId": "bca784f9-5efe-4937-d81b-313163889768"
      },
      "source": [
        "df"
      ],
      "id": "2240df45-dde6-4908-ba14-6bd37ac7a8a3",
      "execution_count": 17,
      "outputs": [
        {
          "output_type": "execute_result",
          "data": {
            "text/html": [
              "<div>\n",
              "<style scoped>\n",
              "    .dataframe tbody tr th:only-of-type {\n",
              "        vertical-align: middle;\n",
              "    }\n",
              "\n",
              "    .dataframe tbody tr th {\n",
              "        vertical-align: top;\n",
              "    }\n",
              "\n",
              "    .dataframe thead th {\n",
              "        text-align: right;\n",
              "    }\n",
              "</style>\n",
              "<table border=\"1\" class=\"dataframe\">\n",
              "  <thead>\n",
              "    <tr style=\"text-align: right;\">\n",
              "      <th></th>\n",
              "      <th>Length</th>\n",
              "      <th>Radix</th>\n",
              "    </tr>\n",
              "  </thead>\n",
              "  <tbody>\n",
              "    <tr>\n",
              "      <th>0</th>\n",
              "      <td>1</td>\n",
              "      <td>0.000378</td>\n",
              "    </tr>\n",
              "    <tr>\n",
              "      <th>1</th>\n",
              "      <td>10</td>\n",
              "      <td>0.000118</td>\n",
              "    </tr>\n",
              "    <tr>\n",
              "      <th>2</th>\n",
              "      <td>100</td>\n",
              "      <td>0.001538</td>\n",
              "    </tr>\n",
              "    <tr>\n",
              "      <th>3</th>\n",
              "      <td>1000</td>\n",
              "      <td>0.008161</td>\n",
              "    </tr>\n",
              "    <tr>\n",
              "      <th>4</th>\n",
              "      <td>10000</td>\n",
              "      <td>0.056347</td>\n",
              "    </tr>\n",
              "    <tr>\n",
              "      <th>5</th>\n",
              "      <td>100000</td>\n",
              "      <td>0.561923</td>\n",
              "    </tr>\n",
              "  </tbody>\n",
              "</table>\n",
              "</div>"
            ],
            "text/plain": [
              "   Length     Radix\n",
              "0       1  0.000378\n",
              "1      10  0.000118\n",
              "2     100  0.001538\n",
              "3    1000  0.008161\n",
              "4   10000  0.056347\n",
              "5  100000  0.561923"
            ]
          },
          "metadata": {},
          "execution_count": 17
        }
      ]
    },
    {
      "cell_type": "code",
      "metadata": {
        "id": "d3adf154-2753-4455-b6b5-e8b40dbaa743"
      },
      "source": [
        "df.to_csv('best-r.csv')"
      ],
      "id": "d3adf154-2753-4455-b6b5-e8b40dbaa743",
      "execution_count": 18,
      "outputs": []
    },
    {
      "cell_type": "code",
      "metadata": {
        "id": "8zYmF1QyNMKY"
      },
      "source": [
        ""
      ],
      "id": "8zYmF1QyNMKY",
      "execution_count": 18,
      "outputs": []
    }
  ]
}