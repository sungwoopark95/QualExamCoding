{
  "nbformat": 4,
  "nbformat_minor": 5,
  "metadata": {
    "colab": {
      "name": "prob1_worst-merge.ipynb",
      "provenance": [],
      "collapsed_sections": []
    },
    "kernelspec": {
      "display_name": "Python 3",
      "language": "python",
      "name": "python3"
    },
    "language_info": {
      "codemirror_mode": {
        "name": "ipython",
        "version": 3
      },
      "file_extension": ".py",
      "mimetype": "text/x-python",
      "name": "python",
      "nbconvert_exporter": "python",
      "pygments_lexer": "ipython3",
      "version": "3.8.8"
    }
  },
  "cells": [
    {
      "cell_type": "code",
      "metadata": {
        "id": "a4999946-b0af-4a1b-bd72-4cbdbe2efec3"
      },
      "source": [
        "# I have copied the class code\n",
        "def bubble_sort(l):\n",
        "    def swap(i,j):\n",
        "        # first save the first element\n",
        "        t = l[i]\n",
        "        # save the second element to first \n",
        "        l[i] = l[j]\n",
        "        # save the first element to where the second element was\n",
        "        l[j] = t\n",
        "        return\n",
        "    n = len(l) - 1\n",
        "    for i in range(n,0,-1):\n",
        "        for j in range(i):\n",
        "            if (l[j] >= l[j+1]):\n",
        "                swap(j,j+1)\n",
        "    return l\n",
        "\n",
        "def insertion_sort(l):\n",
        "    n = len(l)\n",
        "    for j in range(1,n):\n",
        "        key = l[j]\n",
        "        i = j-1\n",
        "        while ((i>=0) and (key < l[i])):\n",
        "            l[i+1] = l[i]\n",
        "            i-=1\n",
        "        l[i+1] = key\n",
        "    return l\n",
        "\n",
        "def selection_sort(l):\n",
        "    def swap(i,j):\n",
        "        t=l[i]\n",
        "        l[i] = l[j]\n",
        "        l[j] = t\n",
        "        return\n",
        "    n = len(l)\n",
        "    for i in range(0, n-1):\n",
        "        s = i\n",
        "        swap_flag = False\n",
        "        for j in range(i+1, n):\n",
        "            if (l[s] >= l[j]):\n",
        "                s = j\n",
        "                swap_flag = True\n",
        "        swap(i,s) if swap_flag else None  \n",
        "        return l\n",
        "\n",
        "def merge_sort(left, right):\n",
        "    len_left, len_right = len(left), len(right)\n",
        "    i_left, i_right = 0,0\n",
        "    l=[]\n",
        "    while ((i_left < len_left) and (i_right < len_right)):\n",
        "        if (left[i_left] < right[i_right]):\n",
        "            l.append(left[i_left])\n",
        "            i_left +=1\n",
        "        else:\n",
        "            l.append(right[i_right])\n",
        "            i_right +=1\n",
        "    while (i_left < len_left):\n",
        "        l.append(left[i_left])\n",
        "        i_left +=1\n",
        "    while (i_right < len_right):\n",
        "        l.append(right[i_right])\n",
        "        i_right +=1\n",
        "    return l\n",
        "\n",
        "def partition(l, low, high):\n",
        "    def swap(i,j):\n",
        "        t = l[i]\n",
        "        l[i] = l[j]\n",
        "        l[j] = t\n",
        "        return\n",
        "    \n",
        "    p = l[low]\n",
        "    m = low\n",
        "    for j in range(low + 1, high + 1):\n",
        "        if (l[j] < p):\n",
        "            m+=1\n",
        "            swap(j,m)\n",
        "    swap(low, m)\n",
        "    return m\n",
        "\n",
        "def quick_sort(l):\n",
        "    def qs(l, low, high, n):\n",
        "        if (low < high):\n",
        "            pivot_idx = partition(l, low, high)\n",
        "            qs(l, low, pivot_idx - 1, n+1)\n",
        "            qs(l, pivot_idx + 1, high, n + 1)\n",
        "        return l\n",
        "    qs(l, 0 , len(l) - 1, 0)\n",
        "    return l\n",
        "\n",
        "\n",
        "def counting_sort(l,m):\n",
        "    c = [0] * (m + 1)\n",
        "    for i in l:\n",
        "        c[i] += 1\n",
        "    \n",
        "    for j in range(1, m + 1):\n",
        "        c[j] = c[j-1] + c[j]\n",
        "    \n",
        "    n = len(l)\n",
        "    t = [0] * n\n",
        "    for i in range(n-1,-1,-1):\n",
        "        j = l[i]\n",
        "        t[c[j] - 1] = j\n",
        "        c[j] = c[j] - 1\n",
        "    for i in range(0,n):\n",
        "        l[i] = t[i]\n",
        "    return l\n",
        "\n",
        "def convert(l):\n",
        "    new = []\n",
        "    for i in range(len(l)):\n",
        "        key = str(l[i])\n",
        "        while len(key) != 3:\n",
        "            key = '0' + key\n",
        "        new.append(key)\n",
        "    l = new.copy()\n",
        "    return l\n",
        "\n",
        "def radix_sort(l,d):\n",
        "    for r in range(0,d):\n",
        "        c = [0] * 10\n",
        "        m = d - r - 1\n",
        "        for i in l:\n",
        "            #key = int(str(i)[m])\n",
        "            # convert so that it will be all in format of three digit\n",
        "            keys = str(i)\n",
        "            while len(keys) != 3:\n",
        "                keys = '0' + keys\n",
        "            key = int(keys[m])\n",
        "            c[key] += 1\n",
        "        for j in range(1,10):\n",
        "            c[j] = c[j-1] + c[j]\n",
        "        n = len(l)\n",
        "        t = [0] * n\n",
        "        for i in range(n-1,-1,-1):\n",
        "            #key = int(str(l[i])[m])\n",
        "            # convert so that it will be all in format of three digit\n",
        "            keys = str(i)\n",
        "            while len(keys) != 3:\n",
        "                keys = '0' + keys\n",
        "            key = int(keys[m])\n",
        "            t[c[key] - 1] = l[i]\n",
        "            c[key] = c[key] - 1\n",
        "        for i in range(0,n):\n",
        "            l[i] = t[i]\n",
        "        return l"
      ],
      "id": "a4999946-b0af-4a1b-bd72-4cbdbe2efec3",
      "execution_count": 1,
      "outputs": []
    },
    {
      "cell_type": "code",
      "metadata": {
        "id": "f0d9a0c4-6554-4f39-9a49-2876a39109f3"
      },
      "source": [
        "import random\n",
        "from time import perf_counter\n",
        "import numpy as np\n",
        "import pandas as pd"
      ],
      "id": "f0d9a0c4-6554-4f39-9a49-2876a39109f3",
      "execution_count": 2,
      "outputs": []
    },
    {
      "cell_type": "code",
      "metadata": {
        "id": "8bfb2bf2-398a-4706-9d2f-834a74d440a8"
      },
      "source": [
        "random.randint(0,999)\n",
        "random.randrange(0,999)\n",
        "t1 = perf_counter()\n",
        "t2 = perf_counter()\n",
        "elapsed = t2 - t1"
      ],
      "id": "8bfb2bf2-398a-4706-9d2f-834a74d440a8",
      "execution_count": 3,
      "outputs": []
    },
    {
      "cell_type": "code",
      "metadata": {
        "id": "638b02bd-16f1-4c97-8f87-a53e9586b1f3"
      },
      "source": [
        "# worst case\n",
        "b1 = []\n",
        "i1 = []\n",
        "s1 = []\n",
        "m1 = []\n",
        "q1 = []\n",
        "c1 = []\n",
        "r1 = []"
      ],
      "id": "638b02bd-16f1-4c97-8f87-a53e9586b1f3",
      "execution_count": 4,
      "outputs": []
    },
    {
      "cell_type": "markdown",
      "metadata": {
        "id": "ac4d098a-6900-4819-8804-5879fb615671"
      },
      "source": [
        "- Bubble Sort\n",
        "    - Best  = sorted\n",
        "    - Worst = reverse-sorted\n",
        "- Insertion Sort\n",
        "    - Best  = sorted\n",
        "    - Worst = reverse-sorted\n",
        "- Selection Sort\n",
        "    - Best = Sorted\n",
        "    - Worst = First is largest and the rest is in order\n",
        "- Merge Sort\n",
        "    - Best = Sorted\n",
        "    - Worst = \n",
        "- Quick Sort =\n",
        "    - Best = When Partition process always picks the middle element as pivot\n",
        "    - Worst = When Partition process always picks greatest or smallest element as pivot\n",
        "        - When the N elements are already in ascending order\n",
        "- Counting Sort\n",
        "    - Best = when all elements are same\n",
        "    - Worst = when data is skewed and range is large\n",
        "- Radix Sort\n",
        "    - Best = All elements have the same number of digits\n",
        "    - Worst = Only one element which has significantly large number of digits"
      ],
      "id": "ac4d098a-6900-4819-8804-5879fb615671"
    },
    {
      "cell_type": "code",
      "metadata": {
        "id": "c372466d-4c10-412d-998c-90893f57bd03"
      },
      "source": [
        "length = [1, 10, 100, 1000, 10000, 100000]"
      ],
      "id": "c372466d-4c10-412d-998c-90893f57bd03",
      "execution_count": 5,
      "outputs": []
    },
    {
      "cell_type": "markdown",
      "metadata": {
        "id": "867cf8e5-f2a5-4832-a35f-7c0490780bf2"
      },
      "source": [
        "### Worst Case"
      ],
      "id": "867cf8e5-f2a5-4832-a35f-7c0490780bf2"
    },
    {
      "cell_type": "markdown",
      "metadata": {
        "id": "e25f2bb7-7f38-4f74-b3c0-ca88e9cba968"
      },
      "source": [
        "#### Merge\n",
        "- This happens when maximum number of comparison. This is case where the index will be divided by odd index and even index every time."
      ],
      "id": "e25f2bb7-7f38-4f74-b3c0-ca88e9cba968"
    },
    {
      "cell_type": "code",
      "metadata": {
        "id": "c9f5fb56-47eb-4289-b794-ef48387dc3d9"
      },
      "source": [
        "def mergeform(l):\n",
        "    if len(l) > 1:\n",
        "        # divide by odd index\n",
        "        left = l[::2]\n",
        "        # divide by even index\n",
        "        right = l[1::2]\n",
        "        # repeat until end\n",
        "        mergeform(left)\n",
        "        mergeform(right)\n",
        "        i = 0\n",
        "        j = 0\n",
        "        k = 0\n",
        "        # add all that is on left\n",
        "        while i < len(left):\n",
        "            l[k] = left[i]\n",
        "            i = i + 1\n",
        "            k = k + 1\n",
        "        # add all that is on right\n",
        "        while j <  len(right):\n",
        "            l[k] = right[j]\n",
        "            j = j + 1\n",
        "            k = k + 1\n",
        "    return l"
      ],
      "id": "c9f5fb56-47eb-4289-b794-ef48387dc3d9",
      "execution_count": 6,
      "outputs": []
    },
    {
      "cell_type": "code",
      "metadata": {
        "colab": {
          "base_uri": "https://localhost:8080/"
        },
        "id": "7514d0fa-c2aa-407c-8cab-36f230c881ef",
        "outputId": "61f36dd5-83e7-46a4-81c4-110f36a43ecf"
      },
      "source": [
        "for i in length:\n",
        "    print(i)\n",
        "    a = []\n",
        "    if i == 1:\n",
        "        left = [random.randint(0,999)]\n",
        "        right = []\n",
        "    else:\n",
        "        # create list of numbers\n",
        "        for j in range(i):\n",
        "            a.append(random.randint(0,999))\n",
        "        # Sort array of random integer\n",
        "        a.sort()\n",
        "        mergeform(a)\n",
        "        left = a[:(len(a)//2)]\n",
        "        right = a[(len(a)//2):]\n",
        "\n",
        "    t1 = perf_counter()\n",
        "    x = merge_sort(left, right)\n",
        "    t2 = perf_counter()\n",
        "    elapsed = t2 - t1\n",
        "    m1.append(elapsed)"
      ],
      "id": "7514d0fa-c2aa-407c-8cab-36f230c881ef",
      "execution_count": 7,
      "outputs": [
        {
          "output_type": "stream",
          "name": "stdout",
          "text": [
            "1\n",
            "10\n",
            "100\n",
            "1000\n",
            "10000\n",
            "100000\n"
          ]
        }
      ]
    },
    {
      "cell_type": "code",
      "metadata": {
        "id": "GAvNSaLrkvE9"
      },
      "source": [
        "df = pd.DataFrame(list(zip(length, m1)),\n",
        "              columns=['Length','Merge'])"
      ],
      "id": "GAvNSaLrkvE9",
      "execution_count": 8,
      "outputs": []
    },
    {
      "cell_type": "code",
      "metadata": {
        "id": "Dga_ASoBkvHb",
        "colab": {
          "base_uri": "https://localhost:8080/",
          "height": 260
        },
        "outputId": "32982b59-51a2-4fb4-f32c-9549a6b9652f"
      },
      "source": [
        "df"
      ],
      "id": "Dga_ASoBkvHb",
      "execution_count": 9,
      "outputs": [
        {
          "output_type": "execute_result",
          "data": {
            "text/html": [
              "<div>\n",
              "<style scoped>\n",
              "    .dataframe tbody tr th:only-of-type {\n",
              "        vertical-align: middle;\n",
              "    }\n",
              "\n",
              "    .dataframe tbody tr th {\n",
              "        vertical-align: top;\n",
              "    }\n",
              "\n",
              "    .dataframe thead th {\n",
              "        text-align: right;\n",
              "    }\n",
              "</style>\n",
              "<table border=\"1\" class=\"dataframe\">\n",
              "  <thead>\n",
              "    <tr style=\"text-align: right;\">\n",
              "      <th></th>\n",
              "      <th>Length</th>\n",
              "      <th>Merge</th>\n",
              "    </tr>\n",
              "  </thead>\n",
              "  <tbody>\n",
              "    <tr>\n",
              "      <th>0</th>\n",
              "      <td>1</td>\n",
              "      <td>0.000004</td>\n",
              "    </tr>\n",
              "    <tr>\n",
              "      <th>1</th>\n",
              "      <td>10</td>\n",
              "      <td>0.000008</td>\n",
              "    </tr>\n",
              "    <tr>\n",
              "      <th>2</th>\n",
              "      <td>100</td>\n",
              "      <td>0.000049</td>\n",
              "    </tr>\n",
              "    <tr>\n",
              "      <th>3</th>\n",
              "      <td>1000</td>\n",
              "      <td>0.000474</td>\n",
              "    </tr>\n",
              "    <tr>\n",
              "      <th>4</th>\n",
              "      <td>10000</td>\n",
              "      <td>0.004626</td>\n",
              "    </tr>\n",
              "    <tr>\n",
              "      <th>5</th>\n",
              "      <td>100000</td>\n",
              "      <td>0.046007</td>\n",
              "    </tr>\n",
              "  </tbody>\n",
              "</table>\n",
              "</div>"
            ],
            "text/plain": [
              "   Length     Merge\n",
              "0       1  0.000004\n",
              "1      10  0.000008\n",
              "2     100  0.000049\n",
              "3    1000  0.000474\n",
              "4   10000  0.004626\n",
              "5  100000  0.046007"
            ]
          },
          "metadata": {},
          "execution_count": 9
        }
      ]
    },
    {
      "cell_type": "code",
      "metadata": {
        "id": "YtK7Tf85kvKa"
      },
      "source": [
        "df.to_csv('worst-m.csv')"
      ],
      "id": "YtK7Tf85kvKa",
      "execution_count": 10,
      "outputs": []
    }
  ]
}