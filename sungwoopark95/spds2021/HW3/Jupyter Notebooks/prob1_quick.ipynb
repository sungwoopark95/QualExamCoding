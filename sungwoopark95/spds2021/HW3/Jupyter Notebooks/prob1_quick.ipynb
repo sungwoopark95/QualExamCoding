{
 "cells": [
  {
   "cell_type": "code",
   "execution_count": 1,
   "id": "520424cc-65a6-4f27-9328-8fad1e803c17",
   "metadata": {},
   "outputs": [],
   "source": [
    "def partition(l, low, high):\n",
    "    p = l[low]\n",
    "    small = []\n",
    "    large = []\n",
    "    \n",
    "    for i in l[low + 1:high + 1]:\n",
    "        if i < p:\n",
    "            small.append(i)\n",
    "        else:\n",
    "            large.append(i)\n",
    "    small.append(p) \n",
    "    \n",
    "    idx = low\n",
    "    for i in small:\n",
    "        l[idx] = i\n",
    "        idx += 1\n",
    "    for i in large:\n",
    "        l[idx] = i\n",
    "        idx += 1\n",
    "    \n",
    "    return (low + len(small) - 1)\n",
    "\n",
    "def quick_sort(l):\n",
    "    #Original class code\n",
    "    #def qs(l, low, high, n):\n",
    "    #    if (low < high):\n",
    "    #        pivot_idx = partition(l, low, high)\n",
    "    #        qs(l, low, pivot_idx - 1, n+1)\n",
    "    #        qs(l, pivot_idx + 1, high, n + 1)\n",
    "    #    return l\n",
    "    #qs(l, 0 , len(l) - 1, 0)\n",
    "    #return l\n",
    "    \n",
    "    # Due to recursive error, I have tried to increase the maximum recursion but if recursion exceeds 22000,\n",
    "    # kernel dies and because worst case for quick_sort require 100000 + 1, it was not possible.\n",
    "    # I have tried suggestion to 10^6, but both computer and Google Colab was not able to handle\n",
    "    # Second way to handle recursion was to change it to iterative version.\n",
    "    \n",
    "    # I will implement the version from this website and convert deque to version that does not use deque:\n",
    "    # https://www.techiedelight.com/iterative-implementation-of-quicksort/\n",
    "    \n",
    "    if (len(l) == 1):\n",
    "        return l\n",
    "    \n",
    "    else: \n",
    "        # get the starting and ending index of a given list => start = 0, end = len(a) - 1\n",
    "        start = 0\n",
    "        end = len(l) - 1\n",
    "        \n",
    "        # create a stack for storing sublist start and end index => stack = deque()\n",
    "        stack = [0] * len(l)\n",
    "        \n",
    "        # push the start and end index of the array into the stack =>  stack.append((start, end))\n",
    "        head = 0\n",
    "        stack[head] = start\n",
    "        head = head + 1\n",
    "        stack[head] = end\n",
    "\n",
    "        # loop till stack is empty => while stack:\n",
    "        while head >= 0:\n",
    "            # remove top pair from the list and get sublist starting and ending indices => start, end = stack.pop()\n",
    "            end = stack[head]\n",
    "            head = head - 1\n",
    "            \n",
    "            start = stack[head]\n",
    "            head = head - 1\n",
    "\n",
    "            # rearrange elements across pivot => pivot = partition(a, start, end) \n",
    "            p = partition(l, start, end)\n",
    "            \n",
    "            # push sublist indices containing elements that are less than the current pivot to stack\n",
    "                # => if pivot - 1 > start: stack.append((start, pivot - 1))\n",
    "            if p - 1 > start:\n",
    "                head = head + 1\n",
    "                stack[head] = start\n",
    "                head = head + 1\n",
    "                stack[head] = p - 1\n",
    "            \n",
    "            # push sublist indices containing elements that aremore than the current pivot to stack\n",
    "                # => if pivot + 1 < end: stack.append((pivot + 1, end))\n",
    "            if p + 1 < end:\n",
    "                head = head + 1\n",
    "                stack[head] = p + 1\n",
    "                head = head + 1\n",
    "                stack[head] = end\n",
    "    return l"
   ]
  },
  {
   "cell_type": "code",
   "execution_count": 2,
   "id": "1e0c8234-b796-4bcd-9ae1-4e0bed0edb7a",
   "metadata": {},
   "outputs": [],
   "source": [
    "import random\n",
    "from time import perf_counter\n",
    "import numpy as np\n",
    "import pandas as pd"
   ]
  },
  {
   "cell_type": "code",
   "execution_count": 3,
   "id": "8453a595-4adf-4531-b56a-df3f50d54ad6",
   "metadata": {},
   "outputs": [],
   "source": [
    "q1 = []\n",
    "q2 = []\n",
    "q3 = []\n",
    "q4 = []\n",
    "length = [1, 10, 100, 1000, 10000, 100000]"
   ]
  },
  {
   "cell_type": "code",
   "execution_count": 4,
   "id": "75a4915d-0263-4cea-8249-bf2dea1a1b1f",
   "metadata": {},
   "outputs": [],
   "source": [
    "def qs_generate(l, low, high):\n",
    "    if high - low <= 1:\n",
    "        return\n",
    "    middle = int(low + high)//2\n",
    "    qs_generate(l,low,middle)\n",
    "    qs_generate(l,middle+1,high)\n",
    "    \n",
    "    tmp = l[middle]\n",
    "    for i in range(middle - 1, low - 1, -1):\n",
    "        l[i + 1] = l[i]\n",
    "    l[low] = tmp"
   ]
  },
  {
   "cell_type": "code",
   "execution_count": 5,
   "id": "e031d849-30ca-4184-a13e-e6f0f1d50564",
   "metadata": {},
   "outputs": [
    {
     "name": "stdout",
     "output_type": "stream",
     "text": [
      "1\n",
      "10\n",
      "100\n",
      "1000\n",
      "10000\n",
      "100000\n"
     ]
    }
   ],
   "source": [
    "for i in length:\n",
    "    print(i)\n",
    "    a = []\n",
    "    for j in range(i):\n",
    "        a.append(random.randint(0,999))\n",
    "    qs_generate(a,0,len(a))\n",
    "    t1 = perf_counter()\n",
    "    x = quick_sort(a)\n",
    "    t2 = perf_counter()\n",
    "    elapsed = t2 - t1\n",
    "    q1.append(elapsed)"
   ]
  },
  {
   "cell_type": "code",
   "execution_count": 6,
   "id": "d6df0299-1bf7-4e79-8922-73242753c493",
   "metadata": {},
   "outputs": [
    {
     "name": "stdout",
     "output_type": "stream",
     "text": [
      "1\n",
      "10\n",
      "100\n",
      "1000\n",
      "10000\n",
      "100000\n"
     ]
    }
   ],
   "source": [
    "for i in length:\n",
    "    print(i)\n",
    "    average = []\n",
    "    for k in range(5):\n",
    "        a = []\n",
    "        # create list of numbers\n",
    "        for j in range(i):\n",
    "            a.append(random.randint(0,999))\n",
    "        t1 = perf_counter()\n",
    "        x = quick_sort(a)\n",
    "        t2 = perf_counter()\n",
    "        elapsed = t2 - t1\n",
    "        average.append(elapsed)\n",
    "    q2.append(np.mean(average))"
   ]
  },
  {
   "cell_type": "code",
   "execution_count": 7,
   "id": "c7ef4c7e-3ec9-49b3-99f9-cff32e591b4f",
   "metadata": {},
   "outputs": [
    {
     "name": "stdout",
     "output_type": "stream",
     "text": [
      "1\n",
      "10\n",
      "100\n",
      "1000\n",
      "10000\n",
      "100000\n"
     ]
    }
   ],
   "source": [
    "for i in length:\n",
    "    print(i)\n",
    "    a = []\n",
    "    #a = [random.randint(0,999)] * i\n",
    "    for j in range(i):\n",
    "        a.append(random.randint(0,999))\n",
    "    a.sort()\n",
    "    t1 = perf_counter()\n",
    "    x = quick_sort(a)\n",
    "    #print(x)\n",
    "    t2 = perf_counter()\n",
    "    elapsed = t2 - t1\n",
    "    q3.append(elapsed)"
   ]
  },
  {
   "cell_type": "code",
   "execution_count": 8,
   "id": "a7486a63-faf8-41a7-8718-73af46b4cf90",
   "metadata": {},
   "outputs": [],
   "source": [
    "df = pd.DataFrame(list(zip(length,q1)),\n",
    "              columns=['Length','Quick'])"
   ]
  },
  {
   "cell_type": "code",
   "execution_count": 9,
   "id": "1309af2a-d11a-4d70-9366-bc7dc215325f",
   "metadata": {},
   "outputs": [
    {
     "data": {
      "text/html": [
       "<div>\n",
       "<style scoped>\n",
       "    .dataframe tbody tr th:only-of-type {\n",
       "        vertical-align: middle;\n",
       "    }\n",
       "\n",
       "    .dataframe tbody tr th {\n",
       "        vertical-align: top;\n",
       "    }\n",
       "\n",
       "    .dataframe thead th {\n",
       "        text-align: right;\n",
       "    }\n",
       "</style>\n",
       "<table border=\"1\" class=\"dataframe\">\n",
       "  <thead>\n",
       "    <tr style=\"text-align: right;\">\n",
       "      <th></th>\n",
       "      <th>Length</th>\n",
       "      <th>Quick</th>\n",
       "    </tr>\n",
       "  </thead>\n",
       "  <tbody>\n",
       "    <tr>\n",
       "      <th>0</th>\n",
       "      <td>1</td>\n",
       "      <td>0.000004</td>\n",
       "    </tr>\n",
       "    <tr>\n",
       "      <th>1</th>\n",
       "      <td>10</td>\n",
       "      <td>0.000016</td>\n",
       "    </tr>\n",
       "    <tr>\n",
       "      <th>2</th>\n",
       "      <td>100</td>\n",
       "      <td>0.000179</td>\n",
       "    </tr>\n",
       "    <tr>\n",
       "      <th>3</th>\n",
       "      <td>1000</td>\n",
       "      <td>0.002584</td>\n",
       "    </tr>\n",
       "    <tr>\n",
       "      <th>4</th>\n",
       "      <td>10000</td>\n",
       "      <td>0.036026</td>\n",
       "    </tr>\n",
       "    <tr>\n",
       "      <th>5</th>\n",
       "      <td>100000</td>\n",
       "      <td>0.957670</td>\n",
       "    </tr>\n",
       "  </tbody>\n",
       "</table>\n",
       "</div>"
      ],
      "text/plain": [
       "   Length     Quick\n",
       "0       1  0.000004\n",
       "1      10  0.000016\n",
       "2     100  0.000179\n",
       "3    1000  0.002584\n",
       "4   10000  0.036026\n",
       "5  100000  0.957670"
      ]
     },
     "execution_count": 9,
     "metadata": {},
     "output_type": "execute_result"
    }
   ],
   "source": [
    "df"
   ]
  },
  {
   "cell_type": "code",
   "execution_count": 10,
   "id": "60d10388-91cd-41cb-952d-bfeee238217b",
   "metadata": {},
   "outputs": [],
   "source": [
    "df2 = pd.DataFrame(list(zip(length,q2)),\n",
    "              columns=['Length','Quick'])"
   ]
  },
  {
   "cell_type": "code",
   "execution_count": 11,
   "id": "ef32f581-9dc7-4027-9f38-dcd7fe2b74da",
   "metadata": {},
   "outputs": [
    {
     "data": {
      "text/html": [
       "<div>\n",
       "<style scoped>\n",
       "    .dataframe tbody tr th:only-of-type {\n",
       "        vertical-align: middle;\n",
       "    }\n",
       "\n",
       "    .dataframe tbody tr th {\n",
       "        vertical-align: top;\n",
       "    }\n",
       "\n",
       "    .dataframe thead th {\n",
       "        text-align: right;\n",
       "    }\n",
       "</style>\n",
       "<table border=\"1\" class=\"dataframe\">\n",
       "  <thead>\n",
       "    <tr style=\"text-align: right;\">\n",
       "      <th></th>\n",
       "      <th>Length</th>\n",
       "      <th>Quick</th>\n",
       "    </tr>\n",
       "  </thead>\n",
       "  <tbody>\n",
       "    <tr>\n",
       "      <th>0</th>\n",
       "      <td>1</td>\n",
       "      <td>0.000347</td>\n",
       "    </tr>\n",
       "    <tr>\n",
       "      <th>1</th>\n",
       "      <td>10</td>\n",
       "      <td>0.000016</td>\n",
       "    </tr>\n",
       "    <tr>\n",
       "      <th>2</th>\n",
       "      <td>100</td>\n",
       "      <td>0.000160</td>\n",
       "    </tr>\n",
       "    <tr>\n",
       "      <th>3</th>\n",
       "      <td>1000</td>\n",
       "      <td>0.002505</td>\n",
       "    </tr>\n",
       "    <tr>\n",
       "      <th>4</th>\n",
       "      <td>10000</td>\n",
       "      <td>0.034461</td>\n",
       "    </tr>\n",
       "    <tr>\n",
       "      <th>5</th>\n",
       "      <td>100000</td>\n",
       "      <td>0.959106</td>\n",
       "    </tr>\n",
       "  </tbody>\n",
       "</table>\n",
       "</div>"
      ],
      "text/plain": [
       "   Length     Quick\n",
       "0       1  0.000347\n",
       "1      10  0.000016\n",
       "2     100  0.000160\n",
       "3    1000  0.002505\n",
       "4   10000  0.034461\n",
       "5  100000  0.959106"
      ]
     },
     "execution_count": 11,
     "metadata": {},
     "output_type": "execute_result"
    }
   ],
   "source": [
    "df2"
   ]
  },
  {
   "cell_type": "code",
   "execution_count": 12,
   "id": "0994d96e-4e14-4bf1-9158-4370f4c3a120",
   "metadata": {},
   "outputs": [],
   "source": [
    "df3 = pd.DataFrame(list(zip(length,q3)),\n",
    "              columns=['Length','Quick'])"
   ]
  },
  {
   "cell_type": "code",
   "execution_count": 13,
   "id": "f7812367-6669-4b89-aed3-15a5405bffe0",
   "metadata": {},
   "outputs": [
    {
     "data": {
      "text/html": [
       "<div>\n",
       "<style scoped>\n",
       "    .dataframe tbody tr th:only-of-type {\n",
       "        vertical-align: middle;\n",
       "    }\n",
       "\n",
       "    .dataframe tbody tr th {\n",
       "        vertical-align: top;\n",
       "    }\n",
       "\n",
       "    .dataframe thead th {\n",
       "        text-align: right;\n",
       "    }\n",
       "</style>\n",
       "<table border=\"1\" class=\"dataframe\">\n",
       "  <thead>\n",
       "    <tr style=\"text-align: right;\">\n",
       "      <th></th>\n",
       "      <th>Length</th>\n",
       "      <th>Quick</th>\n",
       "    </tr>\n",
       "  </thead>\n",
       "  <tbody>\n",
       "    <tr>\n",
       "      <th>0</th>\n",
       "      <td>1</td>\n",
       "      <td>0.001654</td>\n",
       "    </tr>\n",
       "    <tr>\n",
       "      <th>1</th>\n",
       "      <td>10</td>\n",
       "      <td>0.000023</td>\n",
       "    </tr>\n",
       "    <tr>\n",
       "      <th>2</th>\n",
       "      <td>100</td>\n",
       "      <td>0.000917</td>\n",
       "    </tr>\n",
       "    <tr>\n",
       "      <th>3</th>\n",
       "      <td>1000</td>\n",
       "      <td>0.076988</td>\n",
       "    </tr>\n",
       "    <tr>\n",
       "      <th>4</th>\n",
       "      <td>10000</td>\n",
       "      <td>6.824605</td>\n",
       "    </tr>\n",
       "    <tr>\n",
       "      <th>5</th>\n",
       "      <td>100000</td>\n",
       "      <td>712.347430</td>\n",
       "    </tr>\n",
       "  </tbody>\n",
       "</table>\n",
       "</div>"
      ],
      "text/plain": [
       "   Length       Quick\n",
       "0       1    0.001654\n",
       "1      10    0.000023\n",
       "2     100    0.000917\n",
       "3    1000    0.076988\n",
       "4   10000    6.824605\n",
       "5  100000  712.347430"
      ]
     },
     "execution_count": 13,
     "metadata": {},
     "output_type": "execute_result"
    }
   ],
   "source": [
    "df3"
   ]
  },
  {
   "cell_type": "code",
   "execution_count": 14,
   "id": "adc68480-fa58-4f2b-9116-47ad7799036a",
   "metadata": {},
   "outputs": [],
   "source": [
    "df.to_csv('best-q.csv')\n",
    "df2.to_csv('average-q.csv')\n",
    "df3.to_csv('worst-q.csv')"
   ]
  }
 ],
 "metadata": {
  "kernelspec": {
   "display_name": "Python 3",
   "language": "python",
   "name": "python3"
  },
  "language_info": {
   "codemirror_mode": {
    "name": "ipython",
    "version": 3
   },
   "file_extension": ".py",
   "mimetype": "text/x-python",
   "name": "python",
   "nbconvert_exporter": "python",
   "pygments_lexer": "ipython3",
   "version": "3.8.8"
  }
 },
 "nbformat": 4,
 "nbformat_minor": 5
}
